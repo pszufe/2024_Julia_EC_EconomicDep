{
 "cells": [
  {
   "cell_type": "code",
   "execution_count": 2,
   "metadata": {},
   "outputs": [
    {
     "data": {
      "text/plain": [
       "4×3 Matrix{Float64}:\n",
       " 0.455238  0.0296477  0.0869468\n",
       " 0.547642  0.746943   0.351491\n",
       " 0.773354  0.746801   0.193291\n",
       " 0.940585  0.97667    0.116989"
      ]
     },
     "execution_count": 2,
     "metadata": {},
     "output_type": "execute_result"
    }
   ],
   "source": [
    "using Random\n",
    "Random.seed!(0);\n",
    "using StatsBase\n",
    "a = rand(4,3)\n"
   ]
  },
  {
   "cell_type": "code",
   "execution_count": 3,
   "metadata": {},
   "outputs": [
    {
     "name": "stdout",
     "output_type": "stream",
     "text": [
      "C:\\Users\\pszuf\\AppData\\Local\\Temp\\jl_sn4hyNGxS3\n"
     ]
    }
   ],
   "source": [
    "file_name = tempname()\n",
    "println(file_name)"
   ]
  },
  {
   "cell_type": "code",
   "execution_count": 4,
   "metadata": {},
   "outputs": [],
   "source": [
    "using DelimitedFiles\n",
    "writedlm(file_name, a)"
   ]
  },
  {
   "cell_type": "code",
   "execution_count": 5,
   "metadata": {},
   "outputs": [
    {
     "name": "stderr",
     "output_type": "stream",
     "text": [
      "Line 1 : \n"
     ]
    },
    {
     "name": "stdout",
     "output_type": "stream",
     "text": [
      "0.4552384158732863\t0.02964765308691042\t0.08694684883050086\n"
     ]
    },
    {
     "name": "stderr",
     "output_type": "stream",
     "text": [
      "Line 2 : \n"
     ]
    },
    {
     "name": "stdout",
     "output_type": "stream",
     "text": [
      "0.5476424498276177\t0.74694291453392\t0.35149138733595564\n"
     ]
    },
    {
     "name": "stderr",
     "output_type": "stream",
     "text": [
      "Line 3 : "
     ]
    },
    {
     "name": "stdout",
     "output_type": "stream",
     "text": [
      "0.7733535276924052\t0.7468008914093891\t0.1932909538733718\n"
     ]
    },
    {
     "name": "stderr",
     "output_type": "stream",
     "text": [
      "\n",
      "Line 4 : \n"
     ]
    },
    {
     "name": "stdout",
     "output_type": "stream",
     "text": [
      "0.9405848223512736\t0.9766699015845924\t0.11698905483599475\n"
     ]
    }
   ],
   "source": [
    "open(file_name,\"r\") do f\n",
    "    line_no = 0\n",
    "    while !eof(f)\n",
    "        line_no += 1\n",
    "        println(stderr, \"Line $line_no : \" )\n",
    "        flush(stderr)\n",
    "        println(readline(f))\n",
    "        flush(stdout)\n",
    "    end\n",
    "end"
   ]
  },
  {
   "cell_type": "code",
   "execution_count": 6,
   "metadata": {},
   "outputs": [
    {
     "data": {
      "text/plain": [
       "4×3 Matrix{Float64}:\n",
       " 0.455238  0.0296477  0.0869468\n",
       " 0.547642  0.746943   0.351491\n",
       " 0.773354  0.746801   0.193291\n",
       " 0.940585  0.97667    0.116989"
      ]
     },
     "execution_count": 6,
     "metadata": {},
     "output_type": "execute_result"
    }
   ],
   "source": [
    "b = readdlm(file_name)"
   ]
  },
  {
   "cell_type": "code",
   "execution_count": 7,
   "metadata": {},
   "outputs": [
    {
     "data": {
      "text/plain": [
       "true"
      ]
     },
     "execution_count": 7,
     "metadata": {},
     "output_type": "execute_result"
    }
   ],
   "source": [
    "a == b"
   ]
  },
  {
   "cell_type": "code",
   "execution_count": 8,
   "metadata": {},
   "outputs": [],
   "source": [
    "dat=\"\"\"col1\\tcol2\\tcol3\\tdate1\n",
    "1\\t2.3\\tabc\\t2021-11-17 12:33:12\n",
    "10\\t4.3\\tdef\\t2021-11-18 14:56:42\n",
    "20\\t5.3\\tsgh123\\t2021-11-19 17:23:52\"\"\"\n",
    "file_name = raw\".\\plik.csv\"\n",
    "open(file_name,\"w\") do f \n",
    "    println(f, dat) \n",
    "end"
   ]
  },
  {
   "cell_type": "code",
   "execution_count": 9,
   "metadata": {},
   "outputs": [
    {
     "name": "stdout",
     "output_type": "stream",
     "text": [
      "col1    col2    col3    date1\n",
      "1       2.3     abc     2021-11-17 12:33:12\n",
      "10      4.3     def     2021-11-18 14:56:42\n",
      "20      5.3     sgh123  2021-11-19 17:23:52\n"
     ]
    }
   ],
   "source": [
    ";more $file_name"
   ]
  },
  {
   "cell_type": "code",
   "execution_count": 16,
   "metadata": {},
   "outputs": [
    {
     "data": {
      "text/html": [
       "<div><div style = \"float: left;\"><span>3×4 DataFrame</span></div><div style = \"clear: both;\"></div></div><div class = \"data-frame\" style = \"overflow-x: scroll;\"><table class = \"data-frame\" style = \"margin-bottom: 6px;\"><thead><tr class = \"header\"><th class = \"rowNumber\" style = \"font-weight: bold; text-align: right;\">Row</th><th style = \"text-align: left;\">col1</th><th style = \"text-align: left;\">col2</th><th style = \"text-align: left;\">col3</th><th style = \"text-align: left;\">date1</th></tr><tr class = \"subheader headerLastRow\"><th class = \"rowNumber\" style = \"font-weight: bold; text-align: right;\"></th><th title = \"Int64\" style = \"text-align: left;\">Int64</th><th title = \"Float64\" style = \"text-align: left;\">Float64</th><th title = \"String7\" style = \"text-align: left;\">String7</th><th title = \"DateTime\" style = \"text-align: left;\">DateTime</th></tr></thead><tbody><tr><td class = \"rowNumber\" style = \"font-weight: bold; text-align: right;\">1</td><td style = \"text-align: right;\">1</td><td style = \"text-align: right;\">2.3</td><td style = \"text-align: left;\">abc</td><td style = \"text-align: left;\">2021-11-17T12:33:12</td></tr><tr><td class = \"rowNumber\" style = \"font-weight: bold; text-align: right;\">2</td><td style = \"text-align: right;\">10</td><td style = \"text-align: right;\">4.3</td><td style = \"text-align: left;\">def</td><td style = \"text-align: left;\">2021-11-18T14:56:42</td></tr><tr><td class = \"rowNumber\" style = \"font-weight: bold; text-align: right;\">3</td><td style = \"text-align: right;\">20</td><td style = \"text-align: right;\">5.3</td><td style = \"text-align: left;\">sgh123</td><td style = \"text-align: left;\">2021-11-19T17:23:52</td></tr></tbody></table></div>"
      ],
      "text/latex": [
       "\\begin{tabular}{r|cccc}\n",
       "\t& col1 & col2 & col3 & date1\\\\\n",
       "\t\\hline\n",
       "\t& Int64 & Float64 & String7 & DateTime\\\\\n",
       "\t\\hline\n",
       "\t1 & 1 & 2.3 & abc & 2021-11-17T12:33:12 \\\\\n",
       "\t2 & 10 & 4.3 & def & 2021-11-18T14:56:42 \\\\\n",
       "\t3 & 20 & 5.3 & sgh123 & 2021-11-19T17:23:52 \\\\\n",
       "\\end{tabular}\n"
      ],
      "text/plain": [
       "\u001b[1m3×4 DataFrame\u001b[0m\n",
       "\u001b[1m Row \u001b[0m│\u001b[1m col1  \u001b[0m\u001b[1m col2    \u001b[0m\u001b[1m col3    \u001b[0m\u001b[1m date1               \u001b[0m\n",
       "     │\u001b[90m Int64 \u001b[0m\u001b[90m Float64 \u001b[0m\u001b[90m String7 \u001b[0m\u001b[90m DateTime            \u001b[0m\n",
       "─────┼──────────────────────────────────────────────\n",
       "   1 │     1      2.3  abc      2021-11-17T12:33:12\n",
       "   2 │    10      4.3  def      2021-11-18T14:56:42\n",
       "   3 │    20      5.3  sgh123   2021-11-19T17:23:52"
      ]
     },
     "execution_count": 16,
     "metadata": {},
     "output_type": "execute_result"
    }
   ],
   "source": [
    "using CSV, DataFrames, Dates\n",
    "df = CSV.read(file_name, DataFrame;\n",
    "              dateformat=\"y-m-d H:M:S\", types = Dict(:date1 => DateTime))"
   ]
  },
  {
   "cell_type": "code",
   "execution_count": 17,
   "metadata": {},
   "outputs": [
    {
     "data": {
      "text/plain": [
       "2021-11-17T12:33:12"
      ]
     },
     "execution_count": 17,
     "metadata": {},
     "output_type": "execute_result"
    }
   ],
   "source": [
    "df.date1[1]"
   ]
  },
  {
   "cell_type": "code",
   "execution_count": 18,
   "metadata": {
    "scrolled": true
   },
   "outputs": [
    {
     "data": {
      "text/html": [
       "<div><div style = \"float: left;\"><span>3×6 DataFrame</span></div><div style = \"clear: both;\"></div></div><div class = \"data-frame\" style = \"overflow-x: scroll;\"><table class = \"data-frame\" style = \"margin-bottom: 6px;\"><thead><tr class = \"header\"><th class = \"rowNumber\" style = \"font-weight: bold; text-align: right;\">Row</th><th style = \"text-align: left;\">col1</th><th style = \"text-align: left;\">col2</th><th style = \"text-align: left;\">col3</th><th style = \"text-align: left;\">date1</th><th style = \"text-align: left;\">year</th><th style = \"text-align: left;\">day</th></tr><tr class = \"subheader headerLastRow\"><th class = \"rowNumber\" style = \"font-weight: bold; text-align: right;\"></th><th title = \"Int64\" style = \"text-align: left;\">Int64</th><th title = \"Float64\" style = \"text-align: left;\">Float64</th><th title = \"String7\" style = \"text-align: left;\">String7</th><th title = \"DateTime\" style = \"text-align: left;\">DateTime</th><th title = \"Int64\" style = \"text-align: left;\">Int64</th><th title = \"Int64\" style = \"text-align: left;\">Int64</th></tr></thead><tbody><tr><td class = \"rowNumber\" style = \"font-weight: bold; text-align: right;\">1</td><td style = \"text-align: right;\">1</td><td style = \"text-align: right;\">2.3</td><td style = \"text-align: left;\">abc</td><td style = \"text-align: left;\">2021-11-17T12:33:12</td><td style = \"text-align: right;\">2021</td><td style = \"text-align: right;\">17</td></tr><tr><td class = \"rowNumber\" style = \"font-weight: bold; text-align: right;\">2</td><td style = \"text-align: right;\">10</td><td style = \"text-align: right;\">4.3</td><td style = \"text-align: left;\">def</td><td style = \"text-align: left;\">2021-11-18T14:56:42</td><td style = \"text-align: right;\">2021</td><td style = \"text-align: right;\">18</td></tr><tr><td class = \"rowNumber\" style = \"font-weight: bold; text-align: right;\">3</td><td style = \"text-align: right;\">20</td><td style = \"text-align: right;\">5.3</td><td style = \"text-align: left;\">sgh123</td><td style = \"text-align: left;\">2021-11-19T17:23:52</td><td style = \"text-align: right;\">2021</td><td style = \"text-align: right;\">19</td></tr></tbody></table></div>"
      ],
      "text/latex": [
       "\\begin{tabular}{r|cccccc}\n",
       "\t& col1 & col2 & col3 & date1 & year & day\\\\\n",
       "\t\\hline\n",
       "\t& Int64 & Float64 & String7 & DateTime & Int64 & Int64\\\\\n",
       "\t\\hline\n",
       "\t1 & 1 & 2.3 & abc & 2021-11-17T12:33:12 & 2021 & 17 \\\\\n",
       "\t2 & 10 & 4.3 & def & 2021-11-18T14:56:42 & 2021 & 18 \\\\\n",
       "\t3 & 20 & 5.3 & sgh123 & 2021-11-19T17:23:52 & 2021 & 19 \\\\\n",
       "\\end{tabular}\n"
      ],
      "text/plain": [
       "\u001b[1m3×6 DataFrame\u001b[0m\n",
       "\u001b[1m Row \u001b[0m│\u001b[1m col1  \u001b[0m\u001b[1m col2    \u001b[0m\u001b[1m col3    \u001b[0m\u001b[1m date1               \u001b[0m\u001b[1m year  \u001b[0m\u001b[1m day   \u001b[0m\n",
       "     │\u001b[90m Int64 \u001b[0m\u001b[90m Float64 \u001b[0m\u001b[90m String7 \u001b[0m\u001b[90m DateTime            \u001b[0m\u001b[90m Int64 \u001b[0m\u001b[90m Int64 \u001b[0m\n",
       "─────┼────────────────────────────────────────────────────────────\n",
       "   1 │     1      2.3  abc      2021-11-17T12:33:12   2021     17\n",
       "   2 │    10      4.3  def      2021-11-18T14:56:42   2021     18\n",
       "   3 │    20      5.3  sgh123   2021-11-19T17:23:52   2021     19"
      ]
     },
     "execution_count": 18,
     "metadata": {},
     "output_type": "execute_result"
    }
   ],
   "source": [
    "df.year = year.(df.date1)\n",
    "df.day = day.(df.date1)\n",
    "df"
   ]
  },
  {
   "cell_type": "code",
   "execution_count": 19,
   "metadata": {},
   "outputs": [
    {
     "data": {
      "text/plain": [
       "3×3 Matrix{Float64}:\n",
       " 0.683095  0.634036  0.343517\n",
       " 0.677622  0.559584  0.42614\n",
       " 0.645642  0.567556  0.369178"
      ]
     },
     "execution_count": 19,
     "metadata": {},
     "output_type": "execute_result"
    }
   ],
   "source": [
    "a = rand(3,3)"
   ]
  },
  {
   "cell_type": "code",
   "execution_count": 20,
   "metadata": {},
   "outputs": [
    {
     "data": {
      "text/html": [
       "<div><div style = \"float: left;\"><span>3×5 DataFrame</span></div><div style = \"clear: both;\"></div></div><div class = \"data-frame\" style = \"overflow-x: scroll;\"><table class = \"data-frame\" style = \"margin-bottom: 6px;\"><thead><tr class = \"header\"><th class = \"rowNumber\" style = \"font-weight: bold; text-align: right;\">Row</th><th style = \"text-align: left;\">col1</th><th style = \"text-align: left;\">col2</th><th style = \"text-align: left;\">date1</th><th style = \"text-align: left;\">year</th><th style = \"text-align: left;\">day</th></tr><tr class = \"subheader headerLastRow\"><th class = \"rowNumber\" style = \"font-weight: bold; text-align: right;\"></th><th title = \"Int64\" style = \"text-align: left;\">Int64</th><th title = \"Float64\" style = \"text-align: left;\">Float64</th><th title = \"DateTime\" style = \"text-align: left;\">DateTime</th><th title = \"Int64\" style = \"text-align: left;\">Int64</th><th title = \"Int64\" style = \"text-align: left;\">Int64</th></tr></thead><tbody><tr><td class = \"rowNumber\" style = \"font-weight: bold; text-align: right;\">1</td><td style = \"text-align: right;\">1</td><td style = \"text-align: right;\">2.3</td><td style = \"text-align: left;\">2021-11-17T12:33:12</td><td style = \"text-align: right;\">2021</td><td style = \"text-align: right;\">17</td></tr><tr><td class = \"rowNumber\" style = \"font-weight: bold; text-align: right;\">2</td><td style = \"text-align: right;\">10</td><td style = \"text-align: right;\">4.3</td><td style = \"text-align: left;\">2021-11-18T14:56:42</td><td style = \"text-align: right;\">2021</td><td style = \"text-align: right;\">18</td></tr><tr><td class = \"rowNumber\" style = \"font-weight: bold; text-align: right;\">3</td><td style = \"text-align: right;\">20</td><td style = \"text-align: right;\">5.3</td><td style = \"text-align: left;\">2021-11-19T17:23:52</td><td style = \"text-align: right;\">2021</td><td style = \"text-align: right;\">19</td></tr></tbody></table></div>"
      ],
      "text/latex": [
       "\\begin{tabular}{r|ccccc}\n",
       "\t& col1 & col2 & date1 & year & day\\\\\n",
       "\t\\hline\n",
       "\t& Int64 & Float64 & DateTime & Int64 & Int64\\\\\n",
       "\t\\hline\n",
       "\t1 & 1 & 2.3 & 2021-11-17T12:33:12 & 2021 & 17 \\\\\n",
       "\t2 & 10 & 4.3 & 2021-11-18T14:56:42 & 2021 & 18 \\\\\n",
       "\t3 & 20 & 5.3 & 2021-11-19T17:23:52 & 2021 & 19 \\\\\n",
       "\\end{tabular}\n"
      ],
      "text/plain": [
       "\u001b[1m3×5 DataFrame\u001b[0m\n",
       "\u001b[1m Row \u001b[0m│\u001b[1m col1  \u001b[0m\u001b[1m col2    \u001b[0m\u001b[1m date1               \u001b[0m\u001b[1m year  \u001b[0m\u001b[1m day   \u001b[0m\n",
       "     │\u001b[90m Int64 \u001b[0m\u001b[90m Float64 \u001b[0m\u001b[90m DateTime            \u001b[0m\u001b[90m Int64 \u001b[0m\u001b[90m Int64 \u001b[0m\n",
       "─────┼───────────────────────────────────────────────────\n",
       "   1 │     1      2.3  2021-11-17T12:33:12   2021     17\n",
       "   2 │    10      4.3  2021-11-18T14:56:42   2021     18\n",
       "   3 │    20      5.3  2021-11-19T17:23:52   2021     19"
      ]
     },
     "execution_count": 20,
     "metadata": {},
     "output_type": "execute_result"
    }
   ],
   "source": [
    "df[:, Not(:col3)]"
   ]
  },
  {
   "cell_type": "code",
   "execution_count": 21,
   "metadata": {},
   "outputs": [
    {
     "name": "stdout",
     "output_type": "stream",
     "text": [
      "Current folder : C:\\AAABIBLIOTEKA\\EuropeanCommission\\2024_Julia_EC_EconomicDep\\2_Working_with_Data_Sources\n"
     ]
    }
   ],
   "source": [
    "using XLSX\n",
    "println(\"Current folder : \",pwd())"
   ]
  },
  {
   "cell_type": "code",
   "execution_count": 23,
   "metadata": {},
   "outputs": [
    {
     "data": {
      "text/plain": [
       "3×3 Matrix{Int64}:\n",
       " 1  4  7\n",
       " 2  5  8\n",
       " 3  6  9"
      ]
     },
     "execution_count": 23,
     "metadata": {},
     "output_type": "execute_result"
    }
   ],
   "source": [
    "XLSX.openxlsx(joinpath(pwd(),\"my_new_file.xlsx\"), mode=\"w\") do xf\n",
    "    sheet = xf[1]\n",
    "    XLSX.rename!(sheet, \"Spreadsheet name\")\n",
    "    sheet[\"A1\"] = \"this\"\n",
    "    sheet[\"A2\"] = \"is a\"\n",
    "    sheet[\"A3\"] = \"new file\"\n",
    "    sheet[\"A4\"] = 100\n",
    "\n",
    "    sheet[\"A7\"] = collect(1:5)   #slide to right\n",
    "    sheet[\"A8\", dim=2] = collect(1:4) # slide to right\n",
    "\n",
    "    \n",
    "    sheet[\"C1\", dim=1] = collect(1:4) # slide downwards\n",
    "\n",
    "    sheet[\"E3:G5\"] = collect(reshape(1:9,(3,3)))\n",
    "    \n",
    "end"
   ]
  },
  {
   "cell_type": "code",
   "execution_count": 24,
   "metadata": {},
   "outputs": [
    {
     "data": {
      "text/plain": [
       "XLSXFile(\"C:\\AAABIBLIOTEKA\\EuropeanCommission\\2024_Julia_EC_EconomicDep\\2_Working_with_Data_Sources\\my_new_file.xlsx\") containing 1 Worksheet\n",
       "            sheetname size          range        \n",
       "-------------------------------------------------\n",
       "     Spreadsheet name 8x7           A1:G8        \n"
      ]
     },
     "execution_count": 24,
     "metadata": {},
     "output_type": "execute_result"
    }
   ],
   "source": [
    "import XLSX\n",
    "\n",
    "xf = XLSX.readxlsx(joinpath(pwd(),\"my_new_file.xlsx\"))"
   ]
  },
  {
   "cell_type": "code",
   "execution_count": 25,
   "metadata": {},
   "outputs": [
    {
     "data": {
      "text/plain": [
       "1-element Vector{String}:\n",
       " \"Spreadsheet name\""
      ]
     },
     "execution_count": 25,
     "metadata": {},
     "output_type": "execute_result"
    }
   ],
   "source": [
    "XLSX.sheetnames(xf)"
   ]
  },
  {
   "cell_type": "code",
   "execution_count": 26,
   "metadata": {},
   "outputs": [
    {
     "data": {
      "text/plain": [
       "8×7 XLSX.Worksheet: [\"Spreadsheet name\"](A1:G8) "
      ]
     },
     "execution_count": 26,
     "metadata": {},
     "output_type": "execute_result"
    }
   ],
   "source": [
    "sh = xf[XLSX.sheetnames(xf)[1]] # get a reference to a Worksheet"
   ]
  },
  {
   "cell_type": "code",
   "execution_count": 28,
   "metadata": {},
   "outputs": [
    {
     "data": {
      "text/plain": [
       "((1, 1), (8, 7))"
      ]
     },
     "execution_count": 28,
     "metadata": {},
     "output_type": "execute_result"
    }
   ],
   "source": [
    "dim = XLSX.get_dimension(sh)\n",
    "start = (dim.start.row_number, dim.start.column_number)\n",
    "end_ = (dim.stop.row_number, dim.stop.column_number)\n",
    "start, end_"
   ]
  },
  {
   "cell_type": "code",
   "execution_count": 29,
   "metadata": {},
   "outputs": [
    {
     "name": "stdout",
     "output_type": "stream",
     "text": [
      "this\tmissing\t1\tmissing\tmissing\tmissing\tmissing\t\n",
      "is a\tmissing\t2\tmissing\tmissing\tmissing\tmissing\t\n",
      "new file\tmissing\t3\tmissing\t1\t4\t7\t\n",
      "100\tmissing\t4\tmissing\t2\t5\t8\t\n",
      "missing\tmissing\tmissing\tmissing\t3\t6\t9\t\n",
      "missing\tmissing\tmissing\tmissing\tmissing\tmissing\tmissing\t\n",
      "1\t2\t3\t4\t5\tmissing\tmissing\t\n",
      "1\t2\t3\t4\tmissing\tmissing\tmissing\t\n"
     ]
    }
   ],
   "source": [
    "for row in start[1]:end_[1]\n",
    "    for col in start[2]:end_[2]\n",
    "        print(sh[row,col])\n",
    "        print(\"\\t\")\n",
    "    end\n",
    "    println()\n",
    "end        "
   ]
  },
  {
   "cell_type": "code",
   "execution_count": 30,
   "metadata": {},
   "outputs": [
    {
     "data": {
      "text/plain": [
       "8×7 Matrix{Any}:\n",
       "    \"this\"       missing  1          missing   missing   missing   missing\n",
       "    \"is a\"       missing  2          missing   missing   missing   missing\n",
       "    \"new file\"   missing  3          missing  1         4         7\n",
       " 100             missing  4          missing  2         5         8\n",
       "    missing      missing   missing   missing  3         6         9\n",
       "    missing      missing   missing   missing   missing   missing   missing\n",
       "   1            2         3         4         5          missing   missing\n",
       "   1            2         3         4          missing   missing   missing"
      ]
     },
     "execution_count": 30,
     "metadata": {},
     "output_type": "execute_result"
    }
   ],
   "source": [
    "sh[:]"
   ]
  },
  {
   "cell_type": "code",
   "execution_count": 31,
   "metadata": {},
   "outputs": [
    {
     "data": {
      "text/plain": [
       "8×7 Matrix{Union{Missing, Float64, Int64, String}}:\n",
       "    \"this\"       missing  1          missing   missing   missing   missing\n",
       "    \"is a\"       missing  2          missing   missing   missing   missing\n",
       "    \"new file\"   missing  3          missing  1         4         7\n",
       " 100             missing  4          missing  2         5         8\n",
       "    missing      missing   missing   missing  3         6         9\n",
       "    missing      missing   missing   missing   missing   missing   missing\n",
       "   1            2         3         4         5          missing   missing\n",
       "   1            2         3         4          missing   missing   missing"
      ]
     },
     "execution_count": 31,
     "metadata": {},
     "output_type": "execute_result"
    }
   ],
   "source": [
    "m = Matrix{Union{Int,Float64,String,Missing}}(undef,(end_[1],end_[2]))\n",
    "m .= sh[:]"
   ]
  },
  {
   "cell_type": "code",
   "execution_count": 32,
   "metadata": {},
   "outputs": [
    {
     "data": {
      "text/plain": [
       "3×2 Matrix{Any}:\n",
       "    \"is a\"      missing\n",
       "    \"new file\"  missing\n",
       " 100            missing"
      ]
     },
     "execution_count": 32,
     "metadata": {},
     "output_type": "execute_result"
    }
   ],
   "source": [
    "xf[XLSX.sheetnames(xf)[1]*\"!A2:B4\"]"
   ]
  },
  {
   "cell_type": "code",
   "execution_count": 33,
   "metadata": {
    "scrolled": true
   },
   "outputs": [
    {
     "data": {
      "text/html": [
       "<div><div style = \"float: left;\"><span>5×4 DataFrame</span></div><div style = \"clear: both;\"></div></div><div class = \"data-frame\" style = \"overflow-x: scroll;\"><table class = \"data-frame\" style = \"margin-bottom: 6px;\"><thead><tr class = \"header\"><th class = \"rowNumber\" style = \"font-weight: bold; text-align: right;\">Row</th><th style = \"text-align: left;\">a</th><th style = \"text-align: left;\">b</th><th style = \"text-align: left;\">c</th><th style = \"text-align: left;\">d</th></tr><tr class = \"subheader headerLastRow\"><th class = \"rowNumber\" style = \"font-weight: bold; text-align: right;\"></th><th title = \"Int64\" style = \"text-align: left;\">Int64</th><th title = \"String\" style = \"text-align: left;\">String</th><th title = \"Float64\" style = \"text-align: left;\">Float64</th><th title = \"Union{Missing, Int64}\" style = \"text-align: left;\">Int64?</th></tr></thead><tbody><tr><td class = \"rowNumber\" style = \"font-weight: bold; text-align: right;\">1</td><td style = \"text-align: right;\">1</td><td style = \"text-align: left;\">Hello1</td><td style = \"text-align: right;\">6.5</td><td style = \"text-align: right;\">11</td></tr><tr><td class = \"rowNumber\" style = \"font-weight: bold; text-align: right;\">2</td><td style = \"text-align: right;\">2</td><td style = \"text-align: left;\">Hello2</td><td style = \"text-align: right;\">7.5</td><td style = \"text-align: right;\">22</td></tr><tr><td class = \"rowNumber\" style = \"font-weight: bold; text-align: right;\">3</td><td style = \"text-align: right;\">3</td><td style = \"text-align: left;\">Hello3</td><td style = \"text-align: right;\">8.5</td><td style = \"text-align: right;\">33</td></tr><tr><td class = \"rowNumber\" style = \"font-weight: bold; text-align: right;\">4</td><td style = \"text-align: right;\">4</td><td style = \"text-align: left;\">Hello4</td><td style = \"text-align: right;\">9.5</td><td style = \"font-style: italic; text-align: right;\">missing</td></tr><tr><td class = \"rowNumber\" style = \"font-weight: bold; text-align: right;\">5</td><td style = \"text-align: right;\">5</td><td style = \"text-align: left;\">Hello5</td><td style = \"text-align: right;\">10.5</td><td style = \"font-style: italic; text-align: right;\">missing</td></tr></tbody></table></div>"
      ],
      "text/latex": [
       "\\begin{tabular}{r|cccc}\n",
       "\t& a & b & c & d\\\\\n",
       "\t\\hline\n",
       "\t& Int64 & String & Float64 & Int64?\\\\\n",
       "\t\\hline\n",
       "\t1 & 1 & Hello1 & 6.5 & 11 \\\\\n",
       "\t2 & 2 & Hello2 & 7.5 & 22 \\\\\n",
       "\t3 & 3 & Hello3 & 8.5 & 33 \\\\\n",
       "\t4 & 4 & Hello4 & 9.5 & \\emph{missing} \\\\\n",
       "\t5 & 5 & Hello5 & 10.5 & \\emph{missing} \\\\\n",
       "\\end{tabular}\n"
      ],
      "text/plain": [
       "\u001b[1m5×4 DataFrame\u001b[0m\n",
       "\u001b[1m Row \u001b[0m│\u001b[1m a     \u001b[0m\u001b[1m b      \u001b[0m\u001b[1m c       \u001b[0m\u001b[1m d       \u001b[0m\n",
       "     │\u001b[90m Int64 \u001b[0m\u001b[90m String \u001b[0m\u001b[90m Float64 \u001b[0m\u001b[90m Int64?  \u001b[0m\n",
       "─────┼─────────────────────────────────\n",
       "   1 │     1  Hello1      6.5       11\n",
       "   2 │     2  Hello2      7.5       22\n",
       "   3 │     3  Hello3      8.5       33\n",
       "   4 │     4  Hello4      9.5 \u001b[90m missing \u001b[0m\n",
       "   5 │     5  Hello5     10.5 \u001b[90m missing \u001b[0m"
      ]
     },
     "execution_count": 33,
     "metadata": {},
     "output_type": "execute_result"
    }
   ],
   "source": [
    "using DataFrames\n",
    "df = DataFrame(a=1:5, b=string.(\"Hello\",1:5), c=6.5:10.5, d=[11,22,33,missing,missing] )"
   ]
  },
  {
   "cell_type": "code",
   "execution_count": 34,
   "metadata": {},
   "outputs": [
    {
     "data": {
      "text/plain": [
       "Vector{Union{Missing, Int64}}\u001b[90m (alias for \u001b[39m\u001b[90mArray{Union{Missing, Int64}, 1}\u001b[39m\u001b[90m)\u001b[39m"
      ]
     },
     "execution_count": 34,
     "metadata": {},
     "output_type": "execute_result"
    }
   ],
   "source": [
    "typeof(df.d)"
   ]
  },
  {
   "cell_type": "code",
   "execution_count": 35,
   "metadata": {},
   "outputs": [],
   "source": [
    "XLSX.writetable(joinpath(pwd(),\"df.xlsx\"), overwrite=true, \n",
    "    WORKSHEET_A=(collect(DataFrames.eachcol(df)), DataFrames.names(df)),\n",
    "    MYWS_B=(collect(DataFrames.eachcol(df)), DataFrames.names(df)),\n",
    ")\n",
    "# after comma new worksheets can be added tj. WORKSHEET_B=(collect(DataFrames.eachcol(df)), DataFrames.names(df)) itd."
   ]
  },
  {
   "cell_type": "code",
   "execution_count": 36,
   "metadata": {},
   "outputs": [
    {
     "data": {
      "text/plain": [
       "XLSX.DataTable(Any[[1, 2, 3, 4, 5], [\"Hello1\", \"Hello2\", \"Hello3\", \"Hello4\", \"Hello5\"], [6.5, 7.5, 8.5, 9.5, 10.5], Union{Missing, Int64}[11, 22, 33, missing, missing]], [:a, :b, :c, :d], Dict(:a => 1, :b => 2, :d => 4, :c => 3))"
      ]
     },
     "execution_count": 36,
     "metadata": {},
     "output_type": "execute_result"
    }
   ],
   "source": [
    "data2 = XLSX.readtable(joinpath(pwd(),\"df.xlsx\"),\"WORKSHEET_A\";infer_eltypes=true)"
   ]
  },
  {
   "cell_type": "code",
   "execution_count": 37,
   "metadata": {},
   "outputs": [
    {
     "data": {
      "text/html": [
       "<div><div style = \"float: left;\"><span>5×4 DataFrame</span></div><div style = \"clear: both;\"></div></div><div class = \"data-frame\" style = \"overflow-x: scroll;\"><table class = \"data-frame\" style = \"margin-bottom: 6px;\"><thead><tr class = \"header\"><th class = \"rowNumber\" style = \"font-weight: bold; text-align: right;\">Row</th><th style = \"text-align: left;\">a</th><th style = \"text-align: left;\">b</th><th style = \"text-align: left;\">c</th><th style = \"text-align: left;\">d</th></tr><tr class = \"subheader headerLastRow\"><th class = \"rowNumber\" style = \"font-weight: bold; text-align: right;\"></th><th title = \"Int64\" style = \"text-align: left;\">Int64</th><th title = \"String\" style = \"text-align: left;\">String</th><th title = \"Float64\" style = \"text-align: left;\">Float64</th><th title = \"Union{Missing, Int64}\" style = \"text-align: left;\">Int64?</th></tr></thead><tbody><tr><td class = \"rowNumber\" style = \"font-weight: bold; text-align: right;\">1</td><td style = \"text-align: right;\">1</td><td style = \"text-align: left;\">Hello1</td><td style = \"text-align: right;\">6.5</td><td style = \"text-align: right;\">11</td></tr><tr><td class = \"rowNumber\" style = \"font-weight: bold; text-align: right;\">2</td><td style = \"text-align: right;\">2</td><td style = \"text-align: left;\">Hello2</td><td style = \"text-align: right;\">7.5</td><td style = \"text-align: right;\">22</td></tr><tr><td class = \"rowNumber\" style = \"font-weight: bold; text-align: right;\">3</td><td style = \"text-align: right;\">3</td><td style = \"text-align: left;\">Hello3</td><td style = \"text-align: right;\">8.5</td><td style = \"text-align: right;\">33</td></tr><tr><td class = \"rowNumber\" style = \"font-weight: bold; text-align: right;\">4</td><td style = \"text-align: right;\">4</td><td style = \"text-align: left;\">Hello4</td><td style = \"text-align: right;\">9.5</td><td style = \"font-style: italic; text-align: right;\">missing</td></tr><tr><td class = \"rowNumber\" style = \"font-weight: bold; text-align: right;\">5</td><td style = \"text-align: right;\">5</td><td style = \"text-align: left;\">Hello5</td><td style = \"text-align: right;\">10.5</td><td style = \"font-style: italic; text-align: right;\">missing</td></tr></tbody></table></div>"
      ],
      "text/latex": [
       "\\begin{tabular}{r|cccc}\n",
       "\t& a & b & c & d\\\\\n",
       "\t\\hline\n",
       "\t& Int64 & String & Float64 & Int64?\\\\\n",
       "\t\\hline\n",
       "\t1 & 1 & Hello1 & 6.5 & 11 \\\\\n",
       "\t2 & 2 & Hello2 & 7.5 & 22 \\\\\n",
       "\t3 & 3 & Hello3 & 8.5 & 33 \\\\\n",
       "\t4 & 4 & Hello4 & 9.5 & \\emph{missing} \\\\\n",
       "\t5 & 5 & Hello5 & 10.5 & \\emph{missing} \\\\\n",
       "\\end{tabular}\n"
      ],
      "text/plain": [
       "\u001b[1m5×4 DataFrame\u001b[0m\n",
       "\u001b[1m Row \u001b[0m│\u001b[1m a     \u001b[0m\u001b[1m b      \u001b[0m\u001b[1m c       \u001b[0m\u001b[1m d       \u001b[0m\n",
       "     │\u001b[90m Int64 \u001b[0m\u001b[90m String \u001b[0m\u001b[90m Float64 \u001b[0m\u001b[90m Int64?  \u001b[0m\n",
       "─────┼─────────────────────────────────\n",
       "   1 │     1  Hello1      6.5       11\n",
       "   2 │     2  Hello2      7.5       22\n",
       "   3 │     3  Hello3      8.5       33\n",
       "   4 │     4  Hello4      9.5 \u001b[90m missing \u001b[0m\n",
       "   5 │     5  Hello5     10.5 \u001b[90m missing \u001b[0m"
      ]
     },
     "execution_count": 37,
     "metadata": {},
     "output_type": "execute_result"
    }
   ],
   "source": [
    "DataFrame(data2)"
   ]
  },
  {
   "cell_type": "code",
   "execution_count": 38,
   "metadata": {},
   "outputs": [
    {
     "data": {
      "text/plain": [
       "IOStream(<file myfile1.arrow>)"
      ]
     },
     "execution_count": 38,
     "metadata": {},
     "output_type": "execute_result"
    }
   ],
   "source": [
    "rm(\"myfile1.arrow\";force=true)\n",
    "using Arrow\n",
    "open(\"myfile1.arrow\",\"w\") do f\n",
    "    Arrow.write(f, df)\n",
    "end"
   ]
  },
  {
   "cell_type": "code",
   "execution_count": 39,
   "metadata": {},
   "outputs": [
    {
     "data": {
      "text/plain": [
       "Arrow.Table with 5 rows, 4 columns, and schema:\n",
       " :a  Int64\n",
       " :b  String\n",
       " :c  Float64\n",
       " :d  Union{Missing, Int64}"
      ]
     },
     "execution_count": 39,
     "metadata": {},
     "output_type": "execute_result"
    }
   ],
   "source": [
    "tab = Arrow.Table(\"myfile1.arrow\")"
   ]
  },
  {
   "cell_type": "code",
   "execution_count": 40,
   "metadata": {},
   "outputs": [
    {
     "data": {
      "text/html": [
       "<div><div style = \"float: left;\"><span>5×4 DataFrame</span></div><div style = \"clear: both;\"></div></div><div class = \"data-frame\" style = \"overflow-x: scroll;\"><table class = \"data-frame\" style = \"margin-bottom: 6px;\"><thead><tr class = \"header\"><th class = \"rowNumber\" style = \"font-weight: bold; text-align: right;\">Row</th><th style = \"text-align: left;\">a</th><th style = \"text-align: left;\">b</th><th style = \"text-align: left;\">c</th><th style = \"text-align: left;\">d</th></tr><tr class = \"subheader headerLastRow\"><th class = \"rowNumber\" style = \"font-weight: bold; text-align: right;\"></th><th title = \"Int64\" style = \"text-align: left;\">Int64</th><th title = \"String\" style = \"text-align: left;\">String</th><th title = \"Float64\" style = \"text-align: left;\">Float64</th><th title = \"Union{Missing, Int64}\" style = \"text-align: left;\">Int64?</th></tr></thead><tbody><tr><td class = \"rowNumber\" style = \"font-weight: bold; text-align: right;\">1</td><td style = \"text-align: right;\">1</td><td style = \"text-align: left;\">Hello1</td><td style = \"text-align: right;\">6.5</td><td style = \"text-align: right;\">11</td></tr><tr><td class = \"rowNumber\" style = \"font-weight: bold; text-align: right;\">2</td><td style = \"text-align: right;\">2</td><td style = \"text-align: left;\">Hello2</td><td style = \"text-align: right;\">7.5</td><td style = \"text-align: right;\">22</td></tr><tr><td class = \"rowNumber\" style = \"font-weight: bold; text-align: right;\">3</td><td style = \"text-align: right;\">3</td><td style = \"text-align: left;\">Hello3</td><td style = \"text-align: right;\">8.5</td><td style = \"text-align: right;\">33</td></tr><tr><td class = \"rowNumber\" style = \"font-weight: bold; text-align: right;\">4</td><td style = \"text-align: right;\">4</td><td style = \"text-align: left;\">Hello4</td><td style = \"text-align: right;\">9.5</td><td style = \"font-style: italic; text-align: right;\">missing</td></tr><tr><td class = \"rowNumber\" style = \"font-weight: bold; text-align: right;\">5</td><td style = \"text-align: right;\">5</td><td style = \"text-align: left;\">Hello5</td><td style = \"text-align: right;\">10.5</td><td style = \"font-style: italic; text-align: right;\">missing</td></tr></tbody></table></div>"
      ],
      "text/latex": [
       "\\begin{tabular}{r|cccc}\n",
       "\t& a & b & c & d\\\\\n",
       "\t\\hline\n",
       "\t& Int64 & String & Float64 & Int64?\\\\\n",
       "\t\\hline\n",
       "\t1 & 1 & Hello1 & 6.5 & 11 \\\\\n",
       "\t2 & 2 & Hello2 & 7.5 & 22 \\\\\n",
       "\t3 & 3 & Hello3 & 8.5 & 33 \\\\\n",
       "\t4 & 4 & Hello4 & 9.5 & \\emph{missing} \\\\\n",
       "\t5 & 5 & Hello5 & 10.5 & \\emph{missing} \\\\\n",
       "\\end{tabular}\n"
      ],
      "text/plain": [
       "\u001b[1m5×4 DataFrame\u001b[0m\n",
       "\u001b[1m Row \u001b[0m│\u001b[1m a     \u001b[0m\u001b[1m b      \u001b[0m\u001b[1m c       \u001b[0m\u001b[1m d       \u001b[0m\n",
       "     │\u001b[90m Int64 \u001b[0m\u001b[90m String \u001b[0m\u001b[90m Float64 \u001b[0m\u001b[90m Int64?  \u001b[0m\n",
       "─────┼─────────────────────────────────\n",
       "   1 │     1  Hello1      6.5       11\n",
       "   2 │     2  Hello2      7.5       22\n",
       "   3 │     3  Hello3      8.5       33\n",
       "   4 │     4  Hello4      9.5 \u001b[90m missing \u001b[0m\n",
       "   5 │     5  Hello5     10.5 \u001b[90m missing \u001b[0m"
      ]
     },
     "execution_count": 40,
     "metadata": {},
     "output_type": "execute_result"
    }
   ],
   "source": [
    "Arrow.Table(\"myfile1.arrow\") |> DataFrame"
   ]
  },
  {
   "cell_type": "code",
   "execution_count": 41,
   "metadata": {
    "scrolled": true
   },
   "outputs": [],
   "source": [
    "using HTTP\n",
    "response = HTTP.get(\"https://szufel.pl/pliki/plik.txt\");"
   ]
  },
  {
   "cell_type": "code",
   "execution_count": 43,
   "metadata": {},
   "outputs": [
    {
     "name": "stdout",
     "output_type": "stream",
     "text": [
      "response.status = 200\n"
     ]
    },
    {
     "data": {
      "text/plain": [
       "200"
      ]
     },
     "execution_count": 43,
     "metadata": {},
     "output_type": "execute_result"
    }
   ],
   "source": [
    "@show response.status\n"
   ]
  },
  {
   "cell_type": "code",
   "execution_count": 44,
   "metadata": {},
   "outputs": [
    {
     "data": {
      "text/plain": [
       "408-element Vector{UInt8}:\n",
       " 0x7b\n",
       " 0x0a\n",
       " 0x20\n",
       " 0x20\n",
       " 0x22\n",
       " 0x66\n",
       " 0x69\n",
       " 0x72\n",
       " 0x73\n",
       " 0x74\n",
       " 0x4e\n",
       " 0x61\n",
       " 0x6d\n",
       "    ⋮\n",
       " 0x65\n",
       " 0x22\n",
       " 0x3a\n",
       " 0x20\n",
       " 0x6e\n",
       " 0x75\n",
       " 0x6c\n",
       " 0x6c\n",
       " 0x0a\n",
       " 0x7d\n",
       " 0x0a\n",
       " 0x0a"
      ]
     },
     "execution_count": 44,
     "metadata": {},
     "output_type": "execute_result"
    }
   ],
   "source": [
    "response.body"
   ]
  },
  {
   "cell_type": "code",
   "execution_count": 45,
   "metadata": {},
   "outputs": [
    {
     "name": "stdout",
     "output_type": "stream",
     "text": [
      "{\n",
      "  \"firstName\": \"John\",\n",
      "  \"lastName\": \"Smith\",\n",
      "  \"isAlive\": true,\n",
      "  \"age\": 25,\n",
      "  \"address\": {\n",
      "    \"streetAddress\": \"21 2nd Street\",\n",
      "    \"city\": \"New York\",\n",
      "    \"state\": \"NY\",\n",
      "    \"postalCode\": \"10021-3100\"\n",
      "  },\n",
      "  \"phoneNumbers\": [\n",
      "    {\n",
      "      \"type\": \"home\",\n",
      "      \"number\": \"212 555-1234\"\n",
      "    },\n",
      "    {\n",
      "      \"type\": \"office\",\n",
      "      \"number\": \"646 555-4567\"\n",
      "    }\n",
      "  ],\n",
      "  \"children\": [],\n",
      "  \"spouse\": null\n",
      "}\n",
      "\n",
      "\n"
     ]
    }
   ],
   "source": [
    "data = String(response.body)\n",
    "println(data)"
   ]
  },
  {
   "cell_type": "code",
   "execution_count": 46,
   "metadata": {},
   "outputs": [
    {
     "data": {
      "text/plain": [
       "JSON3.Object{Base.CodeUnits{UInt8, String}, Vector{UInt64}} with 8 entries:\n",
       "  :firstName    => \"John\"\n",
       "  :lastName     => \"Smith\"\n",
       "  :isAlive      => true\n",
       "  :age          => 25\n",
       "  :address      => {…\n",
       "  :phoneNumbers => Object[{…\n",
       "  :children     => Union{}[]\n",
       "  :spouse       => nothing"
      ]
     },
     "execution_count": 46,
     "metadata": {},
     "output_type": "execute_result"
    }
   ],
   "source": [
    "using JSON3\n",
    "dat = JSON3.read(data)"
   ]
  },
  {
   "cell_type": "code",
   "execution_count": 47,
   "metadata": {},
   "outputs": [
    {
     "data": {
      "text/plain": [
       "JSON3.Object{Base.CodeUnits{UInt8, String}, SubArray{UInt64, 1, Vector{UInt64}, Tuple{UnitRange{Int64}}, true}} with 2 entries:\n",
       "  :type   => \"home\"\n",
       "  :number => \"212 555-1234\""
      ]
     },
     "execution_count": 47,
     "metadata": {},
     "output_type": "execute_result"
    }
   ],
   "source": [
    "#dat = Dict(JSON3.read(data))\n",
    "dat[:phoneNumbers][1]"
   ]
  },
  {
   "cell_type": "code",
   "execution_count": 48,
   "metadata": {},
   "outputs": [
    {
     "data": {
      "text/plain": [
       "JSON3.Object{Base.CodeUnits{UInt8, String}, SubArray{UInt64, 1, Vector{UInt64}, Tuple{UnitRange{Int64}}, true}} with 2 entries:\n",
       "  :type   => \"home\"\n",
       "  :number => \"212 555-1234\""
      ]
     },
     "execution_count": 48,
     "metadata": {},
     "output_type": "execute_result"
    }
   ],
   "source": [
    "dat[:phoneNumbers][1]"
   ]
  },
  {
   "cell_type": "code",
   "execution_count": 49,
   "metadata": {},
   "outputs": [
    {
     "data": {
      "text/plain": [
       "\"212 555-1234\""
      ]
     },
     "execution_count": 49,
     "metadata": {},
     "output_type": "execute_result"
    }
   ],
   "source": [
    "dat[:phoneNumbers][1][:number]"
   ]
  },
  {
   "cell_type": "code",
   "execution_count": 51,
   "metadata": {},
   "outputs": [
    {
     "name": "stdout",
     "output_type": "stream",
     "text": [
      "file_name = \"C:\\\\Users\\\\pszuf\\\\AppData\\\\Local\\\\Temp\\\\jl_fAHwTEpGps.json\"\n"
     ]
    }
   ],
   "source": [
    "file_name = tempname()*\".json\"\n",
    "open(file_name,\"w\") do f\n",
    "    JSON3.write(f, dat)\n",
    "end\n",
    "@show file_name;"
   ]
  }
 ],
 "metadata": {
  "kernelspec": {
   "display_name": "Julia 1.10.0",
   "language": "julia",
   "name": "julia-1.10"
  },
  "language_info": {
   "file_extension": ".jl",
   "mimetype": "application/julia",
   "name": "julia",
   "version": "1.10.0"
  }
 },
 "nbformat": 4,
 "nbformat_minor": 4
}
