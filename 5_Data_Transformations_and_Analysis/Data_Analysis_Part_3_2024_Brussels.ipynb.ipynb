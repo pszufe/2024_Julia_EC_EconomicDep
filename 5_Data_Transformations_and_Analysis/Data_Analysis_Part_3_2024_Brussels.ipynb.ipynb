{
 "cells": [
  {
   "cell_type": "markdown",
   "id": "4e96e78c",
   "metadata": {},
   "source": [
    "# Advanced analysis of data frames"
   ]
  },
  {
   "cell_type": "markdown",
   "id": "16a246ca",
   "metadata": {},
   "source": [
    "## Getting and pre-processing the police stop data set"
   ]
  },
  {
   "cell_type": "markdown",
   "id": "9f5583a0",
   "metadata": {},
   "source": [
    "### Loading all required packages"
   ]
  },
  {
   "cell_type": "code",
   "execution_count": 1,
   "id": "5ae8892a",
   "metadata": {},
   "outputs": [],
   "source": [
    "using CSV\n",
    "using CategoricalArrays\n",
    "using Chain\n",
    "using DataFrames\n",
    "using Dates\n",
    "using Distributions\n",
    "using FreqTables\n",
    "using GLM\n",
    "using Plots\n",
    "using Random\n",
    "using ROCAnalysis\n",
    "using Statistics"
   ]
  },
  {
   "cell_type": "code",
   "execution_count": 2,
   "id": "517a0a7d",
   "metadata": {},
   "outputs": [
    {
     "data": {
      "text/html": [
       "<div><div style = \"float: left;\"><span>6921×18 DataFrame</span></div><div style = \"float: right;\"><span style = \"font-style: italic;\">6896 rows omitted</span></div><div style = \"clear: both;\"></div></div><div class = \"data-frame\" style = \"overflow-x: scroll;\"><table class = \"data-frame\" style = \"margin-bottom: 6px;\"><thead><tr class = \"header\"><th class = \"rowNumber\" style = \"font-weight: bold; text-align: right;\">Row</th><th style = \"text-align: left;\">raw_row_number</th><th style = \"text-align: left;\">date</th><th style = \"text-align: left;\">time</th><th style = \"text-align: left;\">location</th><th style = \"text-align: left;\">lat</th><th style = \"text-align: left;\">lng</th><th style = \"text-align: left;\">sector</th><th style = \"text-align: left;\">subject_age</th><th style = \"text-align: left;\">subject_race</th><th style = \"text-align: left;\">subject_sex</th><th style = \"text-align: left;\">officer_id_hash</th><th style = \"text-align: left;\">type</th><th style = \"text-align: left;\">violation</th><th style = \"text-align: left;\">arrest_made</th><th style = \"text-align: left;\">citation_issued</th><th style = \"text-align: left;\">outcome</th><th style = \"text-align: left;\">vehicle_registration_state</th><th style = \"text-align: left;\">raw_race</th></tr><tr class = \"subheader headerLastRow\"><th class = \"rowNumber\" style = \"font-weight: bold; text-align: right;\"></th><th title = \"Int64\" style = \"text-align: left;\">Int64</th><th title = \"Date\" style = \"text-align: left;\">Date</th><th title = \"Time\" style = \"text-align: left;\">Time</th><th title = \"String\" style = \"text-align: left;\">String</th><th title = \"Float64\" style = \"text-align: left;\">Float64</th><th title = \"Union{Missing, Float64}\" style = \"text-align: left;\">Float64?</th><th title = \"Union{Missing, String15}\" style = \"text-align: left;\">String15?</th><th title = \"Union{Missing, Int64}\" style = \"text-align: left;\">Int64?</th><th title = \"Union{Missing, String31}\" style = \"text-align: left;\">String31?</th><th title = \"String7\" style = \"text-align: left;\">String7</th><th title = \"String15\" style = \"text-align: left;\">String15</th><th title = \"Union{Missing, String15}\" style = \"text-align: left;\">String15?</th><th title = \"String\" style = \"text-align: left;\">String</th><th title = \"Bool\" style = \"text-align: left;\">Bool</th><th title = \"Bool\" style = \"text-align: left;\">Bool</th><th title = \"String15\" style = \"text-align: left;\">String15</th><th title = \"Union{Missing, String3}\" style = \"text-align: left;\">String3?</th><th title = \"Union{Missing, String31}\" style = \"text-align: left;\">String31?</th></tr></thead><tbody><tr><td class = \"rowNumber\" style = \"font-weight: bold; text-align: right;\">1</td><td style = \"text-align: right;\">1</td><td style = \"text-align: left;\">2016-08-04</td><td style = \"text-align: left;\">13:52:00</td><td style = \"text-align: left;\">1016 HALL ST, OWENSBORO, KY, 42301</td><td style = \"text-align: right;\">37.7673</td><td style = \"text-align: right;\">-87.0977</td><td style = \"text-align: left;\">BRAVO</td><td style = \"text-align: right;\">30</td><td style = \"text-align: left;\">white</td><td style = \"text-align: left;\">male</td><td style = \"text-align: left;\">0b087b613e</td><td style = \"text-align: left;\">pedestrian</td><td style = \"text-align: left;\">POSS CONT SUB 1ST DEG, 1ST OFF (METHAMPHETAMINE); DRUG PARAPHERLIA - BUY/POSSESS</td><td style = \"text-align: right;\">true</td><td style = \"text-align: right;\">true</td><td style = \"text-align: left;\">arrest</td><td style = \"text-align: left;\">KY</td><td style = \"text-align: left;\">WHITE</td></tr><tr><td class = \"rowNumber\" style = \"font-weight: bold; text-align: right;\">2</td><td style = \"text-align: right;\">2</td><td style = \"text-align: left;\">2016-04-03</td><td style = \"text-align: left;\">01:48:00</td><td style = \"text-align: left;\">W PARRISH AVE/BYPASS, OWENSBORO, KY, 42301</td><td style = \"text-align: right;\">37.7557</td><td style = \"text-align: right;\">-87.1561</td><td style = \"text-align: left;\">WEST</td><td style = \"text-align: right;\">17</td><td style = \"text-align: left;\">white</td><td style = \"text-align: left;\">male</td><td style = \"text-align: left;\">cccb830893</td><td style = \"text-align: left;\">vehicular</td><td style = \"text-align: left;\">FAILURE TO ILLUMITE HEAD LAMPS; NO OPERATORS-MOPED LICENSE; NO REGISTRATION PLATES</td><td style = \"text-align: right;\">false</td><td style = \"text-align: right;\">true</td><td style = \"text-align: left;\">citation</td><td style = \"text-align: left;\">KY</td><td style = \"text-align: left;\">WHITE</td></tr><tr><td class = \"rowNumber\" style = \"font-weight: bold; text-align: right;\">3</td><td style = \"text-align: right;\">3</td><td style = \"text-align: left;\">2015-09-13</td><td style = \"text-align: left;\">04:57:00</td><td style = \"text-align: left;\">2511 HWY 144 ST, OWENSBORO, KY, 42303</td><td style = \"text-align: right;\">37.7777</td><td style = \"text-align: right;\">-87.0871</td><td style = \"text-align: left;\">BRAVO</td><td style = \"text-align: right;\">33</td><td style = \"text-align: left;\">white</td><td style = \"text-align: left;\">male</td><td style = \"text-align: left;\">5ad1b66604</td><td style = \"text-align: left;\">vehicular</td><td style = \"text-align: left;\">NO TAIL LAMPS; OPER MTR VEHICLE U/INFLUENCE ALC/DRUGS/ETC. .08 - 1ST OFF; POSS CONT SUB 1ST DEG, 1ST OFF (METHAMPHETAMINE); FAILURE OF OWNER TO MAINTAIN REQUIRED INS/SEC, 1ST OFF; VIOLATION UNKNOWN</td><td style = \"text-align: right;\">true</td><td style = \"text-align: right;\">true</td><td style = \"text-align: left;\">arrest</td><td style = \"text-align: left;\">KY</td><td style = \"text-align: left;\">WHITE</td></tr><tr><td class = \"rowNumber\" style = \"font-weight: bold; text-align: right;\">4</td><td style = \"text-align: right;\">4</td><td style = \"text-align: left;\">2016-01-05</td><td style = \"text-align: left;\">13:16:00</td><td style = \"text-align: left;\">CARTER RD &amp; BITTEL RD, OWENSBORO, KY, 42301</td><td style = \"text-align: right;\">37.7514</td><td style = \"text-align: right;\">-87.1468</td><td style = \"text-align: left;\">CHARLIE</td><td style = \"text-align: right;\">52</td><td style = \"text-align: left;\">white</td><td style = \"text-align: left;\">female</td><td style = \"text-align: left;\">78fbcbf614</td><td style = \"text-align: left;\">vehicular</td><td style = \"text-align: left;\">OPER MTR VEH U/INFLU ALC/DRUGS/ETC. .08 (AGG CIRCUM), 2ND; DRIVING DUI SUSPENDED LICENSE - 1ST OFF (AGG CIRCUM)</td><td style = \"text-align: right;\">true</td><td style = \"text-align: right;\">true</td><td style = \"text-align: left;\">arrest</td><td style = \"text-align: left;\">KY</td><td style = \"text-align: left;\">WHITE</td></tr><tr><td class = \"rowNumber\" style = \"font-weight: bold; text-align: right;\">5</td><td style = \"text-align: right;\">5</td><td style = \"text-align: left;\">2016-04-06</td><td style = \"text-align: left;\">02:15:00</td><td style = \"text-align: left;\">FREDERICA ST &amp; FAIRFAX DR, OWENSBORO, KY, 42301</td><td style = \"text-align: right;\">37.734</td><td style = \"text-align: right;\">-87.1202</td><td style = \"text-align: left;\">FOX</td><td style = \"text-align: right;\">33</td><td style = \"text-align: left;\">white</td><td style = \"text-align: left;\">male</td><td style = \"text-align: left;\">78fbcbf614</td><td style = \"text-align: left;\">vehicular</td><td style = \"text-align: left;\">OPERATING ON SUS OR REV OPER LICENSE</td><td style = \"text-align: right;\">false</td><td style = \"text-align: right;\">true</td><td style = \"text-align: left;\">citation</td><td style = \"text-align: left;\">KY</td><td style = \"text-align: left;\">WHITE</td></tr><tr><td class = \"rowNumber\" style = \"font-weight: bold; text-align: right;\">6</td><td style = \"text-align: right;\">6</td><td style = \"text-align: left;\">2015-11-05</td><td style = \"text-align: left;\">23:15:00</td><td style = \"text-align: left;\">FREDERICA ST AND WASHINGTON AVE, OWENSBORO, KY, 42303</td><td style = \"text-align: right;\">37.7513</td><td style = \"text-align: right;\">-87.1116</td><td style = \"text-align: left;\">DELTA</td><td style = \"text-align: right;\">32</td><td style = \"text-align: left;\">white</td><td style = \"text-align: left;\">male</td><td style = \"text-align: left;\">60dc0a01bb</td><td style = \"text-align: left;\">vehicular</td><td style = \"text-align: left;\">FAILURE TO WEAR SEAT BELTS</td><td style = \"text-align: right;\">false</td><td style = \"text-align: right;\">true</td><td style = \"text-align: left;\">citation</td><td style = \"text-align: left;\">KY</td><td style = \"text-align: left;\">WHITE</td></tr><tr><td class = \"rowNumber\" style = \"font-weight: bold; text-align: right;\">7</td><td style = \"text-align: right;\">7</td><td style = \"text-align: left;\">2016-02-14</td><td style = \"text-align: left;\">02:40:00</td><td style = \"text-align: left;\">1301 FREDERICA ST, OWENSBORO, KY, 42301</td><td style = \"text-align: right;\">37.7635</td><td style = \"text-align: right;\">-87.1125</td><td style = \"text-align: left;\">DELTA</td><td style = \"text-align: right;\">28</td><td style = \"text-align: left;\">white</td><td style = \"text-align: left;\">male</td><td style = \"text-align: left;\">60dc0a01bb</td><td style = \"text-align: left;\">vehicular</td><td style = \"text-align: left;\">OPER MTR VEHICLE U/INFLUENCE ALC/DRUGS/ETC. .08 - 1ST OFF</td><td style = \"text-align: right;\">true</td><td style = \"text-align: right;\">true</td><td style = \"text-align: left;\">arrest</td><td style = \"text-align: left;\">KY</td><td style = \"text-align: left;\">WHITE</td></tr><tr><td class = \"rowNumber\" style = \"font-weight: bold; text-align: right;\">8</td><td style = \"text-align: right;\">8</td><td style = \"text-align: left;\">2016-02-09</td><td style = \"text-align: left;\">16:59:00</td><td style = \"text-align: left;\">1300 MCFARLAND AVE, OWENSBORO, KY, 42301</td><td style = \"text-align: right;\">37.759</td><td style = \"text-align: right;\">-87.146</td><td style = \"text-align: left;\">CHARLIE</td><td style = \"text-align: right;\">24</td><td style = \"text-align: left;\">white</td><td style = \"text-align: left;\">male</td><td style = \"text-align: left;\">fbd3670efb</td><td style = \"text-align: left;\">vehicular</td><td style = \"text-align: left;\">DISREGARDING TRAFFIC CONT DEV-TRAFFIC LIGHT; LICENSE TO BE IN POSSESSION</td><td style = \"text-align: right;\">false</td><td style = \"text-align: right;\">true</td><td style = \"text-align: left;\">citation</td><td style = \"text-align: left;\">KY</td><td style = \"text-align: left;\">WHITE</td></tr><tr><td class = \"rowNumber\" style = \"font-weight: bold; text-align: right;\">9</td><td style = \"text-align: right;\">9</td><td style = \"text-align: left;\">2016-04-16</td><td style = \"text-align: left;\">23:14:00</td><td style = \"text-align: left;\">700 CRABTREE AVE, OWENSBORO, KY, 42301</td><td style = \"text-align: right;\">37.7677</td><td style = \"text-align: right;\">-87.1342</td><td style = \"text-align: left;\">ALPHA</td><td style = \"text-align: right;\">23</td><td style = \"text-align: left;\">white</td><td style = \"text-align: left;\">female</td><td style = \"text-align: left;\">fbd3670efb</td><td style = \"text-align: left;\">vehicular</td><td style = \"text-align: left;\">OPER MTR VEH U/INFLU ALC/DRUGS/ETC. .08 (AGG CIRCUM), 2ND; DRIVING ON DUI SUSPENDED LICENSE -1ST OFFENSE; POSS OF OPEN ALC BEVERAGE CONT IN MOTOR VEH PROHIBITED; FAILURE OF OWNER TO MAINTAIN REQUIRED INS/SEC, 1ST OFF; FAILURE TO WEAR SEAT BELTS</td><td style = \"text-align: right;\">true</td><td style = \"text-align: right;\">true</td><td style = \"text-align: left;\">arrest</td><td style = \"text-align: left;\">KY</td><td style = \"text-align: left;\">WHITE</td></tr><tr><td class = \"rowNumber\" style = \"font-weight: bold; text-align: right;\">10</td><td style = \"text-align: right;\">10</td><td style = \"text-align: left;\">2016-06-22</td><td style = \"text-align: left;\">01:20:00</td><td style = \"text-align: left;\">700 CRITTENDEN ST, OLATON, KY, 42361</td><td style = \"text-align: right;\">37.7695</td><td style = \"text-align: right;\">-87.1073</td><td style = \"text-align: left;\">BRAVO</td><td style = \"text-align: right;\">36</td><td style = \"text-align: left;\">white</td><td style = \"text-align: left;\">male</td><td style = \"text-align: left;\">fbd3670efb</td><td style = \"text-align: left;\">vehicular</td><td style = \"text-align: left;\">OPER MTR VEHICLE U/INFLUENCE ALC/DRUGS/ETC. .08 - 1ST OFF; OPERATING VEHICLE WITH EXPIRED OPERATORS LICENSE; DRUG PARAPHERLIA - BUY/POSSESS</td><td style = \"text-align: right;\">true</td><td style = \"text-align: right;\">true</td><td style = \"text-align: left;\">arrest</td><td style = \"text-align: left;\">KY</td><td style = \"text-align: left;\">WHITE</td></tr><tr><td class = \"rowNumber\" style = \"font-weight: bold; text-align: right;\">11</td><td style = \"text-align: right;\">11</td><td style = \"text-align: left;\">2016-06-29</td><td style = \"text-align: left;\">19:24:00</td><td style = \"text-align: left;\">1201 HUTCH LN, OWENSBORO, KY, 42301</td><td style = \"text-align: right;\">37.7622</td><td style = \"text-align: right;\">-87.1407</td><td style = \"text-align: left;\">ALPHA</td><td style = \"text-align: right;\">19</td><td style = \"text-align: left;\">white</td><td style = \"text-align: left;\">male</td><td style = \"text-align: left;\">fbd3670efb</td><td style = \"text-align: left;\">vehicular</td><td style = \"text-align: left;\">OPER MTR VEHICLE U/INFLUENCE ALC/DRUGS/ETC. .08 - 1ST OFF; LEAVING SCENE OF ACCIDENT-FAILURE TO RENDER AID OR ASSISTANCE; NO OPERATORS-MOPED LICENSE</td><td style = \"text-align: right;\">true</td><td style = \"text-align: right;\">true</td><td style = \"text-align: left;\">arrest</td><td style = \"text-align: left;\">KY</td><td style = \"text-align: left;\">WHITE</td></tr><tr><td class = \"rowNumber\" style = \"font-weight: bold; text-align: right;\">12</td><td style = \"text-align: right;\">12</td><td style = \"text-align: left;\">2015-11-21</td><td style = \"text-align: left;\">15:58:00</td><td style = \"text-align: left;\">900 BOOTH AVE, OWENSBORO, KY, 42301</td><td style = \"text-align: right;\">37.751</td><td style = \"text-align: right;\">-87.1195</td><td style = \"text-align: left;\">CHARLIE</td><td style = \"text-align: right;\">27</td><td style = \"text-align: left;\">black</td><td style = \"text-align: left;\">male</td><td style = \"text-align: left;\">d8167f8260</td><td style = \"text-align: left;\">vehicular</td><td style = \"text-align: left;\">NO REGISTRATION PLATES; FAILURE TO PRODUCE INSURANCE CARD; NO OPERATORS-MOPED LICENSE</td><td style = \"text-align: right;\">false</td><td style = \"text-align: right;\">true</td><td style = \"text-align: left;\">citation</td><td style = \"text-align: left;\">KY</td><td style = \"text-align: left;\">BLACK</td></tr><tr><td class = \"rowNumber\" style = \"font-weight: bold; text-align: right;\">13</td><td style = \"text-align: right;\">13</td><td style = \"text-align: left;\">2015-10-25</td><td style = \"text-align: left;\">04:20:00</td><td style = \"text-align: left;\">E BYERS AVE / FRIENDSHIP DRIVE, OWENSBORO, KY, 42303</td><td style = \"text-align: right;\">37.7566</td><td style = \"text-align: right;\">-87.0772</td><td style = \"text-align: left;\">DELTA</td><td style = \"text-align: right;\">30</td><td style = \"text-align: left;\">white</td><td style = \"text-align: left;\">male</td><td style = \"text-align: left;\">222e142740</td><td style = \"text-align: left;\">vehicular</td><td style = \"text-align: left;\">OPER MTR VEHICLE U/INFLUENCE ALC/DRUGS/ETC. .08 - 1ST OFF</td><td style = \"text-align: right;\">true</td><td style = \"text-align: right;\">true</td><td style = \"text-align: left;\">arrest</td><td style = \"text-align: left;\">KY</td><td style = \"text-align: left;\">WHITE</td></tr><tr><td style = \"text-align: right;\">&vellip;</td><td style = \"text-align: right;\">&vellip;</td><td style = \"text-align: right;\">&vellip;</td><td style = \"text-align: right;\">&vellip;</td><td style = \"text-align: right;\">&vellip;</td><td style = \"text-align: right;\">&vellip;</td><td style = \"text-align: right;\">&vellip;</td><td style = \"text-align: right;\">&vellip;</td><td style = \"text-align: right;\">&vellip;</td><td style = \"text-align: right;\">&vellip;</td><td style = \"text-align: right;\">&vellip;</td><td style = \"text-align: right;\">&vellip;</td><td style = \"text-align: right;\">&vellip;</td><td style = \"text-align: right;\">&vellip;</td><td style = \"text-align: right;\">&vellip;</td><td style = \"text-align: right;\">&vellip;</td><td style = \"text-align: right;\">&vellip;</td><td style = \"text-align: right;\">&vellip;</td><td style = \"text-align: right;\">&vellip;</td></tr><tr><td class = \"rowNumber\" style = \"font-weight: bold; text-align: right;\">6910</td><td style = \"text-align: right;\">6910</td><td style = \"text-align: left;\">2017-08-24</td><td style = \"text-align: left;\">23:51:00</td><td style = \"text-align: left;\">MCFARLAND AVE AND CARTER RD, OWENSBORO, KY, 42301</td><td style = \"text-align: right;\">37.7593</td><td style = \"text-align: right;\">-87.1462</td><td style = \"text-align: left;\">ALPHA</td><td style = \"text-align: right;\">65</td><td style = \"text-align: left;\">black</td><td style = \"text-align: left;\">male</td><td style = \"text-align: left;\">decf9509bb</td><td style = \"text-align: left;\">vehicular</td><td style = \"text-align: left;\">NO REGISTRATION PLATES; FAILURE TO PRODUCE INSURANCE CARD</td><td style = \"text-align: right;\">false</td><td style = \"text-align: right;\">true</td><td style = \"text-align: left;\">citation</td><td style = \"text-align: left;\">KY</td><td style = \"text-align: left;\">BLACK</td></tr><tr><td class = \"rowNumber\" style = \"font-weight: bold; text-align: right;\">6911</td><td style = \"text-align: right;\">6911</td><td style = \"text-align: left;\">2017-08-25</td><td style = \"text-align: left;\">00:00:00</td><td style = \"text-align: left;\">W 1ST ST / RIVER RD, OWENSBORO, KY, 42301</td><td style = \"text-align: right;\">37.7745</td><td style = \"text-align: right;\">-87.1368</td><td style = \"text-align: left;\">ALPHA</td><td style = \"text-align: right;\">16</td><td style = \"text-align: left;\">white</td><td style = \"text-align: left;\">male</td><td style = \"text-align: left;\">ec464c9b5b</td><td style = \"text-align: left;\">vehicular</td><td style = \"text-align: left;\">FAILURE TO OR IMPROPER SIGL; FAILURE TO PRODUCE INSURANCE CARD; NO OPERATORS-MOPED LICENSE</td><td style = \"text-align: right;\">false</td><td style = \"text-align: right;\">true</td><td style = \"text-align: left;\">citation</td><td style = \"text-align: left;\">KY</td><td style = \"text-align: left;\">WHITE</td></tr><tr><td class = \"rowNumber\" style = \"font-weight: bold; text-align: right;\">6912</td><td style = \"text-align: right;\">6912</td><td style = \"text-align: left;\">2017-08-26</td><td style = \"text-align: left;\">23:37:00</td><td style = \"text-align: left;\">2630 W PARRISH AVE, OWENSBORO, KY, 42301</td><td style = \"text-align: right;\">37.7577</td><td style = \"text-align: right;\">-87.1458</td><td style = \"text-align: left;\">CHARLIE</td><td style = \"text-align: right;\">65</td><td style = \"text-align: left;\">black</td><td style = \"text-align: left;\">male</td><td style = \"text-align: left;\">ec464c9b5b</td><td style = \"text-align: left;\">vehicular</td><td style = \"text-align: left;\">NO TAIL LAMPS; FAILURE TO PRODUCE INSURANCE CARD; NO REGISTRATION PLATES</td><td style = \"text-align: right;\">false</td><td style = \"text-align: right;\">true</td><td style = \"text-align: left;\">citation</td><td style = \"text-align: left;\">KY</td><td style = \"text-align: left;\">BLACK</td></tr><tr><td class = \"rowNumber\" style = \"font-weight: bold; text-align: right;\">6913</td><td style = \"text-align: right;\">6913</td><td style = \"text-align: left;\">2017-08-27</td><td style = \"text-align: left;\">00:39:00</td><td style = \"text-align: left;\">W 12TH ST / MORELAND AVE, OWENSBORO, KY, 42303</td><td style = \"text-align: right;\">37.7641</td><td style = \"text-align: right;\">-87.1222</td><td style = \"text-align: left;\">CHARLIE</td><td style = \"text-align: right;\">44</td><td style = \"text-align: left;\">white</td><td style = \"text-align: left;\">male</td><td style = \"text-align: left;\">ec464c9b5b</td><td style = \"text-align: left;\">vehicular</td><td style = \"text-align: left;\">ONE HEADLIGHT; FAILURE TO PRODUCE INSURANCE CARD; LICENSE TO BE IN POSSESSION; NO REGISTRATION PLATES</td><td style = \"text-align: right;\">false</td><td style = \"text-align: right;\">true</td><td style = \"text-align: left;\">citation</td><td style = \"text-align: left;\">IN</td><td style = \"text-align: left;\">WHITE</td></tr><tr><td class = \"rowNumber\" style = \"font-weight: bold; text-align: right;\">6914</td><td style = \"text-align: right;\">6914</td><td style = \"text-align: left;\">2017-08-27</td><td style = \"text-align: left;\">02:05:00</td><td style = \"text-align: left;\">W 4TH ST / CASTLEN ST, MORGANTOWN, KY, 42261</td><td style = \"text-align: right;\">37.7716</td><td style = \"text-align: right;\">-87.1293</td><td style = \"text-align: left;\">ALPHA</td><td style = \"text-align: right;\">34</td><td style = \"text-align: left;\">white</td><td style = \"text-align: left;\">male</td><td style = \"text-align: left;\">ec464c9b5b</td><td style = \"text-align: left;\">vehicular</td><td style = \"text-align: left;\">ONE HEADLIGHT; NO REGISTRATION RECEIPT; NO OPERATORS-MOPED LICENSE; OPER MTR VEHICLE U/INFLUENCE ALC/DRUGS/ETC. .08 - 1ST OFF</td><td style = \"text-align: right;\">true</td><td style = \"text-align: right;\">true</td><td style = \"text-align: left;\">arrest</td><td style = \"text-align: left;\">KY</td><td style = \"text-align: left;\">WHITE</td></tr><tr><td class = \"rowNumber\" style = \"font-weight: bold; text-align: right;\">6915</td><td style = \"text-align: right;\">6915</td><td style = \"text-align: left;\">2017-08-30</td><td style = \"text-align: left;\">10:50:00</td><td style = \"text-align: left;\">3000 BLOCK BURLEW BLVD, OWENSBORO, KY, 42301</td><td style = \"text-align: right;\">37.7398</td><td style = \"text-align: right;\">-87.0961</td><td style = \"text-align: left;\">FOX</td><td style = \"text-align: right;\">18</td><td style = \"text-align: left;\">white</td><td style = \"text-align: left;\">female</td><td style = \"text-align: left;\">db35a291c6</td><td style = \"text-align: left;\">vehicular</td><td style = \"text-align: left;\">SPEEDING 10 MPH OVER LIMIT</td><td style = \"text-align: right;\">false</td><td style = \"text-align: right;\">true</td><td style = \"text-align: left;\">citation</td><td style = \"text-align: left;\">KY</td><td style = \"text-align: left;\">WHITE</td></tr><tr><td class = \"rowNumber\" style = \"font-weight: bold; text-align: right;\">6916</td><td style = \"text-align: right;\">6916</td><td style = \"text-align: left;\">2017-08-30</td><td style = \"text-align: left;\">10:58:00</td><td style = \"text-align: left;\">3000 BLOCK BURLEW BLVD, PHILPOT, KY, 42366</td><td style = \"text-align: right;\">37.7398</td><td style = \"text-align: right;\">-87.0961</td><td style = \"text-align: left;\">FOX</td><td style = \"text-align: right;\">69</td><td style = \"text-align: left;\">white</td><td style = \"text-align: left;\">male</td><td style = \"text-align: left;\">db35a291c6</td><td style = \"text-align: left;\">vehicular</td><td style = \"text-align: left;\">SPEEDING 08 MPH OVER LIMIT; FAILURE TO OR IMPROPER SIGL</td><td style = \"text-align: right;\">false</td><td style = \"text-align: right;\">true</td><td style = \"text-align: left;\">citation</td><td style = \"text-align: left;\">KY</td><td style = \"text-align: left;\">WHITE</td></tr><tr><td class = \"rowNumber\" style = \"font-weight: bold; text-align: right;\">6917</td><td style = \"text-align: right;\">6917</td><td style = \"text-align: left;\">2017-08-30</td><td style = \"text-align: left;\">11:12:00</td><td style = \"text-align: left;\">3000 BLOCK BURLEW BLVD, OWENSBORO, KY, 42303</td><td style = \"text-align: right;\">37.7398</td><td style = \"text-align: right;\">-87.0961</td><td style = \"text-align: left;\">FOX</td><td style = \"text-align: right;\">21</td><td style = \"text-align: left;\">white</td><td style = \"text-align: left;\">female</td><td style = \"text-align: left;\">db35a291c6</td><td style = \"text-align: left;\">vehicular</td><td style = \"text-align: left;\">SPEEDING 10 MPH OVER LIMIT; FAILURE TO WEAR SEAT BELTS</td><td style = \"text-align: right;\">false</td><td style = \"text-align: right;\">true</td><td style = \"text-align: left;\">citation</td><td style = \"text-align: left;\">KY</td><td style = \"text-align: left;\">WHITE</td></tr><tr><td class = \"rowNumber\" style = \"font-weight: bold; text-align: right;\">6918</td><td style = \"text-align: right;\">6918</td><td style = \"text-align: left;\">2017-08-30</td><td style = \"text-align: left;\">11:23:00</td><td style = \"text-align: left;\">3000 BLOCK BURLEW BLVD, OWENSBORO, KY, 42303</td><td style = \"text-align: right;\">37.7398</td><td style = \"text-align: right;\">-87.0961</td><td style = \"text-align: left;\">FOX</td><td style = \"text-align: right;\">31</td><td style = \"text-align: left;\">white</td><td style = \"text-align: left;\">female</td><td style = \"text-align: left;\">db35a291c6</td><td style = \"text-align: left;\">vehicular</td><td style = \"text-align: left;\">SPEEDING 11 MPH OVER LIMIT; NO REGISTRATION RECEIPT</td><td style = \"text-align: right;\">false</td><td style = \"text-align: right;\">true</td><td style = \"text-align: left;\">citation</td><td style = \"text-align: left;\">KY</td><td style = \"text-align: left;\">WHITE</td></tr><tr><td class = \"rowNumber\" style = \"font-weight: bold; text-align: right;\">6919</td><td style = \"text-align: right;\">6919</td><td style = \"text-align: left;\">2017-08-30</td><td style = \"text-align: left;\">11:44:00</td><td style = \"text-align: left;\">3000 BLOCK BURLEW BLVD, OWENSBORO, KY, 42303</td><td style = \"text-align: right;\">37.7398</td><td style = \"text-align: right;\">-87.0961</td><td style = \"text-align: left;\">FOX</td><td style = \"text-align: right;\">28</td><td style = \"text-align: left;\">white</td><td style = \"text-align: left;\">female</td><td style = \"text-align: left;\">db35a291c6</td><td style = \"text-align: left;\">vehicular</td><td style = \"text-align: left;\">SPEEDING 17 MPH OVER LIMIT; FAILURE TO WEAR SEAT BELTS; LICENSE TO BE IN POSSESSION; FAILURE OF OWNER TO MAINTAIN REQUIRED INS/SEC, 1ST OFF; NO REGISTRATION PLATES; NO REGISTRATION RECEIPT</td><td style = \"text-align: right;\">false</td><td style = \"text-align: right;\">true</td><td style = \"text-align: left;\">citation</td><td style = \"text-align: left;\">KY</td><td style = \"text-align: left;\">WHITE</td></tr><tr><td class = \"rowNumber\" style = \"font-weight: bold; text-align: right;\">6920</td><td style = \"text-align: right;\">6920</td><td style = \"text-align: left;\">2017-08-30</td><td style = \"text-align: left;\">12:06:00</td><td style = \"text-align: left;\">3000 BLOCK BURLEW BLVD, OWENSBORO, KY, 42303</td><td style = \"text-align: right;\">37.7398</td><td style = \"text-align: right;\">-87.0961</td><td style = \"text-align: left;\">FOX</td><td style = \"text-align: right;\">70</td><td style = \"text-align: left;\">white</td><td style = \"text-align: left;\">male</td><td style = \"text-align: left;\">db35a291c6</td><td style = \"text-align: left;\">vehicular</td><td style = \"text-align: left;\">SPEEDING 13 MPH OVER LIMIT</td><td style = \"text-align: right;\">false</td><td style = \"text-align: right;\">true</td><td style = \"text-align: left;\">citation</td><td style = \"text-align: left;\">KY</td><td style = \"text-align: left;\">WHITE</td></tr><tr><td class = \"rowNumber\" style = \"font-weight: bold; text-align: right;\">6921</td><td style = \"text-align: right;\">6921</td><td style = \"text-align: left;\">2017-03-01</td><td style = \"text-align: left;\">17:28:00</td><td style = \"text-align: left;\"></td><td style = \"text-align: right;\">0.0</td><td style = \"font-style: italic; text-align: right;\">missing</td><td style = \"font-style: italic; text-align: left;\">missing</td><td style = \"text-align: right;\">22</td><td style = \"text-align: left;\">white</td><td style = \"text-align: left;\">male</td><td style = \"text-align: left;\">9555d0ba18</td><td style = \"text-align: left;\">vehicular</td><td style = \"text-align: left;\">FAILURE OF NON-OWNER OPERATOR TO MAINTAIN REQ INS/SEC, 1ST OFF; NO OTHER STATE REGISTRATION RECEIPT</td><td style = \"text-align: right;\">false</td><td style = \"text-align: right;\">true</td><td style = \"text-align: left;\">citation</td><td style = \"font-style: italic; text-align: left;\">missing</td><td style = \"text-align: left;\">WHITE</td></tr></tbody></table></div>"
      ],
      "text/latex": [
       "\\begin{tabular}{r|ccccc}\n",
       "\t& raw\\_row\\_number & date & time & location & \\\\\n",
       "\t\\hline\n",
       "\t& Int64 & Date & Time & String & \\\\\n",
       "\t\\hline\n",
       "\t1 & 1 & 2016-08-04 & 13:52:00 & 1016 HALL ST, OWENSBORO, KY, 42301 & $\\dots$ \\\\\n",
       "\t2 & 2 & 2016-04-03 & 01:48:00 & W PARRISH AVE/BYPASS, OWENSBORO, KY, 42301 & $\\dots$ \\\\\n",
       "\t3 & 3 & 2015-09-13 & 04:57:00 & 2511 HWY 144 ST, OWENSBORO, KY, 42303 & $\\dots$ \\\\\n",
       "\t4 & 4 & 2016-01-05 & 13:16:00 & CARTER RD \\& BITTEL RD, OWENSBORO, KY, 42301 & $\\dots$ \\\\\n",
       "\t5 & 5 & 2016-04-06 & 02:15:00 & FREDERICA ST \\& FAIRFAX DR, OWENSBORO, KY, 42301 & $\\dots$ \\\\\n",
       "\t6 & 6 & 2015-11-05 & 23:15:00 & FREDERICA ST AND WASHINGTON AVE, OWENSBORO, KY, 42303 & $\\dots$ \\\\\n",
       "\t7 & 7 & 2016-02-14 & 02:40:00 & 1301 FREDERICA ST, OWENSBORO, KY, 42301 & $\\dots$ \\\\\n",
       "\t8 & 8 & 2016-02-09 & 16:59:00 & 1300 MCFARLAND AVE, OWENSBORO, KY, 42301 & $\\dots$ \\\\\n",
       "\t9 & 9 & 2016-04-16 & 23:14:00 & 700 CRABTREE AVE, OWENSBORO, KY, 42301 & $\\dots$ \\\\\n",
       "\t10 & 10 & 2016-06-22 & 01:20:00 & 700 CRITTENDEN ST, OLATON, KY, 42361 & $\\dots$ \\\\\n",
       "\t11 & 11 & 2016-06-29 & 19:24:00 & 1201 HUTCH LN, OWENSBORO, KY, 42301 & $\\dots$ \\\\\n",
       "\t12 & 12 & 2015-11-21 & 15:58:00 & 900 BOOTH AVE, OWENSBORO, KY, 42301 & $\\dots$ \\\\\n",
       "\t13 & 13 & 2015-10-25 & 04:20:00 & E BYERS AVE / FRIENDSHIP DRIVE, OWENSBORO, KY, 42303 & $\\dots$ \\\\\n",
       "\t14 & 14 & 2015-12-03 & 17:24:00 & 2805 W PARRISH AVE, OWENSBORO, KY, 42301 & $\\dots$ \\\\\n",
       "\t15 & 15 & 2015-12-12 & 12:46:00 & 2245 RAGU DR, OWENSBORO, KY, 42301 & $\\dots$ \\\\\n",
       "\t16 & 16 & 2015-12-15 & 19:24:00 & W 8TH ST \\& MAPLE ST, OWENSBORO, KY, 42301 & $\\dots$ \\\\\n",
       "\t17 & 17 & 2016-01-30 & 16:24:00 & 1670 STARLITE DR, OWENSBORO, KY, 42303 & $\\dots$ \\\\\n",
       "\t18 & 18 & 2016-01-24 & 01:50:00 & 1700 W 4TH ST, OWENSBORO, KY, 42301 & $\\dots$ \\\\\n",
       "\t19 & 19 & 2016-03-21 & 09:05:00 & E 4TH ST  JR MILLER BLV, OWENSBORO, KY, 42301 & $\\dots$ \\\\\n",
       "\t20 & 20 & 2016-05-05 & 12:53:00 & 1800 W 9TH ST, OWENSBORO, KY, 42301 & $\\dots$ \\\\\n",
       "\t21 & 21 & 2015-11-05 & 13:17:00 & W PARRISH AVE/FREDERICA, PHILPOT, KY, 42366 & $\\dots$ \\\\\n",
       "\t22 & 22 & 2016-04-18 & 09:30:00 & 1400 W 9TH ST, OWENSBORO, KY, 42301 & $\\dots$ \\\\\n",
       "\t23 & 23 & 2015-10-22 & 16:36:00 & 510 JED PL, OWENSBORO, KY, 42301 & $\\dots$ \\\\\n",
       "\t24 & 24 & 2016-06-07 & 18:57:00 & J R MILLER BLVD \\& E 9TH STREET, DALLAS, TX, 75211 & $\\dots$ \\\\\n",
       "\t25 & 25 & 2015-11-20 & 18:07:00 & 1100 LEITCHFIELD RD, OWENSBORO, KY, 42303 & $\\dots$ \\\\\n",
       "\t26 & 26 & 2016-03-25 & 18:13:00 & 1200 E PARRISH AVE, OWENSBORO, KY, 42303 & $\\dots$ \\\\\n",
       "\t27 & 27 & 2015-09-30 & 03:37:00 & E 9TH ST / CRITTENDEN ST, OWENSBORO, KY, 42301 & $\\dots$ \\\\\n",
       "\t28 & 28 & 2015-10-01 & 23:39:00 & 500 W 9TH ST, BEAVER DAM, KY, 42320 & $\\dots$ \\\\\n",
       "\t29 & 29 & 2016-03-03 & 21:30:00 & 1300 W 5TH ST, OWENSBORO, KY, 42303 & $\\dots$ \\\\\n",
       "\t30 & 30 & 2015-10-31 & 01:50:00 & 300 FRAYSER AVE, OWENSBORO, KY, 42301 & $\\dots$ \\\\\n",
       "\t$\\dots$ & $\\dots$ & $\\dots$ & $\\dots$ & $\\dots$ &  \\\\\n",
       "\\end{tabular}\n"
      ],
      "text/plain": [
       "\u001b[1m6921×18 DataFrame\u001b[0m\n",
       "\u001b[1m  Row \u001b[0m│\u001b[1m raw_row_number \u001b[0m\u001b[1m date       \u001b[0m\u001b[1m time     \u001b[0m\u001b[1m location                        \u001b[0m ⋯\n",
       "      │\u001b[90m Int64          \u001b[0m\u001b[90m Date       \u001b[0m\u001b[90m Time     \u001b[0m\u001b[90m String                          \u001b[0m ⋯\n",
       "──────┼─────────────────────────────────────────────────────────────────────────\n",
       "    1 │              1  2016-08-04  13:52:00  1016 HALL ST, OWENSBORO, KY, 423 ⋯\n",
       "    2 │              2  2016-04-03  01:48:00  W PARRISH AVE/BYPASS, OWENSBORO,\n",
       "    3 │              3  2015-09-13  04:57:00  2511 HWY 144 ST, OWENSBORO, KY,\n",
       "    4 │              4  2016-01-05  13:16:00  CARTER RD & BITTEL RD, OWENSBORO\n",
       "    5 │              5  2016-04-06  02:15:00  FREDERICA ST & FAIRFAX DR, OWENS ⋯\n",
       "    6 │              6  2015-11-05  23:15:00  FREDERICA ST AND WASHINGTON AVE,\n",
       "    7 │              7  2016-02-14  02:40:00  1301 FREDERICA ST, OWENSBORO, KY\n",
       "    8 │              8  2016-02-09  16:59:00  1300 MCFARLAND AVE, OWENSBORO, K\n",
       "    9 │              9  2016-04-16  23:14:00  700 CRABTREE AVE, OWENSBORO, KY, ⋯\n",
       "   10 │             10  2016-06-22  01:20:00  700 CRITTENDEN ST, OLATON, KY, 4\n",
       "   11 │             11  2016-06-29  19:24:00  1201 HUTCH LN, OWENSBORO, KY, 42\n",
       "  ⋮   │       ⋮             ⋮          ⋮                      ⋮                ⋱\n",
       " 6912 │           6912  2017-08-26  23:37:00  2630 W PARRISH AVE, OWENSBORO, K\n",
       " 6913 │           6913  2017-08-27  00:39:00  W 12TH ST / MORELAND AVE, OWENSB ⋯\n",
       " 6914 │           6914  2017-08-27  02:05:00  W 4TH ST / CASTLEN ST, MORGANTOW\n",
       " 6915 │           6915  2017-08-30  10:50:00  3000 BLOCK BURLEW BLVD, OWENSBOR\n",
       " 6916 │           6916  2017-08-30  10:58:00  3000 BLOCK BURLEW BLVD, PHILPOT,\n",
       " 6917 │           6917  2017-08-30  11:12:00  3000 BLOCK BURLEW BLVD, OWENSBOR ⋯\n",
       " 6918 │           6918  2017-08-30  11:23:00  3000 BLOCK BURLEW BLVD, OWENSBOR\n",
       " 6919 │           6919  2017-08-30  11:44:00  3000 BLOCK BURLEW BLVD, OWENSBOR\n",
       " 6920 │           6920  2017-08-30  12:06:00  3000 BLOCK BURLEW BLVD, OWENSBOR\n",
       " 6921 │           6921  2017-03-01  17:28:00                                   ⋯\n",
       "\u001b[36m                                                15 columns and 6900 rows omitted\u001b[0m"
      ]
     },
     "execution_count": 2,
     "metadata": {},
     "output_type": "execute_result"
    }
   ],
   "source": [
    "owensboro = CSV.read(\"owensboro.csv\", DataFrame; missingstring=\"NA\")"
   ]
  },
  {
   "cell_type": "code",
   "execution_count": 3,
   "id": "3c6d9b6e",
   "metadata": {},
   "outputs": [
    {
     "ename": "LoadError",
     "evalue": "UndefVarError: `archive` not defined",
     "output_type": "error",
     "traceback": [
      "UndefVarError: `archive` not defined",
      "",
      "Stacktrace:",
      " [1] top-level scope",
      "   @ In[3]:1"
     ]
    }
   ],
   "source": [
    "close(archive)"
   ]
  },
  {
   "cell_type": "code",
   "execution_count": 4,
   "id": "98ebaaf6",
   "metadata": {},
   "outputs": [
    {
     "data": {
      "text/plain": [
       "\"6921×18 DataFrame\""
      ]
     },
     "execution_count": 4,
     "metadata": {},
     "output_type": "execute_result"
    }
   ],
   "source": [
    "summary(owensboro)"
   ]
  },
  {
   "cell_type": "code",
   "execution_count": 5,
   "id": "c079a94e",
   "metadata": {
    "scrolled": true
   },
   "outputs": [
    {
     "data": {
      "text/html": [
       "<div><div style = \"float: left;\"><span>18×4 DataFrame</span></div><div style = \"clear: both;\"></div></div><div class = \"data-frame\" style = \"overflow-x: scroll;\"><table class = \"data-frame\" style = \"margin-bottom: 6px;\"><thead><tr class = \"header\"><th class = \"rowNumber\" style = \"font-weight: bold; text-align: right;\">Row</th><th style = \"text-align: left;\">variable</th><th style = \"text-align: left;\">nunique</th><th style = \"text-align: left;\">nmissing</th><th style = \"text-align: left;\">eltype</th></tr><tr class = \"subheader headerLastRow\"><th class = \"rowNumber\" style = \"font-weight: bold; text-align: right;\"></th><th title = \"Symbol\" style = \"text-align: left;\">Symbol</th><th title = \"Union{Nothing, Int64}\" style = \"text-align: left;\">Union…</th><th title = \"Int64\" style = \"text-align: left;\">Int64</th><th title = \"Type\" style = \"text-align: left;\">Type</th></tr></thead><tbody><tr><td class = \"rowNumber\" style = \"font-weight: bold; text-align: right;\">1</td><td style = \"text-align: left;\">raw_row_number</td><td style = \"font-style: italic; text-align: left;\"></td><td style = \"text-align: right;\">0</td><td style = \"text-align: left;\">Int64</td></tr><tr><td class = \"rowNumber\" style = \"font-weight: bold; text-align: right;\">2</td><td style = \"text-align: left;\">date</td><td style = \"text-align: left;\">726</td><td style = \"text-align: right;\">0</td><td style = \"text-align: left;\">Date</td></tr><tr><td class = \"rowNumber\" style = \"font-weight: bold; text-align: right;\">3</td><td style = \"text-align: left;\">time</td><td style = \"text-align: left;\">1352</td><td style = \"text-align: right;\">0</td><td style = \"text-align: left;\">Time</td></tr><tr><td class = \"rowNumber\" style = \"font-weight: bold; text-align: right;\">4</td><td style = \"text-align: left;\">location</td><td style = \"text-align: left;\">4481</td><td style = \"text-align: right;\">0</td><td style = \"text-align: left;\">String</td></tr><tr><td class = \"rowNumber\" style = \"font-weight: bold; text-align: right;\">5</td><td style = \"text-align: left;\">lat</td><td style = \"font-style: italic; text-align: left;\"></td><td style = \"text-align: right;\">0</td><td style = \"text-align: left;\">Float64</td></tr><tr><td class = \"rowNumber\" style = \"font-weight: bold; text-align: right;\">6</td><td style = \"text-align: left;\">lng</td><td style = \"font-style: italic; text-align: left;\"></td><td style = \"text-align: right;\">9</td><td style = \"text-align: left;\">Union{Missing, Float64}</td></tr><tr><td class = \"rowNumber\" style = \"font-weight: bold; text-align: right;\">7</td><td style = \"text-align: left;\">sector</td><td style = \"text-align: left;\">10</td><td style = \"text-align: right;\">10</td><td style = \"text-align: left;\">Union{Missing, String15}</td></tr><tr><td class = \"rowNumber\" style = \"font-weight: bold; text-align: right;\">8</td><td style = \"text-align: left;\">subject_age</td><td style = \"font-style: italic; text-align: left;\"></td><td style = \"text-align: right;\">3</td><td style = \"text-align: left;\">Union{Missing, Int64}</td></tr><tr><td class = \"rowNumber\" style = \"font-weight: bold; text-align: right;\">9</td><td style = \"text-align: left;\">subject_race</td><td style = \"text-align: left;\">4</td><td style = \"text-align: right;\">18</td><td style = \"text-align: left;\">Union{Missing, String31}</td></tr><tr><td class = \"rowNumber\" style = \"font-weight: bold; text-align: right;\">10</td><td style = \"text-align: left;\">subject_sex</td><td style = \"text-align: left;\">2</td><td style = \"text-align: right;\">0</td><td style = \"text-align: left;\">String7</td></tr><tr><td class = \"rowNumber\" style = \"font-weight: bold; text-align: right;\">11</td><td style = \"text-align: left;\">officer_id_hash</td><td style = \"text-align: left;\">87</td><td style = \"text-align: right;\">0</td><td style = \"text-align: left;\">String15</td></tr><tr><td class = \"rowNumber\" style = \"font-weight: bold; text-align: right;\">12</td><td style = \"text-align: left;\">type</td><td style = \"text-align: left;\">2</td><td style = \"text-align: right;\">42</td><td style = \"text-align: left;\">Union{Missing, String15}</td></tr><tr><td class = \"rowNumber\" style = \"font-weight: bold; text-align: right;\">13</td><td style = \"text-align: left;\">violation</td><td style = \"text-align: left;\">1979</td><td style = \"text-align: right;\">0</td><td style = \"text-align: left;\">String</td></tr><tr><td class = \"rowNumber\" style = \"font-weight: bold; text-align: right;\">14</td><td style = \"text-align: left;\">arrest_made</td><td style = \"font-style: italic; text-align: left;\"></td><td style = \"text-align: right;\">0</td><td style = \"text-align: left;\">Bool</td></tr><tr><td class = \"rowNumber\" style = \"font-weight: bold; text-align: right;\">15</td><td style = \"text-align: left;\">citation_issued</td><td style = \"font-style: italic; text-align: left;\"></td><td style = \"text-align: right;\">0</td><td style = \"text-align: left;\">Bool</td></tr><tr><td class = \"rowNumber\" style = \"font-weight: bold; text-align: right;\">16</td><td style = \"text-align: left;\">outcome</td><td style = \"text-align: left;\">2</td><td style = \"text-align: right;\">0</td><td style = \"text-align: left;\">String15</td></tr><tr><td class = \"rowNumber\" style = \"font-weight: bold; text-align: right;\">17</td><td style = \"text-align: left;\">vehicle_registration_state</td><td style = \"text-align: left;\">35</td><td style = \"text-align: right;\">55</td><td style = \"text-align: left;\">Union{Missing, String3}</td></tr><tr><td class = \"rowNumber\" style = \"font-weight: bold; text-align: right;\">18</td><td style = \"text-align: left;\">raw_race</td><td style = \"text-align: left;\">4</td><td style = \"text-align: right;\">18</td><td style = \"text-align: left;\">Union{Missing, String31}</td></tr></tbody></table></div>"
      ],
      "text/latex": [
       "\\begin{tabular}{r|cccc}\n",
       "\t& variable & nunique & nmissing & eltype\\\\\n",
       "\t\\hline\n",
       "\t& Symbol & Union… & Int64 & Type\\\\\n",
       "\t\\hline\n",
       "\t1 & raw\\_row\\_number &  & 0 & Int64 \\\\\n",
       "\t2 & date & 726 & 0 & Date \\\\\n",
       "\t3 & time & 1352 & 0 & Time \\\\\n",
       "\t4 & location & 4481 & 0 & String \\\\\n",
       "\t5 & lat &  & 0 & Float64 \\\\\n",
       "\t6 & lng &  & 9 & Union\\{Missing, Float64\\} \\\\\n",
       "\t7 & sector & 10 & 10 & Union\\{Missing, String15\\} \\\\\n",
       "\t8 & subject\\_age &  & 3 & Union\\{Missing, Int64\\} \\\\\n",
       "\t9 & subject\\_race & 4 & 18 & Union\\{Missing, String31\\} \\\\\n",
       "\t10 & subject\\_sex & 2 & 0 & String7 \\\\\n",
       "\t11 & officer\\_id\\_hash & 87 & 0 & String15 \\\\\n",
       "\t12 & type & 2 & 42 & Union\\{Missing, String15\\} \\\\\n",
       "\t13 & violation & 1979 & 0 & String \\\\\n",
       "\t14 & arrest\\_made &  & 0 & Bool \\\\\n",
       "\t15 & citation\\_issued &  & 0 & Bool \\\\\n",
       "\t16 & outcome & 2 & 0 & String15 \\\\\n",
       "\t17 & vehicle\\_registration\\_state & 35 & 55 & Union\\{Missing, String3\\} \\\\\n",
       "\t18 & raw\\_race & 4 & 18 & Union\\{Missing, String31\\} \\\\\n",
       "\\end{tabular}\n"
      ],
      "text/plain": [
       "\u001b[1m18×4 DataFrame\u001b[0m\n",
       "\u001b[1m Row \u001b[0m│\u001b[1m variable                   \u001b[0m\u001b[1m nunique \u001b[0m\u001b[1m nmissing \u001b[0m\u001b[1m eltype                  \u001b[0m ⋯\n",
       "     │\u001b[90m Symbol                     \u001b[0m\u001b[90m Union…  \u001b[0m\u001b[90m Int64    \u001b[0m\u001b[90m Type                    \u001b[0m ⋯\n",
       "─────┼──────────────────────────────────────────────────────────────────────────\n",
       "   1 │ raw_row_number             \u001b[90m         \u001b[0m        0  Int64                    ⋯\n",
       "   2 │ date                        726             0  Date\n",
       "   3 │ time                        1352            0  Time\n",
       "   4 │ location                    4481            0  String\n",
       "   5 │ lat                        \u001b[90m         \u001b[0m        0  Float64                  ⋯\n",
       "   6 │ lng                        \u001b[90m         \u001b[0m        9  Union{Missing, Float64}\n",
       "   7 │ sector                      10             10  Union{Missing, String15}\n",
       "   8 │ subject_age                \u001b[90m         \u001b[0m        3  Union{Missing, Int64}\n",
       "   9 │ subject_race                4              18  Union{Missing, String31} ⋯\n",
       "  10 │ subject_sex                 2               0  String7\n",
       "  11 │ officer_id_hash             87              0  String15\n",
       "  12 │ type                        2              42  Union{Missing, String15}\n",
       "  13 │ violation                   1979            0  String                   ⋯\n",
       "  14 │ arrest_made                \u001b[90m         \u001b[0m        0  Bool\n",
       "  15 │ citation_issued            \u001b[90m         \u001b[0m        0  Bool\n",
       "  16 │ outcome                     2               0  String15\n",
       "  17 │ vehicle_registration_state  35             55  Union{Missing, String3}  ⋯\n",
       "  18 │ raw_race                    4              18  Union{Missing, String31}"
      ]
     },
     "execution_count": 5,
     "metadata": {},
     "output_type": "execute_result"
    }
   ],
   "source": [
    "describe(owensboro, :nunique, :nmissing, :eltype)"
   ]
  },
  {
   "cell_type": "code",
   "execution_count": 6,
   "id": "36cd04ee",
   "metadata": {
    "scrolled": true
   },
   "outputs": [
    {
     "data": {
      "text/html": [
       "<div><div style = \"float: left;\"><span>6921×4 DataFrame</span></div><div style = \"float: right;\"><span style = \"font-style: italic;\">6896 rows omitted</span></div><div style = \"clear: both;\"></div></div><div class = \"data-frame\" style = \"overflow-x: scroll;\"><table class = \"data-frame\" style = \"margin-bottom: 6px;\"><thead><tr class = \"header\"><th class = \"rowNumber\" style = \"font-weight: bold; text-align: right;\">Row</th><th style = \"text-align: left;\">date</th><th style = \"text-align: left;\">type</th><th style = \"text-align: left;\">arrest_made</th><th style = \"text-align: left;\">violation</th></tr><tr class = \"subheader headerLastRow\"><th class = \"rowNumber\" style = \"font-weight: bold; text-align: right;\"></th><th title = \"Date\" style = \"text-align: left;\">Date</th><th title = \"Union{Missing, String15}\" style = \"text-align: left;\">String15?</th><th title = \"Bool\" style = \"text-align: left;\">Bool</th><th title = \"String\" style = \"text-align: left;\">String</th></tr></thead><tbody><tr><td class = \"rowNumber\" style = \"font-weight: bold; text-align: right;\">1</td><td style = \"text-align: left;\">2016-08-04</td><td style = \"text-align: left;\">pedestrian</td><td style = \"text-align: right;\">true</td><td style = \"text-align: left;\">POSS CONT SUB 1ST DEG, 1ST OFF (METHAMPHETAMINE); DRUG PARAPHERLIA - BUY/POSSESS</td></tr><tr><td class = \"rowNumber\" style = \"font-weight: bold; text-align: right;\">2</td><td style = \"text-align: left;\">2016-04-03</td><td style = \"text-align: left;\">vehicular</td><td style = \"text-align: right;\">false</td><td style = \"text-align: left;\">FAILURE TO ILLUMITE HEAD LAMPS; NO OPERATORS-MOPED LICENSE; NO REGISTRATION PLATES</td></tr><tr><td class = \"rowNumber\" style = \"font-weight: bold; text-align: right;\">3</td><td style = \"text-align: left;\">2015-09-13</td><td style = \"text-align: left;\">vehicular</td><td style = \"text-align: right;\">true</td><td style = \"text-align: left;\">NO TAIL LAMPS; OPER MTR VEHICLE U/INFLUENCE ALC/DRUGS/ETC. .08 - 1ST OFF; POSS CONT SUB 1ST DEG, 1ST OFF (METHAMPHETAMINE); FAILURE OF OWNER TO MAINTAIN REQUIRED INS/SEC, 1ST OFF; VIOLATION UNKNOWN</td></tr><tr><td class = \"rowNumber\" style = \"font-weight: bold; text-align: right;\">4</td><td style = \"text-align: left;\">2016-01-05</td><td style = \"text-align: left;\">vehicular</td><td style = \"text-align: right;\">true</td><td style = \"text-align: left;\">OPER MTR VEH U/INFLU ALC/DRUGS/ETC. .08 (AGG CIRCUM), 2ND; DRIVING DUI SUSPENDED LICENSE - 1ST OFF (AGG CIRCUM)</td></tr><tr><td class = \"rowNumber\" style = \"font-weight: bold; text-align: right;\">5</td><td style = \"text-align: left;\">2016-04-06</td><td style = \"text-align: left;\">vehicular</td><td style = \"text-align: right;\">false</td><td style = \"text-align: left;\">OPERATING ON SUS OR REV OPER LICENSE</td></tr><tr><td class = \"rowNumber\" style = \"font-weight: bold; text-align: right;\">6</td><td style = \"text-align: left;\">2015-11-05</td><td style = \"text-align: left;\">vehicular</td><td style = \"text-align: right;\">false</td><td style = \"text-align: left;\">FAILURE TO WEAR SEAT BELTS</td></tr><tr><td class = \"rowNumber\" style = \"font-weight: bold; text-align: right;\">7</td><td style = \"text-align: left;\">2016-02-14</td><td style = \"text-align: left;\">vehicular</td><td style = \"text-align: right;\">true</td><td style = \"text-align: left;\">OPER MTR VEHICLE U/INFLUENCE ALC/DRUGS/ETC. .08 - 1ST OFF</td></tr><tr><td class = \"rowNumber\" style = \"font-weight: bold; text-align: right;\">8</td><td style = \"text-align: left;\">2016-02-09</td><td style = \"text-align: left;\">vehicular</td><td style = \"text-align: right;\">false</td><td style = \"text-align: left;\">DISREGARDING TRAFFIC CONT DEV-TRAFFIC LIGHT; LICENSE TO BE IN POSSESSION</td></tr><tr><td class = \"rowNumber\" style = \"font-weight: bold; text-align: right;\">9</td><td style = \"text-align: left;\">2016-04-16</td><td style = \"text-align: left;\">vehicular</td><td style = \"text-align: right;\">true</td><td style = \"text-align: left;\">OPER MTR VEH U/INFLU ALC/DRUGS/ETC. .08 (AGG CIRCUM), 2ND; DRIVING ON DUI SUSPENDED LICENSE -1ST OFFENSE; POSS OF OPEN ALC BEVERAGE CONT IN MOTOR VEH PROHIBITED; FAILURE OF OWNER TO MAINTAIN REQUIRED INS/SEC, 1ST OFF; FAILURE TO WEAR SEAT BELTS</td></tr><tr><td class = \"rowNumber\" style = \"font-weight: bold; text-align: right;\">10</td><td style = \"text-align: left;\">2016-06-22</td><td style = \"text-align: left;\">vehicular</td><td style = \"text-align: right;\">true</td><td style = \"text-align: left;\">OPER MTR VEHICLE U/INFLUENCE ALC/DRUGS/ETC. .08 - 1ST OFF; OPERATING VEHICLE WITH EXPIRED OPERATORS LICENSE; DRUG PARAPHERLIA - BUY/POSSESS</td></tr><tr><td class = \"rowNumber\" style = \"font-weight: bold; text-align: right;\">11</td><td style = \"text-align: left;\">2016-06-29</td><td style = \"text-align: left;\">vehicular</td><td style = \"text-align: right;\">true</td><td style = \"text-align: left;\">OPER MTR VEHICLE U/INFLUENCE ALC/DRUGS/ETC. .08 - 1ST OFF; LEAVING SCENE OF ACCIDENT-FAILURE TO RENDER AID OR ASSISTANCE; NO OPERATORS-MOPED LICENSE</td></tr><tr><td class = \"rowNumber\" style = \"font-weight: bold; text-align: right;\">12</td><td style = \"text-align: left;\">2015-11-21</td><td style = \"text-align: left;\">vehicular</td><td style = \"text-align: right;\">false</td><td style = \"text-align: left;\">NO REGISTRATION PLATES; FAILURE TO PRODUCE INSURANCE CARD; NO OPERATORS-MOPED LICENSE</td></tr><tr><td class = \"rowNumber\" style = \"font-weight: bold; text-align: right;\">13</td><td style = \"text-align: left;\">2015-10-25</td><td style = \"text-align: left;\">vehicular</td><td style = \"text-align: right;\">true</td><td style = \"text-align: left;\">OPER MTR VEHICLE U/INFLUENCE ALC/DRUGS/ETC. .08 - 1ST OFF</td></tr><tr><td style = \"text-align: right;\">&vellip;</td><td style = \"text-align: right;\">&vellip;</td><td style = \"text-align: right;\">&vellip;</td><td style = \"text-align: right;\">&vellip;</td><td style = \"text-align: right;\">&vellip;</td></tr><tr><td class = \"rowNumber\" style = \"font-weight: bold; text-align: right;\">6910</td><td style = \"text-align: left;\">2017-08-24</td><td style = \"text-align: left;\">vehicular</td><td style = \"text-align: right;\">false</td><td style = \"text-align: left;\">NO REGISTRATION PLATES; FAILURE TO PRODUCE INSURANCE CARD</td></tr><tr><td class = \"rowNumber\" style = \"font-weight: bold; text-align: right;\">6911</td><td style = \"text-align: left;\">2017-08-25</td><td style = \"text-align: left;\">vehicular</td><td style = \"text-align: right;\">false</td><td style = \"text-align: left;\">FAILURE TO OR IMPROPER SIGL; FAILURE TO PRODUCE INSURANCE CARD; NO OPERATORS-MOPED LICENSE</td></tr><tr><td class = \"rowNumber\" style = \"font-weight: bold; text-align: right;\">6912</td><td style = \"text-align: left;\">2017-08-26</td><td style = \"text-align: left;\">vehicular</td><td style = \"text-align: right;\">false</td><td style = \"text-align: left;\">NO TAIL LAMPS; FAILURE TO PRODUCE INSURANCE CARD; NO REGISTRATION PLATES</td></tr><tr><td class = \"rowNumber\" style = \"font-weight: bold; text-align: right;\">6913</td><td style = \"text-align: left;\">2017-08-27</td><td style = \"text-align: left;\">vehicular</td><td style = \"text-align: right;\">false</td><td style = \"text-align: left;\">ONE HEADLIGHT; FAILURE TO PRODUCE INSURANCE CARD; LICENSE TO BE IN POSSESSION; NO REGISTRATION PLATES</td></tr><tr><td class = \"rowNumber\" style = \"font-weight: bold; text-align: right;\">6914</td><td style = \"text-align: left;\">2017-08-27</td><td style = \"text-align: left;\">vehicular</td><td style = \"text-align: right;\">true</td><td style = \"text-align: left;\">ONE HEADLIGHT; NO REGISTRATION RECEIPT; NO OPERATORS-MOPED LICENSE; OPER MTR VEHICLE U/INFLUENCE ALC/DRUGS/ETC. .08 - 1ST OFF</td></tr><tr><td class = \"rowNumber\" style = \"font-weight: bold; text-align: right;\">6915</td><td style = \"text-align: left;\">2017-08-30</td><td style = \"text-align: left;\">vehicular</td><td style = \"text-align: right;\">false</td><td style = \"text-align: left;\">SPEEDING 10 MPH OVER LIMIT</td></tr><tr><td class = \"rowNumber\" style = \"font-weight: bold; text-align: right;\">6916</td><td style = \"text-align: left;\">2017-08-30</td><td style = \"text-align: left;\">vehicular</td><td style = \"text-align: right;\">false</td><td style = \"text-align: left;\">SPEEDING 08 MPH OVER LIMIT; FAILURE TO OR IMPROPER SIGL</td></tr><tr><td class = \"rowNumber\" style = \"font-weight: bold; text-align: right;\">6917</td><td style = \"text-align: left;\">2017-08-30</td><td style = \"text-align: left;\">vehicular</td><td style = \"text-align: right;\">false</td><td style = \"text-align: left;\">SPEEDING 10 MPH OVER LIMIT; FAILURE TO WEAR SEAT BELTS</td></tr><tr><td class = \"rowNumber\" style = \"font-weight: bold; text-align: right;\">6918</td><td style = \"text-align: left;\">2017-08-30</td><td style = \"text-align: left;\">vehicular</td><td style = \"text-align: right;\">false</td><td style = \"text-align: left;\">SPEEDING 11 MPH OVER LIMIT; NO REGISTRATION RECEIPT</td></tr><tr><td class = \"rowNumber\" style = \"font-weight: bold; text-align: right;\">6919</td><td style = \"text-align: left;\">2017-08-30</td><td style = \"text-align: left;\">vehicular</td><td style = \"text-align: right;\">false</td><td style = \"text-align: left;\">SPEEDING 17 MPH OVER LIMIT; FAILURE TO WEAR SEAT BELTS; LICENSE TO BE IN POSSESSION; FAILURE OF OWNER TO MAINTAIN REQUIRED INS/SEC, 1ST OFF; NO REGISTRATION PLATES; NO REGISTRATION RECEIPT</td></tr><tr><td class = \"rowNumber\" style = \"font-weight: bold; text-align: right;\">6920</td><td style = \"text-align: left;\">2017-08-30</td><td style = \"text-align: left;\">vehicular</td><td style = \"text-align: right;\">false</td><td style = \"text-align: left;\">SPEEDING 13 MPH OVER LIMIT</td></tr><tr><td class = \"rowNumber\" style = \"font-weight: bold; text-align: right;\">6921</td><td style = \"text-align: left;\">2017-03-01</td><td style = \"text-align: left;\">vehicular</td><td style = \"text-align: right;\">false</td><td style = \"text-align: left;\">FAILURE OF NON-OWNER OPERATOR TO MAINTAIN REQ INS/SEC, 1ST OFF; NO OTHER STATE REGISTRATION RECEIPT</td></tr></tbody></table></div>"
      ],
      "text/latex": [
       "\\begin{tabular}{r|cccc}\n",
       "\t& date & type & arrest\\_made & violation\\\\\n",
       "\t\\hline\n",
       "\t& Date & String15? & Bool & String\\\\\n",
       "\t\\hline\n",
       "\t1 & 2016-08-04 & pedestrian & 1 & POSS CONT SUB 1ST DEG, 1ST OFF (METHAMPHETAMINE); DRUG PARAPHERLIA - BUY/POSSESS \\\\\n",
       "\t2 & 2016-04-03 & vehicular & 0 & FAILURE TO ILLUMITE HEAD LAMPS; NO OPERATORS-MOPED LICENSE; NO REGISTRATION PLATES \\\\\n",
       "\t3 & 2015-09-13 & vehicular & 1 & NO TAIL LAMPS; OPER MTR VEHICLE U/INFLUENCE ALC/DRUGS/ETC. .08 - 1ST OFF; POSS CONT SUB 1ST DEG, 1ST OFF (METHAMPHETAMINE); FAILURE OF OWNER TO MAINTAIN REQUIRED INS/SEC, 1ST OFF; VIOLATION UNKNOWN \\\\\n",
       "\t4 & 2016-01-05 & vehicular & 1 & OPER MTR VEH U/INFLU ALC/DRUGS/ETC. .08 (AGG CIRCUM), 2ND; DRIVING DUI SUSPENDED LICENSE - 1ST OFF (AGG CIRCUM) \\\\\n",
       "\t5 & 2016-04-06 & vehicular & 0 & OPERATING ON SUS OR REV OPER LICENSE \\\\\n",
       "\t6 & 2015-11-05 & vehicular & 0 & FAILURE TO WEAR SEAT BELTS \\\\\n",
       "\t7 & 2016-02-14 & vehicular & 1 & OPER MTR VEHICLE U/INFLUENCE ALC/DRUGS/ETC. .08 - 1ST OFF \\\\\n",
       "\t8 & 2016-02-09 & vehicular & 0 & DISREGARDING TRAFFIC CONT DEV-TRAFFIC LIGHT; LICENSE TO BE IN POSSESSION \\\\\n",
       "\t9 & 2016-04-16 & vehicular & 1 & OPER MTR VEH U/INFLU ALC/DRUGS/ETC. .08 (AGG CIRCUM), 2ND; DRIVING ON DUI SUSPENDED LICENSE -1ST OFFENSE; POSS OF OPEN ALC BEVERAGE CONT IN MOTOR VEH PROHIBITED; FAILURE OF OWNER TO MAINTAIN REQUIRED INS/SEC, 1ST OFF; FAILURE TO WEAR SEAT BELTS \\\\\n",
       "\t10 & 2016-06-22 & vehicular & 1 & OPER MTR VEHICLE U/INFLUENCE ALC/DRUGS/ETC. .08 - 1ST OFF; OPERATING VEHICLE WITH EXPIRED OPERATORS LICENSE; DRUG PARAPHERLIA - BUY/POSSESS \\\\\n",
       "\t11 & 2016-06-29 & vehicular & 1 & OPER MTR VEHICLE U/INFLUENCE ALC/DRUGS/ETC. .08 - 1ST OFF; LEAVING SCENE OF ACCIDENT-FAILURE TO RENDER AID OR ASSISTANCE; NO OPERATORS-MOPED LICENSE \\\\\n",
       "\t12 & 2015-11-21 & vehicular & 0 & NO REGISTRATION PLATES; FAILURE TO PRODUCE INSURANCE CARD; NO OPERATORS-MOPED LICENSE \\\\\n",
       "\t13 & 2015-10-25 & vehicular & 1 & OPER MTR VEHICLE U/INFLUENCE ALC/DRUGS/ETC. .08 - 1ST OFF \\\\\n",
       "\t14 & 2015-12-03 & vehicular & 1 & OPER MTR VEHICLE U/INFLUENCE ALC/DRUGS/ETC. .08 - 2ND OFF; OPERATING ON SUS OR REV OPER LICENSE; POSS OF OPEN ALC BEVERAGE CONT IN MOTOR VEH PROHIBITED \\\\\n",
       "\t15 & 2015-12-12 & vehicular & 1 & OPER MTR VEHICLE U/INFLUENCE ALC/DRUGS/ETC. .08 - 2ND OFF; OPERATING ON SUS OR REV OPER LICENSE \\\\\n",
       "\t16 & 2015-12-15 & pedestrian & 1 & POSS CONT SUB 1ST DEG 1ST OFF (COCAINE); DRUG PARAPHERLIA - BUY/POSSESS \\\\\n",
       "\t17 & 2016-01-30 & pedestrian & 1 & TRAFF IN CONT SUB, 1ST DEGREE, 1ST OFF - (> OR = 2 GMS METHAMPHETAMINE); TRAF IN MARIJUA ( LESS THAN 8 OZ.) 1ST OFF \\\\\n",
       "\t18 & 2016-01-24 & vehicular & 1 & OPER MTR VEHICLE U/INFLU ALC/DRUGS/ETC. .08 (AGG CIRCUM) 1ST OFF; OPERATING ON SUS OR REV OPER LICENSE \\\\\n",
       "\t19 & 2016-03-21 & vehicular & 1 & OPER MTR VEHICLE U/INFLUENCE ALC/DRUGS/ETC. .08 - 1ST OFF; OPERATING ON SUS OR REV OPER LICENSE \\\\\n",
       "\t20 & 2016-05-05 & vehicular & 0 & NO REGISTRATION PLATES; OPERATING ON SUS OR REV OPER LICENSE \\\\\n",
       "\t21 & 2015-11-05 & vehicular & 1 & FAILURE TO WEAR SEAT BELTS; DRIVING DUI SUSPENDED LICENSE - 2ND OFFENSE \\\\\n",
       "\t22 & 2016-04-18 & pedestrian & 1 & POSS CONT SUB 1ST DEG 1ST OFF (OPIATES); POSS CONT SUB, 3RD DEGREE - DRUG UNSPECIFIED; FAILURE TO WEAR SEAT BELTS \\\\\n",
       "\t23 & 2015-10-22 & pedestrian & 1 & TRAF IN MARIJUA ( > 5 LBS.) 1ST OFF; DRUG PARAPHERLIA - BUY/POSSESS \\\\\n",
       "\t24 & 2016-06-07 & pedestrian & 1 & TRAFF IN CONT SUB, 1ST DEGREE, 1ST OFF - (< 2 GMS HEROIN); TRAFF IN CONT SUB, 3RD DEGREE, 1ST OFF - (< 20 D.U. DRUG UNSPECIFIED); RECKLESS DRIVING; NO OPERATORS-MOPED LICENSE \\\\\n",
       "\t25 & 2015-11-20 & vehicular & 1 & FAILURE OF OWNER TO MAINTAIN REQUIRED INS/SEC, 1ST OFF; NO REGISTRATION PLATES; TRAF IN MARIJUA ( LESS THAN 8 OZ.) 1ST OFF \\\\\n",
       "\t26 & 2016-03-25 & vehicular & 1 & OPER MTR VEHICLE U/INFLUENCE ALC/DRUGS/ETC. .08 - 2ND OFF \\\\\n",
       "\t27 & 2015-09-30 & vehicular & 0 & OPERATING ON SUS OR REV OPER LICENSE \\\\\n",
       "\t28 & 2015-10-01 & vehicular & 0 & NO REGISTRATION PLATES \\\\\n",
       "\t29 & 2016-03-03 & vehicular & 1 & SPEEDING 12 MPH OVER LIMIT; DRIVING ON DUI SUSPENDED LICENSE -1ST OFFENSE; OPER MTR VEH U/INFLU ALC/DRUGS/ETC. .08 (AGG CIRCUM), 2ND; ENDANGERING THE WELFARE OF A MINOR; CARRYING A CONCEALED WEAPON; POSS OF OPEN ALC BEVERAGE CONT IN MOTOR VEH PROHIBITED \\\\\n",
       "\t30 & 2015-10-31 & vehicular & 1 & OPER MTR VEHICLE U/INFLU ALC/DRUGS/ETC. .08 (AGG CIRCUM) 1ST OFF \\\\\n",
       "\t$\\dots$ & $\\dots$ & $\\dots$ & $\\dots$ & $\\dots$ \\\\\n",
       "\\end{tabular}\n"
      ],
      "text/plain": [
       "\u001b[1m6921×4 DataFrame\u001b[0m\n",
       "\u001b[1m  Row \u001b[0m│\u001b[1m date       \u001b[0m\u001b[1m type       \u001b[0m\u001b[1m arrest_made \u001b[0m\u001b[1m violation                        \u001b[0m ⋯\n",
       "      │\u001b[90m Date       \u001b[0m\u001b[90m String15?  \u001b[0m\u001b[90m Bool        \u001b[0m\u001b[90m String                           \u001b[0m ⋯\n",
       "──────┼─────────────────────────────────────────────────────────────────────────\n",
       "    1 │ 2016-08-04  pedestrian         true  POSS CONT SUB 1ST DEG, 1ST OFF (… ⋯\n",
       "    2 │ 2016-04-03  vehicular         false  FAILURE TO ILLUMITE HEAD LAMPS; …\n",
       "    3 │ 2015-09-13  vehicular          true  NO TAIL LAMPS; OPER MTR VEHICLE …\n",
       "    4 │ 2016-01-05  vehicular          true  OPER MTR VEH U/INFLU ALC/DRUGS/E…\n",
       "    5 │ 2016-04-06  vehicular         false  OPERATING ON SUS OR REV OPER LIC… ⋯\n",
       "    6 │ 2015-11-05  vehicular         false  FAILURE TO WEAR SEAT BELTS\n",
       "    7 │ 2016-02-14  vehicular          true  OPER MTR VEHICLE U/INFLUENCE ALC…\n",
       "    8 │ 2016-02-09  vehicular         false  DISREGARDING TRAFFIC CONT DEV-TR…\n",
       "    9 │ 2016-04-16  vehicular          true  OPER MTR VEH U/INFLU ALC/DRUGS/E… ⋯\n",
       "   10 │ 2016-06-22  vehicular          true  OPER MTR VEHICLE U/INFLUENCE ALC…\n",
       "   11 │ 2016-06-29  vehicular          true  OPER MTR VEHICLE U/INFLUENCE ALC…\n",
       "  ⋮   │     ⋮           ⋮            ⋮                       ⋮                 ⋱\n",
       " 6912 │ 2017-08-26  vehicular         false  NO TAIL LAMPS; FAILURE TO PRODUC…\n",
       " 6913 │ 2017-08-27  vehicular         false  ONE HEADLIGHT; FAILURE TO PRODUC… ⋯\n",
       " 6914 │ 2017-08-27  vehicular          true  ONE HEADLIGHT; NO REGISTRATION R…\n",
       " 6915 │ 2017-08-30  vehicular         false  SPEEDING 10 MPH OVER LIMIT\n",
       " 6916 │ 2017-08-30  vehicular         false  SPEEDING 08 MPH OVER LIMIT; FAIL…\n",
       " 6917 │ 2017-08-30  vehicular         false  SPEEDING 10 MPH OVER LIMIT; FAIL… ⋯\n",
       " 6918 │ 2017-08-30  vehicular         false  SPEEDING 11 MPH OVER LIMIT; NO R…\n",
       " 6919 │ 2017-08-30  vehicular         false  SPEEDING 17 MPH OVER LIMIT; FAIL…\n",
       " 6920 │ 2017-08-30  vehicular         false  SPEEDING 13 MPH OVER LIMIT\n",
       " 6921 │ 2017-03-01  vehicular         false  FAILURE OF NON-OWNER OPERATOR TO… ⋯\n",
       "\u001b[36m                                                              6900 rows omitted\u001b[0m"
      ]
     },
     "execution_count": 6,
     "metadata": {},
     "output_type": "execute_result"
    }
   ],
   "source": [
    "select!(owensboro, :date, :type, :arrest_made, :violation)"
   ]
  },
  {
   "cell_type": "code",
   "execution_count": 7,
   "id": "938dda90",
   "metadata": {},
   "outputs": [
    {
     "data": {
      "text/plain": [
       "\"6921×4 DataFrame\""
      ]
     },
     "execution_count": 7,
     "metadata": {},
     "output_type": "execute_result"
    }
   ],
   "source": [
    "summary(owensboro)"
   ]
  },
  {
   "cell_type": "code",
   "execution_count": 8,
   "id": "1da6351b",
   "metadata": {},
   "outputs": [
    {
     "data": {
      "text/html": [
       "<div><div style = \"float: left;\"><span>4×4 DataFrame</span></div><div style = \"clear: both;\"></div></div><div class = \"data-frame\" style = \"overflow-x: scroll;\"><table class = \"data-frame\" style = \"margin-bottom: 6px;\"><thead><tr class = \"header\"><th class = \"rowNumber\" style = \"font-weight: bold; text-align: right;\">Row</th><th style = \"text-align: left;\">variable</th><th style = \"text-align: left;\">nunique</th><th style = \"text-align: left;\">nmissing</th><th style = \"text-align: left;\">eltype</th></tr><tr class = \"subheader headerLastRow\"><th class = \"rowNumber\" style = \"font-weight: bold; text-align: right;\"></th><th title = \"Symbol\" style = \"text-align: left;\">Symbol</th><th title = \"Union{Nothing, Int64}\" style = \"text-align: left;\">Union…</th><th title = \"Int64\" style = \"text-align: left;\">Int64</th><th title = \"Type\" style = \"text-align: left;\">Type</th></tr></thead><tbody><tr><td class = \"rowNumber\" style = \"font-weight: bold; text-align: right;\">1</td><td style = \"text-align: left;\">date</td><td style = \"text-align: left;\">726</td><td style = \"text-align: right;\">0</td><td style = \"text-align: left;\">Date</td></tr><tr><td class = \"rowNumber\" style = \"font-weight: bold; text-align: right;\">2</td><td style = \"text-align: left;\">type</td><td style = \"text-align: left;\">2</td><td style = \"text-align: right;\">42</td><td style = \"text-align: left;\">Union{Missing, String15}</td></tr><tr><td class = \"rowNumber\" style = \"font-weight: bold; text-align: right;\">3</td><td style = \"text-align: left;\">arrest_made</td><td style = \"font-style: italic; text-align: left;\"></td><td style = \"text-align: right;\">0</td><td style = \"text-align: left;\">Bool</td></tr><tr><td class = \"rowNumber\" style = \"font-weight: bold; text-align: right;\">4</td><td style = \"text-align: left;\">violation</td><td style = \"text-align: left;\">1979</td><td style = \"text-align: right;\">0</td><td style = \"text-align: left;\">String</td></tr></tbody></table></div>"
      ],
      "text/latex": [
       "\\begin{tabular}{r|cccc}\n",
       "\t& variable & nunique & nmissing & eltype\\\\\n",
       "\t\\hline\n",
       "\t& Symbol & Union… & Int64 & Type\\\\\n",
       "\t\\hline\n",
       "\t1 & date & 726 & 0 & Date \\\\\n",
       "\t2 & type & 2 & 42 & Union\\{Missing, String15\\} \\\\\n",
       "\t3 & arrest\\_made &  & 0 & Bool \\\\\n",
       "\t4 & violation & 1979 & 0 & String \\\\\n",
       "\\end{tabular}\n"
      ],
      "text/plain": [
       "\u001b[1m4×4 DataFrame\u001b[0m\n",
       "\u001b[1m Row \u001b[0m│\u001b[1m variable    \u001b[0m\u001b[1m nunique \u001b[0m\u001b[1m nmissing \u001b[0m\u001b[1m eltype                   \u001b[0m\n",
       "     │\u001b[90m Symbol      \u001b[0m\u001b[90m Union…  \u001b[0m\u001b[90m Int64    \u001b[0m\u001b[90m Type                     \u001b[0m\n",
       "─────┼──────────────────────────────────────────────────────────\n",
       "   1 │ date         726             0  Date\n",
       "   2 │ type         2              42  Union{Missing, String15}\n",
       "   3 │ arrest_made \u001b[90m         \u001b[0m        0  Bool\n",
       "   4 │ violation    1979            0  String"
      ]
     },
     "execution_count": 8,
     "metadata": {},
     "output_type": "execute_result"
    }
   ],
   "source": [
    "describe(owensboro, :nunique, :nmissing, :eltype)"
   ]
  },
  {
   "cell_type": "markdown",
   "id": "4431a8dc",
   "metadata": {},
   "source": [
    "### Comparison of functions that perform operations on columns"
   ]
  },
  {
   "cell_type": "code",
   "execution_count": 9,
   "id": "140085d9",
   "metadata": {},
   "outputs": [
    {
     "data": {
      "text/html": [
       "<div><div style = \"float: left;\"><span>4×2 DataFrame</span></div><div style = \"clear: both;\"></div></div><div class = \"data-frame\" style = \"overflow-x: scroll;\"><table class = \"data-frame\" style = \"margin-bottom: 6px;\"><thead><tr class = \"header\"><th class = \"rowNumber\" style = \"font-weight: bold; text-align: right;\">Row</th><th style = \"text-align: left;\">id</th><th style = \"text-align: left;\">v</th></tr><tr class = \"subheader headerLastRow\"><th class = \"rowNumber\" style = \"font-weight: bold; text-align: right;\"></th><th title = \"Int64\" style = \"text-align: left;\">Int64</th><th title = \"Int64\" style = \"text-align: left;\">Int64</th></tr></thead><tbody><tr><td class = \"rowNumber\" style = \"font-weight: bold; text-align: right;\">1</td><td style = \"text-align: right;\">1</td><td style = \"text-align: right;\">1</td></tr><tr><td class = \"rowNumber\" style = \"font-weight: bold; text-align: right;\">2</td><td style = \"text-align: right;\">2</td><td style = \"text-align: right;\">2</td></tr><tr><td class = \"rowNumber\" style = \"font-weight: bold; text-align: right;\">3</td><td style = \"text-align: right;\">1</td><td style = \"text-align: right;\">3</td></tr><tr><td class = \"rowNumber\" style = \"font-weight: bold; text-align: right;\">4</td><td style = \"text-align: right;\">2</td><td style = \"text-align: right;\">4</td></tr></tbody></table></div>"
      ],
      "text/latex": [
       "\\begin{tabular}{r|cc}\n",
       "\t& id & v\\\\\n",
       "\t\\hline\n",
       "\t& Int64 & Int64\\\\\n",
       "\t\\hline\n",
       "\t1 & 1 & 1 \\\\\n",
       "\t2 & 2 & 2 \\\\\n",
       "\t3 & 1 & 3 \\\\\n",
       "\t4 & 2 & 4 \\\\\n",
       "\\end{tabular}\n"
      ],
      "text/plain": [
       "\u001b[1m4×2 DataFrame\u001b[0m\n",
       "\u001b[1m Row \u001b[0m│\u001b[1m id    \u001b[0m\u001b[1m v     \u001b[0m\n",
       "     │\u001b[90m Int64 \u001b[0m\u001b[90m Int64 \u001b[0m\n",
       "─────┼──────────────\n",
       "   1 │     1      1\n",
       "   2 │     2      2\n",
       "   3 │     1      3\n",
       "   4 │     2      4"
      ]
     },
     "execution_count": 9,
     "metadata": {},
     "output_type": "execute_result"
    }
   ],
   "source": [
    "df = DataFrame(id=[1, 2, 1, 2], v=1:4)"
   ]
  },
  {
   "cell_type": "code",
   "execution_count": 10,
   "id": "eafcb151",
   "metadata": {},
   "outputs": [
    {
     "data": {
      "text/html": [
       "<div><div style = \"float: left;\"><span>1×1 DataFrame</span></div><div style = \"clear: both;\"></div></div><div class = \"data-frame\" style = \"overflow-x: scroll;\"><table class = \"data-frame\" style = \"margin-bottom: 6px;\"><thead><tr class = \"header\"><th class = \"rowNumber\" style = \"font-weight: bold; text-align: right;\">Row</th><th style = \"text-align: left;\">sum</th></tr><tr class = \"subheader headerLastRow\"><th class = \"rowNumber\" style = \"font-weight: bold; text-align: right;\"></th><th title = \"Int64\" style = \"text-align: left;\">Int64</th></tr></thead><tbody><tr><td class = \"rowNumber\" style = \"font-weight: bold; text-align: right;\">1</td><td style = \"text-align: right;\">10</td></tr></tbody></table></div>"
      ],
      "text/latex": [
       "\\begin{tabular}{r|c}\n",
       "\t& sum\\\\\n",
       "\t\\hline\n",
       "\t& Int64\\\\\n",
       "\t\\hline\n",
       "\t1 & 10 \\\\\n",
       "\\end{tabular}\n"
      ],
      "text/plain": [
       "\u001b[1m1×1 DataFrame\u001b[0m\n",
       "\u001b[1m Row \u001b[0m│\u001b[1m sum   \u001b[0m\n",
       "     │\u001b[90m Int64 \u001b[0m\n",
       "─────┼───────\n",
       "   1 │    10"
      ]
     },
     "execution_count": 10,
     "metadata": {},
     "output_type": "execute_result"
    }
   ],
   "source": [
    "combine(df, :v => sum => :sum)"
   ]
  },
  {
   "cell_type": "code",
   "execution_count": 11,
   "id": "4dc519ef",
   "metadata": {},
   "outputs": [
    {
     "data": {
      "text/html": [
       "<div><div style = \"float: left;\"><span>4×3 DataFrame</span></div><div style = \"clear: both;\"></div></div><div class = \"data-frame\" style = \"overflow-x: scroll;\"><table class = \"data-frame\" style = \"margin-bottom: 6px;\"><thead><tr class = \"header\"><th class = \"rowNumber\" style = \"font-weight: bold; text-align: right;\">Row</th><th style = \"text-align: left;\">id</th><th style = \"text-align: left;\">v</th><th style = \"text-align: left;\">sum</th></tr><tr class = \"subheader headerLastRow\"><th class = \"rowNumber\" style = \"font-weight: bold; text-align: right;\"></th><th title = \"Int64\" style = \"text-align: left;\">Int64</th><th title = \"Int64\" style = \"text-align: left;\">Int64</th><th title = \"Int64\" style = \"text-align: left;\">Int64</th></tr></thead><tbody><tr><td class = \"rowNumber\" style = \"font-weight: bold; text-align: right;\">1</td><td style = \"text-align: right;\">1</td><td style = \"text-align: right;\">1</td><td style = \"text-align: right;\">10</td></tr><tr><td class = \"rowNumber\" style = \"font-weight: bold; text-align: right;\">2</td><td style = \"text-align: right;\">2</td><td style = \"text-align: right;\">2</td><td style = \"text-align: right;\">10</td></tr><tr><td class = \"rowNumber\" style = \"font-weight: bold; text-align: right;\">3</td><td style = \"text-align: right;\">1</td><td style = \"text-align: right;\">3</td><td style = \"text-align: right;\">10</td></tr><tr><td class = \"rowNumber\" style = \"font-weight: bold; text-align: right;\">4</td><td style = \"text-align: right;\">2</td><td style = \"text-align: right;\">4</td><td style = \"text-align: right;\">10</td></tr></tbody></table></div>"
      ],
      "text/latex": [
       "\\begin{tabular}{r|ccc}\n",
       "\t& id & v & sum\\\\\n",
       "\t\\hline\n",
       "\t& Int64 & Int64 & Int64\\\\\n",
       "\t\\hline\n",
       "\t1 & 1 & 1 & 10 \\\\\n",
       "\t2 & 2 & 2 & 10 \\\\\n",
       "\t3 & 1 & 3 & 10 \\\\\n",
       "\t4 & 2 & 4 & 10 \\\\\n",
       "\\end{tabular}\n"
      ],
      "text/plain": [
       "\u001b[1m4×3 DataFrame\u001b[0m\n",
       "\u001b[1m Row \u001b[0m│\u001b[1m id    \u001b[0m\u001b[1m v     \u001b[0m\u001b[1m sum   \u001b[0m\n",
       "     │\u001b[90m Int64 \u001b[0m\u001b[90m Int64 \u001b[0m\u001b[90m Int64 \u001b[0m\n",
       "─────┼─────────────────────\n",
       "   1 │     1      1     10\n",
       "   2 │     2      2     10\n",
       "   3 │     1      3     10\n",
       "   4 │     2      4     10"
      ]
     },
     "execution_count": 11,
     "metadata": {},
     "output_type": "execute_result"
    }
   ],
   "source": [
    "transform(df, :v => sum => :sum)"
   ]
  },
  {
   "cell_type": "code",
   "execution_count": 12,
   "id": "b97de9b5",
   "metadata": {},
   "outputs": [
    {
     "data": {
      "text/html": [
       "<div><div style = \"float: left;\"><span>4×1 DataFrame</span></div><div style = \"clear: both;\"></div></div><div class = \"data-frame\" style = \"overflow-x: scroll;\"><table class = \"data-frame\" style = \"margin-bottom: 6px;\"><thead><tr class = \"header\"><th class = \"rowNumber\" style = \"font-weight: bold; text-align: right;\">Row</th><th style = \"text-align: left;\">sum</th></tr><tr class = \"subheader headerLastRow\"><th class = \"rowNumber\" style = \"font-weight: bold; text-align: right;\"></th><th title = \"Int64\" style = \"text-align: left;\">Int64</th></tr></thead><tbody><tr><td class = \"rowNumber\" style = \"font-weight: bold; text-align: right;\">1</td><td style = \"text-align: right;\">10</td></tr><tr><td class = \"rowNumber\" style = \"font-weight: bold; text-align: right;\">2</td><td style = \"text-align: right;\">10</td></tr><tr><td class = \"rowNumber\" style = \"font-weight: bold; text-align: right;\">3</td><td style = \"text-align: right;\">10</td></tr><tr><td class = \"rowNumber\" style = \"font-weight: bold; text-align: right;\">4</td><td style = \"text-align: right;\">10</td></tr></tbody></table></div>"
      ],
      "text/latex": [
       "\\begin{tabular}{r|c}\n",
       "\t& sum\\\\\n",
       "\t\\hline\n",
       "\t& Int64\\\\\n",
       "\t\\hline\n",
       "\t1 & 10 \\\\\n",
       "\t2 & 10 \\\\\n",
       "\t3 & 10 \\\\\n",
       "\t4 & 10 \\\\\n",
       "\\end{tabular}\n"
      ],
      "text/plain": [
       "\u001b[1m4×1 DataFrame\u001b[0m\n",
       "\u001b[1m Row \u001b[0m│\u001b[1m sum   \u001b[0m\n",
       "     │\u001b[90m Int64 \u001b[0m\n",
       "─────┼───────\n",
       "   1 │    10\n",
       "   2 │    10\n",
       "   3 │    10\n",
       "   4 │    10"
      ]
     },
     "execution_count": 12,
     "metadata": {},
     "output_type": "execute_result"
    }
   ],
   "source": [
    "select(df, :v => sum => :sum)"
   ]
  },
  {
   "cell_type": "code",
   "execution_count": 13,
   "id": "3b8f70d9",
   "metadata": {},
   "outputs": [
    {
     "data": {
      "text/html": [
       "<p><b>GroupedDataFrame with 2 groups based on key: id</b></p><div><div style = \"float: left;\"><span>First Group (2 rows): id = 1</span></div><div style = \"clear: both;\"></div></div><div class = \"data-frame\" style = \"overflow-x: scroll;\"><table class = \"data-frame\" style = \"margin-bottom: 6px;\"><thead><tr class = \"header\"><th class = \"rowNumber\" style = \"font-weight: bold; text-align: right;\">Row</th><th style = \"text-align: left;\">id</th><th style = \"text-align: left;\">v</th></tr><tr class = \"subheader headerLastRow\"><th class = \"rowNumber\" style = \"font-weight: bold; text-align: right;\"></th><th title = \"Int64\" style = \"text-align: left;\">Int64</th><th title = \"Int64\" style = \"text-align: left;\">Int64</th></tr></thead><tbody><tr><td class = \"rowNumber\" style = \"font-weight: bold; text-align: right;\">1</td><td style = \"text-align: right;\">1</td><td style = \"text-align: right;\">1</td></tr><tr><td class = \"rowNumber\" style = \"font-weight: bold; text-align: right;\">2</td><td style = \"text-align: right;\">1</td><td style = \"text-align: right;\">3</td></tr></tbody></table></div><p>&vellip;</p><div><div style = \"float: left;\"><span>Last Group (2 rows): id = 2</span></div><div style = \"clear: both;\"></div></div><div class = \"data-frame\" style = \"overflow-x: scroll;\"><table class = \"data-frame\" style = \"margin-bottom: 6px;\"><thead><tr class = \"header\"><th class = \"rowNumber\" style = \"font-weight: bold; text-align: right;\">Row</th><th style = \"text-align: left;\">id</th><th style = \"text-align: left;\">v</th></tr><tr class = \"subheader headerLastRow\"><th class = \"rowNumber\" style = \"font-weight: bold; text-align: right;\"></th><th title = \"Int64\" style = \"text-align: left;\">Int64</th><th title = \"Int64\" style = \"text-align: left;\">Int64</th></tr></thead><tbody><tr><td class = \"rowNumber\" style = \"font-weight: bold; text-align: right;\">1</td><td style = \"text-align: right;\">2</td><td style = \"text-align: right;\">2</td></tr><tr><td class = \"rowNumber\" style = \"font-weight: bold; text-align: right;\">2</td><td style = \"text-align: right;\">2</td><td style = \"text-align: right;\">4</td></tr></tbody></table></div>"
      ],
      "text/latex": [
       "GroupedDataFrame with 2 groups based on key: id\n",
       "\n",
       "First Group (2 rows): id = 1\n",
       "\n",
       "\\begin{tabular}{r|cc}\n",
       "\t& id & v\\\\\n",
       "\t\\hline\n",
       "\t& Int64 & Int64\\\\\n",
       "\t\\hline\n",
       "\t1 & 1 & 1 \\\\\n",
       "\t2 & 1 & 3 \\\\\n",
       "\\end{tabular}\n",
       "\n",
       "$\\dots$\n",
       "\n",
       "Last Group (2 rows): id = 2\n",
       "\n",
       "\\begin{tabular}{r|cc}\n",
       "\t& id & v\\\\\n",
       "\t\\hline\n",
       "\t& Int64 & Int64\\\\\n",
       "\t\\hline\n",
       "\t1 & 2 & 2 \\\\\n",
       "\t2 & 2 & 4 \\\\\n",
       "\\end{tabular}\n"
      ],
      "text/plain": [
       "GroupedDataFrame with 2 groups based on key: id\n",
       "First Group (2 rows): id = 1\n",
       "\u001b[1m Row \u001b[0m│\u001b[1m id    \u001b[0m\u001b[1m v     \u001b[0m\n",
       "     │\u001b[90m Int64 \u001b[0m\u001b[90m Int64 \u001b[0m\n",
       "─────┼──────────────\n",
       "   1 │     1      1\n",
       "   2 │     1      3\n",
       "⋮\n",
       "Last Group (2 rows): id = 2\n",
       "\u001b[1m Row \u001b[0m│\u001b[1m id    \u001b[0m\u001b[1m v     \u001b[0m\n",
       "     │\u001b[90m Int64 \u001b[0m\u001b[90m Int64 \u001b[0m\n",
       "─────┼──────────────\n",
       "   1 │     2      2\n",
       "   2 │     2      4"
      ]
     },
     "execution_count": 13,
     "metadata": {},
     "output_type": "execute_result"
    }
   ],
   "source": [
    "gdf = groupby(df, :id)"
   ]
  },
  {
   "cell_type": "code",
   "execution_count": 14,
   "id": "dcc5eabf",
   "metadata": {},
   "outputs": [
    {
     "data": {
      "text/html": [
       "<div><div style = \"float: left;\"><span>2×2 DataFrame</span></div><div style = \"clear: both;\"></div></div><div class = \"data-frame\" style = \"overflow-x: scroll;\"><table class = \"data-frame\" style = \"margin-bottom: 6px;\"><thead><tr class = \"header\"><th class = \"rowNumber\" style = \"font-weight: bold; text-align: right;\">Row</th><th style = \"text-align: left;\">id</th><th style = \"text-align: left;\">sum</th></tr><tr class = \"subheader headerLastRow\"><th class = \"rowNumber\" style = \"font-weight: bold; text-align: right;\"></th><th title = \"Int64\" style = \"text-align: left;\">Int64</th><th title = \"Int64\" style = \"text-align: left;\">Int64</th></tr></thead><tbody><tr><td class = \"rowNumber\" style = \"font-weight: bold; text-align: right;\">1</td><td style = \"text-align: right;\">1</td><td style = \"text-align: right;\">4</td></tr><tr><td class = \"rowNumber\" style = \"font-weight: bold; text-align: right;\">2</td><td style = \"text-align: right;\">2</td><td style = \"text-align: right;\">6</td></tr></tbody></table></div>"
      ],
      "text/latex": [
       "\\begin{tabular}{r|cc}\n",
       "\t& id & sum\\\\\n",
       "\t\\hline\n",
       "\t& Int64 & Int64\\\\\n",
       "\t\\hline\n",
       "\t1 & 1 & 4 \\\\\n",
       "\t2 & 2 & 6 \\\\\n",
       "\\end{tabular}\n"
      ],
      "text/plain": [
       "\u001b[1m2×2 DataFrame\u001b[0m\n",
       "\u001b[1m Row \u001b[0m│\u001b[1m id    \u001b[0m\u001b[1m sum   \u001b[0m\n",
       "     │\u001b[90m Int64 \u001b[0m\u001b[90m Int64 \u001b[0m\n",
       "─────┼──────────────\n",
       "   1 │     1      4\n",
       "   2 │     2      6"
      ]
     },
     "execution_count": 14,
     "metadata": {},
     "output_type": "execute_result"
    }
   ],
   "source": [
    "combine(gdf, :v => sum => :sum)"
   ]
  },
  {
   "cell_type": "code",
   "execution_count": 15,
   "id": "a2bed1c5",
   "metadata": {},
   "outputs": [
    {
     "data": {
      "text/html": [
       "<div><div style = \"float: left;\"><span>4×3 DataFrame</span></div><div style = \"clear: both;\"></div></div><div class = \"data-frame\" style = \"overflow-x: scroll;\"><table class = \"data-frame\" style = \"margin-bottom: 6px;\"><thead><tr class = \"header\"><th class = \"rowNumber\" style = \"font-weight: bold; text-align: right;\">Row</th><th style = \"text-align: left;\">id</th><th style = \"text-align: left;\">v</th><th style = \"text-align: left;\">sum</th></tr><tr class = \"subheader headerLastRow\"><th class = \"rowNumber\" style = \"font-weight: bold; text-align: right;\"></th><th title = \"Int64\" style = \"text-align: left;\">Int64</th><th title = \"Int64\" style = \"text-align: left;\">Int64</th><th title = \"Int64\" style = \"text-align: left;\">Int64</th></tr></thead><tbody><tr><td class = \"rowNumber\" style = \"font-weight: bold; text-align: right;\">1</td><td style = \"text-align: right;\">1</td><td style = \"text-align: right;\">1</td><td style = \"text-align: right;\">4</td></tr><tr><td class = \"rowNumber\" style = \"font-weight: bold; text-align: right;\">2</td><td style = \"text-align: right;\">2</td><td style = \"text-align: right;\">2</td><td style = \"text-align: right;\">6</td></tr><tr><td class = \"rowNumber\" style = \"font-weight: bold; text-align: right;\">3</td><td style = \"text-align: right;\">1</td><td style = \"text-align: right;\">3</td><td style = \"text-align: right;\">4</td></tr><tr><td class = \"rowNumber\" style = \"font-weight: bold; text-align: right;\">4</td><td style = \"text-align: right;\">2</td><td style = \"text-align: right;\">4</td><td style = \"text-align: right;\">6</td></tr></tbody></table></div>"
      ],
      "text/latex": [
       "\\begin{tabular}{r|ccc}\n",
       "\t& id & v & sum\\\\\n",
       "\t\\hline\n",
       "\t& Int64 & Int64 & Int64\\\\\n",
       "\t\\hline\n",
       "\t1 & 1 & 1 & 4 \\\\\n",
       "\t2 & 2 & 2 & 6 \\\\\n",
       "\t3 & 1 & 3 & 4 \\\\\n",
       "\t4 & 2 & 4 & 6 \\\\\n",
       "\\end{tabular}\n"
      ],
      "text/plain": [
       "\u001b[1m4×3 DataFrame\u001b[0m\n",
       "\u001b[1m Row \u001b[0m│\u001b[1m id    \u001b[0m\u001b[1m v     \u001b[0m\u001b[1m sum   \u001b[0m\n",
       "     │\u001b[90m Int64 \u001b[0m\u001b[90m Int64 \u001b[0m\u001b[90m Int64 \u001b[0m\n",
       "─────┼─────────────────────\n",
       "   1 │     1      1      4\n",
       "   2 │     2      2      6\n",
       "   3 │     1      3      4\n",
       "   4 │     2      4      6"
      ]
     },
     "execution_count": 15,
     "metadata": {},
     "output_type": "execute_result"
    }
   ],
   "source": [
    "transform(gdf, :v => sum => :sum)"
   ]
  },
  {
   "cell_type": "code",
   "execution_count": 16,
   "id": "6c96cf6b",
   "metadata": {},
   "outputs": [
    {
     "data": {
      "text/html": [
       "<div><div style = \"float: left;\"><span>4×2 DataFrame</span></div><div style = \"clear: both;\"></div></div><div class = \"data-frame\" style = \"overflow-x: scroll;\"><table class = \"data-frame\" style = \"margin-bottom: 6px;\"><thead><tr class = \"header\"><th class = \"rowNumber\" style = \"font-weight: bold; text-align: right;\">Row</th><th style = \"text-align: left;\">id</th><th style = \"text-align: left;\">sum</th></tr><tr class = \"subheader headerLastRow\"><th class = \"rowNumber\" style = \"font-weight: bold; text-align: right;\"></th><th title = \"Int64\" style = \"text-align: left;\">Int64</th><th title = \"Int64\" style = \"text-align: left;\">Int64</th></tr></thead><tbody><tr><td class = \"rowNumber\" style = \"font-weight: bold; text-align: right;\">1</td><td style = \"text-align: right;\">1</td><td style = \"text-align: right;\">4</td></tr><tr><td class = \"rowNumber\" style = \"font-weight: bold; text-align: right;\">2</td><td style = \"text-align: right;\">2</td><td style = \"text-align: right;\">6</td></tr><tr><td class = \"rowNumber\" style = \"font-weight: bold; text-align: right;\">3</td><td style = \"text-align: right;\">1</td><td style = \"text-align: right;\">4</td></tr><tr><td class = \"rowNumber\" style = \"font-weight: bold; text-align: right;\">4</td><td style = \"text-align: right;\">2</td><td style = \"text-align: right;\">6</td></tr></tbody></table></div>"
      ],
      "text/latex": [
       "\\begin{tabular}{r|cc}\n",
       "\t& id & sum\\\\\n",
       "\t\\hline\n",
       "\t& Int64 & Int64\\\\\n",
       "\t\\hline\n",
       "\t1 & 1 & 4 \\\\\n",
       "\t2 & 2 & 6 \\\\\n",
       "\t3 & 1 & 4 \\\\\n",
       "\t4 & 2 & 6 \\\\\n",
       "\\end{tabular}\n"
      ],
      "text/plain": [
       "\u001b[1m4×2 DataFrame\u001b[0m\n",
       "\u001b[1m Row \u001b[0m│\u001b[1m id    \u001b[0m\u001b[1m sum   \u001b[0m\n",
       "     │\u001b[90m Int64 \u001b[0m\u001b[90m Int64 \u001b[0m\n",
       "─────┼──────────────\n",
       "   1 │     1      4\n",
       "   2 │     2      6\n",
       "   3 │     1      4\n",
       "   4 │     2      6"
      ]
     },
     "execution_count": 16,
     "metadata": {},
     "output_type": "execute_result"
    }
   ],
   "source": [
    "select(gdf, :v => sum => :sum)"
   ]
  },
  {
   "cell_type": "markdown",
   "id": "2aed7df1",
   "metadata": {},
   "source": [
    "### Common forms of operation specification syntax"
   ]
  },
  {
   "cell_type": "code",
   "execution_count": 17,
   "id": "572772b3",
   "metadata": {},
   "outputs": [
    {
     "data": {
      "text/html": [
       "<div><div style = \"float: left;\"><span>4×4 DataFrame</span></div><div style = \"clear: both;\"></div></div><div class = \"data-frame\" style = \"overflow-x: scroll;\"><table class = \"data-frame\" style = \"margin-bottom: 6px;\"><thead><tr class = \"header\"><th class = \"rowNumber\" style = \"font-weight: bold; text-align: right;\">Row</th><th style = \"text-align: left;\">v1</th><th style = \"text-align: left;\">v_identity</th><th style = \"text-align: left;\">v2</th><th style = \"text-align: left;\">v</th></tr><tr class = \"subheader headerLastRow\"><th class = \"rowNumber\" style = \"font-weight: bold; text-align: right;\"></th><th title = \"Int64\" style = \"text-align: left;\">Int64</th><th title = \"Int64\" style = \"text-align: left;\">Int64</th><th title = \"Int64\" style = \"text-align: left;\">Int64</th><th title = \"Int64\" style = \"text-align: left;\">Int64</th></tr></thead><tbody><tr><td class = \"rowNumber\" style = \"font-weight: bold; text-align: right;\">1</td><td style = \"text-align: right;\">1</td><td style = \"text-align: right;\">1</td><td style = \"text-align: right;\">1</td><td style = \"text-align: right;\">1</td></tr><tr><td class = \"rowNumber\" style = \"font-weight: bold; text-align: right;\">2</td><td style = \"text-align: right;\">2</td><td style = \"text-align: right;\">2</td><td style = \"text-align: right;\">2</td><td style = \"text-align: right;\">2</td></tr><tr><td class = \"rowNumber\" style = \"font-weight: bold; text-align: right;\">3</td><td style = \"text-align: right;\">3</td><td style = \"text-align: right;\">3</td><td style = \"text-align: right;\">3</td><td style = \"text-align: right;\">3</td></tr><tr><td class = \"rowNumber\" style = \"font-weight: bold; text-align: right;\">4</td><td style = \"text-align: right;\">4</td><td style = \"text-align: right;\">4</td><td style = \"text-align: right;\">4</td><td style = \"text-align: right;\">4</td></tr></tbody></table></div>"
      ],
      "text/latex": [
       "\\begin{tabular}{r|cccc}\n",
       "\t& v1 & v\\_identity & v2 & v\\\\\n",
       "\t\\hline\n",
       "\t& Int64 & Int64 & Int64 & Int64\\\\\n",
       "\t\\hline\n",
       "\t1 & 1 & 1 & 1 & 1 \\\\\n",
       "\t2 & 2 & 2 & 2 & 2 \\\\\n",
       "\t3 & 3 & 3 & 3 & 3 \\\\\n",
       "\t4 & 4 & 4 & 4 & 4 \\\\\n",
       "\\end{tabular}\n"
      ],
      "text/plain": [
       "\u001b[1m4×4 DataFrame\u001b[0m\n",
       "\u001b[1m Row \u001b[0m│\u001b[1m v1    \u001b[0m\u001b[1m v_identity \u001b[0m\u001b[1m v2    \u001b[0m\u001b[1m v     \u001b[0m\n",
       "     │\u001b[90m Int64 \u001b[0m\u001b[90m Int64      \u001b[0m\u001b[90m Int64 \u001b[0m\u001b[90m Int64 \u001b[0m\n",
       "─────┼─────────────────────────────────\n",
       "   1 │     1           1      1      1\n",
       "   2 │     2           2      2      2\n",
       "   3 │     3           3      3      3\n",
       "   4 │     4           4      4      4"
      ]
     },
     "execution_count": 17,
     "metadata": {},
     "output_type": "execute_result"
    }
   ],
   "source": [
    "select(df,\n",
    "       :v => identity => :v1,\n",
    "       :v => identity,\n",
    "       :v => :v2,\n",
    "       :v)"
   ]
  },
  {
   "cell_type": "markdown",
   "id": "154907f6",
   "metadata": {},
   "source": [
    "## Investigating the violation column"
   ]
  },
  {
   "cell_type": "markdown",
   "id": "ebfa761f",
   "metadata": {},
   "source": [
    "### Finding the most frequent violations"
   ]
  },
  {
   "cell_type": "code",
   "execution_count": 18,
   "id": "916fdc7b",
   "metadata": {},
   "outputs": [
    {
     "data": {
      "text/plain": [
       "6921-element Vector{String}:\n",
       " \"POSS CONT SUB 1ST DEG, 1ST OFF \"\u001b[93m\u001b[1m ⋯ 18 bytes ⋯ \u001b[22m\u001b[39m\" DRUG PARAPHERLIA - BUY/POSSESS\"\n",
       " \"FAILURE TO ILLUMITE HEAD LAMPS;\"\u001b[93m\u001b[1m ⋯ 20 bytes ⋯ \u001b[22m\u001b[39m\"LICENSE; NO REGISTRATION PLATES\"\n",
       " \"NO TAIL LAMPS; OPER MTR VEHICLE\"\u001b[93m\u001b[1m ⋯ 136 bytes ⋯ \u001b[22m\u001b[39m\"EC, 1ST OFF; VIOLATION UNKNOWN\"\n",
       " \"OPER MTR VEH U/INFLU ALC/DRUGS/\"\u001b[93m\u001b[1m ⋯ 49 bytes ⋯ \u001b[22m\u001b[39m\" LICENSE - 1ST OFF (AGG CIRCUM)\"\n",
       " \"OPERATING ON SUS OR REV OPER LICENSE\"\n",
       " \"FAILURE TO WEAR SEAT BELTS\"\n",
       " \"OPER MTR VEHICLE U/INFLUENCE ALC/DRUGS/ETC. .08 - 1ST OFF\"\n",
       " \"DISREGARDING TRAFFIC CONT DEV-TRAFFIC LIGHT; LICENSE TO BE IN POSSESSION\"\n",
       " \"OPER MTR VEH U/INFLU ALC/DRUGS/\"\u001b[93m\u001b[1m ⋯ 183 bytes ⋯ \u001b[22m\u001b[39m\"FF; FAILURE TO WEAR SEAT BELTS\"\n",
       " \"OPER MTR VEHICLE U/INFLUENCE AL\"\u001b[93m\u001b[1m ⋯ 77 bytes ⋯ \u001b[22m\u001b[39m\" DRUG PARAPHERLIA - BUY/POSSESS\"\n",
       " \"OPER MTR VEHICLE U/INFLUENCE AL\"\u001b[93m\u001b[1m ⋯ 86 bytes ⋯ \u001b[22m\u001b[39m\"NCE; NO OPERATORS-MOPED LICENSE\"\n",
       " \"NO REGISTRATION PLATES; FAILURE\"\u001b[93m\u001b[1m ⋯ 23 bytes ⋯ \u001b[22m\u001b[39m\"ARD; NO OPERATORS-MOPED LICENSE\"\n",
       " \"OPER MTR VEHICLE U/INFLUENCE ALC/DRUGS/ETC. .08 - 1ST OFF\"\n",
       " ⋮\n",
       " \"NO REGISTRATION PLATES; FAILURE TO PRODUCE INSURANCE CARD\"\n",
       " \"FAILURE TO OR IMPROPER SIGL; FA\"\u001b[93m\u001b[1m ⋯ 28 bytes ⋯ \u001b[22m\u001b[39m\"ARD; NO OPERATORS-MOPED LICENSE\"\n",
       " \"NO TAIL LAMPS; FAILURE TO PRODUCE INSURANCE CARD; NO REGISTRATION PLATES\"\n",
       " \"ONE HEADLIGHT; FAILURE TO PRODU\"\u001b[93m\u001b[1m ⋯ 39 bytes ⋯ \u001b[22m\u001b[39m\"SESSION; NO REGISTRATION PLATES\"\n",
       " \"ONE HEADLIGHT; NO REGISTRATION \"\u001b[93m\u001b[1m ⋯ 63 bytes ⋯ \u001b[22m\u001b[39m\"CE ALC/DRUGS/ETC. .08 - 1ST OFF\"\n",
       " \"SPEEDING 10 MPH OVER LIMIT\"\n",
       " \"SPEEDING 08 MPH OVER LIMIT; FAILURE TO OR IMPROPER SIGL\"\n",
       " \"SPEEDING 10 MPH OVER LIMIT; FAILURE TO WEAR SEAT BELTS\"\n",
       " \"SPEEDING 11 MPH OVER LIMIT; NO REGISTRATION RECEIPT\"\n",
       " \"SPEEDING 17 MPH OVER LIMIT; FAI\"\u001b[93m\u001b[1m ⋯ 127 bytes ⋯ \u001b[22m\u001b[39m\"LATES; NO REGISTRATION RECEIPT\"\n",
       " \"SPEEDING 13 MPH OVER LIMIT\"\n",
       " \"FAILURE OF NON-OWNER OPERATOR T\"\u001b[93m\u001b[1m ⋯ 37 bytes ⋯ \u001b[22m\u001b[39m\"THER STATE REGISTRATION RECEIPT\""
      ]
     },
     "execution_count": 18,
     "metadata": {},
     "output_type": "execute_result"
    }
   ],
   "source": [
    "owensboro.violation"
   ]
  },
  {
   "cell_type": "code",
   "execution_count": 19,
   "id": "77c3f690",
   "metadata": {},
   "outputs": [
    {
     "data": {
      "text/plain": [
       "6921-element Vector{Vector{SubString{String}}}:\n",
       " [\"POSS CONT SUB 1ST DEG, 1ST OFF (METHAMPHETAMINE)\", \"DRUG PARAPHERLIA - BUY/POSSESS\"]\n",
       " [\"FAILURE TO ILLUMITE HEAD LAMPS\", \"NO OPERATORS-MOPED LICENSE\", \"NO REGISTRATION PLATES\"]\n",
       " [\"NO TAIL LAMPS\", \"OPER MTR VEHICLE U/INFLUENCE ALC/DRUGS/ETC. .08 - 1ST OFF\", \"POSS CONT SUB 1ST DEG, 1ST OFF (METHAMPHETAMINE)\", \"FAILURE OF OWNER TO MAINTAIN REQUIRED INS/SEC, 1ST OFF\", \"VIOLATION UNKNOWN\"]\n",
       " [\"OPER MTR VEH U/INFLU ALC/DRUGS/ETC. .08 (AGG CIRCUM), 2ND\", \"DRIVING DUI SUSPENDED LICENSE - 1ST OFF (AGG CIRCUM)\"]\n",
       " [\"OPERATING ON SUS OR REV OPER LICENSE\"]\n",
       " [\"FAILURE TO WEAR SEAT BELTS\"]\n",
       " [\"OPER MTR VEHICLE U/INFLUENCE ALC/DRUGS/ETC. .08 - 1ST OFF\"]\n",
       " [\"DISREGARDING TRAFFIC CONT DEV-TRAFFIC LIGHT\", \"LICENSE TO BE IN POSSESSION\"]\n",
       " [\"OPER MTR VEH U/INFLU ALC/DRUGS/ETC. .08 (AGG CIRCUM), 2ND\", \"DRIVING ON DUI SUSPENDED LICENSE -1ST OFFENSE\", \"POSS OF OPEN ALC BEVERAGE CONT IN MOTOR VEH PROHIBITED\", \"FAILURE OF OWNER TO MAINTAIN REQUIRED INS/SEC, 1ST OFF\", \"FAILURE TO WEAR SEAT BELTS\"]\n",
       " [\"OPER MTR VEHICLE U/INFLUENCE ALC/DRUGS/ETC. .08 - 1ST OFF\", \"OPERATING VEHICLE WITH EXPIRED OPERATORS LICENSE\", \"DRUG PARAPHERLIA - BUY/POSSESS\"]\n",
       " [\"OPER MTR VEHICLE U/INFLUENCE ALC/DRUGS/ETC. .08 - 1ST OFF\", \"LEAVING SCENE OF ACCIDENT-FAILURE TO RENDER AID OR ASSISTANCE\", \"NO OPERATORS-MOPED LICENSE\"]\n",
       " [\"NO REGISTRATION PLATES\", \"FAILURE TO PRODUCE INSURANCE CARD\", \"NO OPERATORS-MOPED LICENSE\"]\n",
       " [\"OPER MTR VEHICLE U/INFLUENCE ALC/DRUGS/ETC. .08 - 1ST OFF\"]\n",
       " ⋮\n",
       " [\"NO REGISTRATION PLATES\", \"FAILURE TO PRODUCE INSURANCE CARD\"]\n",
       " [\"FAILURE TO OR IMPROPER SIGL\", \"FAILURE TO PRODUCE INSURANCE CARD\", \"NO OPERATORS-MOPED LICENSE\"]\n",
       " [\"NO TAIL LAMPS\", \"FAILURE TO PRODUCE INSURANCE CARD\", \"NO REGISTRATION PLATES\"]\n",
       " [\"ONE HEADLIGHT\", \"FAILURE TO PRODUCE INSURANCE CARD\", \"LICENSE TO BE IN POSSESSION\", \"NO REGISTRATION PLATES\"]\n",
       " [\"ONE HEADLIGHT\", \"NO REGISTRATION RECEIPT\", \"NO OPERATORS-MOPED LICENSE\", \"OPER MTR VEHICLE U/INFLUENCE ALC/DRUGS/ETC. .08 - 1ST OFF\"]\n",
       " [\"SPEEDING 10 MPH OVER LIMIT\"]\n",
       " [\"SPEEDING 08 MPH OVER LIMIT\", \"FAILURE TO OR IMPROPER SIGL\"]\n",
       " [\"SPEEDING 10 MPH OVER LIMIT\", \"FAILURE TO WEAR SEAT BELTS\"]\n",
       " [\"SPEEDING 11 MPH OVER LIMIT\", \"NO REGISTRATION RECEIPT\"]\n",
       " [\"SPEEDING 17 MPH OVER LIMIT\", \"FAILURE TO WEAR SEAT BELTS\", \"LICENSE TO BE IN POSSESSION\", \"FAILURE OF OWNER TO MAINTAIN REQUIRED INS/SEC, 1ST OFF\", \"NO REGISTRATION PLATES\", \"NO REGISTRATION RECEIPT\"]\n",
       " [\"SPEEDING 13 MPH OVER LIMIT\"]\n",
       " [\"FAILURE OF NON-OWNER OPERATOR TO MAINTAIN REQ INS/SEC, 1ST OFF\", \"NO OTHER STATE REGISTRATION RECEIPT\"]"
      ]
     },
     "execution_count": 19,
     "metadata": {},
     "output_type": "execute_result"
    }
   ],
   "source": [
    "violation_list = [strip.(split(x, \";\")) for x in owensboro.violation]"
   ]
  },
  {
   "cell_type": "code",
   "execution_count": 20,
   "id": "144ef84c",
   "metadata": {},
   "outputs": [
    {
     "data": {
      "text/plain": [
       "13555-element Vector{SubString{String}}:\n",
       " \"POSS CONT SUB 1ST DEG, 1ST OFF (METHAMPHETAMINE)\"\n",
       " \"DRUG PARAPHERLIA - BUY/POSSESS\"\n",
       " \"FAILURE TO ILLUMITE HEAD LAMPS\"\n",
       " \"NO OPERATORS-MOPED LICENSE\"\n",
       " \"NO REGISTRATION PLATES\"\n",
       " \"NO TAIL LAMPS\"\n",
       " \"OPER MTR VEHICLE U/INFLUENCE ALC/DRUGS/ETC. .08 - 1ST OFF\"\n",
       " \"POSS CONT SUB 1ST DEG, 1ST OFF (METHAMPHETAMINE)\"\n",
       " \"FAILURE OF OWNER TO MAINTAIN REQUIRED INS/SEC, 1ST OFF\"\n",
       " \"VIOLATION UNKNOWN\"\n",
       " \"OPER MTR VEH U/INFLU ALC/DRUGS/ETC. .08 (AGG CIRCUM), 2ND\"\n",
       " \"DRIVING DUI SUSPENDED LICENSE - 1ST OFF (AGG CIRCUM)\"\n",
       " \"OPERATING ON SUS OR REV OPER LICENSE\"\n",
       " ⋮\n",
       " \"FAILURE TO WEAR SEAT BELTS\"\n",
       " \"SPEEDING 11 MPH OVER LIMIT\"\n",
       " \"NO REGISTRATION RECEIPT\"\n",
       " \"SPEEDING 17 MPH OVER LIMIT\"\n",
       " \"FAILURE TO WEAR SEAT BELTS\"\n",
       " \"LICENSE TO BE IN POSSESSION\"\n",
       " \"FAILURE OF OWNER TO MAINTAIN REQUIRED INS/SEC, 1ST OFF\"\n",
       " \"NO REGISTRATION PLATES\"\n",
       " \"NO REGISTRATION RECEIPT\"\n",
       " \"SPEEDING 13 MPH OVER LIMIT\"\n",
       " \"FAILURE OF NON-OWNER OPERATOR TO MAINTAIN REQ INS/SEC, 1ST OFF\"\n",
       " \"NO OTHER STATE REGISTRATION RECEIPT\""
      ]
     },
     "execution_count": 20,
     "metadata": {},
     "output_type": "execute_result"
    }
   ],
   "source": [
    "violation_flat = reduce(vcat, violation_list)"
   ]
  },
  {
   "cell_type": "code",
   "execution_count": 21,
   "id": "133d38e0",
   "metadata": {},
   "outputs": [
    {
     "data": {
      "text/plain": [
       "264-element Named Vector{Int64}\n",
       "Dim1                                                                                   │ \n",
       "───────────────────────────────────────────────────────────────────────────────────────┼─────\n",
       "ALC INTOX IN A PUB PLACE 3RD OR > OFF IN 12 MONTHS                                     │    1\n",
       "BURGLARY, 3RD DEGREE                                                                   │    1\n",
       "CHANGING DRIVERS-CAR IN MOTION (RECKLESS DRIVING)                                      │    1\n",
       "CRIMIL MISCHIEF, 1ST DEGREE                                                            │    1\n",
       "CRIMIL TRESPASS-1ST DEGREE                                                             │    1\n",
       "CRIMIL TRESPASSING-2ND DEGREE                                                          │    1\n",
       "DEFECTIVE BRAKES                                                                       │    1\n",
       "DISPLAY OF ILLEGAL/ALTERED REGISTRATION PLATE                                          │    1\n",
       "DISREGARD SIGLS FROM OFFICERS DIRECTING TRAFFIC                                        │    1\n",
       "DISREGARDING COMPULSARY TURN LANE                                                      │    1\n",
       "DRIVING WITHOUT LICENSE/NEGLIGENCE IN ACCIDENT                                         │    1\n",
       "⋮                                                                                           ⋮\n",
       "LICENSE TO BE IN POSSESSION                                                            │  246\n",
       "OPER MTR VEHICLE U/INFLUENCE ALC/DRUGS/ETC. .08 - 1ST OFF                              │  246\n",
       "SPEEDING 10 MPH OVER LIMIT                                                             │  289\n",
       "NO OPERATORS-MOPED LICENSE                                                             │  336\n",
       "FAILURE TO NOTIFY ADRS CHANGE TO DEPT OF TRANS                                         │  409\n",
       "OPERATING ON SUS OR REV OPER LICENSE                                                   │  472\n",
       "FAILURE OF OWNER TO MAINTAIN REQUIRED INS/SEC, 1ST OFF                                 │  677\n",
       "NO REGISTRATION RECEIPT                                                                │  701\n",
       "FAILURE TO PRODUCE INSURANCE CARD                                                      │ 1324\n",
       "NO REGISTRATION PLATES                                                                 │ 1667\n",
       "FAILURE TO WEAR SEAT BELTS                                                             │ 2689"
      ]
     },
     "execution_count": 21,
     "metadata": {},
     "output_type": "execute_result"
    }
   ],
   "source": [
    "@chain violation_flat begin\n",
    "    freqtable\n",
    "    sort\n",
    "end"
   ]
  },
  {
   "cell_type": "code",
   "execution_count": 22,
   "id": "226264fd",
   "metadata": {},
   "outputs": [
    {
     "data": {
      "text/plain": [
       "20-element Named Vector{Int64}\n",
       "Dim1                             │ \n",
       "─────────────────────────────────┼────\n",
       "SPEEDING 07 MPH OVER LIMIT       │   2\n",
       "SPEEDING 24 MPH OVER LIMIT       │   5\n",
       "SPEEDING 08 MPH OVER LIMIT       │   9\n",
       "SPEEDING 23 MPH OVER LIMIT       │   9\n",
       "SPEEDING 22 MPH OVER LIMIT       │  12\n",
       "SPEEDING 25 MPH OVER LIMIT       │  12\n",
       "SPEEDING 26 MPH OR > SPEED LIMIT │  14\n",
       "SPEEDING 21 MPH OVER LIMIT       │  16\n",
       "SPEEDING 19 MPH OVER LIMIT       │  18\n",
       "SPEEDING 09 MPH OVER LIMIT       │  26\n",
       "SPEEDING 18 MPH OVER LIMIT       │  34\n",
       "SPEEDING 20 MPH OVER LIMIT       │  46\n",
       "SPEEDING 17 MPH OVER LIMIT       │  54\n",
       "SPEEDING 16 MPH OVER LIMIT       │  55\n",
       "SPEEDING 14 MPH OVER LIMIT       │  59\n",
       "SPEEDING 12 MPH OVER LIMIT       │  85\n",
       "SPEEDING 11 MPH OVER LIMIT       │  88\n",
       "SPEEDING 13 MPH OVER LIMIT       │  97\n",
       "SPEEDING 15 MPH OVER LIMIT       │ 137\n",
       "SPEEDING 10 MPH OVER LIMIT       │ 289"
      ]
     },
     "execution_count": 22,
     "metadata": {},
     "output_type": "execute_result"
    }
   ],
   "source": [
    "@chain violation_flat begin\n",
    "    filter(contains(\"SPEEDING\"), _)\n",
    "    freqtable\n",
    "    sort\n",
    "end"
   ]
  },
  {
   "cell_type": "code",
   "execution_count": 23,
   "id": "91a591eb",
   "metadata": {},
   "outputs": [
    {
     "data": {
      "text/plain": [
       "13555-element Vector{AbstractString}:\n",
       " \"POSS CONT SUB 1ST DEG, 1ST OFF (METHAMPHETAMINE)\"\n",
       " \"DRUG PARAPHERLIA - BUY/POSSESS\"\n",
       " \"FAILURE TO ILLUMITE HEAD LAMPS\"\n",
       " \"NO OPERATORS-MOPED LICENSE\"\n",
       " \"NO REGISTRATION PLATES\"\n",
       " \"NO TAIL LAMPS\"\n",
       " \"OPER MTR VEHICLE U/INFLUENCE ALC/DRUGS/ETC. .08 - 1ST OFF\"\n",
       " \"POSS CONT SUB 1ST DEG, 1ST OFF (METHAMPHETAMINE)\"\n",
       " \"FAILURE OF OWNER TO MAINTAIN REQUIRED INS/SEC, 1ST OFF\"\n",
       " \"VIOLATION UNKNOWN\"\n",
       " \"OPER MTR VEH U/INFLU ALC/DRUGS/ETC. .08 (AGG CIRCUM), 2ND\"\n",
       " \"DRIVING DUI SUSPENDED LICENSE - 1ST OFF (AGG CIRCUM)\"\n",
       " \"OPERATING ON SUS OR REV OPER LICENSE\"\n",
       " ⋮\n",
       " \"FAILURE TO WEAR SEAT BELTS\"\n",
       " \"SPEEDING\"\n",
       " \"NO REGISTRATION RECEIPT\"\n",
       " \"SPEEDING\"\n",
       " \"FAILURE TO WEAR SEAT BELTS\"\n",
       " \"LICENSE TO BE IN POSSESSION\"\n",
       " \"FAILURE OF OWNER TO MAINTAIN REQUIRED INS/SEC, 1ST OFF\"\n",
       " \"NO REGISTRATION PLATES\"\n",
       " \"NO REGISTRATION RECEIPT\"\n",
       " \"SPEEDING\"\n",
       " \"FAILURE OF NON-OWNER OPERATOR TO MAINTAIN REQ INS/SEC, 1ST OFF\"\n",
       " \"NO OTHER STATE REGISTRATION RECEIPT\""
      ]
     },
     "execution_count": 23,
     "metadata": {},
     "output_type": "execute_result"
    }
   ],
   "source": [
    "violation_flat_clean = [contains(x, \"SPEEDING\") ? \"SPEEDING\" : x for x in violation_flat]"
   ]
  },
  {
   "cell_type": "code",
   "execution_count": 24,
   "id": "210cd457",
   "metadata": {},
   "outputs": [
    {
     "data": {
      "text/plain": [
       "245-element Named Vector{Int64}\n",
       "Dim1                                                                                   │ \n",
       "───────────────────────────────────────────────────────────────────────────────────────┼─────\n",
       "FAILURE TO WEAR SEAT BELTS                                                             │ 2689\n",
       "NO REGISTRATION PLATES                                                                 │ 1667\n",
       "FAILURE TO PRODUCE INSURANCE CARD                                                      │ 1324\n",
       "SPEEDING                                                                               │ 1067\n",
       "NO REGISTRATION RECEIPT                                                                │  701\n",
       "FAILURE OF OWNER TO MAINTAIN REQUIRED INS/SEC, 1ST OFF                                 │  677\n",
       "OPERATING ON SUS OR REV OPER LICENSE                                                   │  472\n",
       "FAILURE TO NOTIFY ADRS CHANGE TO DEPT OF TRANS                                         │  409\n",
       "NO OPERATORS-MOPED LICENSE                                                             │  336\n",
       "LICENSE TO BE IN POSSESSION                                                            │  246\n",
       "OPER MTR VEHICLE U/INFLUENCE ALC/DRUGS/ETC. .08 - 1ST OFF                              │  246\n",
       "⋮                                                                                           ⋮\n",
       "TRAFF IN CONT SUB, 1ST DEGREE, 2ND OR > OFF - (> OR = 4 GMS COCAINE)                   │    1\n",
       "TRAFF IN CONT SUB, 1ST DEGREE, 2ND OR > OFF-(<10D.U.DRUGUNSPECIFIEDSCH1&2)             │    1\n",
       "TRAFF IN CONT SUB, 1ST DEGREE, 2ND OR > OFFENSE - (< 4 GMS COCAINE)                    │    1\n",
       "TRAFF IN CONT SUB, 2ND DEGREE, 1ST OFF-(<10 D.U.SCH1&2NON-RCOTICS)                     │    1\n",
       "TRAFF IN CONT SUB, 2ND DEGREE, 1ST OFF-(> OR = 10 D.U.SCH 1&2NON-RCOTICS)              │    1\n",
       "TRAFF IN CONT SUB, 3RD DEGREE, 2ND OR > OFF - (>OR = 20D.U.DRUGUNSPECIFIED)            │    1\n",
       "UNLAWFUL TRANSACTION W/MINOR 3RD DEGREE                                                │    1\n",
       "USE OF CELLULAR PHONE WHILE DRIVING SCHOOL BUS                                         │    1\n",
       "UUTHORIZED USE OF MOTOR VEHICLE-1ST OFFENSE                                            │    1\n",
       "WANTON ENDANGERMENT-1ST DEGREE-POLICE OFFICER                                          │    1\n",
       "WANTON ENDANGERMENT-2ND DEGREE-POLICE OFFICER                                          │    1"
      ]
     },
     "execution_count": 24,
     "metadata": {},
     "output_type": "execute_result"
    }
   ],
   "source": [
    "sort(freqtable(violation_flat_clean), rev=true)"
   ]
  },
  {
   "cell_type": "markdown",
   "id": "27d75b42",
   "metadata": {},
   "source": [
    "Here is a way to get the same in DataFrames.jl"
   ]
  },
  {
   "cell_type": "code",
   "execution_count": 25,
   "id": "398efdfa",
   "metadata": {},
   "outputs": [
    {
     "data": {
      "text/html": [
       "<div><div style = \"float: left;\"><span>6921×1 DataFrame</span></div><div style = \"float: right;\"><span style = \"font-style: italic;\">6896 rows omitted</span></div><div style = \"clear: both;\"></div></div><div class = \"data-frame\" style = \"overflow-x: scroll;\"><table class = \"data-frame\" style = \"margin-bottom: 6px;\"><thead><tr class = \"header\"><th class = \"rowNumber\" style = \"font-weight: bold; text-align: right;\">Row</th><th style = \"text-align: left;\">v</th></tr><tr class = \"subheader headerLastRow\"><th class = \"rowNumber\" style = \"font-weight: bold; text-align: right;\"></th><th title = \"Vector{SubString{String}}\" style = \"text-align: left;\">Array…</th></tr></thead><tbody><tr><td class = \"rowNumber\" style = \"font-weight: bold; text-align: right;\">1</td><td style = \"text-align: left;\">SubString{String}[&quot;POSS CONT SUB 1ST DEG, 1ST OFF (METHAMPHETAMINE)&quot;, &quot;DRUG PARAPHERLIA - BUY/POSSESS&quot;]</td></tr><tr><td class = \"rowNumber\" style = \"font-weight: bold; text-align: right;\">2</td><td style = \"text-align: left;\">SubString{String}[&quot;FAILURE TO ILLUMITE HEAD LAMPS&quot;, &quot;NO OPERATORS-MOPED LICENSE&quot;, &quot;NO REGISTRATION PLATES&quot;]</td></tr><tr><td class = \"rowNumber\" style = \"font-weight: bold; text-align: right;\">3</td><td style = \"text-align: left;\">SubString{String}[&quot;NO TAIL LAMPS&quot;, &quot;OPER MTR VEHICLE U/INFLUENCE ALC/DRUGS/ETC. .08 - 1ST OFF&quot;, &quot;POSS CONT SUB 1ST DEG, 1ST OFF (METHAMPHETAMINE)&quot;, &quot;FAILURE OF OWNER TO MAINTAIN REQUIRED INS/SEC, 1ST OFF&quot;, &quot;VIOLATION UNKNOWN&quot;]</td></tr><tr><td class = \"rowNumber\" style = \"font-weight: bold; text-align: right;\">4</td><td style = \"text-align: left;\">SubString{String}[&quot;OPER MTR VEH U/INFLU ALC/DRUGS/ETC. .08 (AGG CIRCUM), 2ND&quot;, &quot;DRIVING DUI SUSPENDED LICENSE - 1ST OFF (AGG CIRCUM)&quot;]</td></tr><tr><td class = \"rowNumber\" style = \"font-weight: bold; text-align: right;\">5</td><td style = \"text-align: left;\">SubString{String}[&quot;OPERATING ON SUS OR REV OPER LICENSE&quot;]</td></tr><tr><td class = \"rowNumber\" style = \"font-weight: bold; text-align: right;\">6</td><td style = \"text-align: left;\">SubString{String}[&quot;FAILURE TO WEAR SEAT BELTS&quot;]</td></tr><tr><td class = \"rowNumber\" style = \"font-weight: bold; text-align: right;\">7</td><td style = \"text-align: left;\">SubString{String}[&quot;OPER MTR VEHICLE U/INFLUENCE ALC/DRUGS/ETC. .08 - 1ST OFF&quot;]</td></tr><tr><td class = \"rowNumber\" style = \"font-weight: bold; text-align: right;\">8</td><td style = \"text-align: left;\">SubString{String}[&quot;DISREGARDING TRAFFIC CONT DEV-TRAFFIC LIGHT&quot;, &quot;LICENSE TO BE IN POSSESSION&quot;]</td></tr><tr><td class = \"rowNumber\" style = \"font-weight: bold; text-align: right;\">9</td><td style = \"text-align: left;\">SubString{String}[&quot;OPER MTR VEH U/INFLU ALC/DRUGS/ETC. .08 (AGG CIRCUM), 2ND&quot;, &quot;DRIVING ON DUI SUSPENDED LICENSE -1ST OFFENSE&quot;, &quot;POSS OF OPEN ALC BEVERAGE CONT IN MOTOR VEH PROHIBITED&quot;, &quot;FAILURE OF OWNER TO MAINTAIN REQUIRED INS/SEC, 1ST OFF&quot;, &quot;FAILURE TO WEAR SEAT BELTS&quot;]</td></tr><tr><td class = \"rowNumber\" style = \"font-weight: bold; text-align: right;\">10</td><td style = \"text-align: left;\">SubString{String}[&quot;OPER MTR VEHICLE U/INFLUENCE ALC/DRUGS/ETC. .08 - 1ST OFF&quot;, &quot;OPERATING VEHICLE WITH EXPIRED OPERATORS LICENSE&quot;, &quot;DRUG PARAPHERLIA - BUY/POSSESS&quot;]</td></tr><tr><td class = \"rowNumber\" style = \"font-weight: bold; text-align: right;\">11</td><td style = \"text-align: left;\">SubString{String}[&quot;OPER MTR VEHICLE U/INFLUENCE ALC/DRUGS/ETC. .08 - 1ST OFF&quot;, &quot;LEAVING SCENE OF ACCIDENT-FAILURE TO RENDER AID OR ASSISTANCE&quot;, &quot;NO OPERATORS-MOPED LICENSE&quot;]</td></tr><tr><td class = \"rowNumber\" style = \"font-weight: bold; text-align: right;\">12</td><td style = \"text-align: left;\">SubString{String}[&quot;NO REGISTRATION PLATES&quot;, &quot;FAILURE TO PRODUCE INSURANCE CARD&quot;, &quot;NO OPERATORS-MOPED LICENSE&quot;]</td></tr><tr><td class = \"rowNumber\" style = \"font-weight: bold; text-align: right;\">13</td><td style = \"text-align: left;\">SubString{String}[&quot;OPER MTR VEHICLE U/INFLUENCE ALC/DRUGS/ETC. .08 - 1ST OFF&quot;]</td></tr><tr><td style = \"text-align: right;\">&vellip;</td><td style = \"text-align: right;\">&vellip;</td></tr><tr><td class = \"rowNumber\" style = \"font-weight: bold; text-align: right;\">6910</td><td style = \"text-align: left;\">SubString{String}[&quot;NO REGISTRATION PLATES&quot;, &quot;FAILURE TO PRODUCE INSURANCE CARD&quot;]</td></tr><tr><td class = \"rowNumber\" style = \"font-weight: bold; text-align: right;\">6911</td><td style = \"text-align: left;\">SubString{String}[&quot;FAILURE TO OR IMPROPER SIGL&quot;, &quot;FAILURE TO PRODUCE INSURANCE CARD&quot;, &quot;NO OPERATORS-MOPED LICENSE&quot;]</td></tr><tr><td class = \"rowNumber\" style = \"font-weight: bold; text-align: right;\">6912</td><td style = \"text-align: left;\">SubString{String}[&quot;NO TAIL LAMPS&quot;, &quot;FAILURE TO PRODUCE INSURANCE CARD&quot;, &quot;NO REGISTRATION PLATES&quot;]</td></tr><tr><td class = \"rowNumber\" style = \"font-weight: bold; text-align: right;\">6913</td><td style = \"text-align: left;\">SubString{String}[&quot;ONE HEADLIGHT&quot;, &quot;FAILURE TO PRODUCE INSURANCE CARD&quot;, &quot;LICENSE TO BE IN POSSESSION&quot;, &quot;NO REGISTRATION PLATES&quot;]</td></tr><tr><td class = \"rowNumber\" style = \"font-weight: bold; text-align: right;\">6914</td><td style = \"text-align: left;\">SubString{String}[&quot;ONE HEADLIGHT&quot;, &quot;NO REGISTRATION RECEIPT&quot;, &quot;NO OPERATORS-MOPED LICENSE&quot;, &quot;OPER MTR VEHICLE U/INFLUENCE ALC/DRUGS/ETC. .08 - 1ST OFF&quot;]</td></tr><tr><td class = \"rowNumber\" style = \"font-weight: bold; text-align: right;\">6915</td><td style = \"text-align: left;\">SubString{String}[&quot;SPEEDING 10 MPH OVER LIMIT&quot;]</td></tr><tr><td class = \"rowNumber\" style = \"font-weight: bold; text-align: right;\">6916</td><td style = \"text-align: left;\">SubString{String}[&quot;SPEEDING 08 MPH OVER LIMIT&quot;, &quot;FAILURE TO OR IMPROPER SIGL&quot;]</td></tr><tr><td class = \"rowNumber\" style = \"font-weight: bold; text-align: right;\">6917</td><td style = \"text-align: left;\">SubString{String}[&quot;SPEEDING 10 MPH OVER LIMIT&quot;, &quot;FAILURE TO WEAR SEAT BELTS&quot;]</td></tr><tr><td class = \"rowNumber\" style = \"font-weight: bold; text-align: right;\">6918</td><td style = \"text-align: left;\">SubString{String}[&quot;SPEEDING 11 MPH OVER LIMIT&quot;, &quot;NO REGISTRATION RECEIPT&quot;]</td></tr><tr><td class = \"rowNumber\" style = \"font-weight: bold; text-align: right;\">6919</td><td style = \"text-align: left;\">SubString{String}[&quot;SPEEDING 17 MPH OVER LIMIT&quot;, &quot;FAILURE TO WEAR SEAT BELTS&quot;, &quot;LICENSE TO BE IN POSSESSION&quot;, &quot;FAILURE OF OWNER TO MAINTAIN REQUIRED INS/SEC, 1ST OFF&quot;, &quot;NO REGISTRATION PLATES&quot;, &quot;NO REGISTRATION RECEIPT&quot;]</td></tr><tr><td class = \"rowNumber\" style = \"font-weight: bold; text-align: right;\">6920</td><td style = \"text-align: left;\">SubString{String}[&quot;SPEEDING 13 MPH OVER LIMIT&quot;]</td></tr><tr><td class = \"rowNumber\" style = \"font-weight: bold; text-align: right;\">6921</td><td style = \"text-align: left;\">SubString{String}[&quot;FAILURE OF NON-OWNER OPERATOR TO MAINTAIN REQ INS/SEC, 1ST OFF&quot;, &quot;NO OTHER STATE REGISTRATION RECEIPT&quot;]</td></tr></tbody></table></div>"
      ],
      "text/latex": [
       "\\begin{tabular}{r|c}\n",
       "\t& v\\\\\n",
       "\t\\hline\n",
       "\t& Array…\\\\\n",
       "\t\\hline\n",
       "\t1 & [\"POSS CONT SUB 1ST DEG, 1ST OFF (METHAMPHETAMINE)\", \"DRUG PARAPHERLIA - BUY/POSSESS\"] \\\\\n",
       "\t2 & [\"FAILURE TO ILLUMITE HEAD LAMPS\", \"NO OPERATORS-MOPED LICENSE\", \"NO REGISTRATION PLATES\"] \\\\\n",
       "\t3 & [\"NO TAIL LAMPS\", \"OPER MTR VEHICLE U/INFLUENCE ALC/DRUGS/ETC. .08 - 1ST OFF\", \"POSS CONT SUB 1ST DEG, 1ST OFF (METHAMPHETAMINE)\", \"FAILURE OF OWNER TO MAINTAIN REQUIRED INS/SEC, 1ST OFF\", \"VIOLATION UNKNOWN\"] \\\\\n",
       "\t4 & [\"OPER MTR VEH U/INFLU ALC/DRUGS/ETC. .08 (AGG CIRCUM), 2ND\", \"DRIVING DUI SUSPENDED LICENSE - 1ST OFF (AGG CIRCUM)\"] \\\\\n",
       "\t5 & [\"OPERATING ON SUS OR REV OPER LICENSE\"] \\\\\n",
       "\t6 & [\"FAILURE TO WEAR SEAT BELTS\"] \\\\\n",
       "\t7 & [\"OPER MTR VEHICLE U/INFLUENCE ALC/DRUGS/ETC. .08 - 1ST OFF\"] \\\\\n",
       "\t8 & [\"DISREGARDING TRAFFIC CONT DEV-TRAFFIC LIGHT\", \"LICENSE TO BE IN POSSESSION\"] \\\\\n",
       "\t9 & [\"OPER MTR VEH U/INFLU ALC/DRUGS/ETC. .08 (AGG CIRCUM), 2ND\", \"DRIVING ON DUI SUSPENDED LICENSE -1ST OFFENSE\", \"POSS OF OPEN ALC BEVERAGE CONT IN MOTOR VEH PROHIBITED\", \"FAILURE OF OWNER TO MAINTAIN REQUIRED INS/SEC, 1ST OFF\", \"FAILURE TO WEAR SEAT BELTS\"] \\\\\n",
       "\t10 & [\"OPER MTR VEHICLE U/INFLUENCE ALC/DRUGS/ETC. .08 - 1ST OFF\", \"OPERATING VEHICLE WITH EXPIRED OPERATORS LICENSE\", \"DRUG PARAPHERLIA - BUY/POSSESS\"] \\\\\n",
       "\t11 & [\"OPER MTR VEHICLE U/INFLUENCE ALC/DRUGS/ETC. .08 - 1ST OFF\", \"LEAVING SCENE OF ACCIDENT-FAILURE TO RENDER AID OR ASSISTANCE\", \"NO OPERATORS-MOPED LICENSE\"] \\\\\n",
       "\t12 & [\"NO REGISTRATION PLATES\", \"FAILURE TO PRODUCE INSURANCE CARD\", \"NO OPERATORS-MOPED LICENSE\"] \\\\\n",
       "\t13 & [\"OPER MTR VEHICLE U/INFLUENCE ALC/DRUGS/ETC. .08 - 1ST OFF\"] \\\\\n",
       "\t14 & [\"OPER MTR VEHICLE U/INFLUENCE ALC/DRUGS/ETC. .08 - 2ND OFF\", \"OPERATING ON SUS OR REV OPER LICENSE\", \"POSS OF OPEN ALC BEVERAGE CONT IN MOTOR VEH PROHIBITED\"] \\\\\n",
       "\t15 & [\"OPER MTR VEHICLE U/INFLUENCE ALC/DRUGS/ETC. .08 - 2ND OFF\", \"OPERATING ON SUS OR REV OPER LICENSE\"] \\\\\n",
       "\t16 & [\"POSS CONT SUB 1ST DEG 1ST OFF (COCAINE)\", \"DRUG PARAPHERLIA - BUY/POSSESS\"] \\\\\n",
       "\t17 & [\"TRAFF IN CONT SUB, 1ST DEGREE, 1ST OFF - (> OR = 2 GMS METHAMPHETAMINE)\", \"TRAF IN MARIJUA ( LESS THAN 8 OZ.) 1ST OFF\"] \\\\\n",
       "\t18 & [\"OPER MTR VEHICLE U/INFLU ALC/DRUGS/ETC. .08 (AGG CIRCUM) 1ST OFF\", \"OPERATING ON SUS OR REV OPER LICENSE\"] \\\\\n",
       "\t19 & [\"OPER MTR VEHICLE U/INFLUENCE ALC/DRUGS/ETC. .08 - 1ST OFF\", \"OPERATING ON SUS OR REV OPER LICENSE\"] \\\\\n",
       "\t20 & [\"NO REGISTRATION PLATES\", \"OPERATING ON SUS OR REV OPER LICENSE\"] \\\\\n",
       "\t21 & [\"FAILURE TO WEAR SEAT BELTS\", \"DRIVING DUI SUSPENDED LICENSE - 2ND OFFENSE\"] \\\\\n",
       "\t22 & [\"POSS CONT SUB 1ST DEG 1ST OFF (OPIATES)\", \"POSS CONT SUB, 3RD DEGREE - DRUG UNSPECIFIED\", \"FAILURE TO WEAR SEAT BELTS\"] \\\\\n",
       "\t23 & [\"TRAF IN MARIJUA ( > 5 LBS.) 1ST OFF\", \"DRUG PARAPHERLIA - BUY/POSSESS\"] \\\\\n",
       "\t24 & [\"TRAFF IN CONT SUB, 1ST DEGREE, 1ST OFF - (< 2 GMS HEROIN)\", \"TRAFF IN CONT SUB, 3RD DEGREE, 1ST OFF - (< 20 D.U. DRUG UNSPECIFIED)\", \"RECKLESS DRIVING\", \"NO OPERATORS-MOPED LICENSE\"] \\\\\n",
       "\t25 & [\"FAILURE OF OWNER TO MAINTAIN REQUIRED INS/SEC, 1ST OFF\", \"NO REGISTRATION PLATES\", \"TRAF IN MARIJUA ( LESS THAN 8 OZ.) 1ST OFF\"] \\\\\n",
       "\t26 & [\"OPER MTR VEHICLE U/INFLUENCE ALC/DRUGS/ETC. .08 - 2ND OFF\"] \\\\\n",
       "\t27 & [\"OPERATING ON SUS OR REV OPER LICENSE\"] \\\\\n",
       "\t28 & [\"NO REGISTRATION PLATES\"] \\\\\n",
       "\t29 & [\"SPEEDING 12 MPH OVER LIMIT\", \"DRIVING ON DUI SUSPENDED LICENSE -1ST OFFENSE\", \"OPER MTR VEH U/INFLU ALC/DRUGS/ETC. .08 (AGG CIRCUM), 2ND\", \"ENDANGERING THE WELFARE OF A MINOR\", \"CARRYING A CONCEALED WEAPON\", \"POSS OF OPEN ALC BEVERAGE CONT IN MOTOR VEH PROHIBITED\"] \\\\\n",
       "\t30 & [\"OPER MTR VEHICLE U/INFLU ALC/DRUGS/ETC. .08 (AGG CIRCUM) 1ST OFF\"] \\\\\n",
       "\t$\\dots$ & $\\dots$ \\\\\n",
       "\\end{tabular}\n"
      ],
      "text/plain": [
       "\u001b[1m6921×1 DataFrame\u001b[0m\n",
       "\u001b[1m  Row \u001b[0m│\u001b[1m v                                 \u001b[0m\n",
       "      │\u001b[90m Array…                            \u001b[0m\n",
       "──────┼───────────────────────────────────\n",
       "    1 │ SubString{String}[\"POSS CONT SUB…\n",
       "    2 │ SubString{String}[\"FAILURE TO IL…\n",
       "    3 │ SubString{String}[\"NO TAIL LAMPS…\n",
       "    4 │ SubString{String}[\"OPER MTR VEH …\n",
       "    5 │ SubString{String}[\"OPERATING ON …\n",
       "    6 │ SubString{String}[\"FAILURE TO WE…\n",
       "    7 │ SubString{String}[\"OPER MTR VEHI…\n",
       "    8 │ SubString{String}[\"DISREGARDING …\n",
       "    9 │ SubString{String}[\"OPER MTR VEH …\n",
       "   10 │ SubString{String}[\"OPER MTR VEHI…\n",
       "   11 │ SubString{String}[\"OPER MTR VEHI…\n",
       "  ⋮   │                 ⋮\n",
       " 6912 │ SubString{String}[\"NO TAIL LAMPS…\n",
       " 6913 │ SubString{String}[\"ONE HEADLIGHT…\n",
       " 6914 │ SubString{String}[\"ONE HEADLIGHT…\n",
       " 6915 │ SubString{String}[\"SPEEDING 10 M…\n",
       " 6916 │ SubString{String}[\"SPEEDING 08 M…\n",
       " 6917 │ SubString{String}[\"SPEEDING 10 M…\n",
       " 6918 │ SubString{String}[\"SPEEDING 11 M…\n",
       " 6919 │ SubString{String}[\"SPEEDING 17 M…\n",
       " 6920 │ SubString{String}[\"SPEEDING 13 M…\n",
       " 6921 │ SubString{String}[\"FAILURE OF NO…\n",
       "\u001b[36m                         6900 rows omitted\u001b[0m"
      ]
     },
     "execution_count": 25,
     "metadata": {},
     "output_type": "execute_result"
    }
   ],
   "source": [
    "agg_violation = @chain owensboro begin\n",
    "    select(:violation => ByRow(x -> strip.(split(x, \";\"))) => :v)\n",
    "end"
   ]
  },
  {
   "cell_type": "code",
   "execution_count": 26,
   "id": "2a81da5d",
   "metadata": {},
   "outputs": [
    {
     "data": {
      "text/html": [
       "<div><div style = \"float: left;\"><span>13555×1 DataFrame</span></div><div style = \"float: right;\"><span style = \"font-style: italic;\">13530 rows omitted</span></div><div style = \"clear: both;\"></div></div><div class = \"data-frame\" style = \"overflow-x: scroll;\"><table class = \"data-frame\" style = \"margin-bottom: 6px;\"><thead><tr class = \"header\"><th class = \"rowNumber\" style = \"font-weight: bold; text-align: right;\">Row</th><th style = \"text-align: left;\">v</th></tr><tr class = \"subheader headerLastRow\"><th class = \"rowNumber\" style = \"font-weight: bold; text-align: right;\"></th><th title = \"SubString{String}\" style = \"text-align: left;\">SubStrin…</th></tr></thead><tbody><tr><td class = \"rowNumber\" style = \"font-weight: bold; text-align: right;\">1</td><td style = \"text-align: left;\">POSS CONT SUB 1ST DEG, 1ST OFF (METHAMPHETAMINE)</td></tr><tr><td class = \"rowNumber\" style = \"font-weight: bold; text-align: right;\">2</td><td style = \"text-align: left;\">DRUG PARAPHERLIA - BUY/POSSESS</td></tr><tr><td class = \"rowNumber\" style = \"font-weight: bold; text-align: right;\">3</td><td style = \"text-align: left;\">FAILURE TO ILLUMITE HEAD LAMPS</td></tr><tr><td class = \"rowNumber\" style = \"font-weight: bold; text-align: right;\">4</td><td style = \"text-align: left;\">NO OPERATORS-MOPED LICENSE</td></tr><tr><td class = \"rowNumber\" style = \"font-weight: bold; text-align: right;\">5</td><td style = \"text-align: left;\">NO REGISTRATION PLATES</td></tr><tr><td class = \"rowNumber\" style = \"font-weight: bold; text-align: right;\">6</td><td style = \"text-align: left;\">NO TAIL LAMPS</td></tr><tr><td class = \"rowNumber\" style = \"font-weight: bold; text-align: right;\">7</td><td style = \"text-align: left;\">OPER MTR VEHICLE U/INFLUENCE ALC/DRUGS/ETC. .08 - 1ST OFF</td></tr><tr><td class = \"rowNumber\" style = \"font-weight: bold; text-align: right;\">8</td><td style = \"text-align: left;\">POSS CONT SUB 1ST DEG, 1ST OFF (METHAMPHETAMINE)</td></tr><tr><td class = \"rowNumber\" style = \"font-weight: bold; text-align: right;\">9</td><td style = \"text-align: left;\">FAILURE OF OWNER TO MAINTAIN REQUIRED INS/SEC, 1ST OFF</td></tr><tr><td class = \"rowNumber\" style = \"font-weight: bold; text-align: right;\">10</td><td style = \"text-align: left;\">VIOLATION UNKNOWN</td></tr><tr><td class = \"rowNumber\" style = \"font-weight: bold; text-align: right;\">11</td><td style = \"text-align: left;\">OPER MTR VEH U/INFLU ALC/DRUGS/ETC. .08 (AGG CIRCUM), 2ND</td></tr><tr><td class = \"rowNumber\" style = \"font-weight: bold; text-align: right;\">12</td><td style = \"text-align: left;\">DRIVING DUI SUSPENDED LICENSE - 1ST OFF (AGG CIRCUM)</td></tr><tr><td class = \"rowNumber\" style = \"font-weight: bold; text-align: right;\">13</td><td style = \"text-align: left;\">OPERATING ON SUS OR REV OPER LICENSE</td></tr><tr><td style = \"text-align: right;\">&vellip;</td><td style = \"text-align: right;\">&vellip;</td></tr><tr><td class = \"rowNumber\" style = \"font-weight: bold; text-align: right;\">13544</td><td style = \"text-align: left;\">FAILURE TO WEAR SEAT BELTS</td></tr><tr><td class = \"rowNumber\" style = \"font-weight: bold; text-align: right;\">13545</td><td style = \"text-align: left;\">SPEEDING 11 MPH OVER LIMIT</td></tr><tr><td class = \"rowNumber\" style = \"font-weight: bold; text-align: right;\">13546</td><td style = \"text-align: left;\">NO REGISTRATION RECEIPT</td></tr><tr><td class = \"rowNumber\" style = \"font-weight: bold; text-align: right;\">13547</td><td style = \"text-align: left;\">SPEEDING 17 MPH OVER LIMIT</td></tr><tr><td class = \"rowNumber\" style = \"font-weight: bold; text-align: right;\">13548</td><td style = \"text-align: left;\">FAILURE TO WEAR SEAT BELTS</td></tr><tr><td class = \"rowNumber\" style = \"font-weight: bold; text-align: right;\">13549</td><td style = \"text-align: left;\">LICENSE TO BE IN POSSESSION</td></tr><tr><td class = \"rowNumber\" style = \"font-weight: bold; text-align: right;\">13550</td><td style = \"text-align: left;\">FAILURE OF OWNER TO MAINTAIN REQUIRED INS/SEC, 1ST OFF</td></tr><tr><td class = \"rowNumber\" style = \"font-weight: bold; text-align: right;\">13551</td><td style = \"text-align: left;\">NO REGISTRATION PLATES</td></tr><tr><td class = \"rowNumber\" style = \"font-weight: bold; text-align: right;\">13552</td><td style = \"text-align: left;\">NO REGISTRATION RECEIPT</td></tr><tr><td class = \"rowNumber\" style = \"font-weight: bold; text-align: right;\">13553</td><td style = \"text-align: left;\">SPEEDING 13 MPH OVER LIMIT</td></tr><tr><td class = \"rowNumber\" style = \"font-weight: bold; text-align: right;\">13554</td><td style = \"text-align: left;\">FAILURE OF NON-OWNER OPERATOR TO MAINTAIN REQ INS/SEC, 1ST OFF</td></tr><tr><td class = \"rowNumber\" style = \"font-weight: bold; text-align: right;\">13555</td><td style = \"text-align: left;\">NO OTHER STATE REGISTRATION RECEIPT</td></tr></tbody></table></div>"
      ],
      "text/latex": [
       "\\begin{tabular}{r|c}\n",
       "\t& v\\\\\n",
       "\t\\hline\n",
       "\t& SubStrin…\\\\\n",
       "\t\\hline\n",
       "\t1 & POSS CONT SUB 1ST DEG, 1ST OFF (METHAMPHETAMINE) \\\\\n",
       "\t2 & DRUG PARAPHERLIA - BUY/POSSESS \\\\\n",
       "\t3 & FAILURE TO ILLUMITE HEAD LAMPS \\\\\n",
       "\t4 & NO OPERATORS-MOPED LICENSE \\\\\n",
       "\t5 & NO REGISTRATION PLATES \\\\\n",
       "\t6 & NO TAIL LAMPS \\\\\n",
       "\t7 & OPER MTR VEHICLE U/INFLUENCE ALC/DRUGS/ETC. .08 - 1ST OFF \\\\\n",
       "\t8 & POSS CONT SUB 1ST DEG, 1ST OFF (METHAMPHETAMINE) \\\\\n",
       "\t9 & FAILURE OF OWNER TO MAINTAIN REQUIRED INS/SEC, 1ST OFF \\\\\n",
       "\t10 & VIOLATION UNKNOWN \\\\\n",
       "\t11 & OPER MTR VEH U/INFLU ALC/DRUGS/ETC. .08 (AGG CIRCUM), 2ND \\\\\n",
       "\t12 & DRIVING DUI SUSPENDED LICENSE - 1ST OFF (AGG CIRCUM) \\\\\n",
       "\t13 & OPERATING ON SUS OR REV OPER LICENSE \\\\\n",
       "\t14 & FAILURE TO WEAR SEAT BELTS \\\\\n",
       "\t15 & OPER MTR VEHICLE U/INFLUENCE ALC/DRUGS/ETC. .08 - 1ST OFF \\\\\n",
       "\t16 & DISREGARDING TRAFFIC CONT DEV-TRAFFIC LIGHT \\\\\n",
       "\t17 & LICENSE TO BE IN POSSESSION \\\\\n",
       "\t18 & OPER MTR VEH U/INFLU ALC/DRUGS/ETC. .08 (AGG CIRCUM), 2ND \\\\\n",
       "\t19 & DRIVING ON DUI SUSPENDED LICENSE -1ST OFFENSE \\\\\n",
       "\t20 & POSS OF OPEN ALC BEVERAGE CONT IN MOTOR VEH PROHIBITED \\\\\n",
       "\t21 & FAILURE OF OWNER TO MAINTAIN REQUIRED INS/SEC, 1ST OFF \\\\\n",
       "\t22 & FAILURE TO WEAR SEAT BELTS \\\\\n",
       "\t23 & OPER MTR VEHICLE U/INFLUENCE ALC/DRUGS/ETC. .08 - 1ST OFF \\\\\n",
       "\t24 & OPERATING VEHICLE WITH EXPIRED OPERATORS LICENSE \\\\\n",
       "\t25 & DRUG PARAPHERLIA - BUY/POSSESS \\\\\n",
       "\t26 & OPER MTR VEHICLE U/INFLUENCE ALC/DRUGS/ETC. .08 - 1ST OFF \\\\\n",
       "\t27 & LEAVING SCENE OF ACCIDENT-FAILURE TO RENDER AID OR ASSISTANCE \\\\\n",
       "\t28 & NO OPERATORS-MOPED LICENSE \\\\\n",
       "\t29 & NO REGISTRATION PLATES \\\\\n",
       "\t30 & FAILURE TO PRODUCE INSURANCE CARD \\\\\n",
       "\t$\\dots$ & $\\dots$ \\\\\n",
       "\\end{tabular}\n"
      ],
      "text/plain": [
       "\u001b[1m13555×1 DataFrame\u001b[0m\n",
       "\u001b[1m   Row \u001b[0m│\u001b[1m v                                 \u001b[0m\n",
       "       │\u001b[90m SubStrin…                         \u001b[0m\n",
       "───────┼───────────────────────────────────\n",
       "     1 │ POSS CONT SUB 1ST DEG, 1ST OFF (…\n",
       "     2 │ DRUG PARAPHERLIA - BUY/POSSESS\n",
       "     3 │ FAILURE TO ILLUMITE HEAD LAMPS\n",
       "     4 │ NO OPERATORS-MOPED LICENSE\n",
       "     5 │ NO REGISTRATION PLATES\n",
       "     6 │ NO TAIL LAMPS\n",
       "     7 │ OPER MTR VEHICLE U/INFLUENCE ALC…\n",
       "     8 │ POSS CONT SUB 1ST DEG, 1ST OFF (…\n",
       "     9 │ FAILURE OF OWNER TO MAINTAIN REQ…\n",
       "    10 │ VIOLATION UNKNOWN\n",
       "    11 │ OPER MTR VEH U/INFLU ALC/DRUGS/E…\n",
       "   ⋮   │                 ⋮\n",
       " 13546 │ NO REGISTRATION RECEIPT\n",
       " 13547 │ SPEEDING 17 MPH OVER LIMIT\n",
       " 13548 │ FAILURE TO WEAR SEAT BELTS\n",
       " 13549 │ LICENSE TO BE IN POSSESSION\n",
       " 13550 │ FAILURE OF OWNER TO MAINTAIN REQ…\n",
       " 13551 │ NO REGISTRATION PLATES\n",
       " 13552 │ NO REGISTRATION RECEIPT\n",
       " 13553 │ SPEEDING 13 MPH OVER LIMIT\n",
       " 13554 │ FAILURE OF NON-OWNER OPERATOR TO…\n",
       " 13555 │ NO OTHER STATE REGISTRATION RECE…\n",
       "\u001b[36m                         13534 rows omitted\u001b[0m"
      ]
     },
     "execution_count": 26,
     "metadata": {},
     "output_type": "execute_result"
    }
   ],
   "source": [
    "agg_violation = @chain owensboro begin\n",
    "    select(:violation => ByRow(x -> strip.(split(x, \";\"))) => :v)\n",
    "    flatten(:v)\n",
    "end"
   ]
  },
  {
   "cell_type": "code",
   "execution_count": 27,
   "id": "16fdd8e4",
   "metadata": {
    "scrolled": true
   },
   "outputs": [
    {
     "data": {
      "text/html": [
       "<div><div style = \"float: left;\"><span>245×2 DataFrame</span></div><div style = \"float: right;\"><span style = \"font-style: italic;\">220 rows omitted</span></div><div style = \"clear: both;\"></div></div><div class = \"data-frame\" style = \"overflow-x: scroll;\"><table class = \"data-frame\" style = \"margin-bottom: 6px;\"><thead><tr class = \"header\"><th class = \"rowNumber\" style = \"font-weight: bold; text-align: right;\">Row</th><th style = \"text-align: left;\">v</th><th style = \"text-align: left;\">count</th></tr><tr class = \"subheader headerLastRow\"><th class = \"rowNumber\" style = \"font-weight: bold; text-align: right;\"></th><th title = \"AbstractString\" style = \"text-align: left;\">Abstract…</th><th title = \"Int64\" style = \"text-align: left;\">Int64</th></tr></thead><tbody><tr><td class = \"rowNumber\" style = \"font-weight: bold; text-align: right;\">1</td><td style = \"text-align: left;\">FAILURE TO WEAR SEAT BELTS</td><td style = \"text-align: right;\">2689</td></tr><tr><td class = \"rowNumber\" style = \"font-weight: bold; text-align: right;\">2</td><td style = \"text-align: left;\">NO REGISTRATION PLATES</td><td style = \"text-align: right;\">1667</td></tr><tr><td class = \"rowNumber\" style = \"font-weight: bold; text-align: right;\">3</td><td style = \"text-align: left;\">FAILURE TO PRODUCE INSURANCE CARD</td><td style = \"text-align: right;\">1324</td></tr><tr><td class = \"rowNumber\" style = \"font-weight: bold; text-align: right;\">4</td><td style = \"text-align: left;\">SPEEDING</td><td style = \"text-align: right;\">1067</td></tr><tr><td class = \"rowNumber\" style = \"font-weight: bold; text-align: right;\">5</td><td style = \"text-align: left;\">NO REGISTRATION RECEIPT</td><td style = \"text-align: right;\">701</td></tr><tr><td class = \"rowNumber\" style = \"font-weight: bold; text-align: right;\">6</td><td style = \"text-align: left;\">FAILURE OF OWNER TO MAINTAIN REQUIRED INS/SEC, 1ST OFF</td><td style = \"text-align: right;\">677</td></tr><tr><td class = \"rowNumber\" style = \"font-weight: bold; text-align: right;\">7</td><td style = \"text-align: left;\">OPERATING ON SUS OR REV OPER LICENSE</td><td style = \"text-align: right;\">472</td></tr><tr><td class = \"rowNumber\" style = \"font-weight: bold; text-align: right;\">8</td><td style = \"text-align: left;\">FAILURE TO NOTIFY ADRS CHANGE TO DEPT OF TRANS</td><td style = \"text-align: right;\">409</td></tr><tr><td class = \"rowNumber\" style = \"font-weight: bold; text-align: right;\">9</td><td style = \"text-align: left;\">NO OPERATORS-MOPED LICENSE</td><td style = \"text-align: right;\">336</td></tr><tr><td class = \"rowNumber\" style = \"font-weight: bold; text-align: right;\">10</td><td style = \"text-align: left;\">OPER MTR VEHICLE U/INFLUENCE ALC/DRUGS/ETC. .08 - 1ST OFF</td><td style = \"text-align: right;\">246</td></tr><tr><td class = \"rowNumber\" style = \"font-weight: bold; text-align: right;\">11</td><td style = \"text-align: left;\">LICENSE TO BE IN POSSESSION</td><td style = \"text-align: right;\">246</td></tr><tr><td class = \"rowNumber\" style = \"font-weight: bold; text-align: right;\">12</td><td style = \"text-align: left;\">DRUG PARAPHERLIA - BUY/POSSESS</td><td style = \"text-align: right;\">217</td></tr><tr><td class = \"rowNumber\" style = \"font-weight: bold; text-align: right;\">13</td><td style = \"text-align: left;\">FAILURE TO OR IMPROPER SIGL</td><td style = \"text-align: right;\">213</td></tr><tr><td style = \"text-align: right;\">&vellip;</td><td style = \"text-align: right;\">&vellip;</td><td style = \"text-align: right;\">&vellip;</td></tr><tr><td class = \"rowNumber\" style = \"font-weight: bold; text-align: right;\">234</td><td style = \"text-align: left;\">TRAFF IN CONT SUB, 1ST DEGREE, 2ND OR &gt; OFF-(&lt;10D.U.DRUGUNSPECIFIEDSCH1&amp;2)</td><td style = \"text-align: right;\">1</td></tr><tr><td class = \"rowNumber\" style = \"font-weight: bold; text-align: right;\">235</td><td style = \"text-align: left;\">POSS OF MARIJUATRAFF IN CONT SUB, 1ST DEGREE, 1ST OFF - (&gt; OR = 2 GMS METHAMPHETAMINE)</td><td style = \"text-align: right;\">1</td></tr><tr><td class = \"rowNumber\" style = \"font-weight: bold; text-align: right;\">236</td><td style = \"text-align: left;\">USE OF CELLULAR PHONE WHILE DRIVING SCHOOL BUS</td><td style = \"text-align: right;\">1</td></tr><tr><td class = \"rowNumber\" style = \"font-weight: bold; text-align: right;\">237</td><td style = \"text-align: left;\">INSUFFICIENT HEAD LAMPS</td><td style = \"text-align: right;\">1</td></tr><tr><td class = \"rowNumber\" style = \"font-weight: bold; text-align: right;\">238</td><td style = \"text-align: left;\">IMPROPER LANE USAGE-VEHICLES KEEP TO RIGHT EXCEPT TO PASS</td><td style = \"text-align: right;\">1</td></tr><tr><td class = \"rowNumber\" style = \"font-weight: bold; text-align: right;\">239</td><td style = \"text-align: left;\">POSS OF MARIJUACARELESS DRIVING</td><td style = \"text-align: right;\">1</td></tr><tr><td class = \"rowNumber\" style = \"font-weight: bold; text-align: right;\">240</td><td style = \"text-align: left;\">NONE/IMPROPER USE OF TEMPORARY TAG WHEN REQUIRED</td><td style = \"text-align: right;\">1</td></tr><tr><td class = \"rowNumber\" style = \"font-weight: bold; text-align: right;\">241</td><td style = \"text-align: left;\">POSS OF MARIJUADRIVING-DUI SUSPENDED LICENSE (3RD OFFENSE)</td><td style = \"text-align: right;\">1</td></tr><tr><td class = \"rowNumber\" style = \"font-weight: bold; text-align: right;\">242</td><td style = \"text-align: left;\">IMPROPER USE OF RED LIGHTS</td><td style = \"text-align: right;\">1</td></tr><tr><td class = \"rowNumber\" style = \"font-weight: bold; text-align: right;\">243</td><td style = \"text-align: left;\">DISPLAY OF ILLEGAL/ALTERED REGISTRATION PLATE</td><td style = \"text-align: right;\">1</td></tr><tr><td class = \"rowNumber\" style = \"font-weight: bold; text-align: right;\">244</td><td style = \"text-align: left;\">TRAFF IN CONT SUB, 2ND DEGREE, 1ST OFF-(&gt; OR = 10 D.U.SCH 1&amp;2NON-RCOTICS)</td><td style = \"text-align: right;\">1</td></tr><tr><td class = \"rowNumber\" style = \"font-weight: bold; text-align: right;\">245</td><td style = \"text-align: left;\">UUTHORIZED USE OF MOTOR VEHICLE-1ST OFFENSE</td><td style = \"text-align: right;\">1</td></tr></tbody></table></div>"
      ],
      "text/latex": [
       "\\begin{tabular}{r|cc}\n",
       "\t& v & count\\\\\n",
       "\t\\hline\n",
       "\t& Abstract… & Int64\\\\\n",
       "\t\\hline\n",
       "\t1 & FAILURE TO WEAR SEAT BELTS & 2689 \\\\\n",
       "\t2 & NO REGISTRATION PLATES & 1667 \\\\\n",
       "\t3 & FAILURE TO PRODUCE INSURANCE CARD & 1324 \\\\\n",
       "\t4 & SPEEDING & 1067 \\\\\n",
       "\t5 & NO REGISTRATION RECEIPT & 701 \\\\\n",
       "\t6 & FAILURE OF OWNER TO MAINTAIN REQUIRED INS/SEC, 1ST OFF & 677 \\\\\n",
       "\t7 & OPERATING ON SUS OR REV OPER LICENSE & 472 \\\\\n",
       "\t8 & FAILURE TO NOTIFY ADRS CHANGE TO DEPT OF TRANS & 409 \\\\\n",
       "\t9 & NO OPERATORS-MOPED LICENSE & 336 \\\\\n",
       "\t10 & OPER MTR VEHICLE U/INFLUENCE ALC/DRUGS/ETC. .08 - 1ST OFF & 246 \\\\\n",
       "\t11 & LICENSE TO BE IN POSSESSION & 246 \\\\\n",
       "\t12 & DRUG PARAPHERLIA - BUY/POSSESS & 217 \\\\\n",
       "\t13 & FAILURE TO OR IMPROPER SIGL & 213 \\\\\n",
       "\t14 & DISREGARDING TRAFFIC CONT DEV-TRAFFIC LIGHT & 191 \\\\\n",
       "\t15 & OPER MTR VEHICLE U/INFLU ALC/DRUGS/ETC. .08 (AGG CIRCUM) 1ST OFF & 162 \\\\\n",
       "\t16 & DISREGARDING STOP SIGN & 143 \\\\\n",
       "\t17 & OWNER TO NOTIFY CLERK OF RESIDENCE OR ME CHANGE & 139 \\\\\n",
       "\t18 & POSS CONT SUB 1ST DEG, 1ST OFF (METHAMPHETAMINE) & 115 \\\\\n",
       "\t19 & POSS OF MARIJUADRUG PARAPHERLIA - BUY/POSSESS & 109 \\\\\n",
       "\t20 & OPERATING VEHICLE WITH EXPIRED OPERATORS LICENSE & 107 \\\\\n",
       "\t21 & POSS OF OPEN ALC BEVERAGE CONT IN MOTOR VEH PROHIBITED & 103 \\\\\n",
       "\t22 & CARELESS DRIVING & 100 \\\\\n",
       "\t23 & IMPROPER DISPLAY OF REGISTRATION PLATES & 86 \\\\\n",
       "\t24 & FAILURE TO REGISTER TRANSFER OF MOTOR VEHICLE & 81 \\\\\n",
       "\t25 & ONE HEADLIGHT & 76 \\\\\n",
       "\t26 & BOOSTER SEAT VIOLATIONS & 76 \\\\\n",
       "\t27 & POSS OF MARIJUA & 72 \\\\\n",
       "\t28 & DRIVING ON DUI SUSPENDED LICENSE -1ST OFFENSE & 71 \\\\\n",
       "\t29 & REAR LICENSE NOT ILLUMITED & 62 \\\\\n",
       "\t30 & INSTRUCTIOL PERMIT VIOLATIONS & 62 \\\\\n",
       "\t$\\dots$ & $\\dots$ & $\\dots$ \\\\\n",
       "\\end{tabular}\n"
      ],
      "text/plain": [
       "\u001b[1m245×2 DataFrame\u001b[0m\n",
       "\u001b[1m Row \u001b[0m│\u001b[1m v                                 \u001b[0m\u001b[1m count \u001b[0m\n",
       "     │\u001b[90m Abstract…                         \u001b[0m\u001b[90m Int64 \u001b[0m\n",
       "─────┼──────────────────────────────────────────\n",
       "   1 │ FAILURE TO WEAR SEAT BELTS          2689\n",
       "   2 │ NO REGISTRATION PLATES              1667\n",
       "   3 │ FAILURE TO PRODUCE INSURANCE CARD   1324\n",
       "   4 │ SPEEDING                            1067\n",
       "   5 │ NO REGISTRATION RECEIPT              701\n",
       "   6 │ FAILURE OF OWNER TO MAINTAIN REQ…    677\n",
       "   7 │ OPERATING ON SUS OR REV OPER LIC…    472\n",
       "   8 │ FAILURE TO NOTIFY ADRS CHANGE TO…    409\n",
       "   9 │ NO OPERATORS-MOPED LICENSE           336\n",
       "  10 │ OPER MTR VEHICLE U/INFLUENCE ALC…    246\n",
       "  11 │ LICENSE TO BE IN POSSESSION          246\n",
       "  ⋮  │                 ⋮                    ⋮\n",
       " 236 │ USE OF CELLULAR PHONE WHILE DRIV…      1\n",
       " 237 │ INSUFFICIENT HEAD LAMPS                1\n",
       " 238 │ IMPROPER LANE USAGE-VEHICLES KEE…      1\n",
       " 239 │ POSS OF MARIJUACARELESS DRIVING        1\n",
       " 240 │ NONE/IMPROPER USE OF TEMPORARY T…      1\n",
       " 241 │ POSS OF MARIJUADRIVING-DUI SUSPE…      1\n",
       " 242 │ IMPROPER USE OF RED LIGHTS             1\n",
       " 243 │ DISPLAY OF ILLEGAL/ALTERED REGIS…      1\n",
       " 244 │ TRAFF IN CONT SUB, 2ND DEGREE, 1…      1\n",
       " 245 │ UUTHORIZED USE OF MOTOR VEHICLE-…      1\n",
       "\u001b[36m                                224 rows omitted\u001b[0m"
      ]
     },
     "execution_count": 27,
     "metadata": {},
     "output_type": "execute_result"
    }
   ],
   "source": [
    "agg_violation = @chain owensboro begin\n",
    "    select(:violation => ByRow(x -> strip.(split(x, \";\"))) => :v)\n",
    "    flatten(:v)\n",
    "    select(:v => ByRow(x -> contains(x, \"SPEEDING\") ? \"SPEEDING\" : x) => :v)\n",
    "    groupby(:v)\n",
    "    combine(nrow => :count)\n",
    "    sort(:count, rev=true)\n",
    "end"
   ]
  },
  {
   "cell_type": "markdown",
   "id": "36085cd3",
   "metadata": {},
   "source": [
    "### Vectorizing functions using the the ByRow wrapper"
   ]
  },
  {
   "cell_type": "code",
   "execution_count": 28,
   "id": "8b3a0963",
   "metadata": {},
   "outputs": [
    {
     "data": {
      "text/plain": [
       "2.0"
      ]
     },
     "execution_count": 28,
     "metadata": {},
     "output_type": "execute_result"
    }
   ],
   "source": [
    "sqrt(4)"
   ]
  },
  {
   "cell_type": "code",
   "execution_count": 29,
   "id": "0ca5d206",
   "metadata": {},
   "outputs": [
    {
     "ename": "LoadError",
     "evalue": "MethodError: no method matching sqrt(::Vector{Int64})\n\n\u001b[0mClosest candidates are:\n\u001b[0m  sqrt(\u001b[91m::BigInt\u001b[39m)\n\u001b[0m\u001b[90m   @\u001b[39m \u001b[90mBase\u001b[39m \u001b[90m\u001b[4mmpfr.jl:644\u001b[24m\u001b[39m\n\u001b[0m  sqrt(\u001b[91m::Float16\u001b[39m)\n\u001b[0m\u001b[90m   @\u001b[39m \u001b[90mBase\u001b[39m \u001b[90m\u001b[4mmath.jl:1558\u001b[24m\u001b[39m\n\u001b[0m  sqrt(\u001b[91m::BigFloat\u001b[39m)\n\u001b[0m\u001b[90m   @\u001b[39m \u001b[90mBase\u001b[39m \u001b[90m\u001b[4mmpfr.jl:636\u001b[24m\u001b[39m\n\u001b[0m  ...\n",
     "output_type": "error",
     "traceback": [
      "MethodError: no method matching sqrt(::Vector{Int64})\n\n\u001b[0mClosest candidates are:\n\u001b[0m  sqrt(\u001b[91m::BigInt\u001b[39m)\n\u001b[0m\u001b[90m   @\u001b[39m \u001b[90mBase\u001b[39m \u001b[90m\u001b[4mmpfr.jl:644\u001b[24m\u001b[39m\n\u001b[0m  sqrt(\u001b[91m::Float16\u001b[39m)\n\u001b[0m\u001b[90m   @\u001b[39m \u001b[90mBase\u001b[39m \u001b[90m\u001b[4mmath.jl:1558\u001b[24m\u001b[39m\n\u001b[0m  sqrt(\u001b[91m::BigFloat\u001b[39m)\n\u001b[0m\u001b[90m   @\u001b[39m \u001b[90mBase\u001b[39m \u001b[90m\u001b[4mmpfr.jl:636\u001b[24m\u001b[39m\n\u001b[0m  ...\n",
      "",
      "Stacktrace:",
      " [1] top-level scope",
      "   @ In[29]:1"
     ]
    }
   ],
   "source": [
    "sqrt([4, 9, 16])"
   ]
  },
  {
   "cell_type": "code",
   "execution_count": 30,
   "id": "d8b15430",
   "metadata": {},
   "outputs": [
    {
     "data": {
      "text/plain": [
       "3-element Vector{Float64}:\n",
       " 2.0\n",
       " 3.0\n",
       " 4.0"
      ]
     },
     "execution_count": 30,
     "metadata": {},
     "output_type": "execute_result"
    }
   ],
   "source": [
    "ByRow(sqrt)([4, 9, 16])"
   ]
  },
  {
   "cell_type": "code",
   "execution_count": 31,
   "id": "a67b76a7",
   "metadata": {},
   "outputs": [
    {
     "data": {
      "text/plain": [
       "(::ByRow{typeof(sqrt)}) (generic function with 4 methods)"
      ]
     },
     "execution_count": 31,
     "metadata": {},
     "output_type": "execute_result"
    }
   ],
   "source": [
    "f = ByRow(sqrt)"
   ]
  },
  {
   "cell_type": "code",
   "execution_count": 32,
   "id": "97febd07",
   "metadata": {},
   "outputs": [
    {
     "data": {
      "text/plain": [
       "3-element Vector{Float64}:\n",
       " 2.0\n",
       " 3.0\n",
       " 4.0"
      ]
     },
     "execution_count": 32,
     "metadata": {},
     "output_type": "execute_result"
    }
   ],
   "source": [
    "f([4, 9, 16])"
   ]
  },
  {
   "cell_type": "markdown",
   "id": "05964c78",
   "metadata": {},
   "source": [
    "### Flattening data frames"
   ]
  },
  {
   "cell_type": "code",
   "execution_count": 33,
   "id": "e97fa388",
   "metadata": {},
   "outputs": [
    {
     "data": {
      "text/html": [
       "<div><div style = \"float: left;\"><span>2×2 DataFrame</span></div><div style = \"clear: both;\"></div></div><div class = \"data-frame\" style = \"overflow-x: scroll;\"><table class = \"data-frame\" style = \"margin-bottom: 6px;\"><thead><tr class = \"header\"><th class = \"rowNumber\" style = \"font-weight: bold; text-align: right;\">Row</th><th style = \"text-align: left;\">id</th><th style = \"text-align: left;\">v</th></tr><tr class = \"subheader headerLastRow\"><th class = \"rowNumber\" style = \"font-weight: bold; text-align: right;\"></th><th title = \"Int64\" style = \"text-align: left;\">Int64</th><th title = \"Vector{Int64}\" style = \"text-align: left;\">Array…</th></tr></thead><tbody><tr><td class = \"rowNumber\" style = \"font-weight: bold; text-align: right;\">1</td><td style = \"text-align: right;\">1</td><td style = \"text-align: left;\">[11, 12]</td></tr><tr><td class = \"rowNumber\" style = \"font-weight: bold; text-align: right;\">2</td><td style = \"text-align: right;\">2</td><td style = \"text-align: left;\">[13, 14, 15]</td></tr></tbody></table></div>"
      ],
      "text/latex": [
       "\\begin{tabular}{r|cc}\n",
       "\t& id & v\\\\\n",
       "\t\\hline\n",
       "\t& Int64 & Array…\\\\\n",
       "\t\\hline\n",
       "\t1 & 1 & [11, 12] \\\\\n",
       "\t2 & 2 & [13, 14, 15] \\\\\n",
       "\\end{tabular}\n"
      ],
      "text/plain": [
       "\u001b[1m2×2 DataFrame\u001b[0m\n",
       "\u001b[1m Row \u001b[0m│\u001b[1m id    \u001b[0m\u001b[1m v            \u001b[0m\n",
       "     │\u001b[90m Int64 \u001b[0m\u001b[90m Array…       \u001b[0m\n",
       "─────┼─────────────────────\n",
       "   1 │     1  [11, 12]\n",
       "   2 │     2  [13, 14, 15]"
      ]
     },
     "execution_count": 33,
     "metadata": {},
     "output_type": "execute_result"
    }
   ],
   "source": [
    "df = DataFrame(id=1:2, v=[[11, 12], [13, 14, 15]])"
   ]
  },
  {
   "cell_type": "code",
   "execution_count": 34,
   "id": "c3299e1a",
   "metadata": {},
   "outputs": [
    {
     "data": {
      "text/html": [
       "<div><div style = \"float: left;\"><span>5×2 DataFrame</span></div><div style = \"clear: both;\"></div></div><div class = \"data-frame\" style = \"overflow-x: scroll;\"><table class = \"data-frame\" style = \"margin-bottom: 6px;\"><thead><tr class = \"header\"><th class = \"rowNumber\" style = \"font-weight: bold; text-align: right;\">Row</th><th style = \"text-align: left;\">id</th><th style = \"text-align: left;\">v</th></tr><tr class = \"subheader headerLastRow\"><th class = \"rowNumber\" style = \"font-weight: bold; text-align: right;\"></th><th title = \"Int64\" style = \"text-align: left;\">Int64</th><th title = \"Int64\" style = \"text-align: left;\">Int64</th></tr></thead><tbody><tr><td class = \"rowNumber\" style = \"font-weight: bold; text-align: right;\">1</td><td style = \"text-align: right;\">1</td><td style = \"text-align: right;\">11</td></tr><tr><td class = \"rowNumber\" style = \"font-weight: bold; text-align: right;\">2</td><td style = \"text-align: right;\">1</td><td style = \"text-align: right;\">12</td></tr><tr><td class = \"rowNumber\" style = \"font-weight: bold; text-align: right;\">3</td><td style = \"text-align: right;\">2</td><td style = \"text-align: right;\">13</td></tr><tr><td class = \"rowNumber\" style = \"font-weight: bold; text-align: right;\">4</td><td style = \"text-align: right;\">2</td><td style = \"text-align: right;\">14</td></tr><tr><td class = \"rowNumber\" style = \"font-weight: bold; text-align: right;\">5</td><td style = \"text-align: right;\">2</td><td style = \"text-align: right;\">15</td></tr></tbody></table></div>"
      ],
      "text/latex": [
       "\\begin{tabular}{r|cc}\n",
       "\t& id & v\\\\\n",
       "\t\\hline\n",
       "\t& Int64 & Int64\\\\\n",
       "\t\\hline\n",
       "\t1 & 1 & 11 \\\\\n",
       "\t2 & 1 & 12 \\\\\n",
       "\t3 & 2 & 13 \\\\\n",
       "\t4 & 2 & 14 \\\\\n",
       "\t5 & 2 & 15 \\\\\n",
       "\\end{tabular}\n"
      ],
      "text/plain": [
       "\u001b[1m5×2 DataFrame\u001b[0m\n",
       "\u001b[1m Row \u001b[0m│\u001b[1m id    \u001b[0m\u001b[1m v     \u001b[0m\n",
       "     │\u001b[90m Int64 \u001b[0m\u001b[90m Int64 \u001b[0m\n",
       "─────┼──────────────\n",
       "   1 │     1     11\n",
       "   2 │     1     12\n",
       "   3 │     2     13\n",
       "   4 │     2     14\n",
       "   5 │     2     15"
      ]
     },
     "execution_count": 34,
     "metadata": {},
     "output_type": "execute_result"
    }
   ],
   "source": [
    "flatten(df, :v)"
   ]
  },
  {
   "cell_type": "markdown",
   "id": "e8459844",
   "metadata": {},
   "source": [
    "### Convenience syntax for getting number of rows of a data frame"
   ]
  },
  {
   "cell_type": "code",
   "execution_count": 35,
   "id": "79e96553",
   "metadata": {},
   "outputs": [
    {
     "data": {
      "text/html": [
       "<div><div style = \"float: left;\"><span>2×3 DataFrame</span></div><div style = \"clear: both;\"></div></div><div class = \"data-frame\" style = \"overflow-x: scroll;\"><table class = \"data-frame\" style = \"margin-bottom: 6px;\"><thead><tr class = \"header\"><th class = \"rowNumber\" style = \"font-weight: bold; text-align: right;\">Row</th><th style = \"text-align: left;\">id</th><th style = \"text-align: left;\">nrow</th><th style = \"text-align: left;\">rows</th></tr><tr class = \"subheader headerLastRow\"><th class = \"rowNumber\" style = \"font-weight: bold; text-align: right;\"></th><th title = \"Int64\" style = \"text-align: left;\">Int64</th><th title = \"Int64\" style = \"text-align: left;\">Int64</th><th title = \"Int64\" style = \"text-align: left;\">Int64</th></tr></thead><tbody><tr><td class = \"rowNumber\" style = \"font-weight: bold; text-align: right;\">1</td><td style = \"text-align: right;\">1</td><td style = \"text-align: right;\">2</td><td style = \"text-align: right;\">2</td></tr><tr><td class = \"rowNumber\" style = \"font-weight: bold; text-align: right;\">2</td><td style = \"text-align: right;\">2</td><td style = \"text-align: right;\">3</td><td style = \"text-align: right;\">3</td></tr></tbody></table></div>"
      ],
      "text/latex": [
       "\\begin{tabular}{r|ccc}\n",
       "\t& id & nrow & rows\\\\\n",
       "\t\\hline\n",
       "\t& Int64 & Int64 & Int64\\\\\n",
       "\t\\hline\n",
       "\t1 & 1 & 2 & 2 \\\\\n",
       "\t2 & 2 & 3 & 3 \\\\\n",
       "\\end{tabular}\n"
      ],
      "text/plain": [
       "\u001b[1m2×3 DataFrame\u001b[0m\n",
       "\u001b[1m Row \u001b[0m│\u001b[1m id    \u001b[0m\u001b[1m nrow  \u001b[0m\u001b[1m rows  \u001b[0m\n",
       "     │\u001b[90m Int64 \u001b[0m\u001b[90m Int64 \u001b[0m\u001b[90m Int64 \u001b[0m\n",
       "─────┼─────────────────────\n",
       "   1 │     1      2      2\n",
       "   2 │     2      3      3"
      ]
     },
     "execution_count": 35,
     "metadata": {},
     "output_type": "execute_result"
    }
   ],
   "source": [
    "@chain DataFrame(id=[1, 1, 2, 2, 2]) begin\n",
    "    groupby(:id)\n",
    "    combine(nrow, nrow => :rows)\n",
    "end"
   ]
  },
  {
   "cell_type": "markdown",
   "id": "58696755",
   "metadata": {},
   "source": [
    "### Sorting data frames"
   ]
  },
  {
   "cell_type": "code",
   "execution_count": 36,
   "id": "4c61bf83",
   "metadata": {},
   "outputs": [
    {
     "data": {
      "text/html": [
       "<div><div style = \"float: left;\"><span>5×2 DataFrame</span></div><div style = \"clear: both;\"></div></div><div class = \"data-frame\" style = \"overflow-x: scroll;\"><table class = \"data-frame\" style = \"margin-bottom: 6px;\"><thead><tr class = \"header\"><th class = \"rowNumber\" style = \"font-weight: bold; text-align: right;\">Row</th><th style = \"text-align: left;\">a</th><th style = \"text-align: left;\">b</th></tr><tr class = \"subheader headerLastRow\"><th class = \"rowNumber\" style = \"font-weight: bold; text-align: right;\"></th><th title = \"Int64\" style = \"text-align: left;\">Int64</th><th title = \"Int64\" style = \"text-align: left;\">Int64</th></tr></thead><tbody><tr><td class = \"rowNumber\" style = \"font-weight: bold; text-align: right;\">1</td><td style = \"text-align: right;\">2</td><td style = \"text-align: right;\">5</td></tr><tr><td class = \"rowNumber\" style = \"font-weight: bold; text-align: right;\">2</td><td style = \"text-align: right;\">1</td><td style = \"text-align: right;\">4</td></tr><tr><td class = \"rowNumber\" style = \"font-weight: bold; text-align: right;\">3</td><td style = \"text-align: right;\">2</td><td style = \"text-align: right;\">3</td></tr><tr><td class = \"rowNumber\" style = \"font-weight: bold; text-align: right;\">4</td><td style = \"text-align: right;\">1</td><td style = \"text-align: right;\">2</td></tr><tr><td class = \"rowNumber\" style = \"font-weight: bold; text-align: right;\">5</td><td style = \"text-align: right;\">2</td><td style = \"text-align: right;\">1</td></tr></tbody></table></div>"
      ],
      "text/latex": [
       "\\begin{tabular}{r|cc}\n",
       "\t& a & b\\\\\n",
       "\t\\hline\n",
       "\t& Int64 & Int64\\\\\n",
       "\t\\hline\n",
       "\t1 & 2 & 5 \\\\\n",
       "\t2 & 1 & 4 \\\\\n",
       "\t3 & 2 & 3 \\\\\n",
       "\t4 & 1 & 2 \\\\\n",
       "\t5 & 2 & 1 \\\\\n",
       "\\end{tabular}\n"
      ],
      "text/plain": [
       "\u001b[1m5×2 DataFrame\u001b[0m\n",
       "\u001b[1m Row \u001b[0m│\u001b[1m a     \u001b[0m\u001b[1m b     \u001b[0m\n",
       "     │\u001b[90m Int64 \u001b[0m\u001b[90m Int64 \u001b[0m\n",
       "─────┼──────────────\n",
       "   1 │     2      5\n",
       "   2 │     1      4\n",
       "   3 │     2      3\n",
       "   4 │     1      2\n",
       "   5 │     2      1"
      ]
     },
     "execution_count": 36,
     "metadata": {},
     "output_type": "execute_result"
    }
   ],
   "source": [
    "df = DataFrame(a=[2, 1, 2, 1, 2], b=5:-1:1)"
   ]
  },
  {
   "cell_type": "code",
   "execution_count": 37,
   "id": "4ee13cd5",
   "metadata": {},
   "outputs": [
    {
     "data": {
      "text/html": [
       "<div><div style = \"float: left;\"><span>5×2 DataFrame</span></div><div style = \"clear: both;\"></div></div><div class = \"data-frame\" style = \"overflow-x: scroll;\"><table class = \"data-frame\" style = \"margin-bottom: 6px;\"><thead><tr class = \"header\"><th class = \"rowNumber\" style = \"font-weight: bold; text-align: right;\">Row</th><th style = \"text-align: left;\">a</th><th style = \"text-align: left;\">b</th></tr><tr class = \"subheader headerLastRow\"><th class = \"rowNumber\" style = \"font-weight: bold; text-align: right;\"></th><th title = \"Int64\" style = \"text-align: left;\">Int64</th><th title = \"Int64\" style = \"text-align: left;\">Int64</th></tr></thead><tbody><tr><td class = \"rowNumber\" style = \"font-weight: bold; text-align: right;\">1</td><td style = \"text-align: right;\">2</td><td style = \"text-align: right;\">1</td></tr><tr><td class = \"rowNumber\" style = \"font-weight: bold; text-align: right;\">2</td><td style = \"text-align: right;\">1</td><td style = \"text-align: right;\">2</td></tr><tr><td class = \"rowNumber\" style = \"font-weight: bold; text-align: right;\">3</td><td style = \"text-align: right;\">2</td><td style = \"text-align: right;\">3</td></tr><tr><td class = \"rowNumber\" style = \"font-weight: bold; text-align: right;\">4</td><td style = \"text-align: right;\">1</td><td style = \"text-align: right;\">4</td></tr><tr><td class = \"rowNumber\" style = \"font-weight: bold; text-align: right;\">5</td><td style = \"text-align: right;\">2</td><td style = \"text-align: right;\">5</td></tr></tbody></table></div>"
      ],
      "text/latex": [
       "\\begin{tabular}{r|cc}\n",
       "\t& a & b\\\\\n",
       "\t\\hline\n",
       "\t& Int64 & Int64\\\\\n",
       "\t\\hline\n",
       "\t1 & 2 & 1 \\\\\n",
       "\t2 & 1 & 2 \\\\\n",
       "\t3 & 2 & 3 \\\\\n",
       "\t4 & 1 & 4 \\\\\n",
       "\t5 & 2 & 5 \\\\\n",
       "\\end{tabular}\n"
      ],
      "text/plain": [
       "\u001b[1m5×2 DataFrame\u001b[0m\n",
       "\u001b[1m Row \u001b[0m│\u001b[1m a     \u001b[0m\u001b[1m b     \u001b[0m\n",
       "     │\u001b[90m Int64 \u001b[0m\u001b[90m Int64 \u001b[0m\n",
       "─────┼──────────────\n",
       "   1 │     2      1\n",
       "   2 │     1      2\n",
       "   3 │     2      3\n",
       "   4 │     1      4\n",
       "   5 │     2      5"
      ]
     },
     "execution_count": 37,
     "metadata": {},
     "output_type": "execute_result"
    }
   ],
   "source": [
    "sort(df, :b)"
   ]
  },
  {
   "cell_type": "code",
   "execution_count": 38,
   "id": "cfbfaf2b",
   "metadata": {},
   "outputs": [
    {
     "data": {
      "text/html": [
       "<div><div style = \"float: left;\"><span>5×2 DataFrame</span></div><div style = \"clear: both;\"></div></div><div class = \"data-frame\" style = \"overflow-x: scroll;\"><table class = \"data-frame\" style = \"margin-bottom: 6px;\"><thead><tr class = \"header\"><th class = \"rowNumber\" style = \"font-weight: bold; text-align: right;\">Row</th><th style = \"text-align: left;\">a</th><th style = \"text-align: left;\">b</th></tr><tr class = \"subheader headerLastRow\"><th class = \"rowNumber\" style = \"font-weight: bold; text-align: right;\"></th><th title = \"Int64\" style = \"text-align: left;\">Int64</th><th title = \"Int64\" style = \"text-align: left;\">Int64</th></tr></thead><tbody><tr><td class = \"rowNumber\" style = \"font-weight: bold; text-align: right;\">1</td><td style = \"text-align: right;\">1</td><td style = \"text-align: right;\">2</td></tr><tr><td class = \"rowNumber\" style = \"font-weight: bold; text-align: right;\">2</td><td style = \"text-align: right;\">1</td><td style = \"text-align: right;\">4</td></tr><tr><td class = \"rowNumber\" style = \"font-weight: bold; text-align: right;\">3</td><td style = \"text-align: right;\">2</td><td style = \"text-align: right;\">1</td></tr><tr><td class = \"rowNumber\" style = \"font-weight: bold; text-align: right;\">4</td><td style = \"text-align: right;\">2</td><td style = \"text-align: right;\">3</td></tr><tr><td class = \"rowNumber\" style = \"font-weight: bold; text-align: right;\">5</td><td style = \"text-align: right;\">2</td><td style = \"text-align: right;\">5</td></tr></tbody></table></div>"
      ],
      "text/latex": [
       "\\begin{tabular}{r|cc}\n",
       "\t& a & b\\\\\n",
       "\t\\hline\n",
       "\t& Int64 & Int64\\\\\n",
       "\t\\hline\n",
       "\t1 & 1 & 2 \\\\\n",
       "\t2 & 1 & 4 \\\\\n",
       "\t3 & 2 & 1 \\\\\n",
       "\t4 & 2 & 3 \\\\\n",
       "\t5 & 2 & 5 \\\\\n",
       "\\end{tabular}\n"
      ],
      "text/plain": [
       "\u001b[1m5×2 DataFrame\u001b[0m\n",
       "\u001b[1m Row \u001b[0m│\u001b[1m a     \u001b[0m\u001b[1m b     \u001b[0m\n",
       "     │\u001b[90m Int64 \u001b[0m\u001b[90m Int64 \u001b[0m\n",
       "─────┼──────────────\n",
       "   1 │     1      2\n",
       "   2 │     1      4\n",
       "   3 │     2      1\n",
       "   4 │     2      3\n",
       "   5 │     2      5"
      ]
     },
     "execution_count": 38,
     "metadata": {},
     "output_type": "execute_result"
    }
   ],
   "source": [
    "sort(df, [:a, :b])"
   ]
  },
  {
   "cell_type": "markdown",
   "id": "abc8f988",
   "metadata": {},
   "source": [
    "## Preparing data for making predictions"
   ]
  },
  {
   "cell_type": "markdown",
   "id": "49133ec3",
   "metadata": {},
   "source": [
    "### Initial transformation of the data"
   ]
  },
  {
   "cell_type": "code",
   "execution_count": 39,
   "id": "a9d5a825",
   "metadata": {},
   "outputs": [
    {
     "data": {
      "text/html": [
       "<div><div style = \"float: left;\"><span>6921×7 DataFrame</span></div><div style = \"float: right;\"><span style = \"font-style: italic;\">6896 rows omitted</span></div><div style = \"clear: both;\"></div></div><div class = \"data-frame\" style = \"overflow-x: scroll;\"><table class = \"data-frame\" style = \"margin-bottom: 6px;\"><thead><tr class = \"header\"><th class = \"rowNumber\" style = \"font-weight: bold; text-align: right;\">Row</th><th style = \"text-align: left;\">arrest</th><th style = \"text-align: left;\">day</th><th style = \"text-align: left;\">type</th><th style = \"text-align: left;\">v1</th><th style = \"text-align: left;\">v2</th><th style = \"text-align: left;\">v3</th><th style = \"text-align: left;\">v4</th></tr><tr class = \"subheader headerLastRow\"><th class = \"rowNumber\" style = \"font-weight: bold; text-align: right;\"></th><th title = \"Bool\" style = \"text-align: left;\">Bool</th><th title = \"Int64\" style = \"text-align: left;\">Int64</th><th title = \"Union{Missing, String15}\" style = \"text-align: left;\">String15?</th><th title = \"Bool\" style = \"text-align: left;\">Bool</th><th title = \"Bool\" style = \"text-align: left;\">Bool</th><th title = \"Bool\" style = \"text-align: left;\">Bool</th><th title = \"Bool\" style = \"text-align: left;\">Bool</th></tr></thead><tbody><tr><td class = \"rowNumber\" style = \"font-weight: bold; text-align: right;\">1</td><td style = \"text-align: right;\">true</td><td style = \"text-align: right;\">4</td><td style = \"text-align: left;\">pedestrian</td><td style = \"text-align: right;\">false</td><td style = \"text-align: right;\">false</td><td style = \"text-align: right;\">false</td><td style = \"text-align: right;\">false</td></tr><tr><td class = \"rowNumber\" style = \"font-weight: bold; text-align: right;\">2</td><td style = \"text-align: right;\">false</td><td style = \"text-align: right;\">7</td><td style = \"text-align: left;\">vehicular</td><td style = \"text-align: right;\">false</td><td style = \"text-align: right;\">true</td><td style = \"text-align: right;\">false</td><td style = \"text-align: right;\">false</td></tr><tr><td class = \"rowNumber\" style = \"font-weight: bold; text-align: right;\">3</td><td style = \"text-align: right;\">true</td><td style = \"text-align: right;\">7</td><td style = \"text-align: left;\">vehicular</td><td style = \"text-align: right;\">false</td><td style = \"text-align: right;\">false</td><td style = \"text-align: right;\">false</td><td style = \"text-align: right;\">false</td></tr><tr><td class = \"rowNumber\" style = \"font-weight: bold; text-align: right;\">4</td><td style = \"text-align: right;\">true</td><td style = \"text-align: right;\">2</td><td style = \"text-align: left;\">vehicular</td><td style = \"text-align: right;\">false</td><td style = \"text-align: right;\">false</td><td style = \"text-align: right;\">false</td><td style = \"text-align: right;\">false</td></tr><tr><td class = \"rowNumber\" style = \"font-weight: bold; text-align: right;\">5</td><td style = \"text-align: right;\">false</td><td style = \"text-align: right;\">3</td><td style = \"text-align: left;\">vehicular</td><td style = \"text-align: right;\">false</td><td style = \"text-align: right;\">false</td><td style = \"text-align: right;\">false</td><td style = \"text-align: right;\">false</td></tr><tr><td class = \"rowNumber\" style = \"font-weight: bold; text-align: right;\">6</td><td style = \"text-align: right;\">false</td><td style = \"text-align: right;\">4</td><td style = \"text-align: left;\">vehicular</td><td style = \"text-align: right;\">true</td><td style = \"text-align: right;\">false</td><td style = \"text-align: right;\">false</td><td style = \"text-align: right;\">false</td></tr><tr><td class = \"rowNumber\" style = \"font-weight: bold; text-align: right;\">7</td><td style = \"text-align: right;\">true</td><td style = \"text-align: right;\">7</td><td style = \"text-align: left;\">vehicular</td><td style = \"text-align: right;\">false</td><td style = \"text-align: right;\">false</td><td style = \"text-align: right;\">false</td><td style = \"text-align: right;\">false</td></tr><tr><td class = \"rowNumber\" style = \"font-weight: bold; text-align: right;\">8</td><td style = \"text-align: right;\">false</td><td style = \"text-align: right;\">2</td><td style = \"text-align: left;\">vehicular</td><td style = \"text-align: right;\">false</td><td style = \"text-align: right;\">false</td><td style = \"text-align: right;\">false</td><td style = \"text-align: right;\">false</td></tr><tr><td class = \"rowNumber\" style = \"font-weight: bold; text-align: right;\">9</td><td style = \"text-align: right;\">true</td><td style = \"text-align: right;\">6</td><td style = \"text-align: left;\">vehicular</td><td style = \"text-align: right;\">true</td><td style = \"text-align: right;\">false</td><td style = \"text-align: right;\">false</td><td style = \"text-align: right;\">false</td></tr><tr><td class = \"rowNumber\" style = \"font-weight: bold; text-align: right;\">10</td><td style = \"text-align: right;\">true</td><td style = \"text-align: right;\">3</td><td style = \"text-align: left;\">vehicular</td><td style = \"text-align: right;\">false</td><td style = \"text-align: right;\">false</td><td style = \"text-align: right;\">false</td><td style = \"text-align: right;\">false</td></tr><tr><td class = \"rowNumber\" style = \"font-weight: bold; text-align: right;\">11</td><td style = \"text-align: right;\">true</td><td style = \"text-align: right;\">3</td><td style = \"text-align: left;\">vehicular</td><td style = \"text-align: right;\">false</td><td style = \"text-align: right;\">false</td><td style = \"text-align: right;\">false</td><td style = \"text-align: right;\">false</td></tr><tr><td class = \"rowNumber\" style = \"font-weight: bold; text-align: right;\">12</td><td style = \"text-align: right;\">false</td><td style = \"text-align: right;\">6</td><td style = \"text-align: left;\">vehicular</td><td style = \"text-align: right;\">false</td><td style = \"text-align: right;\">true</td><td style = \"text-align: right;\">true</td><td style = \"text-align: right;\">false</td></tr><tr><td class = \"rowNumber\" style = \"font-weight: bold; text-align: right;\">13</td><td style = \"text-align: right;\">true</td><td style = \"text-align: right;\">7</td><td style = \"text-align: left;\">vehicular</td><td style = \"text-align: right;\">false</td><td style = \"text-align: right;\">false</td><td style = \"text-align: right;\">false</td><td style = \"text-align: right;\">false</td></tr><tr><td style = \"text-align: right;\">&vellip;</td><td style = \"text-align: right;\">&vellip;</td><td style = \"text-align: right;\">&vellip;</td><td style = \"text-align: right;\">&vellip;</td><td style = \"text-align: right;\">&vellip;</td><td style = \"text-align: right;\">&vellip;</td><td style = \"text-align: right;\">&vellip;</td><td style = \"text-align: right;\">&vellip;</td></tr><tr><td class = \"rowNumber\" style = \"font-weight: bold; text-align: right;\">6910</td><td style = \"text-align: right;\">false</td><td style = \"text-align: right;\">4</td><td style = \"text-align: left;\">vehicular</td><td style = \"text-align: right;\">false</td><td style = \"text-align: right;\">true</td><td style = \"text-align: right;\">true</td><td style = \"text-align: right;\">false</td></tr><tr><td class = \"rowNumber\" style = \"font-weight: bold; text-align: right;\">6911</td><td style = \"text-align: right;\">false</td><td style = \"text-align: right;\">5</td><td style = \"text-align: left;\">vehicular</td><td style = \"text-align: right;\">false</td><td style = \"text-align: right;\">false</td><td style = \"text-align: right;\">true</td><td style = \"text-align: right;\">false</td></tr><tr><td class = \"rowNumber\" style = \"font-weight: bold; text-align: right;\">6912</td><td style = \"text-align: right;\">false</td><td style = \"text-align: right;\">6</td><td style = \"text-align: left;\">vehicular</td><td style = \"text-align: right;\">false</td><td style = \"text-align: right;\">true</td><td style = \"text-align: right;\">true</td><td style = \"text-align: right;\">false</td></tr><tr><td class = \"rowNumber\" style = \"font-weight: bold; text-align: right;\">6913</td><td style = \"text-align: right;\">false</td><td style = \"text-align: right;\">7</td><td style = \"text-align: left;\">vehicular</td><td style = \"text-align: right;\">false</td><td style = \"text-align: right;\">true</td><td style = \"text-align: right;\">true</td><td style = \"text-align: right;\">false</td></tr><tr><td class = \"rowNumber\" style = \"font-weight: bold; text-align: right;\">6914</td><td style = \"text-align: right;\">true</td><td style = \"text-align: right;\">7</td><td style = \"text-align: left;\">vehicular</td><td style = \"text-align: right;\">false</td><td style = \"text-align: right;\">false</td><td style = \"text-align: right;\">false</td><td style = \"text-align: right;\">false</td></tr><tr><td class = \"rowNumber\" style = \"font-weight: bold; text-align: right;\">6915</td><td style = \"text-align: right;\">false</td><td style = \"text-align: right;\">3</td><td style = \"text-align: left;\">vehicular</td><td style = \"text-align: right;\">false</td><td style = \"text-align: right;\">false</td><td style = \"text-align: right;\">false</td><td style = \"text-align: right;\">true</td></tr><tr><td class = \"rowNumber\" style = \"font-weight: bold; text-align: right;\">6916</td><td style = \"text-align: right;\">false</td><td style = \"text-align: right;\">3</td><td style = \"text-align: left;\">vehicular</td><td style = \"text-align: right;\">false</td><td style = \"text-align: right;\">false</td><td style = \"text-align: right;\">false</td><td style = \"text-align: right;\">true</td></tr><tr><td class = \"rowNumber\" style = \"font-weight: bold; text-align: right;\">6917</td><td style = \"text-align: right;\">false</td><td style = \"text-align: right;\">3</td><td style = \"text-align: left;\">vehicular</td><td style = \"text-align: right;\">true</td><td style = \"text-align: right;\">false</td><td style = \"text-align: right;\">false</td><td style = \"text-align: right;\">true</td></tr><tr><td class = \"rowNumber\" style = \"font-weight: bold; text-align: right;\">6918</td><td style = \"text-align: right;\">false</td><td style = \"text-align: right;\">3</td><td style = \"text-align: left;\">vehicular</td><td style = \"text-align: right;\">false</td><td style = \"text-align: right;\">false</td><td style = \"text-align: right;\">false</td><td style = \"text-align: right;\">true</td></tr><tr><td class = \"rowNumber\" style = \"font-weight: bold; text-align: right;\">6919</td><td style = \"text-align: right;\">false</td><td style = \"text-align: right;\">3</td><td style = \"text-align: left;\">vehicular</td><td style = \"text-align: right;\">true</td><td style = \"text-align: right;\">true</td><td style = \"text-align: right;\">false</td><td style = \"text-align: right;\">true</td></tr><tr><td class = \"rowNumber\" style = \"font-weight: bold; text-align: right;\">6920</td><td style = \"text-align: right;\">false</td><td style = \"text-align: right;\">3</td><td style = \"text-align: left;\">vehicular</td><td style = \"text-align: right;\">false</td><td style = \"text-align: right;\">false</td><td style = \"text-align: right;\">false</td><td style = \"text-align: right;\">true</td></tr><tr><td class = \"rowNumber\" style = \"font-weight: bold; text-align: right;\">6921</td><td style = \"text-align: right;\">false</td><td style = \"text-align: right;\">3</td><td style = \"text-align: left;\">vehicular</td><td style = \"text-align: right;\">false</td><td style = \"text-align: right;\">false</td><td style = \"text-align: right;\">false</td><td style = \"text-align: right;\">false</td></tr></tbody></table></div>"
      ],
      "text/latex": [
       "\\begin{tabular}{r|ccccccc}\n",
       "\t& arrest & day & type & v1 & v2 & v3 & v4\\\\\n",
       "\t\\hline\n",
       "\t& Bool & Int64 & String15? & Bool & Bool & Bool & Bool\\\\\n",
       "\t\\hline\n",
       "\t1 & 1 & 4 & pedestrian & 0 & 0 & 0 & 0 \\\\\n",
       "\t2 & 0 & 7 & vehicular & 0 & 1 & 0 & 0 \\\\\n",
       "\t3 & 1 & 7 & vehicular & 0 & 0 & 0 & 0 \\\\\n",
       "\t4 & 1 & 2 & vehicular & 0 & 0 & 0 & 0 \\\\\n",
       "\t5 & 0 & 3 & vehicular & 0 & 0 & 0 & 0 \\\\\n",
       "\t6 & 0 & 4 & vehicular & 1 & 0 & 0 & 0 \\\\\n",
       "\t7 & 1 & 7 & vehicular & 0 & 0 & 0 & 0 \\\\\n",
       "\t8 & 0 & 2 & vehicular & 0 & 0 & 0 & 0 \\\\\n",
       "\t9 & 1 & 6 & vehicular & 1 & 0 & 0 & 0 \\\\\n",
       "\t10 & 1 & 3 & vehicular & 0 & 0 & 0 & 0 \\\\\n",
       "\t11 & 1 & 3 & vehicular & 0 & 0 & 0 & 0 \\\\\n",
       "\t12 & 0 & 6 & vehicular & 0 & 1 & 1 & 0 \\\\\n",
       "\t13 & 1 & 7 & vehicular & 0 & 0 & 0 & 0 \\\\\n",
       "\t14 & 1 & 4 & vehicular & 0 & 0 & 0 & 0 \\\\\n",
       "\t15 & 1 & 6 & vehicular & 0 & 0 & 0 & 0 \\\\\n",
       "\t16 & 1 & 2 & pedestrian & 0 & 0 & 0 & 0 \\\\\n",
       "\t17 & 1 & 6 & pedestrian & 0 & 0 & 0 & 0 \\\\\n",
       "\t18 & 1 & 7 & vehicular & 0 & 0 & 0 & 0 \\\\\n",
       "\t19 & 1 & 1 & vehicular & 0 & 0 & 0 & 0 \\\\\n",
       "\t20 & 0 & 4 & vehicular & 0 & 1 & 0 & 0 \\\\\n",
       "\t21 & 1 & 4 & vehicular & 1 & 0 & 0 & 0 \\\\\n",
       "\t22 & 1 & 1 & pedestrian & 1 & 0 & 0 & 0 \\\\\n",
       "\t23 & 1 & 4 & pedestrian & 0 & 0 & 0 & 0 \\\\\n",
       "\t24 & 1 & 2 & pedestrian & 0 & 0 & 0 & 0 \\\\\n",
       "\t25 & 1 & 5 & vehicular & 0 & 1 & 0 & 0 \\\\\n",
       "\t26 & 1 & 5 & vehicular & 0 & 0 & 0 & 0 \\\\\n",
       "\t27 & 0 & 3 & vehicular & 0 & 0 & 0 & 0 \\\\\n",
       "\t28 & 0 & 4 & vehicular & 0 & 1 & 0 & 0 \\\\\n",
       "\t29 & 1 & 4 & vehicular & 0 & 0 & 0 & 1 \\\\\n",
       "\t30 & 1 & 6 & vehicular & 0 & 0 & 0 & 0 \\\\\n",
       "\t$\\dots$ & $\\dots$ & $\\dots$ & $\\dots$ & $\\dots$ & $\\dots$ & $\\dots$ & $\\dots$ \\\\\n",
       "\\end{tabular}\n"
      ],
      "text/plain": [
       "\u001b[1m6921×7 DataFrame\u001b[0m\n",
       "\u001b[1m  Row \u001b[0m│\u001b[1m arrest \u001b[0m\u001b[1m day   \u001b[0m\u001b[1m type       \u001b[0m\u001b[1m v1    \u001b[0m\u001b[1m v2    \u001b[0m\u001b[1m v3    \u001b[0m\u001b[1m v4    \u001b[0m\n",
       "      │\u001b[90m Bool   \u001b[0m\u001b[90m Int64 \u001b[0m\u001b[90m String15?  \u001b[0m\u001b[90m Bool  \u001b[0m\u001b[90m Bool  \u001b[0m\u001b[90m Bool  \u001b[0m\u001b[90m Bool  \u001b[0m\n",
       "──────┼───────────────────────────────────────────────────────\n",
       "    1 │   true      4  pedestrian  false  false  false  false\n",
       "    2 │  false      7  vehicular   false   true  false  false\n",
       "    3 │   true      7  vehicular   false  false  false  false\n",
       "    4 │   true      2  vehicular   false  false  false  false\n",
       "    5 │  false      3  vehicular   false  false  false  false\n",
       "    6 │  false      4  vehicular    true  false  false  false\n",
       "    7 │   true      7  vehicular   false  false  false  false\n",
       "    8 │  false      2  vehicular   false  false  false  false\n",
       "    9 │   true      6  vehicular    true  false  false  false\n",
       "   10 │   true      3  vehicular   false  false  false  false\n",
       "   11 │   true      3  vehicular   false  false  false  false\n",
       "  ⋮   │   ⋮       ⋮        ⋮         ⋮      ⋮      ⋮      ⋮\n",
       " 6912 │  false      6  vehicular   false   true   true  false\n",
       " 6913 │  false      7  vehicular   false   true   true  false\n",
       " 6914 │   true      7  vehicular   false  false  false  false\n",
       " 6915 │  false      3  vehicular   false  false  false   true\n",
       " 6916 │  false      3  vehicular   false  false  false   true\n",
       " 6917 │  false      3  vehicular    true  false  false   true\n",
       " 6918 │  false      3  vehicular   false  false  false   true\n",
       " 6919 │  false      3  vehicular    true   true  false   true\n",
       " 6920 │  false      3  vehicular   false  false  false   true\n",
       " 6921 │  false      3  vehicular   false  false  false  false\n",
       "\u001b[36m                                             6900 rows omitted\u001b[0m"
      ]
     },
     "execution_count": 39,
     "metadata": {},
     "output_type": "execute_result"
    }
   ],
   "source": [
    "owensboro2 = select(owensboro,\n",
    "    :arrest_made => :arrest,\n",
    "    :date => ByRow(dayofweek) => :day,\n",
    "    :type,\n",
    "    [:violation => ByRow(x -> contains(x, agg_violation.v[i])) => \"v$i\" for i in 1:4])"
   ]
  },
  {
   "cell_type": "code",
   "execution_count": 40,
   "id": "2856ebe6",
   "metadata": {},
   "outputs": [
    {
     "data": {
      "text/plain": [
       "4-element Vector{Pair{Symbol, Pair{ByRow{var\"#18#20\"{Int64}}, String}}}:\n",
       " :violation => (ByRow{var\"#18#20\"{Int64}}(var\"#18#20\"{Int64}(1)) => \"v1\")\n",
       " :violation => (ByRow{var\"#18#20\"{Int64}}(var\"#18#20\"{Int64}(2)) => \"v2\")\n",
       " :violation => (ByRow{var\"#18#20\"{Int64}}(var\"#18#20\"{Int64}(3)) => \"v3\")\n",
       " :violation => (ByRow{var\"#18#20\"{Int64}}(var\"#18#20\"{Int64}(4)) => \"v4\")"
      ]
     },
     "execution_count": 40,
     "metadata": {},
     "output_type": "execute_result"
    }
   ],
   "source": [
    "[:violation => ByRow(x -> contains(x, agg_violation.v[i])) => \"v$i\" for i in 1:4]"
   ]
  },
  {
   "cell_type": "code",
   "execution_count": 41,
   "id": "d7e37e41",
   "metadata": {},
   "outputs": [
    {
     "data": {
      "text/html": [
       "<div><div style = \"float: left;\"><span>1×4 DataFrame</span></div><div style = \"clear: both;\"></div></div><div class = \"data-frame\" style = \"overflow-x: scroll;\"><table class = \"data-frame\" style = \"margin-bottom: 6px;\"><thead><tr class = \"header\"><th class = \"rowNumber\" style = \"font-weight: bold; text-align: right;\">Row</th><th style = \"text-align: left;\">date_minimum</th><th style = \"text-align: left;\">date_maximum</th><th style = \"text-align: left;\">arrest_made_minimum</th><th style = \"text-align: left;\">arrest_made_maximum</th></tr><tr class = \"subheader headerLastRow\"><th class = \"rowNumber\" style = \"font-weight: bold; text-align: right;\"></th><th title = \"Date\" style = \"text-align: left;\">Date</th><th title = \"Date\" style = \"text-align: left;\">Date</th><th title = \"Bool\" style = \"text-align: left;\">Bool</th><th title = \"Bool\" style = \"text-align: left;\">Bool</th></tr></thead><tbody><tr><td class = \"rowNumber\" style = \"font-weight: bold; text-align: right;\">1</td><td style = \"text-align: left;\">2015-09-01</td><td style = \"text-align: left;\">2017-09-01</td><td style = \"text-align: right;\">false</td><td style = \"text-align: right;\">true</td></tr></tbody></table></div>"
      ],
      "text/latex": [
       "\\begin{tabular}{r|cccc}\n",
       "\t& date\\_minimum & date\\_maximum & arrest\\_made\\_minimum & arrest\\_made\\_maximum\\\\\n",
       "\t\\hline\n",
       "\t& Date & Date & Bool & Bool\\\\\n",
       "\t\\hline\n",
       "\t1 & 2015-09-01 & 2017-09-01 & 0 & 1 \\\\\n",
       "\\end{tabular}\n"
      ],
      "text/plain": [
       "\u001b[1m1×4 DataFrame\u001b[0m\n",
       "\u001b[1m Row \u001b[0m│\u001b[1m date_minimum \u001b[0m\u001b[1m date_maximum \u001b[0m\u001b[1m arrest_made_minimum \u001b[0m\u001b[1m arrest_made_maximum \u001b[0m\n",
       "     │\u001b[90m Date         \u001b[0m\u001b[90m Date         \u001b[0m\u001b[90m Bool                \u001b[0m\u001b[90m Bool                \u001b[0m\n",
       "─────┼──────────────────────────────────────────────────────────────────────\n",
       "   1 │ 2015-09-01    2017-09-01                  false                 true"
      ]
     },
     "execution_count": 41,
     "metadata": {},
     "output_type": "execute_result"
    }
   ],
   "source": [
    "combine(owensboro, [:date :arrest_made] .=> [minimum, maximum])"
   ]
  },
  {
   "cell_type": "code",
   "execution_count": 42,
   "id": "aa365f08",
   "metadata": {},
   "outputs": [
    {
     "data": {
      "text/plain": [
       "2×2 Matrix{Pair{Symbol}}:\n",
       " :date=>minimum  :arrest_made=>minimum\n",
       " :date=>maximum  :arrest_made=>maximum"
      ]
     },
     "execution_count": 42,
     "metadata": {},
     "output_type": "execute_result"
    }
   ],
   "source": [
    "[:date :arrest_made] .=> [minimum, maximum]"
   ]
  },
  {
   "cell_type": "markdown",
   "id": "60fb1d47",
   "metadata": {},
   "source": [
    "### Working with categorical data"
   ]
  },
  {
   "cell_type": "code",
   "execution_count": 43,
   "id": "d0dc0e3d",
   "metadata": {},
   "outputs": [
    {
     "data": {
      "text/html": [
       "<div><div style = \"float: left;\"><span>7×2 DataFrame</span></div><div style = \"clear: both;\"></div></div><div class = \"data-frame\" style = \"overflow-x: scroll;\"><table class = \"data-frame\" style = \"margin-bottom: 6px;\"><thead><tr class = \"header\"><th class = \"rowNumber\" style = \"font-weight: bold; text-align: right;\">Row</th><th style = \"text-align: left;\">day</th><th style = \"text-align: left;\">dayname</th></tr><tr class = \"subheader headerLastRow\"><th class = \"rowNumber\" style = \"font-weight: bold; text-align: right;\"></th><th title = \"Int64\" style = \"text-align: left;\">Int64</th><th title = \"CategoricalValue{String, UInt32}\" style = \"text-align: left;\">Cat…</th></tr></thead><tbody><tr><td class = \"rowNumber\" style = \"font-weight: bold; text-align: right;\">1</td><td style = \"text-align: right;\">1</td><td style = \"text-align: left;\">Monday</td></tr><tr><td class = \"rowNumber\" style = \"font-weight: bold; text-align: right;\">2</td><td style = \"text-align: right;\">2</td><td style = \"text-align: left;\">Tuesday</td></tr><tr><td class = \"rowNumber\" style = \"font-weight: bold; text-align: right;\">3</td><td style = \"text-align: right;\">3</td><td style = \"text-align: left;\">Wednesday</td></tr><tr><td class = \"rowNumber\" style = \"font-weight: bold; text-align: right;\">4</td><td style = \"text-align: right;\">4</td><td style = \"text-align: left;\">Thursday</td></tr><tr><td class = \"rowNumber\" style = \"font-weight: bold; text-align: right;\">5</td><td style = \"text-align: right;\">5</td><td style = \"text-align: left;\">Friday</td></tr><tr><td class = \"rowNumber\" style = \"font-weight: bold; text-align: right;\">6</td><td style = \"text-align: right;\">6</td><td style = \"text-align: left;\">Saturday</td></tr><tr><td class = \"rowNumber\" style = \"font-weight: bold; text-align: right;\">7</td><td style = \"text-align: right;\">7</td><td style = \"text-align: left;\">Sunday</td></tr></tbody></table></div>"
      ],
      "text/latex": [
       "\\begin{tabular}{r|cc}\n",
       "\t& day & dayname\\\\\n",
       "\t\\hline\n",
       "\t& Int64 & Cat…\\\\\n",
       "\t\\hline\n",
       "\t1 & 1 & Monday \\\\\n",
       "\t2 & 2 & Tuesday \\\\\n",
       "\t3 & 3 & Wednesday \\\\\n",
       "\t4 & 4 & Thursday \\\\\n",
       "\t5 & 5 & Friday \\\\\n",
       "\t6 & 6 & Saturday \\\\\n",
       "\t7 & 7 & Sunday \\\\\n",
       "\\end{tabular}\n"
      ],
      "text/plain": [
       "\u001b[1m7×2 DataFrame\u001b[0m\n",
       "\u001b[1m Row \u001b[0m│\u001b[1m day   \u001b[0m\u001b[1m dayname   \u001b[0m\n",
       "     │\u001b[90m Int64 \u001b[0m\u001b[90m Cat…      \u001b[0m\n",
       "─────┼──────────────────\n",
       "   1 │     1  Monday\n",
       "   2 │     2  Tuesday\n",
       "   3 │     3  Wednesday\n",
       "   4 │     4  Thursday\n",
       "   5 │     5  Friday\n",
       "   6 │     6  Saturday\n",
       "   7 │     7  Sunday"
      ]
     },
     "execution_count": 43,
     "metadata": {},
     "output_type": "execute_result"
    }
   ],
   "source": [
    "weekdays = DataFrame(day=1:7,\n",
    "                     dayname=categorical(dayname.(1:7); ordered=true))"
   ]
  },
  {
   "cell_type": "code",
   "execution_count": 44,
   "id": "265806ee",
   "metadata": {},
   "outputs": [
    {
     "data": {
      "text/plain": [
       "true"
      ]
     },
     "execution_count": 44,
     "metadata": {},
     "output_type": "execute_result"
    }
   ],
   "source": [
    "isordered(weekdays.dayname)"
   ]
  },
  {
   "cell_type": "code",
   "execution_count": 45,
   "id": "7bc1223b",
   "metadata": {},
   "outputs": [
    {
     "data": {
      "text/plain": [
       "7-element Vector{String}:\n",
       " \"Friday\"\n",
       " \"Monday\"\n",
       " \"Saturday\"\n",
       " \"Sunday\"\n",
       " \"Thursday\"\n",
       " \"Tuesday\"\n",
       " \"Wednesday\""
      ]
     },
     "execution_count": 45,
     "metadata": {},
     "output_type": "execute_result"
    }
   ],
   "source": [
    "levels(weekdays.dayname)"
   ]
  },
  {
   "cell_type": "code",
   "execution_count": 46,
   "id": "ea62e3c7",
   "metadata": {},
   "outputs": [
    {
     "data": {
      "text/plain": [
       "7-element CategoricalArray{String,1,UInt32}:\n",
       " \"Monday\"\n",
       " \"Tuesday\"\n",
       " \"Wednesday\"\n",
       " \"Thursday\"\n",
       " \"Friday\"\n",
       " \"Saturday\"\n",
       " \"Sunday\""
      ]
     },
     "execution_count": 46,
     "metadata": {},
     "output_type": "execute_result"
    }
   ],
   "source": [
    "levels!(weekdays.dayname, weekdays.dayname)"
   ]
  },
  {
   "cell_type": "markdown",
   "id": "bd0cbf9d",
   "metadata": {},
   "source": [
    "### Joining data frames"
   ]
  },
  {
   "cell_type": "code",
   "execution_count": 47,
   "id": "4d5c3b13",
   "metadata": {
    "scrolled": true
   },
   "outputs": [
    {
     "data": {
      "text/html": [
       "<div><div style = \"float: left;\"><span>6921×8 DataFrame</span></div><div style = \"float: right;\"><span style = \"font-style: italic;\">6896 rows omitted</span></div><div style = \"clear: both;\"></div></div><div class = \"data-frame\" style = \"overflow-x: scroll;\"><table class = \"data-frame\" style = \"margin-bottom: 6px;\"><thead><tr class = \"header\"><th class = \"rowNumber\" style = \"font-weight: bold; text-align: right;\">Row</th><th style = \"text-align: left;\">arrest</th><th style = \"text-align: left;\">day</th><th style = \"text-align: left;\">type</th><th style = \"text-align: left;\">v1</th><th style = \"text-align: left;\">v2</th><th style = \"text-align: left;\">v3</th><th style = \"text-align: left;\">v4</th><th style = \"text-align: left;\">dayname</th></tr><tr class = \"subheader headerLastRow\"><th class = \"rowNumber\" style = \"font-weight: bold; text-align: right;\"></th><th title = \"Bool\" style = \"text-align: left;\">Bool</th><th title = \"Int64\" style = \"text-align: left;\">Int64</th><th title = \"Union{Missing, String15}\" style = \"text-align: left;\">String15?</th><th title = \"Bool\" style = \"text-align: left;\">Bool</th><th title = \"Bool\" style = \"text-align: left;\">Bool</th><th title = \"Bool\" style = \"text-align: left;\">Bool</th><th title = \"Bool\" style = \"text-align: left;\">Bool</th><th title = \"Union{Missing, CategoricalValue{String, UInt32}}\" style = \"text-align: left;\">Cat…?</th></tr></thead><tbody><tr><td class = \"rowNumber\" style = \"font-weight: bold; text-align: right;\">1</td><td style = \"text-align: right;\">true</td><td style = \"text-align: right;\">4</td><td style = \"text-align: left;\">pedestrian</td><td style = \"text-align: right;\">false</td><td style = \"text-align: right;\">false</td><td style = \"text-align: right;\">false</td><td style = \"text-align: right;\">false</td><td style = \"text-align: left;\">Thursday</td></tr><tr><td class = \"rowNumber\" style = \"font-weight: bold; text-align: right;\">2</td><td style = \"text-align: right;\">false</td><td style = \"text-align: right;\">7</td><td style = \"text-align: left;\">vehicular</td><td style = \"text-align: right;\">false</td><td style = \"text-align: right;\">true</td><td style = \"text-align: right;\">false</td><td style = \"text-align: right;\">false</td><td style = \"text-align: left;\">Sunday</td></tr><tr><td class = \"rowNumber\" style = \"font-weight: bold; text-align: right;\">3</td><td style = \"text-align: right;\">true</td><td style = \"text-align: right;\">7</td><td style = \"text-align: left;\">vehicular</td><td style = \"text-align: right;\">false</td><td style = \"text-align: right;\">false</td><td style = \"text-align: right;\">false</td><td style = \"text-align: right;\">false</td><td style = \"text-align: left;\">Sunday</td></tr><tr><td class = \"rowNumber\" style = \"font-weight: bold; text-align: right;\">4</td><td style = \"text-align: right;\">true</td><td style = \"text-align: right;\">2</td><td style = \"text-align: left;\">vehicular</td><td style = \"text-align: right;\">false</td><td style = \"text-align: right;\">false</td><td style = \"text-align: right;\">false</td><td style = \"text-align: right;\">false</td><td style = \"text-align: left;\">Tuesday</td></tr><tr><td class = \"rowNumber\" style = \"font-weight: bold; text-align: right;\">5</td><td style = \"text-align: right;\">false</td><td style = \"text-align: right;\">3</td><td style = \"text-align: left;\">vehicular</td><td style = \"text-align: right;\">false</td><td style = \"text-align: right;\">false</td><td style = \"text-align: right;\">false</td><td style = \"text-align: right;\">false</td><td style = \"text-align: left;\">Wednesday</td></tr><tr><td class = \"rowNumber\" style = \"font-weight: bold; text-align: right;\">6</td><td style = \"text-align: right;\">false</td><td style = \"text-align: right;\">4</td><td style = \"text-align: left;\">vehicular</td><td style = \"text-align: right;\">true</td><td style = \"text-align: right;\">false</td><td style = \"text-align: right;\">false</td><td style = \"text-align: right;\">false</td><td style = \"text-align: left;\">Thursday</td></tr><tr><td class = \"rowNumber\" style = \"font-weight: bold; text-align: right;\">7</td><td style = \"text-align: right;\">true</td><td style = \"text-align: right;\">7</td><td style = \"text-align: left;\">vehicular</td><td style = \"text-align: right;\">false</td><td style = \"text-align: right;\">false</td><td style = \"text-align: right;\">false</td><td style = \"text-align: right;\">false</td><td style = \"text-align: left;\">Sunday</td></tr><tr><td class = \"rowNumber\" style = \"font-weight: bold; text-align: right;\">8</td><td style = \"text-align: right;\">false</td><td style = \"text-align: right;\">2</td><td style = \"text-align: left;\">vehicular</td><td style = \"text-align: right;\">false</td><td style = \"text-align: right;\">false</td><td style = \"text-align: right;\">false</td><td style = \"text-align: right;\">false</td><td style = \"text-align: left;\">Tuesday</td></tr><tr><td class = \"rowNumber\" style = \"font-weight: bold; text-align: right;\">9</td><td style = \"text-align: right;\">true</td><td style = \"text-align: right;\">6</td><td style = \"text-align: left;\">vehicular</td><td style = \"text-align: right;\">true</td><td style = \"text-align: right;\">false</td><td style = \"text-align: right;\">false</td><td style = \"text-align: right;\">false</td><td style = \"text-align: left;\">Saturday</td></tr><tr><td class = \"rowNumber\" style = \"font-weight: bold; text-align: right;\">10</td><td style = \"text-align: right;\">true</td><td style = \"text-align: right;\">3</td><td style = \"text-align: left;\">vehicular</td><td style = \"text-align: right;\">false</td><td style = \"text-align: right;\">false</td><td style = \"text-align: right;\">false</td><td style = \"text-align: right;\">false</td><td style = \"text-align: left;\">Wednesday</td></tr><tr><td class = \"rowNumber\" style = \"font-weight: bold; text-align: right;\">11</td><td style = \"text-align: right;\">true</td><td style = \"text-align: right;\">3</td><td style = \"text-align: left;\">vehicular</td><td style = \"text-align: right;\">false</td><td style = \"text-align: right;\">false</td><td style = \"text-align: right;\">false</td><td style = \"text-align: right;\">false</td><td style = \"text-align: left;\">Wednesday</td></tr><tr><td class = \"rowNumber\" style = \"font-weight: bold; text-align: right;\">12</td><td style = \"text-align: right;\">false</td><td style = \"text-align: right;\">6</td><td style = \"text-align: left;\">vehicular</td><td style = \"text-align: right;\">false</td><td style = \"text-align: right;\">true</td><td style = \"text-align: right;\">true</td><td style = \"text-align: right;\">false</td><td style = \"text-align: left;\">Saturday</td></tr><tr><td class = \"rowNumber\" style = \"font-weight: bold; text-align: right;\">13</td><td style = \"text-align: right;\">true</td><td style = \"text-align: right;\">7</td><td style = \"text-align: left;\">vehicular</td><td style = \"text-align: right;\">false</td><td style = \"text-align: right;\">false</td><td style = \"text-align: right;\">false</td><td style = \"text-align: right;\">false</td><td style = \"text-align: left;\">Sunday</td></tr><tr><td style = \"text-align: right;\">&vellip;</td><td style = \"text-align: right;\">&vellip;</td><td style = \"text-align: right;\">&vellip;</td><td style = \"text-align: right;\">&vellip;</td><td style = \"text-align: right;\">&vellip;</td><td style = \"text-align: right;\">&vellip;</td><td style = \"text-align: right;\">&vellip;</td><td style = \"text-align: right;\">&vellip;</td><td style = \"text-align: right;\">&vellip;</td></tr><tr><td class = \"rowNumber\" style = \"font-weight: bold; text-align: right;\">6910</td><td style = \"text-align: right;\">false</td><td style = \"text-align: right;\">4</td><td style = \"text-align: left;\">vehicular</td><td style = \"text-align: right;\">false</td><td style = \"text-align: right;\">true</td><td style = \"text-align: right;\">true</td><td style = \"text-align: right;\">false</td><td style = \"text-align: left;\">Thursday</td></tr><tr><td class = \"rowNumber\" style = \"font-weight: bold; text-align: right;\">6911</td><td style = \"text-align: right;\">false</td><td style = \"text-align: right;\">5</td><td style = \"text-align: left;\">vehicular</td><td style = \"text-align: right;\">false</td><td style = \"text-align: right;\">false</td><td style = \"text-align: right;\">true</td><td style = \"text-align: right;\">false</td><td style = \"text-align: left;\">Friday</td></tr><tr><td class = \"rowNumber\" style = \"font-weight: bold; text-align: right;\">6912</td><td style = \"text-align: right;\">false</td><td style = \"text-align: right;\">6</td><td style = \"text-align: left;\">vehicular</td><td style = \"text-align: right;\">false</td><td style = \"text-align: right;\">true</td><td style = \"text-align: right;\">true</td><td style = \"text-align: right;\">false</td><td style = \"text-align: left;\">Saturday</td></tr><tr><td class = \"rowNumber\" style = \"font-weight: bold; text-align: right;\">6913</td><td style = \"text-align: right;\">false</td><td style = \"text-align: right;\">7</td><td style = \"text-align: left;\">vehicular</td><td style = \"text-align: right;\">false</td><td style = \"text-align: right;\">true</td><td style = \"text-align: right;\">true</td><td style = \"text-align: right;\">false</td><td style = \"text-align: left;\">Sunday</td></tr><tr><td class = \"rowNumber\" style = \"font-weight: bold; text-align: right;\">6914</td><td style = \"text-align: right;\">true</td><td style = \"text-align: right;\">7</td><td style = \"text-align: left;\">vehicular</td><td style = \"text-align: right;\">false</td><td style = \"text-align: right;\">false</td><td style = \"text-align: right;\">false</td><td style = \"text-align: right;\">false</td><td style = \"text-align: left;\">Sunday</td></tr><tr><td class = \"rowNumber\" style = \"font-weight: bold; text-align: right;\">6915</td><td style = \"text-align: right;\">false</td><td style = \"text-align: right;\">3</td><td style = \"text-align: left;\">vehicular</td><td style = \"text-align: right;\">false</td><td style = \"text-align: right;\">false</td><td style = \"text-align: right;\">false</td><td style = \"text-align: right;\">true</td><td style = \"text-align: left;\">Wednesday</td></tr><tr><td class = \"rowNumber\" style = \"font-weight: bold; text-align: right;\">6916</td><td style = \"text-align: right;\">false</td><td style = \"text-align: right;\">3</td><td style = \"text-align: left;\">vehicular</td><td style = \"text-align: right;\">false</td><td style = \"text-align: right;\">false</td><td style = \"text-align: right;\">false</td><td style = \"text-align: right;\">true</td><td style = \"text-align: left;\">Wednesday</td></tr><tr><td class = \"rowNumber\" style = \"font-weight: bold; text-align: right;\">6917</td><td style = \"text-align: right;\">false</td><td style = \"text-align: right;\">3</td><td style = \"text-align: left;\">vehicular</td><td style = \"text-align: right;\">true</td><td style = \"text-align: right;\">false</td><td style = \"text-align: right;\">false</td><td style = \"text-align: right;\">true</td><td style = \"text-align: left;\">Wednesday</td></tr><tr><td class = \"rowNumber\" style = \"font-weight: bold; text-align: right;\">6918</td><td style = \"text-align: right;\">false</td><td style = \"text-align: right;\">3</td><td style = \"text-align: left;\">vehicular</td><td style = \"text-align: right;\">false</td><td style = \"text-align: right;\">false</td><td style = \"text-align: right;\">false</td><td style = \"text-align: right;\">true</td><td style = \"text-align: left;\">Wednesday</td></tr><tr><td class = \"rowNumber\" style = \"font-weight: bold; text-align: right;\">6919</td><td style = \"text-align: right;\">false</td><td style = \"text-align: right;\">3</td><td style = \"text-align: left;\">vehicular</td><td style = \"text-align: right;\">true</td><td style = \"text-align: right;\">true</td><td style = \"text-align: right;\">false</td><td style = \"text-align: right;\">true</td><td style = \"text-align: left;\">Wednesday</td></tr><tr><td class = \"rowNumber\" style = \"font-weight: bold; text-align: right;\">6920</td><td style = \"text-align: right;\">false</td><td style = \"text-align: right;\">3</td><td style = \"text-align: left;\">vehicular</td><td style = \"text-align: right;\">false</td><td style = \"text-align: right;\">false</td><td style = \"text-align: right;\">false</td><td style = \"text-align: right;\">true</td><td style = \"text-align: left;\">Wednesday</td></tr><tr><td class = \"rowNumber\" style = \"font-weight: bold; text-align: right;\">6921</td><td style = \"text-align: right;\">false</td><td style = \"text-align: right;\">3</td><td style = \"text-align: left;\">vehicular</td><td style = \"text-align: right;\">false</td><td style = \"text-align: right;\">false</td><td style = \"text-align: right;\">false</td><td style = \"text-align: right;\">false</td><td style = \"text-align: left;\">Wednesday</td></tr></tbody></table></div>"
      ],
      "text/latex": [
       "\\begin{tabular}{r|cccccccc}\n",
       "\t& arrest & day & type & v1 & v2 & v3 & v4 & dayname\\\\\n",
       "\t\\hline\n",
       "\t& Bool & Int64 & String15? & Bool & Bool & Bool & Bool & Cat…?\\\\\n",
       "\t\\hline\n",
       "\t1 & 1 & 4 & pedestrian & 0 & 0 & 0 & 0 & Thursday \\\\\n",
       "\t2 & 0 & 7 & vehicular & 0 & 1 & 0 & 0 & Sunday \\\\\n",
       "\t3 & 1 & 7 & vehicular & 0 & 0 & 0 & 0 & Sunday \\\\\n",
       "\t4 & 1 & 2 & vehicular & 0 & 0 & 0 & 0 & Tuesday \\\\\n",
       "\t5 & 0 & 3 & vehicular & 0 & 0 & 0 & 0 & Wednesday \\\\\n",
       "\t6 & 0 & 4 & vehicular & 1 & 0 & 0 & 0 & Thursday \\\\\n",
       "\t7 & 1 & 7 & vehicular & 0 & 0 & 0 & 0 & Sunday \\\\\n",
       "\t8 & 0 & 2 & vehicular & 0 & 0 & 0 & 0 & Tuesday \\\\\n",
       "\t9 & 1 & 6 & vehicular & 1 & 0 & 0 & 0 & Saturday \\\\\n",
       "\t10 & 1 & 3 & vehicular & 0 & 0 & 0 & 0 & Wednesday \\\\\n",
       "\t11 & 1 & 3 & vehicular & 0 & 0 & 0 & 0 & Wednesday \\\\\n",
       "\t12 & 0 & 6 & vehicular & 0 & 1 & 1 & 0 & Saturday \\\\\n",
       "\t13 & 1 & 7 & vehicular & 0 & 0 & 0 & 0 & Sunday \\\\\n",
       "\t14 & 1 & 4 & vehicular & 0 & 0 & 0 & 0 & Thursday \\\\\n",
       "\t15 & 1 & 6 & vehicular & 0 & 0 & 0 & 0 & Saturday \\\\\n",
       "\t16 & 1 & 2 & pedestrian & 0 & 0 & 0 & 0 & Tuesday \\\\\n",
       "\t17 & 1 & 6 & pedestrian & 0 & 0 & 0 & 0 & Saturday \\\\\n",
       "\t18 & 1 & 7 & vehicular & 0 & 0 & 0 & 0 & Sunday \\\\\n",
       "\t19 & 1 & 1 & vehicular & 0 & 0 & 0 & 0 & Monday \\\\\n",
       "\t20 & 0 & 4 & vehicular & 0 & 1 & 0 & 0 & Thursday \\\\\n",
       "\t21 & 1 & 4 & vehicular & 1 & 0 & 0 & 0 & Thursday \\\\\n",
       "\t22 & 1 & 1 & pedestrian & 1 & 0 & 0 & 0 & Monday \\\\\n",
       "\t23 & 1 & 4 & pedestrian & 0 & 0 & 0 & 0 & Thursday \\\\\n",
       "\t24 & 1 & 2 & pedestrian & 0 & 0 & 0 & 0 & Tuesday \\\\\n",
       "\t25 & 1 & 5 & vehicular & 0 & 1 & 0 & 0 & Friday \\\\\n",
       "\t26 & 1 & 5 & vehicular & 0 & 0 & 0 & 0 & Friday \\\\\n",
       "\t27 & 0 & 3 & vehicular & 0 & 0 & 0 & 0 & Wednesday \\\\\n",
       "\t28 & 0 & 4 & vehicular & 0 & 1 & 0 & 0 & Thursday \\\\\n",
       "\t29 & 1 & 4 & vehicular & 0 & 0 & 0 & 1 & Thursday \\\\\n",
       "\t30 & 1 & 6 & vehicular & 0 & 0 & 0 & 0 & Saturday \\\\\n",
       "\t$\\dots$ & $\\dots$ & $\\dots$ & $\\dots$ & $\\dots$ & $\\dots$ & $\\dots$ & $\\dots$ & $\\dots$ \\\\\n",
       "\\end{tabular}\n"
      ],
      "text/plain": [
       "\u001b[1m6921×8 DataFrame\u001b[0m\n",
       "\u001b[1m  Row \u001b[0m│\u001b[1m arrest \u001b[0m\u001b[1m day   \u001b[0m\u001b[1m type       \u001b[0m\u001b[1m v1    \u001b[0m\u001b[1m v2    \u001b[0m\u001b[1m v3    \u001b[0m\u001b[1m v4    \u001b[0m\u001b[1m dayname   \u001b[0m\n",
       "      │\u001b[90m Bool   \u001b[0m\u001b[90m Int64 \u001b[0m\u001b[90m String15?  \u001b[0m\u001b[90m Bool  \u001b[0m\u001b[90m Bool  \u001b[0m\u001b[90m Bool  \u001b[0m\u001b[90m Bool  \u001b[0m\u001b[90m Cat…?     \u001b[0m\n",
       "──────┼──────────────────────────────────────────────────────────────────\n",
       "    1 │   true      4  pedestrian  false  false  false  false  Thursday\n",
       "    2 │  false      7  vehicular   false   true  false  false  Sunday\n",
       "    3 │   true      7  vehicular   false  false  false  false  Sunday\n",
       "    4 │   true      2  vehicular   false  false  false  false  Tuesday\n",
       "    5 │  false      3  vehicular   false  false  false  false  Wednesday\n",
       "    6 │  false      4  vehicular    true  false  false  false  Thursday\n",
       "    7 │   true      7  vehicular   false  false  false  false  Sunday\n",
       "    8 │  false      2  vehicular   false  false  false  false  Tuesday\n",
       "    9 │   true      6  vehicular    true  false  false  false  Saturday\n",
       "   10 │   true      3  vehicular   false  false  false  false  Wednesday\n",
       "   11 │   true      3  vehicular   false  false  false  false  Wednesday\n",
       "  ⋮   │   ⋮       ⋮        ⋮         ⋮      ⋮      ⋮      ⋮        ⋮\n",
       " 6912 │  false      6  vehicular   false   true   true  false  Saturday\n",
       " 6913 │  false      7  vehicular   false   true   true  false  Sunday\n",
       " 6914 │   true      7  vehicular   false  false  false  false  Sunday\n",
       " 6915 │  false      3  vehicular   false  false  false   true  Wednesday\n",
       " 6916 │  false      3  vehicular   false  false  false   true  Wednesday\n",
       " 6917 │  false      3  vehicular    true  false  false   true  Wednesday\n",
       " 6918 │  false      3  vehicular   false  false  false   true  Wednesday\n",
       " 6919 │  false      3  vehicular    true   true  false   true  Wednesday\n",
       " 6920 │  false      3  vehicular   false  false  false   true  Wednesday\n",
       " 6921 │  false      3  vehicular   false  false  false  false  Wednesday\n",
       "\u001b[36m                                                        6900 rows omitted\u001b[0m"
      ]
     },
     "execution_count": 47,
     "metadata": {},
     "output_type": "execute_result"
    }
   ],
   "source": [
    "leftjoin!(owensboro2, weekdays; on=:day)"
   ]
  },
  {
   "cell_type": "markdown",
   "id": "f79d7fe7",
   "metadata": {},
   "source": [
    "### Reshaping data frames"
   ]
  },
  {
   "cell_type": "code",
   "execution_count": 48,
   "id": "83c5c838",
   "metadata": {},
   "outputs": [
    {
     "data": {
      "text/html": [
       "<div><div style = \"float: left;\"><span>7×3 DataFrame</span></div><div style = \"clear: both;\"></div></div><div class = \"data-frame\" style = \"overflow-x: scroll;\"><table class = \"data-frame\" style = \"margin-bottom: 6px;\"><thead><tr class = \"header\"><th class = \"rowNumber\" style = \"font-weight: bold; text-align: right;\">Row</th><th style = \"text-align: left;\">day</th><th style = \"text-align: left;\">dayname</th><th style = \"text-align: left;\">nrow</th></tr><tr class = \"subheader headerLastRow\"><th class = \"rowNumber\" style = \"font-weight: bold; text-align: right;\"></th><th title = \"Int64\" style = \"text-align: left;\">Int64</th><th title = \"Union{Missing, CategoricalValue{String, UInt32}}\" style = \"text-align: left;\">Cat…?</th><th title = \"Int64\" style = \"text-align: left;\">Int64</th></tr></thead><tbody><tr><td class = \"rowNumber\" style = \"font-weight: bold; text-align: right;\">1</td><td style = \"text-align: right;\">1</td><td style = \"text-align: left;\">Monday</td><td style = \"text-align: right;\">913</td></tr><tr><td class = \"rowNumber\" style = \"font-weight: bold; text-align: right;\">2</td><td style = \"text-align: right;\">2</td><td style = \"text-align: left;\">Tuesday</td><td style = \"text-align: right;\">1040</td></tr><tr><td class = \"rowNumber\" style = \"font-weight: bold; text-align: right;\">3</td><td style = \"text-align: right;\">3</td><td style = \"text-align: left;\">Wednesday</td><td style = \"text-align: right;\">1197</td></tr><tr><td class = \"rowNumber\" style = \"font-weight: bold; text-align: right;\">4</td><td style = \"text-align: right;\">4</td><td style = \"text-align: left;\">Thursday</td><td style = \"text-align: right;\">1104</td></tr><tr><td class = \"rowNumber\" style = \"font-weight: bold; text-align: right;\">5</td><td style = \"text-align: right;\">5</td><td style = \"text-align: left;\">Friday</td><td style = \"text-align: right;\">1160</td></tr><tr><td class = \"rowNumber\" style = \"font-weight: bold; text-align: right;\">6</td><td style = \"text-align: right;\">6</td><td style = \"text-align: left;\">Saturday</td><td style = \"text-align: right;\">850</td></tr><tr><td class = \"rowNumber\" style = \"font-weight: bold; text-align: right;\">7</td><td style = \"text-align: right;\">7</td><td style = \"text-align: left;\">Sunday</td><td style = \"text-align: right;\">657</td></tr></tbody></table></div>"
      ],
      "text/latex": [
       "\\begin{tabular}{r|ccc}\n",
       "\t& day & dayname & nrow\\\\\n",
       "\t\\hline\n",
       "\t& Int64 & Cat…? & Int64\\\\\n",
       "\t\\hline\n",
       "\t1 & 1 & Monday & 913 \\\\\n",
       "\t2 & 2 & Tuesday & 1040 \\\\\n",
       "\t3 & 3 & Wednesday & 1197 \\\\\n",
       "\t4 & 4 & Thursday & 1104 \\\\\n",
       "\t5 & 5 & Friday & 1160 \\\\\n",
       "\t6 & 6 & Saturday & 850 \\\\\n",
       "\t7 & 7 & Sunday & 657 \\\\\n",
       "\\end{tabular}\n"
      ],
      "text/plain": [
       "\u001b[1m7×3 DataFrame\u001b[0m\n",
       "\u001b[1m Row \u001b[0m│\u001b[1m day   \u001b[0m\u001b[1m dayname   \u001b[0m\u001b[1m nrow  \u001b[0m\n",
       "     │\u001b[90m Int64 \u001b[0m\u001b[90m Cat…?     \u001b[0m\u001b[90m Int64 \u001b[0m\n",
       "─────┼─────────────────────────\n",
       "   1 │     1  Monday       913\n",
       "   2 │     2  Tuesday     1040\n",
       "   3 │     3  Wednesday   1197\n",
       "   4 │     4  Thursday    1104\n",
       "   5 │     5  Friday      1160\n",
       "   6 │     6  Saturday     850\n",
       "   7 │     7  Sunday       657"
      ]
     },
     "execution_count": 48,
     "metadata": {},
     "output_type": "execute_result"
    }
   ],
   "source": [
    "@chain owensboro2 begin\n",
    "    groupby([:day, :dayname]; sort=true)\n",
    "    combine(nrow)\n",
    "end"
   ]
  },
  {
   "cell_type": "code",
   "execution_count": 49,
   "id": "5d528dd4",
   "metadata": {},
   "outputs": [
    {
     "data": {
      "text/plain": [
       "7×7 Named Matrix{Int64}\n",
       "dayname ╲ day │    1     2     3     4     5     6     7\n",
       "──────────────┼─────────────────────────────────────────\n",
       "Monday        │  913     0     0     0     0     0     0\n",
       "Tuesday       │    0  1040     0     0     0     0     0\n",
       "Wednesday     │    0     0  1197     0     0     0     0\n",
       "Thursday      │    0     0     0  1104     0     0     0\n",
       "Friday        │    0     0     0     0  1160     0     0\n",
       "Saturday      │    0     0     0     0     0   850     0\n",
       "Sunday        │    0     0     0     0     0     0   657"
      ]
     },
     "execution_count": 49,
     "metadata": {},
     "output_type": "execute_result"
    }
   ],
   "source": [
    "freqtable(owensboro2, :dayname, :day)"
   ]
  },
  {
   "cell_type": "code",
   "execution_count": 50,
   "id": "d491ada6",
   "metadata": {},
   "outputs": [
    {
     "data": {
      "text/html": [
       "<div><div style = \"float: left;\"><span>7×8 DataFrame</span></div><div style = \"clear: both;\"></div></div><div class = \"data-frame\" style = \"overflow-x: scroll;\"><table class = \"data-frame\" style = \"margin-bottom: 6px;\"><thead><tr class = \"header\"><th class = \"rowNumber\" style = \"font-weight: bold; text-align: right;\">Row</th><th style = \"text-align: left;\">dayname</th><th style = \"text-align: left;\">1</th><th style = \"text-align: left;\">2</th><th style = \"text-align: left;\">3</th><th style = \"text-align: left;\">4</th><th style = \"text-align: left;\">5</th><th style = \"text-align: left;\">6</th><th style = \"text-align: left;\">7</th></tr><tr class = \"subheader headerLastRow\"><th class = \"rowNumber\" style = \"font-weight: bold; text-align: right;\"></th><th title = \"Union{Missing, CategoricalValue{String, UInt32}}\" style = \"text-align: left;\">Cat…?</th><th title = \"Int64\" style = \"text-align: left;\">Int64</th><th title = \"Int64\" style = \"text-align: left;\">Int64</th><th title = \"Int64\" style = \"text-align: left;\">Int64</th><th title = \"Int64\" style = \"text-align: left;\">Int64</th><th title = \"Int64\" style = \"text-align: left;\">Int64</th><th title = \"Int64\" style = \"text-align: left;\">Int64</th><th title = \"Int64\" style = \"text-align: left;\">Int64</th></tr></thead><tbody><tr><td class = \"rowNumber\" style = \"font-weight: bold; text-align: right;\">1</td><td style = \"text-align: left;\">Monday</td><td style = \"text-align: right;\">913</td><td style = \"text-align: right;\">0</td><td style = \"text-align: right;\">0</td><td style = \"text-align: right;\">0</td><td style = \"text-align: right;\">0</td><td style = \"text-align: right;\">0</td><td style = \"text-align: right;\">0</td></tr><tr><td class = \"rowNumber\" style = \"font-weight: bold; text-align: right;\">2</td><td style = \"text-align: left;\">Tuesday</td><td style = \"text-align: right;\">0</td><td style = \"text-align: right;\">1040</td><td style = \"text-align: right;\">0</td><td style = \"text-align: right;\">0</td><td style = \"text-align: right;\">0</td><td style = \"text-align: right;\">0</td><td style = \"text-align: right;\">0</td></tr><tr><td class = \"rowNumber\" style = \"font-weight: bold; text-align: right;\">3</td><td style = \"text-align: left;\">Wednesday</td><td style = \"text-align: right;\">0</td><td style = \"text-align: right;\">0</td><td style = \"text-align: right;\">1197</td><td style = \"text-align: right;\">0</td><td style = \"text-align: right;\">0</td><td style = \"text-align: right;\">0</td><td style = \"text-align: right;\">0</td></tr><tr><td class = \"rowNumber\" style = \"font-weight: bold; text-align: right;\">4</td><td style = \"text-align: left;\">Thursday</td><td style = \"text-align: right;\">0</td><td style = \"text-align: right;\">0</td><td style = \"text-align: right;\">0</td><td style = \"text-align: right;\">1104</td><td style = \"text-align: right;\">0</td><td style = \"text-align: right;\">0</td><td style = \"text-align: right;\">0</td></tr><tr><td class = \"rowNumber\" style = \"font-weight: bold; text-align: right;\">5</td><td style = \"text-align: left;\">Friday</td><td style = \"text-align: right;\">0</td><td style = \"text-align: right;\">0</td><td style = \"text-align: right;\">0</td><td style = \"text-align: right;\">0</td><td style = \"text-align: right;\">1160</td><td style = \"text-align: right;\">0</td><td style = \"text-align: right;\">0</td></tr><tr><td class = \"rowNumber\" style = \"font-weight: bold; text-align: right;\">6</td><td style = \"text-align: left;\">Saturday</td><td style = \"text-align: right;\">0</td><td style = \"text-align: right;\">0</td><td style = \"text-align: right;\">0</td><td style = \"text-align: right;\">0</td><td style = \"text-align: right;\">0</td><td style = \"text-align: right;\">850</td><td style = \"text-align: right;\">0</td></tr><tr><td class = \"rowNumber\" style = \"font-weight: bold; text-align: right;\">7</td><td style = \"text-align: left;\">Sunday</td><td style = \"text-align: right;\">0</td><td style = \"text-align: right;\">0</td><td style = \"text-align: right;\">0</td><td style = \"text-align: right;\">0</td><td style = \"text-align: right;\">0</td><td style = \"text-align: right;\">0</td><td style = \"text-align: right;\">657</td></tr></tbody></table></div>"
      ],
      "text/latex": [
       "\\begin{tabular}{r|cccccccc}\n",
       "\t& dayname & 1 & 2 & 3 & 4 & 5 & 6 & 7\\\\\n",
       "\t\\hline\n",
       "\t& Cat…? & Int64 & Int64 & Int64 & Int64 & Int64 & Int64 & Int64\\\\\n",
       "\t\\hline\n",
       "\t1 & Monday & 913 & 0 & 0 & 0 & 0 & 0 & 0 \\\\\n",
       "\t2 & Tuesday & 0 & 1040 & 0 & 0 & 0 & 0 & 0 \\\\\n",
       "\t3 & Wednesday & 0 & 0 & 1197 & 0 & 0 & 0 & 0 \\\\\n",
       "\t4 & Thursday & 0 & 0 & 0 & 1104 & 0 & 0 & 0 \\\\\n",
       "\t5 & Friday & 0 & 0 & 0 & 0 & 1160 & 0 & 0 \\\\\n",
       "\t6 & Saturday & 0 & 0 & 0 & 0 & 0 & 850 & 0 \\\\\n",
       "\t7 & Sunday & 0 & 0 & 0 & 0 & 0 & 0 & 657 \\\\\n",
       "\\end{tabular}\n"
      ],
      "text/plain": [
       "\u001b[1m7×8 DataFrame\u001b[0m\n",
       "\u001b[1m Row \u001b[0m│\u001b[1m dayname   \u001b[0m\u001b[1m 1     \u001b[0m\u001b[1m 2     \u001b[0m\u001b[1m 3     \u001b[0m\u001b[1m 4     \u001b[0m\u001b[1m 5     \u001b[0m\u001b[1m 6     \u001b[0m\u001b[1m 7     \u001b[0m\n",
       "     │\u001b[90m Cat…?     \u001b[0m\u001b[90m Int64 \u001b[0m\u001b[90m Int64 \u001b[0m\u001b[90m Int64 \u001b[0m\u001b[90m Int64 \u001b[0m\u001b[90m Int64 \u001b[0m\u001b[90m Int64 \u001b[0m\u001b[90m Int64 \u001b[0m\n",
       "─────┼────────────────────────────────────────────────────────────\n",
       "   1 │ Monday       913      0      0      0      0      0      0\n",
       "   2 │ Tuesday        0   1040      0      0      0      0      0\n",
       "   3 │ Wednesday      0      0   1197      0      0      0      0\n",
       "   4 │ Thursday       0      0      0   1104      0      0      0\n",
       "   5 │ Friday         0      0      0      0   1160      0      0\n",
       "   6 │ Saturday       0      0      0      0      0    850      0\n",
       "   7 │ Sunday         0      0      0      0      0      0    657"
      ]
     },
     "execution_count": 50,
     "metadata": {},
     "output_type": "execute_result"
    }
   ],
   "source": [
    "@chain owensboro2 begin\n",
    "    groupby([:day, :dayname]; sort=true)\n",
    "    combine(nrow)\n",
    "    unstack(:dayname, :day, :nrow; fill=0)\n",
    "end"
   ]
  },
  {
   "cell_type": "markdown",
   "id": "5a02ed97",
   "metadata": {},
   "source": [
    "### Dropping rows of a data frame that hold missing values"
   ]
  },
  {
   "cell_type": "code",
   "execution_count": 51,
   "id": "d4873776",
   "metadata": {
    "scrolled": true
   },
   "outputs": [
    {
     "data": {
      "text/html": [
       "<div><div style = \"float: left;\"><span>6879×8 DataFrame</span></div><div style = \"float: right;\"><span style = \"font-style: italic;\">6854 rows omitted</span></div><div style = \"clear: both;\"></div></div><div class = \"data-frame\" style = \"overflow-x: scroll;\"><table class = \"data-frame\" style = \"margin-bottom: 6px;\"><thead><tr class = \"header\"><th class = \"rowNumber\" style = \"font-weight: bold; text-align: right;\">Row</th><th style = \"text-align: left;\">arrest</th><th style = \"text-align: left;\">day</th><th style = \"text-align: left;\">type</th><th style = \"text-align: left;\">v1</th><th style = \"text-align: left;\">v2</th><th style = \"text-align: left;\">v3</th><th style = \"text-align: left;\">v4</th><th style = \"text-align: left;\">dayname</th></tr><tr class = \"subheader headerLastRow\"><th class = \"rowNumber\" style = \"font-weight: bold; text-align: right;\"></th><th title = \"Bool\" style = \"text-align: left;\">Bool</th><th title = \"Int64\" style = \"text-align: left;\">Int64</th><th title = \"String15\" style = \"text-align: left;\">String15</th><th title = \"Bool\" style = \"text-align: left;\">Bool</th><th title = \"Bool\" style = \"text-align: left;\">Bool</th><th title = \"Bool\" style = \"text-align: left;\">Bool</th><th title = \"Bool\" style = \"text-align: left;\">Bool</th><th title = \"CategoricalValue{String, UInt32}\" style = \"text-align: left;\">Cat…</th></tr></thead><tbody><tr><td class = \"rowNumber\" style = \"font-weight: bold; text-align: right;\">1</td><td style = \"text-align: right;\">true</td><td style = \"text-align: right;\">4</td><td style = \"text-align: left;\">pedestrian</td><td style = \"text-align: right;\">false</td><td style = \"text-align: right;\">false</td><td style = \"text-align: right;\">false</td><td style = \"text-align: right;\">false</td><td style = \"text-align: left;\">Thursday</td></tr><tr><td class = \"rowNumber\" style = \"font-weight: bold; text-align: right;\">2</td><td style = \"text-align: right;\">false</td><td style = \"text-align: right;\">7</td><td style = \"text-align: left;\">vehicular</td><td style = \"text-align: right;\">false</td><td style = \"text-align: right;\">true</td><td style = \"text-align: right;\">false</td><td style = \"text-align: right;\">false</td><td style = \"text-align: left;\">Sunday</td></tr><tr><td class = \"rowNumber\" style = \"font-weight: bold; text-align: right;\">3</td><td style = \"text-align: right;\">true</td><td style = \"text-align: right;\">7</td><td style = \"text-align: left;\">vehicular</td><td style = \"text-align: right;\">false</td><td style = \"text-align: right;\">false</td><td style = \"text-align: right;\">false</td><td style = \"text-align: right;\">false</td><td style = \"text-align: left;\">Sunday</td></tr><tr><td class = \"rowNumber\" style = \"font-weight: bold; text-align: right;\">4</td><td style = \"text-align: right;\">true</td><td style = \"text-align: right;\">2</td><td style = \"text-align: left;\">vehicular</td><td style = \"text-align: right;\">false</td><td style = \"text-align: right;\">false</td><td style = \"text-align: right;\">false</td><td style = \"text-align: right;\">false</td><td style = \"text-align: left;\">Tuesday</td></tr><tr><td class = \"rowNumber\" style = \"font-weight: bold; text-align: right;\">5</td><td style = \"text-align: right;\">false</td><td style = \"text-align: right;\">3</td><td style = \"text-align: left;\">vehicular</td><td style = \"text-align: right;\">false</td><td style = \"text-align: right;\">false</td><td style = \"text-align: right;\">false</td><td style = \"text-align: right;\">false</td><td style = \"text-align: left;\">Wednesday</td></tr><tr><td class = \"rowNumber\" style = \"font-weight: bold; text-align: right;\">6</td><td style = \"text-align: right;\">false</td><td style = \"text-align: right;\">4</td><td style = \"text-align: left;\">vehicular</td><td style = \"text-align: right;\">true</td><td style = \"text-align: right;\">false</td><td style = \"text-align: right;\">false</td><td style = \"text-align: right;\">false</td><td style = \"text-align: left;\">Thursday</td></tr><tr><td class = \"rowNumber\" style = \"font-weight: bold; text-align: right;\">7</td><td style = \"text-align: right;\">true</td><td style = \"text-align: right;\">7</td><td style = \"text-align: left;\">vehicular</td><td style = \"text-align: right;\">false</td><td style = \"text-align: right;\">false</td><td style = \"text-align: right;\">false</td><td style = \"text-align: right;\">false</td><td style = \"text-align: left;\">Sunday</td></tr><tr><td class = \"rowNumber\" style = \"font-weight: bold; text-align: right;\">8</td><td style = \"text-align: right;\">false</td><td style = \"text-align: right;\">2</td><td style = \"text-align: left;\">vehicular</td><td style = \"text-align: right;\">false</td><td style = \"text-align: right;\">false</td><td style = \"text-align: right;\">false</td><td style = \"text-align: right;\">false</td><td style = \"text-align: left;\">Tuesday</td></tr><tr><td class = \"rowNumber\" style = \"font-weight: bold; text-align: right;\">9</td><td style = \"text-align: right;\">true</td><td style = \"text-align: right;\">6</td><td style = \"text-align: left;\">vehicular</td><td style = \"text-align: right;\">true</td><td style = \"text-align: right;\">false</td><td style = \"text-align: right;\">false</td><td style = \"text-align: right;\">false</td><td style = \"text-align: left;\">Saturday</td></tr><tr><td class = \"rowNumber\" style = \"font-weight: bold; text-align: right;\">10</td><td style = \"text-align: right;\">true</td><td style = \"text-align: right;\">3</td><td style = \"text-align: left;\">vehicular</td><td style = \"text-align: right;\">false</td><td style = \"text-align: right;\">false</td><td style = \"text-align: right;\">false</td><td style = \"text-align: right;\">false</td><td style = \"text-align: left;\">Wednesday</td></tr><tr><td class = \"rowNumber\" style = \"font-weight: bold; text-align: right;\">11</td><td style = \"text-align: right;\">true</td><td style = \"text-align: right;\">3</td><td style = \"text-align: left;\">vehicular</td><td style = \"text-align: right;\">false</td><td style = \"text-align: right;\">false</td><td style = \"text-align: right;\">false</td><td style = \"text-align: right;\">false</td><td style = \"text-align: left;\">Wednesday</td></tr><tr><td class = \"rowNumber\" style = \"font-weight: bold; text-align: right;\">12</td><td style = \"text-align: right;\">false</td><td style = \"text-align: right;\">6</td><td style = \"text-align: left;\">vehicular</td><td style = \"text-align: right;\">false</td><td style = \"text-align: right;\">true</td><td style = \"text-align: right;\">true</td><td style = \"text-align: right;\">false</td><td style = \"text-align: left;\">Saturday</td></tr><tr><td class = \"rowNumber\" style = \"font-weight: bold; text-align: right;\">13</td><td style = \"text-align: right;\">true</td><td style = \"text-align: right;\">7</td><td style = \"text-align: left;\">vehicular</td><td style = \"text-align: right;\">false</td><td style = \"text-align: right;\">false</td><td style = \"text-align: right;\">false</td><td style = \"text-align: right;\">false</td><td style = \"text-align: left;\">Sunday</td></tr><tr><td style = \"text-align: right;\">&vellip;</td><td style = \"text-align: right;\">&vellip;</td><td style = \"text-align: right;\">&vellip;</td><td style = \"text-align: right;\">&vellip;</td><td style = \"text-align: right;\">&vellip;</td><td style = \"text-align: right;\">&vellip;</td><td style = \"text-align: right;\">&vellip;</td><td style = \"text-align: right;\">&vellip;</td><td style = \"text-align: right;\">&vellip;</td></tr><tr><td class = \"rowNumber\" style = \"font-weight: bold; text-align: right;\">6868</td><td style = \"text-align: right;\">false</td><td style = \"text-align: right;\">4</td><td style = \"text-align: left;\">vehicular</td><td style = \"text-align: right;\">false</td><td style = \"text-align: right;\">true</td><td style = \"text-align: right;\">true</td><td style = \"text-align: right;\">false</td><td style = \"text-align: left;\">Thursday</td></tr><tr><td class = \"rowNumber\" style = \"font-weight: bold; text-align: right;\">6869</td><td style = \"text-align: right;\">false</td><td style = \"text-align: right;\">5</td><td style = \"text-align: left;\">vehicular</td><td style = \"text-align: right;\">false</td><td style = \"text-align: right;\">false</td><td style = \"text-align: right;\">true</td><td style = \"text-align: right;\">false</td><td style = \"text-align: left;\">Friday</td></tr><tr><td class = \"rowNumber\" style = \"font-weight: bold; text-align: right;\">6870</td><td style = \"text-align: right;\">false</td><td style = \"text-align: right;\">6</td><td style = \"text-align: left;\">vehicular</td><td style = \"text-align: right;\">false</td><td style = \"text-align: right;\">true</td><td style = \"text-align: right;\">true</td><td style = \"text-align: right;\">false</td><td style = \"text-align: left;\">Saturday</td></tr><tr><td class = \"rowNumber\" style = \"font-weight: bold; text-align: right;\">6871</td><td style = \"text-align: right;\">false</td><td style = \"text-align: right;\">7</td><td style = \"text-align: left;\">vehicular</td><td style = \"text-align: right;\">false</td><td style = \"text-align: right;\">true</td><td style = \"text-align: right;\">true</td><td style = \"text-align: right;\">false</td><td style = \"text-align: left;\">Sunday</td></tr><tr><td class = \"rowNumber\" style = \"font-weight: bold; text-align: right;\">6872</td><td style = \"text-align: right;\">true</td><td style = \"text-align: right;\">7</td><td style = \"text-align: left;\">vehicular</td><td style = \"text-align: right;\">false</td><td style = \"text-align: right;\">false</td><td style = \"text-align: right;\">false</td><td style = \"text-align: right;\">false</td><td style = \"text-align: left;\">Sunday</td></tr><tr><td class = \"rowNumber\" style = \"font-weight: bold; text-align: right;\">6873</td><td style = \"text-align: right;\">false</td><td style = \"text-align: right;\">3</td><td style = \"text-align: left;\">vehicular</td><td style = \"text-align: right;\">false</td><td style = \"text-align: right;\">false</td><td style = \"text-align: right;\">false</td><td style = \"text-align: right;\">true</td><td style = \"text-align: left;\">Wednesday</td></tr><tr><td class = \"rowNumber\" style = \"font-weight: bold; text-align: right;\">6874</td><td style = \"text-align: right;\">false</td><td style = \"text-align: right;\">3</td><td style = \"text-align: left;\">vehicular</td><td style = \"text-align: right;\">false</td><td style = \"text-align: right;\">false</td><td style = \"text-align: right;\">false</td><td style = \"text-align: right;\">true</td><td style = \"text-align: left;\">Wednesday</td></tr><tr><td class = \"rowNumber\" style = \"font-weight: bold; text-align: right;\">6875</td><td style = \"text-align: right;\">false</td><td style = \"text-align: right;\">3</td><td style = \"text-align: left;\">vehicular</td><td style = \"text-align: right;\">true</td><td style = \"text-align: right;\">false</td><td style = \"text-align: right;\">false</td><td style = \"text-align: right;\">true</td><td style = \"text-align: left;\">Wednesday</td></tr><tr><td class = \"rowNumber\" style = \"font-weight: bold; text-align: right;\">6876</td><td style = \"text-align: right;\">false</td><td style = \"text-align: right;\">3</td><td style = \"text-align: left;\">vehicular</td><td style = \"text-align: right;\">false</td><td style = \"text-align: right;\">false</td><td style = \"text-align: right;\">false</td><td style = \"text-align: right;\">true</td><td style = \"text-align: left;\">Wednesday</td></tr><tr><td class = \"rowNumber\" style = \"font-weight: bold; text-align: right;\">6877</td><td style = \"text-align: right;\">false</td><td style = \"text-align: right;\">3</td><td style = \"text-align: left;\">vehicular</td><td style = \"text-align: right;\">true</td><td style = \"text-align: right;\">true</td><td style = \"text-align: right;\">false</td><td style = \"text-align: right;\">true</td><td style = \"text-align: left;\">Wednesday</td></tr><tr><td class = \"rowNumber\" style = \"font-weight: bold; text-align: right;\">6878</td><td style = \"text-align: right;\">false</td><td style = \"text-align: right;\">3</td><td style = \"text-align: left;\">vehicular</td><td style = \"text-align: right;\">false</td><td style = \"text-align: right;\">false</td><td style = \"text-align: right;\">false</td><td style = \"text-align: right;\">true</td><td style = \"text-align: left;\">Wednesday</td></tr><tr><td class = \"rowNumber\" style = \"font-weight: bold; text-align: right;\">6879</td><td style = \"text-align: right;\">false</td><td style = \"text-align: right;\">3</td><td style = \"text-align: left;\">vehicular</td><td style = \"text-align: right;\">false</td><td style = \"text-align: right;\">false</td><td style = \"text-align: right;\">false</td><td style = \"text-align: right;\">false</td><td style = \"text-align: left;\">Wednesday</td></tr></tbody></table></div>"
      ],
      "text/latex": [
       "\\begin{tabular}{r|cccccccc}\n",
       "\t& arrest & day & type & v1 & v2 & v3 & v4 & dayname\\\\\n",
       "\t\\hline\n",
       "\t& Bool & Int64 & String15 & Bool & Bool & Bool & Bool & Cat…\\\\\n",
       "\t\\hline\n",
       "\t1 & 1 & 4 & pedestrian & 0 & 0 & 0 & 0 & Thursday \\\\\n",
       "\t2 & 0 & 7 & vehicular & 0 & 1 & 0 & 0 & Sunday \\\\\n",
       "\t3 & 1 & 7 & vehicular & 0 & 0 & 0 & 0 & Sunday \\\\\n",
       "\t4 & 1 & 2 & vehicular & 0 & 0 & 0 & 0 & Tuesday \\\\\n",
       "\t5 & 0 & 3 & vehicular & 0 & 0 & 0 & 0 & Wednesday \\\\\n",
       "\t6 & 0 & 4 & vehicular & 1 & 0 & 0 & 0 & Thursday \\\\\n",
       "\t7 & 1 & 7 & vehicular & 0 & 0 & 0 & 0 & Sunday \\\\\n",
       "\t8 & 0 & 2 & vehicular & 0 & 0 & 0 & 0 & Tuesday \\\\\n",
       "\t9 & 1 & 6 & vehicular & 1 & 0 & 0 & 0 & Saturday \\\\\n",
       "\t10 & 1 & 3 & vehicular & 0 & 0 & 0 & 0 & Wednesday \\\\\n",
       "\t11 & 1 & 3 & vehicular & 0 & 0 & 0 & 0 & Wednesday \\\\\n",
       "\t12 & 0 & 6 & vehicular & 0 & 1 & 1 & 0 & Saturday \\\\\n",
       "\t13 & 1 & 7 & vehicular & 0 & 0 & 0 & 0 & Sunday \\\\\n",
       "\t14 & 1 & 4 & vehicular & 0 & 0 & 0 & 0 & Thursday \\\\\n",
       "\t15 & 1 & 6 & vehicular & 0 & 0 & 0 & 0 & Saturday \\\\\n",
       "\t16 & 1 & 2 & pedestrian & 0 & 0 & 0 & 0 & Tuesday \\\\\n",
       "\t17 & 1 & 6 & pedestrian & 0 & 0 & 0 & 0 & Saturday \\\\\n",
       "\t18 & 1 & 7 & vehicular & 0 & 0 & 0 & 0 & Sunday \\\\\n",
       "\t19 & 1 & 1 & vehicular & 0 & 0 & 0 & 0 & Monday \\\\\n",
       "\t20 & 0 & 4 & vehicular & 0 & 1 & 0 & 0 & Thursday \\\\\n",
       "\t21 & 1 & 4 & vehicular & 1 & 0 & 0 & 0 & Thursday \\\\\n",
       "\t22 & 1 & 1 & pedestrian & 1 & 0 & 0 & 0 & Monday \\\\\n",
       "\t23 & 1 & 4 & pedestrian & 0 & 0 & 0 & 0 & Thursday \\\\\n",
       "\t24 & 1 & 2 & pedestrian & 0 & 0 & 0 & 0 & Tuesday \\\\\n",
       "\t25 & 1 & 5 & vehicular & 0 & 1 & 0 & 0 & Friday \\\\\n",
       "\t26 & 1 & 5 & vehicular & 0 & 0 & 0 & 0 & Friday \\\\\n",
       "\t27 & 0 & 3 & vehicular & 0 & 0 & 0 & 0 & Wednesday \\\\\n",
       "\t28 & 0 & 4 & vehicular & 0 & 1 & 0 & 0 & Thursday \\\\\n",
       "\t29 & 1 & 4 & vehicular & 0 & 0 & 0 & 1 & Thursday \\\\\n",
       "\t30 & 1 & 6 & vehicular & 0 & 0 & 0 & 0 & Saturday \\\\\n",
       "\t$\\dots$ & $\\dots$ & $\\dots$ & $\\dots$ & $\\dots$ & $\\dots$ & $\\dots$ & $\\dots$ & $\\dots$ \\\\\n",
       "\\end{tabular}\n"
      ],
      "text/plain": [
       "\u001b[1m6879×8 DataFrame\u001b[0m\n",
       "\u001b[1m  Row \u001b[0m│\u001b[1m arrest \u001b[0m\u001b[1m day   \u001b[0m\u001b[1m type       \u001b[0m\u001b[1m v1    \u001b[0m\u001b[1m v2    \u001b[0m\u001b[1m v3    \u001b[0m\u001b[1m v4    \u001b[0m\u001b[1m dayname   \u001b[0m\n",
       "      │\u001b[90m Bool   \u001b[0m\u001b[90m Int64 \u001b[0m\u001b[90m String15   \u001b[0m\u001b[90m Bool  \u001b[0m\u001b[90m Bool  \u001b[0m\u001b[90m Bool  \u001b[0m\u001b[90m Bool  \u001b[0m\u001b[90m Cat…      \u001b[0m\n",
       "──────┼──────────────────────────────────────────────────────────────────\n",
       "    1 │   true      4  pedestrian  false  false  false  false  Thursday\n",
       "    2 │  false      7  vehicular   false   true  false  false  Sunday\n",
       "    3 │   true      7  vehicular   false  false  false  false  Sunday\n",
       "    4 │   true      2  vehicular   false  false  false  false  Tuesday\n",
       "    5 │  false      3  vehicular   false  false  false  false  Wednesday\n",
       "    6 │  false      4  vehicular    true  false  false  false  Thursday\n",
       "    7 │   true      7  vehicular   false  false  false  false  Sunday\n",
       "    8 │  false      2  vehicular   false  false  false  false  Tuesday\n",
       "    9 │   true      6  vehicular    true  false  false  false  Saturday\n",
       "   10 │   true      3  vehicular   false  false  false  false  Wednesday\n",
       "   11 │   true      3  vehicular   false  false  false  false  Wednesday\n",
       "  ⋮   │   ⋮       ⋮        ⋮         ⋮      ⋮      ⋮      ⋮        ⋮\n",
       " 6870 │  false      6  vehicular   false   true   true  false  Saturday\n",
       " 6871 │  false      7  vehicular   false   true   true  false  Sunday\n",
       " 6872 │   true      7  vehicular   false  false  false  false  Sunday\n",
       " 6873 │  false      3  vehicular   false  false  false   true  Wednesday\n",
       " 6874 │  false      3  vehicular   false  false  false   true  Wednesday\n",
       " 6875 │  false      3  vehicular    true  false  false   true  Wednesday\n",
       " 6876 │  false      3  vehicular   false  false  false   true  Wednesday\n",
       " 6877 │  false      3  vehicular    true   true  false   true  Wednesday\n",
       " 6878 │  false      3  vehicular   false  false  false   true  Wednesday\n",
       " 6879 │  false      3  vehicular   false  false  false  false  Wednesday\n",
       "\u001b[36m                                                        6858 rows omitted\u001b[0m"
      ]
     },
     "execution_count": 51,
     "metadata": {},
     "output_type": "execute_result"
    }
   ],
   "source": [
    "dropmissing!(owensboro2)"
   ]
  },
  {
   "cell_type": "markdown",
   "id": "5a25b20d",
   "metadata": {},
   "source": [
    "### Dropping a column from a data frame"
   ]
  },
  {
   "cell_type": "code",
   "execution_count": 52,
   "id": "1840b542",
   "metadata": {
    "scrolled": true
   },
   "outputs": [
    {
     "data": {
      "text/html": [
       "<div><div style = \"float: left;\"><span>6879×7 DataFrame</span></div><div style = \"float: right;\"><span style = \"font-style: italic;\">6854 rows omitted</span></div><div style = \"clear: both;\"></div></div><div class = \"data-frame\" style = \"overflow-x: scroll;\"><table class = \"data-frame\" style = \"margin-bottom: 6px;\"><thead><tr class = \"header\"><th class = \"rowNumber\" style = \"font-weight: bold; text-align: right;\">Row</th><th style = \"text-align: left;\">arrest</th><th style = \"text-align: left;\">type</th><th style = \"text-align: left;\">v1</th><th style = \"text-align: left;\">v2</th><th style = \"text-align: left;\">v3</th><th style = \"text-align: left;\">v4</th><th style = \"text-align: left;\">dayname</th></tr><tr class = \"subheader headerLastRow\"><th class = \"rowNumber\" style = \"font-weight: bold; text-align: right;\"></th><th title = \"Bool\" style = \"text-align: left;\">Bool</th><th title = \"String15\" style = \"text-align: left;\">String15</th><th title = \"Bool\" style = \"text-align: left;\">Bool</th><th title = \"Bool\" style = \"text-align: left;\">Bool</th><th title = \"Bool\" style = \"text-align: left;\">Bool</th><th title = \"Bool\" style = \"text-align: left;\">Bool</th><th title = \"CategoricalValue{String, UInt32}\" style = \"text-align: left;\">Cat…</th></tr></thead><tbody><tr><td class = \"rowNumber\" style = \"font-weight: bold; text-align: right;\">1</td><td style = \"text-align: right;\">true</td><td style = \"text-align: left;\">pedestrian</td><td style = \"text-align: right;\">false</td><td style = \"text-align: right;\">false</td><td style = \"text-align: right;\">false</td><td style = \"text-align: right;\">false</td><td style = \"text-align: left;\">Thursday</td></tr><tr><td class = \"rowNumber\" style = \"font-weight: bold; text-align: right;\">2</td><td style = \"text-align: right;\">false</td><td style = \"text-align: left;\">vehicular</td><td style = \"text-align: right;\">false</td><td style = \"text-align: right;\">true</td><td style = \"text-align: right;\">false</td><td style = \"text-align: right;\">false</td><td style = \"text-align: left;\">Sunday</td></tr><tr><td class = \"rowNumber\" style = \"font-weight: bold; text-align: right;\">3</td><td style = \"text-align: right;\">true</td><td style = \"text-align: left;\">vehicular</td><td style = \"text-align: right;\">false</td><td style = \"text-align: right;\">false</td><td style = \"text-align: right;\">false</td><td style = \"text-align: right;\">false</td><td style = \"text-align: left;\">Sunday</td></tr><tr><td class = \"rowNumber\" style = \"font-weight: bold; text-align: right;\">4</td><td style = \"text-align: right;\">true</td><td style = \"text-align: left;\">vehicular</td><td style = \"text-align: right;\">false</td><td style = \"text-align: right;\">false</td><td style = \"text-align: right;\">false</td><td style = \"text-align: right;\">false</td><td style = \"text-align: left;\">Tuesday</td></tr><tr><td class = \"rowNumber\" style = \"font-weight: bold; text-align: right;\">5</td><td style = \"text-align: right;\">false</td><td style = \"text-align: left;\">vehicular</td><td style = \"text-align: right;\">false</td><td style = \"text-align: right;\">false</td><td style = \"text-align: right;\">false</td><td style = \"text-align: right;\">false</td><td style = \"text-align: left;\">Wednesday</td></tr><tr><td class = \"rowNumber\" style = \"font-weight: bold; text-align: right;\">6</td><td style = \"text-align: right;\">false</td><td style = \"text-align: left;\">vehicular</td><td style = \"text-align: right;\">true</td><td style = \"text-align: right;\">false</td><td style = \"text-align: right;\">false</td><td style = \"text-align: right;\">false</td><td style = \"text-align: left;\">Thursday</td></tr><tr><td class = \"rowNumber\" style = \"font-weight: bold; text-align: right;\">7</td><td style = \"text-align: right;\">true</td><td style = \"text-align: left;\">vehicular</td><td style = \"text-align: right;\">false</td><td style = \"text-align: right;\">false</td><td style = \"text-align: right;\">false</td><td style = \"text-align: right;\">false</td><td style = \"text-align: left;\">Sunday</td></tr><tr><td class = \"rowNumber\" style = \"font-weight: bold; text-align: right;\">8</td><td style = \"text-align: right;\">false</td><td style = \"text-align: left;\">vehicular</td><td style = \"text-align: right;\">false</td><td style = \"text-align: right;\">false</td><td style = \"text-align: right;\">false</td><td style = \"text-align: right;\">false</td><td style = \"text-align: left;\">Tuesday</td></tr><tr><td class = \"rowNumber\" style = \"font-weight: bold; text-align: right;\">9</td><td style = \"text-align: right;\">true</td><td style = \"text-align: left;\">vehicular</td><td style = \"text-align: right;\">true</td><td style = \"text-align: right;\">false</td><td style = \"text-align: right;\">false</td><td style = \"text-align: right;\">false</td><td style = \"text-align: left;\">Saturday</td></tr><tr><td class = \"rowNumber\" style = \"font-weight: bold; text-align: right;\">10</td><td style = \"text-align: right;\">true</td><td style = \"text-align: left;\">vehicular</td><td style = \"text-align: right;\">false</td><td style = \"text-align: right;\">false</td><td style = \"text-align: right;\">false</td><td style = \"text-align: right;\">false</td><td style = \"text-align: left;\">Wednesday</td></tr><tr><td class = \"rowNumber\" style = \"font-weight: bold; text-align: right;\">11</td><td style = \"text-align: right;\">true</td><td style = \"text-align: left;\">vehicular</td><td style = \"text-align: right;\">false</td><td style = \"text-align: right;\">false</td><td style = \"text-align: right;\">false</td><td style = \"text-align: right;\">false</td><td style = \"text-align: left;\">Wednesday</td></tr><tr><td class = \"rowNumber\" style = \"font-weight: bold; text-align: right;\">12</td><td style = \"text-align: right;\">false</td><td style = \"text-align: left;\">vehicular</td><td style = \"text-align: right;\">false</td><td style = \"text-align: right;\">true</td><td style = \"text-align: right;\">true</td><td style = \"text-align: right;\">false</td><td style = \"text-align: left;\">Saturday</td></tr><tr><td class = \"rowNumber\" style = \"font-weight: bold; text-align: right;\">13</td><td style = \"text-align: right;\">true</td><td style = \"text-align: left;\">vehicular</td><td style = \"text-align: right;\">false</td><td style = \"text-align: right;\">false</td><td style = \"text-align: right;\">false</td><td style = \"text-align: right;\">false</td><td style = \"text-align: left;\">Sunday</td></tr><tr><td style = \"text-align: right;\">&vellip;</td><td style = \"text-align: right;\">&vellip;</td><td style = \"text-align: right;\">&vellip;</td><td style = \"text-align: right;\">&vellip;</td><td style = \"text-align: right;\">&vellip;</td><td style = \"text-align: right;\">&vellip;</td><td style = \"text-align: right;\">&vellip;</td><td style = \"text-align: right;\">&vellip;</td></tr><tr><td class = \"rowNumber\" style = \"font-weight: bold; text-align: right;\">6868</td><td style = \"text-align: right;\">false</td><td style = \"text-align: left;\">vehicular</td><td style = \"text-align: right;\">false</td><td style = \"text-align: right;\">true</td><td style = \"text-align: right;\">true</td><td style = \"text-align: right;\">false</td><td style = \"text-align: left;\">Thursday</td></tr><tr><td class = \"rowNumber\" style = \"font-weight: bold; text-align: right;\">6869</td><td style = \"text-align: right;\">false</td><td style = \"text-align: left;\">vehicular</td><td style = \"text-align: right;\">false</td><td style = \"text-align: right;\">false</td><td style = \"text-align: right;\">true</td><td style = \"text-align: right;\">false</td><td style = \"text-align: left;\">Friday</td></tr><tr><td class = \"rowNumber\" style = \"font-weight: bold; text-align: right;\">6870</td><td style = \"text-align: right;\">false</td><td style = \"text-align: left;\">vehicular</td><td style = \"text-align: right;\">false</td><td style = \"text-align: right;\">true</td><td style = \"text-align: right;\">true</td><td style = \"text-align: right;\">false</td><td style = \"text-align: left;\">Saturday</td></tr><tr><td class = \"rowNumber\" style = \"font-weight: bold; text-align: right;\">6871</td><td style = \"text-align: right;\">false</td><td style = \"text-align: left;\">vehicular</td><td style = \"text-align: right;\">false</td><td style = \"text-align: right;\">true</td><td style = \"text-align: right;\">true</td><td style = \"text-align: right;\">false</td><td style = \"text-align: left;\">Sunday</td></tr><tr><td class = \"rowNumber\" style = \"font-weight: bold; text-align: right;\">6872</td><td style = \"text-align: right;\">true</td><td style = \"text-align: left;\">vehicular</td><td style = \"text-align: right;\">false</td><td style = \"text-align: right;\">false</td><td style = \"text-align: right;\">false</td><td style = \"text-align: right;\">false</td><td style = \"text-align: left;\">Sunday</td></tr><tr><td class = \"rowNumber\" style = \"font-weight: bold; text-align: right;\">6873</td><td style = \"text-align: right;\">false</td><td style = \"text-align: left;\">vehicular</td><td style = \"text-align: right;\">false</td><td style = \"text-align: right;\">false</td><td style = \"text-align: right;\">false</td><td style = \"text-align: right;\">true</td><td style = \"text-align: left;\">Wednesday</td></tr><tr><td class = \"rowNumber\" style = \"font-weight: bold; text-align: right;\">6874</td><td style = \"text-align: right;\">false</td><td style = \"text-align: left;\">vehicular</td><td style = \"text-align: right;\">false</td><td style = \"text-align: right;\">false</td><td style = \"text-align: right;\">false</td><td style = \"text-align: right;\">true</td><td style = \"text-align: left;\">Wednesday</td></tr><tr><td class = \"rowNumber\" style = \"font-weight: bold; text-align: right;\">6875</td><td style = \"text-align: right;\">false</td><td style = \"text-align: left;\">vehicular</td><td style = \"text-align: right;\">true</td><td style = \"text-align: right;\">false</td><td style = \"text-align: right;\">false</td><td style = \"text-align: right;\">true</td><td style = \"text-align: left;\">Wednesday</td></tr><tr><td class = \"rowNumber\" style = \"font-weight: bold; text-align: right;\">6876</td><td style = \"text-align: right;\">false</td><td style = \"text-align: left;\">vehicular</td><td style = \"text-align: right;\">false</td><td style = \"text-align: right;\">false</td><td style = \"text-align: right;\">false</td><td style = \"text-align: right;\">true</td><td style = \"text-align: left;\">Wednesday</td></tr><tr><td class = \"rowNumber\" style = \"font-weight: bold; text-align: right;\">6877</td><td style = \"text-align: right;\">false</td><td style = \"text-align: left;\">vehicular</td><td style = \"text-align: right;\">true</td><td style = \"text-align: right;\">true</td><td style = \"text-align: right;\">false</td><td style = \"text-align: right;\">true</td><td style = \"text-align: left;\">Wednesday</td></tr><tr><td class = \"rowNumber\" style = \"font-weight: bold; text-align: right;\">6878</td><td style = \"text-align: right;\">false</td><td style = \"text-align: left;\">vehicular</td><td style = \"text-align: right;\">false</td><td style = \"text-align: right;\">false</td><td style = \"text-align: right;\">false</td><td style = \"text-align: right;\">true</td><td style = \"text-align: left;\">Wednesday</td></tr><tr><td class = \"rowNumber\" style = \"font-weight: bold; text-align: right;\">6879</td><td style = \"text-align: right;\">false</td><td style = \"text-align: left;\">vehicular</td><td style = \"text-align: right;\">false</td><td style = \"text-align: right;\">false</td><td style = \"text-align: right;\">false</td><td style = \"text-align: right;\">false</td><td style = \"text-align: left;\">Wednesday</td></tr></tbody></table></div>"
      ],
      "text/latex": [
       "\\begin{tabular}{r|ccccccc}\n",
       "\t& arrest & type & v1 & v2 & v3 & v4 & dayname\\\\\n",
       "\t\\hline\n",
       "\t& Bool & String15 & Bool & Bool & Bool & Bool & Cat…\\\\\n",
       "\t\\hline\n",
       "\t1 & 1 & pedestrian & 0 & 0 & 0 & 0 & Thursday \\\\\n",
       "\t2 & 0 & vehicular & 0 & 1 & 0 & 0 & Sunday \\\\\n",
       "\t3 & 1 & vehicular & 0 & 0 & 0 & 0 & Sunday \\\\\n",
       "\t4 & 1 & vehicular & 0 & 0 & 0 & 0 & Tuesday \\\\\n",
       "\t5 & 0 & vehicular & 0 & 0 & 0 & 0 & Wednesday \\\\\n",
       "\t6 & 0 & vehicular & 1 & 0 & 0 & 0 & Thursday \\\\\n",
       "\t7 & 1 & vehicular & 0 & 0 & 0 & 0 & Sunday \\\\\n",
       "\t8 & 0 & vehicular & 0 & 0 & 0 & 0 & Tuesday \\\\\n",
       "\t9 & 1 & vehicular & 1 & 0 & 0 & 0 & Saturday \\\\\n",
       "\t10 & 1 & vehicular & 0 & 0 & 0 & 0 & Wednesday \\\\\n",
       "\t11 & 1 & vehicular & 0 & 0 & 0 & 0 & Wednesday \\\\\n",
       "\t12 & 0 & vehicular & 0 & 1 & 1 & 0 & Saturday \\\\\n",
       "\t13 & 1 & vehicular & 0 & 0 & 0 & 0 & Sunday \\\\\n",
       "\t14 & 1 & vehicular & 0 & 0 & 0 & 0 & Thursday \\\\\n",
       "\t15 & 1 & vehicular & 0 & 0 & 0 & 0 & Saturday \\\\\n",
       "\t16 & 1 & pedestrian & 0 & 0 & 0 & 0 & Tuesday \\\\\n",
       "\t17 & 1 & pedestrian & 0 & 0 & 0 & 0 & Saturday \\\\\n",
       "\t18 & 1 & vehicular & 0 & 0 & 0 & 0 & Sunday \\\\\n",
       "\t19 & 1 & vehicular & 0 & 0 & 0 & 0 & Monday \\\\\n",
       "\t20 & 0 & vehicular & 0 & 1 & 0 & 0 & Thursday \\\\\n",
       "\t21 & 1 & vehicular & 1 & 0 & 0 & 0 & Thursday \\\\\n",
       "\t22 & 1 & pedestrian & 1 & 0 & 0 & 0 & Monday \\\\\n",
       "\t23 & 1 & pedestrian & 0 & 0 & 0 & 0 & Thursday \\\\\n",
       "\t24 & 1 & pedestrian & 0 & 0 & 0 & 0 & Tuesday \\\\\n",
       "\t25 & 1 & vehicular & 0 & 1 & 0 & 0 & Friday \\\\\n",
       "\t26 & 1 & vehicular & 0 & 0 & 0 & 0 & Friday \\\\\n",
       "\t27 & 0 & vehicular & 0 & 0 & 0 & 0 & Wednesday \\\\\n",
       "\t28 & 0 & vehicular & 0 & 1 & 0 & 0 & Thursday \\\\\n",
       "\t29 & 1 & vehicular & 0 & 0 & 0 & 1 & Thursday \\\\\n",
       "\t30 & 1 & vehicular & 0 & 0 & 0 & 0 & Saturday \\\\\n",
       "\t$\\dots$ & $\\dots$ & $\\dots$ & $\\dots$ & $\\dots$ & $\\dots$ & $\\dots$ & $\\dots$ \\\\\n",
       "\\end{tabular}\n"
      ],
      "text/plain": [
       "\u001b[1m6879×7 DataFrame\u001b[0m\n",
       "\u001b[1m  Row \u001b[0m│\u001b[1m arrest \u001b[0m\u001b[1m type       \u001b[0m\u001b[1m v1    \u001b[0m\u001b[1m v2    \u001b[0m\u001b[1m v3    \u001b[0m\u001b[1m v4    \u001b[0m\u001b[1m dayname   \u001b[0m\n",
       "      │\u001b[90m Bool   \u001b[0m\u001b[90m String15   \u001b[0m\u001b[90m Bool  \u001b[0m\u001b[90m Bool  \u001b[0m\u001b[90m Bool  \u001b[0m\u001b[90m Bool  \u001b[0m\u001b[90m Cat…      \u001b[0m\n",
       "──────┼───────────────────────────────────────────────────────────\n",
       "    1 │   true  pedestrian  false  false  false  false  Thursday\n",
       "    2 │  false  vehicular   false   true  false  false  Sunday\n",
       "    3 │   true  vehicular   false  false  false  false  Sunday\n",
       "    4 │   true  vehicular   false  false  false  false  Tuesday\n",
       "    5 │  false  vehicular   false  false  false  false  Wednesday\n",
       "    6 │  false  vehicular    true  false  false  false  Thursday\n",
       "    7 │   true  vehicular   false  false  false  false  Sunday\n",
       "    8 │  false  vehicular   false  false  false  false  Tuesday\n",
       "    9 │   true  vehicular    true  false  false  false  Saturday\n",
       "   10 │   true  vehicular   false  false  false  false  Wednesday\n",
       "   11 │   true  vehicular   false  false  false  false  Wednesday\n",
       "  ⋮   │   ⋮         ⋮         ⋮      ⋮      ⋮      ⋮        ⋮\n",
       " 6870 │  false  vehicular   false   true   true  false  Saturday\n",
       " 6871 │  false  vehicular   false   true   true  false  Sunday\n",
       " 6872 │   true  vehicular   false  false  false  false  Sunday\n",
       " 6873 │  false  vehicular   false  false  false   true  Wednesday\n",
       " 6874 │  false  vehicular   false  false  false   true  Wednesday\n",
       " 6875 │  false  vehicular    true  false  false   true  Wednesday\n",
       " 6876 │  false  vehicular   false  false  false   true  Wednesday\n",
       " 6877 │  false  vehicular    true   true  false   true  Wednesday\n",
       " 6878 │  false  vehicular   false  false  false   true  Wednesday\n",
       " 6879 │  false  vehicular   false  false  false  false  Wednesday\n",
       "\u001b[36m                                                 6858 rows omitted\u001b[0m"
      ]
     },
     "execution_count": 52,
     "metadata": {},
     "output_type": "execute_result"
    }
   ],
   "source": [
    "select!(owensboro2, Not(:day))"
   ]
  },
  {
   "cell_type": "markdown",
   "id": "1a9a8653",
   "metadata": {},
   "source": [
    "## Building a predictive model of arrest probability"
   ]
  },
  {
   "cell_type": "markdown",
   "id": "20e1289b",
   "metadata": {},
   "source": [
    "### Splitting the data into train and test data sets"
   ]
  },
  {
   "cell_type": "code",
   "execution_count": 53,
   "id": "59f56925",
   "metadata": {},
   "outputs": [
    {
     "data": {
      "text/plain": [
       "0.702427678441634"
      ]
     },
     "execution_count": 53,
     "metadata": {},
     "output_type": "execute_result"
    }
   ],
   "source": [
    "Random.seed!(1234)\n",
    "owensboro2.train = rand(Bernoulli(0.7), nrow(owensboro2))\n",
    "mean(owensboro2.train)"
   ]
  },
  {
   "cell_type": "code",
   "execution_count": 54,
   "id": "752c3e58",
   "metadata": {
    "scrolled": true
   },
   "outputs": [
    {
     "data": {
      "text/html": [
       "<div><div style = \"float: left;\"><span>4832×8 DataFrame</span></div><div style = \"float: right;\"><span style = \"font-style: italic;\">4807 rows omitted</span></div><div style = \"clear: both;\"></div></div><div class = \"data-frame\" style = \"overflow-x: scroll;\"><table class = \"data-frame\" style = \"margin-bottom: 6px;\"><thead><tr class = \"header\"><th class = \"rowNumber\" style = \"font-weight: bold; text-align: right;\">Row</th><th style = \"text-align: left;\">arrest</th><th style = \"text-align: left;\">type</th><th style = \"text-align: left;\">v1</th><th style = \"text-align: left;\">v2</th><th style = \"text-align: left;\">v3</th><th style = \"text-align: left;\">v4</th><th style = \"text-align: left;\">dayname</th><th style = \"text-align: left;\">train</th></tr><tr class = \"subheader headerLastRow\"><th class = \"rowNumber\" style = \"font-weight: bold; text-align: right;\"></th><th title = \"Bool\" style = \"text-align: left;\">Bool</th><th title = \"String15\" style = \"text-align: left;\">String15</th><th title = \"Bool\" style = \"text-align: left;\">Bool</th><th title = \"Bool\" style = \"text-align: left;\">Bool</th><th title = \"Bool\" style = \"text-align: left;\">Bool</th><th title = \"Bool\" style = \"text-align: left;\">Bool</th><th title = \"CategoricalValue{String, UInt32}\" style = \"text-align: left;\">Cat…</th><th title = \"Bool\" style = \"text-align: left;\">Bool</th></tr></thead><tbody><tr><td class = \"rowNumber\" style = \"font-weight: bold; text-align: right;\">1</td><td style = \"text-align: right;\">true</td><td style = \"text-align: left;\">pedestrian</td><td style = \"text-align: right;\">false</td><td style = \"text-align: right;\">false</td><td style = \"text-align: right;\">false</td><td style = \"text-align: right;\">false</td><td style = \"text-align: left;\">Thursday</td><td style = \"text-align: right;\">true</td></tr><tr><td class = \"rowNumber\" style = \"font-weight: bold; text-align: right;\">2</td><td style = \"text-align: right;\">false</td><td style = \"text-align: left;\">vehicular</td><td style = \"text-align: right;\">false</td><td style = \"text-align: right;\">true</td><td style = \"text-align: right;\">false</td><td style = \"text-align: right;\">false</td><td style = \"text-align: left;\">Sunday</td><td style = \"text-align: right;\">true</td></tr><tr><td class = \"rowNumber\" style = \"font-weight: bold; text-align: right;\">3</td><td style = \"text-align: right;\">true</td><td style = \"text-align: left;\">vehicular</td><td style = \"text-align: right;\">false</td><td style = \"text-align: right;\">false</td><td style = \"text-align: right;\">false</td><td style = \"text-align: right;\">false</td><td style = \"text-align: left;\">Sunday</td><td style = \"text-align: right;\">true</td></tr><tr><td class = \"rowNumber\" style = \"font-weight: bold; text-align: right;\">4</td><td style = \"text-align: right;\">false</td><td style = \"text-align: left;\">vehicular</td><td style = \"text-align: right;\">false</td><td style = \"text-align: right;\">false</td><td style = \"text-align: right;\">false</td><td style = \"text-align: right;\">false</td><td style = \"text-align: left;\">Wednesday</td><td style = \"text-align: right;\">true</td></tr><tr><td class = \"rowNumber\" style = \"font-weight: bold; text-align: right;\">5</td><td style = \"text-align: right;\">false</td><td style = \"text-align: left;\">vehicular</td><td style = \"text-align: right;\">true</td><td style = \"text-align: right;\">false</td><td style = \"text-align: right;\">false</td><td style = \"text-align: right;\">false</td><td style = \"text-align: left;\">Thursday</td><td style = \"text-align: right;\">true</td></tr><tr><td class = \"rowNumber\" style = \"font-weight: bold; text-align: right;\">6</td><td style = \"text-align: right;\">true</td><td style = \"text-align: left;\">vehicular</td><td style = \"text-align: right;\">true</td><td style = \"text-align: right;\">false</td><td style = \"text-align: right;\">false</td><td style = \"text-align: right;\">false</td><td style = \"text-align: left;\">Saturday</td><td style = \"text-align: right;\">true</td></tr><tr><td class = \"rowNumber\" style = \"font-weight: bold; text-align: right;\">7</td><td style = \"text-align: right;\">true</td><td style = \"text-align: left;\">vehicular</td><td style = \"text-align: right;\">false</td><td style = \"text-align: right;\">false</td><td style = \"text-align: right;\">false</td><td style = \"text-align: right;\">false</td><td style = \"text-align: left;\">Wednesday</td><td style = \"text-align: right;\">true</td></tr><tr><td class = \"rowNumber\" style = \"font-weight: bold; text-align: right;\">8</td><td style = \"text-align: right;\">true</td><td style = \"text-align: left;\">vehicular</td><td style = \"text-align: right;\">false</td><td style = \"text-align: right;\">false</td><td style = \"text-align: right;\">false</td><td style = \"text-align: right;\">false</td><td style = \"text-align: left;\">Sunday</td><td style = \"text-align: right;\">true</td></tr><tr><td class = \"rowNumber\" style = \"font-weight: bold; text-align: right;\">9</td><td style = \"text-align: right;\">true</td><td style = \"text-align: left;\">vehicular</td><td style = \"text-align: right;\">false</td><td style = \"text-align: right;\">false</td><td style = \"text-align: right;\">false</td><td style = \"text-align: right;\">false</td><td style = \"text-align: left;\">Thursday</td><td style = \"text-align: right;\">true</td></tr><tr><td class = \"rowNumber\" style = \"font-weight: bold; text-align: right;\">10</td><td style = \"text-align: right;\">true</td><td style = \"text-align: left;\">vehicular</td><td style = \"text-align: right;\">false</td><td style = \"text-align: right;\">false</td><td style = \"text-align: right;\">false</td><td style = \"text-align: right;\">false</td><td style = \"text-align: left;\">Saturday</td><td style = \"text-align: right;\">true</td></tr><tr><td class = \"rowNumber\" style = \"font-weight: bold; text-align: right;\">11</td><td style = \"text-align: right;\">true</td><td style = \"text-align: left;\">pedestrian</td><td style = \"text-align: right;\">false</td><td style = \"text-align: right;\">false</td><td style = \"text-align: right;\">false</td><td style = \"text-align: right;\">false</td><td style = \"text-align: left;\">Tuesday</td><td style = \"text-align: right;\">true</td></tr><tr><td class = \"rowNumber\" style = \"font-weight: bold; text-align: right;\">12</td><td style = \"text-align: right;\">true</td><td style = \"text-align: left;\">vehicular</td><td style = \"text-align: right;\">false</td><td style = \"text-align: right;\">false</td><td style = \"text-align: right;\">false</td><td style = \"text-align: right;\">false</td><td style = \"text-align: left;\">Sunday</td><td style = \"text-align: right;\">true</td></tr><tr><td class = \"rowNumber\" style = \"font-weight: bold; text-align: right;\">13</td><td style = \"text-align: right;\">true</td><td style = \"text-align: left;\">vehicular</td><td style = \"text-align: right;\">true</td><td style = \"text-align: right;\">false</td><td style = \"text-align: right;\">false</td><td style = \"text-align: right;\">false</td><td style = \"text-align: left;\">Thursday</td><td style = \"text-align: right;\">true</td></tr><tr><td style = \"text-align: right;\">&vellip;</td><td style = \"text-align: right;\">&vellip;</td><td style = \"text-align: right;\">&vellip;</td><td style = \"text-align: right;\">&vellip;</td><td style = \"text-align: right;\">&vellip;</td><td style = \"text-align: right;\">&vellip;</td><td style = \"text-align: right;\">&vellip;</td><td style = \"text-align: right;\">&vellip;</td><td style = \"text-align: right;\">&vellip;</td></tr><tr><td class = \"rowNumber\" style = \"font-weight: bold; text-align: right;\">4821</td><td style = \"text-align: right;\">false</td><td style = \"text-align: left;\">vehicular</td><td style = \"text-align: right;\">true</td><td style = \"text-align: right;\">false</td><td style = \"text-align: right;\">false</td><td style = \"text-align: right;\">true</td><td style = \"text-align: left;\">Tuesday</td><td style = \"text-align: right;\">true</td></tr><tr><td class = \"rowNumber\" style = \"font-weight: bold; text-align: right;\">4822</td><td style = \"text-align: right;\">false</td><td style = \"text-align: left;\">vehicular</td><td style = \"text-align: right;\">false</td><td style = \"text-align: right;\">false</td><td style = \"text-align: right;\">false</td><td style = \"text-align: right;\">true</td><td style = \"text-align: left;\">Tuesday</td><td style = \"text-align: right;\">true</td></tr><tr><td class = \"rowNumber\" style = \"font-weight: bold; text-align: right;\">4823</td><td style = \"text-align: right;\">false</td><td style = \"text-align: left;\">vehicular</td><td style = \"text-align: right;\">false</td><td style = \"text-align: right;\">false</td><td style = \"text-align: right;\">true</td><td style = \"text-align: right;\">true</td><td style = \"text-align: left;\">Tuesday</td><td style = \"text-align: right;\">true</td></tr><tr><td class = \"rowNumber\" style = \"font-weight: bold; text-align: right;\">4824</td><td style = \"text-align: right;\">false</td><td style = \"text-align: left;\">vehicular</td><td style = \"text-align: right;\">false</td><td style = \"text-align: right;\">true</td><td style = \"text-align: right;\">true</td><td style = \"text-align: right;\">false</td><td style = \"text-align: left;\">Saturday</td><td style = \"text-align: right;\">true</td></tr><tr><td class = \"rowNumber\" style = \"font-weight: bold; text-align: right;\">4825</td><td style = \"text-align: right;\">false</td><td style = \"text-align: left;\">vehicular</td><td style = \"text-align: right;\">false</td><td style = \"text-align: right;\">true</td><td style = \"text-align: right;\">true</td><td style = \"text-align: right;\">false</td><td style = \"text-align: left;\">Sunday</td><td style = \"text-align: right;\">true</td></tr><tr><td class = \"rowNumber\" style = \"font-weight: bold; text-align: right;\">4826</td><td style = \"text-align: right;\">true</td><td style = \"text-align: left;\">vehicular</td><td style = \"text-align: right;\">false</td><td style = \"text-align: right;\">false</td><td style = \"text-align: right;\">false</td><td style = \"text-align: right;\">false</td><td style = \"text-align: left;\">Sunday</td><td style = \"text-align: right;\">true</td></tr><tr><td class = \"rowNumber\" style = \"font-weight: bold; text-align: right;\">4827</td><td style = \"text-align: right;\">false</td><td style = \"text-align: left;\">vehicular</td><td style = \"text-align: right;\">false</td><td style = \"text-align: right;\">false</td><td style = \"text-align: right;\">false</td><td style = \"text-align: right;\">true</td><td style = \"text-align: left;\">Wednesday</td><td style = \"text-align: right;\">true</td></tr><tr><td class = \"rowNumber\" style = \"font-weight: bold; text-align: right;\">4828</td><td style = \"text-align: right;\">false</td><td style = \"text-align: left;\">vehicular</td><td style = \"text-align: right;\">false</td><td style = \"text-align: right;\">false</td><td style = \"text-align: right;\">false</td><td style = \"text-align: right;\">true</td><td style = \"text-align: left;\">Wednesday</td><td style = \"text-align: right;\">true</td></tr><tr><td class = \"rowNumber\" style = \"font-weight: bold; text-align: right;\">4829</td><td style = \"text-align: right;\">false</td><td style = \"text-align: left;\">vehicular</td><td style = \"text-align: right;\">true</td><td style = \"text-align: right;\">false</td><td style = \"text-align: right;\">false</td><td style = \"text-align: right;\">true</td><td style = \"text-align: left;\">Wednesday</td><td style = \"text-align: right;\">true</td></tr><tr><td class = \"rowNumber\" style = \"font-weight: bold; text-align: right;\">4830</td><td style = \"text-align: right;\">false</td><td style = \"text-align: left;\">vehicular</td><td style = \"text-align: right;\">false</td><td style = \"text-align: right;\">false</td><td style = \"text-align: right;\">false</td><td style = \"text-align: right;\">true</td><td style = \"text-align: left;\">Wednesday</td><td style = \"text-align: right;\">true</td></tr><tr><td class = \"rowNumber\" style = \"font-weight: bold; text-align: right;\">4831</td><td style = \"text-align: right;\">false</td><td style = \"text-align: left;\">vehicular</td><td style = \"text-align: right;\">true</td><td style = \"text-align: right;\">true</td><td style = \"text-align: right;\">false</td><td style = \"text-align: right;\">true</td><td style = \"text-align: left;\">Wednesday</td><td style = \"text-align: right;\">true</td></tr><tr><td class = \"rowNumber\" style = \"font-weight: bold; text-align: right;\">4832</td><td style = \"text-align: right;\">false</td><td style = \"text-align: left;\">vehicular</td><td style = \"text-align: right;\">false</td><td style = \"text-align: right;\">false</td><td style = \"text-align: right;\">false</td><td style = \"text-align: right;\">true</td><td style = \"text-align: left;\">Wednesday</td><td style = \"text-align: right;\">true</td></tr></tbody></table></div>"
      ],
      "text/latex": [
       "\\begin{tabular}{r|cccccccc}\n",
       "\t& arrest & type & v1 & v2 & v3 & v4 & dayname & train\\\\\n",
       "\t\\hline\n",
       "\t& Bool & String15 & Bool & Bool & Bool & Bool & Cat… & Bool\\\\\n",
       "\t\\hline\n",
       "\t1 & 1 & pedestrian & 0 & 0 & 0 & 0 & Thursday & 1 \\\\\n",
       "\t2 & 0 & vehicular & 0 & 1 & 0 & 0 & Sunday & 1 \\\\\n",
       "\t3 & 1 & vehicular & 0 & 0 & 0 & 0 & Sunday & 1 \\\\\n",
       "\t4 & 0 & vehicular & 0 & 0 & 0 & 0 & Wednesday & 1 \\\\\n",
       "\t5 & 0 & vehicular & 1 & 0 & 0 & 0 & Thursday & 1 \\\\\n",
       "\t6 & 1 & vehicular & 1 & 0 & 0 & 0 & Saturday & 1 \\\\\n",
       "\t7 & 1 & vehicular & 0 & 0 & 0 & 0 & Wednesday & 1 \\\\\n",
       "\t8 & 1 & vehicular & 0 & 0 & 0 & 0 & Sunday & 1 \\\\\n",
       "\t9 & 1 & vehicular & 0 & 0 & 0 & 0 & Thursday & 1 \\\\\n",
       "\t10 & 1 & vehicular & 0 & 0 & 0 & 0 & Saturday & 1 \\\\\n",
       "\t11 & 1 & pedestrian & 0 & 0 & 0 & 0 & Tuesday & 1 \\\\\n",
       "\t12 & 1 & vehicular & 0 & 0 & 0 & 0 & Sunday & 1 \\\\\n",
       "\t13 & 1 & vehicular & 1 & 0 & 0 & 0 & Thursday & 1 \\\\\n",
       "\t14 & 1 & pedestrian & 1 & 0 & 0 & 0 & Monday & 1 \\\\\n",
       "\t15 & 1 & pedestrian & 0 & 0 & 0 & 0 & Thursday & 1 \\\\\n",
       "\t16 & 1 & pedestrian & 0 & 0 & 0 & 0 & Tuesday & 1 \\\\\n",
       "\t17 & 1 & vehicular & 0 & 1 & 0 & 0 & Friday & 1 \\\\\n",
       "\t18 & 1 & vehicular & 0 & 0 & 0 & 0 & Friday & 1 \\\\\n",
       "\t19 & 0 & vehicular & 0 & 0 & 0 & 0 & Wednesday & 1 \\\\\n",
       "\t20 & 0 & vehicular & 0 & 1 & 0 & 0 & Thursday & 1 \\\\\n",
       "\t21 & 1 & vehicular & 0 & 0 & 0 & 1 & Thursday & 1 \\\\\n",
       "\t22 & 0 & vehicular & 0 & 1 & 1 & 0 & Saturday & 1 \\\\\n",
       "\t23 & 0 & vehicular & 0 & 1 & 0 & 0 & Thursday & 1 \\\\\n",
       "\t24 & 0 & vehicular & 0 & 0 & 0 & 1 & Wednesday & 1 \\\\\n",
       "\t25 & 1 & vehicular & 0 & 0 & 0 & 0 & Saturday & 1 \\\\\n",
       "\t26 & 1 & vehicular & 0 & 0 & 0 & 0 & Saturday & 1 \\\\\n",
       "\t27 & 1 & vehicular & 0 & 1 & 1 & 0 & Sunday & 1 \\\\\n",
       "\t28 & 1 & vehicular & 0 & 0 & 0 & 0 & Sunday & 1 \\\\\n",
       "\t29 & 1 & vehicular & 1 & 1 & 1 & 0 & Saturday & 1 \\\\\n",
       "\t30 & 0 & vehicular & 0 & 0 & 0 & 0 & Saturday & 1 \\\\\n",
       "\t$\\dots$ & $\\dots$ & $\\dots$ & $\\dots$ & $\\dots$ & $\\dots$ & $\\dots$ & $\\dots$ & $\\dots$ \\\\\n",
       "\\end{tabular}\n"
      ],
      "text/plain": [
       "\u001b[1m4832×8 DataFrame\u001b[0m\n",
       "\u001b[1m  Row \u001b[0m│\u001b[1m arrest \u001b[0m\u001b[1m type       \u001b[0m\u001b[1m v1    \u001b[0m\u001b[1m v2    \u001b[0m\u001b[1m v3    \u001b[0m\u001b[1m v4    \u001b[0m\u001b[1m dayname   \u001b[0m\u001b[1m train \u001b[0m\n",
       "      │\u001b[90m Bool   \u001b[0m\u001b[90m String15   \u001b[0m\u001b[90m Bool  \u001b[0m\u001b[90m Bool  \u001b[0m\u001b[90m Bool  \u001b[0m\u001b[90m Bool  \u001b[0m\u001b[90m Cat…      \u001b[0m\u001b[90m Bool  \u001b[0m\n",
       "──────┼──────────────────────────────────────────────────────────────────\n",
       "    1 │   true  pedestrian  false  false  false  false  Thursday    true\n",
       "    2 │  false  vehicular   false   true  false  false  Sunday      true\n",
       "    3 │   true  vehicular   false  false  false  false  Sunday      true\n",
       "    4 │  false  vehicular   false  false  false  false  Wednesday   true\n",
       "    5 │  false  vehicular    true  false  false  false  Thursday    true\n",
       "    6 │   true  vehicular    true  false  false  false  Saturday    true\n",
       "    7 │   true  vehicular   false  false  false  false  Wednesday   true\n",
       "    8 │   true  vehicular   false  false  false  false  Sunday      true\n",
       "    9 │   true  vehicular   false  false  false  false  Thursday    true\n",
       "   10 │   true  vehicular   false  false  false  false  Saturday    true\n",
       "   11 │   true  pedestrian  false  false  false  false  Tuesday     true\n",
       "  ⋮   │   ⋮         ⋮         ⋮      ⋮      ⋮      ⋮        ⋮        ⋮\n",
       " 4823 │  false  vehicular   false  false   true   true  Tuesday     true\n",
       " 4824 │  false  vehicular   false   true   true  false  Saturday    true\n",
       " 4825 │  false  vehicular   false   true   true  false  Sunday      true\n",
       " 4826 │   true  vehicular   false  false  false  false  Sunday      true\n",
       " 4827 │  false  vehicular   false  false  false   true  Wednesday   true\n",
       " 4828 │  false  vehicular   false  false  false   true  Wednesday   true\n",
       " 4829 │  false  vehicular    true  false  false   true  Wednesday   true\n",
       " 4830 │  false  vehicular   false  false  false   true  Wednesday   true\n",
       " 4831 │  false  vehicular    true   true  false   true  Wednesday   true\n",
       " 4832 │  false  vehicular   false  false  false   true  Wednesday   true\n",
       "\u001b[36m                                                        4811 rows omitted\u001b[0m"
      ]
     },
     "execution_count": 54,
     "metadata": {},
     "output_type": "execute_result"
    }
   ],
   "source": [
    "train = subset(owensboro2, :train)"
   ]
  },
  {
   "cell_type": "code",
   "execution_count": 55,
   "id": "e59689cb",
   "metadata": {
    "scrolled": true
   },
   "outputs": [
    {
     "data": {
      "text/html": [
       "<div><div style = \"float: left;\"><span>2047×8 DataFrame</span></div><div style = \"float: right;\"><span style = \"font-style: italic;\">2022 rows omitted</span></div><div style = \"clear: both;\"></div></div><div class = \"data-frame\" style = \"overflow-x: scroll;\"><table class = \"data-frame\" style = \"margin-bottom: 6px;\"><thead><tr class = \"header\"><th class = \"rowNumber\" style = \"font-weight: bold; text-align: right;\">Row</th><th style = \"text-align: left;\">arrest</th><th style = \"text-align: left;\">type</th><th style = \"text-align: left;\">v1</th><th style = \"text-align: left;\">v2</th><th style = \"text-align: left;\">v3</th><th style = \"text-align: left;\">v4</th><th style = \"text-align: left;\">dayname</th><th style = \"text-align: left;\">train</th></tr><tr class = \"subheader headerLastRow\"><th class = \"rowNumber\" style = \"font-weight: bold; text-align: right;\"></th><th title = \"Bool\" style = \"text-align: left;\">Bool</th><th title = \"String15\" style = \"text-align: left;\">String15</th><th title = \"Bool\" style = \"text-align: left;\">Bool</th><th title = \"Bool\" style = \"text-align: left;\">Bool</th><th title = \"Bool\" style = \"text-align: left;\">Bool</th><th title = \"Bool\" style = \"text-align: left;\">Bool</th><th title = \"CategoricalValue{String, UInt32}\" style = \"text-align: left;\">Cat…</th><th title = \"Bool\" style = \"text-align: left;\">Bool</th></tr></thead><tbody><tr><td class = \"rowNumber\" style = \"font-weight: bold; text-align: right;\">1</td><td style = \"text-align: right;\">true</td><td style = \"text-align: left;\">vehicular</td><td style = \"text-align: right;\">false</td><td style = \"text-align: right;\">false</td><td style = \"text-align: right;\">false</td><td style = \"text-align: right;\">false</td><td style = \"text-align: left;\">Tuesday</td><td style = \"text-align: right;\">false</td></tr><tr><td class = \"rowNumber\" style = \"font-weight: bold; text-align: right;\">2</td><td style = \"text-align: right;\">true</td><td style = \"text-align: left;\">vehicular</td><td style = \"text-align: right;\">false</td><td style = \"text-align: right;\">false</td><td style = \"text-align: right;\">false</td><td style = \"text-align: right;\">false</td><td style = \"text-align: left;\">Sunday</td><td style = \"text-align: right;\">false</td></tr><tr><td class = \"rowNumber\" style = \"font-weight: bold; text-align: right;\">3</td><td style = \"text-align: right;\">false</td><td style = \"text-align: left;\">vehicular</td><td style = \"text-align: right;\">false</td><td style = \"text-align: right;\">false</td><td style = \"text-align: right;\">false</td><td style = \"text-align: right;\">false</td><td style = \"text-align: left;\">Tuesday</td><td style = \"text-align: right;\">false</td></tr><tr><td class = \"rowNumber\" style = \"font-weight: bold; text-align: right;\">4</td><td style = \"text-align: right;\">true</td><td style = \"text-align: left;\">vehicular</td><td style = \"text-align: right;\">false</td><td style = \"text-align: right;\">false</td><td style = \"text-align: right;\">false</td><td style = \"text-align: right;\">false</td><td style = \"text-align: left;\">Wednesday</td><td style = \"text-align: right;\">false</td></tr><tr><td class = \"rowNumber\" style = \"font-weight: bold; text-align: right;\">5</td><td style = \"text-align: right;\">false</td><td style = \"text-align: left;\">vehicular</td><td style = \"text-align: right;\">false</td><td style = \"text-align: right;\">true</td><td style = \"text-align: right;\">true</td><td style = \"text-align: right;\">false</td><td style = \"text-align: left;\">Saturday</td><td style = \"text-align: right;\">false</td></tr><tr><td class = \"rowNumber\" style = \"font-weight: bold; text-align: right;\">6</td><td style = \"text-align: right;\">true</td><td style = \"text-align: left;\">pedestrian</td><td style = \"text-align: right;\">false</td><td style = \"text-align: right;\">false</td><td style = \"text-align: right;\">false</td><td style = \"text-align: right;\">false</td><td style = \"text-align: left;\">Saturday</td><td style = \"text-align: right;\">false</td></tr><tr><td class = \"rowNumber\" style = \"font-weight: bold; text-align: right;\">7</td><td style = \"text-align: right;\">true</td><td style = \"text-align: left;\">vehicular</td><td style = \"text-align: right;\">false</td><td style = \"text-align: right;\">false</td><td style = \"text-align: right;\">false</td><td style = \"text-align: right;\">false</td><td style = \"text-align: left;\">Monday</td><td style = \"text-align: right;\">false</td></tr><tr><td class = \"rowNumber\" style = \"font-weight: bold; text-align: right;\">8</td><td style = \"text-align: right;\">false</td><td style = \"text-align: left;\">vehicular</td><td style = \"text-align: right;\">false</td><td style = \"text-align: right;\">true</td><td style = \"text-align: right;\">false</td><td style = \"text-align: right;\">false</td><td style = \"text-align: left;\">Thursday</td><td style = \"text-align: right;\">false</td></tr><tr><td class = \"rowNumber\" style = \"font-weight: bold; text-align: right;\">9</td><td style = \"text-align: right;\">true</td><td style = \"text-align: left;\">vehicular</td><td style = \"text-align: right;\">false</td><td style = \"text-align: right;\">false</td><td style = \"text-align: right;\">false</td><td style = \"text-align: right;\">false</td><td style = \"text-align: left;\">Saturday</td><td style = \"text-align: right;\">false</td></tr><tr><td class = \"rowNumber\" style = \"font-weight: bold; text-align: right;\">10</td><td style = \"text-align: right;\">true</td><td style = \"text-align: left;\">vehicular</td><td style = \"text-align: right;\">false</td><td style = \"text-align: right;\">false</td><td style = \"text-align: right;\">false</td><td style = \"text-align: right;\">false</td><td style = \"text-align: left;\">Saturday</td><td style = \"text-align: right;\">false</td></tr><tr><td class = \"rowNumber\" style = \"font-weight: bold; text-align: right;\">11</td><td style = \"text-align: right;\">true</td><td style = \"text-align: left;\">pedestrian</td><td style = \"text-align: right;\">false</td><td style = \"text-align: right;\">false</td><td style = \"text-align: right;\">false</td><td style = \"text-align: right;\">false</td><td style = \"text-align: left;\">Saturday</td><td style = \"text-align: right;\">false</td></tr><tr><td class = \"rowNumber\" style = \"font-weight: bold; text-align: right;\">12</td><td style = \"text-align: right;\">true</td><td style = \"text-align: left;\">vehicular</td><td style = \"text-align: right;\">false</td><td style = \"text-align: right;\">true</td><td style = \"text-align: right;\">true</td><td style = \"text-align: right;\">false</td><td style = \"text-align: left;\">Monday</td><td style = \"text-align: right;\">false</td></tr><tr><td class = \"rowNumber\" style = \"font-weight: bold; text-align: right;\">13</td><td style = \"text-align: right;\">false</td><td style = \"text-align: left;\">vehicular</td><td style = \"text-align: right;\">false</td><td style = \"text-align: right;\">false</td><td style = \"text-align: right;\">false</td><td style = \"text-align: right;\">false</td><td style = \"text-align: left;\">Thursday</td><td style = \"text-align: right;\">false</td></tr><tr><td style = \"text-align: right;\">&vellip;</td><td style = \"text-align: right;\">&vellip;</td><td style = \"text-align: right;\">&vellip;</td><td style = \"text-align: right;\">&vellip;</td><td style = \"text-align: right;\">&vellip;</td><td style = \"text-align: right;\">&vellip;</td><td style = \"text-align: right;\">&vellip;</td><td style = \"text-align: right;\">&vellip;</td><td style = \"text-align: right;\">&vellip;</td></tr><tr><td class = \"rowNumber\" style = \"font-weight: bold; text-align: right;\">2036</td><td style = \"text-align: right;\">false</td><td style = \"text-align: left;\">vehicular</td><td style = \"text-align: right;\">false</td><td style = \"text-align: right;\">false</td><td style = \"text-align: right;\">true</td><td style = \"text-align: right;\">true</td><td style = \"text-align: left;\">Thursday</td><td style = \"text-align: right;\">false</td></tr><tr><td class = \"rowNumber\" style = \"font-weight: bold; text-align: right;\">2037</td><td style = \"text-align: right;\">false</td><td style = \"text-align: left;\">vehicular</td><td style = \"text-align: right;\">false</td><td style = \"text-align: right;\">false</td><td style = \"text-align: right;\">false</td><td style = \"text-align: right;\">true</td><td style = \"text-align: left;\">Thursday</td><td style = \"text-align: right;\">false</td></tr><tr><td class = \"rowNumber\" style = \"font-weight: bold; text-align: right;\">2038</td><td style = \"text-align: right;\">false</td><td style = \"text-align: left;\">vehicular</td><td style = \"text-align: right;\">false</td><td style = \"text-align: right;\">false</td><td style = \"text-align: right;\">false</td><td style = \"text-align: right;\">true</td><td style = \"text-align: left;\">Thursday</td><td style = \"text-align: right;\">false</td></tr><tr><td class = \"rowNumber\" style = \"font-weight: bold; text-align: right;\">2039</td><td style = \"text-align: right;\">false</td><td style = \"text-align: left;\">vehicular</td><td style = \"text-align: right;\">false</td><td style = \"text-align: right;\">false</td><td style = \"text-align: right;\">false</td><td style = \"text-align: right;\">false</td><td style = \"text-align: left;\">Friday</td><td style = \"text-align: right;\">false</td></tr><tr><td class = \"rowNumber\" style = \"font-weight: bold; text-align: right;\">2040</td><td style = \"text-align: right;\">false</td><td style = \"text-align: left;\">vehicular</td><td style = \"text-align: right;\">false</td><td style = \"text-align: right;\">false</td><td style = \"text-align: right;\">false</td><td style = \"text-align: right;\">true</td><td style = \"text-align: left;\">Tuesday</td><td style = \"text-align: right;\">false</td></tr><tr><td class = \"rowNumber\" style = \"font-weight: bold; text-align: right;\">2041</td><td style = \"text-align: right;\">false</td><td style = \"text-align: left;\">vehicular</td><td style = \"text-align: right;\">false</td><td style = \"text-align: right;\">false</td><td style = \"text-align: right;\">false</td><td style = \"text-align: right;\">true</td><td style = \"text-align: left;\">Tuesday</td><td style = \"text-align: right;\">false</td></tr><tr><td class = \"rowNumber\" style = \"font-weight: bold; text-align: right;\">2042</td><td style = \"text-align: right;\">false</td><td style = \"text-align: left;\">vehicular</td><td style = \"text-align: right;\">false</td><td style = \"text-align: right;\">false</td><td style = \"text-align: right;\">false</td><td style = \"text-align: right;\">true</td><td style = \"text-align: left;\">Tuesday</td><td style = \"text-align: right;\">false</td></tr><tr><td class = \"rowNumber\" style = \"font-weight: bold; text-align: right;\">2043</td><td style = \"text-align: right;\">false</td><td style = \"text-align: left;\">vehicular</td><td style = \"text-align: right;\">false</td><td style = \"text-align: right;\">false</td><td style = \"text-align: right;\">false</td><td style = \"text-align: right;\">true</td><td style = \"text-align: left;\">Tuesday</td><td style = \"text-align: right;\">false</td></tr><tr><td class = \"rowNumber\" style = \"font-weight: bold; text-align: right;\">2044</td><td style = \"text-align: right;\">false</td><td style = \"text-align: left;\">vehicular</td><td style = \"text-align: right;\">false</td><td style = \"text-align: right;\">false</td><td style = \"text-align: right;\">false</td><td style = \"text-align: right;\">true</td><td style = \"text-align: left;\">Tuesday</td><td style = \"text-align: right;\">false</td></tr><tr><td class = \"rowNumber\" style = \"font-weight: bold; text-align: right;\">2045</td><td style = \"text-align: right;\">false</td><td style = \"text-align: left;\">vehicular</td><td style = \"text-align: right;\">false</td><td style = \"text-align: right;\">true</td><td style = \"text-align: right;\">true</td><td style = \"text-align: right;\">false</td><td style = \"text-align: left;\">Thursday</td><td style = \"text-align: right;\">false</td></tr><tr><td class = \"rowNumber\" style = \"font-weight: bold; text-align: right;\">2046</td><td style = \"text-align: right;\">false</td><td style = \"text-align: left;\">vehicular</td><td style = \"text-align: right;\">false</td><td style = \"text-align: right;\">false</td><td style = \"text-align: right;\">true</td><td style = \"text-align: right;\">false</td><td style = \"text-align: left;\">Friday</td><td style = \"text-align: right;\">false</td></tr><tr><td class = \"rowNumber\" style = \"font-weight: bold; text-align: right;\">2047</td><td style = \"text-align: right;\">false</td><td style = \"text-align: left;\">vehicular</td><td style = \"text-align: right;\">false</td><td style = \"text-align: right;\">false</td><td style = \"text-align: right;\">false</td><td style = \"text-align: right;\">false</td><td style = \"text-align: left;\">Wednesday</td><td style = \"text-align: right;\">false</td></tr></tbody></table></div>"
      ],
      "text/latex": [
       "\\begin{tabular}{r|cccccccc}\n",
       "\t& arrest & type & v1 & v2 & v3 & v4 & dayname & train\\\\\n",
       "\t\\hline\n",
       "\t& Bool & String15 & Bool & Bool & Bool & Bool & Cat… & Bool\\\\\n",
       "\t\\hline\n",
       "\t1 & 1 & vehicular & 0 & 0 & 0 & 0 & Tuesday & 0 \\\\\n",
       "\t2 & 1 & vehicular & 0 & 0 & 0 & 0 & Sunday & 0 \\\\\n",
       "\t3 & 0 & vehicular & 0 & 0 & 0 & 0 & Tuesday & 0 \\\\\n",
       "\t4 & 1 & vehicular & 0 & 0 & 0 & 0 & Wednesday & 0 \\\\\n",
       "\t5 & 0 & vehicular & 0 & 1 & 1 & 0 & Saturday & 0 \\\\\n",
       "\t6 & 1 & pedestrian & 0 & 0 & 0 & 0 & Saturday & 0 \\\\\n",
       "\t7 & 1 & vehicular & 0 & 0 & 0 & 0 & Monday & 0 \\\\\n",
       "\t8 & 0 & vehicular & 0 & 1 & 0 & 0 & Thursday & 0 \\\\\n",
       "\t9 & 1 & vehicular & 0 & 0 & 0 & 0 & Saturday & 0 \\\\\n",
       "\t10 & 1 & vehicular & 0 & 0 & 0 & 0 & Saturday & 0 \\\\\n",
       "\t11 & 1 & pedestrian & 0 & 0 & 0 & 0 & Saturday & 0 \\\\\n",
       "\t12 & 1 & vehicular & 0 & 1 & 1 & 0 & Monday & 0 \\\\\n",
       "\t13 & 0 & vehicular & 0 & 0 & 0 & 0 & Thursday & 0 \\\\\n",
       "\t14 & 1 & pedestrian & 0 & 0 & 0 & 0 & Friday & 0 \\\\\n",
       "\t15 & 0 & vehicular & 0 & 0 & 0 & 1 & Thursday & 0 \\\\\n",
       "\t16 & 0 & vehicular & 1 & 0 & 0 & 0 & Friday & 0 \\\\\n",
       "\t17 & 1 & pedestrian & 0 & 0 & 0 & 0 & Sunday & 0 \\\\\n",
       "\t18 & 1 & vehicular & 0 & 1 & 0 & 0 & Tuesday & 0 \\\\\n",
       "\t19 & 1 & vehicular & 1 & 0 & 0 & 0 & Thursday & 0 \\\\\n",
       "\t20 & 0 & vehicular & 1 & 0 & 0 & 0 & Friday & 0 \\\\\n",
       "\t21 & 0 & vehicular & 0 & 0 & 0 & 0 & Friday & 0 \\\\\n",
       "\t22 & 1 & vehicular & 0 & 0 & 0 & 0 & Wednesday & 0 \\\\\n",
       "\t23 & 1 & vehicular & 0 & 1 & 0 & 0 & Tuesday & 0 \\\\\n",
       "\t24 & 1 & vehicular & 0 & 1 & 0 & 0 & Wednesday & 0 \\\\\n",
       "\t25 & 0 & vehicular & 0 & 0 & 0 & 1 & Saturday & 0 \\\\\n",
       "\t26 & 0 & vehicular & 0 & 0 & 0 & 1 & Saturday & 0 \\\\\n",
       "\t27 & 0 & vehicular & 0 & 0 & 1 & 1 & Saturday & 0 \\\\\n",
       "\t28 & 0 & vehicular & 0 & 0 & 0 & 1 & Sunday & 0 \\\\\n",
       "\t29 & 0 & vehicular & 1 & 0 & 1 & 0 & Sunday & 0 \\\\\n",
       "\t30 & 0 & vehicular & 0 & 0 & 1 & 0 & Monday & 0 \\\\\n",
       "\t$\\dots$ & $\\dots$ & $\\dots$ & $\\dots$ & $\\dots$ & $\\dots$ & $\\dots$ & $\\dots$ & $\\dots$ \\\\\n",
       "\\end{tabular}\n"
      ],
      "text/plain": [
       "\u001b[1m2047×8 DataFrame\u001b[0m\n",
       "\u001b[1m  Row \u001b[0m│\u001b[1m arrest \u001b[0m\u001b[1m type       \u001b[0m\u001b[1m v1    \u001b[0m\u001b[1m v2    \u001b[0m\u001b[1m v3    \u001b[0m\u001b[1m v4    \u001b[0m\u001b[1m dayname   \u001b[0m\u001b[1m train \u001b[0m\n",
       "      │\u001b[90m Bool   \u001b[0m\u001b[90m String15   \u001b[0m\u001b[90m Bool  \u001b[0m\u001b[90m Bool  \u001b[0m\u001b[90m Bool  \u001b[0m\u001b[90m Bool  \u001b[0m\u001b[90m Cat…      \u001b[0m\u001b[90m Bool  \u001b[0m\n",
       "──────┼──────────────────────────────────────────────────────────────────\n",
       "    1 │   true  vehicular   false  false  false  false  Tuesday    false\n",
       "    2 │   true  vehicular   false  false  false  false  Sunday     false\n",
       "    3 │  false  vehicular   false  false  false  false  Tuesday    false\n",
       "    4 │   true  vehicular   false  false  false  false  Wednesday  false\n",
       "    5 │  false  vehicular   false   true   true  false  Saturday   false\n",
       "    6 │   true  pedestrian  false  false  false  false  Saturday   false\n",
       "    7 │   true  vehicular   false  false  false  false  Monday     false\n",
       "    8 │  false  vehicular   false   true  false  false  Thursday   false\n",
       "    9 │   true  vehicular   false  false  false  false  Saturday   false\n",
       "   10 │   true  vehicular   false  false  false  false  Saturday   false\n",
       "   11 │   true  pedestrian  false  false  false  false  Saturday   false\n",
       "  ⋮   │   ⋮         ⋮         ⋮      ⋮      ⋮      ⋮        ⋮        ⋮\n",
       " 2038 │  false  vehicular   false  false  false   true  Thursday   false\n",
       " 2039 │  false  vehicular   false  false  false  false  Friday     false\n",
       " 2040 │  false  vehicular   false  false  false   true  Tuesday    false\n",
       " 2041 │  false  vehicular   false  false  false   true  Tuesday    false\n",
       " 2042 │  false  vehicular   false  false  false   true  Tuesday    false\n",
       " 2043 │  false  vehicular   false  false  false   true  Tuesday    false\n",
       " 2044 │  false  vehicular   false  false  false   true  Tuesday    false\n",
       " 2045 │  false  vehicular   false   true   true  false  Thursday   false\n",
       " 2046 │  false  vehicular   false  false   true  false  Friday     false\n",
       " 2047 │  false  vehicular   false  false  false  false  Wednesday  false\n",
       "\u001b[36m                                                        2026 rows omitted\u001b[0m"
      ]
     },
     "execution_count": 55,
     "metadata": {},
     "output_type": "execute_result"
    }
   ],
   "source": [
    "test = subset(owensboro2, :train => ByRow(!))"
   ]
  },
  {
   "cell_type": "code",
   "execution_count": 56,
   "id": "6ccb1930",
   "metadata": {
    "scrolled": true
   },
   "outputs": [
    {
     "data": {
      "text/html": [
       "<div><div style = \"float: left;\"><span>2047×8 DataFrame</span></div><div style = \"float: right;\"><span style = \"font-style: italic;\">2022 rows omitted</span></div><div style = \"clear: both;\"></div></div><div class = \"data-frame\" style = \"overflow-x: scroll;\"><table class = \"data-frame\" style = \"margin-bottom: 6px;\"><thead><tr class = \"header\"><th class = \"rowNumber\" style = \"font-weight: bold; text-align: right;\">Row</th><th style = \"text-align: left;\">arrest</th><th style = \"text-align: left;\">type</th><th style = \"text-align: left;\">v1</th><th style = \"text-align: left;\">v2</th><th style = \"text-align: left;\">v3</th><th style = \"text-align: left;\">v4</th><th style = \"text-align: left;\">dayname</th><th style = \"text-align: left;\">train</th></tr><tr class = \"subheader headerLastRow\"><th class = \"rowNumber\" style = \"font-weight: bold; text-align: right;\"></th><th title = \"Bool\" style = \"text-align: left;\">Bool</th><th title = \"String15\" style = \"text-align: left;\">String15</th><th title = \"Bool\" style = \"text-align: left;\">Bool</th><th title = \"Bool\" style = \"text-align: left;\">Bool</th><th title = \"Bool\" style = \"text-align: left;\">Bool</th><th title = \"Bool\" style = \"text-align: left;\">Bool</th><th title = \"CategoricalValue{String, UInt32}\" style = \"text-align: left;\">Cat…</th><th title = \"Bool\" style = \"text-align: left;\">Bool</th></tr></thead><tbody><tr><td class = \"rowNumber\" style = \"font-weight: bold; text-align: right;\">1</td><td style = \"text-align: right;\">true</td><td style = \"text-align: left;\">vehicular</td><td style = \"text-align: right;\">false</td><td style = \"text-align: right;\">false</td><td style = \"text-align: right;\">false</td><td style = \"text-align: right;\">false</td><td style = \"text-align: left;\">Tuesday</td><td style = \"text-align: right;\">false</td></tr><tr><td class = \"rowNumber\" style = \"font-weight: bold; text-align: right;\">2</td><td style = \"text-align: right;\">true</td><td style = \"text-align: left;\">vehicular</td><td style = \"text-align: right;\">false</td><td style = \"text-align: right;\">false</td><td style = \"text-align: right;\">false</td><td style = \"text-align: right;\">false</td><td style = \"text-align: left;\">Sunday</td><td style = \"text-align: right;\">false</td></tr><tr><td class = \"rowNumber\" style = \"font-weight: bold; text-align: right;\">3</td><td style = \"text-align: right;\">false</td><td style = \"text-align: left;\">vehicular</td><td style = \"text-align: right;\">false</td><td style = \"text-align: right;\">false</td><td style = \"text-align: right;\">false</td><td style = \"text-align: right;\">false</td><td style = \"text-align: left;\">Tuesday</td><td style = \"text-align: right;\">false</td></tr><tr><td class = \"rowNumber\" style = \"font-weight: bold; text-align: right;\">4</td><td style = \"text-align: right;\">true</td><td style = \"text-align: left;\">vehicular</td><td style = \"text-align: right;\">false</td><td style = \"text-align: right;\">false</td><td style = \"text-align: right;\">false</td><td style = \"text-align: right;\">false</td><td style = \"text-align: left;\">Wednesday</td><td style = \"text-align: right;\">false</td></tr><tr><td class = \"rowNumber\" style = \"font-weight: bold; text-align: right;\">5</td><td style = \"text-align: right;\">false</td><td style = \"text-align: left;\">vehicular</td><td style = \"text-align: right;\">false</td><td style = \"text-align: right;\">true</td><td style = \"text-align: right;\">true</td><td style = \"text-align: right;\">false</td><td style = \"text-align: left;\">Saturday</td><td style = \"text-align: right;\">false</td></tr><tr><td class = \"rowNumber\" style = \"font-weight: bold; text-align: right;\">6</td><td style = \"text-align: right;\">true</td><td style = \"text-align: left;\">pedestrian</td><td style = \"text-align: right;\">false</td><td style = \"text-align: right;\">false</td><td style = \"text-align: right;\">false</td><td style = \"text-align: right;\">false</td><td style = \"text-align: left;\">Saturday</td><td style = \"text-align: right;\">false</td></tr><tr><td class = \"rowNumber\" style = \"font-weight: bold; text-align: right;\">7</td><td style = \"text-align: right;\">true</td><td style = \"text-align: left;\">vehicular</td><td style = \"text-align: right;\">false</td><td style = \"text-align: right;\">false</td><td style = \"text-align: right;\">false</td><td style = \"text-align: right;\">false</td><td style = \"text-align: left;\">Monday</td><td style = \"text-align: right;\">false</td></tr><tr><td class = \"rowNumber\" style = \"font-weight: bold; text-align: right;\">8</td><td style = \"text-align: right;\">false</td><td style = \"text-align: left;\">vehicular</td><td style = \"text-align: right;\">false</td><td style = \"text-align: right;\">true</td><td style = \"text-align: right;\">false</td><td style = \"text-align: right;\">false</td><td style = \"text-align: left;\">Thursday</td><td style = \"text-align: right;\">false</td></tr><tr><td class = \"rowNumber\" style = \"font-weight: bold; text-align: right;\">9</td><td style = \"text-align: right;\">true</td><td style = \"text-align: left;\">vehicular</td><td style = \"text-align: right;\">false</td><td style = \"text-align: right;\">false</td><td style = \"text-align: right;\">false</td><td style = \"text-align: right;\">false</td><td style = \"text-align: left;\">Saturday</td><td style = \"text-align: right;\">false</td></tr><tr><td class = \"rowNumber\" style = \"font-weight: bold; text-align: right;\">10</td><td style = \"text-align: right;\">true</td><td style = \"text-align: left;\">vehicular</td><td style = \"text-align: right;\">false</td><td style = \"text-align: right;\">false</td><td style = \"text-align: right;\">false</td><td style = \"text-align: right;\">false</td><td style = \"text-align: left;\">Saturday</td><td style = \"text-align: right;\">false</td></tr><tr><td class = \"rowNumber\" style = \"font-weight: bold; text-align: right;\">11</td><td style = \"text-align: right;\">true</td><td style = \"text-align: left;\">pedestrian</td><td style = \"text-align: right;\">false</td><td style = \"text-align: right;\">false</td><td style = \"text-align: right;\">false</td><td style = \"text-align: right;\">false</td><td style = \"text-align: left;\">Saturday</td><td style = \"text-align: right;\">false</td></tr><tr><td class = \"rowNumber\" style = \"font-weight: bold; text-align: right;\">12</td><td style = \"text-align: right;\">true</td><td style = \"text-align: left;\">vehicular</td><td style = \"text-align: right;\">false</td><td style = \"text-align: right;\">true</td><td style = \"text-align: right;\">true</td><td style = \"text-align: right;\">false</td><td style = \"text-align: left;\">Monday</td><td style = \"text-align: right;\">false</td></tr><tr><td class = \"rowNumber\" style = \"font-weight: bold; text-align: right;\">13</td><td style = \"text-align: right;\">false</td><td style = \"text-align: left;\">vehicular</td><td style = \"text-align: right;\">false</td><td style = \"text-align: right;\">false</td><td style = \"text-align: right;\">false</td><td style = \"text-align: right;\">false</td><td style = \"text-align: left;\">Thursday</td><td style = \"text-align: right;\">false</td></tr><tr><td style = \"text-align: right;\">&vellip;</td><td style = \"text-align: right;\">&vellip;</td><td style = \"text-align: right;\">&vellip;</td><td style = \"text-align: right;\">&vellip;</td><td style = \"text-align: right;\">&vellip;</td><td style = \"text-align: right;\">&vellip;</td><td style = \"text-align: right;\">&vellip;</td><td style = \"text-align: right;\">&vellip;</td><td style = \"text-align: right;\">&vellip;</td></tr><tr><td class = \"rowNumber\" style = \"font-weight: bold; text-align: right;\">2036</td><td style = \"text-align: right;\">false</td><td style = \"text-align: left;\">vehicular</td><td style = \"text-align: right;\">false</td><td style = \"text-align: right;\">false</td><td style = \"text-align: right;\">true</td><td style = \"text-align: right;\">true</td><td style = \"text-align: left;\">Thursday</td><td style = \"text-align: right;\">false</td></tr><tr><td class = \"rowNumber\" style = \"font-weight: bold; text-align: right;\">2037</td><td style = \"text-align: right;\">false</td><td style = \"text-align: left;\">vehicular</td><td style = \"text-align: right;\">false</td><td style = \"text-align: right;\">false</td><td style = \"text-align: right;\">false</td><td style = \"text-align: right;\">true</td><td style = \"text-align: left;\">Thursday</td><td style = \"text-align: right;\">false</td></tr><tr><td class = \"rowNumber\" style = \"font-weight: bold; text-align: right;\">2038</td><td style = \"text-align: right;\">false</td><td style = \"text-align: left;\">vehicular</td><td style = \"text-align: right;\">false</td><td style = \"text-align: right;\">false</td><td style = \"text-align: right;\">false</td><td style = \"text-align: right;\">true</td><td style = \"text-align: left;\">Thursday</td><td style = \"text-align: right;\">false</td></tr><tr><td class = \"rowNumber\" style = \"font-weight: bold; text-align: right;\">2039</td><td style = \"text-align: right;\">false</td><td style = \"text-align: left;\">vehicular</td><td style = \"text-align: right;\">false</td><td style = \"text-align: right;\">false</td><td style = \"text-align: right;\">false</td><td style = \"text-align: right;\">false</td><td style = \"text-align: left;\">Friday</td><td style = \"text-align: right;\">false</td></tr><tr><td class = \"rowNumber\" style = \"font-weight: bold; text-align: right;\">2040</td><td style = \"text-align: right;\">false</td><td style = \"text-align: left;\">vehicular</td><td style = \"text-align: right;\">false</td><td style = \"text-align: right;\">false</td><td style = \"text-align: right;\">false</td><td style = \"text-align: right;\">true</td><td style = \"text-align: left;\">Tuesday</td><td style = \"text-align: right;\">false</td></tr><tr><td class = \"rowNumber\" style = \"font-weight: bold; text-align: right;\">2041</td><td style = \"text-align: right;\">false</td><td style = \"text-align: left;\">vehicular</td><td style = \"text-align: right;\">false</td><td style = \"text-align: right;\">false</td><td style = \"text-align: right;\">false</td><td style = \"text-align: right;\">true</td><td style = \"text-align: left;\">Tuesday</td><td style = \"text-align: right;\">false</td></tr><tr><td class = \"rowNumber\" style = \"font-weight: bold; text-align: right;\">2042</td><td style = \"text-align: right;\">false</td><td style = \"text-align: left;\">vehicular</td><td style = \"text-align: right;\">false</td><td style = \"text-align: right;\">false</td><td style = \"text-align: right;\">false</td><td style = \"text-align: right;\">true</td><td style = \"text-align: left;\">Tuesday</td><td style = \"text-align: right;\">false</td></tr><tr><td class = \"rowNumber\" style = \"font-weight: bold; text-align: right;\">2043</td><td style = \"text-align: right;\">false</td><td style = \"text-align: left;\">vehicular</td><td style = \"text-align: right;\">false</td><td style = \"text-align: right;\">false</td><td style = \"text-align: right;\">false</td><td style = \"text-align: right;\">true</td><td style = \"text-align: left;\">Tuesday</td><td style = \"text-align: right;\">false</td></tr><tr><td class = \"rowNumber\" style = \"font-weight: bold; text-align: right;\">2044</td><td style = \"text-align: right;\">false</td><td style = \"text-align: left;\">vehicular</td><td style = \"text-align: right;\">false</td><td style = \"text-align: right;\">false</td><td style = \"text-align: right;\">false</td><td style = \"text-align: right;\">true</td><td style = \"text-align: left;\">Tuesday</td><td style = \"text-align: right;\">false</td></tr><tr><td class = \"rowNumber\" style = \"font-weight: bold; text-align: right;\">2045</td><td style = \"text-align: right;\">false</td><td style = \"text-align: left;\">vehicular</td><td style = \"text-align: right;\">false</td><td style = \"text-align: right;\">true</td><td style = \"text-align: right;\">true</td><td style = \"text-align: right;\">false</td><td style = \"text-align: left;\">Thursday</td><td style = \"text-align: right;\">false</td></tr><tr><td class = \"rowNumber\" style = \"font-weight: bold; text-align: right;\">2046</td><td style = \"text-align: right;\">false</td><td style = \"text-align: left;\">vehicular</td><td style = \"text-align: right;\">false</td><td style = \"text-align: right;\">false</td><td style = \"text-align: right;\">true</td><td style = \"text-align: right;\">false</td><td style = \"text-align: left;\">Friday</td><td style = \"text-align: right;\">false</td></tr><tr><td class = \"rowNumber\" style = \"font-weight: bold; text-align: right;\">2047</td><td style = \"text-align: right;\">false</td><td style = \"text-align: left;\">vehicular</td><td style = \"text-align: right;\">false</td><td style = \"text-align: right;\">false</td><td style = \"text-align: right;\">false</td><td style = \"text-align: right;\">false</td><td style = \"text-align: left;\">Wednesday</td><td style = \"text-align: right;\">false</td></tr></tbody></table></div>"
      ],
      "text/latex": [
       "\\begin{tabular}{r|cccccccc}\n",
       "\t& arrest & type & v1 & v2 & v3 & v4 & dayname & train\\\\\n",
       "\t\\hline\n",
       "\t& Bool & String15 & Bool & Bool & Bool & Bool & Cat… & Bool\\\\\n",
       "\t\\hline\n",
       "\t1 & 1 & vehicular & 0 & 0 & 0 & 0 & Tuesday & 0 \\\\\n",
       "\t2 & 1 & vehicular & 0 & 0 & 0 & 0 & Sunday & 0 \\\\\n",
       "\t3 & 0 & vehicular & 0 & 0 & 0 & 0 & Tuesday & 0 \\\\\n",
       "\t4 & 1 & vehicular & 0 & 0 & 0 & 0 & Wednesday & 0 \\\\\n",
       "\t5 & 0 & vehicular & 0 & 1 & 1 & 0 & Saturday & 0 \\\\\n",
       "\t6 & 1 & pedestrian & 0 & 0 & 0 & 0 & Saturday & 0 \\\\\n",
       "\t7 & 1 & vehicular & 0 & 0 & 0 & 0 & Monday & 0 \\\\\n",
       "\t8 & 0 & vehicular & 0 & 1 & 0 & 0 & Thursday & 0 \\\\\n",
       "\t9 & 1 & vehicular & 0 & 0 & 0 & 0 & Saturday & 0 \\\\\n",
       "\t10 & 1 & vehicular & 0 & 0 & 0 & 0 & Saturday & 0 \\\\\n",
       "\t11 & 1 & pedestrian & 0 & 0 & 0 & 0 & Saturday & 0 \\\\\n",
       "\t12 & 1 & vehicular & 0 & 1 & 1 & 0 & Monday & 0 \\\\\n",
       "\t13 & 0 & vehicular & 0 & 0 & 0 & 0 & Thursday & 0 \\\\\n",
       "\t14 & 1 & pedestrian & 0 & 0 & 0 & 0 & Friday & 0 \\\\\n",
       "\t15 & 0 & vehicular & 0 & 0 & 0 & 1 & Thursday & 0 \\\\\n",
       "\t16 & 0 & vehicular & 1 & 0 & 0 & 0 & Friday & 0 \\\\\n",
       "\t17 & 1 & pedestrian & 0 & 0 & 0 & 0 & Sunday & 0 \\\\\n",
       "\t18 & 1 & vehicular & 0 & 1 & 0 & 0 & Tuesday & 0 \\\\\n",
       "\t19 & 1 & vehicular & 1 & 0 & 0 & 0 & Thursday & 0 \\\\\n",
       "\t20 & 0 & vehicular & 1 & 0 & 0 & 0 & Friday & 0 \\\\\n",
       "\t21 & 0 & vehicular & 0 & 0 & 0 & 0 & Friday & 0 \\\\\n",
       "\t22 & 1 & vehicular & 0 & 0 & 0 & 0 & Wednesday & 0 \\\\\n",
       "\t23 & 1 & vehicular & 0 & 1 & 0 & 0 & Tuesday & 0 \\\\\n",
       "\t24 & 1 & vehicular & 0 & 1 & 0 & 0 & Wednesday & 0 \\\\\n",
       "\t25 & 0 & vehicular & 0 & 0 & 0 & 1 & Saturday & 0 \\\\\n",
       "\t26 & 0 & vehicular & 0 & 0 & 0 & 1 & Saturday & 0 \\\\\n",
       "\t27 & 0 & vehicular & 0 & 0 & 1 & 1 & Saturday & 0 \\\\\n",
       "\t28 & 0 & vehicular & 0 & 0 & 0 & 1 & Sunday & 0 \\\\\n",
       "\t29 & 0 & vehicular & 1 & 0 & 1 & 0 & Sunday & 0 \\\\\n",
       "\t30 & 0 & vehicular & 0 & 0 & 1 & 0 & Monday & 0 \\\\\n",
       "\t$\\dots$ & $\\dots$ & $\\dots$ & $\\dots$ & $\\dots$ & $\\dots$ & $\\dots$ & $\\dots$ & $\\dots$ \\\\\n",
       "\\end{tabular}\n"
      ],
      "text/plain": [
       "\u001b[1m2047×8 DataFrame\u001b[0m\n",
       "\u001b[1m  Row \u001b[0m│\u001b[1m arrest \u001b[0m\u001b[1m type       \u001b[0m\u001b[1m v1    \u001b[0m\u001b[1m v2    \u001b[0m\u001b[1m v3    \u001b[0m\u001b[1m v4    \u001b[0m\u001b[1m dayname   \u001b[0m\u001b[1m train \u001b[0m\n",
       "      │\u001b[90m Bool   \u001b[0m\u001b[90m String15   \u001b[0m\u001b[90m Bool  \u001b[0m\u001b[90m Bool  \u001b[0m\u001b[90m Bool  \u001b[0m\u001b[90m Bool  \u001b[0m\u001b[90m Cat…      \u001b[0m\u001b[90m Bool  \u001b[0m\n",
       "──────┼──────────────────────────────────────────────────────────────────\n",
       "    1 │   true  vehicular   false  false  false  false  Tuesday    false\n",
       "    2 │   true  vehicular   false  false  false  false  Sunday     false\n",
       "    3 │  false  vehicular   false  false  false  false  Tuesday    false\n",
       "    4 │   true  vehicular   false  false  false  false  Wednesday  false\n",
       "    5 │  false  vehicular   false   true   true  false  Saturday   false\n",
       "    6 │   true  pedestrian  false  false  false  false  Saturday   false\n",
       "    7 │   true  vehicular   false  false  false  false  Monday     false\n",
       "    8 │  false  vehicular   false   true  false  false  Thursday   false\n",
       "    9 │   true  vehicular   false  false  false  false  Saturday   false\n",
       "   10 │   true  vehicular   false  false  false  false  Saturday   false\n",
       "   11 │   true  pedestrian  false  false  false  false  Saturday   false\n",
       "  ⋮   │   ⋮         ⋮         ⋮      ⋮      ⋮      ⋮        ⋮        ⋮\n",
       " 2038 │  false  vehicular   false  false  false   true  Thursday   false\n",
       " 2039 │  false  vehicular   false  false  false  false  Friday     false\n",
       " 2040 │  false  vehicular   false  false  false   true  Tuesday    false\n",
       " 2041 │  false  vehicular   false  false  false   true  Tuesday    false\n",
       " 2042 │  false  vehicular   false  false  false   true  Tuesday    false\n",
       " 2043 │  false  vehicular   false  false  false   true  Tuesday    false\n",
       " 2044 │  false  vehicular   false  false  false   true  Tuesday    false\n",
       " 2045 │  false  vehicular   false   true   true  false  Thursday   false\n",
       " 2046 │  false  vehicular   false  false   true  false  Friday     false\n",
       " 2047 │  false  vehicular   false  false  false  false  Wednesday  false\n",
       "\u001b[36m                                                        2026 rows omitted\u001b[0m"
      ]
     },
     "execution_count": 56,
     "metadata": {},
     "output_type": "execute_result"
    }
   ],
   "source": [
    "owensboro2[.!owensboro2.train, :]"
   ]
  },
  {
   "cell_type": "markdown",
   "id": "92c39494",
   "metadata": {},
   "source": [
    "### Fitting a probit regression model"
   ]
  },
  {
   "cell_type": "code",
   "execution_count": 57,
   "id": "79984326",
   "metadata": {
    "scrolled": false
   },
   "outputs": [
    {
     "data": {
      "text/plain": [
       "StatsModels.TableRegressionModel{GeneralizedLinearModel{GLM.GlmResp{Vector{Float64}, Binomial{Float64}, ProbitLink}, GLM.DensePredChol{Float64, LinearAlgebra.CholeskyPivoted{Float64, Matrix{Float64}, Vector{Int64}}}}, Matrix{Float64}}\n",
       "\n",
       "arrest ~ 1 + dayname + type + v1 + v2 + v3 + v4\n",
       "\n",
       "Coefficients:\n",
       "────────────────────────────────────────────────────────────────────────────────────\n",
       "                         Coef.  Std. Error       z  Pr(>|z|)   Lower 95%   Upper 95%\n",
       "────────────────────────────────────────────────────────────────────────────────────\n",
       "(Intercept)          0.173446    0.122883     1.41    0.1581  -0.0674017   0.414293\n",
       "dayname: Tuesday     0.0561098   0.114122     0.49    0.6230  -0.167564    0.279784\n",
       "dayname: Wednesday   0.0363571   0.112897     0.32    0.7474  -0.184917    0.257632\n",
       "dayname: Thursday    0.0045323   0.114254     0.04    0.9684  -0.219402    0.228466\n",
       "dayname: Friday      0.139859    0.107037     1.31    0.1913  -0.0699307   0.349648\n",
       "dayname: Saturday    0.345174    0.109145     3.16    0.0016   0.131253    0.559095\n",
       "dayname: Sunday      0.600378    0.110818     5.42    <1e-07   0.383179    0.817576\n",
       "type: vehicular     -0.865361    0.102809    -8.42    <1e-16  -1.06686    -0.663859\n",
       "v1                  -1.19015     0.0700972  -16.98    <1e-63  -1.32754    -1.05277\n",
       "v2                  -1.23443     0.0851771  -14.49    <1e-46  -1.40138    -1.06749\n",
       "v3                  -0.204083    0.076922    -2.65    0.0080  -0.354847   -0.0533182\n",
       "v4                  -1.42741     0.120065   -11.89    <1e-31  -1.66274    -1.19209\n",
       "────────────────────────────────────────────────────────────────────────────────────"
      ]
     },
     "execution_count": 57,
     "metadata": {},
     "output_type": "execute_result"
    }
   ],
   "source": [
    "model = glm(@formula(arrest~dayname+type+v1+v2+v3+v4), train, Binomial(), ProbitLink())"
   ]
  },
  {
   "cell_type": "code",
   "execution_count": 58,
   "id": "296d0364",
   "metadata": {
    "scrolled": true
   },
   "outputs": [
    {
     "data": {
      "text/plain": [
       "4832-element Vector{Float64}:\n",
       " 0.5706298046922895\n",
       " 0.09242454625436049\n",
       " 0.46353278149031835\n",
       " 0.2560542184817029\n",
       " 0.030222315822050674\n",
       " 0.06215954544090999\n",
       " 0.2560542184817029\n",
       " 0.46353278149031835\n",
       " 0.2459206974447721\n",
       " 0.3643927717875415\n",
       " 0.5907813212566335\n",
       " 0.46353278149031835\n",
       " 0.030222315822050674\n",
       " ⋮\n",
       " 0.0005702177928235715\n",
       " 0.019545861469089786\n",
       " 0.011685872560092141\n",
       " 0.03710972051664821\n",
       " 0.06300165918017554\n",
       " 0.46353278149031835\n",
       " 0.018626855723945093\n",
       " 0.018626855723945093\n",
       " 0.0005318253423272386\n",
       " 0.018626855723945093\n",
       " 3.278867094677673e-6\n",
       " 0.018626855723945093"
      ]
     },
     "execution_count": 58,
     "metadata": {},
     "output_type": "execute_result"
    }
   ],
   "source": [
    "train.predict = predict(model)"
   ]
  },
  {
   "cell_type": "code",
   "execution_count": 59,
   "id": "65d097a0",
   "metadata": {
    "scrolled": true
   },
   "outputs": [
    {
     "data": {
      "text/plain": [
       "2047-element Vector{Union{Missing, Float64}}:\n",
       " 0.26245158098162025\n",
       " 0.46353278149031835\n",
       " 0.26245158098162025\n",
       " 0.2560542184817029\n",
       " 0.03710972051664823\n",
       " 0.6979868984667122\n",
       " 0.24449525303694958\n",
       " 0.027314380227667585\n",
       " 0.3643927717875415\n",
       " 0.3643927717875415\n",
       " 0.6979868984667122\n",
       " 0.016567979177257462\n",
       " 0.24592069744477216\n",
       " ⋮\n",
       " 0.010200769617471078\n",
       " 0.01722360328165736\n",
       " 0.01722360328165736\n",
       " 0.29045476124625785\n",
       " 0.0195458614690898\n",
       " 0.0195458614690898\n",
       " 0.0195458614690898\n",
       " 0.0195458614690898\n",
       " 0.0195458614690898\n",
       " 0.016755803163227757\n",
       " 0.2247828642543677\n",
       " 0.2560542184817029"
      ]
     },
     "execution_count": 59,
     "metadata": {},
     "output_type": "execute_result"
    }
   ],
   "source": [
    "test.predict = predict(model, test)"
   ]
  },
  {
   "cell_type": "markdown",
   "id": "be25c662",
   "metadata": {},
   "source": [
    "### Evaluating the quality of model's predictions"
   ]
  },
  {
   "cell_type": "code",
   "execution_count": 60,
   "id": "36002664",
   "metadata": {},
   "outputs": [
    {
     "data": {
      "image/png": "[encoded data removed]",
      "image/svg+xml": [
       "<?xml version=\"1.0\" encoding=\"utf-8\"?>\n",
       "<svg xmlns=\"http://www.w3.org/2000/svg\" xmlns:xlink=\"http://www.w3.org/1999/xlink\" width=\"600\" height=\"400\" viewBox=\"0 0 2400 1600\">\n",
       "<defs>\n",
       "  <clipPath id=\"clip990\">\n",
       "    <rect x=\"0\" y=\"0\" width=\"2400\" height=\"1600\"/>\n",
       "  </clipPath>\n",
       "</defs>\n",
       "<path clip-path=\"url(#clip990)\" d=\"M0 1600 L2400 1600 L2400 0 L0 0  Z\" fill=\"#ffffff\" fill-rule=\"evenodd\" fill-opacity=\"1\"/>\n",
       "<defs>\n",
       "  <clipPath id=\"clip991\">\n",
       "    <rect x=\"480\" y=\"0\" width=\"1681\" height=\"1600\"/>\n",
       "  </clipPath>\n",
       "</defs>\n",
       "<path clip-path=\"url(#clip990)\" d=\"M156.598 1486.45 L2352.76 1486.45 L2352.76 47.2441 L156.598 47.2441  Z\" fill=\"#ffffff\" fill-rule=\"evenodd\" fill-opacity=\"1\"/>\n",
       "<defs>\n",
       "  <clipPath id=\"clip992\">\n",
       "    <rect x=\"156\" y=\"47\" width=\"2197\" height=\"1440\"/>\n",
       "  </clipPath>\n",
       "</defs>\n",
       "<polyline clip-path=\"url(#clip992)\" style=\"stroke:#000000; stroke-linecap:round; stroke-linejoin:round; stroke-width:2; stroke-opacity:0.1; fill:none\" points=\"277.391,1486.45 277.391,47.2441 \"/>\n",
       "<polyline clip-path=\"url(#clip992)\" style=\"stroke:#000000; stroke-linecap:round; stroke-linejoin:round; stroke-width:2; stroke-opacity:0.1; fill:none\" points=\"766.034,1486.45 766.034,47.2441 \"/>\n",
       "<polyline clip-path=\"url(#clip992)\" style=\"stroke:#000000; stroke-linecap:round; stroke-linejoin:round; stroke-width:2; stroke-opacity:0.1; fill:none\" points=\"1254.68,1486.45 1254.68,47.2441 \"/>\n",
       "<polyline clip-path=\"url(#clip992)\" style=\"stroke:#000000; stroke-linecap:round; stroke-linejoin:round; stroke-width:2; stroke-opacity:0.1; fill:none\" points=\"1743.32,1486.45 1743.32,47.2441 \"/>\n",
       "<polyline clip-path=\"url(#clip992)\" style=\"stroke:#000000; stroke-linecap:round; stroke-linejoin:round; stroke-width:2; stroke-opacity:0.1; fill:none\" points=\"2231.96,1486.45 2231.96,47.2441 \"/>\n",
       "<polyline clip-path=\"url(#clip990)\" style=\"stroke:#000000; stroke-linecap:round; stroke-linejoin:round; stroke-width:4; stroke-opacity:1; fill:none\" points=\"156.598,1486.45 2352.76,1486.45 \"/>\n",
       "<polyline clip-path=\"url(#clip990)\" style=\"stroke:#000000; stroke-linecap:round; stroke-linejoin:round; stroke-width:4; stroke-opacity:1; fill:none\" points=\"277.391,1486.45 277.391,1467.55 \"/>\n",
       "<polyline clip-path=\"url(#clip990)\" style=\"stroke:#000000; stroke-linecap:round; stroke-linejoin:round; stroke-width:4; stroke-opacity:1; fill:none\" points=\"766.034,1486.45 766.034,1467.55 \"/>\n",
       "<polyline clip-path=\"url(#clip990)\" style=\"stroke:#000000; stroke-linecap:round; stroke-linejoin:round; stroke-width:4; stroke-opacity:1; fill:none\" points=\"1254.68,1486.45 1254.68,1467.55 \"/>\n",
       "<polyline clip-path=\"url(#clip990)\" style=\"stroke:#000000; stroke-linecap:round; stroke-linejoin:round; stroke-width:4; stroke-opacity:1; fill:none\" points=\"1743.32,1486.45 1743.32,1467.55 \"/>\n",
       "<polyline clip-path=\"url(#clip990)\" style=\"stroke:#000000; stroke-linecap:round; stroke-linejoin:round; stroke-width:4; stroke-opacity:1; fill:none\" points=\"2231.96,1486.45 2231.96,1467.55 \"/>\n",
       "<path clip-path=\"url(#clip990)\" d=\"M254.775 1517.37 Q251.164 1517.37 249.335 1520.93 Q247.53 1524.47 247.53 1531.6 Q247.53 1538.71 249.335 1542.27 Q251.164 1545.82 254.775 1545.82 Q258.409 1545.82 260.215 1542.27 Q262.044 1538.71 262.044 1531.6 Q262.044 1524.47 260.215 1520.93 Q258.409 1517.37 254.775 1517.37 M254.775 1513.66 Q260.585 1513.66 263.641 1518.27 Q266.72 1522.85 266.72 1531.6 Q266.72 1540.33 263.641 1544.94 Q260.585 1549.52 254.775 1549.52 Q248.965 1549.52 245.886 1544.94 Q242.831 1540.33 242.831 1531.6 Q242.831 1522.85 245.886 1518.27 Q248.965 1513.66 254.775 1513.66 Z\" fill=\"#000000\" fill-rule=\"nonzero\" fill-opacity=\"1\" /><path clip-path=\"url(#clip990)\" d=\"M274.937 1542.97 L279.821 1542.97 L279.821 1548.85 L274.937 1548.85 L274.937 1542.97 Z\" fill=\"#000000\" fill-rule=\"nonzero\" fill-opacity=\"1\" /><path clip-path=\"url(#clip990)\" d=\"M300.006 1517.37 Q296.395 1517.37 294.567 1520.93 Q292.761 1524.47 292.761 1531.6 Q292.761 1538.71 294.567 1542.27 Q296.395 1545.82 300.006 1545.82 Q303.641 1545.82 305.446 1542.27 Q307.275 1538.71 307.275 1531.6 Q307.275 1524.47 305.446 1520.93 Q303.641 1517.37 300.006 1517.37 M300.006 1513.66 Q305.817 1513.66 308.872 1518.27 Q311.951 1522.85 311.951 1531.6 Q311.951 1540.33 308.872 1544.94 Q305.817 1549.52 300.006 1549.52 Q294.196 1549.52 291.118 1544.94 Q288.062 1540.33 288.062 1531.6 Q288.062 1522.85 291.118 1518.27 Q294.196 1513.66 300.006 1513.66 Z\" fill=\"#000000\" fill-rule=\"nonzero\" fill-opacity=\"1\" /><path clip-path=\"url(#clip990)\" d=\"M744.217 1517.37 Q740.606 1517.37 738.777 1520.93 Q736.972 1524.47 736.972 1531.6 Q736.972 1538.71 738.777 1542.27 Q740.606 1545.82 744.217 1545.82 Q747.851 1545.82 749.657 1542.27 Q751.485 1538.71 751.485 1531.6 Q751.485 1524.47 749.657 1520.93 Q747.851 1517.37 744.217 1517.37 M744.217 1513.66 Q750.027 1513.66 753.083 1518.27 Q756.161 1522.85 756.161 1531.6 Q756.161 1540.33 753.083 1544.94 Q750.027 1549.52 744.217 1549.52 Q738.407 1549.52 735.328 1544.94 Q732.273 1540.33 732.273 1531.6 Q732.273 1522.85 735.328 1518.27 Q738.407 1513.66 744.217 1513.66 Z\" fill=\"#000000\" fill-rule=\"nonzero\" fill-opacity=\"1\" /><path clip-path=\"url(#clip990)\" d=\"M764.379 1542.97 L769.263 1542.97 L769.263 1548.85 L764.379 1548.85 L764.379 1542.97 Z\" fill=\"#000000\" fill-rule=\"nonzero\" fill-opacity=\"1\" /><path clip-path=\"url(#clip990)\" d=\"M783.476 1544.91 L799.795 1544.91 L799.795 1548.85 L777.851 1548.85 L777.851 1544.91 Q780.513 1542.16 785.096 1537.53 Q789.703 1532.88 790.883 1531.53 Q793.129 1529.01 794.008 1527.27 Q794.911 1525.51 794.911 1523.82 Q794.911 1521.07 792.967 1519.33 Q791.045 1517.6 787.944 1517.6 Q785.744 1517.6 783.291 1518.36 Q780.86 1519.13 778.082 1520.68 L778.082 1515.95 Q780.907 1514.82 783.36 1514.24 Q785.814 1513.66 787.851 1513.66 Q793.221 1513.66 796.416 1516.35 Q799.61 1519.03 799.61 1523.52 Q799.61 1525.65 798.8 1527.57 Q798.013 1529.47 795.906 1532.07 Q795.328 1532.74 792.226 1535.95 Q789.124 1539.15 783.476 1544.91 Z\" fill=\"#000000\" fill-rule=\"nonzero\" fill-opacity=\"1\" /><path clip-path=\"url(#clip990)\" d=\"M1231.82 1517.37 Q1228.21 1517.37 1226.38 1520.93 Q1224.57 1524.47 1224.57 1531.6 Q1224.57 1538.71 1226.38 1542.27 Q1228.21 1545.82 1231.82 1545.82 Q1235.45 1545.82 1237.26 1542.27 Q1239.09 1538.71 1239.09 1531.6 Q1239.09 1524.47 1237.26 1520.93 Q1235.45 1517.37 1231.82 1517.37 M1231.82 1513.66 Q1237.63 1513.66 1240.68 1518.27 Q1243.76 1522.85 1243.76 1531.6 Q1243.76 1540.33 1240.68 1544.94 Q1237.63 1549.52 1231.82 1549.52 Q1226.01 1549.52 1222.93 1544.94 Q1219.87 1540.33 1219.87 1531.6 Q1219.87 1522.85 1222.93 1518.27 Q1226.01 1513.66 1231.82 1513.66 Z\" fill=\"#000000\" fill-rule=\"nonzero\" fill-opacity=\"1\" /><path clip-path=\"url(#clip990)\" d=\"M1251.98 1542.97 L1256.86 1542.97 L1256.86 1548.85 L1251.98 1548.85 L1251.98 1542.97 Z\" fill=\"#000000\" fill-rule=\"nonzero\" fill-opacity=\"1\" /><path clip-path=\"url(#clip990)\" d=\"M1279.9 1518.36 L1268.09 1536.81 L1279.9 1536.81 L1279.9 1518.36 M1278.67 1514.29 L1284.55 1514.29 L1284.55 1536.81 L1289.48 1536.81 L1289.48 1540.7 L1284.55 1540.7 L1284.55 1548.85 L1279.9 1548.85 L1279.9 1540.7 L1264.3 1540.7 L1264.3 1536.19 L1278.67 1514.29 Z\" fill=\"#000000\" fill-rule=\"nonzero\" fill-opacity=\"1\" /><path clip-path=\"url(#clip990)\" d=\"M1720.62 1517.37 Q1717.01 1517.37 1715.18 1520.93 Q1713.38 1524.47 1713.38 1531.6 Q1713.38 1538.71 1715.18 1542.27 Q1717.01 1545.82 1720.62 1545.82 Q1724.26 1545.82 1726.06 1542.27 Q1727.89 1538.71 1727.89 1531.6 Q1727.89 1524.47 1726.06 1520.93 Q1724.26 1517.37 1720.62 1517.37 M1720.62 1513.66 Q1726.43 1513.66 1729.49 1518.27 Q1732.57 1522.85 1732.57 1531.6 Q1732.57 1540.33 1729.49 1544.94 Q1726.43 1549.52 1720.62 1549.52 Q1714.81 1549.52 1711.73 1544.94 Q1708.68 1540.33 1708.68 1531.6 Q1708.68 1522.85 1711.73 1518.27 Q1714.81 1513.66 1720.62 1513.66 Z\" fill=\"#000000\" fill-rule=\"nonzero\" fill-opacity=\"1\" /><path clip-path=\"url(#clip990)\" d=\"M1740.79 1542.97 L1745.67 1542.97 L1745.67 1548.85 L1740.79 1548.85 L1740.79 1542.97 Z\" fill=\"#000000\" fill-rule=\"nonzero\" fill-opacity=\"1\" /><path clip-path=\"url(#clip990)\" d=\"M1766.43 1529.7 Q1763.29 1529.7 1761.43 1531.86 Q1759.6 1534.01 1759.6 1537.76 Q1759.6 1541.49 1761.43 1543.66 Q1763.29 1545.82 1766.43 1545.82 Q1769.58 1545.82 1771.41 1543.66 Q1773.26 1541.49 1773.26 1537.76 Q1773.26 1534.01 1771.41 1531.86 Q1769.58 1529.7 1766.43 1529.7 M1775.72 1515.05 L1775.72 1519.31 Q1773.96 1518.48 1772.15 1518.04 Q1770.37 1517.6 1768.61 1517.6 Q1763.98 1517.6 1761.53 1520.72 Q1759.1 1523.85 1758.75 1530.17 Q1760.11 1528.15 1762.17 1527.09 Q1764.23 1526 1766.71 1526 Q1771.92 1526 1774.93 1529.17 Q1777.96 1532.32 1777.96 1537.76 Q1777.96 1543.08 1774.81 1546.3 Q1771.66 1549.52 1766.43 1549.52 Q1760.44 1549.52 1757.27 1544.94 Q1754.1 1540.33 1754.1 1531.6 Q1754.1 1523.41 1757.98 1518.55 Q1761.87 1513.66 1768.42 1513.66 Q1770.18 1513.66 1771.97 1514.01 Q1773.77 1514.36 1775.72 1515.05 Z\" fill=\"#000000\" fill-rule=\"nonzero\" fill-opacity=\"1\" /><path clip-path=\"url(#clip990)\" d=\"M2209.39 1517.37 Q2205.78 1517.37 2203.95 1520.93 Q2202.15 1524.47 2202.15 1531.6 Q2202.15 1538.71 2203.95 1542.27 Q2205.78 1545.82 2209.39 1545.82 Q2213.03 1545.82 2214.83 1542.27 Q2216.66 1538.71 2216.66 1531.6 Q2216.66 1524.47 2214.83 1520.93 Q2213.03 1517.37 2209.39 1517.37 M2209.39 1513.66 Q2215.2 1513.66 2218.26 1518.27 Q2221.34 1522.85 2221.34 1531.6 Q2221.34 1540.33 2218.26 1544.94 Q2215.2 1549.52 2209.39 1549.52 Q2203.58 1549.52 2200.51 1544.94 Q2197.45 1540.33 2197.45 1531.6 Q2197.45 1522.85 2200.51 1518.27 Q2203.58 1513.66 2209.39 1513.66 Z\" fill=\"#000000\" fill-rule=\"nonzero\" fill-opacity=\"1\" /><path clip-path=\"url(#clip990)\" d=\"M2229.56 1542.97 L2234.44 1542.97 L2234.44 1548.85 L2229.56 1548.85 L2229.56 1542.97 Z\" fill=\"#000000\" fill-rule=\"nonzero\" fill-opacity=\"1\" /><path clip-path=\"url(#clip990)\" d=\"M2254.63 1532.44 Q2251.29 1532.44 2249.37 1534.22 Q2247.47 1536 2247.47 1539.13 Q2247.47 1542.25 2249.37 1544.03 Q2251.29 1545.82 2254.63 1545.82 Q2257.96 1545.82 2259.88 1544.03 Q2261.8 1542.23 2261.8 1539.13 Q2261.8 1536 2259.88 1534.22 Q2257.98 1532.44 2254.63 1532.44 M2249.95 1530.45 Q2246.94 1529.7 2245.25 1527.64 Q2243.58 1525.58 2243.58 1522.62 Q2243.58 1518.48 2246.52 1516.07 Q2249.49 1513.66 2254.63 1513.66 Q2259.79 1513.66 2262.73 1516.07 Q2265.67 1518.48 2265.67 1522.62 Q2265.67 1525.58 2263.98 1527.64 Q2262.31 1529.7 2259.32 1530.45 Q2262.7 1531.23 2264.58 1533.52 Q2266.48 1535.82 2266.48 1539.13 Q2266.48 1544.15 2263.4 1546.83 Q2260.34 1549.52 2254.63 1549.52 Q2248.91 1549.52 2245.83 1546.83 Q2242.77 1544.15 2242.77 1539.13 Q2242.77 1535.82 2244.67 1533.52 Q2246.57 1531.23 2249.95 1530.45 M2248.24 1523.06 Q2248.24 1525.75 2249.9 1527.25 Q2251.59 1528.76 2254.63 1528.76 Q2257.63 1528.76 2259.32 1527.25 Q2261.04 1525.75 2261.04 1523.06 Q2261.04 1520.38 2259.32 1518.87 Q2257.63 1517.37 2254.63 1517.37 Q2251.59 1517.37 2249.9 1518.87 Q2248.24 1520.38 2248.24 1523.06 Z\" fill=\"#000000\" fill-rule=\"nonzero\" fill-opacity=\"1\" /><polyline clip-path=\"url(#clip992)\" style=\"stroke:#000000; stroke-linecap:round; stroke-linejoin:round; stroke-width:2; stroke-opacity:0.1; fill:none\" points=\"156.598,1486.45 2352.76,1486.45 \"/>\n",
       "<polyline clip-path=\"url(#clip992)\" style=\"stroke:#000000; stroke-linecap:round; stroke-linejoin:round; stroke-width:2; stroke-opacity:0.1; fill:none\" points=\"156.598,1131.35 2352.76,1131.35 \"/>\n",
       "<polyline clip-path=\"url(#clip992)\" style=\"stroke:#000000; stroke-linecap:round; stroke-linejoin:round; stroke-width:2; stroke-opacity:0.1; fill:none\" points=\"156.598,776.258 2352.76,776.258 \"/>\n",
       "<polyline clip-path=\"url(#clip992)\" style=\"stroke:#000000; stroke-linecap:round; stroke-linejoin:round; stroke-width:2; stroke-opacity:0.1; fill:none\" points=\"156.598,421.163 2352.76,421.163 \"/>\n",
       "<polyline clip-path=\"url(#clip992)\" style=\"stroke:#000000; stroke-linecap:round; stroke-linejoin:round; stroke-width:2; stroke-opacity:0.1; fill:none\" points=\"156.598,66.0675 2352.76,66.0675 \"/>\n",
       "<polyline clip-path=\"url(#clip990)\" style=\"stroke:#000000; stroke-linecap:round; stroke-linejoin:round; stroke-width:4; stroke-opacity:1; fill:none\" points=\"156.598,1486.45 156.598,47.2441 \"/>\n",
       "<polyline clip-path=\"url(#clip990)\" style=\"stroke:#000000; stroke-linecap:round; stroke-linejoin:round; stroke-width:4; stroke-opacity:1; fill:none\" points=\"156.598,1486.45 175.496,1486.45 \"/>\n",
       "<polyline clip-path=\"url(#clip990)\" style=\"stroke:#000000; stroke-linecap:round; stroke-linejoin:round; stroke-width:4; stroke-opacity:1; fill:none\" points=\"156.598,1131.35 175.496,1131.35 \"/>\n",
       "<polyline clip-path=\"url(#clip990)\" style=\"stroke:#000000; stroke-linecap:round; stroke-linejoin:round; stroke-width:4; stroke-opacity:1; fill:none\" points=\"156.598,776.258 175.496,776.258 \"/>\n",
       "<polyline clip-path=\"url(#clip990)\" style=\"stroke:#000000; stroke-linecap:round; stroke-linejoin:round; stroke-width:4; stroke-opacity:1; fill:none\" points=\"156.598,421.163 175.496,421.163 \"/>\n",
       "<polyline clip-path=\"url(#clip990)\" style=\"stroke:#000000; stroke-linecap:round; stroke-linejoin:round; stroke-width:4; stroke-opacity:1; fill:none\" points=\"156.598,66.0675 175.496,66.0675 \"/>\n",
       "<path clip-path=\"url(#clip990)\" d=\"M63.4226 1472.25 Q59.8115 1472.25 57.9828 1475.81 Q56.1773 1479.35 56.1773 1486.48 Q56.1773 1493.59 57.9828 1497.15 Q59.8115 1500.7 63.4226 1500.7 Q67.0569 1500.7 68.8624 1497.15 Q70.6911 1493.59 70.6911 1486.48 Q70.6911 1479.35 68.8624 1475.81 Q67.0569 1472.25 63.4226 1472.25 M63.4226 1468.54 Q69.2328 1468.54 72.2883 1473.15 Q75.367 1477.73 75.367 1486.48 Q75.367 1495.21 72.2883 1499.82 Q69.2328 1504.4 63.4226 1504.4 Q57.6125 1504.4 54.5338 1499.82 Q51.4782 1495.21 51.4782 1486.48 Q51.4782 1477.73 54.5338 1473.15 Q57.6125 1468.54 63.4226 1468.54 Z\" fill=\"#000000\" fill-rule=\"nonzero\" fill-opacity=\"1\" /><path clip-path=\"url(#clip990)\" d=\"M83.5845 1497.85 L88.4688 1497.85 L88.4688 1503.73 L83.5845 1503.73 L83.5845 1497.85 Z\" fill=\"#000000\" fill-rule=\"nonzero\" fill-opacity=\"1\" /><path clip-path=\"url(#clip990)\" d=\"M108.654 1472.25 Q105.043 1472.25 103.214 1475.81 Q101.409 1479.35 101.409 1486.48 Q101.409 1493.59 103.214 1497.15 Q105.043 1500.7 108.654 1500.7 Q112.288 1500.7 114.094 1497.15 Q115.922 1493.59 115.922 1486.48 Q115.922 1479.35 114.094 1475.81 Q112.288 1472.25 108.654 1472.25 M108.654 1468.54 Q114.464 1468.54 117.52 1473.15 Q120.598 1477.73 120.598 1486.48 Q120.598 1495.21 117.52 1499.82 Q114.464 1504.4 108.654 1504.4 Q102.844 1504.4 99.765 1499.82 Q96.7095 1495.21 96.7095 1486.48 Q96.7095 1477.73 99.765 1473.15 Q102.844 1468.54 108.654 1468.54 Z\" fill=\"#000000\" fill-rule=\"nonzero\" fill-opacity=\"1\" /><path clip-path=\"url(#clip990)\" d=\"M65.0198 1117.15 Q61.4087 1117.15 59.58 1120.72 Q57.7745 1124.26 57.7745 1131.39 Q57.7745 1138.49 59.58 1142.06 Q61.4087 1145.6 65.0198 1145.6 Q68.6541 1145.6 70.4596 1142.06 Q72.2883 1138.49 72.2883 1131.39 Q72.2883 1124.26 70.4596 1120.72 Q68.6541 1117.15 65.0198 1117.15 M65.0198 1113.45 Q70.83 1113.45 73.8855 1118.05 Q76.9642 1122.64 76.9642 1131.39 Q76.9642 1140.11 73.8855 1144.72 Q70.83 1149.3 65.0198 1149.3 Q59.2097 1149.3 56.131 1144.72 Q53.0754 1140.11 53.0754 1131.39 Q53.0754 1122.64 56.131 1118.05 Q59.2097 1113.45 65.0198 1113.45 Z\" fill=\"#000000\" fill-rule=\"nonzero\" fill-opacity=\"1\" /><path clip-path=\"url(#clip990)\" d=\"M85.1818 1142.75 L90.066 1142.75 L90.066 1148.63 L85.1818 1148.63 L85.1818 1142.75 Z\" fill=\"#000000\" fill-rule=\"nonzero\" fill-opacity=\"1\" /><path clip-path=\"url(#clip990)\" d=\"M104.279 1144.7 L120.598 1144.7 L120.598 1148.63 L98.6539 1148.63 L98.6539 1144.7 Q101.316 1141.94 105.899 1137.31 Q110.506 1132.66 111.686 1131.32 Q113.932 1128.79 114.811 1127.06 Q115.714 1125.3 115.714 1123.61 Q115.714 1120.86 113.77 1119.12 Q111.848 1117.38 108.746 1117.38 Q106.547 1117.38 104.094 1118.15 Q101.663 1118.91 98.8854 1120.46 L98.8854 1115.74 Q101.709 1114.61 104.163 1114.03 Q106.617 1113.45 108.654 1113.45 Q114.024 1113.45 117.219 1116.13 Q120.413 1118.82 120.413 1123.31 Q120.413 1125.44 119.603 1127.36 Q118.816 1129.26 116.709 1131.85 Q116.131 1132.52 113.029 1135.74 Q109.927 1138.93 104.279 1144.7 Z\" fill=\"#000000\" fill-rule=\"nonzero\" fill-opacity=\"1\" /><path clip-path=\"url(#clip990)\" d=\"M62.9365 762.056 Q59.3254 762.056 57.4967 765.621 Q55.6912 769.163 55.6912 776.292 Q55.6912 783.399 57.4967 786.964 Q59.3254 790.505 62.9365 790.505 Q66.5707 790.505 68.3763 786.964 Q70.205 783.399 70.205 776.292 Q70.205 769.163 68.3763 765.621 Q66.5707 762.056 62.9365 762.056 M62.9365 758.353 Q68.7467 758.353 71.8022 762.959 Q74.8809 767.542 74.8809 776.292 Q74.8809 785.019 71.8022 789.626 Q68.7467 794.209 62.9365 794.209 Q57.1264 794.209 54.0477 789.626 Q50.9921 785.019 50.9921 776.292 Q50.9921 767.542 54.0477 762.959 Q57.1264 758.353 62.9365 758.353 Z\" fill=\"#000000\" fill-rule=\"nonzero\" fill-opacity=\"1\" /><path clip-path=\"url(#clip990)\" d=\"M83.0984 787.658 L87.9827 787.658 L87.9827 793.538 L83.0984 793.538 L83.0984 787.658 Z\" fill=\"#000000\" fill-rule=\"nonzero\" fill-opacity=\"1\" /><path clip-path=\"url(#clip990)\" d=\"M111.015 763.052 L99.2095 781.501 L111.015 781.501 L111.015 763.052 M109.788 758.978 L115.668 758.978 L115.668 781.501 L120.598 781.501 L120.598 785.39 L115.668 785.39 L115.668 793.538 L111.015 793.538 L111.015 785.39 L95.4132 785.39 L95.4132 780.876 L109.788 758.978 Z\" fill=\"#000000\" fill-rule=\"nonzero\" fill-opacity=\"1\" /><path clip-path=\"url(#clip990)\" d=\"M63.2606 406.961 Q59.6495 406.961 57.8208 410.526 Q56.0152 414.068 56.0152 421.197 Q56.0152 428.304 57.8208 431.869 Q59.6495 435.41 63.2606 435.41 Q66.8948 435.41 68.7004 431.869 Q70.5291 428.304 70.5291 421.197 Q70.5291 414.068 68.7004 410.526 Q66.8948 406.961 63.2606 406.961 M63.2606 403.258 Q69.0707 403.258 72.1263 407.864 Q75.205 412.447 75.205 421.197 Q75.205 429.924 72.1263 434.531 Q69.0707 439.114 63.2606 439.114 Q57.4504 439.114 54.3717 434.531 Q51.3162 429.924 51.3162 421.197 Q51.3162 412.447 54.3717 407.864 Q57.4504 403.258 63.2606 403.258 Z\" fill=\"#000000\" fill-rule=\"nonzero\" fill-opacity=\"1\" /><path clip-path=\"url(#clip990)\" d=\"M83.4225 432.563 L88.3067 432.563 L88.3067 438.443 L83.4225 438.443 L83.4225 432.563 Z\" fill=\"#000000\" fill-rule=\"nonzero\" fill-opacity=\"1\" /><path clip-path=\"url(#clip990)\" d=\"M109.071 419.299 Q105.922 419.299 104.071 421.452 Q102.242 423.605 102.242 427.355 Q102.242 431.081 104.071 433.257 Q105.922 435.41 109.071 435.41 Q112.219 435.41 114.047 433.257 Q115.899 431.081 115.899 427.355 Q115.899 423.605 114.047 421.452 Q112.219 419.299 109.071 419.299 M118.353 404.646 L118.353 408.906 Q116.594 408.072 114.788 407.633 Q113.006 407.193 111.246 407.193 Q106.617 407.193 104.163 410.318 Q101.733 413.443 101.385 419.762 Q102.751 417.748 104.811 416.683 Q106.871 415.595 109.348 415.595 Q114.557 415.595 117.566 418.767 Q120.598 421.915 120.598 427.355 Q120.598 432.679 117.45 435.896 Q114.302 439.114 109.071 439.114 Q103.075 439.114 99.9039 434.531 Q96.7326 429.924 96.7326 421.197 Q96.7326 413.003 100.621 408.142 Q104.51 403.258 111.061 403.258 Q112.82 403.258 114.603 403.605 Q116.408 403.952 118.353 404.646 Z\" fill=\"#000000\" fill-rule=\"nonzero\" fill-opacity=\"1\" /><path clip-path=\"url(#clip990)\" d=\"M63.5152 51.8662 Q59.9041 51.8662 58.0754 55.431 Q56.2699 58.9726 56.2699 66.1022 Q56.2699 73.2086 58.0754 76.7734 Q59.9041 80.3151 63.5152 80.3151 Q67.1494 80.3151 68.955 76.7734 Q70.7837 73.2086 70.7837 66.1022 Q70.7837 58.9726 68.955 55.431 Q67.1494 51.8662 63.5152 51.8662 M63.5152 48.1625 Q69.3254 48.1625 72.3809 52.7689 Q75.4596 57.3522 75.4596 66.1022 Q75.4596 74.829 72.3809 79.4355 Q69.3254 84.0188 63.5152 84.0188 Q57.7051 84.0188 54.6264 79.4355 Q51.5708 74.829 51.5708 66.1022 Q51.5708 57.3522 54.6264 52.7689 Q57.7051 48.1625 63.5152 48.1625 Z\" fill=\"#000000\" fill-rule=\"nonzero\" fill-opacity=\"1\" /><path clip-path=\"url(#clip990)\" d=\"M83.6771 77.4679 L88.5614 77.4679 L88.5614 83.3475 L83.6771 83.3475 L83.6771 77.4679 Z\" fill=\"#000000\" fill-rule=\"nonzero\" fill-opacity=\"1\" /><path clip-path=\"url(#clip990)\" d=\"M108.746 66.9355 Q105.413 66.9355 103.492 68.7179 Q101.594 70.5003 101.594 73.6253 Q101.594 76.7503 103.492 78.5327 Q105.413 80.3151 108.746 80.3151 Q112.08 80.3151 114.001 78.5327 Q115.922 76.7271 115.922 73.6253 Q115.922 70.5003 114.001 68.7179 Q112.103 66.9355 108.746 66.9355 M104.071 64.9448 Q101.061 64.2041 99.3715 62.1439 Q97.7048 60.0837 97.7048 57.1208 Q97.7048 52.9773 100.645 50.5699 Q103.608 48.1625 108.746 48.1625 Q113.908 48.1625 116.848 50.5699 Q119.788 52.9773 119.788 57.1208 Q119.788 60.0837 118.098 62.1439 Q116.432 64.2041 113.445 64.9448 Q116.825 65.7318 118.7 68.0235 Q120.598 70.3151 120.598 73.6253 Q120.598 78.6484 117.52 81.3336 Q114.464 84.0188 108.746 84.0188 Q103.029 84.0188 99.9502 81.3336 Q96.8947 78.6484 96.8947 73.6253 Q96.8947 70.3151 98.7928 68.0235 Q100.691 65.7318 104.071 64.9448 M102.358 57.5606 Q102.358 60.2457 104.024 61.7504 Q105.714 63.255 108.746 63.255 Q111.756 63.255 113.445 61.7504 Q115.158 60.2457 115.158 57.5606 Q115.158 54.8754 113.445 53.3708 Q111.756 51.8662 108.746 51.8662 Q105.714 51.8662 104.024 53.3708 Q102.358 54.8754 102.358 57.5606 Z\" fill=\"#000000\" fill-rule=\"nonzero\" fill-opacity=\"1\" /><defs>\n",
       "  <pattern id=\"pattern1\" patternUnits=\"userSpaceOnUse\" x=\"0\" y=\"0\" width=\"32\" height=\"32\">\n",
       "<g transform=\"scale(4)\"><path d=\"M-4,4 l8,-8 M4,12 l8,-8 M-4,12 l16,-16\" style=\"stroke:#009af9; stroke-width:1; stroke-opacity:1\"/></g></pattern>\n",
       "</defs>\n",
       "<path clip-path=\"url(#clip992)\" d=\"M277.391 47.2441 L277.391 1486.45 L521.712 1486.45 L521.712 47.2441 L277.391 47.2441 L277.391 47.2441  Z\" fill=\"url(#pattern1)\"/>\n",
       "<polyline clip-path=\"url(#clip992)\" style=\"stroke:#000000; stroke-linecap:round; stroke-linejoin:round; stroke-width:4; stroke-opacity:1; fill:none\" points=\"277.391,47.2441 277.391,1486.45 521.712,1486.45 521.712,47.2441 277.391,47.2441 \"/>\n",
       "<defs>\n",
       "  <pattern id=\"pattern2\" patternUnits=\"userSpaceOnUse\" x=\"0\" y=\"0\" width=\"32\" height=\"32\">\n",
       "<g transform=\"scale(4)\"><path d=\"M-4,4 l8,-8 M4,12 l8,-8 M-4,12 l16,-16\" style=\"stroke:#009af9; stroke-width:1; stroke-opacity:1\"/></g></pattern>\n",
       "</defs>\n",
       "<path clip-path=\"url(#clip992)\" d=\"M521.712 1459.98 L521.712 1486.45 L766.034 1486.45 L766.034 1459.98 L521.712 1459.98 L521.712 1459.98  Z\" fill=\"url(#pattern2)\"/>\n",
       "<polyline clip-path=\"url(#clip992)\" style=\"stroke:#000000; stroke-linecap:round; stroke-linejoin:round; stroke-width:4; stroke-opacity:1; fill:none\" points=\"521.712,1459.98 521.712,1486.45 766.034,1486.45 766.034,1459.98 521.712,1459.98 \"/>\n",
       "<defs>\n",
       "  <pattern id=\"pattern3\" patternUnits=\"userSpaceOnUse\" x=\"0\" y=\"0\" width=\"32\" height=\"32\">\n",
       "<g transform=\"scale(4)\"><path d=\"M-4,4 l8,-8 M4,12 l8,-8 M-4,12 l16,-16\" style=\"stroke:#009af9; stroke-width:1; stroke-opacity:1\"/></g></pattern>\n",
       "</defs>\n",
       "<path clip-path=\"url(#clip992)\" d=\"M766.034 1269.78 L766.034 1486.45 L1010.36 1486.45 L1010.36 1269.78 L766.034 1269.78 L766.034 1269.78  Z\" fill=\"url(#pattern3)\"/>\n",
       "<polyline clip-path=\"url(#clip992)\" style=\"stroke:#000000; stroke-linecap:round; stroke-linejoin:round; stroke-width:4; stroke-opacity:1; fill:none\" points=\"766.034,1269.78 766.034,1486.45 1010.36,1486.45 1010.36,1269.78 766.034,1269.78 \"/>\n",
       "<defs>\n",
       "  <pattern id=\"pattern4\" patternUnits=\"userSpaceOnUse\" x=\"0\" y=\"0\" width=\"32\" height=\"32\">\n",
       "<g transform=\"scale(4)\"><path d=\"M-4,4 l8,-8 M4,12 l8,-8 M-4,12 l16,-16\" style=\"stroke:#009af9; stroke-width:1; stroke-opacity:1\"/></g></pattern>\n",
       "</defs>\n",
       "<path clip-path=\"url(#clip992)\" d=\"M1010.36 1450.17 L1010.36 1486.45 L1254.68 1486.45 L1254.68 1450.17 L1010.36 1450.17 L1010.36 1450.17  Z\" fill=\"url(#pattern4)\"/>\n",
       "<polyline clip-path=\"url(#clip992)\" style=\"stroke:#000000; stroke-linecap:round; stroke-linejoin:round; stroke-width:4; stroke-opacity:1; fill:none\" points=\"1010.36,1450.17 1010.36,1486.45 1254.68,1486.45 1254.68,1450.17 1010.36,1450.17 \"/>\n",
       "<defs>\n",
       "  <pattern id=\"pattern5\" patternUnits=\"userSpaceOnUse\" x=\"0\" y=\"0\" width=\"32\" height=\"32\">\n",
       "<g transform=\"scale(4)\"><path d=\"M-4,4 l8,-8 M4,12 l8,-8 M-4,12 l16,-16\" style=\"stroke:#009af9; stroke-width:1; stroke-opacity:1\"/></g></pattern>\n",
       "</defs>\n",
       "<path clip-path=\"url(#clip992)\" d=\"M1254.68 1454.1 L1254.68 1486.45 L1499 1486.45 L1499 1454.1 L1254.68 1454.1 L1254.68 1454.1  Z\" fill=\"url(#pattern5)\"/>\n",
       "<polyline clip-path=\"url(#clip992)\" style=\"stroke:#000000; stroke-linecap:round; stroke-linejoin:round; stroke-width:4; stroke-opacity:1; fill:none\" points=\"1254.68,1454.1 1254.68,1486.45 1499,1486.45 1499,1454.1 1254.68,1454.1 \"/>\n",
       "<defs>\n",
       "  <pattern id=\"pattern6\" patternUnits=\"userSpaceOnUse\" x=\"0\" y=\"0\" width=\"32\" height=\"32\">\n",
       "<g transform=\"scale(4)\"><path d=\"M-4,4 l8,-8 M4,12 l8,-8 M-4,12 l16,-16\" style=\"stroke:#009af9; stroke-width:1; stroke-opacity:1\"/></g></pattern>\n",
       "</defs>\n",
       "<path clip-path=\"url(#clip992)\" d=\"M1499 1476.64 L1499 1486.45 L1743.32 1486.45 L1743.32 1476.64 L1499 1476.64 L1499 1476.64  Z\" fill=\"url(#pattern6)\"/>\n",
       "<polyline clip-path=\"url(#clip992)\" style=\"stroke:#000000; stroke-linecap:round; stroke-linejoin:round; stroke-width:4; stroke-opacity:1; fill:none\" points=\"1499,1476.64 1499,1486.45 1743.32,1486.45 1743.32,1476.64 1499,1476.64 \"/>\n",
       "<defs>\n",
       "  <pattern id=\"pattern7\" patternUnits=\"userSpaceOnUse\" x=\"0\" y=\"0\" width=\"32\" height=\"32\">\n",
       "<g transform=\"scale(4)\"><path d=\"M-4,4 l8,-8 M4,12 l8,-8 M-4,12 l16,-16\" style=\"stroke:#009af9; stroke-width:1; stroke-opacity:1\"/></g></pattern>\n",
       "</defs>\n",
       "<path clip-path=\"url(#clip992)\" d=\"M1743.32 1472.72 L1743.32 1486.45 L1987.64 1486.45 L1987.64 1472.72 L1743.32 1472.72 L1743.32 1472.72  Z\" fill=\"url(#pattern7)\"/>\n",
       "<polyline clip-path=\"url(#clip992)\" style=\"stroke:#000000; stroke-linecap:round; stroke-linejoin:round; stroke-width:4; stroke-opacity:1; fill:none\" points=\"1743.32,1472.72 1743.32,1486.45 1987.64,1486.45 1987.64,1472.72 1743.32,1472.72 \"/>\n",
       "<defs>\n",
       "  <pattern id=\"pattern8\" patternUnits=\"userSpaceOnUse\" x=\"0\" y=\"0\" width=\"32\" height=\"32\">\n",
       "<g transform=\"scale(4)\"><path d=\"M-4,4 l8,-8 M4,12 l8,-8 M-4,12 l16,-16\" style=\"stroke:#009af9; stroke-width:1; stroke-opacity:1\"/></g></pattern>\n",
       "</defs>\n",
       "<path clip-path=\"url(#clip992)\" d=\"M1987.64 1485.47 L1987.64 1486.45 L2231.96 1486.45 L2231.96 1485.47 L1987.64 1485.47 L1987.64 1485.47  Z\" fill=\"url(#pattern8)\"/>\n",
       "<polyline clip-path=\"url(#clip992)\" style=\"stroke:#000000; stroke-linecap:round; stroke-linejoin:round; stroke-width:4; stroke-opacity:1; fill:none\" points=\"1987.64,1485.47 1987.64,1486.45 2231.96,1486.45 2231.96,1485.47 1987.64,1485.47 \"/>\n",
       "<circle clip-path=\"url(#clip992)\" style=\"fill:#009af9; stroke:none; fill-opacity:0\" cx=\"399.552\" cy=\"47.2441\" r=\"2\"/>\n",
       "<circle clip-path=\"url(#clip992)\" style=\"fill:#009af9; stroke:none; fill-opacity:0\" cx=\"643.873\" cy=\"1459.98\" r=\"2\"/>\n",
       "<circle clip-path=\"url(#clip992)\" style=\"fill:#009af9; stroke:none; fill-opacity:0\" cx=\"888.195\" cy=\"1269.78\" r=\"2\"/>\n",
       "<circle clip-path=\"url(#clip992)\" style=\"fill:#009af9; stroke:none; fill-opacity:0\" cx=\"1132.52\" cy=\"1450.17\" r=\"2\"/>\n",
       "<circle clip-path=\"url(#clip992)\" style=\"fill:#009af9; stroke:none; fill-opacity:0\" cx=\"1376.84\" cy=\"1454.1\" r=\"2\"/>\n",
       "<circle clip-path=\"url(#clip992)\" style=\"fill:#009af9; stroke:none; fill-opacity:0\" cx=\"1621.16\" cy=\"1476.64\" r=\"2\"/>\n",
       "<circle clip-path=\"url(#clip992)\" style=\"fill:#009af9; stroke:none; fill-opacity:0\" cx=\"1865.48\" cy=\"1472.72\" r=\"2\"/>\n",
       "<circle clip-path=\"url(#clip992)\" style=\"fill:#009af9; stroke:none; fill-opacity:0\" cx=\"2109.8\" cy=\"1485.47\" r=\"2\"/>\n",
       "<path clip-path=\"url(#clip992)\" d=\"M277.391 1215.61 L277.391 1486.45 L521.712 1486.45 L521.712 1215.61 L277.391 1215.61 L277.391 1215.61  Z\" fill=\"#e26f46\" fill-rule=\"evenodd\" fill-opacity=\"0.5\"/>\n",
       "<polyline clip-path=\"url(#clip992)\" style=\"stroke:#000000; stroke-linecap:round; stroke-linejoin:round; stroke-width:4; stroke-opacity:1; fill:none\" points=\"277.391,1215.61 277.391,1486.45 521.712,1486.45 521.712,1215.61 277.391,1215.61 \"/>\n",
       "<path clip-path=\"url(#clip992)\" d=\"M521.712 1426.26 L521.712 1486.45 L766.034 1486.45 L766.034 1426.26 L521.712 1426.26 L521.712 1426.26  Z\" fill=\"#e26f46\" fill-rule=\"evenodd\" fill-opacity=\"0.5\"/>\n",
       "<polyline clip-path=\"url(#clip992)\" style=\"stroke:#000000; stroke-linecap:round; stroke-linejoin:round; stroke-width:4; stroke-opacity:1; fill:none\" points=\"521.712,1426.26 521.712,1486.45 766.034,1486.45 766.034,1426.26 521.712,1426.26 \"/>\n",
       "<path clip-path=\"url(#clip992)\" d=\"M766.034 899.638 L766.034 1486.45 L1010.36 1486.45 L1010.36 899.638 L766.034 899.638 L766.034 899.638  Z\" fill=\"#e26f46\" fill-rule=\"evenodd\" fill-opacity=\"0.5\"/>\n",
       "<polyline clip-path=\"url(#clip992)\" style=\"stroke:#000000; stroke-linecap:round; stroke-linejoin:round; stroke-width:4; stroke-opacity:1; fill:none\" points=\"766.034,899.638 766.034,1486.45 1010.36,1486.45 1010.36,899.638 766.034,899.638 \"/>\n",
       "<path clip-path=\"url(#clip992)\" d=\"M1010.36 1230.66 L1010.36 1486.45 L1254.68 1486.45 L1254.68 1230.66 L1010.36 1230.66 L1010.36 1230.66  Z\" fill=\"#e26f46\" fill-rule=\"evenodd\" fill-opacity=\"0.5\"/>\n",
       "<polyline clip-path=\"url(#clip992)\" style=\"stroke:#000000; stroke-linecap:round; stroke-linejoin:round; stroke-width:4; stroke-opacity:1; fill:none\" points=\"1010.36,1230.66 1010.36,1486.45 1254.68,1486.45 1254.68,1230.66 1010.36,1230.66 \"/>\n",
       "<path clip-path=\"url(#clip992)\" d=\"M1254.68 1260.75 L1254.68 1486.45 L1499 1486.45 L1499 1260.75 L1254.68 1260.75 L1254.68 1260.75  Z\" fill=\"#e26f46\" fill-rule=\"evenodd\" fill-opacity=\"0.5\"/>\n",
       "<polyline clip-path=\"url(#clip992)\" style=\"stroke:#000000; stroke-linecap:round; stroke-linejoin:round; stroke-width:4; stroke-opacity:1; fill:none\" points=\"1254.68,1260.75 1254.68,1486.45 1499,1486.45 1499,1260.75 1254.68,1260.75 \"/>\n",
       "<path clip-path=\"url(#clip992)\" d=\"M1499 1305.89 L1499 1486.45 L1743.32 1486.45 L1743.32 1305.89 L1499 1305.89 L1499 1305.89  Z\" fill=\"#e26f46\" fill-rule=\"evenodd\" fill-opacity=\"0.5\"/>\n",
       "<polyline clip-path=\"url(#clip992)\" style=\"stroke:#000000; stroke-linecap:round; stroke-linejoin:round; stroke-width:4; stroke-opacity:1; fill:none\" points=\"1499,1305.89 1499,1486.45 1743.32,1486.45 1743.32,1305.89 1499,1305.89 \"/>\n",
       "<path clip-path=\"url(#clip992)\" d=\"M1743.32 1328.46 L1743.32 1486.45 L1987.64 1486.45 L1987.64 1328.46 L1743.32 1328.46 L1743.32 1328.46  Z\" fill=\"#e26f46\" fill-rule=\"evenodd\" fill-opacity=\"0.5\"/>\n",
       "<polyline clip-path=\"url(#clip992)\" style=\"stroke:#000000; stroke-linecap:round; stroke-linejoin:round; stroke-width:4; stroke-opacity:1; fill:none\" points=\"1743.32,1328.46 1743.32,1486.45 1987.64,1486.45 1987.64,1328.46 1743.32,1328.46 \"/>\n",
       "<path clip-path=\"url(#clip992)\" d=\"M1987.64 1448.83 L1987.64 1486.45 L2231.96 1486.45 L2231.96 1448.83 L1987.64 1448.83 L1987.64 1448.83  Z\" fill=\"#e26f46\" fill-rule=\"evenodd\" fill-opacity=\"0.5\"/>\n",
       "<polyline clip-path=\"url(#clip992)\" style=\"stroke:#000000; stroke-linecap:round; stroke-linejoin:round; stroke-width:4; stroke-opacity:1; fill:none\" points=\"1987.64,1448.83 1987.64,1486.45 2231.96,1486.45 2231.96,1448.83 1987.64,1448.83 \"/>\n",
       "<circle clip-path=\"url(#clip992)\" style=\"fill:#e26f46; stroke:none; fill-opacity:0\" cx=\"399.552\" cy=\"1215.61\" r=\"2\"/>\n",
       "<circle clip-path=\"url(#clip992)\" style=\"fill:#e26f46; stroke:none; fill-opacity:0\" cx=\"643.873\" cy=\"1426.26\" r=\"2\"/>\n",
       "<circle clip-path=\"url(#clip992)\" style=\"fill:#e26f46; stroke:none; fill-opacity:0\" cx=\"888.195\" cy=\"899.638\" r=\"2\"/>\n",
       "<circle clip-path=\"url(#clip992)\" style=\"fill:#e26f46; stroke:none; fill-opacity:0\" cx=\"1132.52\" cy=\"1230.66\" r=\"2\"/>\n",
       "<circle clip-path=\"url(#clip992)\" style=\"fill:#e26f46; stroke:none; fill-opacity:0\" cx=\"1376.84\" cy=\"1260.75\" r=\"2\"/>\n",
       "<circle clip-path=\"url(#clip992)\" style=\"fill:#e26f46; stroke:none; fill-opacity:0\" cx=\"1621.16\" cy=\"1305.89\" r=\"2\"/>\n",
       "<circle clip-path=\"url(#clip992)\" style=\"fill:#e26f46; stroke:none; fill-opacity:0\" cx=\"1865.48\" cy=\"1328.46\" r=\"2\"/>\n",
       "<circle clip-path=\"url(#clip992)\" style=\"fill:#e26f46; stroke:none; fill-opacity:0\" cx=\"2109.8\" cy=\"1448.83\" r=\"2\"/>\n",
       "<path clip-path=\"url(#clip990)\" d=\"M1950.77 250.738 L2279.55 250.738 L2279.55 95.2176 L1950.77 95.2176  Z\" fill=\"#ffffff\" fill-rule=\"evenodd\" fill-opacity=\"1\"/>\n",
       "<polyline clip-path=\"url(#clip990)\" style=\"stroke:#000000; stroke-linecap:round; stroke-linejoin:round; stroke-width:4; stroke-opacity:1; fill:none\" points=\"1950.77,250.738 2279.55,250.738 2279.55,95.2176 1950.77,95.2176 1950.77,250.738 \"/>\n",
       "<defs>\n",
       "  <pattern id=\"pattern9\" patternUnits=\"userSpaceOnUse\" x=\"0\" y=\"0\" width=\"32\" height=\"32\">\n",
       "<g transform=\"scale(4)\"><path d=\"M-4,4 l8,-8 M4,12 l8,-8 M-4,12 l16,-16\" style=\"stroke:#009af9; stroke-width:1; stroke-opacity:1\"/></g></pattern>\n",
       "</defs>\n",
       "<path clip-path=\"url(#clip990)\" d=\"M1975.17 167.794 L2121.58 167.794 L2121.58 126.322 L1975.17 126.322 L1975.17 167.794  Z\" fill=\"url(#pattern9)\"/>\n",
       "<polyline clip-path=\"url(#clip990)\" style=\"stroke:#000000; stroke-linecap:round; stroke-linejoin:round; stroke-width:4; stroke-opacity:1; fill:none\" points=\"1975.17,167.794 2121.58,167.794 2121.58,126.322 1975.17,126.322 1975.17,167.794 \"/>\n",
       "<path clip-path=\"url(#clip990)\" d=\"M2162.49 128.319 L2162.49 131.861 L2158.41 131.861 Q2156.12 131.861 2155.22 132.787 Q2154.34 133.713 2154.34 136.12 L2154.34 138.412 L2161.35 138.412 L2161.35 141.722 L2154.34 141.722 L2154.34 164.338 L2150.06 164.338 L2150.06 141.722 L2145.98 141.722 L2145.98 138.412 L2150.06 138.412 L2150.06 136.606 Q2150.06 132.278 2152.07 130.31 Q2154.08 128.319 2158.46 128.319 L2162.49 128.319 Z\" fill=\"#000000\" fill-rule=\"nonzero\" fill-opacity=\"1\" /><path clip-path=\"url(#clip990)\" d=\"M2177.83 151.305 Q2172.67 151.305 2170.68 152.486 Q2168.69 153.666 2168.69 156.514 Q2168.69 158.782 2170.17 160.125 Q2171.68 161.444 2174.25 161.444 Q2177.79 161.444 2179.92 158.944 Q2182.07 156.421 2182.07 152.254 L2182.07 151.305 L2177.83 151.305 M2186.33 149.546 L2186.33 164.338 L2182.07 164.338 L2182.07 160.402 Q2180.61 162.763 2178.44 163.898 Q2176.26 165.009 2173.11 165.009 Q2169.13 165.009 2166.77 162.787 Q2164.43 160.541 2164.43 156.791 Q2164.43 152.416 2167.35 150.194 Q2170.29 147.972 2176.1 147.972 L2182.07 147.972 L2182.07 147.555 Q2182.07 144.615 2180.13 143.018 Q2178.2 141.398 2174.71 141.398 Q2172.49 141.398 2170.38 141.93 Q2168.27 142.463 2166.33 143.527 L2166.33 139.592 Q2168.67 138.69 2170.87 138.25 Q2173.07 137.787 2175.15 137.787 Q2180.77 137.787 2183.55 140.703 Q2186.33 143.62 2186.33 149.546 Z\" fill=\"#000000\" fill-rule=\"nonzero\" fill-opacity=\"1\" /><path clip-path=\"url(#clip990)\" d=\"M2195.1 128.319 L2199.36 128.319 L2199.36 164.338 L2195.1 164.338 L2195.1 128.319 Z\" fill=\"#000000\" fill-rule=\"nonzero\" fill-opacity=\"1\" /><path clip-path=\"url(#clip990)\" d=\"M2224.8 139.176 L2224.8 143.203 Q2223 142.277 2221.05 141.815 Q2219.11 141.352 2217.02 141.352 Q2213.85 141.352 2212.26 142.324 Q2210.68 143.296 2210.68 145.24 Q2210.68 146.722 2211.82 147.578 Q2212.95 148.412 2216.38 149.176 L2217.83 149.5 Q2222.37 150.472 2224.27 152.254 Q2226.19 154.014 2226.19 157.185 Q2226.19 160.796 2223.32 162.902 Q2220.47 165.009 2215.47 165.009 Q2213.39 165.009 2211.12 164.592 Q2208.88 164.199 2206.38 163.388 L2206.38 158.99 Q2208.74 160.217 2211.03 160.842 Q2213.32 161.444 2215.57 161.444 Q2218.58 161.444 2220.2 160.426 Q2221.82 159.384 2221.82 157.509 Q2221.82 155.773 2220.64 154.847 Q2219.48 153.921 2215.52 153.064 L2214.04 152.717 Q2210.08 151.884 2208.32 150.171 Q2206.56 148.435 2206.56 145.426 Q2206.56 141.768 2209.15 139.778 Q2211.75 137.787 2216.51 137.787 Q2218.88 137.787 2220.96 138.134 Q2223.04 138.481 2224.8 139.176 Z\" fill=\"#000000\" fill-rule=\"nonzero\" fill-opacity=\"1\" /><path clip-path=\"url(#clip990)\" d=\"M2255.15 150.31 L2255.15 152.393 L2235.57 152.393 Q2235.84 156.791 2238.2 159.106 Q2240.59 161.398 2244.82 161.398 Q2247.28 161.398 2249.57 160.796 Q2251.89 160.194 2254.15 158.99 L2254.15 163.018 Q2251.86 163.99 2249.45 164.5 Q2247.05 165.009 2244.57 165.009 Q2238.37 165.009 2234.73 161.398 Q2231.12 157.787 2231.12 151.629 Q2231.12 145.264 2234.55 141.537 Q2238 137.787 2243.83 137.787 Q2249.06 137.787 2252.09 141.166 Q2255.15 144.523 2255.15 150.31 M2250.89 149.06 Q2250.84 145.565 2248.92 143.481 Q2247.02 141.398 2243.88 141.398 Q2240.31 141.398 2238.16 143.412 Q2236.03 145.426 2235.7 149.083 L2250.89 149.06 Z\" fill=\"#000000\" fill-rule=\"nonzero\" fill-opacity=\"1\" /><path clip-path=\"url(#clip990)\" d=\"M1975.17 219.634 L2121.58 219.634 L2121.58 178.162 L1975.17 178.162 L1975.17 219.634  Z\" fill=\"#e26f46\" fill-rule=\"evenodd\" fill-opacity=\"0.5\"/>\n",
       "<polyline clip-path=\"url(#clip990)\" style=\"stroke:#000000; stroke-linecap:round; stroke-linejoin:round; stroke-width:4; stroke-opacity:1; fill:none\" points=\"1975.17,219.634 2121.58,219.634 2121.58,178.162 1975.17,178.162 1975.17,219.634 \"/>\n",
       "<path clip-path=\"url(#clip990)\" d=\"M2153.39 182.891 L2153.39 190.252 L2162.16 190.252 L2162.16 193.562 L2153.39 193.562 L2153.39 207.636 Q2153.39 210.807 2154.25 211.71 Q2155.13 212.613 2157.79 212.613 L2162.16 212.613 L2162.16 216.178 L2157.79 216.178 Q2152.86 216.178 2150.98 214.349 Q2149.11 212.497 2149.11 207.636 L2149.11 193.562 L2145.98 193.562 L2145.98 190.252 L2149.11 190.252 L2149.11 182.891 L2153.39 182.891 Z\" fill=\"#000000\" fill-rule=\"nonzero\" fill-opacity=\"1\" /><path clip-path=\"url(#clip990)\" d=\"M2182.79 194.233 Q2182.07 193.817 2181.21 193.631 Q2180.38 193.423 2179.36 193.423 Q2175.75 193.423 2173.81 195.784 Q2171.89 198.122 2171.89 202.52 L2171.89 216.178 L2167.6 216.178 L2167.6 190.252 L2171.89 190.252 L2171.89 194.28 Q2173.23 191.918 2175.38 190.784 Q2177.53 189.627 2180.61 189.627 Q2181.05 189.627 2181.58 189.696 Q2182.12 189.743 2182.77 189.858 L2182.79 194.233 Z\" fill=\"#000000\" fill-rule=\"nonzero\" fill-opacity=\"1\" /><path clip-path=\"url(#clip990)\" d=\"M2186.82 205.946 L2186.82 190.252 L2191.08 190.252 L2191.08 205.784 Q2191.08 209.465 2192.51 211.316 Q2193.95 213.145 2196.82 213.145 Q2200.26 213.145 2202.26 210.946 Q2204.27 208.747 2204.27 204.951 L2204.27 190.252 L2208.53 190.252 L2208.53 216.178 L2204.27 216.178 L2204.27 212.196 Q2202.72 214.557 2200.66 215.715 Q2198.62 216.849 2195.91 216.849 Q2191.45 216.849 2189.13 214.071 Q2186.82 211.293 2186.82 205.946 M2197.53 189.627 L2197.53 189.627 Z\" fill=\"#000000\" fill-rule=\"nonzero\" fill-opacity=\"1\" /><path clip-path=\"url(#clip990)\" d=\"M2239.48 202.15 L2239.48 204.233 L2219.89 204.233 Q2220.17 208.631 2222.53 210.946 Q2224.92 213.238 2229.15 213.238 Q2231.61 213.238 2233.9 212.636 Q2236.21 212.034 2238.48 210.83 L2238.48 214.858 Q2236.19 215.83 2233.78 216.34 Q2231.38 216.849 2228.9 216.849 Q2222.7 216.849 2219.06 213.238 Q2215.45 209.627 2215.45 203.469 Q2215.45 197.104 2218.88 193.377 Q2222.32 189.627 2228.16 189.627 Q2233.39 189.627 2236.42 193.006 Q2239.48 196.363 2239.48 202.15 M2235.22 200.9 Q2235.17 197.405 2233.25 195.321 Q2231.35 193.238 2228.2 193.238 Q2224.64 193.238 2222.49 195.252 Q2220.36 197.266 2220.03 200.923 L2235.22 200.9 Z\" fill=\"#000000\" fill-rule=\"nonzero\" fill-opacity=\"1\" /></svg>\n"
      ],
      "text/html": [
       "<?xml version=\"1.0\" encoding=\"utf-8\"?>\n",
       "<svg xmlns=\"http://www.w3.org/2000/svg\" xmlns:xlink=\"http://www.w3.org/1999/xlink\" width=\"600\" height=\"400\" viewBox=\"0 0 2400 1600\">\n",
       "<defs>\n",
       "  <clipPath id=\"clip040\">\n",
       "    <rect x=\"0\" y=\"0\" width=\"2400\" height=\"1600\"/>\n",
       "  </clipPath>\n",
       "</defs>\n",
       "<path clip-path=\"url(#clip040)\" d=\"M0 1600 L2400 1600 L2400 0 L0 0  Z\" fill=\"#ffffff\" fill-rule=\"evenodd\" fill-opacity=\"1\"/>\n",
       "<defs>\n",
       "  <clipPath id=\"clip041\">\n",
       "    <rect x=\"480\" y=\"0\" width=\"1681\" height=\"1600\"/>\n",
       "  </clipPath>\n",
       "</defs>\n",
       "<path clip-path=\"url(#clip040)\" d=\"M156.598 1486.45 L2352.76 1486.45 L2352.76 47.2441 L156.598 47.2441  Z\" fill=\"#ffffff\" fill-rule=\"evenodd\" fill-opacity=\"1\"/>\n",
       "<defs>\n",
       "  <clipPath id=\"clip042\">\n",
       "    <rect x=\"156\" y=\"47\" width=\"2197\" height=\"1440\"/>\n",
       "  </clipPath>\n",
       "</defs>\n",
       "<polyline clip-path=\"url(#clip042)\" style=\"stroke:#000000; stroke-linecap:round; stroke-linejoin:round; stroke-width:2; stroke-opacity:0.1; fill:none\" points=\"277.391,1486.45 277.391,47.2441 \"/>\n",
       "<polyline clip-path=\"url(#clip042)\" style=\"stroke:#000000; stroke-linecap:round; stroke-linejoin:round; stroke-width:2; stroke-opacity:0.1; fill:none\" points=\"766.034,1486.45 766.034,47.2441 \"/>\n",
       "<polyline clip-path=\"url(#clip042)\" style=\"stroke:#000000; stroke-linecap:round; stroke-linejoin:round; stroke-width:2; stroke-opacity:0.1; fill:none\" points=\"1254.68,1486.45 1254.68,47.2441 \"/>\n",
       "<polyline clip-path=\"url(#clip042)\" style=\"stroke:#000000; stroke-linecap:round; stroke-linejoin:round; stroke-width:2; stroke-opacity:0.1; fill:none\" points=\"1743.32,1486.45 1743.32,47.2441 \"/>\n",
       "<polyline clip-path=\"url(#clip042)\" style=\"stroke:#000000; stroke-linecap:round; stroke-linejoin:round; stroke-width:2; stroke-opacity:0.1; fill:none\" points=\"2231.96,1486.45 2231.96,47.2441 \"/>\n",
       "<polyline clip-path=\"url(#clip040)\" style=\"stroke:#000000; stroke-linecap:round; stroke-linejoin:round; stroke-width:4; stroke-opacity:1; fill:none\" points=\"156.598,1486.45 2352.76,1486.45 \"/>\n",
       "<polyline clip-path=\"url(#clip040)\" style=\"stroke:#000000; stroke-linecap:round; stroke-linejoin:round; stroke-width:4; stroke-opacity:1; fill:none\" points=\"277.391,1486.45 277.391,1467.55 \"/>\n",
       "<polyline clip-path=\"url(#clip040)\" style=\"stroke:#000000; stroke-linecap:round; stroke-linejoin:round; stroke-width:4; stroke-opacity:1; fill:none\" points=\"766.034,1486.45 766.034,1467.55 \"/>\n",
       "<polyline clip-path=\"url(#clip040)\" style=\"stroke:#000000; stroke-linecap:round; stroke-linejoin:round; stroke-width:4; stroke-opacity:1; fill:none\" points=\"1254.68,1486.45 1254.68,1467.55 \"/>\n",
       "<polyline clip-path=\"url(#clip040)\" style=\"stroke:#000000; stroke-linecap:round; stroke-linejoin:round; stroke-width:4; stroke-opacity:1; fill:none\" points=\"1743.32,1486.45 1743.32,1467.55 \"/>\n",
       "<polyline clip-path=\"url(#clip040)\" style=\"stroke:#000000; stroke-linecap:round; stroke-linejoin:round; stroke-width:4; stroke-opacity:1; fill:none\" points=\"2231.96,1486.45 2231.96,1467.55 \"/>\n",
       "<path clip-path=\"url(#clip040)\" d=\"M254.775 1517.37 Q251.164 1517.37 249.335 1520.93 Q247.53 1524.47 247.53 1531.6 Q247.53 1538.71 249.335 1542.27 Q251.164 1545.82 254.775 1545.82 Q258.409 1545.82 260.215 1542.27 Q262.044 1538.71 262.044 1531.6 Q262.044 1524.47 260.215 1520.93 Q258.409 1517.37 254.775 1517.37 M254.775 1513.66 Q260.585 1513.66 263.641 1518.27 Q266.72 1522.85 266.72 1531.6 Q266.72 1540.33 263.641 1544.94 Q260.585 1549.52 254.775 1549.52 Q248.965 1549.52 245.886 1544.94 Q242.831 1540.33 242.831 1531.6 Q242.831 1522.85 245.886 1518.27 Q248.965 1513.66 254.775 1513.66 Z\" fill=\"#000000\" fill-rule=\"nonzero\" fill-opacity=\"1\" /><path clip-path=\"url(#clip040)\" d=\"M274.937 1542.97 L279.821 1542.97 L279.821 1548.85 L274.937 1548.85 L274.937 1542.97 Z\" fill=\"#000000\" fill-rule=\"nonzero\" fill-opacity=\"1\" /><path clip-path=\"url(#clip040)\" d=\"M300.006 1517.37 Q296.395 1517.37 294.567 1520.93 Q292.761 1524.47 292.761 1531.6 Q292.761 1538.71 294.567 1542.27 Q296.395 1545.82 300.006 1545.82 Q303.641 1545.82 305.446 1542.27 Q307.275 1538.71 307.275 1531.6 Q307.275 1524.47 305.446 1520.93 Q303.641 1517.37 300.006 1517.37 M300.006 1513.66 Q305.817 1513.66 308.872 1518.27 Q311.951 1522.85 311.951 1531.6 Q311.951 1540.33 308.872 1544.94 Q305.817 1549.52 300.006 1549.52 Q294.196 1549.52 291.118 1544.94 Q288.062 1540.33 288.062 1531.6 Q288.062 1522.85 291.118 1518.27 Q294.196 1513.66 300.006 1513.66 Z\" fill=\"#000000\" fill-rule=\"nonzero\" fill-opacity=\"1\" /><path clip-path=\"url(#clip040)\" d=\"M744.217 1517.37 Q740.606 1517.37 738.777 1520.93 Q736.972 1524.47 736.972 1531.6 Q736.972 1538.71 738.777 1542.27 Q740.606 1545.82 744.217 1545.82 Q747.851 1545.82 749.657 1542.27 Q751.485 1538.71 751.485 1531.6 Q751.485 1524.47 749.657 1520.93 Q747.851 1517.37 744.217 1517.37 M744.217 1513.66 Q750.027 1513.66 753.083 1518.27 Q756.161 1522.85 756.161 1531.6 Q756.161 1540.33 753.083 1544.94 Q750.027 1549.52 744.217 1549.52 Q738.407 1549.52 735.328 1544.94 Q732.273 1540.33 732.273 1531.6 Q732.273 1522.85 735.328 1518.27 Q738.407 1513.66 744.217 1513.66 Z\" fill=\"#000000\" fill-rule=\"nonzero\" fill-opacity=\"1\" /><path clip-path=\"url(#clip040)\" d=\"M764.379 1542.97 L769.263 1542.97 L769.263 1548.85 L764.379 1548.85 L764.379 1542.97 Z\" fill=\"#000000\" fill-rule=\"nonzero\" fill-opacity=\"1\" /><path clip-path=\"url(#clip040)\" d=\"M783.476 1544.91 L799.795 1544.91 L799.795 1548.85 L777.851 1548.85 L777.851 1544.91 Q780.513 1542.16 785.096 1537.53 Q789.703 1532.88 790.883 1531.53 Q793.129 1529.01 794.008 1527.27 Q794.911 1525.51 794.911 1523.82 Q794.911 1521.07 792.967 1519.33 Q791.045 1517.6 787.944 1517.6 Q785.744 1517.6 783.291 1518.36 Q780.86 1519.13 778.082 1520.68 L778.082 1515.95 Q780.907 1514.82 783.36 1514.24 Q785.814 1513.66 787.851 1513.66 Q793.221 1513.66 796.416 1516.35 Q799.61 1519.03 799.61 1523.52 Q799.61 1525.65 798.8 1527.57 Q798.013 1529.47 795.906 1532.07 Q795.328 1532.74 792.226 1535.95 Q789.124 1539.15 783.476 1544.91 Z\" fill=\"#000000\" fill-rule=\"nonzero\" fill-opacity=\"1\" /><path clip-path=\"url(#clip040)\" d=\"M1231.82 1517.37 Q1228.21 1517.37 1226.38 1520.93 Q1224.57 1524.47 1224.57 1531.6 Q1224.57 1538.71 1226.38 1542.27 Q1228.21 1545.82 1231.82 1545.82 Q1235.45 1545.82 1237.26 1542.27 Q1239.09 1538.71 1239.09 1531.6 Q1239.09 1524.47 1237.26 1520.93 Q1235.45 1517.37 1231.82 1517.37 M1231.82 1513.66 Q1237.63 1513.66 1240.68 1518.27 Q1243.76 1522.85 1243.76 1531.6 Q1243.76 1540.33 1240.68 1544.94 Q1237.63 1549.52 1231.82 1549.52 Q1226.01 1549.52 1222.93 1544.94 Q1219.87 1540.33 1219.87 1531.6 Q1219.87 1522.85 1222.93 1518.27 Q1226.01 1513.66 1231.82 1513.66 Z\" fill=\"#000000\" fill-rule=\"nonzero\" fill-opacity=\"1\" /><path clip-path=\"url(#clip040)\" d=\"M1251.98 1542.97 L1256.86 1542.97 L1256.86 1548.85 L1251.98 1548.85 L1251.98 1542.97 Z\" fill=\"#000000\" fill-rule=\"nonzero\" fill-opacity=\"1\" /><path clip-path=\"url(#clip040)\" d=\"M1279.9 1518.36 L1268.09 1536.81 L1279.9 1536.81 L1279.9 1518.36 M1278.67 1514.29 L1284.55 1514.29 L1284.55 1536.81 L1289.48 1536.81 L1289.48 1540.7 L1284.55 1540.7 L1284.55 1548.85 L1279.9 1548.85 L1279.9 1540.7 L1264.3 1540.7 L1264.3 1536.19 L1278.67 1514.29 Z\" fill=\"#000000\" fill-rule=\"nonzero\" fill-opacity=\"1\" /><path clip-path=\"url(#clip040)\" d=\"M1720.62 1517.37 Q1717.01 1517.37 1715.18 1520.93 Q1713.38 1524.47 1713.38 1531.6 Q1713.38 1538.71 1715.18 1542.27 Q1717.01 1545.82 1720.62 1545.82 Q1724.26 1545.82 1726.06 1542.27 Q1727.89 1538.71 1727.89 1531.6 Q1727.89 1524.47 1726.06 1520.93 Q1724.26 1517.37 1720.62 1517.37 M1720.62 1513.66 Q1726.43 1513.66 1729.49 1518.27 Q1732.57 1522.85 1732.57 1531.6 Q1732.57 1540.33 1729.49 1544.94 Q1726.43 1549.52 1720.62 1549.52 Q1714.81 1549.52 1711.73 1544.94 Q1708.68 1540.33 1708.68 1531.6 Q1708.68 1522.85 1711.73 1518.27 Q1714.81 1513.66 1720.62 1513.66 Z\" fill=\"#000000\" fill-rule=\"nonzero\" fill-opacity=\"1\" /><path clip-path=\"url(#clip040)\" d=\"M1740.79 1542.97 L1745.67 1542.97 L1745.67 1548.85 L1740.79 1548.85 L1740.79 1542.97 Z\" fill=\"#000000\" fill-rule=\"nonzero\" fill-opacity=\"1\" /><path clip-path=\"url(#clip040)\" d=\"M1766.43 1529.7 Q1763.29 1529.7 1761.43 1531.86 Q1759.6 1534.01 1759.6 1537.76 Q1759.6 1541.49 1761.43 1543.66 Q1763.29 1545.82 1766.43 1545.82 Q1769.58 1545.82 1771.41 1543.66 Q1773.26 1541.49 1773.26 1537.76 Q1773.26 1534.01 1771.41 1531.86 Q1769.58 1529.7 1766.43 1529.7 M1775.72 1515.05 L1775.72 1519.31 Q1773.96 1518.48 1772.15 1518.04 Q1770.37 1517.6 1768.61 1517.6 Q1763.98 1517.6 1761.53 1520.72 Q1759.1 1523.85 1758.75 1530.17 Q1760.11 1528.15 1762.17 1527.09 Q1764.23 1526 1766.71 1526 Q1771.92 1526 1774.93 1529.17 Q1777.96 1532.32 1777.96 1537.76 Q1777.96 1543.08 1774.81 1546.3 Q1771.66 1549.52 1766.43 1549.52 Q1760.44 1549.52 1757.27 1544.94 Q1754.1 1540.33 1754.1 1531.6 Q1754.1 1523.41 1757.98 1518.55 Q1761.87 1513.66 1768.42 1513.66 Q1770.18 1513.66 1771.97 1514.01 Q1773.77 1514.36 1775.72 1515.05 Z\" fill=\"#000000\" fill-rule=\"nonzero\" fill-opacity=\"1\" /><path clip-path=\"url(#clip040)\" d=\"M2209.39 1517.37 Q2205.78 1517.37 2203.95 1520.93 Q2202.15 1524.47 2202.15 1531.6 Q2202.15 1538.71 2203.95 1542.27 Q2205.78 1545.82 2209.39 1545.82 Q2213.03 1545.82 2214.83 1542.27 Q2216.66 1538.71 2216.66 1531.6 Q2216.66 1524.47 2214.83 1520.93 Q2213.03 1517.37 2209.39 1517.37 M2209.39 1513.66 Q2215.2 1513.66 2218.26 1518.27 Q2221.34 1522.85 2221.34 1531.6 Q2221.34 1540.33 2218.26 1544.94 Q2215.2 1549.52 2209.39 1549.52 Q2203.58 1549.52 2200.51 1544.94 Q2197.45 1540.33 2197.45 1531.6 Q2197.45 1522.85 2200.51 1518.27 Q2203.58 1513.66 2209.39 1513.66 Z\" fill=\"#000000\" fill-rule=\"nonzero\" fill-opacity=\"1\" /><path clip-path=\"url(#clip040)\" d=\"M2229.56 1542.97 L2234.44 1542.97 L2234.44 1548.85 L2229.56 1548.85 L2229.56 1542.97 Z\" fill=\"#000000\" fill-rule=\"nonzero\" fill-opacity=\"1\" /><path clip-path=\"url(#clip040)\" d=\"M2254.63 1532.44 Q2251.29 1532.44 2249.37 1534.22 Q2247.47 1536 2247.47 1539.13 Q2247.47 1542.25 2249.37 1544.03 Q2251.29 1545.82 2254.63 1545.82 Q2257.96 1545.82 2259.88 1544.03 Q2261.8 1542.23 2261.8 1539.13 Q2261.8 1536 2259.88 1534.22 Q2257.98 1532.44 2254.63 1532.44 M2249.95 1530.45 Q2246.94 1529.7 2245.25 1527.64 Q2243.58 1525.58 2243.58 1522.62 Q2243.58 1518.48 2246.52 1516.07 Q2249.49 1513.66 2254.63 1513.66 Q2259.79 1513.66 2262.73 1516.07 Q2265.67 1518.48 2265.67 1522.62 Q2265.67 1525.58 2263.98 1527.64 Q2262.31 1529.7 2259.32 1530.45 Q2262.7 1531.23 2264.58 1533.52 Q2266.48 1535.82 2266.48 1539.13 Q2266.48 1544.15 2263.4 1546.83 Q2260.34 1549.52 2254.63 1549.52 Q2248.91 1549.52 2245.83 1546.83 Q2242.77 1544.15 2242.77 1539.13 Q2242.77 1535.82 2244.67 1533.52 Q2246.57 1531.23 2249.95 1530.45 M2248.24 1523.06 Q2248.24 1525.75 2249.9 1527.25 Q2251.59 1528.76 2254.63 1528.76 Q2257.63 1528.76 2259.32 1527.25 Q2261.04 1525.75 2261.04 1523.06 Q2261.04 1520.38 2259.32 1518.87 Q2257.63 1517.37 2254.63 1517.37 Q2251.59 1517.37 2249.9 1518.87 Q2248.24 1520.38 2248.24 1523.06 Z\" fill=\"#000000\" fill-rule=\"nonzero\" fill-opacity=\"1\" /><polyline clip-path=\"url(#clip042)\" style=\"stroke:#000000; stroke-linecap:round; stroke-linejoin:round; stroke-width:2; stroke-opacity:0.1; fill:none\" points=\"156.598,1486.45 2352.76,1486.45 \"/>\n",
       "<polyline clip-path=\"url(#clip042)\" style=\"stroke:#000000; stroke-linecap:round; stroke-linejoin:round; stroke-width:2; stroke-opacity:0.1; fill:none\" points=\"156.598,1131.35 2352.76,1131.35 \"/>\n",
       "<polyline clip-path=\"url(#clip042)\" style=\"stroke:#000000; stroke-linecap:round; stroke-linejoin:round; stroke-width:2; stroke-opacity:0.1; fill:none\" points=\"156.598,776.258 2352.76,776.258 \"/>\n",
       "<polyline clip-path=\"url(#clip042)\" style=\"stroke:#000000; stroke-linecap:round; stroke-linejoin:round; stroke-width:2; stroke-opacity:0.1; fill:none\" points=\"156.598,421.163 2352.76,421.163 \"/>\n",
       "<polyline clip-path=\"url(#clip042)\" style=\"stroke:#000000; stroke-linecap:round; stroke-linejoin:round; stroke-width:2; stroke-opacity:0.1; fill:none\" points=\"156.598,66.0675 2352.76,66.0675 \"/>\n",
       "<polyline clip-path=\"url(#clip040)\" style=\"stroke:#000000; stroke-linecap:round; stroke-linejoin:round; stroke-width:4; stroke-opacity:1; fill:none\" points=\"156.598,1486.45 156.598,47.2441 \"/>\n",
       "<polyline clip-path=\"url(#clip040)\" style=\"stroke:#000000; stroke-linecap:round; stroke-linejoin:round; stroke-width:4; stroke-opacity:1; fill:none\" points=\"156.598,1486.45 175.496,1486.45 \"/>\n",
       "<polyline clip-path=\"url(#clip040)\" style=\"stroke:#000000; stroke-linecap:round; stroke-linejoin:round; stroke-width:4; stroke-opacity:1; fill:none\" points=\"156.598,1131.35 175.496,1131.35 \"/>\n",
       "<polyline clip-path=\"url(#clip040)\" style=\"stroke:#000000; stroke-linecap:round; stroke-linejoin:round; stroke-width:4; stroke-opacity:1; fill:none\" points=\"156.598,776.258 175.496,776.258 \"/>\n",
       "<polyline clip-path=\"url(#clip040)\" style=\"stroke:#000000; stroke-linecap:round; stroke-linejoin:round; stroke-width:4; stroke-opacity:1; fill:none\" points=\"156.598,421.163 175.496,421.163 \"/>\n",
       "<polyline clip-path=\"url(#clip040)\" style=\"stroke:#000000; stroke-linecap:round; stroke-linejoin:round; stroke-width:4; stroke-opacity:1; fill:none\" points=\"156.598,66.0675 175.496,66.0675 \"/>\n",
       "<path clip-path=\"url(#clip040)\" d=\"M63.4226 1472.25 Q59.8115 1472.25 57.9828 1475.81 Q56.1773 1479.35 56.1773 1486.48 Q56.1773 1493.59 57.9828 1497.15 Q59.8115 1500.7 63.4226 1500.7 Q67.0569 1500.7 68.8624 1497.15 Q70.6911 1493.59 70.6911 1486.48 Q70.6911 1479.35 68.8624 1475.81 Q67.0569 1472.25 63.4226 1472.25 M63.4226 1468.54 Q69.2328 1468.54 72.2883 1473.15 Q75.367 1477.73 75.367 1486.48 Q75.367 1495.21 72.2883 1499.82 Q69.2328 1504.4 63.4226 1504.4 Q57.6125 1504.4 54.5338 1499.82 Q51.4782 1495.21 51.4782 1486.48 Q51.4782 1477.73 54.5338 1473.15 Q57.6125 1468.54 63.4226 1468.54 Z\" fill=\"#000000\" fill-rule=\"nonzero\" fill-opacity=\"1\" /><path clip-path=\"url(#clip040)\" d=\"M83.5845 1497.85 L88.4688 1497.85 L88.4688 1503.73 L83.5845 1503.73 L83.5845 1497.85 Z\" fill=\"#000000\" fill-rule=\"nonzero\" fill-opacity=\"1\" /><path clip-path=\"url(#clip040)\" d=\"M108.654 1472.25 Q105.043 1472.25 103.214 1475.81 Q101.409 1479.35 101.409 1486.48 Q101.409 1493.59 103.214 1497.15 Q105.043 1500.7 108.654 1500.7 Q112.288 1500.7 114.094 1497.15 Q115.922 1493.59 115.922 1486.48 Q115.922 1479.35 114.094 1475.81 Q112.288 1472.25 108.654 1472.25 M108.654 1468.54 Q114.464 1468.54 117.52 1473.15 Q120.598 1477.73 120.598 1486.48 Q120.598 1495.21 117.52 1499.82 Q114.464 1504.4 108.654 1504.4 Q102.844 1504.4 99.765 1499.82 Q96.7095 1495.21 96.7095 1486.48 Q96.7095 1477.73 99.765 1473.15 Q102.844 1468.54 108.654 1468.54 Z\" fill=\"#000000\" fill-rule=\"nonzero\" fill-opacity=\"1\" /><path clip-path=\"url(#clip040)\" d=\"M65.0198 1117.15 Q61.4087 1117.15 59.58 1120.72 Q57.7745 1124.26 57.7745 1131.39 Q57.7745 1138.49 59.58 1142.06 Q61.4087 1145.6 65.0198 1145.6 Q68.6541 1145.6 70.4596 1142.06 Q72.2883 1138.49 72.2883 1131.39 Q72.2883 1124.26 70.4596 1120.72 Q68.6541 1117.15 65.0198 1117.15 M65.0198 1113.45 Q70.83 1113.45 73.8855 1118.05 Q76.9642 1122.64 76.9642 1131.39 Q76.9642 1140.11 73.8855 1144.72 Q70.83 1149.3 65.0198 1149.3 Q59.2097 1149.3 56.131 1144.72 Q53.0754 1140.11 53.0754 1131.39 Q53.0754 1122.64 56.131 1118.05 Q59.2097 1113.45 65.0198 1113.45 Z\" fill=\"#000000\" fill-rule=\"nonzero\" fill-opacity=\"1\" /><path clip-path=\"url(#clip040)\" d=\"M85.1818 1142.75 L90.066 1142.75 L90.066 1148.63 L85.1818 1148.63 L85.1818 1142.75 Z\" fill=\"#000000\" fill-rule=\"nonzero\" fill-opacity=\"1\" /><path clip-path=\"url(#clip040)\" d=\"M104.279 1144.7 L120.598 1144.7 L120.598 1148.63 L98.6539 1148.63 L98.6539 1144.7 Q101.316 1141.94 105.899 1137.31 Q110.506 1132.66 111.686 1131.32 Q113.932 1128.79 114.811 1127.06 Q115.714 1125.3 115.714 1123.61 Q115.714 1120.86 113.77 1119.12 Q111.848 1117.38 108.746 1117.38 Q106.547 1117.38 104.094 1118.15 Q101.663 1118.91 98.8854 1120.46 L98.8854 1115.74 Q101.709 1114.61 104.163 1114.03 Q106.617 1113.45 108.654 1113.45 Q114.024 1113.45 117.219 1116.13 Q120.413 1118.82 120.413 1123.31 Q120.413 1125.44 119.603 1127.36 Q118.816 1129.26 116.709 1131.85 Q116.131 1132.52 113.029 1135.74 Q109.927 1138.93 104.279 1144.7 Z\" fill=\"#000000\" fill-rule=\"nonzero\" fill-opacity=\"1\" /><path clip-path=\"url(#clip040)\" d=\"M62.9365 762.056 Q59.3254 762.056 57.4967 765.621 Q55.6912 769.163 55.6912 776.292 Q55.6912 783.399 57.4967 786.964 Q59.3254 790.505 62.9365 790.505 Q66.5707 790.505 68.3763 786.964 Q70.205 783.399 70.205 776.292 Q70.205 769.163 68.3763 765.621 Q66.5707 762.056 62.9365 762.056 M62.9365 758.353 Q68.7467 758.353 71.8022 762.959 Q74.8809 767.542 74.8809 776.292 Q74.8809 785.019 71.8022 789.626 Q68.7467 794.209 62.9365 794.209 Q57.1264 794.209 54.0477 789.626 Q50.9921 785.019 50.9921 776.292 Q50.9921 767.542 54.0477 762.959 Q57.1264 758.353 62.9365 758.353 Z\" fill=\"#000000\" fill-rule=\"nonzero\" fill-opacity=\"1\" /><path clip-path=\"url(#clip040)\" d=\"M83.0984 787.658 L87.9827 787.658 L87.9827 793.538 L83.0984 793.538 L83.0984 787.658 Z\" fill=\"#000000\" fill-rule=\"nonzero\" fill-opacity=\"1\" /><path clip-path=\"url(#clip040)\" d=\"M111.015 763.052 L99.2095 781.501 L111.015 781.501 L111.015 763.052 M109.788 758.978 L115.668 758.978 L115.668 781.501 L120.598 781.501 L120.598 785.39 L115.668 785.39 L115.668 793.538 L111.015 793.538 L111.015 785.39 L95.4132 785.39 L95.4132 780.876 L109.788 758.978 Z\" fill=\"#000000\" fill-rule=\"nonzero\" fill-opacity=\"1\" /><path clip-path=\"url(#clip040)\" d=\"M63.2606 406.961 Q59.6495 406.961 57.8208 410.526 Q56.0152 414.068 56.0152 421.197 Q56.0152 428.304 57.8208 431.869 Q59.6495 435.41 63.2606 435.41 Q66.8948 435.41 68.7004 431.869 Q70.5291 428.304 70.5291 421.197 Q70.5291 414.068 68.7004 410.526 Q66.8948 406.961 63.2606 406.961 M63.2606 403.258 Q69.0707 403.258 72.1263 407.864 Q75.205 412.447 75.205 421.197 Q75.205 429.924 72.1263 434.531 Q69.0707 439.114 63.2606 439.114 Q57.4504 439.114 54.3717 434.531 Q51.3162 429.924 51.3162 421.197 Q51.3162 412.447 54.3717 407.864 Q57.4504 403.258 63.2606 403.258 Z\" fill=\"#000000\" fill-rule=\"nonzero\" fill-opacity=\"1\" /><path clip-path=\"url(#clip040)\" d=\"M83.4225 432.563 L88.3067 432.563 L88.3067 438.443 L83.4225 438.443 L83.4225 432.563 Z\" fill=\"#000000\" fill-rule=\"nonzero\" fill-opacity=\"1\" /><path clip-path=\"url(#clip040)\" d=\"M109.071 419.299 Q105.922 419.299 104.071 421.452 Q102.242 423.605 102.242 427.355 Q102.242 431.081 104.071 433.257 Q105.922 435.41 109.071 435.41 Q112.219 435.41 114.047 433.257 Q115.899 431.081 115.899 427.355 Q115.899 423.605 114.047 421.452 Q112.219 419.299 109.071 419.299 M118.353 404.646 L118.353 408.906 Q116.594 408.072 114.788 407.633 Q113.006 407.193 111.246 407.193 Q106.617 407.193 104.163 410.318 Q101.733 413.443 101.385 419.762 Q102.751 417.748 104.811 416.683 Q106.871 415.595 109.348 415.595 Q114.557 415.595 117.566 418.767 Q120.598 421.915 120.598 427.355 Q120.598 432.679 117.45 435.896 Q114.302 439.114 109.071 439.114 Q103.075 439.114 99.9039 434.531 Q96.7326 429.924 96.7326 421.197 Q96.7326 413.003 100.621 408.142 Q104.51 403.258 111.061 403.258 Q112.82 403.258 114.603 403.605 Q116.408 403.952 118.353 404.646 Z\" fill=\"#000000\" fill-rule=\"nonzero\" fill-opacity=\"1\" /><path clip-path=\"url(#clip040)\" d=\"M63.5152 51.8662 Q59.9041 51.8662 58.0754 55.431 Q56.2699 58.9726 56.2699 66.1022 Q56.2699 73.2086 58.0754 76.7734 Q59.9041 80.3151 63.5152 80.3151 Q67.1494 80.3151 68.955 76.7734 Q70.7837 73.2086 70.7837 66.1022 Q70.7837 58.9726 68.955 55.431 Q67.1494 51.8662 63.5152 51.8662 M63.5152 48.1625 Q69.3254 48.1625 72.3809 52.7689 Q75.4596 57.3522 75.4596 66.1022 Q75.4596 74.829 72.3809 79.4355 Q69.3254 84.0188 63.5152 84.0188 Q57.7051 84.0188 54.6264 79.4355 Q51.5708 74.829 51.5708 66.1022 Q51.5708 57.3522 54.6264 52.7689 Q57.7051 48.1625 63.5152 48.1625 Z\" fill=\"#000000\" fill-rule=\"nonzero\" fill-opacity=\"1\" /><path clip-path=\"url(#clip040)\" d=\"M83.6771 77.4679 L88.5614 77.4679 L88.5614 83.3475 L83.6771 83.3475 L83.6771 77.4679 Z\" fill=\"#000000\" fill-rule=\"nonzero\" fill-opacity=\"1\" /><path clip-path=\"url(#clip040)\" d=\"M108.746 66.9355 Q105.413 66.9355 103.492 68.7179 Q101.594 70.5003 101.594 73.6253 Q101.594 76.7503 103.492 78.5327 Q105.413 80.3151 108.746 80.3151 Q112.08 80.3151 114.001 78.5327 Q115.922 76.7271 115.922 73.6253 Q115.922 70.5003 114.001 68.7179 Q112.103 66.9355 108.746 66.9355 M104.071 64.9448 Q101.061 64.2041 99.3715 62.1439 Q97.7048 60.0837 97.7048 57.1208 Q97.7048 52.9773 100.645 50.5699 Q103.608 48.1625 108.746 48.1625 Q113.908 48.1625 116.848 50.5699 Q119.788 52.9773 119.788 57.1208 Q119.788 60.0837 118.098 62.1439 Q116.432 64.2041 113.445 64.9448 Q116.825 65.7318 118.7 68.0235 Q120.598 70.3151 120.598 73.6253 Q120.598 78.6484 117.52 81.3336 Q114.464 84.0188 108.746 84.0188 Q103.029 84.0188 99.9502 81.3336 Q96.8947 78.6484 96.8947 73.6253 Q96.8947 70.3151 98.7928 68.0235 Q100.691 65.7318 104.071 64.9448 M102.358 57.5606 Q102.358 60.2457 104.024 61.7504 Q105.714 63.255 108.746 63.255 Q111.756 63.255 113.445 61.7504 Q115.158 60.2457 115.158 57.5606 Q115.158 54.8754 113.445 53.3708 Q111.756 51.8662 108.746 51.8662 Q105.714 51.8662 104.024 53.3708 Q102.358 54.8754 102.358 57.5606 Z\" fill=\"#000000\" fill-rule=\"nonzero\" fill-opacity=\"1\" /><defs>\n",
       "  <pattern id=\"pattern1\" patternUnits=\"userSpaceOnUse\" x=\"0\" y=\"0\" width=\"32\" height=\"32\">\n",
       "<g transform=\"scale(4)\"><path d=\"M-4,4 l8,-8 M4,12 l8,-8 M-4,12 l16,-16\" style=\"stroke:#009af9; stroke-width:1; stroke-opacity:1\"/></g></pattern>\n",
       "</defs>\n",
       "<path clip-path=\"url(#clip042)\" d=\"M277.391 47.2441 L277.391 1486.45 L521.712 1486.45 L521.712 47.2441 L277.391 47.2441 L277.391 47.2441  Z\" fill=\"url(#pattern1)\"/>\n",
       "<polyline clip-path=\"url(#clip042)\" style=\"stroke:#000000; stroke-linecap:round; stroke-linejoin:round; stroke-width:4; stroke-opacity:1; fill:none\" points=\"277.391,47.2441 277.391,1486.45 521.712,1486.45 521.712,47.2441 277.391,47.2441 \"/>\n",
       "<defs>\n",
       "  <pattern id=\"pattern2\" patternUnits=\"userSpaceOnUse\" x=\"0\" y=\"0\" width=\"32\" height=\"32\">\n",
       "<g transform=\"scale(4)\"><path d=\"M-4,4 l8,-8 M4,12 l8,-8 M-4,12 l16,-16\" style=\"stroke:#009af9; stroke-width:1; stroke-opacity:1\"/></g></pattern>\n",
       "</defs>\n",
       "<path clip-path=\"url(#clip042)\" d=\"M521.712 1459.98 L521.712 1486.45 L766.034 1486.45 L766.034 1459.98 L521.712 1459.98 L521.712 1459.98  Z\" fill=\"url(#pattern2)\"/>\n",
       "<polyline clip-path=\"url(#clip042)\" style=\"stroke:#000000; stroke-linecap:round; stroke-linejoin:round; stroke-width:4; stroke-opacity:1; fill:none\" points=\"521.712,1459.98 521.712,1486.45 766.034,1486.45 766.034,1459.98 521.712,1459.98 \"/>\n",
       "<defs>\n",
       "  <pattern id=\"pattern3\" patternUnits=\"userSpaceOnUse\" x=\"0\" y=\"0\" width=\"32\" height=\"32\">\n",
       "<g transform=\"scale(4)\"><path d=\"M-4,4 l8,-8 M4,12 l8,-8 M-4,12 l16,-16\" style=\"stroke:#009af9; stroke-width:1; stroke-opacity:1\"/></g></pattern>\n",
       "</defs>\n",
       "<path clip-path=\"url(#clip042)\" d=\"M766.034 1269.78 L766.034 1486.45 L1010.36 1486.45 L1010.36 1269.78 L766.034 1269.78 L766.034 1269.78  Z\" fill=\"url(#pattern3)\"/>\n",
       "<polyline clip-path=\"url(#clip042)\" style=\"stroke:#000000; stroke-linecap:round; stroke-linejoin:round; stroke-width:4; stroke-opacity:1; fill:none\" points=\"766.034,1269.78 766.034,1486.45 1010.36,1486.45 1010.36,1269.78 766.034,1269.78 \"/>\n",
       "<defs>\n",
       "  <pattern id=\"pattern4\" patternUnits=\"userSpaceOnUse\" x=\"0\" y=\"0\" width=\"32\" height=\"32\">\n",
       "<g transform=\"scale(4)\"><path d=\"M-4,4 l8,-8 M4,12 l8,-8 M-4,12 l16,-16\" style=\"stroke:#009af9; stroke-width:1; stroke-opacity:1\"/></g></pattern>\n",
       "</defs>\n",
       "<path clip-path=\"url(#clip042)\" d=\"M1010.36 1450.17 L1010.36 1486.45 L1254.68 1486.45 L1254.68 1450.17 L1010.36 1450.17 L1010.36 1450.17  Z\" fill=\"url(#pattern4)\"/>\n",
       "<polyline clip-path=\"url(#clip042)\" style=\"stroke:#000000; stroke-linecap:round; stroke-linejoin:round; stroke-width:4; stroke-opacity:1; fill:none\" points=\"1010.36,1450.17 1010.36,1486.45 1254.68,1486.45 1254.68,1450.17 1010.36,1450.17 \"/>\n",
       "<defs>\n",
       "  <pattern id=\"pattern5\" patternUnits=\"userSpaceOnUse\" x=\"0\" y=\"0\" width=\"32\" height=\"32\">\n",
       "<g transform=\"scale(4)\"><path d=\"M-4,4 l8,-8 M4,12 l8,-8 M-4,12 l16,-16\" style=\"stroke:#009af9; stroke-width:1; stroke-opacity:1\"/></g></pattern>\n",
       "</defs>\n",
       "<path clip-path=\"url(#clip042)\" d=\"M1254.68 1454.1 L1254.68 1486.45 L1499 1486.45 L1499 1454.1 L1254.68 1454.1 L1254.68 1454.1  Z\" fill=\"url(#pattern5)\"/>\n",
       "<polyline clip-path=\"url(#clip042)\" style=\"stroke:#000000; stroke-linecap:round; stroke-linejoin:round; stroke-width:4; stroke-opacity:1; fill:none\" points=\"1254.68,1454.1 1254.68,1486.45 1499,1486.45 1499,1454.1 1254.68,1454.1 \"/>\n",
       "<defs>\n",
       "  <pattern id=\"pattern6\" patternUnits=\"userSpaceOnUse\" x=\"0\" y=\"0\" width=\"32\" height=\"32\">\n",
       "<g transform=\"scale(4)\"><path d=\"M-4,4 l8,-8 M4,12 l8,-8 M-4,12 l16,-16\" style=\"stroke:#009af9; stroke-width:1; stroke-opacity:1\"/></g></pattern>\n",
       "</defs>\n",
       "<path clip-path=\"url(#clip042)\" d=\"M1499 1476.64 L1499 1486.45 L1743.32 1486.45 L1743.32 1476.64 L1499 1476.64 L1499 1476.64  Z\" fill=\"url(#pattern6)\"/>\n",
       "<polyline clip-path=\"url(#clip042)\" style=\"stroke:#000000; stroke-linecap:round; stroke-linejoin:round; stroke-width:4; stroke-opacity:1; fill:none\" points=\"1499,1476.64 1499,1486.45 1743.32,1486.45 1743.32,1476.64 1499,1476.64 \"/>\n",
       "<defs>\n",
       "  <pattern id=\"pattern7\" patternUnits=\"userSpaceOnUse\" x=\"0\" y=\"0\" width=\"32\" height=\"32\">\n",
       "<g transform=\"scale(4)\"><path d=\"M-4,4 l8,-8 M4,12 l8,-8 M-4,12 l16,-16\" style=\"stroke:#009af9; stroke-width:1; stroke-opacity:1\"/></g></pattern>\n",
       "</defs>\n",
       "<path clip-path=\"url(#clip042)\" d=\"M1743.32 1472.72 L1743.32 1486.45 L1987.64 1486.45 L1987.64 1472.72 L1743.32 1472.72 L1743.32 1472.72  Z\" fill=\"url(#pattern7)\"/>\n",
       "<polyline clip-path=\"url(#clip042)\" style=\"stroke:#000000; stroke-linecap:round; stroke-linejoin:round; stroke-width:4; stroke-opacity:1; fill:none\" points=\"1743.32,1472.72 1743.32,1486.45 1987.64,1486.45 1987.64,1472.72 1743.32,1472.72 \"/>\n",
       "<defs>\n",
       "  <pattern id=\"pattern8\" patternUnits=\"userSpaceOnUse\" x=\"0\" y=\"0\" width=\"32\" height=\"32\">\n",
       "<g transform=\"scale(4)\"><path d=\"M-4,4 l8,-8 M4,12 l8,-8 M-4,12 l16,-16\" style=\"stroke:#009af9; stroke-width:1; stroke-opacity:1\"/></g></pattern>\n",
       "</defs>\n",
       "<path clip-path=\"url(#clip042)\" d=\"M1987.64 1485.47 L1987.64 1486.45 L2231.96 1486.45 L2231.96 1485.47 L1987.64 1485.47 L1987.64 1485.47  Z\" fill=\"url(#pattern8)\"/>\n",
       "<polyline clip-path=\"url(#clip042)\" style=\"stroke:#000000; stroke-linecap:round; stroke-linejoin:round; stroke-width:4; stroke-opacity:1; fill:none\" points=\"1987.64,1485.47 1987.64,1486.45 2231.96,1486.45 2231.96,1485.47 1987.64,1485.47 \"/>\n",
       "<circle clip-path=\"url(#clip042)\" style=\"fill:#009af9; stroke:none; fill-opacity:0\" cx=\"399.552\" cy=\"47.2441\" r=\"2\"/>\n",
       "<circle clip-path=\"url(#clip042)\" style=\"fill:#009af9; stroke:none; fill-opacity:0\" cx=\"643.873\" cy=\"1459.98\" r=\"2\"/>\n",
       "<circle clip-path=\"url(#clip042)\" style=\"fill:#009af9; stroke:none; fill-opacity:0\" cx=\"888.195\" cy=\"1269.78\" r=\"2\"/>\n",
       "<circle clip-path=\"url(#clip042)\" style=\"fill:#009af9; stroke:none; fill-opacity:0\" cx=\"1132.52\" cy=\"1450.17\" r=\"2\"/>\n",
       "<circle clip-path=\"url(#clip042)\" style=\"fill:#009af9; stroke:none; fill-opacity:0\" cx=\"1376.84\" cy=\"1454.1\" r=\"2\"/>\n",
       "<circle clip-path=\"url(#clip042)\" style=\"fill:#009af9; stroke:none; fill-opacity:0\" cx=\"1621.16\" cy=\"1476.64\" r=\"2\"/>\n",
       "<circle clip-path=\"url(#clip042)\" style=\"fill:#009af9; stroke:none; fill-opacity:0\" cx=\"1865.48\" cy=\"1472.72\" r=\"2\"/>\n",
       "<circle clip-path=\"url(#clip042)\" style=\"fill:#009af9; stroke:none; fill-opacity:0\" cx=\"2109.8\" cy=\"1485.47\" r=\"2\"/>\n",
       "<path clip-path=\"url(#clip042)\" d=\"M277.391 1215.61 L277.391 1486.45 L521.712 1486.45 L521.712 1215.61 L277.391 1215.61 L277.391 1215.61  Z\" fill=\"#e26f46\" fill-rule=\"evenodd\" fill-opacity=\"0.5\"/>\n",
       "<polyline clip-path=\"url(#clip042)\" style=\"stroke:#000000; stroke-linecap:round; stroke-linejoin:round; stroke-width:4; stroke-opacity:1; fill:none\" points=\"277.391,1215.61 277.391,1486.45 521.712,1486.45 521.712,1215.61 277.391,1215.61 \"/>\n",
       "<path clip-path=\"url(#clip042)\" d=\"M521.712 1426.26 L521.712 1486.45 L766.034 1486.45 L766.034 1426.26 L521.712 1426.26 L521.712 1426.26  Z\" fill=\"#e26f46\" fill-rule=\"evenodd\" fill-opacity=\"0.5\"/>\n",
       "<polyline clip-path=\"url(#clip042)\" style=\"stroke:#000000; stroke-linecap:round; stroke-linejoin:round; stroke-width:4; stroke-opacity:1; fill:none\" points=\"521.712,1426.26 521.712,1486.45 766.034,1486.45 766.034,1426.26 521.712,1426.26 \"/>\n",
       "<path clip-path=\"url(#clip042)\" d=\"M766.034 899.638 L766.034 1486.45 L1010.36 1486.45 L1010.36 899.638 L766.034 899.638 L766.034 899.638  Z\" fill=\"#e26f46\" fill-rule=\"evenodd\" fill-opacity=\"0.5\"/>\n",
       "<polyline clip-path=\"url(#clip042)\" style=\"stroke:#000000; stroke-linecap:round; stroke-linejoin:round; stroke-width:4; stroke-opacity:1; fill:none\" points=\"766.034,899.638 766.034,1486.45 1010.36,1486.45 1010.36,899.638 766.034,899.638 \"/>\n",
       "<path clip-path=\"url(#clip042)\" d=\"M1010.36 1230.66 L1010.36 1486.45 L1254.68 1486.45 L1254.68 1230.66 L1010.36 1230.66 L1010.36 1230.66  Z\" fill=\"#e26f46\" fill-rule=\"evenodd\" fill-opacity=\"0.5\"/>\n",
       "<polyline clip-path=\"url(#clip042)\" style=\"stroke:#000000; stroke-linecap:round; stroke-linejoin:round; stroke-width:4; stroke-opacity:1; fill:none\" points=\"1010.36,1230.66 1010.36,1486.45 1254.68,1486.45 1254.68,1230.66 1010.36,1230.66 \"/>\n",
       "<path clip-path=\"url(#clip042)\" d=\"M1254.68 1260.75 L1254.68 1486.45 L1499 1486.45 L1499 1260.75 L1254.68 1260.75 L1254.68 1260.75  Z\" fill=\"#e26f46\" fill-rule=\"evenodd\" fill-opacity=\"0.5\"/>\n",
       "<polyline clip-path=\"url(#clip042)\" style=\"stroke:#000000; stroke-linecap:round; stroke-linejoin:round; stroke-width:4; stroke-opacity:1; fill:none\" points=\"1254.68,1260.75 1254.68,1486.45 1499,1486.45 1499,1260.75 1254.68,1260.75 \"/>\n",
       "<path clip-path=\"url(#clip042)\" d=\"M1499 1305.89 L1499 1486.45 L1743.32 1486.45 L1743.32 1305.89 L1499 1305.89 L1499 1305.89  Z\" fill=\"#e26f46\" fill-rule=\"evenodd\" fill-opacity=\"0.5\"/>\n",
       "<polyline clip-path=\"url(#clip042)\" style=\"stroke:#000000; stroke-linecap:round; stroke-linejoin:round; stroke-width:4; stroke-opacity:1; fill:none\" points=\"1499,1305.89 1499,1486.45 1743.32,1486.45 1743.32,1305.89 1499,1305.89 \"/>\n",
       "<path clip-path=\"url(#clip042)\" d=\"M1743.32 1328.46 L1743.32 1486.45 L1987.64 1486.45 L1987.64 1328.46 L1743.32 1328.46 L1743.32 1328.46  Z\" fill=\"#e26f46\" fill-rule=\"evenodd\" fill-opacity=\"0.5\"/>\n",
       "<polyline clip-path=\"url(#clip042)\" style=\"stroke:#000000; stroke-linecap:round; stroke-linejoin:round; stroke-width:4; stroke-opacity:1; fill:none\" points=\"1743.32,1328.46 1743.32,1486.45 1987.64,1486.45 1987.64,1328.46 1743.32,1328.46 \"/>\n",
       "<path clip-path=\"url(#clip042)\" d=\"M1987.64 1448.83 L1987.64 1486.45 L2231.96 1486.45 L2231.96 1448.83 L1987.64 1448.83 L1987.64 1448.83  Z\" fill=\"#e26f46\" fill-rule=\"evenodd\" fill-opacity=\"0.5\"/>\n",
       "<polyline clip-path=\"url(#clip042)\" style=\"stroke:#000000; stroke-linecap:round; stroke-linejoin:round; stroke-width:4; stroke-opacity:1; fill:none\" points=\"1987.64,1448.83 1987.64,1486.45 2231.96,1486.45 2231.96,1448.83 1987.64,1448.83 \"/>\n",
       "<circle clip-path=\"url(#clip042)\" style=\"fill:#e26f46; stroke:none; fill-opacity:0\" cx=\"399.552\" cy=\"1215.61\" r=\"2\"/>\n",
       "<circle clip-path=\"url(#clip042)\" style=\"fill:#e26f46; stroke:none; fill-opacity:0\" cx=\"643.873\" cy=\"1426.26\" r=\"2\"/>\n",
       "<circle clip-path=\"url(#clip042)\" style=\"fill:#e26f46; stroke:none; fill-opacity:0\" cx=\"888.195\" cy=\"899.638\" r=\"2\"/>\n",
       "<circle clip-path=\"url(#clip042)\" style=\"fill:#e26f46; stroke:none; fill-opacity:0\" cx=\"1132.52\" cy=\"1230.66\" r=\"2\"/>\n",
       "<circle clip-path=\"url(#clip042)\" style=\"fill:#e26f46; stroke:none; fill-opacity:0\" cx=\"1376.84\" cy=\"1260.75\" r=\"2\"/>\n",
       "<circle clip-path=\"url(#clip042)\" style=\"fill:#e26f46; stroke:none; fill-opacity:0\" cx=\"1621.16\" cy=\"1305.89\" r=\"2\"/>\n",
       "<circle clip-path=\"url(#clip042)\" style=\"fill:#e26f46; stroke:none; fill-opacity:0\" cx=\"1865.48\" cy=\"1328.46\" r=\"2\"/>\n",
       "<circle clip-path=\"url(#clip042)\" style=\"fill:#e26f46; stroke:none; fill-opacity:0\" cx=\"2109.8\" cy=\"1448.83\" r=\"2\"/>\n",
       "<path clip-path=\"url(#clip040)\" d=\"M1950.77 250.738 L2279.55 250.738 L2279.55 95.2176 L1950.77 95.2176  Z\" fill=\"#ffffff\" fill-rule=\"evenodd\" fill-opacity=\"1\"/>\n",
       "<polyline clip-path=\"url(#clip040)\" style=\"stroke:#000000; stroke-linecap:round; stroke-linejoin:round; stroke-width:4; stroke-opacity:1; fill:none\" points=\"1950.77,250.738 2279.55,250.738 2279.55,95.2176 1950.77,95.2176 1950.77,250.738 \"/>\n",
       "<defs>\n",
       "  <pattern id=\"pattern9\" patternUnits=\"userSpaceOnUse\" x=\"0\" y=\"0\" width=\"32\" height=\"32\">\n",
       "<g transform=\"scale(4)\"><path d=\"M-4,4 l8,-8 M4,12 l8,-8 M-4,12 l16,-16\" style=\"stroke:#009af9; stroke-width:1; stroke-opacity:1\"/></g></pattern>\n",
       "</defs>\n",
       "<path clip-path=\"url(#clip040)\" d=\"M1975.17 167.794 L2121.58 167.794 L2121.58 126.322 L1975.17 126.322 L1975.17 167.794  Z\" fill=\"url(#pattern9)\"/>\n",
       "<polyline clip-path=\"url(#clip040)\" style=\"stroke:#000000; stroke-linecap:round; stroke-linejoin:round; stroke-width:4; stroke-opacity:1; fill:none\" points=\"1975.17,167.794 2121.58,167.794 2121.58,126.322 1975.17,126.322 1975.17,167.794 \"/>\n",
       "<path clip-path=\"url(#clip040)\" d=\"M2162.49 128.319 L2162.49 131.861 L2158.41 131.861 Q2156.12 131.861 2155.22 132.787 Q2154.34 133.713 2154.34 136.12 L2154.34 138.412 L2161.35 138.412 L2161.35 141.722 L2154.34 141.722 L2154.34 164.338 L2150.06 164.338 L2150.06 141.722 L2145.98 141.722 L2145.98 138.412 L2150.06 138.412 L2150.06 136.606 Q2150.06 132.278 2152.07 130.31 Q2154.08 128.319 2158.46 128.319 L2162.49 128.319 Z\" fill=\"#000000\" fill-rule=\"nonzero\" fill-opacity=\"1\" /><path clip-path=\"url(#clip040)\" d=\"M2177.83 151.305 Q2172.67 151.305 2170.68 152.486 Q2168.69 153.666 2168.69 156.514 Q2168.69 158.782 2170.17 160.125 Q2171.68 161.444 2174.25 161.444 Q2177.79 161.444 2179.92 158.944 Q2182.07 156.421 2182.07 152.254 L2182.07 151.305 L2177.83 151.305 M2186.33 149.546 L2186.33 164.338 L2182.07 164.338 L2182.07 160.402 Q2180.61 162.763 2178.44 163.898 Q2176.26 165.009 2173.11 165.009 Q2169.13 165.009 2166.77 162.787 Q2164.43 160.541 2164.43 156.791 Q2164.43 152.416 2167.35 150.194 Q2170.29 147.972 2176.1 147.972 L2182.07 147.972 L2182.07 147.555 Q2182.07 144.615 2180.13 143.018 Q2178.2 141.398 2174.71 141.398 Q2172.49 141.398 2170.38 141.93 Q2168.27 142.463 2166.33 143.527 L2166.33 139.592 Q2168.67 138.69 2170.87 138.25 Q2173.07 137.787 2175.15 137.787 Q2180.77 137.787 2183.55 140.703 Q2186.33 143.62 2186.33 149.546 Z\" fill=\"#000000\" fill-rule=\"nonzero\" fill-opacity=\"1\" /><path clip-path=\"url(#clip040)\" d=\"M2195.1 128.319 L2199.36 128.319 L2199.36 164.338 L2195.1 164.338 L2195.1 128.319 Z\" fill=\"#000000\" fill-rule=\"nonzero\" fill-opacity=\"1\" /><path clip-path=\"url(#clip040)\" d=\"M2224.8 139.176 L2224.8 143.203 Q2223 142.277 2221.05 141.815 Q2219.11 141.352 2217.02 141.352 Q2213.85 141.352 2212.26 142.324 Q2210.68 143.296 2210.68 145.24 Q2210.68 146.722 2211.82 147.578 Q2212.95 148.412 2216.38 149.176 L2217.83 149.5 Q2222.37 150.472 2224.27 152.254 Q2226.19 154.014 2226.19 157.185 Q2226.19 160.796 2223.32 162.902 Q2220.47 165.009 2215.47 165.009 Q2213.39 165.009 2211.12 164.592 Q2208.88 164.199 2206.38 163.388 L2206.38 158.99 Q2208.74 160.217 2211.03 160.842 Q2213.32 161.444 2215.57 161.444 Q2218.58 161.444 2220.2 160.426 Q2221.82 159.384 2221.82 157.509 Q2221.82 155.773 2220.64 154.847 Q2219.48 153.921 2215.52 153.064 L2214.04 152.717 Q2210.08 151.884 2208.32 150.171 Q2206.56 148.435 2206.56 145.426 Q2206.56 141.768 2209.15 139.778 Q2211.75 137.787 2216.51 137.787 Q2218.88 137.787 2220.96 138.134 Q2223.04 138.481 2224.8 139.176 Z\" fill=\"#000000\" fill-rule=\"nonzero\" fill-opacity=\"1\" /><path clip-path=\"url(#clip040)\" d=\"M2255.15 150.31 L2255.15 152.393 L2235.57 152.393 Q2235.84 156.791 2238.2 159.106 Q2240.59 161.398 2244.82 161.398 Q2247.28 161.398 2249.57 160.796 Q2251.89 160.194 2254.15 158.99 L2254.15 163.018 Q2251.86 163.99 2249.45 164.5 Q2247.05 165.009 2244.57 165.009 Q2238.37 165.009 2234.73 161.398 Q2231.12 157.787 2231.12 151.629 Q2231.12 145.264 2234.55 141.537 Q2238 137.787 2243.83 137.787 Q2249.06 137.787 2252.09 141.166 Q2255.15 144.523 2255.15 150.31 M2250.89 149.06 Q2250.84 145.565 2248.92 143.481 Q2247.02 141.398 2243.88 141.398 Q2240.31 141.398 2238.16 143.412 Q2236.03 145.426 2235.7 149.083 L2250.89 149.06 Z\" fill=\"#000000\" fill-rule=\"nonzero\" fill-opacity=\"1\" /><path clip-path=\"url(#clip040)\" d=\"M1975.17 219.634 L2121.58 219.634 L2121.58 178.162 L1975.17 178.162 L1975.17 219.634  Z\" fill=\"#e26f46\" fill-rule=\"evenodd\" fill-opacity=\"0.5\"/>\n",
       "<polyline clip-path=\"url(#clip040)\" style=\"stroke:#000000; stroke-linecap:round; stroke-linejoin:round; stroke-width:4; stroke-opacity:1; fill:none\" points=\"1975.17,219.634 2121.58,219.634 2121.58,178.162 1975.17,178.162 1975.17,219.634 \"/>\n",
       "<path clip-path=\"url(#clip040)\" d=\"M2153.39 182.891 L2153.39 190.252 L2162.16 190.252 L2162.16 193.562 L2153.39 193.562 L2153.39 207.636 Q2153.39 210.807 2154.25 211.71 Q2155.13 212.613 2157.79 212.613 L2162.16 212.613 L2162.16 216.178 L2157.79 216.178 Q2152.86 216.178 2150.98 214.349 Q2149.11 212.497 2149.11 207.636 L2149.11 193.562 L2145.98 193.562 L2145.98 190.252 L2149.11 190.252 L2149.11 182.891 L2153.39 182.891 Z\" fill=\"#000000\" fill-rule=\"nonzero\" fill-opacity=\"1\" /><path clip-path=\"url(#clip040)\" d=\"M2182.79 194.233 Q2182.07 193.817 2181.21 193.631 Q2180.38 193.423 2179.36 193.423 Q2175.75 193.423 2173.81 195.784 Q2171.89 198.122 2171.89 202.52 L2171.89 216.178 L2167.6 216.178 L2167.6 190.252 L2171.89 190.252 L2171.89 194.28 Q2173.23 191.918 2175.38 190.784 Q2177.53 189.627 2180.61 189.627 Q2181.05 189.627 2181.58 189.696 Q2182.12 189.743 2182.77 189.858 L2182.79 194.233 Z\" fill=\"#000000\" fill-rule=\"nonzero\" fill-opacity=\"1\" /><path clip-path=\"url(#clip040)\" d=\"M2186.82 205.946 L2186.82 190.252 L2191.08 190.252 L2191.08 205.784 Q2191.08 209.465 2192.51 211.316 Q2193.95 213.145 2196.82 213.145 Q2200.26 213.145 2202.26 210.946 Q2204.27 208.747 2204.27 204.951 L2204.27 190.252 L2208.53 190.252 L2208.53 216.178 L2204.27 216.178 L2204.27 212.196 Q2202.72 214.557 2200.66 215.715 Q2198.62 216.849 2195.91 216.849 Q2191.45 216.849 2189.13 214.071 Q2186.82 211.293 2186.82 205.946 M2197.53 189.627 L2197.53 189.627 Z\" fill=\"#000000\" fill-rule=\"nonzero\" fill-opacity=\"1\" /><path clip-path=\"url(#clip040)\" d=\"M2239.48 202.15 L2239.48 204.233 L2219.89 204.233 Q2220.17 208.631 2222.53 210.946 Q2224.92 213.238 2229.15 213.238 Q2231.61 213.238 2233.9 212.636 Q2236.21 212.034 2238.48 210.83 L2238.48 214.858 Q2236.19 215.83 2233.78 216.34 Q2231.38 216.849 2228.9 216.849 Q2222.7 216.849 2219.06 213.238 Q2215.45 209.627 2215.45 203.469 Q2215.45 197.104 2218.88 193.377 Q2222.32 189.627 2228.16 189.627 Q2233.39 189.627 2236.42 193.006 Q2239.48 196.363 2239.48 202.15 M2235.22 200.9 Q2235.17 197.405 2233.25 195.321 Q2231.35 193.238 2228.2 193.238 Q2224.64 193.238 2222.49 195.252 Q2220.36 197.266 2220.03 200.923 L2235.22 200.9 Z\" fill=\"#000000\" fill-rule=\"nonzero\" fill-opacity=\"1\" /></svg>\n"
      ]
     },
     "execution_count": 60,
     "metadata": {},
     "output_type": "execute_result"
    }
   ],
   "source": [
    "test_groups = groupby(test, :arrest)\n",
    "histogram(test_groups[(false,)].predict; bins=10, normalize=:probability, fillstyle= :/, label=\"false\")\n",
    "histogram!(test_groups[(true,)].predict; bins=10, normalize=:probability, fillalpha=0.5, label=\"true\")"
   ]
  },
  {
   "cell_type": "code",
   "execution_count": 61,
   "id": "8d39c5a8",
   "metadata": {},
   "outputs": [
    {
     "data": {
      "text/plain": [
       "2×2 Named Matrix{Float64}\n",
       "predicted ╲ observed │    false      true\n",
       "─────────────────────┼───────────────────\n",
       "false                │ 0.810602  0.152542\n",
       "true                 │ 0.189398  0.847458"
      ]
     },
     "execution_count": 61,
     "metadata": {},
     "output_type": "execute_result"
    }
   ],
   "source": [
    "@chain test begin\n",
    "    select(:predict => ByRow(>(0.10)) => :predicted, :arrest => :observed)\n",
    "    proptable(:predicted, :observed; margins=2)\n",
    "end"
   ]
  },
  {
   "cell_type": "code",
   "execution_count": 62,
   "id": "2cfcdb3c",
   "metadata": {},
   "outputs": [
    {
     "data": {
      "text/plain": [
       "ROC curve with 62 points, of which 14 on the convex hull"
      ]
     },
     "execution_count": 62,
     "metadata": {},
     "output_type": "execute_result"
    }
   ],
   "source": [
    "test_roc = roc(test; score=:predict, target=:arrest)"
   ]
  },
  {
   "cell_type": "code",
   "execution_count": 63,
   "id": "fd4d5186",
   "metadata": {},
   "outputs": [
    {
     "data": {
      "image/png": "[encoded data removed]",
      "image/svg+xml": [
       "<?xml version=\"1.0\" encoding=\"utf-8\"?>\n",
       "<svg xmlns=\"http://www.w3.org/2000/svg\" xmlns:xlink=\"http://www.w3.org/1999/xlink\" width=\"600\" height=\"400\" viewBox=\"0 0 2400 1600\">\n",
       "<defs>\n",
       "  <clipPath id=\"clip080\">\n",
       "    <rect x=\"0\" y=\"0\" width=\"2400\" height=\"1600\"/>\n",
       "  </clipPath>\n",
       "</defs>\n",
       "<path clip-path=\"url(#clip080)\" d=\"M0 1600 L2400 1600 L2400 0 L0 0  Z\" fill=\"#ffffff\" fill-rule=\"evenodd\" fill-opacity=\"1\"/>\n",
       "<defs>\n",
       "  <clipPath id=\"clip081\">\n",
       "    <rect x=\"480\" y=\"0\" width=\"1681\" height=\"1600\"/>\n",
       "  </clipPath>\n",
       "</defs>\n",
       "<path clip-path=\"url(#clip080)\" d=\"M249.542 1423.18 L2352.76 1423.18 L2352.76 47.2441 L249.542 47.2441  Z\" fill=\"#ffffff\" fill-rule=\"evenodd\" fill-opacity=\"1\"/>\n",
       "<defs>\n",
       "  <clipPath id=\"clip082\">\n",
       "    <rect x=\"249\" y=\"47\" width=\"2104\" height=\"1377\"/>\n",
       "  </clipPath>\n",
       "</defs>\n",
       "<polyline clip-path=\"url(#clip082)\" style=\"stroke:#000000; stroke-linecap:round; stroke-linejoin:round; stroke-width:2; stroke-opacity:0.1; fill:none\" points=\"309.067,1423.18 309.067,47.2441 \"/>\n",
       "<polyline clip-path=\"url(#clip082)\" style=\"stroke:#000000; stroke-linecap:round; stroke-linejoin:round; stroke-width:2; stroke-opacity:0.1; fill:none\" points=\"805.108,1423.18 805.108,47.2441 \"/>\n",
       "<polyline clip-path=\"url(#clip082)\" style=\"stroke:#000000; stroke-linecap:round; stroke-linejoin:round; stroke-width:2; stroke-opacity:0.1; fill:none\" points=\"1301.15,1423.18 1301.15,47.2441 \"/>\n",
       "<polyline clip-path=\"url(#clip082)\" style=\"stroke:#000000; stroke-linecap:round; stroke-linejoin:round; stroke-width:2; stroke-opacity:0.1; fill:none\" points=\"1797.19,1423.18 1797.19,47.2441 \"/>\n",
       "<polyline clip-path=\"url(#clip082)\" style=\"stroke:#000000; stroke-linecap:round; stroke-linejoin:round; stroke-width:2; stroke-opacity:0.1; fill:none\" points=\"2293.23,1423.18 2293.23,47.2441 \"/>\n",
       "<polyline clip-path=\"url(#clip080)\" style=\"stroke:#000000; stroke-linecap:round; stroke-linejoin:round; stroke-width:4; stroke-opacity:1; fill:none\" points=\"249.542,1423.18 2352.76,1423.18 \"/>\n",
       "<polyline clip-path=\"url(#clip080)\" style=\"stroke:#000000; stroke-linecap:round; stroke-linejoin:round; stroke-width:4; stroke-opacity:1; fill:none\" points=\"309.067,1423.18 309.067,1404.28 \"/>\n",
       "<polyline clip-path=\"url(#clip080)\" style=\"stroke:#000000; stroke-linecap:round; stroke-linejoin:round; stroke-width:4; stroke-opacity:1; fill:none\" points=\"805.108,1423.18 805.108,1404.28 \"/>\n",
       "<polyline clip-path=\"url(#clip080)\" style=\"stroke:#000000; stroke-linecap:round; stroke-linejoin:round; stroke-width:4; stroke-opacity:1; fill:none\" points=\"1301.15,1423.18 1301.15,1404.28 \"/>\n",
       "<polyline clip-path=\"url(#clip080)\" style=\"stroke:#000000; stroke-linecap:round; stroke-linejoin:round; stroke-width:4; stroke-opacity:1; fill:none\" points=\"1797.19,1423.18 1797.19,1404.28 \"/>\n",
       "<polyline clip-path=\"url(#clip080)\" style=\"stroke:#000000; stroke-linecap:round; stroke-linejoin:round; stroke-width:4; stroke-opacity:1; fill:none\" points=\"2293.23,1423.18 2293.23,1404.28 \"/>\n",
       "<path clip-path=\"url(#clip080)\" d=\"M271.37 1454.1 Q267.759 1454.1 265.931 1457.66 Q264.125 1461.2 264.125 1468.33 Q264.125 1475.44 265.931 1479.01 Q267.759 1482.55 271.37 1482.55 Q275.005 1482.55 276.81 1479.01 Q278.639 1475.44 278.639 1468.33 Q278.639 1461.2 276.81 1457.66 Q275.005 1454.1 271.37 1454.1 M271.37 1450.39 Q277.181 1450.39 280.236 1455 Q283.315 1459.58 283.315 1468.33 Q283.315 1477.06 280.236 1481.67 Q277.181 1486.25 271.37 1486.25 Q265.56 1486.25 262.482 1481.67 Q259.426 1477.06 259.426 1468.33 Q259.426 1459.58 262.482 1455 Q265.56 1450.39 271.37 1450.39 Z\" fill=\"#000000\" fill-rule=\"nonzero\" fill-opacity=\"1\" /><path clip-path=\"url(#clip080)\" d=\"M291.532 1479.7 L296.417 1479.7 L296.417 1485.58 L291.532 1485.58 L291.532 1479.7 Z\" fill=\"#000000\" fill-rule=\"nonzero\" fill-opacity=\"1\" /><path clip-path=\"url(#clip080)\" d=\"M316.602 1454.1 Q312.991 1454.1 311.162 1457.66 Q309.356 1461.2 309.356 1468.33 Q309.356 1475.44 311.162 1479.01 Q312.991 1482.55 316.602 1482.55 Q320.236 1482.55 322.041 1479.01 Q323.87 1475.44 323.87 1468.33 Q323.87 1461.2 322.041 1457.66 Q320.236 1454.1 316.602 1454.1 M316.602 1450.39 Q322.412 1450.39 325.467 1455 Q328.546 1459.58 328.546 1468.33 Q328.546 1477.06 325.467 1481.67 Q322.412 1486.25 316.602 1486.25 Q310.791 1486.25 307.713 1481.67 Q304.657 1477.06 304.657 1468.33 Q304.657 1459.58 307.713 1455 Q310.791 1450.39 316.602 1450.39 Z\" fill=\"#000000\" fill-rule=\"nonzero\" fill-opacity=\"1\" /><path clip-path=\"url(#clip080)\" d=\"M346.764 1454.1 Q343.152 1454.1 341.324 1457.66 Q339.518 1461.2 339.518 1468.33 Q339.518 1475.44 341.324 1479.01 Q343.152 1482.55 346.764 1482.55 Q350.398 1482.55 352.203 1479.01 Q354.032 1475.44 354.032 1468.33 Q354.032 1461.2 352.203 1457.66 Q350.398 1454.1 346.764 1454.1 M346.764 1450.39 Q352.574 1450.39 355.629 1455 Q358.708 1459.58 358.708 1468.33 Q358.708 1477.06 355.629 1481.67 Q352.574 1486.25 346.764 1486.25 Q340.953 1486.25 337.875 1481.67 Q334.819 1477.06 334.819 1468.33 Q334.819 1459.58 337.875 1455 Q340.953 1450.39 346.764 1450.39 Z\" fill=\"#000000\" fill-rule=\"nonzero\" fill-opacity=\"1\" /><path clip-path=\"url(#clip080)\" d=\"M767.909 1454.1 Q764.298 1454.1 762.469 1457.66 Q760.664 1461.2 760.664 1468.33 Q760.664 1475.44 762.469 1479.01 Q764.298 1482.55 767.909 1482.55 Q771.543 1482.55 773.349 1479.01 Q775.178 1475.44 775.178 1468.33 Q775.178 1461.2 773.349 1457.66 Q771.543 1454.1 767.909 1454.1 M767.909 1450.39 Q773.719 1450.39 776.775 1455 Q779.853 1459.58 779.853 1468.33 Q779.853 1477.06 776.775 1481.67 Q773.719 1486.25 767.909 1486.25 Q762.099 1486.25 759.02 1481.67 Q755.965 1477.06 755.965 1468.33 Q755.965 1459.58 759.02 1455 Q762.099 1450.39 767.909 1450.39 Z\" fill=\"#000000\" fill-rule=\"nonzero\" fill-opacity=\"1\" /><path clip-path=\"url(#clip080)\" d=\"M788.071 1479.7 L792.955 1479.7 L792.955 1485.58 L788.071 1485.58 L788.071 1479.7 Z\" fill=\"#000000\" fill-rule=\"nonzero\" fill-opacity=\"1\" /><path clip-path=\"url(#clip080)\" d=\"M807.168 1481.64 L823.487 1481.64 L823.487 1485.58 L801.543 1485.58 L801.543 1481.64 Q804.205 1478.89 808.788 1474.26 Q813.395 1469.61 814.576 1468.27 Q816.821 1465.74 817.7 1464.01 Q818.603 1462.25 818.603 1460.56 Q818.603 1457.8 816.659 1456.07 Q814.738 1454.33 811.636 1454.33 Q809.437 1454.33 806.983 1455.09 Q804.552 1455.86 801.775 1457.41 L801.775 1452.69 Q804.599 1451.55 807.052 1450.97 Q809.506 1450.39 811.543 1450.39 Q816.913 1450.39 820.108 1453.08 Q823.302 1455.77 823.302 1460.26 Q823.302 1462.39 822.492 1464.31 Q821.705 1466.2 819.599 1468.8 Q819.02 1469.47 815.918 1472.69 Q812.816 1475.88 807.168 1481.64 Z\" fill=\"#000000\" fill-rule=\"nonzero\" fill-opacity=\"1\" /><path clip-path=\"url(#clip080)\" d=\"M833.349 1451.02 L851.705 1451.02 L851.705 1454.96 L837.631 1454.96 L837.631 1463.43 Q838.649 1463.08 839.668 1462.92 Q840.686 1462.73 841.705 1462.73 Q847.492 1462.73 850.872 1465.9 Q854.251 1469.08 854.251 1474.49 Q854.251 1480.07 850.779 1483.17 Q847.307 1486.25 840.987 1486.25 Q838.811 1486.25 836.543 1485.88 Q834.298 1485.51 831.89 1484.77 L831.89 1480.07 Q833.974 1481.2 836.196 1481.76 Q838.418 1482.32 840.895 1482.32 Q844.899 1482.32 847.237 1480.21 Q849.575 1478.1 849.575 1474.49 Q849.575 1470.88 847.237 1468.77 Q844.899 1466.67 840.895 1466.67 Q839.02 1466.67 837.145 1467.08 Q835.293 1467.5 833.349 1468.38 L833.349 1451.02 Z\" fill=\"#000000\" fill-rule=\"nonzero\" fill-opacity=\"1\" /><path clip-path=\"url(#clip080)\" d=\"M1263.45 1454.1 Q1259.84 1454.1 1258.01 1457.66 Q1256.21 1461.2 1256.21 1468.33 Q1256.21 1475.44 1258.01 1479.01 Q1259.84 1482.55 1263.45 1482.55 Q1267.09 1482.55 1268.89 1479.01 Q1270.72 1475.44 1270.72 1468.33 Q1270.72 1461.2 1268.89 1457.66 Q1267.09 1454.1 1263.45 1454.1 M1263.45 1450.39 Q1269.26 1450.39 1272.32 1455 Q1275.4 1459.58 1275.4 1468.33 Q1275.4 1477.06 1272.32 1481.67 Q1269.26 1486.25 1263.45 1486.25 Q1257.64 1486.25 1254.56 1481.67 Q1251.51 1477.06 1251.51 1468.33 Q1251.51 1459.58 1254.56 1455 Q1257.64 1450.39 1263.45 1450.39 Z\" fill=\"#000000\" fill-rule=\"nonzero\" fill-opacity=\"1\" /><path clip-path=\"url(#clip080)\" d=\"M1283.61 1479.7 L1288.5 1479.7 L1288.5 1485.58 L1283.61 1485.58 L1283.61 1479.7 Z\" fill=\"#000000\" fill-rule=\"nonzero\" fill-opacity=\"1\" /><path clip-path=\"url(#clip080)\" d=\"M1298.73 1451.02 L1317.09 1451.02 L1317.09 1454.96 L1303.01 1454.96 L1303.01 1463.43 Q1304.03 1463.08 1305.05 1462.92 Q1306.07 1462.73 1307.09 1462.73 Q1312.87 1462.73 1316.25 1465.9 Q1319.63 1469.08 1319.63 1474.49 Q1319.63 1480.07 1316.16 1483.17 Q1312.69 1486.25 1306.37 1486.25 Q1304.19 1486.25 1301.92 1485.88 Q1299.68 1485.51 1297.27 1484.77 L1297.27 1480.07 Q1299.35 1481.2 1301.58 1481.76 Q1303.8 1482.32 1306.28 1482.32 Q1310.28 1482.32 1312.62 1480.21 Q1314.96 1478.1 1314.96 1474.49 Q1314.96 1470.88 1312.62 1468.77 Q1310.28 1466.67 1306.28 1466.67 Q1304.4 1466.67 1302.53 1467.08 Q1300.67 1467.5 1298.73 1468.38 L1298.73 1451.02 Z\" fill=\"#000000\" fill-rule=\"nonzero\" fill-opacity=\"1\" /><path clip-path=\"url(#clip080)\" d=\"M1338.85 1454.1 Q1335.23 1454.1 1333.41 1457.66 Q1331.6 1461.2 1331.6 1468.33 Q1331.6 1475.44 1333.41 1479.01 Q1335.23 1482.55 1338.85 1482.55 Q1342.48 1482.55 1344.29 1479.01 Q1346.11 1475.44 1346.11 1468.33 Q1346.11 1461.2 1344.29 1457.66 Q1342.48 1454.1 1338.85 1454.1 M1338.85 1450.39 Q1344.66 1450.39 1347.71 1455 Q1350.79 1459.58 1350.79 1468.33 Q1350.79 1477.06 1347.71 1481.67 Q1344.66 1486.25 1338.85 1486.25 Q1333.04 1486.25 1329.96 1481.67 Q1326.9 1477.06 1326.9 1468.33 Q1326.9 1459.58 1329.96 1455 Q1333.04 1450.39 1338.85 1450.39 Z\" fill=\"#000000\" fill-rule=\"nonzero\" fill-opacity=\"1\" /><path clip-path=\"url(#clip080)\" d=\"M1759.99 1454.1 Q1756.38 1454.1 1754.55 1457.66 Q1752.75 1461.2 1752.75 1468.33 Q1752.75 1475.44 1754.55 1479.01 Q1756.38 1482.55 1759.99 1482.55 Q1763.63 1482.55 1765.43 1479.01 Q1767.26 1475.44 1767.26 1468.33 Q1767.26 1461.2 1765.43 1457.66 Q1763.63 1454.1 1759.99 1454.1 M1759.99 1450.39 Q1765.8 1450.39 1768.86 1455 Q1771.94 1459.58 1771.94 1468.33 Q1771.94 1477.06 1768.86 1481.67 Q1765.8 1486.25 1759.99 1486.25 Q1754.18 1486.25 1751.1 1481.67 Q1748.05 1477.06 1748.05 1468.33 Q1748.05 1459.58 1751.1 1455 Q1754.18 1450.39 1759.99 1450.39 Z\" fill=\"#000000\" fill-rule=\"nonzero\" fill-opacity=\"1\" /><path clip-path=\"url(#clip080)\" d=\"M1780.15 1479.7 L1785.04 1479.7 L1785.04 1485.58 L1780.15 1485.58 L1780.15 1479.7 Z\" fill=\"#000000\" fill-rule=\"nonzero\" fill-opacity=\"1\" /><path clip-path=\"url(#clip080)\" d=\"M1794.04 1451.02 L1816.26 1451.02 L1816.26 1453.01 L1803.72 1485.58 L1798.83 1485.58 L1810.64 1454.96 L1794.04 1454.96 L1794.04 1451.02 Z\" fill=\"#000000\" fill-rule=\"nonzero\" fill-opacity=\"1\" /><path clip-path=\"url(#clip080)\" d=\"M1825.43 1451.02 L1843.79 1451.02 L1843.79 1454.96 L1829.71 1454.96 L1829.71 1463.43 Q1830.73 1463.08 1831.75 1462.92 Q1832.77 1462.73 1833.79 1462.73 Q1839.57 1462.73 1842.95 1465.9 Q1846.33 1469.08 1846.33 1474.49 Q1846.33 1480.07 1842.86 1483.17 Q1839.39 1486.25 1833.07 1486.25 Q1830.89 1486.25 1828.62 1485.88 Q1826.38 1485.51 1823.97 1484.77 L1823.97 1480.07 Q1826.06 1481.2 1828.28 1481.76 Q1830.5 1482.32 1832.98 1482.32 Q1836.98 1482.32 1839.32 1480.21 Q1841.66 1478.1 1841.66 1474.49 Q1841.66 1470.88 1839.32 1468.77 Q1836.98 1466.67 1832.98 1466.67 Q1831.1 1466.67 1829.23 1467.08 Q1827.38 1467.5 1825.43 1468.38 L1825.43 1451.02 Z\" fill=\"#000000\" fill-rule=\"nonzero\" fill-opacity=\"1\" /><path clip-path=\"url(#clip080)\" d=\"M2245.3 1481.64 L2252.94 1481.64 L2252.94 1455.28 L2244.63 1456.95 L2244.63 1452.69 L2252.9 1451.02 L2257.57 1451.02 L2257.57 1481.64 L2265.21 1481.64 L2265.21 1485.58 L2245.3 1485.58 L2245.3 1481.64 Z\" fill=\"#000000\" fill-rule=\"nonzero\" fill-opacity=\"1\" /><path clip-path=\"url(#clip080)\" d=\"M2274.65 1479.7 L2279.54 1479.7 L2279.54 1485.58 L2274.65 1485.58 L2274.65 1479.7 Z\" fill=\"#000000\" fill-rule=\"nonzero\" fill-opacity=\"1\" /><path clip-path=\"url(#clip080)\" d=\"M2299.72 1454.1 Q2296.11 1454.1 2294.28 1457.66 Q2292.48 1461.2 2292.48 1468.33 Q2292.48 1475.44 2294.28 1479.01 Q2296.11 1482.55 2299.72 1482.55 Q2303.36 1482.55 2305.16 1479.01 Q2306.99 1475.44 2306.99 1468.33 Q2306.99 1461.2 2305.16 1457.66 Q2303.36 1454.1 2299.72 1454.1 M2299.72 1450.39 Q2305.53 1450.39 2308.59 1455 Q2311.67 1459.58 2311.67 1468.33 Q2311.67 1477.06 2308.59 1481.67 Q2305.53 1486.25 2299.72 1486.25 Q2293.91 1486.25 2290.84 1481.67 Q2287.78 1477.06 2287.78 1468.33 Q2287.78 1459.58 2290.84 1455 Q2293.91 1450.39 2299.72 1450.39 Z\" fill=\"#000000\" fill-rule=\"nonzero\" fill-opacity=\"1\" /><path clip-path=\"url(#clip080)\" d=\"M2329.89 1454.1 Q2326.27 1454.1 2324.45 1457.66 Q2322.64 1461.2 2322.64 1468.33 Q2322.64 1475.44 2324.45 1479.01 Q2326.27 1482.55 2329.89 1482.55 Q2333.52 1482.55 2335.33 1479.01 Q2337.15 1475.44 2337.15 1468.33 Q2337.15 1461.2 2335.33 1457.66 Q2333.52 1454.1 2329.89 1454.1 M2329.89 1450.39 Q2335.7 1450.39 2338.75 1455 Q2341.83 1459.58 2341.83 1468.33 Q2341.83 1477.06 2338.75 1481.67 Q2335.7 1486.25 2329.89 1486.25 Q2324.08 1486.25 2321 1481.67 Q2317.94 1477.06 2317.94 1468.33 Q2317.94 1459.58 2321 1455 Q2324.08 1450.39 2329.89 1450.39 Z\" fill=\"#000000\" fill-rule=\"nonzero\" fill-opacity=\"1\" /><path clip-path=\"url(#clip080)\" d=\"M1260.82 1562.7 L1260.82 1581.6 L1254.93 1581.6 L1254.93 1532.4 L1260.82 1532.4 L1260.82 1537.81 Q1262.67 1534.62 1265.47 1533.1 Q1268.3 1531.54 1272.22 1531.54 Q1278.71 1531.54 1282.75 1536.69 Q1286.83 1541.85 1286.83 1550.25 Q1286.83 1558.65 1282.75 1563.81 Q1278.71 1568.97 1272.22 1568.97 Q1268.3 1568.97 1265.47 1567.44 Q1262.67 1565.88 1260.82 1562.7 M1280.75 1550.25 Q1280.75 1543.79 1278.07 1540.13 Q1275.43 1536.44 1270.78 1536.44 Q1266.14 1536.44 1263.46 1540.13 Q1260.82 1543.79 1260.82 1550.25 Q1260.82 1556.71 1263.46 1560.4 Q1266.14 1564.07 1270.78 1564.07 Q1275.43 1564.07 1278.07 1560.4 Q1280.75 1556.71 1280.75 1550.25 Z\" fill=\"#000000\" fill-rule=\"nonzero\" fill-opacity=\"1\" /><path clip-path=\"url(#clip080)\" d=\"M1314.58 1518.52 L1314.58 1523.39 L1308.98 1523.39 Q1305.83 1523.39 1304.59 1524.66 Q1303.38 1525.93 1303.38 1529.24 L1303.38 1532.4 L1313.02 1532.4 L1313.02 1536.95 L1303.38 1536.95 L1303.38 1568.04 L1297.49 1568.04 L1297.49 1536.95 L1291.89 1536.95 L1291.89 1532.4 L1297.49 1532.4 L1297.49 1529.91 Q1297.49 1523.96 1300.26 1521.26 Q1303.03 1518.52 1309.04 1518.52 L1314.58 1518.52 Z\" fill=\"#000000\" fill-rule=\"nonzero\" fill-opacity=\"1\" /><path clip-path=\"url(#clip080)\" d=\"M1335.68 1550.12 Q1328.59 1550.12 1325.85 1551.75 Q1323.11 1553.37 1323.11 1557.29 Q1323.11 1560.4 1325.15 1562.25 Q1327.22 1564.07 1330.75 1564.07 Q1335.62 1564.07 1338.55 1560.63 Q1341.51 1557.16 1341.51 1551.43 L1341.51 1550.12 L1335.68 1550.12 M1347.36 1547.71 L1347.36 1568.04 L1341.51 1568.04 L1341.51 1562.63 Q1339.5 1565.88 1336.51 1567.44 Q1333.52 1568.97 1329.19 1568.97 Q1323.72 1568.97 1320.47 1565.91 Q1317.25 1562.82 1317.25 1557.67 Q1317.25 1551.65 1321.26 1548.6 Q1325.31 1545.54 1333.3 1545.54 L1341.51 1545.54 L1341.51 1544.97 Q1341.51 1540.93 1338.83 1538.73 Q1336.19 1536.5 1331.39 1536.5 Q1328.33 1536.5 1325.43 1537.23 Q1322.54 1537.97 1319.86 1539.43 L1319.86 1534.02 Q1323.08 1532.78 1326.1 1532.17 Q1329.13 1531.54 1331.99 1531.54 Q1339.73 1531.54 1343.54 1535.55 Q1347.36 1539.56 1347.36 1547.71 Z\" fill=\"#000000\" fill-rule=\"nonzero\" fill-opacity=\"1\" /><polyline clip-path=\"url(#clip082)\" style=\"stroke:#000000; stroke-linecap:round; stroke-linejoin:round; stroke-width:2; stroke-opacity:0.1; fill:none\" points=\"249.542,1384.24 2352.76,1384.24 \"/>\n",
       "<polyline clip-path=\"url(#clip082)\" style=\"stroke:#000000; stroke-linecap:round; stroke-linejoin:round; stroke-width:2; stroke-opacity:0.1; fill:none\" points=\"249.542,1059.73 2352.76,1059.73 \"/>\n",
       "<polyline clip-path=\"url(#clip082)\" style=\"stroke:#000000; stroke-linecap:round; stroke-linejoin:round; stroke-width:2; stroke-opacity:0.1; fill:none\" points=\"249.542,735.212 2352.76,735.212 \"/>\n",
       "<polyline clip-path=\"url(#clip082)\" style=\"stroke:#000000; stroke-linecap:round; stroke-linejoin:round; stroke-width:2; stroke-opacity:0.1; fill:none\" points=\"249.542,410.699 2352.76,410.699 \"/>\n",
       "<polyline clip-path=\"url(#clip082)\" style=\"stroke:#000000; stroke-linecap:round; stroke-linejoin:round; stroke-width:2; stroke-opacity:0.1; fill:none\" points=\"249.542,86.1857 2352.76,86.1857 \"/>\n",
       "<polyline clip-path=\"url(#clip080)\" style=\"stroke:#000000; stroke-linecap:round; stroke-linejoin:round; stroke-width:4; stroke-opacity:1; fill:none\" points=\"249.542,1423.18 249.542,47.2441 \"/>\n",
       "<polyline clip-path=\"url(#clip080)\" style=\"stroke:#000000; stroke-linecap:round; stroke-linejoin:round; stroke-width:4; stroke-opacity:1; fill:none\" points=\"249.542,1384.24 268.44,1384.24 \"/>\n",
       "<polyline clip-path=\"url(#clip080)\" style=\"stroke:#000000; stroke-linecap:round; stroke-linejoin:round; stroke-width:4; stroke-opacity:1; fill:none\" points=\"249.542,1059.73 268.44,1059.73 \"/>\n",
       "<polyline clip-path=\"url(#clip080)\" style=\"stroke:#000000; stroke-linecap:round; stroke-linejoin:round; stroke-width:4; stroke-opacity:1; fill:none\" points=\"249.542,735.212 268.44,735.212 \"/>\n",
       "<polyline clip-path=\"url(#clip080)\" style=\"stroke:#000000; stroke-linecap:round; stroke-linejoin:round; stroke-width:4; stroke-opacity:1; fill:none\" points=\"249.542,410.699 268.44,410.699 \"/>\n",
       "<polyline clip-path=\"url(#clip080)\" style=\"stroke:#000000; stroke-linecap:round; stroke-linejoin:round; stroke-width:4; stroke-opacity:1; fill:none\" points=\"249.542,86.1857 268.44,86.1857 \"/>\n",
       "<path clip-path=\"url(#clip080)\" d=\"M126.205 1370.04 Q122.593 1370.04 120.765 1373.6 Q118.959 1377.14 118.959 1384.27 Q118.959 1391.38 120.765 1394.94 Q122.593 1398.49 126.205 1398.49 Q129.839 1398.49 131.644 1394.94 Q133.473 1391.38 133.473 1384.27 Q133.473 1377.14 131.644 1373.6 Q129.839 1370.04 126.205 1370.04 M126.205 1366.33 Q132.015 1366.33 135.07 1370.94 Q138.149 1375.52 138.149 1384.27 Q138.149 1393 135.07 1397.61 Q132.015 1402.19 126.205 1402.19 Q120.394 1402.19 117.316 1397.61 Q114.26 1393 114.26 1384.27 Q114.26 1375.52 117.316 1370.94 Q120.394 1366.33 126.205 1366.33 Z\" fill=\"#000000\" fill-rule=\"nonzero\" fill-opacity=\"1\" /><path clip-path=\"url(#clip080)\" d=\"M146.366 1395.64 L151.251 1395.64 L151.251 1401.52 L146.366 1401.52 L146.366 1395.64 Z\" fill=\"#000000\" fill-rule=\"nonzero\" fill-opacity=\"1\" /><path clip-path=\"url(#clip080)\" d=\"M171.436 1370.04 Q167.825 1370.04 165.996 1373.6 Q164.19 1377.14 164.19 1384.27 Q164.19 1391.38 165.996 1394.94 Q167.825 1398.49 171.436 1398.49 Q175.07 1398.49 176.876 1394.94 Q178.704 1391.38 178.704 1384.27 Q178.704 1377.14 176.876 1373.6 Q175.07 1370.04 171.436 1370.04 M171.436 1366.33 Q177.246 1366.33 180.301 1370.94 Q183.38 1375.52 183.38 1384.27 Q183.38 1393 180.301 1397.61 Q177.246 1402.19 171.436 1402.19 Q165.626 1402.19 162.547 1397.61 Q159.491 1393 159.491 1384.27 Q159.491 1375.52 162.547 1370.94 Q165.626 1366.33 171.436 1366.33 Z\" fill=\"#000000\" fill-rule=\"nonzero\" fill-opacity=\"1\" /><path clip-path=\"url(#clip080)\" d=\"M201.598 1370.04 Q197.987 1370.04 196.158 1373.6 Q194.352 1377.14 194.352 1384.27 Q194.352 1391.38 196.158 1394.94 Q197.987 1398.49 201.598 1398.49 Q205.232 1398.49 207.037 1394.94 Q208.866 1391.38 208.866 1384.27 Q208.866 1377.14 207.037 1373.6 Q205.232 1370.04 201.598 1370.04 M201.598 1366.33 Q207.408 1366.33 210.463 1370.94 Q213.542 1375.52 213.542 1384.27 Q213.542 1393 210.463 1397.61 Q207.408 1402.19 201.598 1402.19 Q195.787 1402.19 192.709 1397.61 Q189.653 1393 189.653 1384.27 Q189.653 1375.52 192.709 1370.94 Q195.787 1366.33 201.598 1366.33 Z\" fill=\"#000000\" fill-rule=\"nonzero\" fill-opacity=\"1\" /><path clip-path=\"url(#clip080)\" d=\"M127.2 1045.52 Q123.589 1045.52 121.76 1049.09 Q119.955 1052.63 119.955 1059.76 Q119.955 1066.87 121.76 1070.43 Q123.589 1073.97 127.2 1073.97 Q130.834 1073.97 132.64 1070.43 Q134.468 1066.87 134.468 1059.76 Q134.468 1052.63 132.64 1049.09 Q130.834 1045.52 127.2 1045.52 M127.2 1041.82 Q133.01 1041.82 136.066 1046.43 Q139.144 1051.01 139.144 1059.76 Q139.144 1068.49 136.066 1073.09 Q133.01 1077.68 127.2 1077.68 Q121.39 1077.68 118.311 1073.09 Q115.256 1068.49 115.256 1059.76 Q115.256 1051.01 118.311 1046.43 Q121.39 1041.82 127.2 1041.82 Z\" fill=\"#000000\" fill-rule=\"nonzero\" fill-opacity=\"1\" /><path clip-path=\"url(#clip080)\" d=\"M147.362 1071.13 L152.246 1071.13 L152.246 1077.01 L147.362 1077.01 L147.362 1071.13 Z\" fill=\"#000000\" fill-rule=\"nonzero\" fill-opacity=\"1\" /><path clip-path=\"url(#clip080)\" d=\"M166.459 1073.07 L182.778 1073.07 L182.778 1077.01 L160.834 1077.01 L160.834 1073.07 Q163.496 1070.32 168.079 1065.69 Q172.686 1061.03 173.866 1059.69 Q176.112 1057.17 176.991 1055.43 Q177.894 1053.67 177.894 1051.98 Q177.894 1049.23 175.95 1047.49 Q174.028 1045.76 170.927 1045.76 Q168.727 1045.76 166.274 1046.52 Q163.843 1047.28 161.065 1048.83 L161.065 1044.11 Q163.89 1042.98 166.343 1042.4 Q168.797 1041.82 170.834 1041.82 Q176.204 1041.82 179.399 1044.51 Q182.593 1047.19 182.593 1051.68 Q182.593 1053.81 181.783 1055.73 Q180.996 1057.63 178.889 1060.22 Q178.311 1060.89 175.209 1064.11 Q172.107 1067.31 166.459 1073.07 Z\" fill=\"#000000\" fill-rule=\"nonzero\" fill-opacity=\"1\" /><path clip-path=\"url(#clip080)\" d=\"M192.639 1042.45 L210.996 1042.45 L210.996 1046.38 L196.922 1046.38 L196.922 1054.85 Q197.94 1054.51 198.959 1054.34 Q199.977 1054.16 200.996 1054.16 Q206.783 1054.16 210.162 1057.33 Q213.542 1060.5 213.542 1065.92 Q213.542 1071.5 210.07 1074.6 Q206.598 1077.68 200.278 1077.68 Q198.102 1077.68 195.834 1077.31 Q193.588 1076.94 191.181 1076.19 L191.181 1071.5 Q193.264 1072.63 195.487 1073.19 Q197.709 1073.74 200.186 1073.74 Q204.19 1073.74 206.528 1071.63 Q208.866 1069.53 208.866 1065.92 Q208.866 1062.31 206.528 1060.2 Q204.19 1058.09 200.186 1058.09 Q198.311 1058.09 196.436 1058.51 Q194.584 1058.93 192.639 1059.81 L192.639 1042.45 Z\" fill=\"#000000\" fill-rule=\"nonzero\" fill-opacity=\"1\" /><path clip-path=\"url(#clip080)\" d=\"M126.205 721.011 Q122.593 721.011 120.765 724.575 Q118.959 728.117 118.959 735.247 Q118.959 742.353 120.765 745.918 Q122.593 749.46 126.205 749.46 Q129.839 749.46 131.644 745.918 Q133.473 742.353 133.473 735.247 Q133.473 728.117 131.644 724.575 Q129.839 721.011 126.205 721.011 M126.205 717.307 Q132.015 717.307 135.07 721.913 Q138.149 726.497 138.149 735.247 Q138.149 743.973 135.07 748.58 Q132.015 753.163 126.205 753.163 Q120.394 753.163 117.316 748.58 Q114.26 743.973 114.26 735.247 Q114.26 726.497 117.316 721.913 Q120.394 717.307 126.205 717.307 Z\" fill=\"#000000\" fill-rule=\"nonzero\" fill-opacity=\"1\" /><path clip-path=\"url(#clip080)\" d=\"M146.366 746.612 L151.251 746.612 L151.251 752.492 L146.366 752.492 L146.366 746.612 Z\" fill=\"#000000\" fill-rule=\"nonzero\" fill-opacity=\"1\" /><path clip-path=\"url(#clip080)\" d=\"M161.482 717.932 L179.839 717.932 L179.839 721.867 L165.765 721.867 L165.765 730.339 Q166.783 729.992 167.802 729.83 Q168.82 729.645 169.839 729.645 Q175.626 729.645 179.005 732.816 Q182.385 735.987 182.385 741.404 Q182.385 746.983 178.913 750.085 Q175.44 753.163 169.121 753.163 Q166.945 753.163 164.677 752.793 Q162.431 752.423 160.024 751.682 L160.024 746.983 Q162.107 748.117 164.329 748.673 Q166.552 749.228 169.028 749.228 Q173.033 749.228 175.371 747.122 Q177.709 745.015 177.709 741.404 Q177.709 737.793 175.371 735.687 Q173.033 733.58 169.028 733.58 Q167.153 733.58 165.278 733.997 Q163.427 734.413 161.482 735.293 L161.482 717.932 Z\" fill=\"#000000\" fill-rule=\"nonzero\" fill-opacity=\"1\" /><path clip-path=\"url(#clip080)\" d=\"M201.598 721.011 Q197.987 721.011 196.158 724.575 Q194.352 728.117 194.352 735.247 Q194.352 742.353 196.158 745.918 Q197.987 749.46 201.598 749.46 Q205.232 749.46 207.037 745.918 Q208.866 742.353 208.866 735.247 Q208.866 728.117 207.037 724.575 Q205.232 721.011 201.598 721.011 M201.598 717.307 Q207.408 717.307 210.463 721.913 Q213.542 726.497 213.542 735.247 Q213.542 743.973 210.463 748.58 Q207.408 753.163 201.598 753.163 Q195.787 753.163 192.709 748.58 Q189.653 743.973 189.653 735.247 Q189.653 726.497 192.709 721.913 Q195.787 717.307 201.598 717.307 Z\" fill=\"#000000\" fill-rule=\"nonzero\" fill-opacity=\"1\" /><path clip-path=\"url(#clip080)\" d=\"M127.2 396.498 Q123.589 396.498 121.76 400.062 Q119.955 403.604 119.955 410.734 Q119.955 417.84 121.76 421.405 Q123.589 424.946 127.2 424.946 Q130.834 424.946 132.64 421.405 Q134.468 417.84 134.468 410.734 Q134.468 403.604 132.64 400.062 Q130.834 396.498 127.2 396.498 M127.2 392.794 Q133.01 392.794 136.066 397.4 Q139.144 401.984 139.144 410.734 Q139.144 419.46 136.066 424.067 Q133.01 428.65 127.2 428.65 Q121.39 428.65 118.311 424.067 Q115.256 419.46 115.256 410.734 Q115.256 401.984 118.311 397.4 Q121.39 392.794 127.2 392.794 Z\" fill=\"#000000\" fill-rule=\"nonzero\" fill-opacity=\"1\" /><path clip-path=\"url(#clip080)\" d=\"M147.362 422.099 L152.246 422.099 L152.246 427.979 L147.362 427.979 L147.362 422.099 Z\" fill=\"#000000\" fill-rule=\"nonzero\" fill-opacity=\"1\" /><path clip-path=\"url(#clip080)\" d=\"M161.251 393.419 L183.473 393.419 L183.473 395.41 L170.927 427.979 L166.042 427.979 L177.848 397.354 L161.251 397.354 L161.251 393.419 Z\" fill=\"#000000\" fill-rule=\"nonzero\" fill-opacity=\"1\" /><path clip-path=\"url(#clip080)\" d=\"M192.639 393.419 L210.996 393.419 L210.996 397.354 L196.922 397.354 L196.922 405.826 Q197.94 405.479 198.959 405.317 Q199.977 405.132 200.996 405.132 Q206.783 405.132 210.162 408.303 Q213.542 411.474 213.542 416.891 Q213.542 422.47 210.07 425.571 Q206.598 428.65 200.278 428.65 Q198.102 428.65 195.834 428.28 Q193.588 427.909 191.181 427.169 L191.181 422.47 Q193.264 423.604 195.487 424.159 Q197.709 424.715 200.186 424.715 Q204.19 424.715 206.528 422.608 Q208.866 420.502 208.866 416.891 Q208.866 413.28 206.528 411.173 Q204.19 409.067 200.186 409.067 Q198.311 409.067 196.436 409.484 Q194.584 409.9 192.639 410.78 L192.639 393.419 Z\" fill=\"#000000\" fill-rule=\"nonzero\" fill-opacity=\"1\" /><path clip-path=\"url(#clip080)\" d=\"M117.015 99.5305 L124.654 99.5305 L124.654 73.1649 L116.343 74.8316 L116.343 70.5723 L124.607 68.9057 L129.283 68.9057 L129.283 99.5305 L136.922 99.5305 L136.922 103.466 L117.015 103.466 L117.015 99.5305 Z\" fill=\"#000000\" fill-rule=\"nonzero\" fill-opacity=\"1\" /><path clip-path=\"url(#clip080)\" d=\"M146.366 97.5861 L151.251 97.5861 L151.251 103.466 L146.366 103.466 L146.366 97.5861 Z\" fill=\"#000000\" fill-rule=\"nonzero\" fill-opacity=\"1\" /><path clip-path=\"url(#clip080)\" d=\"M171.436 71.9844 Q167.825 71.9844 165.996 75.5492 Q164.19 79.0908 164.19 86.2204 Q164.19 93.3268 165.996 96.8916 Q167.825 100.433 171.436 100.433 Q175.07 100.433 176.876 96.8916 Q178.704 93.3268 178.704 86.2204 Q178.704 79.0908 176.876 75.5492 Q175.07 71.9844 171.436 71.9844 M171.436 68.2807 Q177.246 68.2807 180.301 72.8871 Q183.38 77.4704 183.38 86.2204 Q183.38 94.9472 180.301 99.5537 Q177.246 104.137 171.436 104.137 Q165.626 104.137 162.547 99.5537 Q159.491 94.9472 159.491 86.2204 Q159.491 77.4704 162.547 72.8871 Q165.626 68.2807 171.436 68.2807 Z\" fill=\"#000000\" fill-rule=\"nonzero\" fill-opacity=\"1\" /><path clip-path=\"url(#clip080)\" d=\"M201.598 71.9844 Q197.987 71.9844 196.158 75.5492 Q194.352 79.0908 194.352 86.2204 Q194.352 93.3268 196.158 96.8916 Q197.987 100.433 201.598 100.433 Q205.232 100.433 207.037 96.8916 Q208.866 93.3268 208.866 86.2204 Q208.866 79.0908 207.037 75.5492 Q205.232 71.9844 201.598 71.9844 M201.598 68.2807 Q207.408 68.2807 210.463 72.8871 Q213.542 77.4704 213.542 86.2204 Q213.542 94.9472 210.463 99.5537 Q207.408 104.137 201.598 104.137 Q195.787 104.137 192.709 99.5537 Q189.653 94.9472 189.653 86.2204 Q189.653 77.4704 192.709 72.8871 Q195.787 68.2807 201.598 68.2807 Z\" fill=\"#000000\" fill-rule=\"nonzero\" fill-opacity=\"1\" /><path clip-path=\"url(#clip080)\" d=\"M58.657 820.226 L77.5631 820.226 L77.5631 826.114 L28.3562 826.114 L28.3562 820.226 L33.7671 820.226 Q30.5842 818.38 29.0564 815.579 Q27.4968 812.746 27.4968 808.831 Q27.4968 802.338 32.6531 798.296 Q37.8093 794.222 46.212 794.222 Q54.6147 794.222 59.771 798.296 Q64.9272 802.338 64.9272 808.831 Q64.9272 812.746 63.3994 815.579 Q61.8398 818.38 58.657 820.226 M46.212 800.301 Q39.7508 800.301 36.0905 802.975 Q32.3984 805.617 32.3984 810.264 Q32.3984 814.911 36.0905 817.584 Q39.7508 820.226 46.212 820.226 Q52.6732 820.226 56.3653 817.584 Q60.0256 814.911 60.0256 810.264 Q60.0256 805.617 56.3653 802.975 Q52.6732 800.301 46.212 800.301 Z\" fill=\"#000000\" fill-rule=\"nonzero\" fill-opacity=\"1\" /><path clip-path=\"url(#clip080)\" d=\"M35.1993 756.76 Q31.2526 754.564 29.3747 751.508 Q27.4968 748.453 27.4968 744.315 Q27.4968 738.745 31.4117 735.721 Q35.2948 732.698 42.4881 732.698 L64.0042 732.698 L64.0042 738.586 L42.679 738.586 Q37.5546 738.586 35.072 740.4 Q32.5894 742.214 32.5894 745.938 Q32.5894 750.49 35.6131 753.131 Q38.6368 755.773 43.8567 755.773 L64.0042 755.773 L64.0042 761.661 L42.679 761.661 Q37.5228 761.661 35.072 763.476 Q32.5894 765.29 32.5894 769.078 Q32.5894 773.565 35.6449 776.207 Q38.6686 778.849 43.8567 778.849 L64.0042 778.849 L64.0042 784.737 L28.3562 784.737 L28.3562 778.849 L33.8944 778.849 Q30.616 776.844 29.0564 774.043 Q27.4968 771.242 27.4968 767.391 Q27.4968 763.508 29.4702 760.802 Q31.4436 758.065 35.1993 756.76 Z\" fill=\"#000000\" fill-rule=\"nonzero\" fill-opacity=\"1\" /><path clip-path=\"url(#clip080)\" d=\"M28.3562 721.016 L28.3562 715.16 L64.0042 715.16 L64.0042 721.016 L28.3562 721.016 M14.479 721.016 L14.479 715.16 L21.895 715.16 L21.895 721.016 L14.479 721.016 Z\" fill=\"#000000\" fill-rule=\"nonzero\" fill-opacity=\"1\" /><path clip-path=\"url(#clip080)\" d=\"M29.4065 680.18 L34.9447 680.18 Q33.6716 682.663 33.035 685.337 Q32.3984 688.01 32.3984 690.875 Q32.3984 695.235 33.7352 697.431 Q35.072 699.596 37.7456 699.596 Q39.7826 699.596 40.9603 698.036 Q42.1061 696.477 43.1565 691.766 L43.6021 689.761 Q44.9389 683.522 47.3897 680.912 Q49.8086 678.271 54.1691 678.271 Q59.1344 678.271 62.0308 682.217 Q64.9272 686.132 64.9272 693.007 Q64.9272 695.872 64.3543 698.991 Q63.8132 702.078 62.6992 705.516 L56.6518 705.516 Q58.3387 702.269 59.198 699.118 Q60.0256 695.967 60.0256 692.88 Q60.0256 688.742 58.6251 686.514 Q57.1929 684.286 54.6147 684.286 Q52.2276 684.286 50.9545 685.91 Q49.6813 687.501 48.5037 692.944 L48.0262 694.981 Q46.8804 700.423 44.5251 702.842 Q42.138 705.261 38.0002 705.261 Q32.9713 705.261 30.2341 701.697 Q27.4968 698.132 27.4968 691.575 Q27.4968 688.329 27.9743 685.464 Q28.4517 682.599 29.4065 680.18 Z\" fill=\"#000000\" fill-rule=\"nonzero\" fill-opacity=\"1\" /><path clip-path=\"url(#clip080)\" d=\"M29.4065 646.219 L34.9447 646.219 Q33.6716 648.702 33.035 651.376 Q32.3984 654.049 32.3984 656.914 Q32.3984 661.274 33.7352 663.47 Q35.072 665.635 37.7456 665.635 Q39.7826 665.635 40.9603 664.075 Q42.1061 662.516 43.1565 657.805 L43.6021 655.8 Q44.9389 649.561 47.3897 646.951 Q49.8086 644.31 54.1691 644.31 Q59.1344 644.31 62.0308 648.256 Q64.9272 652.171 64.9272 659.046 Q64.9272 661.911 64.3543 665.03 Q63.8132 668.117 62.6992 671.555 L56.6518 671.555 Q58.3387 668.308 59.198 665.157 Q60.0256 662.006 60.0256 658.919 Q60.0256 654.781 58.6251 652.553 Q57.1929 650.325 54.6147 650.325 Q52.2276 650.325 50.9545 651.949 Q49.6813 653.54 48.5037 658.983 L48.0262 661.02 Q46.8804 666.462 44.5251 668.881 Q42.138 671.3 38.0002 671.3 Q32.9713 671.3 30.2341 667.735 Q27.4968 664.171 27.4968 657.614 Q27.4968 654.367 27.9743 651.503 Q28.4517 648.638 29.4065 646.219 Z\" fill=\"#000000\" fill-rule=\"nonzero\" fill-opacity=\"1\" /><polyline clip-path=\"url(#clip082)\" style=\"stroke:#000000; stroke-linecap:round; stroke-linejoin:round; stroke-width:12; stroke-opacity:1; fill:none\" points=\"2293.23,1384.24 2252.69,1384.24 2249.41,1378.74 2239.55,1378.74 2230.78,1373.24 2225.3,1367.74 2208.87,1367.74 2206.68,1362.24 2182.57,1362.24 2172.71,1356.74 2140.94,1356.74 2117.93,1351.24 2097.12,1345.74 1828.69,1345.74 1815.54,1340.24 1753.09,1340.24 1736.66,1329.24 1700.5,1329.24 1634.76,1323.74 1606.28,1307.24 1508.77,1307.24 1393.73,1301.73 1347.71,1268.73 1093.53,1268.73 1032.17,1257.73 890.84,1257.73 882.075,1241.23 880.98,1235.73 847.015,1235.73 781.278,1230.23 765.94,1224.73 756.079,1213.73 753.888,1208.23 721.019,1202.73 684.864,1186.23 684.864,1175.23 683.768,1169.73 679.386,1164.23 668.43,1158.73 668.43,1153.23 655.282,1142.23 647.613,1136.73 627.892,1120.23 596.119,1054.22 550.103,971.722 549.007,971.722 519.426,883.718 475.601,812.215 430.681,746.212 413.151,713.211 383.569,581.206 372.613,526.204 338.649,361.197 336.457,361.197 336.457,317.195 332.075,278.693 326.597,262.193 325.501,229.191 315.641,152.188 315.641,146.688 310.163,113.687 309.067,86.1857 \"/>\n",
       "<path clip-path=\"url(#clip080)\" d=\"M1613.86 196.789 L2282.65 196.789 L2282.65 93.1086 L1613.86 93.1086  Z\" fill=\"#ffffff\" fill-rule=\"evenodd\" fill-opacity=\"1\"/>\n",
       "<polyline clip-path=\"url(#clip080)\" style=\"stroke:#000000; stroke-linecap:round; stroke-linejoin:round; stroke-width:4; stroke-opacity:1; fill:none\" points=\"1613.86,196.789 2282.65,196.789 2282.65,93.1086 1613.86,93.1086 1613.86,196.789 \"/>\n",
       "<polyline clip-path=\"url(#clip080)\" style=\"stroke:#000000; stroke-linecap:round; stroke-linejoin:round; stroke-width:12; stroke-opacity:1; fill:none\" points=\"1637.23,144.949 1777.44,144.949 \"/>\n",
       "<path clip-path=\"url(#clip080)\" d=\"M1808.22 128.942 L1808.22 136.303 L1816.99 136.303 L1816.99 139.613 L1808.22 139.613 L1808.22 153.687 Q1808.22 156.858 1809.07 157.761 Q1809.95 158.664 1812.62 158.664 L1816.99 158.664 L1816.99 162.229 L1812.62 162.229 Q1807.68 162.229 1805.81 160.4 Q1803.93 158.548 1803.93 153.687 L1803.93 139.613 L1800.81 139.613 L1800.81 136.303 L1803.93 136.303 L1803.93 128.942 L1808.22 128.942 Z\" fill=\"#000000\" fill-rule=\"nonzero\" fill-opacity=\"1\" /><path clip-path=\"url(#clip080)\" d=\"M1844.77 148.201 L1844.77 150.284 L1825.18 150.284 Q1825.46 154.682 1827.82 156.997 Q1830.21 159.289 1834.44 159.289 Q1836.9 159.289 1839.19 158.687 Q1841.5 158.085 1843.77 156.881 L1843.77 160.909 Q1841.48 161.881 1839.07 162.391 Q1836.67 162.9 1834.19 162.9 Q1827.99 162.9 1824.35 159.289 Q1820.74 155.678 1820.74 149.52 Q1820.74 143.155 1824.17 139.428 Q1827.62 135.678 1833.45 135.678 Q1838.68 135.678 1841.71 139.057 Q1844.77 142.414 1844.77 148.201 M1840.51 146.951 Q1840.46 143.456 1838.54 141.372 Q1836.64 139.289 1833.49 139.289 Q1829.93 139.289 1827.78 141.303 Q1825.65 143.317 1825.32 146.974 L1840.51 146.951 Z\" fill=\"#000000\" fill-rule=\"nonzero\" fill-opacity=\"1\" /><path clip-path=\"url(#clip080)\" d=\"M1868.29 137.067 L1868.29 141.094 Q1866.48 140.169 1864.54 139.706 Q1862.59 139.243 1860.51 139.243 Q1857.34 139.243 1855.74 140.215 Q1854.17 141.187 1854.17 143.131 Q1854.17 144.613 1855.3 145.469 Q1856.43 146.303 1859.86 147.067 L1861.32 147.391 Q1865.86 148.363 1867.75 150.145 Q1869.68 151.905 1869.68 155.076 Q1869.68 158.687 1866.8 160.793 Q1863.96 162.9 1858.96 162.9 Q1856.87 162.9 1854.61 162.483 Q1852.36 162.09 1849.86 161.28 L1849.86 156.881 Q1852.22 158.108 1854.51 158.733 Q1856.81 159.335 1859.05 159.335 Q1862.06 159.335 1863.68 158.317 Q1865.3 157.275 1865.3 155.4 Q1865.3 153.664 1864.12 152.738 Q1862.96 151.812 1859 150.956 L1857.52 150.608 Q1853.56 149.775 1851.81 148.062 Q1850.05 146.326 1850.05 143.317 Q1850.05 139.659 1852.64 137.669 Q1855.23 135.678 1860 135.678 Q1862.36 135.678 1864.44 136.025 Q1866.53 136.372 1868.29 137.067 Z\" fill=\"#000000\" fill-rule=\"nonzero\" fill-opacity=\"1\" /><path clip-path=\"url(#clip080)\" d=\"M1880.67 128.942 L1880.67 136.303 L1889.44 136.303 L1889.44 139.613 L1880.67 139.613 L1880.67 153.687 Q1880.67 156.858 1881.53 157.761 Q1882.41 158.664 1885.07 158.664 L1889.44 158.664 L1889.44 162.229 L1885.07 162.229 Q1880.14 162.229 1878.26 160.4 Q1876.39 158.548 1876.39 153.687 L1876.39 139.613 L1873.26 139.613 L1873.26 136.303 L1876.39 136.303 L1876.39 128.942 L1880.67 128.942 Z\" fill=\"#000000\" fill-rule=\"nonzero\" fill-opacity=\"1\" /><path clip-path=\"url(#clip080)\" d=\"M1920.35 126.257 Q1917.24 131.581 1915.74 136.789 Q1914.24 141.997 1914.24 147.344 Q1914.24 152.692 1915.74 157.946 Q1917.27 163.178 1920.35 168.479 L1916.64 168.479 Q1913.17 163.039 1911.43 157.784 Q1909.72 152.53 1909.72 147.344 Q1909.72 142.182 1911.43 136.951 Q1913.15 131.72 1916.64 126.257 L1920.35 126.257 Z\" fill=\"#000000\" fill-rule=\"nonzero\" fill-opacity=\"1\" /><path clip-path=\"url(#clip080)\" d=\"M1940.35 132.275 L1934 149.474 L1946.71 149.474 L1940.35 132.275 M1937.71 127.669 L1943.01 127.669 L1956.18 162.229 L1951.32 162.229 L1948.17 153.363 L1932.59 153.363 L1929.44 162.229 L1924.51 162.229 L1937.71 127.669 Z\" fill=\"#000000\" fill-rule=\"nonzero\" fill-opacity=\"1\" /><path clip-path=\"url(#clip080)\" d=\"M1960.69 127.669 L1965.39 127.669 L1965.39 148.664 Q1965.39 154.219 1967.41 156.673 Q1969.42 159.104 1973.93 159.104 Q1978.42 159.104 1980.44 156.673 Q1982.45 154.219 1982.45 148.664 L1982.45 127.669 L1987.15 127.669 L1987.15 149.243 Q1987.15 156.002 1983.8 159.451 Q1980.46 162.9 1973.93 162.9 Q1967.38 162.9 1964.03 159.451 Q1960.69 156.002 1960.69 149.243 L1960.69 127.669 Z\" fill=\"#000000\" fill-rule=\"nonzero\" fill-opacity=\"1\" /><path clip-path=\"url(#clip080)\" d=\"M2021.8 130.331 L2021.8 135.261 Q2019.44 133.062 2016.76 131.974 Q2014.1 130.886 2011.09 130.886 Q2005.16 130.886 2002.01 134.52 Q1998.86 138.132 1998.86 144.983 Q1998.86 151.812 2002.01 155.446 Q2005.16 159.057 2011.09 159.057 Q2014.1 159.057 2016.76 157.969 Q2019.44 156.881 2021.8 154.682 L2021.8 159.567 Q2019.35 161.233 2016.6 162.067 Q2013.86 162.9 2010.81 162.9 Q2002.96 162.9 1998.45 158.108 Q1993.93 153.293 1993.93 144.983 Q1993.93 136.65 1998.45 131.858 Q2002.96 127.044 2010.81 127.044 Q2013.91 127.044 2016.64 127.877 Q2019.4 128.687 2021.8 130.331 Z\" fill=\"#000000\" fill-rule=\"nonzero\" fill-opacity=\"1\" /><path clip-path=\"url(#clip080)\" d=\"M2029.4 140.701 L2059.07 140.701 L2059.07 144.59 L2029.4 144.59 L2029.4 140.701 M2029.4 150.145 L2059.07 150.145 L2059.07 154.081 L2029.4 154.081 L2029.4 150.145 Z\" fill=\"#000000\" fill-rule=\"nonzero\" fill-opacity=\"1\" /><path clip-path=\"url(#clip080)\" d=\"M2069.98 158.293 L2077.61 158.293 L2077.61 131.928 L2069.3 133.595 L2069.3 129.335 L2077.57 127.669 L2082.24 127.669 L2082.24 158.293 L2089.88 158.293 L2089.88 162.229 L2069.98 162.229 L2069.98 158.293 Z\" fill=\"#000000\" fill-rule=\"nonzero\" fill-opacity=\"1\" /><path clip-path=\"url(#clip080)\" d=\"M2113.49 143.594 Q2116.85 144.312 2118.72 146.581 Q2120.62 148.849 2120.62 152.182 Q2120.62 157.298 2117.1 160.099 Q2113.59 162.9 2107.1 162.9 Q2104.93 162.9 2102.61 162.46 Q2100.32 162.043 2097.87 161.187 L2097.87 156.673 Q2099.81 157.807 2102.13 158.386 Q2104.44 158.965 2106.97 158.965 Q2111.36 158.965 2113.66 157.229 Q2115.97 155.493 2115.97 152.182 Q2115.97 149.127 2113.82 147.414 Q2111.69 145.678 2107.87 145.678 L2103.84 145.678 L2103.84 141.835 L2108.05 141.835 Q2111.5 141.835 2113.33 140.469 Q2115.16 139.081 2115.16 136.488 Q2115.16 133.826 2113.26 132.414 Q2111.39 130.979 2107.87 130.979 Q2105.95 130.979 2103.75 131.395 Q2101.55 131.812 2098.91 132.692 L2098.91 128.525 Q2101.57 127.784 2103.89 127.414 Q2106.22 127.044 2108.29 127.044 Q2113.61 127.044 2116.71 129.474 Q2119.81 131.882 2119.81 136.002 Q2119.81 138.872 2118.17 140.863 Q2116.53 142.831 2113.49 143.594 Z\" fill=\"#000000\" fill-rule=\"nonzero\" fill-opacity=\"1\" /><path clip-path=\"url(#clip080)\" d=\"M2129.49 156.349 L2134.37 156.349 L2134.37 162.229 L2129.49 162.229 L2129.49 156.349 Z\" fill=\"#000000\" fill-rule=\"nonzero\" fill-opacity=\"1\" /><path clip-path=\"url(#clip080)\" d=\"M2144.6 127.669 L2162.96 127.669 L2162.96 131.604 L2148.89 131.604 L2148.89 140.076 Q2149.91 139.729 2150.92 139.567 Q2151.94 139.382 2152.96 139.382 Q2158.75 139.382 2162.13 142.553 Q2165.51 145.724 2165.51 151.141 Q2165.51 156.719 2162.03 159.821 Q2158.56 162.9 2152.24 162.9 Q2150.07 162.9 2147.8 162.53 Q2145.55 162.159 2143.15 161.418 L2143.15 156.719 Q2145.23 157.854 2147.45 158.409 Q2149.67 158.965 2152.15 158.965 Q2156.16 158.965 2158.49 156.858 Q2160.83 154.752 2160.83 151.141 Q2160.83 147.53 2158.49 145.423 Q2156.16 143.317 2152.15 143.317 Q2150.28 143.317 2148.4 143.733 Q2146.55 144.15 2144.6 145.03 L2144.6 127.669 Z\" fill=\"#000000\" fill-rule=\"nonzero\" fill-opacity=\"1\" /><path clip-path=\"url(#clip080)\" d=\"M2187.57 131.743 L2175.76 150.192 L2187.57 150.192 L2187.57 131.743 M2186.34 127.669 L2192.22 127.669 L2192.22 150.192 L2197.15 150.192 L2197.15 154.081 L2192.22 154.081 L2192.22 162.229 L2187.57 162.229 L2187.57 154.081 L2171.97 154.081 L2171.97 149.567 L2186.34 127.669 Z\" fill=\"#000000\" fill-rule=\"nonzero\" fill-opacity=\"1\" /><path clip-path=\"url(#clip080)\" d=\"M2234.28 147.02 Q2232.27 147.02 2231.11 148.733 Q2229.97 150.446 2229.97 153.502 Q2229.97 156.511 2231.11 158.247 Q2232.27 159.96 2234.28 159.96 Q2236.25 159.96 2237.38 158.247 Q2238.54 156.511 2238.54 153.502 Q2238.54 150.469 2237.38 148.756 Q2236.25 147.02 2234.28 147.02 M2234.28 144.081 Q2237.94 144.081 2240.09 146.627 Q2242.24 149.173 2242.24 153.502 Q2242.24 157.83 2240.07 160.377 Q2237.91 162.9 2234.28 162.9 Q2230.58 162.9 2228.42 160.377 Q2226.27 157.83 2226.27 153.502 Q2226.27 149.15 2228.42 146.627 Q2230.6 144.081 2234.28 144.081 M2210.39 129.983 Q2208.4 129.983 2207.24 131.72 Q2206.11 133.432 2206.11 136.442 Q2206.11 139.497 2207.24 141.21 Q2208.38 142.923 2210.39 142.923 Q2212.4 142.923 2213.54 141.21 Q2214.7 139.497 2214.7 136.442 Q2214.7 133.456 2213.54 131.72 Q2212.38 129.983 2210.39 129.983 M2231.29 127.044 L2235 127.044 L2213.38 162.9 L2209.67 162.9 L2231.29 127.044 M2210.39 127.044 Q2214.05 127.044 2216.22 129.59 Q2218.4 132.113 2218.4 136.442 Q2218.4 140.817 2216.22 143.34 Q2214.07 145.863 2210.39 145.863 Q2206.71 145.863 2204.56 143.34 Q2202.43 140.794 2202.43 136.442 Q2202.43 132.136 2204.58 129.59 Q2206.73 127.044 2210.39 127.044 Z\" fill=\"#000000\" fill-rule=\"nonzero\" fill-opacity=\"1\" /><path clip-path=\"url(#clip080)\" d=\"M2248.65 126.257 L2252.36 126.257 Q2255.83 131.72 2257.54 136.951 Q2259.28 142.182 2259.28 147.344 Q2259.28 152.53 2257.54 157.784 Q2255.83 163.039 2252.36 168.479 L2248.65 168.479 Q2251.73 163.178 2253.24 157.946 Q2254.77 152.692 2254.77 147.344 Q2254.77 141.997 2253.24 136.789 Q2251.73 131.581 2248.65 126.257 Z\" fill=\"#000000\" fill-rule=\"nonzero\" fill-opacity=\"1\" /></svg>\n"
      ],
      "text/html": [
       "<?xml version=\"1.0\" encoding=\"utf-8\"?>\n",
       "<svg xmlns=\"http://www.w3.org/2000/svg\" xmlns:xlink=\"http://www.w3.org/1999/xlink\" width=\"600\" height=\"400\" viewBox=\"0 0 2400 1600\">\n",
       "<defs>\n",
       "  <clipPath id=\"clip130\">\n",
       "    <rect x=\"0\" y=\"0\" width=\"2400\" height=\"1600\"/>\n",
       "  </clipPath>\n",
       "</defs>\n",
       "<path clip-path=\"url(#clip130)\" d=\"M0 1600 L2400 1600 L2400 0 L0 0  Z\" fill=\"#ffffff\" fill-rule=\"evenodd\" fill-opacity=\"1\"/>\n",
       "<defs>\n",
       "  <clipPath id=\"clip131\">\n",
       "    <rect x=\"480\" y=\"0\" width=\"1681\" height=\"1600\"/>\n",
       "  </clipPath>\n",
       "</defs>\n",
       "<path clip-path=\"url(#clip130)\" d=\"M249.542 1423.18 L2352.76 1423.18 L2352.76 47.2441 L249.542 47.2441  Z\" fill=\"#ffffff\" fill-rule=\"evenodd\" fill-opacity=\"1\"/>\n",
       "<defs>\n",
       "  <clipPath id=\"clip132\">\n",
       "    <rect x=\"249\" y=\"47\" width=\"2104\" height=\"1377\"/>\n",
       "  </clipPath>\n",
       "</defs>\n",
       "<polyline clip-path=\"url(#clip132)\" style=\"stroke:#000000; stroke-linecap:round; stroke-linejoin:round; stroke-width:2; stroke-opacity:0.1; fill:none\" points=\"309.067,1423.18 309.067,47.2441 \"/>\n",
       "<polyline clip-path=\"url(#clip132)\" style=\"stroke:#000000; stroke-linecap:round; stroke-linejoin:round; stroke-width:2; stroke-opacity:0.1; fill:none\" points=\"805.108,1423.18 805.108,47.2441 \"/>\n",
       "<polyline clip-path=\"url(#clip132)\" style=\"stroke:#000000; stroke-linecap:round; stroke-linejoin:round; stroke-width:2; stroke-opacity:0.1; fill:none\" points=\"1301.15,1423.18 1301.15,47.2441 \"/>\n",
       "<polyline clip-path=\"url(#clip132)\" style=\"stroke:#000000; stroke-linecap:round; stroke-linejoin:round; stroke-width:2; stroke-opacity:0.1; fill:none\" points=\"1797.19,1423.18 1797.19,47.2441 \"/>\n",
       "<polyline clip-path=\"url(#clip132)\" style=\"stroke:#000000; stroke-linecap:round; stroke-linejoin:round; stroke-width:2; stroke-opacity:0.1; fill:none\" points=\"2293.23,1423.18 2293.23,47.2441 \"/>\n",
       "<polyline clip-path=\"url(#clip130)\" style=\"stroke:#000000; stroke-linecap:round; stroke-linejoin:round; stroke-width:4; stroke-opacity:1; fill:none\" points=\"249.542,1423.18 2352.76,1423.18 \"/>\n",
       "<polyline clip-path=\"url(#clip130)\" style=\"stroke:#000000; stroke-linecap:round; stroke-linejoin:round; stroke-width:4; stroke-opacity:1; fill:none\" points=\"309.067,1423.18 309.067,1404.28 \"/>\n",
       "<polyline clip-path=\"url(#clip130)\" style=\"stroke:#000000; stroke-linecap:round; stroke-linejoin:round; stroke-width:4; stroke-opacity:1; fill:none\" points=\"805.108,1423.18 805.108,1404.28 \"/>\n",
       "<polyline clip-path=\"url(#clip130)\" style=\"stroke:#000000; stroke-linecap:round; stroke-linejoin:round; stroke-width:4; stroke-opacity:1; fill:none\" points=\"1301.15,1423.18 1301.15,1404.28 \"/>\n",
       "<polyline clip-path=\"url(#clip130)\" style=\"stroke:#000000; stroke-linecap:round; stroke-linejoin:round; stroke-width:4; stroke-opacity:1; fill:none\" points=\"1797.19,1423.18 1797.19,1404.28 \"/>\n",
       "<polyline clip-path=\"url(#clip130)\" style=\"stroke:#000000; stroke-linecap:round; stroke-linejoin:round; stroke-width:4; stroke-opacity:1; fill:none\" points=\"2293.23,1423.18 2293.23,1404.28 \"/>\n",
       "<path clip-path=\"url(#clip130)\" d=\"M271.37 1454.1 Q267.759 1454.1 265.931 1457.66 Q264.125 1461.2 264.125 1468.33 Q264.125 1475.44 265.931 1479.01 Q267.759 1482.55 271.37 1482.55 Q275.005 1482.55 276.81 1479.01 Q278.639 1475.44 278.639 1468.33 Q278.639 1461.2 276.81 1457.66 Q275.005 1454.1 271.37 1454.1 M271.37 1450.39 Q277.181 1450.39 280.236 1455 Q283.315 1459.58 283.315 1468.33 Q283.315 1477.06 280.236 1481.67 Q277.181 1486.25 271.37 1486.25 Q265.56 1486.25 262.482 1481.67 Q259.426 1477.06 259.426 1468.33 Q259.426 1459.58 262.482 1455 Q265.56 1450.39 271.37 1450.39 Z\" fill=\"#000000\" fill-rule=\"nonzero\" fill-opacity=\"1\" /><path clip-path=\"url(#clip130)\" d=\"M291.532 1479.7 L296.417 1479.7 L296.417 1485.58 L291.532 1485.58 L291.532 1479.7 Z\" fill=\"#000000\" fill-rule=\"nonzero\" fill-opacity=\"1\" /><path clip-path=\"url(#clip130)\" d=\"M316.602 1454.1 Q312.991 1454.1 311.162 1457.66 Q309.356 1461.2 309.356 1468.33 Q309.356 1475.44 311.162 1479.01 Q312.991 1482.55 316.602 1482.55 Q320.236 1482.55 322.041 1479.01 Q323.87 1475.44 323.87 1468.33 Q323.87 1461.2 322.041 1457.66 Q320.236 1454.1 316.602 1454.1 M316.602 1450.39 Q322.412 1450.39 325.467 1455 Q328.546 1459.58 328.546 1468.33 Q328.546 1477.06 325.467 1481.67 Q322.412 1486.25 316.602 1486.25 Q310.791 1486.25 307.713 1481.67 Q304.657 1477.06 304.657 1468.33 Q304.657 1459.58 307.713 1455 Q310.791 1450.39 316.602 1450.39 Z\" fill=\"#000000\" fill-rule=\"nonzero\" fill-opacity=\"1\" /><path clip-path=\"url(#clip130)\" d=\"M346.764 1454.1 Q343.152 1454.1 341.324 1457.66 Q339.518 1461.2 339.518 1468.33 Q339.518 1475.44 341.324 1479.01 Q343.152 1482.55 346.764 1482.55 Q350.398 1482.55 352.203 1479.01 Q354.032 1475.44 354.032 1468.33 Q354.032 1461.2 352.203 1457.66 Q350.398 1454.1 346.764 1454.1 M346.764 1450.39 Q352.574 1450.39 355.629 1455 Q358.708 1459.58 358.708 1468.33 Q358.708 1477.06 355.629 1481.67 Q352.574 1486.25 346.764 1486.25 Q340.953 1486.25 337.875 1481.67 Q334.819 1477.06 334.819 1468.33 Q334.819 1459.58 337.875 1455 Q340.953 1450.39 346.764 1450.39 Z\" fill=\"#000000\" fill-rule=\"nonzero\" fill-opacity=\"1\" /><path clip-path=\"url(#clip130)\" d=\"M767.909 1454.1 Q764.298 1454.1 762.469 1457.66 Q760.664 1461.2 760.664 1468.33 Q760.664 1475.44 762.469 1479.01 Q764.298 1482.55 767.909 1482.55 Q771.543 1482.55 773.349 1479.01 Q775.178 1475.44 775.178 1468.33 Q775.178 1461.2 773.349 1457.66 Q771.543 1454.1 767.909 1454.1 M767.909 1450.39 Q773.719 1450.39 776.775 1455 Q779.853 1459.58 779.853 1468.33 Q779.853 1477.06 776.775 1481.67 Q773.719 1486.25 767.909 1486.25 Q762.099 1486.25 759.02 1481.67 Q755.965 1477.06 755.965 1468.33 Q755.965 1459.58 759.02 1455 Q762.099 1450.39 767.909 1450.39 Z\" fill=\"#000000\" fill-rule=\"nonzero\" fill-opacity=\"1\" /><path clip-path=\"url(#clip130)\" d=\"M788.071 1479.7 L792.955 1479.7 L792.955 1485.58 L788.071 1485.58 L788.071 1479.7 Z\" fill=\"#000000\" fill-rule=\"nonzero\" fill-opacity=\"1\" /><path clip-path=\"url(#clip130)\" d=\"M807.168 1481.64 L823.487 1481.64 L823.487 1485.58 L801.543 1485.58 L801.543 1481.64 Q804.205 1478.89 808.788 1474.26 Q813.395 1469.61 814.576 1468.27 Q816.821 1465.74 817.7 1464.01 Q818.603 1462.25 818.603 1460.56 Q818.603 1457.8 816.659 1456.07 Q814.738 1454.33 811.636 1454.33 Q809.437 1454.33 806.983 1455.09 Q804.552 1455.86 801.775 1457.41 L801.775 1452.69 Q804.599 1451.55 807.052 1450.97 Q809.506 1450.39 811.543 1450.39 Q816.913 1450.39 820.108 1453.08 Q823.302 1455.77 823.302 1460.26 Q823.302 1462.39 822.492 1464.31 Q821.705 1466.2 819.599 1468.8 Q819.02 1469.47 815.918 1472.69 Q812.816 1475.88 807.168 1481.64 Z\" fill=\"#000000\" fill-rule=\"nonzero\" fill-opacity=\"1\" /><path clip-path=\"url(#clip130)\" d=\"M833.349 1451.02 L851.705 1451.02 L851.705 1454.96 L837.631 1454.96 L837.631 1463.43 Q838.649 1463.08 839.668 1462.92 Q840.686 1462.73 841.705 1462.73 Q847.492 1462.73 850.872 1465.9 Q854.251 1469.08 854.251 1474.49 Q854.251 1480.07 850.779 1483.17 Q847.307 1486.25 840.987 1486.25 Q838.811 1486.25 836.543 1485.88 Q834.298 1485.51 831.89 1484.77 L831.89 1480.07 Q833.974 1481.2 836.196 1481.76 Q838.418 1482.32 840.895 1482.32 Q844.899 1482.32 847.237 1480.21 Q849.575 1478.1 849.575 1474.49 Q849.575 1470.88 847.237 1468.77 Q844.899 1466.67 840.895 1466.67 Q839.02 1466.67 837.145 1467.08 Q835.293 1467.5 833.349 1468.38 L833.349 1451.02 Z\" fill=\"#000000\" fill-rule=\"nonzero\" fill-opacity=\"1\" /><path clip-path=\"url(#clip130)\" d=\"M1263.45 1454.1 Q1259.84 1454.1 1258.01 1457.66 Q1256.21 1461.2 1256.21 1468.33 Q1256.21 1475.44 1258.01 1479.01 Q1259.84 1482.55 1263.45 1482.55 Q1267.09 1482.55 1268.89 1479.01 Q1270.72 1475.44 1270.72 1468.33 Q1270.72 1461.2 1268.89 1457.66 Q1267.09 1454.1 1263.45 1454.1 M1263.45 1450.39 Q1269.26 1450.39 1272.32 1455 Q1275.4 1459.58 1275.4 1468.33 Q1275.4 1477.06 1272.32 1481.67 Q1269.26 1486.25 1263.45 1486.25 Q1257.64 1486.25 1254.56 1481.67 Q1251.51 1477.06 1251.51 1468.33 Q1251.51 1459.58 1254.56 1455 Q1257.64 1450.39 1263.45 1450.39 Z\" fill=\"#000000\" fill-rule=\"nonzero\" fill-opacity=\"1\" /><path clip-path=\"url(#clip130)\" d=\"M1283.61 1479.7 L1288.5 1479.7 L1288.5 1485.58 L1283.61 1485.58 L1283.61 1479.7 Z\" fill=\"#000000\" fill-rule=\"nonzero\" fill-opacity=\"1\" /><path clip-path=\"url(#clip130)\" d=\"M1298.73 1451.02 L1317.09 1451.02 L1317.09 1454.96 L1303.01 1454.96 L1303.01 1463.43 Q1304.03 1463.08 1305.05 1462.92 Q1306.07 1462.73 1307.09 1462.73 Q1312.87 1462.73 1316.25 1465.9 Q1319.63 1469.08 1319.63 1474.49 Q1319.63 1480.07 1316.16 1483.17 Q1312.69 1486.25 1306.37 1486.25 Q1304.19 1486.25 1301.92 1485.88 Q1299.68 1485.51 1297.27 1484.77 L1297.27 1480.07 Q1299.35 1481.2 1301.58 1481.76 Q1303.8 1482.32 1306.28 1482.32 Q1310.28 1482.32 1312.62 1480.21 Q1314.96 1478.1 1314.96 1474.49 Q1314.96 1470.88 1312.62 1468.77 Q1310.28 1466.67 1306.28 1466.67 Q1304.4 1466.67 1302.53 1467.08 Q1300.67 1467.5 1298.73 1468.38 L1298.73 1451.02 Z\" fill=\"#000000\" fill-rule=\"nonzero\" fill-opacity=\"1\" /><path clip-path=\"url(#clip130)\" d=\"M1338.85 1454.1 Q1335.23 1454.1 1333.41 1457.66 Q1331.6 1461.2 1331.6 1468.33 Q1331.6 1475.44 1333.41 1479.01 Q1335.23 1482.55 1338.85 1482.55 Q1342.48 1482.55 1344.29 1479.01 Q1346.11 1475.44 1346.11 1468.33 Q1346.11 1461.2 1344.29 1457.66 Q1342.48 1454.1 1338.85 1454.1 M1338.85 1450.39 Q1344.66 1450.39 1347.71 1455 Q1350.79 1459.58 1350.79 1468.33 Q1350.79 1477.06 1347.71 1481.67 Q1344.66 1486.25 1338.85 1486.25 Q1333.04 1486.25 1329.96 1481.67 Q1326.9 1477.06 1326.9 1468.33 Q1326.9 1459.58 1329.96 1455 Q1333.04 1450.39 1338.85 1450.39 Z\" fill=\"#000000\" fill-rule=\"nonzero\" fill-opacity=\"1\" /><path clip-path=\"url(#clip130)\" d=\"M1759.99 1454.1 Q1756.38 1454.1 1754.55 1457.66 Q1752.75 1461.2 1752.75 1468.33 Q1752.75 1475.44 1754.55 1479.01 Q1756.38 1482.55 1759.99 1482.55 Q1763.63 1482.55 1765.43 1479.01 Q1767.26 1475.44 1767.26 1468.33 Q1767.26 1461.2 1765.43 1457.66 Q1763.63 1454.1 1759.99 1454.1 M1759.99 1450.39 Q1765.8 1450.39 1768.86 1455 Q1771.94 1459.58 1771.94 1468.33 Q1771.94 1477.06 1768.86 1481.67 Q1765.8 1486.25 1759.99 1486.25 Q1754.18 1486.25 1751.1 1481.67 Q1748.05 1477.06 1748.05 1468.33 Q1748.05 1459.58 1751.1 1455 Q1754.18 1450.39 1759.99 1450.39 Z\" fill=\"#000000\" fill-rule=\"nonzero\" fill-opacity=\"1\" /><path clip-path=\"url(#clip130)\" d=\"M1780.15 1479.7 L1785.04 1479.7 L1785.04 1485.58 L1780.15 1485.58 L1780.15 1479.7 Z\" fill=\"#000000\" fill-rule=\"nonzero\" fill-opacity=\"1\" /><path clip-path=\"url(#clip130)\" d=\"M1794.04 1451.02 L1816.26 1451.02 L1816.26 1453.01 L1803.72 1485.58 L1798.83 1485.58 L1810.64 1454.96 L1794.04 1454.96 L1794.04 1451.02 Z\" fill=\"#000000\" fill-rule=\"nonzero\" fill-opacity=\"1\" /><path clip-path=\"url(#clip130)\" d=\"M1825.43 1451.02 L1843.79 1451.02 L1843.79 1454.96 L1829.71 1454.96 L1829.71 1463.43 Q1830.73 1463.08 1831.75 1462.92 Q1832.77 1462.73 1833.79 1462.73 Q1839.57 1462.73 1842.95 1465.9 Q1846.33 1469.08 1846.33 1474.49 Q1846.33 1480.07 1842.86 1483.17 Q1839.39 1486.25 1833.07 1486.25 Q1830.89 1486.25 1828.62 1485.88 Q1826.38 1485.51 1823.97 1484.77 L1823.97 1480.07 Q1826.06 1481.2 1828.28 1481.76 Q1830.5 1482.32 1832.98 1482.32 Q1836.98 1482.32 1839.32 1480.21 Q1841.66 1478.1 1841.66 1474.49 Q1841.66 1470.88 1839.32 1468.77 Q1836.98 1466.67 1832.98 1466.67 Q1831.1 1466.67 1829.23 1467.08 Q1827.38 1467.5 1825.43 1468.38 L1825.43 1451.02 Z\" fill=\"#000000\" fill-rule=\"nonzero\" fill-opacity=\"1\" /><path clip-path=\"url(#clip130)\" d=\"M2245.3 1481.64 L2252.94 1481.64 L2252.94 1455.28 L2244.63 1456.95 L2244.63 1452.69 L2252.9 1451.02 L2257.57 1451.02 L2257.57 1481.64 L2265.21 1481.64 L2265.21 1485.58 L2245.3 1485.58 L2245.3 1481.64 Z\" fill=\"#000000\" fill-rule=\"nonzero\" fill-opacity=\"1\" /><path clip-path=\"url(#clip130)\" d=\"M2274.65 1479.7 L2279.54 1479.7 L2279.54 1485.58 L2274.65 1485.58 L2274.65 1479.7 Z\" fill=\"#000000\" fill-rule=\"nonzero\" fill-opacity=\"1\" /><path clip-path=\"url(#clip130)\" d=\"M2299.72 1454.1 Q2296.11 1454.1 2294.28 1457.66 Q2292.48 1461.2 2292.48 1468.33 Q2292.48 1475.44 2294.28 1479.01 Q2296.11 1482.55 2299.72 1482.55 Q2303.36 1482.55 2305.16 1479.01 Q2306.99 1475.44 2306.99 1468.33 Q2306.99 1461.2 2305.16 1457.66 Q2303.36 1454.1 2299.72 1454.1 M2299.72 1450.39 Q2305.53 1450.39 2308.59 1455 Q2311.67 1459.58 2311.67 1468.33 Q2311.67 1477.06 2308.59 1481.67 Q2305.53 1486.25 2299.72 1486.25 Q2293.91 1486.25 2290.84 1481.67 Q2287.78 1477.06 2287.78 1468.33 Q2287.78 1459.58 2290.84 1455 Q2293.91 1450.39 2299.72 1450.39 Z\" fill=\"#000000\" fill-rule=\"nonzero\" fill-opacity=\"1\" /><path clip-path=\"url(#clip130)\" d=\"M2329.89 1454.1 Q2326.27 1454.1 2324.45 1457.66 Q2322.64 1461.2 2322.64 1468.33 Q2322.64 1475.44 2324.45 1479.01 Q2326.27 1482.55 2329.89 1482.55 Q2333.52 1482.55 2335.33 1479.01 Q2337.15 1475.44 2337.15 1468.33 Q2337.15 1461.2 2335.33 1457.66 Q2333.52 1454.1 2329.89 1454.1 M2329.89 1450.39 Q2335.7 1450.39 2338.75 1455 Q2341.83 1459.58 2341.83 1468.33 Q2341.83 1477.06 2338.75 1481.67 Q2335.7 1486.25 2329.89 1486.25 Q2324.08 1486.25 2321 1481.67 Q2317.94 1477.06 2317.94 1468.33 Q2317.94 1459.58 2321 1455 Q2324.08 1450.39 2329.89 1450.39 Z\" fill=\"#000000\" fill-rule=\"nonzero\" fill-opacity=\"1\" /><path clip-path=\"url(#clip130)\" d=\"M1260.82 1562.7 L1260.82 1581.6 L1254.93 1581.6 L1254.93 1532.4 L1260.82 1532.4 L1260.82 1537.81 Q1262.67 1534.62 1265.47 1533.1 Q1268.3 1531.54 1272.22 1531.54 Q1278.71 1531.54 1282.75 1536.69 Q1286.83 1541.85 1286.83 1550.25 Q1286.83 1558.65 1282.75 1563.81 Q1278.71 1568.97 1272.22 1568.97 Q1268.3 1568.97 1265.47 1567.44 Q1262.67 1565.88 1260.82 1562.7 M1280.75 1550.25 Q1280.75 1543.79 1278.07 1540.13 Q1275.43 1536.44 1270.78 1536.44 Q1266.14 1536.44 1263.46 1540.13 Q1260.82 1543.79 1260.82 1550.25 Q1260.82 1556.71 1263.46 1560.4 Q1266.14 1564.07 1270.78 1564.07 Q1275.43 1564.07 1278.07 1560.4 Q1280.75 1556.71 1280.75 1550.25 Z\" fill=\"#000000\" fill-rule=\"nonzero\" fill-opacity=\"1\" /><path clip-path=\"url(#clip130)\" d=\"M1314.58 1518.52 L1314.58 1523.39 L1308.98 1523.39 Q1305.83 1523.39 1304.59 1524.66 Q1303.38 1525.93 1303.38 1529.24 L1303.38 1532.4 L1313.02 1532.4 L1313.02 1536.95 L1303.38 1536.95 L1303.38 1568.04 L1297.49 1568.04 L1297.49 1536.95 L1291.89 1536.95 L1291.89 1532.4 L1297.49 1532.4 L1297.49 1529.91 Q1297.49 1523.96 1300.26 1521.26 Q1303.03 1518.52 1309.04 1518.52 L1314.58 1518.52 Z\" fill=\"#000000\" fill-rule=\"nonzero\" fill-opacity=\"1\" /><path clip-path=\"url(#clip130)\" d=\"M1335.68 1550.12 Q1328.59 1550.12 1325.85 1551.75 Q1323.11 1553.37 1323.11 1557.29 Q1323.11 1560.4 1325.15 1562.25 Q1327.22 1564.07 1330.75 1564.07 Q1335.62 1564.07 1338.55 1560.63 Q1341.51 1557.16 1341.51 1551.43 L1341.51 1550.12 L1335.68 1550.12 M1347.36 1547.71 L1347.36 1568.04 L1341.51 1568.04 L1341.51 1562.63 Q1339.5 1565.88 1336.51 1567.44 Q1333.52 1568.97 1329.19 1568.97 Q1323.72 1568.97 1320.47 1565.91 Q1317.25 1562.82 1317.25 1557.67 Q1317.25 1551.65 1321.26 1548.6 Q1325.31 1545.54 1333.3 1545.54 L1341.51 1545.54 L1341.51 1544.97 Q1341.51 1540.93 1338.83 1538.73 Q1336.19 1536.5 1331.39 1536.5 Q1328.33 1536.5 1325.43 1537.23 Q1322.54 1537.97 1319.86 1539.43 L1319.86 1534.02 Q1323.08 1532.78 1326.1 1532.17 Q1329.13 1531.54 1331.99 1531.54 Q1339.73 1531.54 1343.54 1535.55 Q1347.36 1539.56 1347.36 1547.71 Z\" fill=\"#000000\" fill-rule=\"nonzero\" fill-opacity=\"1\" /><polyline clip-path=\"url(#clip132)\" style=\"stroke:#000000; stroke-linecap:round; stroke-linejoin:round; stroke-width:2; stroke-opacity:0.1; fill:none\" points=\"249.542,1384.24 2352.76,1384.24 \"/>\n",
       "<polyline clip-path=\"url(#clip132)\" style=\"stroke:#000000; stroke-linecap:round; stroke-linejoin:round; stroke-width:2; stroke-opacity:0.1; fill:none\" points=\"249.542,1059.73 2352.76,1059.73 \"/>\n",
       "<polyline clip-path=\"url(#clip132)\" style=\"stroke:#000000; stroke-linecap:round; stroke-linejoin:round; stroke-width:2; stroke-opacity:0.1; fill:none\" points=\"249.542,735.212 2352.76,735.212 \"/>\n",
       "<polyline clip-path=\"url(#clip132)\" style=\"stroke:#000000; stroke-linecap:round; stroke-linejoin:round; stroke-width:2; stroke-opacity:0.1; fill:none\" points=\"249.542,410.699 2352.76,410.699 \"/>\n",
       "<polyline clip-path=\"url(#clip132)\" style=\"stroke:#000000; stroke-linecap:round; stroke-linejoin:round; stroke-width:2; stroke-opacity:0.1; fill:none\" points=\"249.542,86.1857 2352.76,86.1857 \"/>\n",
       "<polyline clip-path=\"url(#clip130)\" style=\"stroke:#000000; stroke-linecap:round; stroke-linejoin:round; stroke-width:4; stroke-opacity:1; fill:none\" points=\"249.542,1423.18 249.542,47.2441 \"/>\n",
       "<polyline clip-path=\"url(#clip130)\" style=\"stroke:#000000; stroke-linecap:round; stroke-linejoin:round; stroke-width:4; stroke-opacity:1; fill:none\" points=\"249.542,1384.24 268.44,1384.24 \"/>\n",
       "<polyline clip-path=\"url(#clip130)\" style=\"stroke:#000000; stroke-linecap:round; stroke-linejoin:round; stroke-width:4; stroke-opacity:1; fill:none\" points=\"249.542,1059.73 268.44,1059.73 \"/>\n",
       "<polyline clip-path=\"url(#clip130)\" style=\"stroke:#000000; stroke-linecap:round; stroke-linejoin:round; stroke-width:4; stroke-opacity:1; fill:none\" points=\"249.542,735.212 268.44,735.212 \"/>\n",
       "<polyline clip-path=\"url(#clip130)\" style=\"stroke:#000000; stroke-linecap:round; stroke-linejoin:round; stroke-width:4; stroke-opacity:1; fill:none\" points=\"249.542,410.699 268.44,410.699 \"/>\n",
       "<polyline clip-path=\"url(#clip130)\" style=\"stroke:#000000; stroke-linecap:round; stroke-linejoin:round; stroke-width:4; stroke-opacity:1; fill:none\" points=\"249.542,86.1857 268.44,86.1857 \"/>\n",
       "<path clip-path=\"url(#clip130)\" d=\"M126.205 1370.04 Q122.593 1370.04 120.765 1373.6 Q118.959 1377.14 118.959 1384.27 Q118.959 1391.38 120.765 1394.94 Q122.593 1398.49 126.205 1398.49 Q129.839 1398.49 131.644 1394.94 Q133.473 1391.38 133.473 1384.27 Q133.473 1377.14 131.644 1373.6 Q129.839 1370.04 126.205 1370.04 M126.205 1366.33 Q132.015 1366.33 135.07 1370.94 Q138.149 1375.52 138.149 1384.27 Q138.149 1393 135.07 1397.61 Q132.015 1402.19 126.205 1402.19 Q120.394 1402.19 117.316 1397.61 Q114.26 1393 114.26 1384.27 Q114.26 1375.52 117.316 1370.94 Q120.394 1366.33 126.205 1366.33 Z\" fill=\"#000000\" fill-rule=\"nonzero\" fill-opacity=\"1\" /><path clip-path=\"url(#clip130)\" d=\"M146.366 1395.64 L151.251 1395.64 L151.251 1401.52 L146.366 1401.52 L146.366 1395.64 Z\" fill=\"#000000\" fill-rule=\"nonzero\" fill-opacity=\"1\" /><path clip-path=\"url(#clip130)\" d=\"M171.436 1370.04 Q167.825 1370.04 165.996 1373.6 Q164.19 1377.14 164.19 1384.27 Q164.19 1391.38 165.996 1394.94 Q167.825 1398.49 171.436 1398.49 Q175.07 1398.49 176.876 1394.94 Q178.704 1391.38 178.704 1384.27 Q178.704 1377.14 176.876 1373.6 Q175.07 1370.04 171.436 1370.04 M171.436 1366.33 Q177.246 1366.33 180.301 1370.94 Q183.38 1375.52 183.38 1384.27 Q183.38 1393 180.301 1397.61 Q177.246 1402.19 171.436 1402.19 Q165.626 1402.19 162.547 1397.61 Q159.491 1393 159.491 1384.27 Q159.491 1375.52 162.547 1370.94 Q165.626 1366.33 171.436 1366.33 Z\" fill=\"#000000\" fill-rule=\"nonzero\" fill-opacity=\"1\" /><path clip-path=\"url(#clip130)\" d=\"M201.598 1370.04 Q197.987 1370.04 196.158 1373.6 Q194.352 1377.14 194.352 1384.27 Q194.352 1391.38 196.158 1394.94 Q197.987 1398.49 201.598 1398.49 Q205.232 1398.49 207.037 1394.94 Q208.866 1391.38 208.866 1384.27 Q208.866 1377.14 207.037 1373.6 Q205.232 1370.04 201.598 1370.04 M201.598 1366.33 Q207.408 1366.33 210.463 1370.94 Q213.542 1375.52 213.542 1384.27 Q213.542 1393 210.463 1397.61 Q207.408 1402.19 201.598 1402.19 Q195.787 1402.19 192.709 1397.61 Q189.653 1393 189.653 1384.27 Q189.653 1375.52 192.709 1370.94 Q195.787 1366.33 201.598 1366.33 Z\" fill=\"#000000\" fill-rule=\"nonzero\" fill-opacity=\"1\" /><path clip-path=\"url(#clip130)\" d=\"M127.2 1045.52 Q123.589 1045.52 121.76 1049.09 Q119.955 1052.63 119.955 1059.76 Q119.955 1066.87 121.76 1070.43 Q123.589 1073.97 127.2 1073.97 Q130.834 1073.97 132.64 1070.43 Q134.468 1066.87 134.468 1059.76 Q134.468 1052.63 132.64 1049.09 Q130.834 1045.52 127.2 1045.52 M127.2 1041.82 Q133.01 1041.82 136.066 1046.43 Q139.144 1051.01 139.144 1059.76 Q139.144 1068.49 136.066 1073.09 Q133.01 1077.68 127.2 1077.68 Q121.39 1077.68 118.311 1073.09 Q115.256 1068.49 115.256 1059.76 Q115.256 1051.01 118.311 1046.43 Q121.39 1041.82 127.2 1041.82 Z\" fill=\"#000000\" fill-rule=\"nonzero\" fill-opacity=\"1\" /><path clip-path=\"url(#clip130)\" d=\"M147.362 1071.13 L152.246 1071.13 L152.246 1077.01 L147.362 1077.01 L147.362 1071.13 Z\" fill=\"#000000\" fill-rule=\"nonzero\" fill-opacity=\"1\" /><path clip-path=\"url(#clip130)\" d=\"M166.459 1073.07 L182.778 1073.07 L182.778 1077.01 L160.834 1077.01 L160.834 1073.07 Q163.496 1070.32 168.079 1065.69 Q172.686 1061.03 173.866 1059.69 Q176.112 1057.17 176.991 1055.43 Q177.894 1053.67 177.894 1051.98 Q177.894 1049.23 175.95 1047.49 Q174.028 1045.76 170.927 1045.76 Q168.727 1045.76 166.274 1046.52 Q163.843 1047.28 161.065 1048.83 L161.065 1044.11 Q163.89 1042.98 166.343 1042.4 Q168.797 1041.82 170.834 1041.82 Q176.204 1041.82 179.399 1044.51 Q182.593 1047.19 182.593 1051.68 Q182.593 1053.81 181.783 1055.73 Q180.996 1057.63 178.889 1060.22 Q178.311 1060.89 175.209 1064.11 Q172.107 1067.31 166.459 1073.07 Z\" fill=\"#000000\" fill-rule=\"nonzero\" fill-opacity=\"1\" /><path clip-path=\"url(#clip130)\" d=\"M192.639 1042.45 L210.996 1042.45 L210.996 1046.38 L196.922 1046.38 L196.922 1054.85 Q197.94 1054.51 198.959 1054.34 Q199.977 1054.16 200.996 1054.16 Q206.783 1054.16 210.162 1057.33 Q213.542 1060.5 213.542 1065.92 Q213.542 1071.5 210.07 1074.6 Q206.598 1077.68 200.278 1077.68 Q198.102 1077.68 195.834 1077.31 Q193.588 1076.94 191.181 1076.19 L191.181 1071.5 Q193.264 1072.63 195.487 1073.19 Q197.709 1073.74 200.186 1073.74 Q204.19 1073.74 206.528 1071.63 Q208.866 1069.53 208.866 1065.92 Q208.866 1062.31 206.528 1060.2 Q204.19 1058.09 200.186 1058.09 Q198.311 1058.09 196.436 1058.51 Q194.584 1058.93 192.639 1059.81 L192.639 1042.45 Z\" fill=\"#000000\" fill-rule=\"nonzero\" fill-opacity=\"1\" /><path clip-path=\"url(#clip130)\" d=\"M126.205 721.011 Q122.593 721.011 120.765 724.575 Q118.959 728.117 118.959 735.247 Q118.959 742.353 120.765 745.918 Q122.593 749.46 126.205 749.46 Q129.839 749.46 131.644 745.918 Q133.473 742.353 133.473 735.247 Q133.473 728.117 131.644 724.575 Q129.839 721.011 126.205 721.011 M126.205 717.307 Q132.015 717.307 135.07 721.913 Q138.149 726.497 138.149 735.247 Q138.149 743.973 135.07 748.58 Q132.015 753.163 126.205 753.163 Q120.394 753.163 117.316 748.58 Q114.26 743.973 114.26 735.247 Q114.26 726.497 117.316 721.913 Q120.394 717.307 126.205 717.307 Z\" fill=\"#000000\" fill-rule=\"nonzero\" fill-opacity=\"1\" /><path clip-path=\"url(#clip130)\" d=\"M146.366 746.612 L151.251 746.612 L151.251 752.492 L146.366 752.492 L146.366 746.612 Z\" fill=\"#000000\" fill-rule=\"nonzero\" fill-opacity=\"1\" /><path clip-path=\"url(#clip130)\" d=\"M161.482 717.932 L179.839 717.932 L179.839 721.867 L165.765 721.867 L165.765 730.339 Q166.783 729.992 167.802 729.83 Q168.82 729.645 169.839 729.645 Q175.626 729.645 179.005 732.816 Q182.385 735.987 182.385 741.404 Q182.385 746.983 178.913 750.085 Q175.44 753.163 169.121 753.163 Q166.945 753.163 164.677 752.793 Q162.431 752.423 160.024 751.682 L160.024 746.983 Q162.107 748.117 164.329 748.673 Q166.552 749.228 169.028 749.228 Q173.033 749.228 175.371 747.122 Q177.709 745.015 177.709 741.404 Q177.709 737.793 175.371 735.687 Q173.033 733.58 169.028 733.58 Q167.153 733.58 165.278 733.997 Q163.427 734.413 161.482 735.293 L161.482 717.932 Z\" fill=\"#000000\" fill-rule=\"nonzero\" fill-opacity=\"1\" /><path clip-path=\"url(#clip130)\" d=\"M201.598 721.011 Q197.987 721.011 196.158 724.575 Q194.352 728.117 194.352 735.247 Q194.352 742.353 196.158 745.918 Q197.987 749.46 201.598 749.46 Q205.232 749.46 207.037 745.918 Q208.866 742.353 208.866 735.247 Q208.866 728.117 207.037 724.575 Q205.232 721.011 201.598 721.011 M201.598 717.307 Q207.408 717.307 210.463 721.913 Q213.542 726.497 213.542 735.247 Q213.542 743.973 210.463 748.58 Q207.408 753.163 201.598 753.163 Q195.787 753.163 192.709 748.58 Q189.653 743.973 189.653 735.247 Q189.653 726.497 192.709 721.913 Q195.787 717.307 201.598 717.307 Z\" fill=\"#000000\" fill-rule=\"nonzero\" fill-opacity=\"1\" /><path clip-path=\"url(#clip130)\" d=\"M127.2 396.498 Q123.589 396.498 121.76 400.062 Q119.955 403.604 119.955 410.734 Q119.955 417.84 121.76 421.405 Q123.589 424.946 127.2 424.946 Q130.834 424.946 132.64 421.405 Q134.468 417.84 134.468 410.734 Q134.468 403.604 132.64 400.062 Q130.834 396.498 127.2 396.498 M127.2 392.794 Q133.01 392.794 136.066 397.4 Q139.144 401.984 139.144 410.734 Q139.144 419.46 136.066 424.067 Q133.01 428.65 127.2 428.65 Q121.39 428.65 118.311 424.067 Q115.256 419.46 115.256 410.734 Q115.256 401.984 118.311 397.4 Q121.39 392.794 127.2 392.794 Z\" fill=\"#000000\" fill-rule=\"nonzero\" fill-opacity=\"1\" /><path clip-path=\"url(#clip130)\" d=\"M147.362 422.099 L152.246 422.099 L152.246 427.979 L147.362 427.979 L147.362 422.099 Z\" fill=\"#000000\" fill-rule=\"nonzero\" fill-opacity=\"1\" /><path clip-path=\"url(#clip130)\" d=\"M161.251 393.419 L183.473 393.419 L183.473 395.41 L170.927 427.979 L166.042 427.979 L177.848 397.354 L161.251 397.354 L161.251 393.419 Z\" fill=\"#000000\" fill-rule=\"nonzero\" fill-opacity=\"1\" /><path clip-path=\"url(#clip130)\" d=\"M192.639 393.419 L210.996 393.419 L210.996 397.354 L196.922 397.354 L196.922 405.826 Q197.94 405.479 198.959 405.317 Q199.977 405.132 200.996 405.132 Q206.783 405.132 210.162 408.303 Q213.542 411.474 213.542 416.891 Q213.542 422.47 210.07 425.571 Q206.598 428.65 200.278 428.65 Q198.102 428.65 195.834 428.28 Q193.588 427.909 191.181 427.169 L191.181 422.47 Q193.264 423.604 195.487 424.159 Q197.709 424.715 200.186 424.715 Q204.19 424.715 206.528 422.608 Q208.866 420.502 208.866 416.891 Q208.866 413.28 206.528 411.173 Q204.19 409.067 200.186 409.067 Q198.311 409.067 196.436 409.484 Q194.584 409.9 192.639 410.78 L192.639 393.419 Z\" fill=\"#000000\" fill-rule=\"nonzero\" fill-opacity=\"1\" /><path clip-path=\"url(#clip130)\" d=\"M117.015 99.5305 L124.654 99.5305 L124.654 73.1649 L116.343 74.8316 L116.343 70.5723 L124.607 68.9057 L129.283 68.9057 L129.283 99.5305 L136.922 99.5305 L136.922 103.466 L117.015 103.466 L117.015 99.5305 Z\" fill=\"#000000\" fill-rule=\"nonzero\" fill-opacity=\"1\" /><path clip-path=\"url(#clip130)\" d=\"M146.366 97.5861 L151.251 97.5861 L151.251 103.466 L146.366 103.466 L146.366 97.5861 Z\" fill=\"#000000\" fill-rule=\"nonzero\" fill-opacity=\"1\" /><path clip-path=\"url(#clip130)\" d=\"M171.436 71.9844 Q167.825 71.9844 165.996 75.5492 Q164.19 79.0908 164.19 86.2204 Q164.19 93.3268 165.996 96.8916 Q167.825 100.433 171.436 100.433 Q175.07 100.433 176.876 96.8916 Q178.704 93.3268 178.704 86.2204 Q178.704 79.0908 176.876 75.5492 Q175.07 71.9844 171.436 71.9844 M171.436 68.2807 Q177.246 68.2807 180.301 72.8871 Q183.38 77.4704 183.38 86.2204 Q183.38 94.9472 180.301 99.5537 Q177.246 104.137 171.436 104.137 Q165.626 104.137 162.547 99.5537 Q159.491 94.9472 159.491 86.2204 Q159.491 77.4704 162.547 72.8871 Q165.626 68.2807 171.436 68.2807 Z\" fill=\"#000000\" fill-rule=\"nonzero\" fill-opacity=\"1\" /><path clip-path=\"url(#clip130)\" d=\"M201.598 71.9844 Q197.987 71.9844 196.158 75.5492 Q194.352 79.0908 194.352 86.2204 Q194.352 93.3268 196.158 96.8916 Q197.987 100.433 201.598 100.433 Q205.232 100.433 207.037 96.8916 Q208.866 93.3268 208.866 86.2204 Q208.866 79.0908 207.037 75.5492 Q205.232 71.9844 201.598 71.9844 M201.598 68.2807 Q207.408 68.2807 210.463 72.8871 Q213.542 77.4704 213.542 86.2204 Q213.542 94.9472 210.463 99.5537 Q207.408 104.137 201.598 104.137 Q195.787 104.137 192.709 99.5537 Q189.653 94.9472 189.653 86.2204 Q189.653 77.4704 192.709 72.8871 Q195.787 68.2807 201.598 68.2807 Z\" fill=\"#000000\" fill-rule=\"nonzero\" fill-opacity=\"1\" /><path clip-path=\"url(#clip130)\" d=\"M58.657 820.226 L77.5631 820.226 L77.5631 826.114 L28.3562 826.114 L28.3562 820.226 L33.7671 820.226 Q30.5842 818.38 29.0564 815.579 Q27.4968 812.746 27.4968 808.831 Q27.4968 802.338 32.6531 798.296 Q37.8093 794.222 46.212 794.222 Q54.6147 794.222 59.771 798.296 Q64.9272 802.338 64.9272 808.831 Q64.9272 812.746 63.3994 815.579 Q61.8398 818.38 58.657 820.226 M46.212 800.301 Q39.7508 800.301 36.0905 802.975 Q32.3984 805.617 32.3984 810.264 Q32.3984 814.911 36.0905 817.584 Q39.7508 820.226 46.212 820.226 Q52.6732 820.226 56.3653 817.584 Q60.0256 814.911 60.0256 810.264 Q60.0256 805.617 56.3653 802.975 Q52.6732 800.301 46.212 800.301 Z\" fill=\"#000000\" fill-rule=\"nonzero\" fill-opacity=\"1\" /><path clip-path=\"url(#clip130)\" d=\"M35.1993 756.76 Q31.2526 754.564 29.3747 751.508 Q27.4968 748.453 27.4968 744.315 Q27.4968 738.745 31.4117 735.721 Q35.2948 732.698 42.4881 732.698 L64.0042 732.698 L64.0042 738.586 L42.679 738.586 Q37.5546 738.586 35.072 740.4 Q32.5894 742.214 32.5894 745.938 Q32.5894 750.49 35.6131 753.131 Q38.6368 755.773 43.8567 755.773 L64.0042 755.773 L64.0042 761.661 L42.679 761.661 Q37.5228 761.661 35.072 763.476 Q32.5894 765.29 32.5894 769.078 Q32.5894 773.565 35.6449 776.207 Q38.6686 778.849 43.8567 778.849 L64.0042 778.849 L64.0042 784.737 L28.3562 784.737 L28.3562 778.849 L33.8944 778.849 Q30.616 776.844 29.0564 774.043 Q27.4968 771.242 27.4968 767.391 Q27.4968 763.508 29.4702 760.802 Q31.4436 758.065 35.1993 756.76 Z\" fill=\"#000000\" fill-rule=\"nonzero\" fill-opacity=\"1\" /><path clip-path=\"url(#clip130)\" d=\"M28.3562 721.016 L28.3562 715.16 L64.0042 715.16 L64.0042 721.016 L28.3562 721.016 M14.479 721.016 L14.479 715.16 L21.895 715.16 L21.895 721.016 L14.479 721.016 Z\" fill=\"#000000\" fill-rule=\"nonzero\" fill-opacity=\"1\" /><path clip-path=\"url(#clip130)\" d=\"M29.4065 680.18 L34.9447 680.18 Q33.6716 682.663 33.035 685.337 Q32.3984 688.01 32.3984 690.875 Q32.3984 695.235 33.7352 697.431 Q35.072 699.596 37.7456 699.596 Q39.7826 699.596 40.9603 698.036 Q42.1061 696.477 43.1565 691.766 L43.6021 689.761 Q44.9389 683.522 47.3897 680.912 Q49.8086 678.271 54.1691 678.271 Q59.1344 678.271 62.0308 682.217 Q64.9272 686.132 64.9272 693.007 Q64.9272 695.872 64.3543 698.991 Q63.8132 702.078 62.6992 705.516 L56.6518 705.516 Q58.3387 702.269 59.198 699.118 Q60.0256 695.967 60.0256 692.88 Q60.0256 688.742 58.6251 686.514 Q57.1929 684.286 54.6147 684.286 Q52.2276 684.286 50.9545 685.91 Q49.6813 687.501 48.5037 692.944 L48.0262 694.981 Q46.8804 700.423 44.5251 702.842 Q42.138 705.261 38.0002 705.261 Q32.9713 705.261 30.2341 701.697 Q27.4968 698.132 27.4968 691.575 Q27.4968 688.329 27.9743 685.464 Q28.4517 682.599 29.4065 680.18 Z\" fill=\"#000000\" fill-rule=\"nonzero\" fill-opacity=\"1\" /><path clip-path=\"url(#clip130)\" d=\"M29.4065 646.219 L34.9447 646.219 Q33.6716 648.702 33.035 651.376 Q32.3984 654.049 32.3984 656.914 Q32.3984 661.274 33.7352 663.47 Q35.072 665.635 37.7456 665.635 Q39.7826 665.635 40.9603 664.075 Q42.1061 662.516 43.1565 657.805 L43.6021 655.8 Q44.9389 649.561 47.3897 646.951 Q49.8086 644.31 54.1691 644.31 Q59.1344 644.31 62.0308 648.256 Q64.9272 652.171 64.9272 659.046 Q64.9272 661.911 64.3543 665.03 Q63.8132 668.117 62.6992 671.555 L56.6518 671.555 Q58.3387 668.308 59.198 665.157 Q60.0256 662.006 60.0256 658.919 Q60.0256 654.781 58.6251 652.553 Q57.1929 650.325 54.6147 650.325 Q52.2276 650.325 50.9545 651.949 Q49.6813 653.54 48.5037 658.983 L48.0262 661.02 Q46.8804 666.462 44.5251 668.881 Q42.138 671.3 38.0002 671.3 Q32.9713 671.3 30.2341 667.735 Q27.4968 664.171 27.4968 657.614 Q27.4968 654.367 27.9743 651.503 Q28.4517 648.638 29.4065 646.219 Z\" fill=\"#000000\" fill-rule=\"nonzero\" fill-opacity=\"1\" /><polyline clip-path=\"url(#clip132)\" style=\"stroke:#000000; stroke-linecap:round; stroke-linejoin:round; stroke-width:12; stroke-opacity:1; fill:none\" points=\"2293.23,1384.24 2252.69,1384.24 2249.41,1378.74 2239.55,1378.74 2230.78,1373.24 2225.3,1367.74 2208.87,1367.74 2206.68,1362.24 2182.57,1362.24 2172.71,1356.74 2140.94,1356.74 2117.93,1351.24 2097.12,1345.74 1828.69,1345.74 1815.54,1340.24 1753.09,1340.24 1736.66,1329.24 1700.5,1329.24 1634.76,1323.74 1606.28,1307.24 1508.77,1307.24 1393.73,1301.73 1347.71,1268.73 1093.53,1268.73 1032.17,1257.73 890.84,1257.73 882.075,1241.23 880.98,1235.73 847.015,1235.73 781.278,1230.23 765.94,1224.73 756.079,1213.73 753.888,1208.23 721.019,1202.73 684.864,1186.23 684.864,1175.23 683.768,1169.73 679.386,1164.23 668.43,1158.73 668.43,1153.23 655.282,1142.23 647.613,1136.73 627.892,1120.23 596.119,1054.22 550.103,971.722 549.007,971.722 519.426,883.718 475.601,812.215 430.681,746.212 413.151,713.211 383.569,581.206 372.613,526.204 338.649,361.197 336.457,361.197 336.457,317.195 332.075,278.693 326.597,262.193 325.501,229.191 315.641,152.188 315.641,146.688 310.163,113.687 309.067,86.1857 \"/>\n",
       "<path clip-path=\"url(#clip130)\" d=\"M1613.86 196.789 L2282.65 196.789 L2282.65 93.1086 L1613.86 93.1086  Z\" fill=\"#ffffff\" fill-rule=\"evenodd\" fill-opacity=\"1\"/>\n",
       "<polyline clip-path=\"url(#clip130)\" style=\"stroke:#000000; stroke-linecap:round; stroke-linejoin:round; stroke-width:4; stroke-opacity:1; fill:none\" points=\"1613.86,196.789 2282.65,196.789 2282.65,93.1086 1613.86,93.1086 1613.86,196.789 \"/>\n",
       "<polyline clip-path=\"url(#clip130)\" style=\"stroke:#000000; stroke-linecap:round; stroke-linejoin:round; stroke-width:12; stroke-opacity:1; fill:none\" points=\"1637.23,144.949 1777.44,144.949 \"/>\n",
       "<path clip-path=\"url(#clip130)\" d=\"M1808.22 128.942 L1808.22 136.303 L1816.99 136.303 L1816.99 139.613 L1808.22 139.613 L1808.22 153.687 Q1808.22 156.858 1809.07 157.761 Q1809.95 158.664 1812.62 158.664 L1816.99 158.664 L1816.99 162.229 L1812.62 162.229 Q1807.68 162.229 1805.81 160.4 Q1803.93 158.548 1803.93 153.687 L1803.93 139.613 L1800.81 139.613 L1800.81 136.303 L1803.93 136.303 L1803.93 128.942 L1808.22 128.942 Z\" fill=\"#000000\" fill-rule=\"nonzero\" fill-opacity=\"1\" /><path clip-path=\"url(#clip130)\" d=\"M1844.77 148.201 L1844.77 150.284 L1825.18 150.284 Q1825.46 154.682 1827.82 156.997 Q1830.21 159.289 1834.44 159.289 Q1836.9 159.289 1839.19 158.687 Q1841.5 158.085 1843.77 156.881 L1843.77 160.909 Q1841.48 161.881 1839.07 162.391 Q1836.67 162.9 1834.19 162.9 Q1827.99 162.9 1824.35 159.289 Q1820.74 155.678 1820.74 149.52 Q1820.74 143.155 1824.17 139.428 Q1827.62 135.678 1833.45 135.678 Q1838.68 135.678 1841.71 139.057 Q1844.77 142.414 1844.77 148.201 M1840.51 146.951 Q1840.46 143.456 1838.54 141.372 Q1836.64 139.289 1833.49 139.289 Q1829.93 139.289 1827.78 141.303 Q1825.65 143.317 1825.32 146.974 L1840.51 146.951 Z\" fill=\"#000000\" fill-rule=\"nonzero\" fill-opacity=\"1\" /><path clip-path=\"url(#clip130)\" d=\"M1868.29 137.067 L1868.29 141.094 Q1866.48 140.169 1864.54 139.706 Q1862.59 139.243 1860.51 139.243 Q1857.34 139.243 1855.74 140.215 Q1854.17 141.187 1854.17 143.131 Q1854.17 144.613 1855.3 145.469 Q1856.43 146.303 1859.86 147.067 L1861.32 147.391 Q1865.86 148.363 1867.75 150.145 Q1869.68 151.905 1869.68 155.076 Q1869.68 158.687 1866.8 160.793 Q1863.96 162.9 1858.96 162.9 Q1856.87 162.9 1854.61 162.483 Q1852.36 162.09 1849.86 161.28 L1849.86 156.881 Q1852.22 158.108 1854.51 158.733 Q1856.81 159.335 1859.05 159.335 Q1862.06 159.335 1863.68 158.317 Q1865.3 157.275 1865.3 155.4 Q1865.3 153.664 1864.12 152.738 Q1862.96 151.812 1859 150.956 L1857.52 150.608 Q1853.56 149.775 1851.81 148.062 Q1850.05 146.326 1850.05 143.317 Q1850.05 139.659 1852.64 137.669 Q1855.23 135.678 1860 135.678 Q1862.36 135.678 1864.44 136.025 Q1866.53 136.372 1868.29 137.067 Z\" fill=\"#000000\" fill-rule=\"nonzero\" fill-opacity=\"1\" /><path clip-path=\"url(#clip130)\" d=\"M1880.67 128.942 L1880.67 136.303 L1889.44 136.303 L1889.44 139.613 L1880.67 139.613 L1880.67 153.687 Q1880.67 156.858 1881.53 157.761 Q1882.41 158.664 1885.07 158.664 L1889.44 158.664 L1889.44 162.229 L1885.07 162.229 Q1880.14 162.229 1878.26 160.4 Q1876.39 158.548 1876.39 153.687 L1876.39 139.613 L1873.26 139.613 L1873.26 136.303 L1876.39 136.303 L1876.39 128.942 L1880.67 128.942 Z\" fill=\"#000000\" fill-rule=\"nonzero\" fill-opacity=\"1\" /><path clip-path=\"url(#clip130)\" d=\"M1920.35 126.257 Q1917.24 131.581 1915.74 136.789 Q1914.24 141.997 1914.24 147.344 Q1914.24 152.692 1915.74 157.946 Q1917.27 163.178 1920.35 168.479 L1916.64 168.479 Q1913.17 163.039 1911.43 157.784 Q1909.72 152.53 1909.72 147.344 Q1909.72 142.182 1911.43 136.951 Q1913.15 131.72 1916.64 126.257 L1920.35 126.257 Z\" fill=\"#000000\" fill-rule=\"nonzero\" fill-opacity=\"1\" /><path clip-path=\"url(#clip130)\" d=\"M1940.35 132.275 L1934 149.474 L1946.71 149.474 L1940.35 132.275 M1937.71 127.669 L1943.01 127.669 L1956.18 162.229 L1951.32 162.229 L1948.17 153.363 L1932.59 153.363 L1929.44 162.229 L1924.51 162.229 L1937.71 127.669 Z\" fill=\"#000000\" fill-rule=\"nonzero\" fill-opacity=\"1\" /><path clip-path=\"url(#clip130)\" d=\"M1960.69 127.669 L1965.39 127.669 L1965.39 148.664 Q1965.39 154.219 1967.41 156.673 Q1969.42 159.104 1973.93 159.104 Q1978.42 159.104 1980.44 156.673 Q1982.45 154.219 1982.45 148.664 L1982.45 127.669 L1987.15 127.669 L1987.15 149.243 Q1987.15 156.002 1983.8 159.451 Q1980.46 162.9 1973.93 162.9 Q1967.38 162.9 1964.03 159.451 Q1960.69 156.002 1960.69 149.243 L1960.69 127.669 Z\" fill=\"#000000\" fill-rule=\"nonzero\" fill-opacity=\"1\" /><path clip-path=\"url(#clip130)\" d=\"M2021.8 130.331 L2021.8 135.261 Q2019.44 133.062 2016.76 131.974 Q2014.1 130.886 2011.09 130.886 Q2005.16 130.886 2002.01 134.52 Q1998.86 138.132 1998.86 144.983 Q1998.86 151.812 2002.01 155.446 Q2005.16 159.057 2011.09 159.057 Q2014.1 159.057 2016.76 157.969 Q2019.44 156.881 2021.8 154.682 L2021.8 159.567 Q2019.35 161.233 2016.6 162.067 Q2013.86 162.9 2010.81 162.9 Q2002.96 162.9 1998.45 158.108 Q1993.93 153.293 1993.93 144.983 Q1993.93 136.65 1998.45 131.858 Q2002.96 127.044 2010.81 127.044 Q2013.91 127.044 2016.64 127.877 Q2019.4 128.687 2021.8 130.331 Z\" fill=\"#000000\" fill-rule=\"nonzero\" fill-opacity=\"1\" /><path clip-path=\"url(#clip130)\" d=\"M2029.4 140.701 L2059.07 140.701 L2059.07 144.59 L2029.4 144.59 L2029.4 140.701 M2029.4 150.145 L2059.07 150.145 L2059.07 154.081 L2029.4 154.081 L2029.4 150.145 Z\" fill=\"#000000\" fill-rule=\"nonzero\" fill-opacity=\"1\" /><path clip-path=\"url(#clip130)\" d=\"M2069.98 158.293 L2077.61 158.293 L2077.61 131.928 L2069.3 133.595 L2069.3 129.335 L2077.57 127.669 L2082.24 127.669 L2082.24 158.293 L2089.88 158.293 L2089.88 162.229 L2069.98 162.229 L2069.98 158.293 Z\" fill=\"#000000\" fill-rule=\"nonzero\" fill-opacity=\"1\" /><path clip-path=\"url(#clip130)\" d=\"M2113.49 143.594 Q2116.85 144.312 2118.72 146.581 Q2120.62 148.849 2120.62 152.182 Q2120.62 157.298 2117.1 160.099 Q2113.59 162.9 2107.1 162.9 Q2104.93 162.9 2102.61 162.46 Q2100.32 162.043 2097.87 161.187 L2097.87 156.673 Q2099.81 157.807 2102.13 158.386 Q2104.44 158.965 2106.97 158.965 Q2111.36 158.965 2113.66 157.229 Q2115.97 155.493 2115.97 152.182 Q2115.97 149.127 2113.82 147.414 Q2111.69 145.678 2107.87 145.678 L2103.84 145.678 L2103.84 141.835 L2108.05 141.835 Q2111.5 141.835 2113.33 140.469 Q2115.16 139.081 2115.16 136.488 Q2115.16 133.826 2113.26 132.414 Q2111.39 130.979 2107.87 130.979 Q2105.95 130.979 2103.75 131.395 Q2101.55 131.812 2098.91 132.692 L2098.91 128.525 Q2101.57 127.784 2103.89 127.414 Q2106.22 127.044 2108.29 127.044 Q2113.61 127.044 2116.71 129.474 Q2119.81 131.882 2119.81 136.002 Q2119.81 138.872 2118.17 140.863 Q2116.53 142.831 2113.49 143.594 Z\" fill=\"#000000\" fill-rule=\"nonzero\" fill-opacity=\"1\" /><path clip-path=\"url(#clip130)\" d=\"M2129.49 156.349 L2134.37 156.349 L2134.37 162.229 L2129.49 162.229 L2129.49 156.349 Z\" fill=\"#000000\" fill-rule=\"nonzero\" fill-opacity=\"1\" /><path clip-path=\"url(#clip130)\" d=\"M2144.6 127.669 L2162.96 127.669 L2162.96 131.604 L2148.89 131.604 L2148.89 140.076 Q2149.91 139.729 2150.92 139.567 Q2151.94 139.382 2152.96 139.382 Q2158.75 139.382 2162.13 142.553 Q2165.51 145.724 2165.51 151.141 Q2165.51 156.719 2162.03 159.821 Q2158.56 162.9 2152.24 162.9 Q2150.07 162.9 2147.8 162.53 Q2145.55 162.159 2143.15 161.418 L2143.15 156.719 Q2145.23 157.854 2147.45 158.409 Q2149.67 158.965 2152.15 158.965 Q2156.16 158.965 2158.49 156.858 Q2160.83 154.752 2160.83 151.141 Q2160.83 147.53 2158.49 145.423 Q2156.16 143.317 2152.15 143.317 Q2150.28 143.317 2148.4 143.733 Q2146.55 144.15 2144.6 145.03 L2144.6 127.669 Z\" fill=\"#000000\" fill-rule=\"nonzero\" fill-opacity=\"1\" /><path clip-path=\"url(#clip130)\" d=\"M2187.57 131.743 L2175.76 150.192 L2187.57 150.192 L2187.57 131.743 M2186.34 127.669 L2192.22 127.669 L2192.22 150.192 L2197.15 150.192 L2197.15 154.081 L2192.22 154.081 L2192.22 162.229 L2187.57 162.229 L2187.57 154.081 L2171.97 154.081 L2171.97 149.567 L2186.34 127.669 Z\" fill=\"#000000\" fill-rule=\"nonzero\" fill-opacity=\"1\" /><path clip-path=\"url(#clip130)\" d=\"M2234.28 147.02 Q2232.27 147.02 2231.11 148.733 Q2229.97 150.446 2229.97 153.502 Q2229.97 156.511 2231.11 158.247 Q2232.27 159.96 2234.28 159.96 Q2236.25 159.96 2237.38 158.247 Q2238.54 156.511 2238.54 153.502 Q2238.54 150.469 2237.38 148.756 Q2236.25 147.02 2234.28 147.02 M2234.28 144.081 Q2237.94 144.081 2240.09 146.627 Q2242.24 149.173 2242.24 153.502 Q2242.24 157.83 2240.07 160.377 Q2237.91 162.9 2234.28 162.9 Q2230.58 162.9 2228.42 160.377 Q2226.27 157.83 2226.27 153.502 Q2226.27 149.15 2228.42 146.627 Q2230.6 144.081 2234.28 144.081 M2210.39 129.983 Q2208.4 129.983 2207.24 131.72 Q2206.11 133.432 2206.11 136.442 Q2206.11 139.497 2207.24 141.21 Q2208.38 142.923 2210.39 142.923 Q2212.4 142.923 2213.54 141.21 Q2214.7 139.497 2214.7 136.442 Q2214.7 133.456 2213.54 131.72 Q2212.38 129.983 2210.39 129.983 M2231.29 127.044 L2235 127.044 L2213.38 162.9 L2209.67 162.9 L2231.29 127.044 M2210.39 127.044 Q2214.05 127.044 2216.22 129.59 Q2218.4 132.113 2218.4 136.442 Q2218.4 140.817 2216.22 143.34 Q2214.07 145.863 2210.39 145.863 Q2206.71 145.863 2204.56 143.34 Q2202.43 140.794 2202.43 136.442 Q2202.43 132.136 2204.58 129.59 Q2206.73 127.044 2210.39 127.044 Z\" fill=\"#000000\" fill-rule=\"nonzero\" fill-opacity=\"1\" /><path clip-path=\"url(#clip130)\" d=\"M2248.65 126.257 L2252.36 126.257 Q2255.83 131.72 2257.54 136.951 Q2259.28 142.182 2259.28 147.344 Q2259.28 152.53 2257.54 157.784 Q2255.83 163.039 2252.36 168.479 L2248.65 168.479 Q2251.73 163.178 2253.24 157.946 Q2254.77 152.692 2254.77 147.344 Q2254.77 141.997 2253.24 136.789 Q2251.73 131.581 2248.65 126.257 Z\" fill=\"#000000\" fill-rule=\"nonzero\" fill-opacity=\"1\" /></svg>\n"
      ]
     },
     "execution_count": 63,
     "metadata": {},
     "output_type": "execute_result"
    }
   ],
   "source": [
    "plot(test_roc.pfa, test_roc.pmiss;\n",
    "    color=\"black\", lw=3,\n",
    "    label=\"test (AUC=$(round(100*auc(test_roc), digits=2))%)\",\n",
    "    xlabel=\"pfa\", ylabel=\"pmiss\")"
   ]
  },
  {
   "cell_type": "code",
   "execution_count": 64,
   "id": "96f0a95a",
   "metadata": {},
   "outputs": [
    {
     "data": {
      "text/plain": [
       "ROC curve with 76 points, of which 16 on the convex hull"
      ]
     },
     "execution_count": 64,
     "metadata": {},
     "output_type": "execute_result"
    }
   ],
   "source": [
    "train_roc = roc(train, score=:predict, target=:arrest)"
   ]
  },
  {
   "cell_type": "code",
   "execution_count": 65,
   "id": "2d9ae7c6",
   "metadata": {},
   "outputs": [
    {
     "data": {
      "image/png": "[encoded data removed]",
      "image/svg+xml": [
       "<?xml version=\"1.0\" encoding=\"utf-8\"?>\n",
       "<svg xmlns=\"http://www.w3.org/2000/svg\" xmlns:xlink=\"http://www.w3.org/1999/xlink\" width=\"600\" height=\"400\" viewBox=\"0 0 2400 1600\">\n",
       "<defs>\n",
       "  <clipPath id=\"clip170\">\n",
       "    <rect x=\"0\" y=\"0\" width=\"2400\" height=\"1600\"/>\n",
       "  </clipPath>\n",
       "</defs>\n",
       "<path clip-path=\"url(#clip170)\" d=\"M0 1600 L2400 1600 L2400 0 L0 0  Z\" fill=\"#ffffff\" fill-rule=\"evenodd\" fill-opacity=\"1\"/>\n",
       "<defs>\n",
       "  <clipPath id=\"clip171\">\n",
       "    <rect x=\"480\" y=\"0\" width=\"1681\" height=\"1600\"/>\n",
       "  </clipPath>\n",
       "</defs>\n",
       "<path clip-path=\"url(#clip170)\" d=\"M249.542 1423.18 L2352.76 1423.18 L2352.76 47.2441 L249.542 47.2441  Z\" fill=\"#ffffff\" fill-rule=\"evenodd\" fill-opacity=\"1\"/>\n",
       "<defs>\n",
       "  <clipPath id=\"clip172\">\n",
       "    <rect x=\"249\" y=\"47\" width=\"2104\" height=\"1377\"/>\n",
       "  </clipPath>\n",
       "</defs>\n",
       "<polyline clip-path=\"url(#clip172)\" style=\"stroke:#000000; stroke-linecap:round; stroke-linejoin:round; stroke-width:2; stroke-opacity:0.1; fill:none\" points=\"309.067,1423.18 309.067,47.2441 \"/>\n",
       "<polyline clip-path=\"url(#clip172)\" style=\"stroke:#000000; stroke-linecap:round; stroke-linejoin:round; stroke-width:2; stroke-opacity:0.1; fill:none\" points=\"805.108,1423.18 805.108,47.2441 \"/>\n",
       "<polyline clip-path=\"url(#clip172)\" style=\"stroke:#000000; stroke-linecap:round; stroke-linejoin:round; stroke-width:2; stroke-opacity:0.1; fill:none\" points=\"1301.15,1423.18 1301.15,47.2441 \"/>\n",
       "<polyline clip-path=\"url(#clip172)\" style=\"stroke:#000000; stroke-linecap:round; stroke-linejoin:round; stroke-width:2; stroke-opacity:0.1; fill:none\" points=\"1797.19,1423.18 1797.19,47.2441 \"/>\n",
       "<polyline clip-path=\"url(#clip172)\" style=\"stroke:#000000; stroke-linecap:round; stroke-linejoin:round; stroke-width:2; stroke-opacity:0.1; fill:none\" points=\"2293.23,1423.18 2293.23,47.2441 \"/>\n",
       "<polyline clip-path=\"url(#clip170)\" style=\"stroke:#000000; stroke-linecap:round; stroke-linejoin:round; stroke-width:4; stroke-opacity:1; fill:none\" points=\"249.542,1423.18 2352.76,1423.18 \"/>\n",
       "<polyline clip-path=\"url(#clip170)\" style=\"stroke:#000000; stroke-linecap:round; stroke-linejoin:round; stroke-width:4; stroke-opacity:1; fill:none\" points=\"309.067,1423.18 309.067,1404.28 \"/>\n",
       "<polyline clip-path=\"url(#clip170)\" style=\"stroke:#000000; stroke-linecap:round; stroke-linejoin:round; stroke-width:4; stroke-opacity:1; fill:none\" points=\"805.108,1423.18 805.108,1404.28 \"/>\n",
       "<polyline clip-path=\"url(#clip170)\" style=\"stroke:#000000; stroke-linecap:round; stroke-linejoin:round; stroke-width:4; stroke-opacity:1; fill:none\" points=\"1301.15,1423.18 1301.15,1404.28 \"/>\n",
       "<polyline clip-path=\"url(#clip170)\" style=\"stroke:#000000; stroke-linecap:round; stroke-linejoin:round; stroke-width:4; stroke-opacity:1; fill:none\" points=\"1797.19,1423.18 1797.19,1404.28 \"/>\n",
       "<polyline clip-path=\"url(#clip170)\" style=\"stroke:#000000; stroke-linecap:round; stroke-linejoin:round; stroke-width:4; stroke-opacity:1; fill:none\" points=\"2293.23,1423.18 2293.23,1404.28 \"/>\n",
       "<path clip-path=\"url(#clip170)\" d=\"M271.37 1454.1 Q267.759 1454.1 265.931 1457.66 Q264.125 1461.2 264.125 1468.33 Q264.125 1475.44 265.931 1479.01 Q267.759 1482.55 271.37 1482.55 Q275.005 1482.55 276.81 1479.01 Q278.639 1475.44 278.639 1468.33 Q278.639 1461.2 276.81 1457.66 Q275.005 1454.1 271.37 1454.1 M271.37 1450.39 Q277.181 1450.39 280.236 1455 Q283.315 1459.58 283.315 1468.33 Q283.315 1477.06 280.236 1481.67 Q277.181 1486.25 271.37 1486.25 Q265.56 1486.25 262.482 1481.67 Q259.426 1477.06 259.426 1468.33 Q259.426 1459.58 262.482 1455 Q265.56 1450.39 271.37 1450.39 Z\" fill=\"#000000\" fill-rule=\"nonzero\" fill-opacity=\"1\" /><path clip-path=\"url(#clip170)\" d=\"M291.532 1479.7 L296.417 1479.7 L296.417 1485.58 L291.532 1485.58 L291.532 1479.7 Z\" fill=\"#000000\" fill-rule=\"nonzero\" fill-opacity=\"1\" /><path clip-path=\"url(#clip170)\" d=\"M316.602 1454.1 Q312.991 1454.1 311.162 1457.66 Q309.356 1461.2 309.356 1468.33 Q309.356 1475.44 311.162 1479.01 Q312.991 1482.55 316.602 1482.55 Q320.236 1482.55 322.041 1479.01 Q323.87 1475.44 323.87 1468.33 Q323.87 1461.2 322.041 1457.66 Q320.236 1454.1 316.602 1454.1 M316.602 1450.39 Q322.412 1450.39 325.467 1455 Q328.546 1459.58 328.546 1468.33 Q328.546 1477.06 325.467 1481.67 Q322.412 1486.25 316.602 1486.25 Q310.791 1486.25 307.713 1481.67 Q304.657 1477.06 304.657 1468.33 Q304.657 1459.58 307.713 1455 Q310.791 1450.39 316.602 1450.39 Z\" fill=\"#000000\" fill-rule=\"nonzero\" fill-opacity=\"1\" /><path clip-path=\"url(#clip170)\" d=\"M346.764 1454.1 Q343.152 1454.1 341.324 1457.66 Q339.518 1461.2 339.518 1468.33 Q339.518 1475.44 341.324 1479.01 Q343.152 1482.55 346.764 1482.55 Q350.398 1482.55 352.203 1479.01 Q354.032 1475.44 354.032 1468.33 Q354.032 1461.2 352.203 1457.66 Q350.398 1454.1 346.764 1454.1 M346.764 1450.39 Q352.574 1450.39 355.629 1455 Q358.708 1459.58 358.708 1468.33 Q358.708 1477.06 355.629 1481.67 Q352.574 1486.25 346.764 1486.25 Q340.953 1486.25 337.875 1481.67 Q334.819 1477.06 334.819 1468.33 Q334.819 1459.58 337.875 1455 Q340.953 1450.39 346.764 1450.39 Z\" fill=\"#000000\" fill-rule=\"nonzero\" fill-opacity=\"1\" /><path clip-path=\"url(#clip170)\" d=\"M767.909 1454.1 Q764.298 1454.1 762.469 1457.66 Q760.664 1461.2 760.664 1468.33 Q760.664 1475.44 762.469 1479.01 Q764.298 1482.55 767.909 1482.55 Q771.543 1482.55 773.349 1479.01 Q775.178 1475.44 775.178 1468.33 Q775.178 1461.2 773.349 1457.66 Q771.543 1454.1 767.909 1454.1 M767.909 1450.39 Q773.719 1450.39 776.775 1455 Q779.853 1459.58 779.853 1468.33 Q779.853 1477.06 776.775 1481.67 Q773.719 1486.25 767.909 1486.25 Q762.099 1486.25 759.02 1481.67 Q755.965 1477.06 755.965 1468.33 Q755.965 1459.58 759.02 1455 Q762.099 1450.39 767.909 1450.39 Z\" fill=\"#000000\" fill-rule=\"nonzero\" fill-opacity=\"1\" /><path clip-path=\"url(#clip170)\" d=\"M788.071 1479.7 L792.955 1479.7 L792.955 1485.58 L788.071 1485.58 L788.071 1479.7 Z\" fill=\"#000000\" fill-rule=\"nonzero\" fill-opacity=\"1\" /><path clip-path=\"url(#clip170)\" d=\"M807.168 1481.64 L823.487 1481.64 L823.487 1485.58 L801.543 1485.58 L801.543 1481.64 Q804.205 1478.89 808.788 1474.26 Q813.395 1469.61 814.576 1468.27 Q816.821 1465.74 817.7 1464.01 Q818.603 1462.25 818.603 1460.56 Q818.603 1457.8 816.659 1456.07 Q814.738 1454.33 811.636 1454.33 Q809.437 1454.33 806.983 1455.09 Q804.552 1455.86 801.775 1457.41 L801.775 1452.69 Q804.599 1451.55 807.052 1450.97 Q809.506 1450.39 811.543 1450.39 Q816.913 1450.39 820.108 1453.08 Q823.302 1455.77 823.302 1460.26 Q823.302 1462.39 822.492 1464.31 Q821.705 1466.2 819.599 1468.8 Q819.02 1469.47 815.918 1472.69 Q812.816 1475.88 807.168 1481.64 Z\" fill=\"#000000\" fill-rule=\"nonzero\" fill-opacity=\"1\" /><path clip-path=\"url(#clip170)\" d=\"M833.349 1451.02 L851.705 1451.02 L851.705 1454.96 L837.631 1454.96 L837.631 1463.43 Q838.649 1463.08 839.668 1462.92 Q840.686 1462.73 841.705 1462.73 Q847.492 1462.73 850.872 1465.9 Q854.251 1469.08 854.251 1474.49 Q854.251 1480.07 850.779 1483.17 Q847.307 1486.25 840.987 1486.25 Q838.811 1486.25 836.543 1485.88 Q834.298 1485.51 831.89 1484.77 L831.89 1480.07 Q833.974 1481.2 836.196 1481.76 Q838.418 1482.32 840.895 1482.32 Q844.899 1482.32 847.237 1480.21 Q849.575 1478.1 849.575 1474.49 Q849.575 1470.88 847.237 1468.77 Q844.899 1466.67 840.895 1466.67 Q839.02 1466.67 837.145 1467.08 Q835.293 1467.5 833.349 1468.38 L833.349 1451.02 Z\" fill=\"#000000\" fill-rule=\"nonzero\" fill-opacity=\"1\" /><path clip-path=\"url(#clip170)\" d=\"M1263.45 1454.1 Q1259.84 1454.1 1258.01 1457.66 Q1256.21 1461.2 1256.21 1468.33 Q1256.21 1475.44 1258.01 1479.01 Q1259.84 1482.55 1263.45 1482.55 Q1267.09 1482.55 1268.89 1479.01 Q1270.72 1475.44 1270.72 1468.33 Q1270.72 1461.2 1268.89 1457.66 Q1267.09 1454.1 1263.45 1454.1 M1263.45 1450.39 Q1269.26 1450.39 1272.32 1455 Q1275.4 1459.58 1275.4 1468.33 Q1275.4 1477.06 1272.32 1481.67 Q1269.26 1486.25 1263.45 1486.25 Q1257.64 1486.25 1254.56 1481.67 Q1251.51 1477.06 1251.51 1468.33 Q1251.51 1459.58 1254.56 1455 Q1257.64 1450.39 1263.45 1450.39 Z\" fill=\"#000000\" fill-rule=\"nonzero\" fill-opacity=\"1\" /><path clip-path=\"url(#clip170)\" d=\"M1283.61 1479.7 L1288.5 1479.7 L1288.5 1485.58 L1283.61 1485.58 L1283.61 1479.7 Z\" fill=\"#000000\" fill-rule=\"nonzero\" fill-opacity=\"1\" /><path clip-path=\"url(#clip170)\" d=\"M1298.73 1451.02 L1317.09 1451.02 L1317.09 1454.96 L1303.01 1454.96 L1303.01 1463.43 Q1304.03 1463.08 1305.05 1462.92 Q1306.07 1462.73 1307.09 1462.73 Q1312.87 1462.73 1316.25 1465.9 Q1319.63 1469.08 1319.63 1474.49 Q1319.63 1480.07 1316.16 1483.17 Q1312.69 1486.25 1306.37 1486.25 Q1304.19 1486.25 1301.92 1485.88 Q1299.68 1485.51 1297.27 1484.77 L1297.27 1480.07 Q1299.35 1481.2 1301.58 1481.76 Q1303.8 1482.32 1306.28 1482.32 Q1310.28 1482.32 1312.62 1480.21 Q1314.96 1478.1 1314.96 1474.49 Q1314.96 1470.88 1312.62 1468.77 Q1310.28 1466.67 1306.28 1466.67 Q1304.4 1466.67 1302.53 1467.08 Q1300.67 1467.5 1298.73 1468.38 L1298.73 1451.02 Z\" fill=\"#000000\" fill-rule=\"nonzero\" fill-opacity=\"1\" /><path clip-path=\"url(#clip170)\" d=\"M1338.85 1454.1 Q1335.23 1454.1 1333.41 1457.66 Q1331.6 1461.2 1331.6 1468.33 Q1331.6 1475.44 1333.41 1479.01 Q1335.23 1482.55 1338.85 1482.55 Q1342.48 1482.55 1344.29 1479.01 Q1346.11 1475.44 1346.11 1468.33 Q1346.11 1461.2 1344.29 1457.66 Q1342.48 1454.1 1338.85 1454.1 M1338.85 1450.39 Q1344.66 1450.39 1347.71 1455 Q1350.79 1459.58 1350.79 1468.33 Q1350.79 1477.06 1347.71 1481.67 Q1344.66 1486.25 1338.85 1486.25 Q1333.04 1486.25 1329.96 1481.67 Q1326.9 1477.06 1326.9 1468.33 Q1326.9 1459.58 1329.96 1455 Q1333.04 1450.39 1338.85 1450.39 Z\" fill=\"#000000\" fill-rule=\"nonzero\" fill-opacity=\"1\" /><path clip-path=\"url(#clip170)\" d=\"M1759.99 1454.1 Q1756.38 1454.1 1754.55 1457.66 Q1752.75 1461.2 1752.75 1468.33 Q1752.75 1475.44 1754.55 1479.01 Q1756.38 1482.55 1759.99 1482.55 Q1763.63 1482.55 1765.43 1479.01 Q1767.26 1475.44 1767.26 1468.33 Q1767.26 1461.2 1765.43 1457.66 Q1763.63 1454.1 1759.99 1454.1 M1759.99 1450.39 Q1765.8 1450.39 1768.86 1455 Q1771.94 1459.58 1771.94 1468.33 Q1771.94 1477.06 1768.86 1481.67 Q1765.8 1486.25 1759.99 1486.25 Q1754.18 1486.25 1751.1 1481.67 Q1748.05 1477.06 1748.05 1468.33 Q1748.05 1459.58 1751.1 1455 Q1754.18 1450.39 1759.99 1450.39 Z\" fill=\"#000000\" fill-rule=\"nonzero\" fill-opacity=\"1\" /><path clip-path=\"url(#clip170)\" d=\"M1780.15 1479.7 L1785.04 1479.7 L1785.04 1485.58 L1780.15 1485.58 L1780.15 1479.7 Z\" fill=\"#000000\" fill-rule=\"nonzero\" fill-opacity=\"1\" /><path clip-path=\"url(#clip170)\" d=\"M1794.04 1451.02 L1816.26 1451.02 L1816.26 1453.01 L1803.72 1485.58 L1798.83 1485.58 L1810.64 1454.96 L1794.04 1454.96 L1794.04 1451.02 Z\" fill=\"#000000\" fill-rule=\"nonzero\" fill-opacity=\"1\" /><path clip-path=\"url(#clip170)\" d=\"M1825.43 1451.02 L1843.79 1451.02 L1843.79 1454.96 L1829.71 1454.96 L1829.71 1463.43 Q1830.73 1463.08 1831.75 1462.92 Q1832.77 1462.73 1833.79 1462.73 Q1839.57 1462.73 1842.95 1465.9 Q1846.33 1469.08 1846.33 1474.49 Q1846.33 1480.07 1842.86 1483.17 Q1839.39 1486.25 1833.07 1486.25 Q1830.89 1486.25 1828.62 1485.88 Q1826.38 1485.51 1823.97 1484.77 L1823.97 1480.07 Q1826.06 1481.2 1828.28 1481.76 Q1830.5 1482.32 1832.98 1482.32 Q1836.98 1482.32 1839.32 1480.21 Q1841.66 1478.1 1841.66 1474.49 Q1841.66 1470.88 1839.32 1468.77 Q1836.98 1466.67 1832.98 1466.67 Q1831.1 1466.67 1829.23 1467.08 Q1827.38 1467.5 1825.43 1468.38 L1825.43 1451.02 Z\" fill=\"#000000\" fill-rule=\"nonzero\" fill-opacity=\"1\" /><path clip-path=\"url(#clip170)\" d=\"M2245.3 1481.64 L2252.94 1481.64 L2252.94 1455.28 L2244.63 1456.95 L2244.63 1452.69 L2252.9 1451.02 L2257.57 1451.02 L2257.57 1481.64 L2265.21 1481.64 L2265.21 1485.58 L2245.3 1485.58 L2245.3 1481.64 Z\" fill=\"#000000\" fill-rule=\"nonzero\" fill-opacity=\"1\" /><path clip-path=\"url(#clip170)\" d=\"M2274.65 1479.7 L2279.54 1479.7 L2279.54 1485.58 L2274.65 1485.58 L2274.65 1479.7 Z\" fill=\"#000000\" fill-rule=\"nonzero\" fill-opacity=\"1\" /><path clip-path=\"url(#clip170)\" d=\"M2299.72 1454.1 Q2296.11 1454.1 2294.28 1457.66 Q2292.48 1461.2 2292.48 1468.33 Q2292.48 1475.44 2294.28 1479.01 Q2296.11 1482.55 2299.72 1482.55 Q2303.36 1482.55 2305.16 1479.01 Q2306.99 1475.44 2306.99 1468.33 Q2306.99 1461.2 2305.16 1457.66 Q2303.36 1454.1 2299.72 1454.1 M2299.72 1450.39 Q2305.53 1450.39 2308.59 1455 Q2311.67 1459.58 2311.67 1468.33 Q2311.67 1477.06 2308.59 1481.67 Q2305.53 1486.25 2299.72 1486.25 Q2293.91 1486.25 2290.84 1481.67 Q2287.78 1477.06 2287.78 1468.33 Q2287.78 1459.58 2290.84 1455 Q2293.91 1450.39 2299.72 1450.39 Z\" fill=\"#000000\" fill-rule=\"nonzero\" fill-opacity=\"1\" /><path clip-path=\"url(#clip170)\" d=\"M2329.89 1454.1 Q2326.27 1454.1 2324.45 1457.66 Q2322.64 1461.2 2322.64 1468.33 Q2322.64 1475.44 2324.45 1479.01 Q2326.27 1482.55 2329.89 1482.55 Q2333.52 1482.55 2335.33 1479.01 Q2337.15 1475.44 2337.15 1468.33 Q2337.15 1461.2 2335.33 1457.66 Q2333.52 1454.1 2329.89 1454.1 M2329.89 1450.39 Q2335.7 1450.39 2338.75 1455 Q2341.83 1459.58 2341.83 1468.33 Q2341.83 1477.06 2338.75 1481.67 Q2335.7 1486.25 2329.89 1486.25 Q2324.08 1486.25 2321 1481.67 Q2317.94 1477.06 2317.94 1468.33 Q2317.94 1459.58 2321 1455 Q2324.08 1450.39 2329.89 1450.39 Z\" fill=\"#000000\" fill-rule=\"nonzero\" fill-opacity=\"1\" /><path clip-path=\"url(#clip170)\" d=\"M1260.82 1562.7 L1260.82 1581.6 L1254.93 1581.6 L1254.93 1532.4 L1260.82 1532.4 L1260.82 1537.81 Q1262.67 1534.62 1265.47 1533.1 Q1268.3 1531.54 1272.22 1531.54 Q1278.71 1531.54 1282.75 1536.69 Q1286.83 1541.85 1286.83 1550.25 Q1286.83 1558.65 1282.75 1563.81 Q1278.71 1568.97 1272.22 1568.97 Q1268.3 1568.97 1265.47 1567.44 Q1262.67 1565.88 1260.82 1562.7 M1280.75 1550.25 Q1280.75 1543.79 1278.07 1540.13 Q1275.43 1536.44 1270.78 1536.44 Q1266.14 1536.44 1263.46 1540.13 Q1260.82 1543.79 1260.82 1550.25 Q1260.82 1556.71 1263.46 1560.4 Q1266.14 1564.07 1270.78 1564.07 Q1275.43 1564.07 1278.07 1560.4 Q1280.75 1556.71 1280.75 1550.25 Z\" fill=\"#000000\" fill-rule=\"nonzero\" fill-opacity=\"1\" /><path clip-path=\"url(#clip170)\" d=\"M1314.58 1518.52 L1314.58 1523.39 L1308.98 1523.39 Q1305.83 1523.39 1304.59 1524.66 Q1303.38 1525.93 1303.38 1529.24 L1303.38 1532.4 L1313.02 1532.4 L1313.02 1536.95 L1303.38 1536.95 L1303.38 1568.04 L1297.49 1568.04 L1297.49 1536.95 L1291.89 1536.95 L1291.89 1532.4 L1297.49 1532.4 L1297.49 1529.91 Q1297.49 1523.96 1300.26 1521.26 Q1303.03 1518.52 1309.04 1518.52 L1314.58 1518.52 Z\" fill=\"#000000\" fill-rule=\"nonzero\" fill-opacity=\"1\" /><path clip-path=\"url(#clip170)\" d=\"M1335.68 1550.12 Q1328.59 1550.12 1325.85 1551.75 Q1323.11 1553.37 1323.11 1557.29 Q1323.11 1560.4 1325.15 1562.25 Q1327.22 1564.07 1330.75 1564.07 Q1335.62 1564.07 1338.55 1560.63 Q1341.51 1557.16 1341.51 1551.43 L1341.51 1550.12 L1335.68 1550.12 M1347.36 1547.71 L1347.36 1568.04 L1341.51 1568.04 L1341.51 1562.63 Q1339.5 1565.88 1336.51 1567.44 Q1333.52 1568.97 1329.19 1568.97 Q1323.72 1568.97 1320.47 1565.91 Q1317.25 1562.82 1317.25 1557.67 Q1317.25 1551.65 1321.26 1548.6 Q1325.31 1545.54 1333.3 1545.54 L1341.51 1545.54 L1341.51 1544.97 Q1341.51 1540.93 1338.83 1538.73 Q1336.19 1536.5 1331.39 1536.5 Q1328.33 1536.5 1325.43 1537.23 Q1322.54 1537.97 1319.86 1539.43 L1319.86 1534.02 Q1323.08 1532.78 1326.1 1532.17 Q1329.13 1531.54 1331.99 1531.54 Q1339.73 1531.54 1343.54 1535.55 Q1347.36 1539.56 1347.36 1547.71 Z\" fill=\"#000000\" fill-rule=\"nonzero\" fill-opacity=\"1\" /><polyline clip-path=\"url(#clip172)\" style=\"stroke:#000000; stroke-linecap:round; stroke-linejoin:round; stroke-width:2; stroke-opacity:0.1; fill:none\" points=\"249.542,1384.24 2352.76,1384.24 \"/>\n",
       "<polyline clip-path=\"url(#clip172)\" style=\"stroke:#000000; stroke-linecap:round; stroke-linejoin:round; stroke-width:2; stroke-opacity:0.1; fill:none\" points=\"249.542,1059.73 2352.76,1059.73 \"/>\n",
       "<polyline clip-path=\"url(#clip172)\" style=\"stroke:#000000; stroke-linecap:round; stroke-linejoin:round; stroke-width:2; stroke-opacity:0.1; fill:none\" points=\"249.542,735.212 2352.76,735.212 \"/>\n",
       "<polyline clip-path=\"url(#clip172)\" style=\"stroke:#000000; stroke-linecap:round; stroke-linejoin:round; stroke-width:2; stroke-opacity:0.1; fill:none\" points=\"249.542,410.699 2352.76,410.699 \"/>\n",
       "<polyline clip-path=\"url(#clip172)\" style=\"stroke:#000000; stroke-linecap:round; stroke-linejoin:round; stroke-width:2; stroke-opacity:0.1; fill:none\" points=\"249.542,86.1857 2352.76,86.1857 \"/>\n",
       "<polyline clip-path=\"url(#clip170)\" style=\"stroke:#000000; stroke-linecap:round; stroke-linejoin:round; stroke-width:4; stroke-opacity:1; fill:none\" points=\"249.542,1423.18 249.542,47.2441 \"/>\n",
       "<polyline clip-path=\"url(#clip170)\" style=\"stroke:#000000; stroke-linecap:round; stroke-linejoin:round; stroke-width:4; stroke-opacity:1; fill:none\" points=\"249.542,1384.24 268.44,1384.24 \"/>\n",
       "<polyline clip-path=\"url(#clip170)\" style=\"stroke:#000000; stroke-linecap:round; stroke-linejoin:round; stroke-width:4; stroke-opacity:1; fill:none\" points=\"249.542,1059.73 268.44,1059.73 \"/>\n",
       "<polyline clip-path=\"url(#clip170)\" style=\"stroke:#000000; stroke-linecap:round; stroke-linejoin:round; stroke-width:4; stroke-opacity:1; fill:none\" points=\"249.542,735.212 268.44,735.212 \"/>\n",
       "<polyline clip-path=\"url(#clip170)\" style=\"stroke:#000000; stroke-linecap:round; stroke-linejoin:round; stroke-width:4; stroke-opacity:1; fill:none\" points=\"249.542,410.699 268.44,410.699 \"/>\n",
       "<polyline clip-path=\"url(#clip170)\" style=\"stroke:#000000; stroke-linecap:round; stroke-linejoin:round; stroke-width:4; stroke-opacity:1; fill:none\" points=\"249.542,86.1857 268.44,86.1857 \"/>\n",
       "<path clip-path=\"url(#clip170)\" d=\"M126.205 1370.04 Q122.593 1370.04 120.765 1373.6 Q118.959 1377.14 118.959 1384.27 Q118.959 1391.38 120.765 1394.94 Q122.593 1398.49 126.205 1398.49 Q129.839 1398.49 131.644 1394.94 Q133.473 1391.38 133.473 1384.27 Q133.473 1377.14 131.644 1373.6 Q129.839 1370.04 126.205 1370.04 M126.205 1366.33 Q132.015 1366.33 135.07 1370.94 Q138.149 1375.52 138.149 1384.27 Q138.149 1393 135.07 1397.61 Q132.015 1402.19 126.205 1402.19 Q120.394 1402.19 117.316 1397.61 Q114.26 1393 114.26 1384.27 Q114.26 1375.52 117.316 1370.94 Q120.394 1366.33 126.205 1366.33 Z\" fill=\"#000000\" fill-rule=\"nonzero\" fill-opacity=\"1\" /><path clip-path=\"url(#clip170)\" d=\"M146.366 1395.64 L151.251 1395.64 L151.251 1401.52 L146.366 1401.52 L146.366 1395.64 Z\" fill=\"#000000\" fill-rule=\"nonzero\" fill-opacity=\"1\" /><path clip-path=\"url(#clip170)\" d=\"M171.436 1370.04 Q167.825 1370.04 165.996 1373.6 Q164.19 1377.14 164.19 1384.27 Q164.19 1391.38 165.996 1394.94 Q167.825 1398.49 171.436 1398.49 Q175.07 1398.49 176.876 1394.94 Q178.704 1391.38 178.704 1384.27 Q178.704 1377.14 176.876 1373.6 Q175.07 1370.04 171.436 1370.04 M171.436 1366.33 Q177.246 1366.33 180.301 1370.94 Q183.38 1375.52 183.38 1384.27 Q183.38 1393 180.301 1397.61 Q177.246 1402.19 171.436 1402.19 Q165.626 1402.19 162.547 1397.61 Q159.491 1393 159.491 1384.27 Q159.491 1375.52 162.547 1370.94 Q165.626 1366.33 171.436 1366.33 Z\" fill=\"#000000\" fill-rule=\"nonzero\" fill-opacity=\"1\" /><path clip-path=\"url(#clip170)\" d=\"M201.598 1370.04 Q197.987 1370.04 196.158 1373.6 Q194.352 1377.14 194.352 1384.27 Q194.352 1391.38 196.158 1394.94 Q197.987 1398.49 201.598 1398.49 Q205.232 1398.49 207.037 1394.94 Q208.866 1391.38 208.866 1384.27 Q208.866 1377.14 207.037 1373.6 Q205.232 1370.04 201.598 1370.04 M201.598 1366.33 Q207.408 1366.33 210.463 1370.94 Q213.542 1375.52 213.542 1384.27 Q213.542 1393 210.463 1397.61 Q207.408 1402.19 201.598 1402.19 Q195.787 1402.19 192.709 1397.61 Q189.653 1393 189.653 1384.27 Q189.653 1375.52 192.709 1370.94 Q195.787 1366.33 201.598 1366.33 Z\" fill=\"#000000\" fill-rule=\"nonzero\" fill-opacity=\"1\" /><path clip-path=\"url(#clip170)\" d=\"M127.2 1045.52 Q123.589 1045.52 121.76 1049.09 Q119.955 1052.63 119.955 1059.76 Q119.955 1066.87 121.76 1070.43 Q123.589 1073.97 127.2 1073.97 Q130.834 1073.97 132.64 1070.43 Q134.468 1066.87 134.468 1059.76 Q134.468 1052.63 132.64 1049.09 Q130.834 1045.52 127.2 1045.52 M127.2 1041.82 Q133.01 1041.82 136.066 1046.43 Q139.144 1051.01 139.144 1059.76 Q139.144 1068.49 136.066 1073.09 Q133.01 1077.68 127.2 1077.68 Q121.39 1077.68 118.311 1073.09 Q115.256 1068.49 115.256 1059.76 Q115.256 1051.01 118.311 1046.43 Q121.39 1041.82 127.2 1041.82 Z\" fill=\"#000000\" fill-rule=\"nonzero\" fill-opacity=\"1\" /><path clip-path=\"url(#clip170)\" d=\"M147.362 1071.13 L152.246 1071.13 L152.246 1077.01 L147.362 1077.01 L147.362 1071.13 Z\" fill=\"#000000\" fill-rule=\"nonzero\" fill-opacity=\"1\" /><path clip-path=\"url(#clip170)\" d=\"M166.459 1073.07 L182.778 1073.07 L182.778 1077.01 L160.834 1077.01 L160.834 1073.07 Q163.496 1070.32 168.079 1065.69 Q172.686 1061.03 173.866 1059.69 Q176.112 1057.17 176.991 1055.43 Q177.894 1053.67 177.894 1051.98 Q177.894 1049.23 175.95 1047.49 Q174.028 1045.76 170.927 1045.76 Q168.727 1045.76 166.274 1046.52 Q163.843 1047.28 161.065 1048.83 L161.065 1044.11 Q163.89 1042.98 166.343 1042.4 Q168.797 1041.82 170.834 1041.82 Q176.204 1041.82 179.399 1044.51 Q182.593 1047.19 182.593 1051.68 Q182.593 1053.81 181.783 1055.73 Q180.996 1057.63 178.889 1060.22 Q178.311 1060.89 175.209 1064.11 Q172.107 1067.31 166.459 1073.07 Z\" fill=\"#000000\" fill-rule=\"nonzero\" fill-opacity=\"1\" /><path clip-path=\"url(#clip170)\" d=\"M192.639 1042.45 L210.996 1042.45 L210.996 1046.38 L196.922 1046.38 L196.922 1054.85 Q197.94 1054.51 198.959 1054.34 Q199.977 1054.16 200.996 1054.16 Q206.783 1054.16 210.162 1057.33 Q213.542 1060.5 213.542 1065.92 Q213.542 1071.5 210.07 1074.6 Q206.598 1077.68 200.278 1077.68 Q198.102 1077.68 195.834 1077.31 Q193.588 1076.94 191.181 1076.19 L191.181 1071.5 Q193.264 1072.63 195.487 1073.19 Q197.709 1073.74 200.186 1073.74 Q204.19 1073.74 206.528 1071.63 Q208.866 1069.53 208.866 1065.92 Q208.866 1062.31 206.528 1060.2 Q204.19 1058.09 200.186 1058.09 Q198.311 1058.09 196.436 1058.51 Q194.584 1058.93 192.639 1059.81 L192.639 1042.45 Z\" fill=\"#000000\" fill-rule=\"nonzero\" fill-opacity=\"1\" /><path clip-path=\"url(#clip170)\" d=\"M126.205 721.011 Q122.593 721.011 120.765 724.575 Q118.959 728.117 118.959 735.247 Q118.959 742.353 120.765 745.918 Q122.593 749.46 126.205 749.46 Q129.839 749.46 131.644 745.918 Q133.473 742.353 133.473 735.247 Q133.473 728.117 131.644 724.575 Q129.839 721.011 126.205 721.011 M126.205 717.307 Q132.015 717.307 135.07 721.913 Q138.149 726.497 138.149 735.247 Q138.149 743.973 135.07 748.58 Q132.015 753.163 126.205 753.163 Q120.394 753.163 117.316 748.58 Q114.26 743.973 114.26 735.247 Q114.26 726.497 117.316 721.913 Q120.394 717.307 126.205 717.307 Z\" fill=\"#000000\" fill-rule=\"nonzero\" fill-opacity=\"1\" /><path clip-path=\"url(#clip170)\" d=\"M146.366 746.612 L151.251 746.612 L151.251 752.492 L146.366 752.492 L146.366 746.612 Z\" fill=\"#000000\" fill-rule=\"nonzero\" fill-opacity=\"1\" /><path clip-path=\"url(#clip170)\" d=\"M161.482 717.932 L179.839 717.932 L179.839 721.867 L165.765 721.867 L165.765 730.339 Q166.783 729.992 167.802 729.83 Q168.82 729.645 169.839 729.645 Q175.626 729.645 179.005 732.816 Q182.385 735.987 182.385 741.404 Q182.385 746.983 178.913 750.085 Q175.44 753.163 169.121 753.163 Q166.945 753.163 164.677 752.793 Q162.431 752.423 160.024 751.682 L160.024 746.983 Q162.107 748.117 164.329 748.673 Q166.552 749.228 169.028 749.228 Q173.033 749.228 175.371 747.122 Q177.709 745.015 177.709 741.404 Q177.709 737.793 175.371 735.687 Q173.033 733.58 169.028 733.58 Q167.153 733.58 165.278 733.997 Q163.427 734.413 161.482 735.293 L161.482 717.932 Z\" fill=\"#000000\" fill-rule=\"nonzero\" fill-opacity=\"1\" /><path clip-path=\"url(#clip170)\" d=\"M201.598 721.011 Q197.987 721.011 196.158 724.575 Q194.352 728.117 194.352 735.247 Q194.352 742.353 196.158 745.918 Q197.987 749.46 201.598 749.46 Q205.232 749.46 207.037 745.918 Q208.866 742.353 208.866 735.247 Q208.866 728.117 207.037 724.575 Q205.232 721.011 201.598 721.011 M201.598 717.307 Q207.408 717.307 210.463 721.913 Q213.542 726.497 213.542 735.247 Q213.542 743.973 210.463 748.58 Q207.408 753.163 201.598 753.163 Q195.787 753.163 192.709 748.58 Q189.653 743.973 189.653 735.247 Q189.653 726.497 192.709 721.913 Q195.787 717.307 201.598 717.307 Z\" fill=\"#000000\" fill-rule=\"nonzero\" fill-opacity=\"1\" /><path clip-path=\"url(#clip170)\" d=\"M127.2 396.498 Q123.589 396.498 121.76 400.062 Q119.955 403.604 119.955 410.734 Q119.955 417.84 121.76 421.405 Q123.589 424.946 127.2 424.946 Q130.834 424.946 132.64 421.405 Q134.468 417.84 134.468 410.734 Q134.468 403.604 132.64 400.062 Q130.834 396.498 127.2 396.498 M127.2 392.794 Q133.01 392.794 136.066 397.4 Q139.144 401.984 139.144 410.734 Q139.144 419.46 136.066 424.067 Q133.01 428.65 127.2 428.65 Q121.39 428.65 118.311 424.067 Q115.256 419.46 115.256 410.734 Q115.256 401.984 118.311 397.4 Q121.39 392.794 127.2 392.794 Z\" fill=\"#000000\" fill-rule=\"nonzero\" fill-opacity=\"1\" /><path clip-path=\"url(#clip170)\" d=\"M147.362 422.099 L152.246 422.099 L152.246 427.979 L147.362 427.979 L147.362 422.099 Z\" fill=\"#000000\" fill-rule=\"nonzero\" fill-opacity=\"1\" /><path clip-path=\"url(#clip170)\" d=\"M161.251 393.419 L183.473 393.419 L183.473 395.41 L170.927 427.979 L166.042 427.979 L177.848 397.354 L161.251 397.354 L161.251 393.419 Z\" fill=\"#000000\" fill-rule=\"nonzero\" fill-opacity=\"1\" /><path clip-path=\"url(#clip170)\" d=\"M192.639 393.419 L210.996 393.419 L210.996 397.354 L196.922 397.354 L196.922 405.826 Q197.94 405.479 198.959 405.317 Q199.977 405.132 200.996 405.132 Q206.783 405.132 210.162 408.303 Q213.542 411.474 213.542 416.891 Q213.542 422.47 210.07 425.571 Q206.598 428.65 200.278 428.65 Q198.102 428.65 195.834 428.28 Q193.588 427.909 191.181 427.169 L191.181 422.47 Q193.264 423.604 195.487 424.159 Q197.709 424.715 200.186 424.715 Q204.19 424.715 206.528 422.608 Q208.866 420.502 208.866 416.891 Q208.866 413.28 206.528 411.173 Q204.19 409.067 200.186 409.067 Q198.311 409.067 196.436 409.484 Q194.584 409.9 192.639 410.78 L192.639 393.419 Z\" fill=\"#000000\" fill-rule=\"nonzero\" fill-opacity=\"1\" /><path clip-path=\"url(#clip170)\" d=\"M117.015 99.5305 L124.654 99.5305 L124.654 73.1649 L116.343 74.8316 L116.343 70.5723 L124.607 68.9057 L129.283 68.9057 L129.283 99.5305 L136.922 99.5305 L136.922 103.466 L117.015 103.466 L117.015 99.5305 Z\" fill=\"#000000\" fill-rule=\"nonzero\" fill-opacity=\"1\" /><path clip-path=\"url(#clip170)\" d=\"M146.366 97.5861 L151.251 97.5861 L151.251 103.466 L146.366 103.466 L146.366 97.5861 Z\" fill=\"#000000\" fill-rule=\"nonzero\" fill-opacity=\"1\" /><path clip-path=\"url(#clip170)\" d=\"M171.436 71.9844 Q167.825 71.9844 165.996 75.5492 Q164.19 79.0908 164.19 86.2204 Q164.19 93.3268 165.996 96.8916 Q167.825 100.433 171.436 100.433 Q175.07 100.433 176.876 96.8916 Q178.704 93.3268 178.704 86.2204 Q178.704 79.0908 176.876 75.5492 Q175.07 71.9844 171.436 71.9844 M171.436 68.2807 Q177.246 68.2807 180.301 72.8871 Q183.38 77.4704 183.38 86.2204 Q183.38 94.9472 180.301 99.5537 Q177.246 104.137 171.436 104.137 Q165.626 104.137 162.547 99.5537 Q159.491 94.9472 159.491 86.2204 Q159.491 77.4704 162.547 72.8871 Q165.626 68.2807 171.436 68.2807 Z\" fill=\"#000000\" fill-rule=\"nonzero\" fill-opacity=\"1\" /><path clip-path=\"url(#clip170)\" d=\"M201.598 71.9844 Q197.987 71.9844 196.158 75.5492 Q194.352 79.0908 194.352 86.2204 Q194.352 93.3268 196.158 96.8916 Q197.987 100.433 201.598 100.433 Q205.232 100.433 207.037 96.8916 Q208.866 93.3268 208.866 86.2204 Q208.866 79.0908 207.037 75.5492 Q205.232 71.9844 201.598 71.9844 M201.598 68.2807 Q207.408 68.2807 210.463 72.8871 Q213.542 77.4704 213.542 86.2204 Q213.542 94.9472 210.463 99.5537 Q207.408 104.137 201.598 104.137 Q195.787 104.137 192.709 99.5537 Q189.653 94.9472 189.653 86.2204 Q189.653 77.4704 192.709 72.8871 Q195.787 68.2807 201.598 68.2807 Z\" fill=\"#000000\" fill-rule=\"nonzero\" fill-opacity=\"1\" /><path clip-path=\"url(#clip170)\" d=\"M58.657 820.226 L77.5631 820.226 L77.5631 826.114 L28.3562 826.114 L28.3562 820.226 L33.7671 820.226 Q30.5842 818.38 29.0564 815.579 Q27.4968 812.746 27.4968 808.831 Q27.4968 802.338 32.6531 798.296 Q37.8093 794.222 46.212 794.222 Q54.6147 794.222 59.771 798.296 Q64.9272 802.338 64.9272 808.831 Q64.9272 812.746 63.3994 815.579 Q61.8398 818.38 58.657 820.226 M46.212 800.301 Q39.7508 800.301 36.0905 802.975 Q32.3984 805.617 32.3984 810.264 Q32.3984 814.911 36.0905 817.584 Q39.7508 820.226 46.212 820.226 Q52.6732 820.226 56.3653 817.584 Q60.0256 814.911 60.0256 810.264 Q60.0256 805.617 56.3653 802.975 Q52.6732 800.301 46.212 800.301 Z\" fill=\"#000000\" fill-rule=\"nonzero\" fill-opacity=\"1\" /><path clip-path=\"url(#clip170)\" d=\"M35.1993 756.76 Q31.2526 754.564 29.3747 751.508 Q27.4968 748.453 27.4968 744.315 Q27.4968 738.745 31.4117 735.721 Q35.2948 732.698 42.4881 732.698 L64.0042 732.698 L64.0042 738.586 L42.679 738.586 Q37.5546 738.586 35.072 740.4 Q32.5894 742.214 32.5894 745.938 Q32.5894 750.49 35.6131 753.131 Q38.6368 755.773 43.8567 755.773 L64.0042 755.773 L64.0042 761.661 L42.679 761.661 Q37.5228 761.661 35.072 763.476 Q32.5894 765.29 32.5894 769.078 Q32.5894 773.565 35.6449 776.207 Q38.6686 778.849 43.8567 778.849 L64.0042 778.849 L64.0042 784.737 L28.3562 784.737 L28.3562 778.849 L33.8944 778.849 Q30.616 776.844 29.0564 774.043 Q27.4968 771.242 27.4968 767.391 Q27.4968 763.508 29.4702 760.802 Q31.4436 758.065 35.1993 756.76 Z\" fill=\"#000000\" fill-rule=\"nonzero\" fill-opacity=\"1\" /><path clip-path=\"url(#clip170)\" d=\"M28.3562 721.016 L28.3562 715.16 L64.0042 715.16 L64.0042 721.016 L28.3562 721.016 M14.479 721.016 L14.479 715.16 L21.895 715.16 L21.895 721.016 L14.479 721.016 Z\" fill=\"#000000\" fill-rule=\"nonzero\" fill-opacity=\"1\" /><path clip-path=\"url(#clip170)\" d=\"M29.4065 680.18 L34.9447 680.18 Q33.6716 682.663 33.035 685.337 Q32.3984 688.01 32.3984 690.875 Q32.3984 695.235 33.7352 697.431 Q35.072 699.596 37.7456 699.596 Q39.7826 699.596 40.9603 698.036 Q42.1061 696.477 43.1565 691.766 L43.6021 689.761 Q44.9389 683.522 47.3897 680.912 Q49.8086 678.271 54.1691 678.271 Q59.1344 678.271 62.0308 682.217 Q64.9272 686.132 64.9272 693.007 Q64.9272 695.872 64.3543 698.991 Q63.8132 702.078 62.6992 705.516 L56.6518 705.516 Q58.3387 702.269 59.198 699.118 Q60.0256 695.967 60.0256 692.88 Q60.0256 688.742 58.6251 686.514 Q57.1929 684.286 54.6147 684.286 Q52.2276 684.286 50.9545 685.91 Q49.6813 687.501 48.5037 692.944 L48.0262 694.981 Q46.8804 700.423 44.5251 702.842 Q42.138 705.261 38.0002 705.261 Q32.9713 705.261 30.2341 701.697 Q27.4968 698.132 27.4968 691.575 Q27.4968 688.329 27.9743 685.464 Q28.4517 682.599 29.4065 680.18 Z\" fill=\"#000000\" fill-rule=\"nonzero\" fill-opacity=\"1\" /><path clip-path=\"url(#clip170)\" d=\"M29.4065 646.219 L34.9447 646.219 Q33.6716 648.702 33.035 651.376 Q32.3984 654.049 32.3984 656.914 Q32.3984 661.274 33.7352 663.47 Q35.072 665.635 37.7456 665.635 Q39.7826 665.635 40.9603 664.075 Q42.1061 662.516 43.1565 657.805 L43.6021 655.8 Q44.9389 649.561 47.3897 646.951 Q49.8086 644.31 54.1691 644.31 Q59.1344 644.31 62.0308 648.256 Q64.9272 652.171 64.9272 659.046 Q64.9272 661.911 64.3543 665.03 Q63.8132 668.117 62.6992 671.555 L56.6518 671.555 Q58.3387 668.308 59.198 665.157 Q60.0256 662.006 60.0256 658.919 Q60.0256 654.781 58.6251 652.553 Q57.1929 650.325 54.6147 650.325 Q52.2276 650.325 50.9545 651.949 Q49.6813 653.54 48.5037 658.983 L48.0262 661.02 Q46.8804 666.462 44.5251 668.881 Q42.138 671.3 38.0002 671.3 Q32.9713 671.3 30.2341 667.735 Q27.4968 664.171 27.4968 657.614 Q27.4968 654.367 27.9743 651.503 Q28.4517 648.638 29.4065 646.219 Z\" fill=\"#000000\" fill-rule=\"nonzero\" fill-opacity=\"1\" /><polyline clip-path=\"url(#clip172)\" style=\"stroke:#000000; stroke-linecap:round; stroke-linejoin:round; stroke-width:12; stroke-opacity:1; fill:none\" points=\"2293.23,1384.24 2252.69,1384.24 2249.41,1378.74 2239.55,1378.74 2230.78,1373.24 2225.3,1367.74 2208.87,1367.74 2206.68,1362.24 2182.57,1362.24 2172.71,1356.74 2140.94,1356.74 2117.93,1351.24 2097.12,1345.74 1828.69,1345.74 1815.54,1340.24 1753.09,1340.24 1736.66,1329.24 1700.5,1329.24 1634.76,1323.74 1606.28,1307.24 1508.77,1307.24 1393.73,1301.73 1347.71,1268.73 1093.53,1268.73 1032.17,1257.73 890.84,1257.73 882.075,1241.23 880.98,1235.73 847.015,1235.73 781.278,1230.23 765.94,1224.73 756.079,1213.73 753.888,1208.23 721.019,1202.73 684.864,1186.23 684.864,1175.23 683.768,1169.73 679.386,1164.23 668.43,1158.73 668.43,1153.23 655.282,1142.23 647.613,1136.73 627.892,1120.23 596.119,1054.22 550.103,971.722 549.007,971.722 519.426,883.718 475.601,812.215 430.681,746.212 413.151,713.211 383.569,581.206 372.613,526.204 338.649,361.197 336.457,361.197 336.457,317.195 332.075,278.693 326.597,262.193 325.501,229.191 315.641,152.188 315.641,146.688 310.163,113.687 309.067,86.1857 \"/>\n",
       "<polyline clip-path=\"url(#clip172)\" style=\"stroke:#ffd700; stroke-linecap:round; stroke-linejoin:round; stroke-width:12; stroke-opacity:1; fill:none\" points=\"2293.23,1384.24 2265.39,1384.24 2262.14,1381.9 2248.22,1381.9 2245.9,1379.57 2233.84,1379.57 2223.63,1377.23 2204.14,1377.23 2200.43,1372.57 2199.5,1372.57 2193.93,1370.23 2190.68,1370.23 2190.68,1367.9 2187.43,1363.23 2147.53,1363.23 2140.57,1360.89 2067.25,1360.89 2022.24,1351.55 2003.22,1346.88 1988.83,1342.21 1926.19,1339.88 1914.12,1337.55 1849.62,1337.55 1833.38,1332.88 1819.93,1328.21 1793.01,1321.2 1763.78,1314.2 1761.46,1314.2 1747.54,1302.53 1702.99,1295.52 1654.73,1295.52 1617.61,1290.85 1528.06,1281.51 1417.15,1272.18 1376.32,1267.51 1221.8,1253.5 1114.15,1246.5 1057.54,1239.49 1036.66,1237.16 1018.56,1234.82 912.761,1223.15 903.945,1218.48 902.089,1218.48 857.079,1216.15 788.403,1202.14 773.09,1190.46 762.882,1188.13 756.85,1178.79 725.76,1171.79 688.638,1162.45 688.638,1155.44 676.573,1155.44 663.581,1153.11 654.764,1148.44 645.484,1136.77 623.675,1120.43 622.747,1120.43 588.873,1055.06 553.143,975.679 553.143,973.344 525.302,900.97 492.82,805.251 440.85,695.523 426.001,681.516 426.001,679.181 387.951,532.099 372.174,504.084 342.941,342.995 342.941,338.325 341.085,303.306 334.588,265.952 328.092,216.925 322.06,181.905 316.027,144.551 313.243,107.197 309.067,86.1857 \"/>\n",
       "<path clip-path=\"url(#clip170)\" d=\"M1594.55 248.629 L2282.65 248.629 L2282.65 93.1086 L1594.55 93.1086  Z\" fill=\"#ffffff\" fill-rule=\"evenodd\" fill-opacity=\"1\"/>\n",
       "<polyline clip-path=\"url(#clip170)\" style=\"stroke:#000000; stroke-linecap:round; stroke-linejoin:round; stroke-width:4; stroke-opacity:1; fill:none\" points=\"1594.55,248.629 2282.65,248.629 2282.65,93.1086 1594.55,93.1086 1594.55,248.629 \"/>\n",
       "<polyline clip-path=\"url(#clip170)\" style=\"stroke:#000000; stroke-linecap:round; stroke-linejoin:round; stroke-width:12; stroke-opacity:1; fill:none\" points=\"1617.92,144.949 1758.14,144.949 \"/>\n",
       "<path clip-path=\"url(#clip170)\" d=\"M1788.91 128.942 L1788.91 136.303 L1797.68 136.303 L1797.68 139.613 L1788.91 139.613 L1788.91 153.687 Q1788.91 156.858 1789.77 157.761 Q1790.65 158.664 1793.31 158.664 L1797.68 158.664 L1797.68 162.229 L1793.31 162.229 Q1788.38 162.229 1786.5 160.4 Q1784.63 158.548 1784.63 153.687 L1784.63 139.613 L1781.5 139.613 L1781.5 136.303 L1784.63 136.303 L1784.63 128.942 L1788.91 128.942 Z\" fill=\"#000000\" fill-rule=\"nonzero\" fill-opacity=\"1\" /><path clip-path=\"url(#clip170)\" d=\"M1825.46 148.201 L1825.46 150.284 L1805.88 150.284 Q1806.16 154.682 1808.52 156.997 Q1810.9 159.289 1815.14 159.289 Q1817.59 159.289 1819.88 158.687 Q1822.2 158.085 1824.47 156.881 L1824.47 160.909 Q1822.18 161.881 1819.77 162.391 Q1817.36 162.9 1814.88 162.9 Q1808.68 162.9 1805.05 159.289 Q1801.43 155.678 1801.43 149.52 Q1801.43 143.155 1804.86 139.428 Q1808.31 135.678 1814.14 135.678 Q1819.37 135.678 1822.41 139.057 Q1825.46 142.414 1825.46 148.201 M1821.2 146.951 Q1821.16 143.456 1819.24 141.372 Q1817.34 139.289 1814.19 139.289 Q1810.62 139.289 1808.47 141.303 Q1806.34 143.317 1806.02 146.974 L1821.2 146.951 Z\" fill=\"#000000\" fill-rule=\"nonzero\" fill-opacity=\"1\" /><path clip-path=\"url(#clip170)\" d=\"M1848.98 137.067 L1848.98 141.094 Q1847.18 140.169 1845.23 139.706 Q1843.29 139.243 1841.2 139.243 Q1838.03 139.243 1836.43 140.215 Q1834.86 141.187 1834.86 143.131 Q1834.86 144.613 1835.99 145.469 Q1837.13 146.303 1840.56 147.067 L1842.01 147.391 Q1846.55 148.363 1848.45 150.145 Q1850.37 151.905 1850.37 155.076 Q1850.37 158.687 1847.5 160.793 Q1844.65 162.9 1839.65 162.9 Q1837.57 162.9 1835.3 162.483 Q1833.06 162.09 1830.56 161.28 L1830.56 156.881 Q1832.92 158.108 1835.21 158.733 Q1837.5 159.335 1839.74 159.335 Q1842.75 159.335 1844.37 158.317 Q1845.99 157.275 1845.99 155.4 Q1845.99 153.664 1844.81 152.738 Q1843.66 151.812 1839.7 150.956 L1838.22 150.608 Q1834.26 149.775 1832.5 148.062 Q1830.74 146.326 1830.74 143.317 Q1830.74 139.659 1833.33 137.669 Q1835.93 135.678 1840.69 135.678 Q1843.06 135.678 1845.14 136.025 Q1847.22 136.372 1848.98 137.067 Z\" fill=\"#000000\" fill-rule=\"nonzero\" fill-opacity=\"1\" /><path clip-path=\"url(#clip170)\" d=\"M1861.37 128.942 L1861.37 136.303 L1870.14 136.303 L1870.14 139.613 L1861.37 139.613 L1861.37 153.687 Q1861.37 156.858 1862.22 157.761 Q1863.1 158.664 1865.76 158.664 L1870.14 158.664 L1870.14 162.229 L1865.76 162.229 Q1860.83 162.229 1858.96 160.4 Q1857.08 158.548 1857.08 153.687 L1857.08 139.613 L1853.96 139.613 L1853.96 136.303 L1857.08 136.303 L1857.08 128.942 L1861.37 128.942 Z\" fill=\"#000000\" fill-rule=\"nonzero\" fill-opacity=\"1\" /><path clip-path=\"url(#clip170)\" d=\"M1901.04 126.257 Q1897.94 131.581 1896.43 136.789 Q1894.93 141.997 1894.93 147.344 Q1894.93 152.692 1896.43 157.946 Q1897.96 163.178 1901.04 168.479 L1897.34 168.479 Q1893.87 163.039 1892.13 157.784 Q1890.42 152.53 1890.42 147.344 Q1890.42 142.182 1892.13 136.951 Q1893.84 131.72 1897.34 126.257 L1901.04 126.257 Z\" fill=\"#000000\" fill-rule=\"nonzero\" fill-opacity=\"1\" /><path clip-path=\"url(#clip170)\" d=\"M1921.04 132.275 L1914.7 149.474 L1927.41 149.474 L1921.04 132.275 M1918.4 127.669 L1923.7 127.669 L1936.87 162.229 L1932.01 162.229 L1928.86 153.363 L1913.29 153.363 L1910.14 162.229 L1905.21 162.229 L1918.4 127.669 Z\" fill=\"#000000\" fill-rule=\"nonzero\" fill-opacity=\"1\" /><path clip-path=\"url(#clip170)\" d=\"M1941.39 127.669 L1946.09 127.669 L1946.09 148.664 Q1946.09 154.219 1948.1 156.673 Q1950.11 159.104 1954.63 159.104 Q1959.12 159.104 1961.13 156.673 Q1963.15 154.219 1963.15 148.664 L1963.15 127.669 L1967.85 127.669 L1967.85 149.243 Q1967.85 156.002 1964.49 159.451 Q1961.16 162.9 1954.63 162.9 Q1948.08 162.9 1944.72 159.451 Q1941.39 156.002 1941.39 149.243 L1941.39 127.669 Z\" fill=\"#000000\" fill-rule=\"nonzero\" fill-opacity=\"1\" /><path clip-path=\"url(#clip170)\" d=\"M2002.5 130.331 L2002.5 135.261 Q2000.14 133.062 1997.45 131.974 Q1994.79 130.886 1991.78 130.886 Q1985.86 130.886 1982.71 134.52 Q1979.56 138.132 1979.56 144.983 Q1979.56 151.812 1982.71 155.446 Q1985.86 159.057 1991.78 159.057 Q1994.79 159.057 1997.45 157.969 Q2000.14 156.881 2002.5 154.682 L2002.5 159.567 Q2000.05 161.233 1997.29 162.067 Q1994.56 162.9 1991.5 162.9 Q1983.66 162.9 1979.14 158.108 Q1974.63 153.293 1974.63 144.983 Q1974.63 136.65 1979.14 131.858 Q1983.66 127.044 1991.5 127.044 Q1994.61 127.044 1997.34 127.877 Q2000.09 128.687 2002.5 130.331 Z\" fill=\"#000000\" fill-rule=\"nonzero\" fill-opacity=\"1\" /><path clip-path=\"url(#clip170)\" d=\"M2010.09 140.701 L2039.77 140.701 L2039.77 144.59 L2010.09 144.59 L2010.09 140.701 M2010.09 150.145 L2039.77 150.145 L2039.77 154.081 L2010.09 154.081 L2010.09 150.145 Z\" fill=\"#000000\" fill-rule=\"nonzero\" fill-opacity=\"1\" /><path clip-path=\"url(#clip170)\" d=\"M2050.67 158.293 L2058.31 158.293 L2058.31 131.928 L2050 133.595 L2050 129.335 L2058.26 127.669 L2062.94 127.669 L2062.94 158.293 L2070.58 158.293 L2070.58 162.229 L2050.67 162.229 L2050.67 158.293 Z\" fill=\"#000000\" fill-rule=\"nonzero\" fill-opacity=\"1\" /><path clip-path=\"url(#clip170)\" d=\"M2094.19 143.594 Q2097.54 144.312 2099.42 146.581 Q2101.32 148.849 2101.32 152.182 Q2101.32 157.298 2097.8 160.099 Q2094.28 162.9 2087.8 162.9 Q2085.62 162.9 2083.31 162.46 Q2081.02 162.043 2078.56 161.187 L2078.56 156.673 Q2080.51 157.807 2082.82 158.386 Q2085.14 158.965 2087.66 158.965 Q2092.06 158.965 2094.35 157.229 Q2096.66 155.493 2096.66 152.182 Q2096.66 149.127 2094.51 147.414 Q2092.38 145.678 2088.56 145.678 L2084.54 145.678 L2084.54 141.835 L2088.75 141.835 Q2092.2 141.835 2094.03 140.469 Q2095.85 139.081 2095.85 136.488 Q2095.85 133.826 2093.96 132.414 Q2092.08 130.979 2088.56 130.979 Q2086.64 130.979 2084.44 131.395 Q2082.24 131.812 2079.6 132.692 L2079.6 128.525 Q2082.27 127.784 2084.58 127.414 Q2086.92 127.044 2088.98 127.044 Q2094.3 127.044 2097.41 129.474 Q2100.51 131.882 2100.51 136.002 Q2100.51 138.872 2098.86 140.863 Q2097.22 142.831 2094.19 143.594 Z\" fill=\"#000000\" fill-rule=\"nonzero\" fill-opacity=\"1\" /><path clip-path=\"url(#clip170)\" d=\"M2110.18 156.349 L2115.07 156.349 L2115.07 162.229 L2110.18 162.229 L2110.18 156.349 Z\" fill=\"#000000\" fill-rule=\"nonzero\" fill-opacity=\"1\" /><path clip-path=\"url(#clip170)\" d=\"M2125.3 127.669 L2143.66 127.669 L2143.66 131.604 L2129.58 131.604 L2129.58 140.076 Q2130.6 139.729 2131.62 139.567 Q2132.64 139.382 2133.66 139.382 Q2139.44 139.382 2142.82 142.553 Q2146.2 145.724 2146.2 151.141 Q2146.2 156.719 2142.73 159.821 Q2139.26 162.9 2132.94 162.9 Q2130.76 162.9 2128.49 162.53 Q2126.25 162.159 2123.84 161.418 L2123.84 156.719 Q2125.92 157.854 2128.15 158.409 Q2130.37 158.965 2132.85 158.965 Q2136.85 158.965 2139.19 156.858 Q2141.53 154.752 2141.53 151.141 Q2141.53 147.53 2139.19 145.423 Q2136.85 143.317 2132.85 143.317 Q2130.97 143.317 2129.1 143.733 Q2127.24 144.15 2125.3 145.03 L2125.3 127.669 Z\" fill=\"#000000\" fill-rule=\"nonzero\" fill-opacity=\"1\" /><path clip-path=\"url(#clip170)\" d=\"M2168.26 131.743 L2156.46 150.192 L2168.26 150.192 L2168.26 131.743 M2167.03 127.669 L2172.91 127.669 L2172.91 150.192 L2177.84 150.192 L2177.84 154.081 L2172.91 154.081 L2172.91 162.229 L2168.26 162.229 L2168.26 154.081 L2152.66 154.081 L2152.66 149.567 L2167.03 127.669 Z\" fill=\"#000000\" fill-rule=\"nonzero\" fill-opacity=\"1\" /><path clip-path=\"url(#clip170)\" d=\"M2214.97 147.02 Q2212.96 147.02 2211.8 148.733 Q2210.67 150.446 2210.67 153.502 Q2210.67 156.511 2211.8 158.247 Q2212.96 159.96 2214.97 159.96 Q2216.94 159.96 2218.08 158.247 Q2219.23 156.511 2219.23 153.502 Q2219.23 150.469 2218.08 148.756 Q2216.94 147.02 2214.97 147.02 M2214.97 144.081 Q2218.63 144.081 2220.78 146.627 Q2222.94 149.173 2222.94 153.502 Q2222.94 157.83 2220.76 160.377 Q2218.61 162.9 2214.97 162.9 Q2211.27 162.9 2209.12 160.377 Q2206.97 157.83 2206.97 153.502 Q2206.97 149.15 2209.12 146.627 Q2211.29 144.081 2214.97 144.081 M2191.09 129.983 Q2189.09 129.983 2187.94 131.72 Q2186.8 133.432 2186.8 136.442 Q2186.8 139.497 2187.94 141.21 Q2189.07 142.923 2191.09 142.923 Q2193.1 142.923 2194.23 141.21 Q2195.39 139.497 2195.39 136.442 Q2195.39 133.456 2194.23 131.72 Q2193.08 129.983 2191.09 129.983 M2211.99 127.044 L2215.69 127.044 L2194.07 162.9 L2190.37 162.9 L2211.99 127.044 M2191.09 127.044 Q2194.74 127.044 2196.92 129.59 Q2199.09 132.113 2199.09 136.442 Q2199.09 140.817 2196.92 143.34 Q2194.77 145.863 2191.09 145.863 Q2187.41 145.863 2185.25 143.34 Q2183.12 140.794 2183.12 136.442 Q2183.12 132.136 2185.28 129.59 Q2187.43 127.044 2191.09 127.044 Z\" fill=\"#000000\" fill-rule=\"nonzero\" fill-opacity=\"1\" /><path clip-path=\"url(#clip170)\" d=\"M2229.35 126.257 L2233.05 126.257 Q2236.53 131.72 2238.24 136.951 Q2239.97 142.182 2239.97 147.344 Q2239.97 152.53 2238.24 157.784 Q2236.53 163.039 2233.05 168.479 L2229.35 168.479 Q2232.43 163.178 2233.93 157.946 Q2235.46 152.692 2235.46 147.344 Q2235.46 141.997 2233.93 136.789 Q2232.43 131.581 2229.35 126.257 Z\" fill=\"#000000\" fill-rule=\"nonzero\" fill-opacity=\"1\" /><polyline clip-path=\"url(#clip170)\" style=\"stroke:#ffd700; stroke-linecap:round; stroke-linejoin:round; stroke-width:12; stroke-opacity:1; fill:none\" points=\"1617.92,196.789 1758.14,196.789 \"/>\n",
       "<path clip-path=\"url(#clip170)\" d=\"M1788.91 180.782 L1788.91 188.143 L1797.68 188.143 L1797.68 191.453 L1788.91 191.453 L1788.91 205.527 Q1788.91 208.698 1789.77 209.601 Q1790.65 210.504 1793.31 210.504 L1797.68 210.504 L1797.68 214.069 L1793.31 214.069 Q1788.38 214.069 1786.5 212.24 Q1784.63 210.388 1784.63 205.527 L1784.63 191.453 L1781.5 191.453 L1781.5 188.143 L1784.63 188.143 L1784.63 180.782 L1788.91 180.782 Z\" fill=\"#000000\" fill-rule=\"nonzero\" fill-opacity=\"1\" /><path clip-path=\"url(#clip170)\" d=\"M1818.31 192.124 Q1817.59 191.708 1816.74 191.522 Q1815.9 191.314 1814.88 191.314 Q1811.27 191.314 1809.33 193.675 Q1807.41 196.013 1807.41 200.411 L1807.41 214.069 L1803.12 214.069 L1803.12 188.143 L1807.41 188.143 L1807.41 192.171 Q1808.75 189.809 1810.9 188.675 Q1813.06 187.518 1816.13 187.518 Q1816.57 187.518 1817.11 187.587 Q1817.64 187.634 1818.29 187.749 L1818.31 192.124 Z\" fill=\"#000000\" fill-rule=\"nonzero\" fill-opacity=\"1\" /><path clip-path=\"url(#clip170)\" d=\"M1834.56 201.036 Q1829.4 201.036 1827.41 202.217 Q1825.42 203.397 1825.42 206.245 Q1825.42 208.513 1826.9 209.856 Q1828.4 211.175 1830.97 211.175 Q1834.51 211.175 1836.64 208.675 Q1838.8 206.152 1838.8 201.985 L1838.8 201.036 L1834.56 201.036 M1843.06 199.277 L1843.06 214.069 L1838.8 214.069 L1838.8 210.133 Q1837.34 212.495 1835.16 213.629 Q1832.99 214.74 1829.84 214.74 Q1825.86 214.74 1823.5 212.518 Q1821.16 210.272 1821.16 206.522 Q1821.16 202.147 1824.07 199.925 Q1827.01 197.703 1832.82 197.703 L1838.8 197.703 L1838.8 197.286 Q1838.8 194.347 1836.85 192.749 Q1834.93 191.129 1831.43 191.129 Q1829.21 191.129 1827.11 191.661 Q1825 192.194 1823.06 193.259 L1823.06 189.323 Q1825.39 188.421 1827.59 187.981 Q1829.79 187.518 1831.87 187.518 Q1837.5 187.518 1840.28 190.434 Q1843.06 193.351 1843.06 199.277 Z\" fill=\"#000000\" fill-rule=\"nonzero\" fill-opacity=\"1\" /><path clip-path=\"url(#clip170)\" d=\"M1851.83 188.143 L1856.09 188.143 L1856.09 214.069 L1851.83 214.069 L1851.83 188.143 M1851.83 178.05 L1856.09 178.05 L1856.09 183.444 L1851.83 183.444 L1851.83 178.05 Z\" fill=\"#000000\" fill-rule=\"nonzero\" fill-opacity=\"1\" /><path clip-path=\"url(#clip170)\" d=\"M1886.55 198.421 L1886.55 214.069 L1882.29 214.069 L1882.29 198.559 Q1882.29 194.879 1880.86 193.05 Q1879.42 191.222 1876.55 191.222 Q1873.1 191.222 1871.11 193.421 Q1869.12 195.62 1869.12 199.416 L1869.12 214.069 L1864.84 214.069 L1864.84 188.143 L1869.12 188.143 L1869.12 192.171 Q1870.65 189.833 1872.71 188.675 Q1874.79 187.518 1877.5 187.518 Q1881.97 187.518 1884.26 190.296 Q1886.55 193.05 1886.55 198.421 Z\" fill=\"#000000\" fill-rule=\"nonzero\" fill-opacity=\"1\" /><path clip-path=\"url(#clip170)\" d=\"M1920.35 178.097 Q1917.24 183.421 1915.74 188.629 Q1914.24 193.837 1914.24 199.184 Q1914.24 204.532 1915.74 209.786 Q1917.27 215.018 1920.35 220.319 L1916.64 220.319 Q1913.17 214.879 1911.43 209.624 Q1909.72 204.37 1909.72 199.184 Q1909.72 194.022 1911.43 188.791 Q1913.15 183.56 1916.64 178.097 L1920.35 178.097 Z\" fill=\"#000000\" fill-rule=\"nonzero\" fill-opacity=\"1\" /><path clip-path=\"url(#clip170)\" d=\"M1940.35 184.115 L1934 201.314 L1946.71 201.314 L1940.35 184.115 M1937.71 179.509 L1943.01 179.509 L1956.18 214.069 L1951.32 214.069 L1948.17 205.203 L1932.59 205.203 L1929.44 214.069 L1924.51 214.069 L1937.71 179.509 Z\" fill=\"#000000\" fill-rule=\"nonzero\" fill-opacity=\"1\" /><path clip-path=\"url(#clip170)\" d=\"M1960.69 179.509 L1965.39 179.509 L1965.39 200.504 Q1965.39 206.059 1967.41 208.513 Q1969.42 210.944 1973.93 210.944 Q1978.42 210.944 1980.44 208.513 Q1982.45 206.059 1982.45 200.504 L1982.45 179.509 L1987.15 179.509 L1987.15 201.083 Q1987.15 207.842 1983.8 211.291 Q1980.46 214.74 1973.93 214.74 Q1967.38 214.74 1964.03 211.291 Q1960.69 207.842 1960.69 201.083 L1960.69 179.509 Z\" fill=\"#000000\" fill-rule=\"nonzero\" fill-opacity=\"1\" /><path clip-path=\"url(#clip170)\" d=\"M2021.8 182.171 L2021.8 187.101 Q2019.44 184.902 2016.76 183.814 Q2014.1 182.726 2011.09 182.726 Q2005.16 182.726 2002.01 186.36 Q1998.86 189.972 1998.86 196.823 Q1998.86 203.652 2002.01 207.286 Q2005.16 210.897 2011.09 210.897 Q2014.1 210.897 2016.76 209.809 Q2019.44 208.721 2021.8 206.522 L2021.8 211.407 Q2019.35 213.073 2016.6 213.907 Q2013.86 214.74 2010.81 214.74 Q2002.96 214.74 1998.45 209.948 Q1993.93 205.133 1993.93 196.823 Q1993.93 188.49 1998.45 183.698 Q2002.96 178.884 2010.81 178.884 Q2013.91 178.884 2016.64 179.717 Q2019.4 180.527 2021.8 182.171 Z\" fill=\"#000000\" fill-rule=\"nonzero\" fill-opacity=\"1\" /><path clip-path=\"url(#clip170)\" d=\"M2029.4 192.541 L2059.07 192.541 L2059.07 196.43 L2029.4 196.43 L2029.4 192.541 M2029.4 201.985 L2059.07 201.985 L2059.07 205.921 L2029.4 205.921 L2029.4 201.985 Z\" fill=\"#000000\" fill-rule=\"nonzero\" fill-opacity=\"1\" /><path clip-path=\"url(#clip170)\" d=\"M2069.98 210.133 L2077.61 210.133 L2077.61 183.768 L2069.3 185.435 L2069.3 181.175 L2077.57 179.509 L2082.24 179.509 L2082.24 210.133 L2089.88 210.133 L2089.88 214.069 L2069.98 214.069 L2069.98 210.133 Z\" fill=\"#000000\" fill-rule=\"nonzero\" fill-opacity=\"1\" /><path clip-path=\"url(#clip170)\" d=\"M2112.17 183.583 L2100.37 202.032 L2112.17 202.032 L2112.17 183.583 M2110.95 179.509 L2116.83 179.509 L2116.83 202.032 L2121.76 202.032 L2121.76 205.921 L2116.83 205.921 L2116.83 214.069 L2112.17 214.069 L2112.17 205.921 L2096.57 205.921 L2096.57 201.407 L2110.95 179.509 Z\" fill=\"#000000\" fill-rule=\"nonzero\" fill-opacity=\"1\" /><path clip-path=\"url(#clip170)\" d=\"M2129.49 208.189 L2134.37 208.189 L2134.37 214.069 L2129.49 214.069 L2129.49 208.189 Z\" fill=\"#000000\" fill-rule=\"nonzero\" fill-opacity=\"1\" /><path clip-path=\"url(#clip170)\" d=\"M2144.7 213.351 L2144.7 209.092 Q2146.46 209.925 2148.26 210.365 Q2150.07 210.805 2151.8 210.805 Q2156.43 210.805 2158.86 207.703 Q2161.32 204.578 2161.66 198.235 Q2160.32 200.226 2158.26 201.291 Q2156.2 202.356 2153.7 202.356 Q2148.52 202.356 2145.48 199.231 Q2142.47 196.083 2142.47 190.643 Q2142.47 185.319 2145.62 182.101 Q2148.77 178.884 2154 178.884 Q2160 178.884 2163.15 183.49 Q2166.32 188.073 2166.32 196.823 Q2166.32 204.995 2162.43 209.879 Q2158.56 214.74 2152.01 214.74 Q2150.25 214.74 2148.45 214.393 Q2146.64 214.045 2144.7 213.351 M2154 198.698 Q2157.15 198.698 2158.98 196.546 Q2160.83 194.393 2160.83 190.643 Q2160.83 186.916 2158.98 184.763 Q2157.15 182.587 2154 182.587 Q2150.85 182.587 2149 184.763 Q2147.17 186.916 2147.17 190.643 Q2147.17 194.393 2149 196.546 Q2150.85 198.698 2154 198.698 Z\" fill=\"#000000\" fill-rule=\"nonzero\" fill-opacity=\"1\" /><path clip-path=\"url(#clip170)\" d=\"M2175.53 210.133 L2183.17 210.133 L2183.17 183.768 L2174.86 185.435 L2174.86 181.175 L2183.12 179.509 L2187.8 179.509 L2187.8 210.133 L2195.44 210.133 L2195.44 214.069 L2175.53 214.069 L2175.53 210.133 Z\" fill=\"#000000\" fill-rule=\"nonzero\" fill-opacity=\"1\" /><path clip-path=\"url(#clip170)\" d=\"M2234.28 198.86 Q2232.27 198.86 2231.11 200.573 Q2229.97 202.286 2229.97 205.342 Q2229.97 208.351 2231.11 210.087 Q2232.27 211.8 2234.28 211.8 Q2236.25 211.8 2237.38 210.087 Q2238.54 208.351 2238.54 205.342 Q2238.54 202.309 2237.38 200.596 Q2236.25 198.86 2234.28 198.86 M2234.28 195.921 Q2237.94 195.921 2240.09 198.467 Q2242.24 201.013 2242.24 205.342 Q2242.24 209.67 2240.07 212.217 Q2237.91 214.74 2234.28 214.74 Q2230.58 214.74 2228.42 212.217 Q2226.27 209.67 2226.27 205.342 Q2226.27 200.99 2228.42 198.467 Q2230.6 195.921 2234.28 195.921 M2210.39 181.823 Q2208.4 181.823 2207.24 183.56 Q2206.11 185.272 2206.11 188.282 Q2206.11 191.337 2207.24 193.05 Q2208.38 194.763 2210.39 194.763 Q2212.4 194.763 2213.54 193.05 Q2214.7 191.337 2214.7 188.282 Q2214.7 185.296 2213.54 183.56 Q2212.38 181.823 2210.39 181.823 M2231.29 178.884 L2235 178.884 L2213.38 214.74 L2209.67 214.74 L2231.29 178.884 M2210.39 178.884 Q2214.05 178.884 2216.22 181.43 Q2218.4 183.953 2218.4 188.282 Q2218.4 192.657 2216.22 195.18 Q2214.07 197.703 2210.39 197.703 Q2206.71 197.703 2204.56 195.18 Q2202.43 192.634 2202.43 188.282 Q2202.43 183.976 2204.58 181.43 Q2206.73 178.884 2210.39 178.884 Z\" fill=\"#000000\" fill-rule=\"nonzero\" fill-opacity=\"1\" /><path clip-path=\"url(#clip170)\" d=\"M2248.65 178.097 L2252.36 178.097 Q2255.83 183.56 2257.54 188.791 Q2259.28 194.022 2259.28 199.184 Q2259.28 204.37 2257.54 209.624 Q2255.83 214.879 2252.36 220.319 L2248.65 220.319 Q2251.73 215.018 2253.24 209.786 Q2254.77 204.532 2254.77 199.184 Q2254.77 193.837 2253.24 188.629 Q2251.73 183.421 2248.65 178.097 Z\" fill=\"#000000\" fill-rule=\"nonzero\" fill-opacity=\"1\" /></svg>\n"
      ],
      "text/html": [
       "<?xml version=\"1.0\" encoding=\"utf-8\"?>\n",
       "<svg xmlns=\"http://www.w3.org/2000/svg\" xmlns:xlink=\"http://www.w3.org/1999/xlink\" width=\"600\" height=\"400\" viewBox=\"0 0 2400 1600\">\n",
       "<defs>\n",
       "  <clipPath id=\"clip220\">\n",
       "    <rect x=\"0\" y=\"0\" width=\"2400\" height=\"1600\"/>\n",
       "  </clipPath>\n",
       "</defs>\n",
       "<path clip-path=\"url(#clip220)\" d=\"M0 1600 L2400 1600 L2400 0 L0 0  Z\" fill=\"#ffffff\" fill-rule=\"evenodd\" fill-opacity=\"1\"/>\n",
       "<defs>\n",
       "  <clipPath id=\"clip221\">\n",
       "    <rect x=\"480\" y=\"0\" width=\"1681\" height=\"1600\"/>\n",
       "  </clipPath>\n",
       "</defs>\n",
       "<path clip-path=\"url(#clip220)\" d=\"M249.542 1423.18 L2352.76 1423.18 L2352.76 47.2441 L249.542 47.2441  Z\" fill=\"#ffffff\" fill-rule=\"evenodd\" fill-opacity=\"1\"/>\n",
       "<defs>\n",
       "  <clipPath id=\"clip222\">\n",
       "    <rect x=\"249\" y=\"47\" width=\"2104\" height=\"1377\"/>\n",
       "  </clipPath>\n",
       "</defs>\n",
       "<polyline clip-path=\"url(#clip222)\" style=\"stroke:#000000; stroke-linecap:round; stroke-linejoin:round; stroke-width:2; stroke-opacity:0.1; fill:none\" points=\"309.067,1423.18 309.067,47.2441 \"/>\n",
       "<polyline clip-path=\"url(#clip222)\" style=\"stroke:#000000; stroke-linecap:round; stroke-linejoin:round; stroke-width:2; stroke-opacity:0.1; fill:none\" points=\"805.108,1423.18 805.108,47.2441 \"/>\n",
       "<polyline clip-path=\"url(#clip222)\" style=\"stroke:#000000; stroke-linecap:round; stroke-linejoin:round; stroke-width:2; stroke-opacity:0.1; fill:none\" points=\"1301.15,1423.18 1301.15,47.2441 \"/>\n",
       "<polyline clip-path=\"url(#clip222)\" style=\"stroke:#000000; stroke-linecap:round; stroke-linejoin:round; stroke-width:2; stroke-opacity:0.1; fill:none\" points=\"1797.19,1423.18 1797.19,47.2441 \"/>\n",
       "<polyline clip-path=\"url(#clip222)\" style=\"stroke:#000000; stroke-linecap:round; stroke-linejoin:round; stroke-width:2; stroke-opacity:0.1; fill:none\" points=\"2293.23,1423.18 2293.23,47.2441 \"/>\n",
       "<polyline clip-path=\"url(#clip220)\" style=\"stroke:#000000; stroke-linecap:round; stroke-linejoin:round; stroke-width:4; stroke-opacity:1; fill:none\" points=\"249.542,1423.18 2352.76,1423.18 \"/>\n",
       "<polyline clip-path=\"url(#clip220)\" style=\"stroke:#000000; stroke-linecap:round; stroke-linejoin:round; stroke-width:4; stroke-opacity:1; fill:none\" points=\"309.067,1423.18 309.067,1404.28 \"/>\n",
       "<polyline clip-path=\"url(#clip220)\" style=\"stroke:#000000; stroke-linecap:round; stroke-linejoin:round; stroke-width:4; stroke-opacity:1; fill:none\" points=\"805.108,1423.18 805.108,1404.28 \"/>\n",
       "<polyline clip-path=\"url(#clip220)\" style=\"stroke:#000000; stroke-linecap:round; stroke-linejoin:round; stroke-width:4; stroke-opacity:1; fill:none\" points=\"1301.15,1423.18 1301.15,1404.28 \"/>\n",
       "<polyline clip-path=\"url(#clip220)\" style=\"stroke:#000000; stroke-linecap:round; stroke-linejoin:round; stroke-width:4; stroke-opacity:1; fill:none\" points=\"1797.19,1423.18 1797.19,1404.28 \"/>\n",
       "<polyline clip-path=\"url(#clip220)\" style=\"stroke:#000000; stroke-linecap:round; stroke-linejoin:round; stroke-width:4; stroke-opacity:1; fill:none\" points=\"2293.23,1423.18 2293.23,1404.28 \"/>\n",
       "<path clip-path=\"url(#clip220)\" d=\"M271.37 1454.1 Q267.759 1454.1 265.931 1457.66 Q264.125 1461.2 264.125 1468.33 Q264.125 1475.44 265.931 1479.01 Q267.759 1482.55 271.37 1482.55 Q275.005 1482.55 276.81 1479.01 Q278.639 1475.44 278.639 1468.33 Q278.639 1461.2 276.81 1457.66 Q275.005 1454.1 271.37 1454.1 M271.37 1450.39 Q277.181 1450.39 280.236 1455 Q283.315 1459.58 283.315 1468.33 Q283.315 1477.06 280.236 1481.67 Q277.181 1486.25 271.37 1486.25 Q265.56 1486.25 262.482 1481.67 Q259.426 1477.06 259.426 1468.33 Q259.426 1459.58 262.482 1455 Q265.56 1450.39 271.37 1450.39 Z\" fill=\"#000000\" fill-rule=\"nonzero\" fill-opacity=\"1\" /><path clip-path=\"url(#clip220)\" d=\"M291.532 1479.7 L296.417 1479.7 L296.417 1485.58 L291.532 1485.58 L291.532 1479.7 Z\" fill=\"#000000\" fill-rule=\"nonzero\" fill-opacity=\"1\" /><path clip-path=\"url(#clip220)\" d=\"M316.602 1454.1 Q312.991 1454.1 311.162 1457.66 Q309.356 1461.2 309.356 1468.33 Q309.356 1475.44 311.162 1479.01 Q312.991 1482.55 316.602 1482.55 Q320.236 1482.55 322.041 1479.01 Q323.87 1475.44 323.87 1468.33 Q323.87 1461.2 322.041 1457.66 Q320.236 1454.1 316.602 1454.1 M316.602 1450.39 Q322.412 1450.39 325.467 1455 Q328.546 1459.58 328.546 1468.33 Q328.546 1477.06 325.467 1481.67 Q322.412 1486.25 316.602 1486.25 Q310.791 1486.25 307.713 1481.67 Q304.657 1477.06 304.657 1468.33 Q304.657 1459.58 307.713 1455 Q310.791 1450.39 316.602 1450.39 Z\" fill=\"#000000\" fill-rule=\"nonzero\" fill-opacity=\"1\" /><path clip-path=\"url(#clip220)\" d=\"M346.764 1454.1 Q343.152 1454.1 341.324 1457.66 Q339.518 1461.2 339.518 1468.33 Q339.518 1475.44 341.324 1479.01 Q343.152 1482.55 346.764 1482.55 Q350.398 1482.55 352.203 1479.01 Q354.032 1475.44 354.032 1468.33 Q354.032 1461.2 352.203 1457.66 Q350.398 1454.1 346.764 1454.1 M346.764 1450.39 Q352.574 1450.39 355.629 1455 Q358.708 1459.58 358.708 1468.33 Q358.708 1477.06 355.629 1481.67 Q352.574 1486.25 346.764 1486.25 Q340.953 1486.25 337.875 1481.67 Q334.819 1477.06 334.819 1468.33 Q334.819 1459.58 337.875 1455 Q340.953 1450.39 346.764 1450.39 Z\" fill=\"#000000\" fill-rule=\"nonzero\" fill-opacity=\"1\" /><path clip-path=\"url(#clip220)\" d=\"M767.909 1454.1 Q764.298 1454.1 762.469 1457.66 Q760.664 1461.2 760.664 1468.33 Q760.664 1475.44 762.469 1479.01 Q764.298 1482.55 767.909 1482.55 Q771.543 1482.55 773.349 1479.01 Q775.178 1475.44 775.178 1468.33 Q775.178 1461.2 773.349 1457.66 Q771.543 1454.1 767.909 1454.1 M767.909 1450.39 Q773.719 1450.39 776.775 1455 Q779.853 1459.58 779.853 1468.33 Q779.853 1477.06 776.775 1481.67 Q773.719 1486.25 767.909 1486.25 Q762.099 1486.25 759.02 1481.67 Q755.965 1477.06 755.965 1468.33 Q755.965 1459.58 759.02 1455 Q762.099 1450.39 767.909 1450.39 Z\" fill=\"#000000\" fill-rule=\"nonzero\" fill-opacity=\"1\" /><path clip-path=\"url(#clip220)\" d=\"M788.071 1479.7 L792.955 1479.7 L792.955 1485.58 L788.071 1485.58 L788.071 1479.7 Z\" fill=\"#000000\" fill-rule=\"nonzero\" fill-opacity=\"1\" /><path clip-path=\"url(#clip220)\" d=\"M807.168 1481.64 L823.487 1481.64 L823.487 1485.58 L801.543 1485.58 L801.543 1481.64 Q804.205 1478.89 808.788 1474.26 Q813.395 1469.61 814.576 1468.27 Q816.821 1465.74 817.7 1464.01 Q818.603 1462.25 818.603 1460.56 Q818.603 1457.8 816.659 1456.07 Q814.738 1454.33 811.636 1454.33 Q809.437 1454.33 806.983 1455.09 Q804.552 1455.86 801.775 1457.41 L801.775 1452.69 Q804.599 1451.55 807.052 1450.97 Q809.506 1450.39 811.543 1450.39 Q816.913 1450.39 820.108 1453.08 Q823.302 1455.77 823.302 1460.26 Q823.302 1462.39 822.492 1464.31 Q821.705 1466.2 819.599 1468.8 Q819.02 1469.47 815.918 1472.69 Q812.816 1475.88 807.168 1481.64 Z\" fill=\"#000000\" fill-rule=\"nonzero\" fill-opacity=\"1\" /><path clip-path=\"url(#clip220)\" d=\"M833.349 1451.02 L851.705 1451.02 L851.705 1454.96 L837.631 1454.96 L837.631 1463.43 Q838.649 1463.08 839.668 1462.92 Q840.686 1462.73 841.705 1462.73 Q847.492 1462.73 850.872 1465.9 Q854.251 1469.08 854.251 1474.49 Q854.251 1480.07 850.779 1483.17 Q847.307 1486.25 840.987 1486.25 Q838.811 1486.25 836.543 1485.88 Q834.298 1485.51 831.89 1484.77 L831.89 1480.07 Q833.974 1481.2 836.196 1481.76 Q838.418 1482.32 840.895 1482.32 Q844.899 1482.32 847.237 1480.21 Q849.575 1478.1 849.575 1474.49 Q849.575 1470.88 847.237 1468.77 Q844.899 1466.67 840.895 1466.67 Q839.02 1466.67 837.145 1467.08 Q835.293 1467.5 833.349 1468.38 L833.349 1451.02 Z\" fill=\"#000000\" fill-rule=\"nonzero\" fill-opacity=\"1\" /><path clip-path=\"url(#clip220)\" d=\"M1263.45 1454.1 Q1259.84 1454.1 1258.01 1457.66 Q1256.21 1461.2 1256.21 1468.33 Q1256.21 1475.44 1258.01 1479.01 Q1259.84 1482.55 1263.45 1482.55 Q1267.09 1482.55 1268.89 1479.01 Q1270.72 1475.44 1270.72 1468.33 Q1270.72 1461.2 1268.89 1457.66 Q1267.09 1454.1 1263.45 1454.1 M1263.45 1450.39 Q1269.26 1450.39 1272.32 1455 Q1275.4 1459.58 1275.4 1468.33 Q1275.4 1477.06 1272.32 1481.67 Q1269.26 1486.25 1263.45 1486.25 Q1257.64 1486.25 1254.56 1481.67 Q1251.51 1477.06 1251.51 1468.33 Q1251.51 1459.58 1254.56 1455 Q1257.64 1450.39 1263.45 1450.39 Z\" fill=\"#000000\" fill-rule=\"nonzero\" fill-opacity=\"1\" /><path clip-path=\"url(#clip220)\" d=\"M1283.61 1479.7 L1288.5 1479.7 L1288.5 1485.58 L1283.61 1485.58 L1283.61 1479.7 Z\" fill=\"#000000\" fill-rule=\"nonzero\" fill-opacity=\"1\" /><path clip-path=\"url(#clip220)\" d=\"M1298.73 1451.02 L1317.09 1451.02 L1317.09 1454.96 L1303.01 1454.96 L1303.01 1463.43 Q1304.03 1463.08 1305.05 1462.92 Q1306.07 1462.73 1307.09 1462.73 Q1312.87 1462.73 1316.25 1465.9 Q1319.63 1469.08 1319.63 1474.49 Q1319.63 1480.07 1316.16 1483.17 Q1312.69 1486.25 1306.37 1486.25 Q1304.19 1486.25 1301.92 1485.88 Q1299.68 1485.51 1297.27 1484.77 L1297.27 1480.07 Q1299.35 1481.2 1301.58 1481.76 Q1303.8 1482.32 1306.28 1482.32 Q1310.28 1482.32 1312.62 1480.21 Q1314.96 1478.1 1314.96 1474.49 Q1314.96 1470.88 1312.62 1468.77 Q1310.28 1466.67 1306.28 1466.67 Q1304.4 1466.67 1302.53 1467.08 Q1300.67 1467.5 1298.73 1468.38 L1298.73 1451.02 Z\" fill=\"#000000\" fill-rule=\"nonzero\" fill-opacity=\"1\" /><path clip-path=\"url(#clip220)\" d=\"M1338.85 1454.1 Q1335.23 1454.1 1333.41 1457.66 Q1331.6 1461.2 1331.6 1468.33 Q1331.6 1475.44 1333.41 1479.01 Q1335.23 1482.55 1338.85 1482.55 Q1342.48 1482.55 1344.29 1479.01 Q1346.11 1475.44 1346.11 1468.33 Q1346.11 1461.2 1344.29 1457.66 Q1342.48 1454.1 1338.85 1454.1 M1338.85 1450.39 Q1344.66 1450.39 1347.71 1455 Q1350.79 1459.58 1350.79 1468.33 Q1350.79 1477.06 1347.71 1481.67 Q1344.66 1486.25 1338.85 1486.25 Q1333.04 1486.25 1329.96 1481.67 Q1326.9 1477.06 1326.9 1468.33 Q1326.9 1459.58 1329.96 1455 Q1333.04 1450.39 1338.85 1450.39 Z\" fill=\"#000000\" fill-rule=\"nonzero\" fill-opacity=\"1\" /><path clip-path=\"url(#clip220)\" d=\"M1759.99 1454.1 Q1756.38 1454.1 1754.55 1457.66 Q1752.75 1461.2 1752.75 1468.33 Q1752.75 1475.44 1754.55 1479.01 Q1756.38 1482.55 1759.99 1482.55 Q1763.63 1482.55 1765.43 1479.01 Q1767.26 1475.44 1767.26 1468.33 Q1767.26 1461.2 1765.43 1457.66 Q1763.63 1454.1 1759.99 1454.1 M1759.99 1450.39 Q1765.8 1450.39 1768.86 1455 Q1771.94 1459.58 1771.94 1468.33 Q1771.94 1477.06 1768.86 1481.67 Q1765.8 1486.25 1759.99 1486.25 Q1754.18 1486.25 1751.1 1481.67 Q1748.05 1477.06 1748.05 1468.33 Q1748.05 1459.58 1751.1 1455 Q1754.18 1450.39 1759.99 1450.39 Z\" fill=\"#000000\" fill-rule=\"nonzero\" fill-opacity=\"1\" /><path clip-path=\"url(#clip220)\" d=\"M1780.15 1479.7 L1785.04 1479.7 L1785.04 1485.58 L1780.15 1485.58 L1780.15 1479.7 Z\" fill=\"#000000\" fill-rule=\"nonzero\" fill-opacity=\"1\" /><path clip-path=\"url(#clip220)\" d=\"M1794.04 1451.02 L1816.26 1451.02 L1816.26 1453.01 L1803.72 1485.58 L1798.83 1485.58 L1810.64 1454.96 L1794.04 1454.96 L1794.04 1451.02 Z\" fill=\"#000000\" fill-rule=\"nonzero\" fill-opacity=\"1\" /><path clip-path=\"url(#clip220)\" d=\"M1825.43 1451.02 L1843.79 1451.02 L1843.79 1454.96 L1829.71 1454.96 L1829.71 1463.43 Q1830.73 1463.08 1831.75 1462.92 Q1832.77 1462.73 1833.79 1462.73 Q1839.57 1462.73 1842.95 1465.9 Q1846.33 1469.08 1846.33 1474.49 Q1846.33 1480.07 1842.86 1483.17 Q1839.39 1486.25 1833.07 1486.25 Q1830.89 1486.25 1828.62 1485.88 Q1826.38 1485.51 1823.97 1484.77 L1823.97 1480.07 Q1826.06 1481.2 1828.28 1481.76 Q1830.5 1482.32 1832.98 1482.32 Q1836.98 1482.32 1839.32 1480.21 Q1841.66 1478.1 1841.66 1474.49 Q1841.66 1470.88 1839.32 1468.77 Q1836.98 1466.67 1832.98 1466.67 Q1831.1 1466.67 1829.23 1467.08 Q1827.38 1467.5 1825.43 1468.38 L1825.43 1451.02 Z\" fill=\"#000000\" fill-rule=\"nonzero\" fill-opacity=\"1\" /><path clip-path=\"url(#clip220)\" d=\"M2245.3 1481.64 L2252.94 1481.64 L2252.94 1455.28 L2244.63 1456.95 L2244.63 1452.69 L2252.9 1451.02 L2257.57 1451.02 L2257.57 1481.64 L2265.21 1481.64 L2265.21 1485.58 L2245.3 1485.58 L2245.3 1481.64 Z\" fill=\"#000000\" fill-rule=\"nonzero\" fill-opacity=\"1\" /><path clip-path=\"url(#clip220)\" d=\"M2274.65 1479.7 L2279.54 1479.7 L2279.54 1485.58 L2274.65 1485.58 L2274.65 1479.7 Z\" fill=\"#000000\" fill-rule=\"nonzero\" fill-opacity=\"1\" /><path clip-path=\"url(#clip220)\" d=\"M2299.72 1454.1 Q2296.11 1454.1 2294.28 1457.66 Q2292.48 1461.2 2292.48 1468.33 Q2292.48 1475.44 2294.28 1479.01 Q2296.11 1482.55 2299.72 1482.55 Q2303.36 1482.55 2305.16 1479.01 Q2306.99 1475.44 2306.99 1468.33 Q2306.99 1461.2 2305.16 1457.66 Q2303.36 1454.1 2299.72 1454.1 M2299.72 1450.39 Q2305.53 1450.39 2308.59 1455 Q2311.67 1459.58 2311.67 1468.33 Q2311.67 1477.06 2308.59 1481.67 Q2305.53 1486.25 2299.72 1486.25 Q2293.91 1486.25 2290.84 1481.67 Q2287.78 1477.06 2287.78 1468.33 Q2287.78 1459.58 2290.84 1455 Q2293.91 1450.39 2299.72 1450.39 Z\" fill=\"#000000\" fill-rule=\"nonzero\" fill-opacity=\"1\" /><path clip-path=\"url(#clip220)\" d=\"M2329.89 1454.1 Q2326.27 1454.1 2324.45 1457.66 Q2322.64 1461.2 2322.64 1468.33 Q2322.64 1475.44 2324.45 1479.01 Q2326.27 1482.55 2329.89 1482.55 Q2333.52 1482.55 2335.33 1479.01 Q2337.15 1475.44 2337.15 1468.33 Q2337.15 1461.2 2335.33 1457.66 Q2333.52 1454.1 2329.89 1454.1 M2329.89 1450.39 Q2335.7 1450.39 2338.75 1455 Q2341.83 1459.58 2341.83 1468.33 Q2341.83 1477.06 2338.75 1481.67 Q2335.7 1486.25 2329.89 1486.25 Q2324.08 1486.25 2321 1481.67 Q2317.94 1477.06 2317.94 1468.33 Q2317.94 1459.58 2321 1455 Q2324.08 1450.39 2329.89 1450.39 Z\" fill=\"#000000\" fill-rule=\"nonzero\" fill-opacity=\"1\" /><path clip-path=\"url(#clip220)\" d=\"M1260.82 1562.7 L1260.82 1581.6 L1254.93 1581.6 L1254.93 1532.4 L1260.82 1532.4 L1260.82 1537.81 Q1262.67 1534.62 1265.47 1533.1 Q1268.3 1531.54 1272.22 1531.54 Q1278.71 1531.54 1282.75 1536.69 Q1286.83 1541.85 1286.83 1550.25 Q1286.83 1558.65 1282.75 1563.81 Q1278.71 1568.97 1272.22 1568.97 Q1268.3 1568.97 1265.47 1567.44 Q1262.67 1565.88 1260.82 1562.7 M1280.75 1550.25 Q1280.75 1543.79 1278.07 1540.13 Q1275.43 1536.44 1270.78 1536.44 Q1266.14 1536.44 1263.46 1540.13 Q1260.82 1543.79 1260.82 1550.25 Q1260.82 1556.71 1263.46 1560.4 Q1266.14 1564.07 1270.78 1564.07 Q1275.43 1564.07 1278.07 1560.4 Q1280.75 1556.71 1280.75 1550.25 Z\" fill=\"#000000\" fill-rule=\"nonzero\" fill-opacity=\"1\" /><path clip-path=\"url(#clip220)\" d=\"M1314.58 1518.52 L1314.58 1523.39 L1308.98 1523.39 Q1305.83 1523.39 1304.59 1524.66 Q1303.38 1525.93 1303.38 1529.24 L1303.38 1532.4 L1313.02 1532.4 L1313.02 1536.95 L1303.38 1536.95 L1303.38 1568.04 L1297.49 1568.04 L1297.49 1536.95 L1291.89 1536.95 L1291.89 1532.4 L1297.49 1532.4 L1297.49 1529.91 Q1297.49 1523.96 1300.26 1521.26 Q1303.03 1518.52 1309.04 1518.52 L1314.58 1518.52 Z\" fill=\"#000000\" fill-rule=\"nonzero\" fill-opacity=\"1\" /><path clip-path=\"url(#clip220)\" d=\"M1335.68 1550.12 Q1328.59 1550.12 1325.85 1551.75 Q1323.11 1553.37 1323.11 1557.29 Q1323.11 1560.4 1325.15 1562.25 Q1327.22 1564.07 1330.75 1564.07 Q1335.62 1564.07 1338.55 1560.63 Q1341.51 1557.16 1341.51 1551.43 L1341.51 1550.12 L1335.68 1550.12 M1347.36 1547.71 L1347.36 1568.04 L1341.51 1568.04 L1341.51 1562.63 Q1339.5 1565.88 1336.51 1567.44 Q1333.52 1568.97 1329.19 1568.97 Q1323.72 1568.97 1320.47 1565.91 Q1317.25 1562.82 1317.25 1557.67 Q1317.25 1551.65 1321.26 1548.6 Q1325.31 1545.54 1333.3 1545.54 L1341.51 1545.54 L1341.51 1544.97 Q1341.51 1540.93 1338.83 1538.73 Q1336.19 1536.5 1331.39 1536.5 Q1328.33 1536.5 1325.43 1537.23 Q1322.54 1537.97 1319.86 1539.43 L1319.86 1534.02 Q1323.08 1532.78 1326.1 1532.17 Q1329.13 1531.54 1331.99 1531.54 Q1339.73 1531.54 1343.54 1535.55 Q1347.36 1539.56 1347.36 1547.71 Z\" fill=\"#000000\" fill-rule=\"nonzero\" fill-opacity=\"1\" /><polyline clip-path=\"url(#clip222)\" style=\"stroke:#000000; stroke-linecap:round; stroke-linejoin:round; stroke-width:2; stroke-opacity:0.1; fill:none\" points=\"249.542,1384.24 2352.76,1384.24 \"/>\n",
       "<polyline clip-path=\"url(#clip222)\" style=\"stroke:#000000; stroke-linecap:round; stroke-linejoin:round; stroke-width:2; stroke-opacity:0.1; fill:none\" points=\"249.542,1059.73 2352.76,1059.73 \"/>\n",
       "<polyline clip-path=\"url(#clip222)\" style=\"stroke:#000000; stroke-linecap:round; stroke-linejoin:round; stroke-width:2; stroke-opacity:0.1; fill:none\" points=\"249.542,735.212 2352.76,735.212 \"/>\n",
       "<polyline clip-path=\"url(#clip222)\" style=\"stroke:#000000; stroke-linecap:round; stroke-linejoin:round; stroke-width:2; stroke-opacity:0.1; fill:none\" points=\"249.542,410.699 2352.76,410.699 \"/>\n",
       "<polyline clip-path=\"url(#clip222)\" style=\"stroke:#000000; stroke-linecap:round; stroke-linejoin:round; stroke-width:2; stroke-opacity:0.1; fill:none\" points=\"249.542,86.1857 2352.76,86.1857 \"/>\n",
       "<polyline clip-path=\"url(#clip220)\" style=\"stroke:#000000; stroke-linecap:round; stroke-linejoin:round; stroke-width:4; stroke-opacity:1; fill:none\" points=\"249.542,1423.18 249.542,47.2441 \"/>\n",
       "<polyline clip-path=\"url(#clip220)\" style=\"stroke:#000000; stroke-linecap:round; stroke-linejoin:round; stroke-width:4; stroke-opacity:1; fill:none\" points=\"249.542,1384.24 268.44,1384.24 \"/>\n",
       "<polyline clip-path=\"url(#clip220)\" style=\"stroke:#000000; stroke-linecap:round; stroke-linejoin:round; stroke-width:4; stroke-opacity:1; fill:none\" points=\"249.542,1059.73 268.44,1059.73 \"/>\n",
       "<polyline clip-path=\"url(#clip220)\" style=\"stroke:#000000; stroke-linecap:round; stroke-linejoin:round; stroke-width:4; stroke-opacity:1; fill:none\" points=\"249.542,735.212 268.44,735.212 \"/>\n",
       "<polyline clip-path=\"url(#clip220)\" style=\"stroke:#000000; stroke-linecap:round; stroke-linejoin:round; stroke-width:4; stroke-opacity:1; fill:none\" points=\"249.542,410.699 268.44,410.699 \"/>\n",
       "<polyline clip-path=\"url(#clip220)\" style=\"stroke:#000000; stroke-linecap:round; stroke-linejoin:round; stroke-width:4; stroke-opacity:1; fill:none\" points=\"249.542,86.1857 268.44,86.1857 \"/>\n",
       "<path clip-path=\"url(#clip220)\" d=\"M126.205 1370.04 Q122.593 1370.04 120.765 1373.6 Q118.959 1377.14 118.959 1384.27 Q118.959 1391.38 120.765 1394.94 Q122.593 1398.49 126.205 1398.49 Q129.839 1398.49 131.644 1394.94 Q133.473 1391.38 133.473 1384.27 Q133.473 1377.14 131.644 1373.6 Q129.839 1370.04 126.205 1370.04 M126.205 1366.33 Q132.015 1366.33 135.07 1370.94 Q138.149 1375.52 138.149 1384.27 Q138.149 1393 135.07 1397.61 Q132.015 1402.19 126.205 1402.19 Q120.394 1402.19 117.316 1397.61 Q114.26 1393 114.26 1384.27 Q114.26 1375.52 117.316 1370.94 Q120.394 1366.33 126.205 1366.33 Z\" fill=\"#000000\" fill-rule=\"nonzero\" fill-opacity=\"1\" /><path clip-path=\"url(#clip220)\" d=\"M146.366 1395.64 L151.251 1395.64 L151.251 1401.52 L146.366 1401.52 L146.366 1395.64 Z\" fill=\"#000000\" fill-rule=\"nonzero\" fill-opacity=\"1\" /><path clip-path=\"url(#clip220)\" d=\"M171.436 1370.04 Q167.825 1370.04 165.996 1373.6 Q164.19 1377.14 164.19 1384.27 Q164.19 1391.38 165.996 1394.94 Q167.825 1398.49 171.436 1398.49 Q175.07 1398.49 176.876 1394.94 Q178.704 1391.38 178.704 1384.27 Q178.704 1377.14 176.876 1373.6 Q175.07 1370.04 171.436 1370.04 M171.436 1366.33 Q177.246 1366.33 180.301 1370.94 Q183.38 1375.52 183.38 1384.27 Q183.38 1393 180.301 1397.61 Q177.246 1402.19 171.436 1402.19 Q165.626 1402.19 162.547 1397.61 Q159.491 1393 159.491 1384.27 Q159.491 1375.52 162.547 1370.94 Q165.626 1366.33 171.436 1366.33 Z\" fill=\"#000000\" fill-rule=\"nonzero\" fill-opacity=\"1\" /><path clip-path=\"url(#clip220)\" d=\"M201.598 1370.04 Q197.987 1370.04 196.158 1373.6 Q194.352 1377.14 194.352 1384.27 Q194.352 1391.38 196.158 1394.94 Q197.987 1398.49 201.598 1398.49 Q205.232 1398.49 207.037 1394.94 Q208.866 1391.38 208.866 1384.27 Q208.866 1377.14 207.037 1373.6 Q205.232 1370.04 201.598 1370.04 M201.598 1366.33 Q207.408 1366.33 210.463 1370.94 Q213.542 1375.52 213.542 1384.27 Q213.542 1393 210.463 1397.61 Q207.408 1402.19 201.598 1402.19 Q195.787 1402.19 192.709 1397.61 Q189.653 1393 189.653 1384.27 Q189.653 1375.52 192.709 1370.94 Q195.787 1366.33 201.598 1366.33 Z\" fill=\"#000000\" fill-rule=\"nonzero\" fill-opacity=\"1\" /><path clip-path=\"url(#clip220)\" d=\"M127.2 1045.52 Q123.589 1045.52 121.76 1049.09 Q119.955 1052.63 119.955 1059.76 Q119.955 1066.87 121.76 1070.43 Q123.589 1073.97 127.2 1073.97 Q130.834 1073.97 132.64 1070.43 Q134.468 1066.87 134.468 1059.76 Q134.468 1052.63 132.64 1049.09 Q130.834 1045.52 127.2 1045.52 M127.2 1041.82 Q133.01 1041.82 136.066 1046.43 Q139.144 1051.01 139.144 1059.76 Q139.144 1068.49 136.066 1073.09 Q133.01 1077.68 127.2 1077.68 Q121.39 1077.68 118.311 1073.09 Q115.256 1068.49 115.256 1059.76 Q115.256 1051.01 118.311 1046.43 Q121.39 1041.82 127.2 1041.82 Z\" fill=\"#000000\" fill-rule=\"nonzero\" fill-opacity=\"1\" /><path clip-path=\"url(#clip220)\" d=\"M147.362 1071.13 L152.246 1071.13 L152.246 1077.01 L147.362 1077.01 L147.362 1071.13 Z\" fill=\"#000000\" fill-rule=\"nonzero\" fill-opacity=\"1\" /><path clip-path=\"url(#clip220)\" d=\"M166.459 1073.07 L182.778 1073.07 L182.778 1077.01 L160.834 1077.01 L160.834 1073.07 Q163.496 1070.32 168.079 1065.69 Q172.686 1061.03 173.866 1059.69 Q176.112 1057.17 176.991 1055.43 Q177.894 1053.67 177.894 1051.98 Q177.894 1049.23 175.95 1047.49 Q174.028 1045.76 170.927 1045.76 Q168.727 1045.76 166.274 1046.52 Q163.843 1047.28 161.065 1048.83 L161.065 1044.11 Q163.89 1042.98 166.343 1042.4 Q168.797 1041.82 170.834 1041.82 Q176.204 1041.82 179.399 1044.51 Q182.593 1047.19 182.593 1051.68 Q182.593 1053.81 181.783 1055.73 Q180.996 1057.63 178.889 1060.22 Q178.311 1060.89 175.209 1064.11 Q172.107 1067.31 166.459 1073.07 Z\" fill=\"#000000\" fill-rule=\"nonzero\" fill-opacity=\"1\" /><path clip-path=\"url(#clip220)\" d=\"M192.639 1042.45 L210.996 1042.45 L210.996 1046.38 L196.922 1046.38 L196.922 1054.85 Q197.94 1054.51 198.959 1054.34 Q199.977 1054.16 200.996 1054.16 Q206.783 1054.16 210.162 1057.33 Q213.542 1060.5 213.542 1065.92 Q213.542 1071.5 210.07 1074.6 Q206.598 1077.68 200.278 1077.68 Q198.102 1077.68 195.834 1077.31 Q193.588 1076.94 191.181 1076.19 L191.181 1071.5 Q193.264 1072.63 195.487 1073.19 Q197.709 1073.74 200.186 1073.74 Q204.19 1073.74 206.528 1071.63 Q208.866 1069.53 208.866 1065.92 Q208.866 1062.31 206.528 1060.2 Q204.19 1058.09 200.186 1058.09 Q198.311 1058.09 196.436 1058.51 Q194.584 1058.93 192.639 1059.81 L192.639 1042.45 Z\" fill=\"#000000\" fill-rule=\"nonzero\" fill-opacity=\"1\" /><path clip-path=\"url(#clip220)\" d=\"M126.205 721.011 Q122.593 721.011 120.765 724.575 Q118.959 728.117 118.959 735.247 Q118.959 742.353 120.765 745.918 Q122.593 749.46 126.205 749.46 Q129.839 749.46 131.644 745.918 Q133.473 742.353 133.473 735.247 Q133.473 728.117 131.644 724.575 Q129.839 721.011 126.205 721.011 M126.205 717.307 Q132.015 717.307 135.07 721.913 Q138.149 726.497 138.149 735.247 Q138.149 743.973 135.07 748.58 Q132.015 753.163 126.205 753.163 Q120.394 753.163 117.316 748.58 Q114.26 743.973 114.26 735.247 Q114.26 726.497 117.316 721.913 Q120.394 717.307 126.205 717.307 Z\" fill=\"#000000\" fill-rule=\"nonzero\" fill-opacity=\"1\" /><path clip-path=\"url(#clip220)\" d=\"M146.366 746.612 L151.251 746.612 L151.251 752.492 L146.366 752.492 L146.366 746.612 Z\" fill=\"#000000\" fill-rule=\"nonzero\" fill-opacity=\"1\" /><path clip-path=\"url(#clip220)\" d=\"M161.482 717.932 L179.839 717.932 L179.839 721.867 L165.765 721.867 L165.765 730.339 Q166.783 729.992 167.802 729.83 Q168.82 729.645 169.839 729.645 Q175.626 729.645 179.005 732.816 Q182.385 735.987 182.385 741.404 Q182.385 746.983 178.913 750.085 Q175.44 753.163 169.121 753.163 Q166.945 753.163 164.677 752.793 Q162.431 752.423 160.024 751.682 L160.024 746.983 Q162.107 748.117 164.329 748.673 Q166.552 749.228 169.028 749.228 Q173.033 749.228 175.371 747.122 Q177.709 745.015 177.709 741.404 Q177.709 737.793 175.371 735.687 Q173.033 733.58 169.028 733.58 Q167.153 733.58 165.278 733.997 Q163.427 734.413 161.482 735.293 L161.482 717.932 Z\" fill=\"#000000\" fill-rule=\"nonzero\" fill-opacity=\"1\" /><path clip-path=\"url(#clip220)\" d=\"M201.598 721.011 Q197.987 721.011 196.158 724.575 Q194.352 728.117 194.352 735.247 Q194.352 742.353 196.158 745.918 Q197.987 749.46 201.598 749.46 Q205.232 749.46 207.037 745.918 Q208.866 742.353 208.866 735.247 Q208.866 728.117 207.037 724.575 Q205.232 721.011 201.598 721.011 M201.598 717.307 Q207.408 717.307 210.463 721.913 Q213.542 726.497 213.542 735.247 Q213.542 743.973 210.463 748.58 Q207.408 753.163 201.598 753.163 Q195.787 753.163 192.709 748.58 Q189.653 743.973 189.653 735.247 Q189.653 726.497 192.709 721.913 Q195.787 717.307 201.598 717.307 Z\" fill=\"#000000\" fill-rule=\"nonzero\" fill-opacity=\"1\" /><path clip-path=\"url(#clip220)\" d=\"M127.2 396.498 Q123.589 396.498 121.76 400.062 Q119.955 403.604 119.955 410.734 Q119.955 417.84 121.76 421.405 Q123.589 424.946 127.2 424.946 Q130.834 424.946 132.64 421.405 Q134.468 417.84 134.468 410.734 Q134.468 403.604 132.64 400.062 Q130.834 396.498 127.2 396.498 M127.2 392.794 Q133.01 392.794 136.066 397.4 Q139.144 401.984 139.144 410.734 Q139.144 419.46 136.066 424.067 Q133.01 428.65 127.2 428.65 Q121.39 428.65 118.311 424.067 Q115.256 419.46 115.256 410.734 Q115.256 401.984 118.311 397.4 Q121.39 392.794 127.2 392.794 Z\" fill=\"#000000\" fill-rule=\"nonzero\" fill-opacity=\"1\" /><path clip-path=\"url(#clip220)\" d=\"M147.362 422.099 L152.246 422.099 L152.246 427.979 L147.362 427.979 L147.362 422.099 Z\" fill=\"#000000\" fill-rule=\"nonzero\" fill-opacity=\"1\" /><path clip-path=\"url(#clip220)\" d=\"M161.251 393.419 L183.473 393.419 L183.473 395.41 L170.927 427.979 L166.042 427.979 L177.848 397.354 L161.251 397.354 L161.251 393.419 Z\" fill=\"#000000\" fill-rule=\"nonzero\" fill-opacity=\"1\" /><path clip-path=\"url(#clip220)\" d=\"M192.639 393.419 L210.996 393.419 L210.996 397.354 L196.922 397.354 L196.922 405.826 Q197.94 405.479 198.959 405.317 Q199.977 405.132 200.996 405.132 Q206.783 405.132 210.162 408.303 Q213.542 411.474 213.542 416.891 Q213.542 422.47 210.07 425.571 Q206.598 428.65 200.278 428.65 Q198.102 428.65 195.834 428.28 Q193.588 427.909 191.181 427.169 L191.181 422.47 Q193.264 423.604 195.487 424.159 Q197.709 424.715 200.186 424.715 Q204.19 424.715 206.528 422.608 Q208.866 420.502 208.866 416.891 Q208.866 413.28 206.528 411.173 Q204.19 409.067 200.186 409.067 Q198.311 409.067 196.436 409.484 Q194.584 409.9 192.639 410.78 L192.639 393.419 Z\" fill=\"#000000\" fill-rule=\"nonzero\" fill-opacity=\"1\" /><path clip-path=\"url(#clip220)\" d=\"M117.015 99.5305 L124.654 99.5305 L124.654 73.1649 L116.343 74.8316 L116.343 70.5723 L124.607 68.9057 L129.283 68.9057 L129.283 99.5305 L136.922 99.5305 L136.922 103.466 L117.015 103.466 L117.015 99.5305 Z\" fill=\"#000000\" fill-rule=\"nonzero\" fill-opacity=\"1\" /><path clip-path=\"url(#clip220)\" d=\"M146.366 97.5861 L151.251 97.5861 L151.251 103.466 L146.366 103.466 L146.366 97.5861 Z\" fill=\"#000000\" fill-rule=\"nonzero\" fill-opacity=\"1\" /><path clip-path=\"url(#clip220)\" d=\"M171.436 71.9844 Q167.825 71.9844 165.996 75.5492 Q164.19 79.0908 164.19 86.2204 Q164.19 93.3268 165.996 96.8916 Q167.825 100.433 171.436 100.433 Q175.07 100.433 176.876 96.8916 Q178.704 93.3268 178.704 86.2204 Q178.704 79.0908 176.876 75.5492 Q175.07 71.9844 171.436 71.9844 M171.436 68.2807 Q177.246 68.2807 180.301 72.8871 Q183.38 77.4704 183.38 86.2204 Q183.38 94.9472 180.301 99.5537 Q177.246 104.137 171.436 104.137 Q165.626 104.137 162.547 99.5537 Q159.491 94.9472 159.491 86.2204 Q159.491 77.4704 162.547 72.8871 Q165.626 68.2807 171.436 68.2807 Z\" fill=\"#000000\" fill-rule=\"nonzero\" fill-opacity=\"1\" /><path clip-path=\"url(#clip220)\" d=\"M201.598 71.9844 Q197.987 71.9844 196.158 75.5492 Q194.352 79.0908 194.352 86.2204 Q194.352 93.3268 196.158 96.8916 Q197.987 100.433 201.598 100.433 Q205.232 100.433 207.037 96.8916 Q208.866 93.3268 208.866 86.2204 Q208.866 79.0908 207.037 75.5492 Q205.232 71.9844 201.598 71.9844 M201.598 68.2807 Q207.408 68.2807 210.463 72.8871 Q213.542 77.4704 213.542 86.2204 Q213.542 94.9472 210.463 99.5537 Q207.408 104.137 201.598 104.137 Q195.787 104.137 192.709 99.5537 Q189.653 94.9472 189.653 86.2204 Q189.653 77.4704 192.709 72.8871 Q195.787 68.2807 201.598 68.2807 Z\" fill=\"#000000\" fill-rule=\"nonzero\" fill-opacity=\"1\" /><path clip-path=\"url(#clip220)\" d=\"M58.657 820.226 L77.5631 820.226 L77.5631 826.114 L28.3562 826.114 L28.3562 820.226 L33.7671 820.226 Q30.5842 818.38 29.0564 815.579 Q27.4968 812.746 27.4968 808.831 Q27.4968 802.338 32.6531 798.296 Q37.8093 794.222 46.212 794.222 Q54.6147 794.222 59.771 798.296 Q64.9272 802.338 64.9272 808.831 Q64.9272 812.746 63.3994 815.579 Q61.8398 818.38 58.657 820.226 M46.212 800.301 Q39.7508 800.301 36.0905 802.975 Q32.3984 805.617 32.3984 810.264 Q32.3984 814.911 36.0905 817.584 Q39.7508 820.226 46.212 820.226 Q52.6732 820.226 56.3653 817.584 Q60.0256 814.911 60.0256 810.264 Q60.0256 805.617 56.3653 802.975 Q52.6732 800.301 46.212 800.301 Z\" fill=\"#000000\" fill-rule=\"nonzero\" fill-opacity=\"1\" /><path clip-path=\"url(#clip220)\" d=\"M35.1993 756.76 Q31.2526 754.564 29.3747 751.508 Q27.4968 748.453 27.4968 744.315 Q27.4968 738.745 31.4117 735.721 Q35.2948 732.698 42.4881 732.698 L64.0042 732.698 L64.0042 738.586 L42.679 738.586 Q37.5546 738.586 35.072 740.4 Q32.5894 742.214 32.5894 745.938 Q32.5894 750.49 35.6131 753.131 Q38.6368 755.773 43.8567 755.773 L64.0042 755.773 L64.0042 761.661 L42.679 761.661 Q37.5228 761.661 35.072 763.476 Q32.5894 765.29 32.5894 769.078 Q32.5894 773.565 35.6449 776.207 Q38.6686 778.849 43.8567 778.849 L64.0042 778.849 L64.0042 784.737 L28.3562 784.737 L28.3562 778.849 L33.8944 778.849 Q30.616 776.844 29.0564 774.043 Q27.4968 771.242 27.4968 767.391 Q27.4968 763.508 29.4702 760.802 Q31.4436 758.065 35.1993 756.76 Z\" fill=\"#000000\" fill-rule=\"nonzero\" fill-opacity=\"1\" /><path clip-path=\"url(#clip220)\" d=\"M28.3562 721.016 L28.3562 715.16 L64.0042 715.16 L64.0042 721.016 L28.3562 721.016 M14.479 721.016 L14.479 715.16 L21.895 715.16 L21.895 721.016 L14.479 721.016 Z\" fill=\"#000000\" fill-rule=\"nonzero\" fill-opacity=\"1\" /><path clip-path=\"url(#clip220)\" d=\"M29.4065 680.18 L34.9447 680.18 Q33.6716 682.663 33.035 685.337 Q32.3984 688.01 32.3984 690.875 Q32.3984 695.235 33.7352 697.431 Q35.072 699.596 37.7456 699.596 Q39.7826 699.596 40.9603 698.036 Q42.1061 696.477 43.1565 691.766 L43.6021 689.761 Q44.9389 683.522 47.3897 680.912 Q49.8086 678.271 54.1691 678.271 Q59.1344 678.271 62.0308 682.217 Q64.9272 686.132 64.9272 693.007 Q64.9272 695.872 64.3543 698.991 Q63.8132 702.078 62.6992 705.516 L56.6518 705.516 Q58.3387 702.269 59.198 699.118 Q60.0256 695.967 60.0256 692.88 Q60.0256 688.742 58.6251 686.514 Q57.1929 684.286 54.6147 684.286 Q52.2276 684.286 50.9545 685.91 Q49.6813 687.501 48.5037 692.944 L48.0262 694.981 Q46.8804 700.423 44.5251 702.842 Q42.138 705.261 38.0002 705.261 Q32.9713 705.261 30.2341 701.697 Q27.4968 698.132 27.4968 691.575 Q27.4968 688.329 27.9743 685.464 Q28.4517 682.599 29.4065 680.18 Z\" fill=\"#000000\" fill-rule=\"nonzero\" fill-opacity=\"1\" /><path clip-path=\"url(#clip220)\" d=\"M29.4065 646.219 L34.9447 646.219 Q33.6716 648.702 33.035 651.376 Q32.3984 654.049 32.3984 656.914 Q32.3984 661.274 33.7352 663.47 Q35.072 665.635 37.7456 665.635 Q39.7826 665.635 40.9603 664.075 Q42.1061 662.516 43.1565 657.805 L43.6021 655.8 Q44.9389 649.561 47.3897 646.951 Q49.8086 644.31 54.1691 644.31 Q59.1344 644.31 62.0308 648.256 Q64.9272 652.171 64.9272 659.046 Q64.9272 661.911 64.3543 665.03 Q63.8132 668.117 62.6992 671.555 L56.6518 671.555 Q58.3387 668.308 59.198 665.157 Q60.0256 662.006 60.0256 658.919 Q60.0256 654.781 58.6251 652.553 Q57.1929 650.325 54.6147 650.325 Q52.2276 650.325 50.9545 651.949 Q49.6813 653.54 48.5037 658.983 L48.0262 661.02 Q46.8804 666.462 44.5251 668.881 Q42.138 671.3 38.0002 671.3 Q32.9713 671.3 30.2341 667.735 Q27.4968 664.171 27.4968 657.614 Q27.4968 654.367 27.9743 651.503 Q28.4517 648.638 29.4065 646.219 Z\" fill=\"#000000\" fill-rule=\"nonzero\" fill-opacity=\"1\" /><polyline clip-path=\"url(#clip222)\" style=\"stroke:#000000; stroke-linecap:round; stroke-linejoin:round; stroke-width:12; stroke-opacity:1; fill:none\" points=\"2293.23,1384.24 2252.69,1384.24 2249.41,1378.74 2239.55,1378.74 2230.78,1373.24 2225.3,1367.74 2208.87,1367.74 2206.68,1362.24 2182.57,1362.24 2172.71,1356.74 2140.94,1356.74 2117.93,1351.24 2097.12,1345.74 1828.69,1345.74 1815.54,1340.24 1753.09,1340.24 1736.66,1329.24 1700.5,1329.24 1634.76,1323.74 1606.28,1307.24 1508.77,1307.24 1393.73,1301.73 1347.71,1268.73 1093.53,1268.73 1032.17,1257.73 890.84,1257.73 882.075,1241.23 880.98,1235.73 847.015,1235.73 781.278,1230.23 765.94,1224.73 756.079,1213.73 753.888,1208.23 721.019,1202.73 684.864,1186.23 684.864,1175.23 683.768,1169.73 679.386,1164.23 668.43,1158.73 668.43,1153.23 655.282,1142.23 647.613,1136.73 627.892,1120.23 596.119,1054.22 550.103,971.722 549.007,971.722 519.426,883.718 475.601,812.215 430.681,746.212 413.151,713.211 383.569,581.206 372.613,526.204 338.649,361.197 336.457,361.197 336.457,317.195 332.075,278.693 326.597,262.193 325.501,229.191 315.641,152.188 315.641,146.688 310.163,113.687 309.067,86.1857 \"/>\n",
       "<polyline clip-path=\"url(#clip222)\" style=\"stroke:#ffd700; stroke-linecap:round; stroke-linejoin:round; stroke-width:12; stroke-opacity:1; fill:none\" points=\"2293.23,1384.24 2265.39,1384.24 2262.14,1381.9 2248.22,1381.9 2245.9,1379.57 2233.84,1379.57 2223.63,1377.23 2204.14,1377.23 2200.43,1372.57 2199.5,1372.57 2193.93,1370.23 2190.68,1370.23 2190.68,1367.9 2187.43,1363.23 2147.53,1363.23 2140.57,1360.89 2067.25,1360.89 2022.24,1351.55 2003.22,1346.88 1988.83,1342.21 1926.19,1339.88 1914.12,1337.55 1849.62,1337.55 1833.38,1332.88 1819.93,1328.21 1793.01,1321.2 1763.78,1314.2 1761.46,1314.2 1747.54,1302.53 1702.99,1295.52 1654.73,1295.52 1617.61,1290.85 1528.06,1281.51 1417.15,1272.18 1376.32,1267.51 1221.8,1253.5 1114.15,1246.5 1057.54,1239.49 1036.66,1237.16 1018.56,1234.82 912.761,1223.15 903.945,1218.48 902.089,1218.48 857.079,1216.15 788.403,1202.14 773.09,1190.46 762.882,1188.13 756.85,1178.79 725.76,1171.79 688.638,1162.45 688.638,1155.44 676.573,1155.44 663.581,1153.11 654.764,1148.44 645.484,1136.77 623.675,1120.43 622.747,1120.43 588.873,1055.06 553.143,975.679 553.143,973.344 525.302,900.97 492.82,805.251 440.85,695.523 426.001,681.516 426.001,679.181 387.951,532.099 372.174,504.084 342.941,342.995 342.941,338.325 341.085,303.306 334.588,265.952 328.092,216.925 322.06,181.905 316.027,144.551 313.243,107.197 309.067,86.1857 \"/>\n",
       "<path clip-path=\"url(#clip220)\" d=\"M1594.55 248.629 L2282.65 248.629 L2282.65 93.1086 L1594.55 93.1086  Z\" fill=\"#ffffff\" fill-rule=\"evenodd\" fill-opacity=\"1\"/>\n",
       "<polyline clip-path=\"url(#clip220)\" style=\"stroke:#000000; stroke-linecap:round; stroke-linejoin:round; stroke-width:4; stroke-opacity:1; fill:none\" points=\"1594.55,248.629 2282.65,248.629 2282.65,93.1086 1594.55,93.1086 1594.55,248.629 \"/>\n",
       "<polyline clip-path=\"url(#clip220)\" style=\"stroke:#000000; stroke-linecap:round; stroke-linejoin:round; stroke-width:12; stroke-opacity:1; fill:none\" points=\"1617.92,144.949 1758.14,144.949 \"/>\n",
       "<path clip-path=\"url(#clip220)\" d=\"M1788.91 128.942 L1788.91 136.303 L1797.68 136.303 L1797.68 139.613 L1788.91 139.613 L1788.91 153.687 Q1788.91 156.858 1789.77 157.761 Q1790.65 158.664 1793.31 158.664 L1797.68 158.664 L1797.68 162.229 L1793.31 162.229 Q1788.38 162.229 1786.5 160.4 Q1784.63 158.548 1784.63 153.687 L1784.63 139.613 L1781.5 139.613 L1781.5 136.303 L1784.63 136.303 L1784.63 128.942 L1788.91 128.942 Z\" fill=\"#000000\" fill-rule=\"nonzero\" fill-opacity=\"1\" /><path clip-path=\"url(#clip220)\" d=\"M1825.46 148.201 L1825.46 150.284 L1805.88 150.284 Q1806.16 154.682 1808.52 156.997 Q1810.9 159.289 1815.14 159.289 Q1817.59 159.289 1819.88 158.687 Q1822.2 158.085 1824.47 156.881 L1824.47 160.909 Q1822.18 161.881 1819.77 162.391 Q1817.36 162.9 1814.88 162.9 Q1808.68 162.9 1805.05 159.289 Q1801.43 155.678 1801.43 149.52 Q1801.43 143.155 1804.86 139.428 Q1808.31 135.678 1814.14 135.678 Q1819.37 135.678 1822.41 139.057 Q1825.46 142.414 1825.46 148.201 M1821.2 146.951 Q1821.16 143.456 1819.24 141.372 Q1817.34 139.289 1814.19 139.289 Q1810.62 139.289 1808.47 141.303 Q1806.34 143.317 1806.02 146.974 L1821.2 146.951 Z\" fill=\"#000000\" fill-rule=\"nonzero\" fill-opacity=\"1\" /><path clip-path=\"url(#clip220)\" d=\"M1848.98 137.067 L1848.98 141.094 Q1847.18 140.169 1845.23 139.706 Q1843.29 139.243 1841.2 139.243 Q1838.03 139.243 1836.43 140.215 Q1834.86 141.187 1834.86 143.131 Q1834.86 144.613 1835.99 145.469 Q1837.13 146.303 1840.56 147.067 L1842.01 147.391 Q1846.55 148.363 1848.45 150.145 Q1850.37 151.905 1850.37 155.076 Q1850.37 158.687 1847.5 160.793 Q1844.65 162.9 1839.65 162.9 Q1837.57 162.9 1835.3 162.483 Q1833.06 162.09 1830.56 161.28 L1830.56 156.881 Q1832.92 158.108 1835.21 158.733 Q1837.5 159.335 1839.74 159.335 Q1842.75 159.335 1844.37 158.317 Q1845.99 157.275 1845.99 155.4 Q1845.99 153.664 1844.81 152.738 Q1843.66 151.812 1839.7 150.956 L1838.22 150.608 Q1834.26 149.775 1832.5 148.062 Q1830.74 146.326 1830.74 143.317 Q1830.74 139.659 1833.33 137.669 Q1835.93 135.678 1840.69 135.678 Q1843.06 135.678 1845.14 136.025 Q1847.22 136.372 1848.98 137.067 Z\" fill=\"#000000\" fill-rule=\"nonzero\" fill-opacity=\"1\" /><path clip-path=\"url(#clip220)\" d=\"M1861.37 128.942 L1861.37 136.303 L1870.14 136.303 L1870.14 139.613 L1861.37 139.613 L1861.37 153.687 Q1861.37 156.858 1862.22 157.761 Q1863.1 158.664 1865.76 158.664 L1870.14 158.664 L1870.14 162.229 L1865.76 162.229 Q1860.83 162.229 1858.96 160.4 Q1857.08 158.548 1857.08 153.687 L1857.08 139.613 L1853.96 139.613 L1853.96 136.303 L1857.08 136.303 L1857.08 128.942 L1861.37 128.942 Z\" fill=\"#000000\" fill-rule=\"nonzero\" fill-opacity=\"1\" /><path clip-path=\"url(#clip220)\" d=\"M1901.04 126.257 Q1897.94 131.581 1896.43 136.789 Q1894.93 141.997 1894.93 147.344 Q1894.93 152.692 1896.43 157.946 Q1897.96 163.178 1901.04 168.479 L1897.34 168.479 Q1893.87 163.039 1892.13 157.784 Q1890.42 152.53 1890.42 147.344 Q1890.42 142.182 1892.13 136.951 Q1893.84 131.72 1897.34 126.257 L1901.04 126.257 Z\" fill=\"#000000\" fill-rule=\"nonzero\" fill-opacity=\"1\" /><path clip-path=\"url(#clip220)\" d=\"M1921.04 132.275 L1914.7 149.474 L1927.41 149.474 L1921.04 132.275 M1918.4 127.669 L1923.7 127.669 L1936.87 162.229 L1932.01 162.229 L1928.86 153.363 L1913.29 153.363 L1910.14 162.229 L1905.21 162.229 L1918.4 127.669 Z\" fill=\"#000000\" fill-rule=\"nonzero\" fill-opacity=\"1\" /><path clip-path=\"url(#clip220)\" d=\"M1941.39 127.669 L1946.09 127.669 L1946.09 148.664 Q1946.09 154.219 1948.1 156.673 Q1950.11 159.104 1954.63 159.104 Q1959.12 159.104 1961.13 156.673 Q1963.15 154.219 1963.15 148.664 L1963.15 127.669 L1967.85 127.669 L1967.85 149.243 Q1967.85 156.002 1964.49 159.451 Q1961.16 162.9 1954.63 162.9 Q1948.08 162.9 1944.72 159.451 Q1941.39 156.002 1941.39 149.243 L1941.39 127.669 Z\" fill=\"#000000\" fill-rule=\"nonzero\" fill-opacity=\"1\" /><path clip-path=\"url(#clip220)\" d=\"M2002.5 130.331 L2002.5 135.261 Q2000.14 133.062 1997.45 131.974 Q1994.79 130.886 1991.78 130.886 Q1985.86 130.886 1982.71 134.52 Q1979.56 138.132 1979.56 144.983 Q1979.56 151.812 1982.71 155.446 Q1985.86 159.057 1991.78 159.057 Q1994.79 159.057 1997.45 157.969 Q2000.14 156.881 2002.5 154.682 L2002.5 159.567 Q2000.05 161.233 1997.29 162.067 Q1994.56 162.9 1991.5 162.9 Q1983.66 162.9 1979.14 158.108 Q1974.63 153.293 1974.63 144.983 Q1974.63 136.65 1979.14 131.858 Q1983.66 127.044 1991.5 127.044 Q1994.61 127.044 1997.34 127.877 Q2000.09 128.687 2002.5 130.331 Z\" fill=\"#000000\" fill-rule=\"nonzero\" fill-opacity=\"1\" /><path clip-path=\"url(#clip220)\" d=\"M2010.09 140.701 L2039.77 140.701 L2039.77 144.59 L2010.09 144.59 L2010.09 140.701 M2010.09 150.145 L2039.77 150.145 L2039.77 154.081 L2010.09 154.081 L2010.09 150.145 Z\" fill=\"#000000\" fill-rule=\"nonzero\" fill-opacity=\"1\" /><path clip-path=\"url(#clip220)\" d=\"M2050.67 158.293 L2058.31 158.293 L2058.31 131.928 L2050 133.595 L2050 129.335 L2058.26 127.669 L2062.94 127.669 L2062.94 158.293 L2070.58 158.293 L2070.58 162.229 L2050.67 162.229 L2050.67 158.293 Z\" fill=\"#000000\" fill-rule=\"nonzero\" fill-opacity=\"1\" /><path clip-path=\"url(#clip220)\" d=\"M2094.19 143.594 Q2097.54 144.312 2099.42 146.581 Q2101.32 148.849 2101.32 152.182 Q2101.32 157.298 2097.8 160.099 Q2094.28 162.9 2087.8 162.9 Q2085.62 162.9 2083.31 162.46 Q2081.02 162.043 2078.56 161.187 L2078.56 156.673 Q2080.51 157.807 2082.82 158.386 Q2085.14 158.965 2087.66 158.965 Q2092.06 158.965 2094.35 157.229 Q2096.66 155.493 2096.66 152.182 Q2096.66 149.127 2094.51 147.414 Q2092.38 145.678 2088.56 145.678 L2084.54 145.678 L2084.54 141.835 L2088.75 141.835 Q2092.2 141.835 2094.03 140.469 Q2095.85 139.081 2095.85 136.488 Q2095.85 133.826 2093.96 132.414 Q2092.08 130.979 2088.56 130.979 Q2086.64 130.979 2084.44 131.395 Q2082.24 131.812 2079.6 132.692 L2079.6 128.525 Q2082.27 127.784 2084.58 127.414 Q2086.92 127.044 2088.98 127.044 Q2094.3 127.044 2097.41 129.474 Q2100.51 131.882 2100.51 136.002 Q2100.51 138.872 2098.86 140.863 Q2097.22 142.831 2094.19 143.594 Z\" fill=\"#000000\" fill-rule=\"nonzero\" fill-opacity=\"1\" /><path clip-path=\"url(#clip220)\" d=\"M2110.18 156.349 L2115.07 156.349 L2115.07 162.229 L2110.18 162.229 L2110.18 156.349 Z\" fill=\"#000000\" fill-rule=\"nonzero\" fill-opacity=\"1\" /><path clip-path=\"url(#clip220)\" d=\"M2125.3 127.669 L2143.66 127.669 L2143.66 131.604 L2129.58 131.604 L2129.58 140.076 Q2130.6 139.729 2131.62 139.567 Q2132.64 139.382 2133.66 139.382 Q2139.44 139.382 2142.82 142.553 Q2146.2 145.724 2146.2 151.141 Q2146.2 156.719 2142.73 159.821 Q2139.26 162.9 2132.94 162.9 Q2130.76 162.9 2128.49 162.53 Q2126.25 162.159 2123.84 161.418 L2123.84 156.719 Q2125.92 157.854 2128.15 158.409 Q2130.37 158.965 2132.85 158.965 Q2136.85 158.965 2139.19 156.858 Q2141.53 154.752 2141.53 151.141 Q2141.53 147.53 2139.19 145.423 Q2136.85 143.317 2132.85 143.317 Q2130.97 143.317 2129.1 143.733 Q2127.24 144.15 2125.3 145.03 L2125.3 127.669 Z\" fill=\"#000000\" fill-rule=\"nonzero\" fill-opacity=\"1\" /><path clip-path=\"url(#clip220)\" d=\"M2168.26 131.743 L2156.46 150.192 L2168.26 150.192 L2168.26 131.743 M2167.03 127.669 L2172.91 127.669 L2172.91 150.192 L2177.84 150.192 L2177.84 154.081 L2172.91 154.081 L2172.91 162.229 L2168.26 162.229 L2168.26 154.081 L2152.66 154.081 L2152.66 149.567 L2167.03 127.669 Z\" fill=\"#000000\" fill-rule=\"nonzero\" fill-opacity=\"1\" /><path clip-path=\"url(#clip220)\" d=\"M2214.97 147.02 Q2212.96 147.02 2211.8 148.733 Q2210.67 150.446 2210.67 153.502 Q2210.67 156.511 2211.8 158.247 Q2212.96 159.96 2214.97 159.96 Q2216.94 159.96 2218.08 158.247 Q2219.23 156.511 2219.23 153.502 Q2219.23 150.469 2218.08 148.756 Q2216.94 147.02 2214.97 147.02 M2214.97 144.081 Q2218.63 144.081 2220.78 146.627 Q2222.94 149.173 2222.94 153.502 Q2222.94 157.83 2220.76 160.377 Q2218.61 162.9 2214.97 162.9 Q2211.27 162.9 2209.12 160.377 Q2206.97 157.83 2206.97 153.502 Q2206.97 149.15 2209.12 146.627 Q2211.29 144.081 2214.97 144.081 M2191.09 129.983 Q2189.09 129.983 2187.94 131.72 Q2186.8 133.432 2186.8 136.442 Q2186.8 139.497 2187.94 141.21 Q2189.07 142.923 2191.09 142.923 Q2193.1 142.923 2194.23 141.21 Q2195.39 139.497 2195.39 136.442 Q2195.39 133.456 2194.23 131.72 Q2193.08 129.983 2191.09 129.983 M2211.99 127.044 L2215.69 127.044 L2194.07 162.9 L2190.37 162.9 L2211.99 127.044 M2191.09 127.044 Q2194.74 127.044 2196.92 129.59 Q2199.09 132.113 2199.09 136.442 Q2199.09 140.817 2196.92 143.34 Q2194.77 145.863 2191.09 145.863 Q2187.41 145.863 2185.25 143.34 Q2183.12 140.794 2183.12 136.442 Q2183.12 132.136 2185.28 129.59 Q2187.43 127.044 2191.09 127.044 Z\" fill=\"#000000\" fill-rule=\"nonzero\" fill-opacity=\"1\" /><path clip-path=\"url(#clip220)\" d=\"M2229.35 126.257 L2233.05 126.257 Q2236.53 131.72 2238.24 136.951 Q2239.97 142.182 2239.97 147.344 Q2239.97 152.53 2238.24 157.784 Q2236.53 163.039 2233.05 168.479 L2229.35 168.479 Q2232.43 163.178 2233.93 157.946 Q2235.46 152.692 2235.46 147.344 Q2235.46 141.997 2233.93 136.789 Q2232.43 131.581 2229.35 126.257 Z\" fill=\"#000000\" fill-rule=\"nonzero\" fill-opacity=\"1\" /><polyline clip-path=\"url(#clip220)\" style=\"stroke:#ffd700; stroke-linecap:round; stroke-linejoin:round; stroke-width:12; stroke-opacity:1; fill:none\" points=\"1617.92,196.789 1758.14,196.789 \"/>\n",
       "<path clip-path=\"url(#clip220)\" d=\"M1788.91 180.782 L1788.91 188.143 L1797.68 188.143 L1797.68 191.453 L1788.91 191.453 L1788.91 205.527 Q1788.91 208.698 1789.77 209.601 Q1790.65 210.504 1793.31 210.504 L1797.68 210.504 L1797.68 214.069 L1793.31 214.069 Q1788.38 214.069 1786.5 212.24 Q1784.63 210.388 1784.63 205.527 L1784.63 191.453 L1781.5 191.453 L1781.5 188.143 L1784.63 188.143 L1784.63 180.782 L1788.91 180.782 Z\" fill=\"#000000\" fill-rule=\"nonzero\" fill-opacity=\"1\" /><path clip-path=\"url(#clip220)\" d=\"M1818.31 192.124 Q1817.59 191.708 1816.74 191.522 Q1815.9 191.314 1814.88 191.314 Q1811.27 191.314 1809.33 193.675 Q1807.41 196.013 1807.41 200.411 L1807.41 214.069 L1803.12 214.069 L1803.12 188.143 L1807.41 188.143 L1807.41 192.171 Q1808.75 189.809 1810.9 188.675 Q1813.06 187.518 1816.13 187.518 Q1816.57 187.518 1817.11 187.587 Q1817.64 187.634 1818.29 187.749 L1818.31 192.124 Z\" fill=\"#000000\" fill-rule=\"nonzero\" fill-opacity=\"1\" /><path clip-path=\"url(#clip220)\" d=\"M1834.56 201.036 Q1829.4 201.036 1827.41 202.217 Q1825.42 203.397 1825.42 206.245 Q1825.42 208.513 1826.9 209.856 Q1828.4 211.175 1830.97 211.175 Q1834.51 211.175 1836.64 208.675 Q1838.8 206.152 1838.8 201.985 L1838.8 201.036 L1834.56 201.036 M1843.06 199.277 L1843.06 214.069 L1838.8 214.069 L1838.8 210.133 Q1837.34 212.495 1835.16 213.629 Q1832.99 214.74 1829.84 214.74 Q1825.86 214.74 1823.5 212.518 Q1821.16 210.272 1821.16 206.522 Q1821.16 202.147 1824.07 199.925 Q1827.01 197.703 1832.82 197.703 L1838.8 197.703 L1838.8 197.286 Q1838.8 194.347 1836.85 192.749 Q1834.93 191.129 1831.43 191.129 Q1829.21 191.129 1827.11 191.661 Q1825 192.194 1823.06 193.259 L1823.06 189.323 Q1825.39 188.421 1827.59 187.981 Q1829.79 187.518 1831.87 187.518 Q1837.5 187.518 1840.28 190.434 Q1843.06 193.351 1843.06 199.277 Z\" fill=\"#000000\" fill-rule=\"nonzero\" fill-opacity=\"1\" /><path clip-path=\"url(#clip220)\" d=\"M1851.83 188.143 L1856.09 188.143 L1856.09 214.069 L1851.83 214.069 L1851.83 188.143 M1851.83 178.05 L1856.09 178.05 L1856.09 183.444 L1851.83 183.444 L1851.83 178.05 Z\" fill=\"#000000\" fill-rule=\"nonzero\" fill-opacity=\"1\" /><path clip-path=\"url(#clip220)\" d=\"M1886.55 198.421 L1886.55 214.069 L1882.29 214.069 L1882.29 198.559 Q1882.29 194.879 1880.86 193.05 Q1879.42 191.222 1876.55 191.222 Q1873.1 191.222 1871.11 193.421 Q1869.12 195.62 1869.12 199.416 L1869.12 214.069 L1864.84 214.069 L1864.84 188.143 L1869.12 188.143 L1869.12 192.171 Q1870.65 189.833 1872.71 188.675 Q1874.79 187.518 1877.5 187.518 Q1881.97 187.518 1884.26 190.296 Q1886.55 193.05 1886.55 198.421 Z\" fill=\"#000000\" fill-rule=\"nonzero\" fill-opacity=\"1\" /><path clip-path=\"url(#clip220)\" d=\"M1920.35 178.097 Q1917.24 183.421 1915.74 188.629 Q1914.24 193.837 1914.24 199.184 Q1914.24 204.532 1915.74 209.786 Q1917.27 215.018 1920.35 220.319 L1916.64 220.319 Q1913.17 214.879 1911.43 209.624 Q1909.72 204.37 1909.72 199.184 Q1909.72 194.022 1911.43 188.791 Q1913.15 183.56 1916.64 178.097 L1920.35 178.097 Z\" fill=\"#000000\" fill-rule=\"nonzero\" fill-opacity=\"1\" /><path clip-path=\"url(#clip220)\" d=\"M1940.35 184.115 L1934 201.314 L1946.71 201.314 L1940.35 184.115 M1937.71 179.509 L1943.01 179.509 L1956.18 214.069 L1951.32 214.069 L1948.17 205.203 L1932.59 205.203 L1929.44 214.069 L1924.51 214.069 L1937.71 179.509 Z\" fill=\"#000000\" fill-rule=\"nonzero\" fill-opacity=\"1\" /><path clip-path=\"url(#clip220)\" d=\"M1960.69 179.509 L1965.39 179.509 L1965.39 200.504 Q1965.39 206.059 1967.41 208.513 Q1969.42 210.944 1973.93 210.944 Q1978.42 210.944 1980.44 208.513 Q1982.45 206.059 1982.45 200.504 L1982.45 179.509 L1987.15 179.509 L1987.15 201.083 Q1987.15 207.842 1983.8 211.291 Q1980.46 214.74 1973.93 214.74 Q1967.38 214.74 1964.03 211.291 Q1960.69 207.842 1960.69 201.083 L1960.69 179.509 Z\" fill=\"#000000\" fill-rule=\"nonzero\" fill-opacity=\"1\" /><path clip-path=\"url(#clip220)\" d=\"M2021.8 182.171 L2021.8 187.101 Q2019.44 184.902 2016.76 183.814 Q2014.1 182.726 2011.09 182.726 Q2005.16 182.726 2002.01 186.36 Q1998.86 189.972 1998.86 196.823 Q1998.86 203.652 2002.01 207.286 Q2005.16 210.897 2011.09 210.897 Q2014.1 210.897 2016.76 209.809 Q2019.44 208.721 2021.8 206.522 L2021.8 211.407 Q2019.35 213.073 2016.6 213.907 Q2013.86 214.74 2010.81 214.74 Q2002.96 214.74 1998.45 209.948 Q1993.93 205.133 1993.93 196.823 Q1993.93 188.49 1998.45 183.698 Q2002.96 178.884 2010.81 178.884 Q2013.91 178.884 2016.64 179.717 Q2019.4 180.527 2021.8 182.171 Z\" fill=\"#000000\" fill-rule=\"nonzero\" fill-opacity=\"1\" /><path clip-path=\"url(#clip220)\" d=\"M2029.4 192.541 L2059.07 192.541 L2059.07 196.43 L2029.4 196.43 L2029.4 192.541 M2029.4 201.985 L2059.07 201.985 L2059.07 205.921 L2029.4 205.921 L2029.4 201.985 Z\" fill=\"#000000\" fill-rule=\"nonzero\" fill-opacity=\"1\" /><path clip-path=\"url(#clip220)\" d=\"M2069.98 210.133 L2077.61 210.133 L2077.61 183.768 L2069.3 185.435 L2069.3 181.175 L2077.57 179.509 L2082.24 179.509 L2082.24 210.133 L2089.88 210.133 L2089.88 214.069 L2069.98 214.069 L2069.98 210.133 Z\" fill=\"#000000\" fill-rule=\"nonzero\" fill-opacity=\"1\" /><path clip-path=\"url(#clip220)\" d=\"M2112.17 183.583 L2100.37 202.032 L2112.17 202.032 L2112.17 183.583 M2110.95 179.509 L2116.83 179.509 L2116.83 202.032 L2121.76 202.032 L2121.76 205.921 L2116.83 205.921 L2116.83 214.069 L2112.17 214.069 L2112.17 205.921 L2096.57 205.921 L2096.57 201.407 L2110.95 179.509 Z\" fill=\"#000000\" fill-rule=\"nonzero\" fill-opacity=\"1\" /><path clip-path=\"url(#clip220)\" d=\"M2129.49 208.189 L2134.37 208.189 L2134.37 214.069 L2129.49 214.069 L2129.49 208.189 Z\" fill=\"#000000\" fill-rule=\"nonzero\" fill-opacity=\"1\" /><path clip-path=\"url(#clip220)\" d=\"M2144.7 213.351 L2144.7 209.092 Q2146.46 209.925 2148.26 210.365 Q2150.07 210.805 2151.8 210.805 Q2156.43 210.805 2158.86 207.703 Q2161.32 204.578 2161.66 198.235 Q2160.32 200.226 2158.26 201.291 Q2156.2 202.356 2153.7 202.356 Q2148.52 202.356 2145.48 199.231 Q2142.47 196.083 2142.47 190.643 Q2142.47 185.319 2145.62 182.101 Q2148.77 178.884 2154 178.884 Q2160 178.884 2163.15 183.49 Q2166.32 188.073 2166.32 196.823 Q2166.32 204.995 2162.43 209.879 Q2158.56 214.74 2152.01 214.74 Q2150.25 214.74 2148.45 214.393 Q2146.64 214.045 2144.7 213.351 M2154 198.698 Q2157.15 198.698 2158.98 196.546 Q2160.83 194.393 2160.83 190.643 Q2160.83 186.916 2158.98 184.763 Q2157.15 182.587 2154 182.587 Q2150.85 182.587 2149 184.763 Q2147.17 186.916 2147.17 190.643 Q2147.17 194.393 2149 196.546 Q2150.85 198.698 2154 198.698 Z\" fill=\"#000000\" fill-rule=\"nonzero\" fill-opacity=\"1\" /><path clip-path=\"url(#clip220)\" d=\"M2175.53 210.133 L2183.17 210.133 L2183.17 183.768 L2174.86 185.435 L2174.86 181.175 L2183.12 179.509 L2187.8 179.509 L2187.8 210.133 L2195.44 210.133 L2195.44 214.069 L2175.53 214.069 L2175.53 210.133 Z\" fill=\"#000000\" fill-rule=\"nonzero\" fill-opacity=\"1\" /><path clip-path=\"url(#clip220)\" d=\"M2234.28 198.86 Q2232.27 198.86 2231.11 200.573 Q2229.97 202.286 2229.97 205.342 Q2229.97 208.351 2231.11 210.087 Q2232.27 211.8 2234.28 211.8 Q2236.25 211.8 2237.38 210.087 Q2238.54 208.351 2238.54 205.342 Q2238.54 202.309 2237.38 200.596 Q2236.25 198.86 2234.28 198.86 M2234.28 195.921 Q2237.94 195.921 2240.09 198.467 Q2242.24 201.013 2242.24 205.342 Q2242.24 209.67 2240.07 212.217 Q2237.91 214.74 2234.28 214.74 Q2230.58 214.74 2228.42 212.217 Q2226.27 209.67 2226.27 205.342 Q2226.27 200.99 2228.42 198.467 Q2230.6 195.921 2234.28 195.921 M2210.39 181.823 Q2208.4 181.823 2207.24 183.56 Q2206.11 185.272 2206.11 188.282 Q2206.11 191.337 2207.24 193.05 Q2208.38 194.763 2210.39 194.763 Q2212.4 194.763 2213.54 193.05 Q2214.7 191.337 2214.7 188.282 Q2214.7 185.296 2213.54 183.56 Q2212.38 181.823 2210.39 181.823 M2231.29 178.884 L2235 178.884 L2213.38 214.74 L2209.67 214.74 L2231.29 178.884 M2210.39 178.884 Q2214.05 178.884 2216.22 181.43 Q2218.4 183.953 2218.4 188.282 Q2218.4 192.657 2216.22 195.18 Q2214.07 197.703 2210.39 197.703 Q2206.71 197.703 2204.56 195.18 Q2202.43 192.634 2202.43 188.282 Q2202.43 183.976 2204.58 181.43 Q2206.73 178.884 2210.39 178.884 Z\" fill=\"#000000\" fill-rule=\"nonzero\" fill-opacity=\"1\" /><path clip-path=\"url(#clip220)\" d=\"M2248.65 178.097 L2252.36 178.097 Q2255.83 183.56 2257.54 188.791 Q2259.28 194.022 2259.28 199.184 Q2259.28 204.37 2257.54 209.624 Q2255.83 214.879 2252.36 220.319 L2248.65 220.319 Q2251.73 215.018 2253.24 209.786 Q2254.77 204.532 2254.77 199.184 Q2254.77 193.837 2253.24 188.629 Q2251.73 183.421 2248.65 178.097 Z\" fill=\"#000000\" fill-rule=\"nonzero\" fill-opacity=\"1\" /></svg>\n"
      ]
     },
     "execution_count": 65,
     "metadata": {},
     "output_type": "execute_result"
    }
   ],
   "source": [
    "plot!(train_roc.pfa, train_roc.pmiss;\n",
    "    color=\"gold\", lw=3,\n",
    "    label=\"train (AUC=$(round(100*auc(train_roc), digits=2))%)\")"
   ]
  }
 ],
 "metadata": {
  "kernelspec": {
   "display_name": "Julia 1.10.0",
   "language": "julia",
   "name": "julia-1.10"
  },
  "language_info": {
   "file_extension": ".jl",
   "mimetype": "application/julia",
   "name": "julia",
   "version": "1.10.0"
  }
 },
 "nbformat": 4,
 "nbformat_minor": 5
}
