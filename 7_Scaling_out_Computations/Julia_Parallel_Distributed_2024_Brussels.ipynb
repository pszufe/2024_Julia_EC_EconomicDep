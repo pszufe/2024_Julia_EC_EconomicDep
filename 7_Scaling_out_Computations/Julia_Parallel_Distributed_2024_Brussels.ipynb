{
 "cells": [
  {
   "cell_type": "markdown",
   "id": "e4e18dfa",
   "metadata": {},
   "source": [
    "# Scaling out numerical computing in Julia\n",
    "Przemysław Szufel\n",
    "\n",
    "\n",
    "\n",
    "\n",
    "<a class=\"anchor\" id=\"toc\"></a>\n",
    "## Table of content\n",
    "\n",
    "    \n",
    "1. [Parallelize via Single Instruction Multiple Data (SIMD)](#simd)\n",
    "2. [Green threading](#green)\n",
    "3. [Multithreading](#multithreading)\n",
    "4. [Multi-processing and distributed computing](#multiprocessing)"
   ]
  },
  {
   "cell_type": "markdown",
   "id": "73dedff3-ed99-4fc7-9c08-f707e54c284c",
   "metadata": {},
   "source": [
    "Before running Jupyter notebook set in Julia number of threads.\n",
    "This should be done *before* actually running the `notebook()` command.\n",
    "The number of threads can be also set up in Julia options in Visual Studio code (if this is used to run this notebook).\n",
    "```\n",
    "# run this code from Julia console just before starting Jupyter Notebook\n",
    "ENV[\"JULIA_NUM_THREADS\"]=4\n",
    "```"
   ]
  },
  {
   "cell_type": "code",
   "execution_count": 26,
   "id": "68b0836a",
   "metadata": {},
   "outputs": [
    {
     "name": "stdout",
     "output_type": "stream",
     "text": [
      "Number of threads that your Julia is run: ## 4\n"
     ]
    }
   ],
   "source": [
    "println(\"Number of threads that your Julia is run: ## $(Threads.nthreads())\")"
   ]
  },
  {
   "cell_type": "code",
   "execution_count": 27,
   "id": "4aa1aaf0",
   "metadata": {},
   "outputs": [],
   "source": [
    "using BenchmarkTools, Distributed"
   ]
  },
  {
   "cell_type": "markdown",
   "id": "02a83007",
   "metadata": {},
   "source": [
    "<a class=\"anchor\" id=\"simd\"></a>\n",
    "### Parallelize via Single Instruction Multiple Data (SIMD)\n",
    "---- [Return to table of contents](#toc) ---\n",
    "\n"
   ]
  },
  {
   "cell_type": "code",
   "execution_count": 28,
   "id": "a6acee57",
   "metadata": {},
   "outputs": [
    {
     "data": {
      "text/plain": [
       "dot1 (generic function with 1 method)"
      ]
     },
     "execution_count": 28,
     "metadata": {},
     "output_type": "execute_result"
    }
   ],
   "source": [
    "function dot1(x, y)\n",
    "    s = 0.0\n",
    "    for i in 1:length(x)\n",
    "        @inbounds s += x[i]*y[i]\n",
    "    end\n",
    "    s\n",
    "end"
   ]
  },
  {
   "cell_type": "code",
   "execution_count": 29,
   "id": "869b35dc",
   "metadata": {},
   "outputs": [
    {
     "data": {
      "text/plain": [
       "dot2 (generic function with 1 method)"
      ]
     },
     "execution_count": 29,
     "metadata": {},
     "output_type": "execute_result"
    }
   ],
   "source": [
    "function dot2(x, y)\n",
    "    s = 0.0\n",
    "    @simd for i in 1:length(x)\n",
    "        @inbounds s += x[i]*y[i]\n",
    "    end\n",
    "    s\n",
    "end"
   ]
  },
  {
   "cell_type": "code",
   "execution_count": 30,
   "id": "693abf6e",
   "metadata": {},
   "outputs": [
    {
     "name": "stdout",
     "output_type": "stream",
     "text": [
      "  4.000 μs (0 allocations: 0 bytes)\n",
      "  763.063 ns (0 allocations: 0 bytes)\n"
     ]
    },
    {
     "data": {
      "text/plain": [
       "2.4943127090471864e7"
      ]
     },
     "execution_count": 30,
     "metadata": {},
     "output_type": "execute_result"
    }
   ],
   "source": [
    "x = 100*rand(10000)\n",
    "y = 100*rand(10000);\n",
    "\n",
    "@btime dot1($x, $y)\n",
    "@btime dot2($x, $y)"
   ]
  },
  {
   "cell_type": "code",
   "execution_count": 31,
   "id": "fceca0fa",
   "metadata": {},
   "outputs": [
    {
     "data": {
      "text/plain": [
       "2.4943127090471815e7"
      ]
     },
     "execution_count": 31,
     "metadata": {},
     "output_type": "execute_result"
    }
   ],
   "source": [
    "res1 =  dot1(x, y)"
   ]
  },
  {
   "cell_type": "code",
   "execution_count": 32,
   "id": "5dc2f9c3",
   "metadata": {
    "scrolled": true
   },
   "outputs": [
    {
     "data": {
      "text/plain": [
       "2.4943127090471864e7"
      ]
     },
     "execution_count": 32,
     "metadata": {},
     "output_type": "execute_result"
    }
   ],
   "source": [
    "res2 =  dot2(x, y)"
   ]
  },
  {
   "cell_type": "code",
   "execution_count": 33,
   "id": "c05b2210",
   "metadata": {},
   "outputs": [
    {
     "data": {
      "text/plain": [
       "false"
      ]
     },
     "execution_count": 33,
     "metadata": {},
     "output_type": "execute_result"
    }
   ],
   "source": [
    "res1 == res2"
   ]
  },
  {
   "cell_type": "code",
   "execution_count": 34,
   "id": "290606ff",
   "metadata": {},
   "outputs": [
    {
     "name": "stdout",
     "output_type": "stream",
     "text": [
      "res1 = 2.4943127090471815e7\n",
      "res2 = 2.4943127090471864e7\n"
     ]
    },
    {
     "data": {
      "text/plain": [
       "2.4943127090471864e7"
      ]
     },
     "execution_count": 34,
     "metadata": {},
     "output_type": "execute_result"
    }
   ],
   "source": [
    "@show res1 \n",
    "@show res2"
   ]
  },
  {
   "cell_type": "markdown",
   "id": "b939e997",
   "metadata": {},
   "source": [
    "<a class=\"anchor\" id=\"green\"></a>\n",
    "### Green threading \n",
    "---- [Return to table of contents](#toc) ---\n"
   ]
  },
  {
   "cell_type": "code",
   "execution_count": 35,
   "id": "f7da7625",
   "metadata": {},
   "outputs": [
    {
     "name": "stdout",
     "output_type": "stream",
     "text": [
      "  2.015877 seconds (43 allocations: 1024 bytes)\n"
     ]
    }
   ],
   "source": [
    "@time sleep(2)"
   ]
  },
  {
   "cell_type": "code",
   "execution_count": 36,
   "id": "fe3275b2",
   "metadata": {
    "scrolled": true
   },
   "outputs": [
    {
     "name": "stdout",
     "output_type": "stream",
     "text": [
      "  0.013347 seconds (2.80 k allocations: 201.922 KiB, 99.11% compilation time)\n"
     ]
    },
    {
     "data": {
      "text/plain": [
       "Task (runnable) @0x0000029eabec9940"
      ]
     },
     "execution_count": 36,
     "metadata": {},
     "output_type": "execute_result"
    }
   ],
   "source": [
    "@time t = @async sleep(4)"
   ]
  },
  {
   "cell_type": "code",
   "execution_count": 37,
   "id": "011d996d",
   "metadata": {},
   "outputs": [
    {
     "data": {
      "text/plain": [
       "Task (runnable) @0x0000029eabec9940"
      ]
     },
     "execution_count": 37,
     "metadata": {},
     "output_type": "execute_result"
    }
   ],
   "source": [
    "t"
   ]
  },
  {
   "cell_type": "code",
   "execution_count": 38,
   "id": "572b606b",
   "metadata": {},
   "outputs": [
    {
     "data": {
      "text/plain": [
       "dojob (generic function with 1 method)"
      ]
     },
     "execution_count": 38,
     "metadata": {},
     "output_type": "execute_result"
    }
   ],
   "source": [
    "function dojob(i)\n",
    "    val = round(rand(), digits=2)\n",
    "    sleep(val)   # this could be external computations with I/O\n",
    "    i, val\n",
    "end"
   ]
  },
  {
   "cell_type": "code",
   "execution_count": 39,
   "id": "6c96c8d7",
   "metadata": {},
   "outputs": [
    {
     "data": {
      "text/plain": [
       "8-element Vector{Tuple{Int64, Float64}}:\n",
       " (1, 1.0e-323)\n",
       " (3, 2.0e-323)\n",
       " (5, 3.0e-323)\n",
       " (7, 4.0e-323)\n",
       " (9, 5.0e-323)\n",
       " (11, 8.4e-323)\n",
       " (18, 9.4e-323)\n",
       " (20, 1.04e-322)"
      ]
     },
     "execution_count": 39,
     "metadata": {},
     "output_type": "execute_result"
    }
   ],
   "source": [
    "result = Vector{Tuple{Int,Float64}}(undef, 8)"
   ]
  },
  {
   "cell_type": "code",
   "execution_count": 40,
   "id": "e127dc06",
   "metadata": {},
   "outputs": [
    {
     "name": "stdout",
     "output_type": "stream",
     "text": [
      "  1.985352 seconds (622 allocations: 40.812 KiB, 0.52% compilation time)\n"
     ]
    },
    {
     "data": {
      "text/plain": [
       "8-element Vector{Tuple{Int64, Float64}}:\n",
       " (1, 0.59)\n",
       " (2, 0.32)\n",
       " (3, 0.06)\n",
       " (4, 0.03)\n",
       " (5, 0.18)\n",
       " (6, 0.03)\n",
       " (7, 0.0)\n",
       " (8, 0.73)"
      ]
     },
     "execution_count": 40,
     "metadata": {},
     "output_type": "execute_result"
    }
   ],
   "source": [
    "@time for i=1:8\n",
    "    result[i] = dojob(i)\n",
    "end\n",
    "result"
   ]
  },
  {
   "cell_type": "code",
   "execution_count": 41,
   "id": "3bf5cf64",
   "metadata": {
    "scrolled": true
   },
   "outputs": [
    {
     "name": "stdout",
     "output_type": "stream",
     "text": [
      "  0.000098 seconds (81 allocations: 7.055 KiB)\n"
     ]
    },
    {
     "data": {
      "text/plain": [
       "8-element Vector{Tuple{Int64, Float64}}:\n",
       " (140704098874896, 6.95170614788753e-310)\n",
       " (140704098866272, 6.95170614788437e-310)\n",
       " (140704098874896, 1.424167516463e-311)\n",
       " (2882547144272, 1.4241675165105e-311)\n",
       " (2882547144400, 1.4241675165737e-311)\n",
       " (140704098866272, 1.424167249557e-311)\n",
       " (140704098874896, 6.95170614788753e-310)\n",
       " (2882538132032, 6.9517061483136e-310)"
      ]
     },
     "execution_count": 41,
     "metadata": {},
     "output_type": "execute_result"
    }
   ],
   "source": [
    "result = Vector{Tuple{Int,Float64}}(undef, 8);\n",
    "@time for i=1:8\n",
    "   @async result[i] = dojob(i)\n",
    "end\n",
    "result"
   ]
  },
  {
   "cell_type": "code",
   "execution_count": 42,
   "id": "280228a5-684e-4784-95a3-63dd7488e3f9",
   "metadata": {},
   "outputs": [
    {
     "data": {
      "text/plain": [
       "8-element Vector{Tuple{Int64, Float64}}:\n",
       " (140704098874896, 6.95170614788753e-310)\n",
       " (140704098866272, 6.95170614788437e-310)\n",
       " (140704098874896, 1.424167516463e-311)\n",
       " (2882547144272, 1.4241675165105e-311)\n",
       " (2882547144400, 1.4241675165737e-311)\n",
       " (140704098866272, 1.424167249557e-311)\n",
       " (140704098874896, 6.95170614788753e-310)\n",
       " (2882538132032, 6.9517061483136e-310)"
      ]
     },
     "execution_count": 42,
     "metadata": {},
     "output_type": "execute_result"
    }
   ],
   "source": [
    "result\n"
   ]
  },
  {
   "cell_type": "code",
   "execution_count": 43,
   "id": "6bc95ae6",
   "metadata": {},
   "outputs": [
    {
     "name": "stdout",
     "output_type": "stream",
     "text": [
      "  0.822314 seconds (1.51 k allocations: 82.570 KiB, 3.52% compilation time)\n"
     ]
    },
    {
     "data": {
      "text/plain": [
       "8-element Vector{Tuple{Int64, Float64}}:\n",
       " (1, 0.14)\n",
       " (2, 0.08)\n",
       " (3, 0.8)\n",
       " (4, 0.82)\n",
       " (5, 0.56)\n",
       " (6, 0.72)\n",
       " (7, 0.79)\n",
       " (8, 0.63)"
      ]
     },
     "execution_count": 43,
     "metadata": {},
     "output_type": "execute_result"
    }
   ],
   "source": [
    "result = Vector{Tuple{Int,Float64}}(undef, 8);\n",
    "@time @sync for i=1:8\n",
    "   @async result[i] = dojob(i)\n",
    "end\n",
    "result"
   ]
  },
  {
   "cell_type": "markdown",
   "id": "b57767fa",
   "metadata": {},
   "source": [
    "#### Programming a simple web server\n",
    "You should be able to connect using the address <a href=\"http://localhost:9992/3+4\" target=\"about:blank\">http://localhost:9992/3+4</a>\n",
    "\n",
    "To stop web server click <a href=\"http://localhost:9992/stopme\" target=\"about:blank\">http://localhost:9992/stopme</a>"
   ]
  },
  {
   "cell_type": "code",
   "execution_count": 44,
   "id": "c6641220",
   "metadata": {},
   "outputs": [
    {
     "name": "stdout",
     "output_type": "stream",
     "text": [
      "Starting the web server...\n"
     ]
    },
    {
     "ename": "LoadError",
     "evalue": "IOError: listen: address already in use (EADDRINUSE)",
     "output_type": "error",
     "traceback": [
      "IOError: listen: address already in use (EADDRINUSE)",
      "",
      "Stacktrace:",
      " [1] uv_error",
      "   @ Base .\\libuv.jl:100 [inlined]",
      " [2] #listen#13",
      "   @ Sockets c:\\Julia-1.10.0-rc1\\share\\julia\\stdlib\\v1.10\\Sockets\\src\\Sockets.jl:628 [inlined]",
      " [3] listen",
      "   @ Sockets c:\\Julia-1.10.0-rc1\\share\\julia\\stdlib\\v1.10\\Sockets\\src\\Sockets.jl:627 [inlined]",
      " [4] #listen#10",
      "   @ Sockets c:\\Julia-1.10.0-rc1\\share\\julia\\stdlib\\v1.10\\Sockets\\src\\Sockets.jl:621 [inlined]",
      " [5] listen",
      "   @ Sockets c:\\Julia-1.10.0-rc1\\share\\julia\\stdlib\\v1.10\\Sockets\\src\\Sockets.jl:618 [inlined]",
      " [6] listen",
      "   @ Sockets c:\\Julia-1.10.0-rc1\\share\\julia\\stdlib\\v1.10\\Sockets\\src\\Sockets.jl:625 [inlined]",
      " [7] listen(port::Int64)",
      "   @ Sockets c:\\Julia-1.10.0-rc1\\share\\julia\\stdlib\\v1.10\\Sockets\\src\\Sockets.jl:624",
      " [8] top-level scope",
      "   @ In[44]:3"
     ]
    }
   ],
   "source": [
    "using Sockets\n",
    "println(\"Starting the web server...\")\n",
    "server = Sockets.listen(9992)"
   ]
  },
  {
   "cell_type": "code",
   "execution_count": 45,
   "id": "70a28d67",
   "metadata": {},
   "outputs": [
    {
     "data": {
      "text/plain": [
       "Task (failed) @0x0000029f1b8bb840\n",
       "UndefVarError: `server` not defined\n",
       "Stacktrace:\n",
       " [1] \u001b[0m\u001b[1m(::var\"#7#9\")\u001b[22m\u001b[0m\u001b[1m(\u001b[22m\u001b[0m\u001b[1m)\u001b[22m\n",
       "\u001b[90m   @\u001b[39m \u001b[36mMain\u001b[39m \u001b[90m.\\\u001b[39m\u001b[90m\u001b[4mIn[45]:4\u001b[24m\u001b[39m"
      ]
     },
     "execution_count": 45,
     "metadata": {},
     "output_type": "execute_result"
    }
   ],
   "source": [
    "@async begin\n",
    "    contt = Ref(true)\n",
    "    while contt[]\n",
    "        sock = Sockets.accept(server)\n",
    "        @async begin\n",
    "            data = readline(sock)\n",
    "            print(\"Got request:\\n\", data, \"\\n\")\n",
    "            cmd = split(data, \" \")[2][2:end]\n",
    "            println(sock, \"\\nHTTP/1.1 200 OK\\nContent-Type: text/html\\n\")\n",
    "            contt[] = contt[] && (!occursin(\"stopme\", data))\n",
    "            if contt[]\n",
    "                 println(sock, string(\"<html><body>\", cmd, \"=\", \n",
    "                     eval(Meta.parse(cmd)), \"</body></html>\"))\n",
    "            else\n",
    "                println(sock,\"<html><body>stopping</body></html>\")\n",
    "            end\n",
    "            close(sock)\n",
    "        end\n",
    "    end\n",
    "    println(\"Handling requests stopped\")\n",
    "end"
   ]
  },
  {
   "cell_type": "markdown",
   "id": "e0561254",
   "metadata": {},
   "source": [
    "<a class=\"anchor\" id=\"multithreading\"></a>\n",
    "### Multithreading\n",
    "---- [Return to table of contents](#toc) ---\n"
   ]
  },
  {
   "cell_type": "code",
   "execution_count": 46,
   "id": "a2e3cdd9",
   "metadata": {},
   "outputs": [
    {
     "data": {
      "text/plain": [
       "4"
      ]
     },
     "execution_count": 46,
     "metadata": {},
     "output_type": "execute_result"
    }
   ],
   "source": [
    "Threads.nthreads()"
   ]
  },
  {
   "cell_type": "code",
   "execution_count": 47,
   "id": "61e1d1d1",
   "metadata": {},
   "outputs": [
    {
     "data": {
      "text/plain": [
       "ssum (generic function with 1 method)"
      ]
     },
     "execution_count": 47,
     "metadata": {},
     "output_type": "execute_result"
    }
   ],
   "source": [
    "function ssum(x)\n",
    "    r, c = size(x)\n",
    "    y = zeros(c)\n",
    "    for i in 1:c\n",
    "        for j in 1:r\n",
    "            @inbounds y[i] += x[j, i]\n",
    "        end\n",
    "    end\n",
    "    y\n",
    "end"
   ]
  },
  {
   "cell_type": "code",
   "execution_count": 48,
   "id": "e2a4a2e8",
   "metadata": {},
   "outputs": [
    {
     "data": {
      "text/plain": [
       "tsum (generic function with 1 method)"
      ]
     },
     "execution_count": 48,
     "metadata": {},
     "output_type": "execute_result"
    }
   ],
   "source": [
    "function tsum(x)\n",
    "    r, c = size(x)\n",
    "    y = zeros(c)\n",
    "    Threads.@threads for i in 1:c\n",
    "        for j in 1:r\n",
    "            @inbounds y[i] += x[j, i]\n",
    "        end\n",
    "    end\n",
    "    y\n",
    "end\n"
   ]
  },
  {
   "cell_type": "code",
   "execution_count": 49,
   "id": "2e4ebef5",
   "metadata": {},
   "outputs": [],
   "source": [
    "x = rand(1000,10000);"
   ]
  },
  {
   "cell_type": "code",
   "execution_count": 50,
   "id": "55526866",
   "metadata": {},
   "outputs": [
    {
     "name": "stdout",
     "output_type": "stream",
     "text": [
      "  0.029085 seconds (6.63 k allocations: 533.969 KiB, 56.86% compilation time)\n",
      "  0.011706 seconds (2 allocations: 78.172 KiB)\n"
     ]
    }
   ],
   "source": [
    "@time ssum(x)\n",
    "@time ssum(x);"
   ]
  },
  {
   "cell_type": "code",
   "execution_count": 51,
   "id": "eed39ed8",
   "metadata": {},
   "outputs": [
    {
     "name": "stdout",
     "output_type": "stream",
     "text": [
      "  0.109102 seconds (44.38 k allocations: 3.117 MiB, 132.62% compilation time)\n",
      "  0.005122 seconds (30 allocations: 81.047 KiB)\n"
     ]
    }
   ],
   "source": [
    "@time tsum(x)\n",
    "@time tsum(x);"
   ]
  },
  {
   "cell_type": "markdown",
   "id": "52d9f2a7",
   "metadata": {},
   "source": [
    "#### Locking mechanism for threads"
   ]
  },
  {
   "cell_type": "code",
   "execution_count": 52,
   "id": "5894cc29",
   "metadata": {},
   "outputs": [
    {
     "data": {
      "text/plain": [
       "f_bad (generic function with 1 method)"
      ]
     },
     "execution_count": 52,
     "metadata": {},
     "output_type": "execute_result"
    }
   ],
   "source": [
    "function f_bad()\n",
    "    x = 0\n",
    "    Threads.@threads for i in 1:10^6\n",
    "        x += 1\n",
    "    end\n",
    "    return x\n",
    "end\n"
   ]
  },
  {
   "cell_type": "code",
   "execution_count": 53,
   "id": "a5ed2555",
   "metadata": {},
   "outputs": [
    {
     "data": {
      "text/plain": [
       "250346"
      ]
     },
     "execution_count": 53,
     "metadata": {},
     "output_type": "execute_result"
    }
   ],
   "source": [
    "f_bad()"
   ]
  },
  {
   "cell_type": "code",
   "execution_count": 54,
   "id": "de164cd7",
   "metadata": {},
   "outputs": [
    {
     "name": "stdout",
     "output_type": "stream",
     "text": [
      "  1.400 ns (0 allocations: 0 bytes)\n"
     ]
    },
    {
     "data": {
      "text/plain": [
       "1000000"
      ]
     },
     "execution_count": 54,
     "metadata": {},
     "output_type": "execute_result"
    }
   ],
   "source": [
    "function f_add()\n",
    "    x = 0 \n",
    "    for i in 1:10^6\n",
    "        x += 1\n",
    "    end\n",
    "    x\n",
    "end\n",
    "@btime f_add()\n",
    "    "
   ]
  },
  {
   "cell_type": "code",
   "execution_count": 55,
   "id": "eeb97516",
   "metadata": {},
   "outputs": [
    {
     "data": {
      "text/plain": [
       "1000000"
      ]
     },
     "execution_count": 55,
     "metadata": {},
     "output_type": "execute_result"
    }
   ],
   "source": [
    "function f_atomic()\n",
    "    x = Threads.Atomic{Int}(0)\n",
    "    Threads.@threads for i in 1:10^6\n",
    "        Threads.atomic_add!(x, 1)\n",
    "    end\n",
    "    return x[]\n",
    "end\n",
    "f_atomic()"
   ]
  },
  {
   "cell_type": "code",
   "execution_count": 56,
   "id": "d5359fcc",
   "metadata": {},
   "outputs": [
    {
     "data": {
      "text/plain": [
       "f_reentrant (generic function with 1 method)"
      ]
     },
     "execution_count": 56,
     "metadata": {},
     "output_type": "execute_result"
    }
   ],
   "source": [
    "function f_spin()\n",
    "    l = Threads.SpinLock()\n",
    "    x = 0\n",
    "    Threads.@threads for i in 1:10^6\n",
    "        Threads.lock(l) do\n",
    "            x += 1\n",
    "        end\n",
    "    end\n",
    "    return x\n",
    "end\n",
    "\n",
    "function f_reentrant()\n",
    "    l = ReentrantLock()\n",
    "    x = 0\n",
    "    Threads.@threads for i in 1:10^6\n",
    "        Threads.lock(l) do\n",
    "            x += 1\n",
    "        end\n",
    "    end\n",
    "    return x\n",
    "end\n"
   ]
  },
  {
   "cell_type": "code",
   "execution_count": 57,
   "id": "6c969c44",
   "metadata": {},
   "outputs": [
    {
     "name": "stdout",
     "output_type": "stream",
     "text": [
      "\u001b[1m8×4 DataFrame\u001b[0m\n",
      "\u001b[1m Row \u001b[0m│\u001b[1m f           \u001b[0m\u001b[1m i     \u001b[0m\u001b[1m value   \u001b[0m\u001b[1m timems   \u001b[0m\n",
      "     │\u001b[90m String      \u001b[0m\u001b[90m Int64 \u001b[0m\u001b[90m Int64   \u001b[0m\u001b[90m Float64  \u001b[0m\n",
      "─────┼───────────────────────────────────────\n",
      "   1 │ f_bad            1   251023   35.483\n",
      "   2 │ f_bad            2   252967   35.2314\n",
      "   3 │ f_atomic         1  1000000   20.4998\n",
      "   4 │ f_atomic         2  1000000   18.539\n",
      "   5 │ f_spin           1  1000000  465.34\n",
      "   6 │ f_spin           2  1000000  257.439\n",
      "   7 │ f_reentrant      1  1000000  480.495\n",
      "   8 │ f_reentrant      2  1000000  385.128\n"
     ]
    }
   ],
   "source": [
    "using DataFrames\n",
    "stats = DataFrame()\n",
    "for f in [f_bad, f_atomic, f_spin, f_reentrant]\n",
    "    for i = 1:2\n",
    "        value, elapsedtime  = @timed f()\n",
    "        push!(stats, (f=string(f),i=i, value=value, timems=elapsedtime*1000))\n",
    "    end\n",
    "end\n",
    "println(stats)\n"
   ]
  },
  {
   "cell_type": "markdown",
   "id": "2846c599",
   "metadata": {},
   "source": [
    "<a class=\"anchor\" id=\"multiprocessing\"></a>\n",
    "### Multi-processing and distributed computing\n",
    "---- [Return to table of contents](#toc) ---\n"
   ]
  },
  {
   "cell_type": "code",
   "execution_count": 58,
   "id": "b9e7cf7d",
   "metadata": {},
   "outputs": [],
   "source": [
    "using Distributed"
   ]
  },
  {
   "cell_type": "markdown",
   "id": "caf3b10c",
   "metadata": {},
   "source": [
    "This code adds 4 workers (and avoids adding more)"
   ]
  },
  {
   "cell_type": "code",
   "execution_count": 59,
   "id": "e0626f59",
   "metadata": {},
   "outputs": [],
   "source": [
    "addprocs(max(0, 5-nprocs()));"
   ]
  },
  {
   "cell_type": "code",
   "execution_count": 60,
   "id": "99b678b4",
   "metadata": {
    "scrolled": true
   },
   "outputs": [
    {
     "data": {
      "text/plain": [
       "4-element Vector{Int64}:\n",
       " 2\n",
       " 3\n",
       " 4\n",
       " 5"
      ]
     },
     "execution_count": 60,
     "metadata": {},
     "output_type": "execute_result"
    }
   ],
   "source": [
    "workers()"
   ]
  },
  {
   "cell_type": "code",
   "execution_count": 61,
   "id": "f0ffdc87",
   "metadata": {},
   "outputs": [
    {
     "name": "stdout",
     "output_type": "stream",
     "text": [
      "  0.920285 seconds (20.00 k allocations: 763.397 MiB, 25.61% gc time)\n",
      "  0.725482 seconds (20.00 k allocations: 763.397 MiB, 17.42% gc time)\n"
     ]
    },
    {
     "data": {
      "text/plain": [
       "5000.044150780158"
      ]
     },
     "execution_count": 61,
     "metadata": {},
     "output_type": "execute_result"
    }
   ],
   "source": [
    "function s_rand()\n",
    "    n = 10^4\n",
    "    x = 0.0\n",
    "    for i in 1:n\n",
    "        x += sum(rand(10^4))\n",
    "    end\n",
    "    x / n\n",
    "end\n",
    " \n",
    "@time s_rand()\n",
    "@time s_rand()\n"
   ]
  },
  {
   "cell_type": "code",
   "execution_count": 62,
   "id": "84ede908",
   "metadata": {},
   "outputs": [
    {
     "name": "stdout",
     "output_type": "stream",
     "text": [
      "  1.612347 seconds (463.07 k allocations: 31.114 MiB, 47.33% compilation time)\n",
      "  0.173494 seconds (426 allocations: 24.016 KiB)\n"
     ]
    },
    {
     "data": {
      "text/plain": [
       "4999.3877325494"
      ]
     },
     "execution_count": 62,
     "metadata": {},
     "output_type": "execute_result"
    }
   ],
   "source": [
    "using Distributed\n",
    " \n",
    "function p_rand()\n",
    "    n = 10^4\n",
    "    x = @distributed (+) for i in 1:n\n",
    "        # the last line will be aggregated\n",
    "        sum(rand(10^4))\n",
    "    end\n",
    "    x / n\n",
    "end\n",
    "\n",
    "@time p_rand()\n",
    "@time p_rand()\n"
   ]
  },
  {
   "cell_type": "code",
   "execution_count": 63,
   "id": "5fa09611",
   "metadata": {},
   "outputs": [
    {
     "data": {
      "text/plain": [
       "1×4 adjoint(::Vector{Int64}) with eltype Int64:\n",
       " 2  3  4  5"
      ]
     },
     "execution_count": 63,
     "metadata": {},
     "output_type": "execute_result"
    }
   ],
   "source": [
    "workers()'"
   ]
  },
  {
   "cell_type": "code",
   "execution_count": 64,
   "id": "123009f7",
   "metadata": {},
   "outputs": [
    {
     "data": {
      "text/plain": [
       "7"
      ]
     },
     "execution_count": 64,
     "metadata": {},
     "output_type": "execute_result"
    }
   ],
   "source": [
    "fetch(@spawnat 3 4+3)"
   ]
  },
  {
   "cell_type": "code",
   "execution_count": 65,
   "id": "bf74de87",
   "metadata": {
    "scrolled": true
   },
   "outputs": [
    {
     "name": "stdout",
     "output_type": "stream",
     "text": [
      "I am on worker 1\n"
     ]
    },
    {
     "data": {
      "text/plain": [
       "0.21248315596630618"
      ]
     },
     "execution_count": 65,
     "metadata": {},
     "output_type": "execute_result"
    }
   ],
   "source": [
    "function myf() \n",
    "    println(\"I am on worker \", myid())\n",
    "    rand()\n",
    "end\n",
    "myf()"
   ]
  },
  {
   "cell_type": "code",
   "execution_count": 66,
   "id": "e4599a69",
   "metadata": {
    "scrolled": true
   },
   "outputs": [
    {
     "name": "stdout",
     "output_type": "stream",
     "text": [
      "RemoteException(4, CapturedException(UndefVarError(Symbol(\"#myf\")), Any[(deserialize_datatype at Serialization.jl:1399, 1), (handle_deserialize at Serialization.jl:867, 1), (deserialize at Serialization.jl:814, 1), (handle_deserialize at Serialization.jl:874, 1), (deserialize at Serialization.jl:814 [inlined], 1), (deserialize_global_from_main at clusterserialize.jl:160, 1), (#5 at clusterserialize.jl:72 [inlined], 1), (foreach at abstractarray.jl:3086, 1), (deserialize at clusterserialize.jl:72, 1), (handle_deserialize at Serialization.jl:960, 1), (deserialize at Serialization.jl:814, 1), (handle_deserialize at Serialization.jl:871, 1), (deserialize at Serialization.jl:814, 1), (handle_deserialize at Serialization.jl:874, 1), (deserialize at Serialization.jl:814 [inlined], 1), (deserialize_msg at messages.jl:87, 1), (#invokelatest#2 at essentials.jl:887 [inlined], 1), (invokelatest at essentials.jl:884 [inlined], 1), (message_handler_loop at process_messages.jl:176, 1), (process_tcp_streams at process_messages.jl:133, 1), (#103 at process_messages.jl:121, 1)]))\n"
     ]
    }
   ],
   "source": [
    "a = nothing\n",
    "try \n",
    "    fetch(@spawnat 4 myf())\n",
    "catch e\n",
    "    println(e)\n",
    "end"
   ]
  },
  {
   "cell_type": "code",
   "execution_count": 67,
   "id": "b7658d33",
   "metadata": {},
   "outputs": [
    {
     "name": "stdout",
     "output_type": "stream",
     "text": [
      "      From worker 4:\tI am on worker 4\n"
     ]
    },
    {
     "data": {
      "text/plain": [
       "0.7642915859931477"
      ]
     },
     "execution_count": 67,
     "metadata": {},
     "output_type": "execute_result"
    }
   ],
   "source": [
    "@everywhere function myf() \n",
    "    println(\"I am on worker \", myid())\n",
    "    rand()\n",
    "end\n",
    "fetch(@spawnat 4 myf())"
   ]
  },
  {
   "cell_type": "markdown",
   "id": "5d208b0e",
   "metadata": {},
   "source": [
    "#### A typical pattern for setting an intial state across workers"
   ]
  },
  {
   "cell_type": "code",
   "execution_count": 68,
   "id": "f281840e",
   "metadata": {},
   "outputs": [
    {
     "name": "stdout",
     "output_type": "stream",
     "text": [
      "      From worker 5:\t\u001b[32m\u001b[1m  Activating\u001b[22m\u001b[39m project at `C:\\AAABIBLIOTEKA\\Berkeley`\n",
      "      From worker 2:\t\u001b[32m\u001b[1m  Activating\u001b[22m\u001b[39m project at `C:\\AAABIBLIOTEKA\\Berkeley`\n",
      "      From worker 3:\t\u001b[32m\u001b[1m  Activating\u001b[22m\u001b[39m project at `C:\\AAABIBLIOTEKA\\Berkeley`\n",
      "      From worker 4:\t\u001b[32m\u001b[1m  Activating\u001b[22m\u001b[39m project at `C:\\AAABIBLIOTEKA\\Berkeley`\n"
     ]
    },
    {
     "name": "stderr",
     "output_type": "stream",
     "text": [
      "\u001b[32m\u001b[1m  Activating\u001b[22m\u001b[39m project at `C:\\AAABIBLIOTEKA\\Berkeley`\n"
     ]
    }
   ],
   "source": [
    "using Distributed\n",
    "@everywhere using Pkg\n",
    "@everywhere Pkg.activate(\".\")\n",
    "@everywhere using Distributed, Random, DataFrames\n",
    "\n",
    "@everywhere function calc(x, y)\n",
    "    2x + y\n",
    "end\n",
    "\n",
    "@everywhere function init_worker()    \n",
    "   Random.seed!(myid())\n",
    "    # reading initial data from files or other actions\n",
    "end\n",
    "\n",
    "@sync for wid in workers()\n",
    "    @async fetch(@spawnat wid init_worker())\n",
    "end\n"
   ]
  },
  {
   "cell_type": "markdown",
   "id": "10189162",
   "metadata": {},
   "source": [
    "Typically results are collected to a `DataFrame`"
   ]
  },
  {
   "cell_type": "code",
   "execution_count": 69,
   "id": "c636c081",
   "metadata": {},
   "outputs": [
    {
     "data": {
      "text/html": [
       "<div><div style = \"float: left;\"><span>12×6 DataFrame</span></div><div style = \"clear: both;\"></div></div><div class = \"data-frame\" style = \"overflow-x: scroll;\"><table class = \"data-frame\" style = \"margin-bottom: 6px;\"><thead><tr class = \"header\"><th class = \"rowNumber\" style = \"font-weight: bold; text-align: right;\">Row</th><th style = \"text-align: left;\">i</th><th style = \"text-align: left;\">j</th><th style = \"text-align: left;\">a</th><th style = \"text-align: left;\">b</th><th style = \"text-align: left;\">c</th><th style = \"text-align: left;\">procid</th></tr><tr class = \"subheader headerLastRow\"><th class = \"rowNumber\" style = \"font-weight: bold; text-align: right;\"></th><th title = \"Int64\" style = \"text-align: left;\">Int64</th><th title = \"Int64\" style = \"text-align: left;\">Int64</th><th title = \"Int64\" style = \"text-align: left;\">Int64</th><th title = \"Int64\" style = \"text-align: left;\">Int64</th><th title = \"Int64\" style = \"text-align: left;\">Int64</th><th title = \"Int64\" style = \"text-align: left;\">Int64</th></tr></thead><tbody><tr><td class = \"rowNumber\" style = \"font-weight: bold; text-align: right;\">1</td><td style = \"text-align: right;\">1</td><td style = \"text-align: right;\">1</td><td style = \"text-align: right;\">217</td><td style = \"text-align: right;\">1000</td><td style = \"text-align: right;\">1434</td><td style = \"text-align: right;\">2</td></tr><tr><td class = \"rowNumber\" style = \"font-weight: bold; text-align: right;\">2</td><td style = \"text-align: right;\">2</td><td style = \"text-align: right;\">1</td><td style = \"text-align: right;\">125</td><td style = \"text-align: right;\">6000</td><td style = \"text-align: right;\">6250</td><td style = \"text-align: right;\">2</td></tr><tr><td class = \"rowNumber\" style = \"font-weight: bold; text-align: right;\">3</td><td style = \"text-align: right;\">3</td><td style = \"text-align: right;\">1</td><td style = \"text-align: right;\">39</td><td style = \"text-align: right;\">5000</td><td style = \"text-align: right;\">5078</td><td style = \"text-align: right;\">2</td></tr><tr><td class = \"rowNumber\" style = \"font-weight: bold; text-align: right;\">4</td><td style = \"text-align: right;\">4</td><td style = \"text-align: right;\">1</td><td style = \"text-align: right;\">363</td><td style = \"text-align: right;\">3000</td><td style = \"text-align: right;\">3726</td><td style = \"text-align: right;\">3</td></tr><tr><td class = \"rowNumber\" style = \"font-weight: bold; text-align: right;\">5</td><td style = \"text-align: right;\">1</td><td style = \"text-align: right;\">2</td><td style = \"text-align: right;\">370</td><td style = \"text-align: right;\">6000</td><td style = \"text-align: right;\">6740</td><td style = \"text-align: right;\">3</td></tr><tr><td class = \"rowNumber\" style = \"font-weight: bold; text-align: right;\">6</td><td style = \"text-align: right;\">2</td><td style = \"text-align: right;\">2</td><td style = \"text-align: right;\">32</td><td style = \"text-align: right;\">2000</td><td style = \"text-align: right;\">2064</td><td style = \"text-align: right;\">3</td></tr><tr><td class = \"rowNumber\" style = \"font-weight: bold; text-align: right;\">7</td><td style = \"text-align: right;\">3</td><td style = \"text-align: right;\">2</td><td style = \"text-align: right;\">76</td><td style = \"text-align: right;\">4000</td><td style = \"text-align: right;\">4152</td><td style = \"text-align: right;\">4</td></tr><tr><td class = \"rowNumber\" style = \"font-weight: bold; text-align: right;\">8</td><td style = \"text-align: right;\">4</td><td style = \"text-align: right;\">2</td><td style = \"text-align: right;\">82</td><td style = \"text-align: right;\">8000</td><td style = \"text-align: right;\">8164</td><td style = \"text-align: right;\">4</td></tr><tr><td class = \"rowNumber\" style = \"font-weight: bold; text-align: right;\">9</td><td style = \"text-align: right;\">1</td><td style = \"text-align: right;\">3</td><td style = \"text-align: right;\">441</td><td style = \"text-align: right;\">4000</td><td style = \"text-align: right;\">4882</td><td style = \"text-align: right;\">4</td></tr><tr><td class = \"rowNumber\" style = \"font-weight: bold; text-align: right;\">10</td><td style = \"text-align: right;\">2</td><td style = \"text-align: right;\">3</td><td style = \"text-align: right;\">201</td><td style = \"text-align: right;\">3000</td><td style = \"text-align: right;\">3402</td><td style = \"text-align: right;\">5</td></tr><tr><td class = \"rowNumber\" style = \"font-weight: bold; text-align: right;\">11</td><td style = \"text-align: right;\">3</td><td style = \"text-align: right;\">3</td><td style = \"text-align: right;\">72</td><td style = \"text-align: right;\">4000</td><td style = \"text-align: right;\">4144</td><td style = \"text-align: right;\">5</td></tr><tr><td class = \"rowNumber\" style = \"font-weight: bold; text-align: right;\">12</td><td style = \"text-align: right;\">4</td><td style = \"text-align: right;\">3</td><td style = \"text-align: right;\">153</td><td style = \"text-align: right;\">7000</td><td style = \"text-align: right;\">7306</td><td style = \"text-align: right;\">5</td></tr></tbody></table></div>"
      ],
      "text/latex": [
       "\\begin{tabular}{r|cccccc}\n",
       "\t& i & j & a & b & c & procid\\\\\n",
       "\t\\hline\n",
       "\t& Int64 & Int64 & Int64 & Int64 & Int64 & Int64\\\\\n",
       "\t\\hline\n",
       "\t1 & 1 & 1 & 217 & 1000 & 1434 & 2 \\\\\n",
       "\t2 & 2 & 1 & 125 & 6000 & 6250 & 2 \\\\\n",
       "\t3 & 3 & 1 & 39 & 5000 & 5078 & 2 \\\\\n",
       "\t4 & 4 & 1 & 363 & 3000 & 3726 & 3 \\\\\n",
       "\t5 & 1 & 2 & 370 & 6000 & 6740 & 3 \\\\\n",
       "\t6 & 2 & 2 & 32 & 2000 & 2064 & 3 \\\\\n",
       "\t7 & 3 & 2 & 76 & 4000 & 4152 & 4 \\\\\n",
       "\t8 & 4 & 2 & 82 & 8000 & 8164 & 4 \\\\\n",
       "\t9 & 1 & 3 & 441 & 4000 & 4882 & 4 \\\\\n",
       "\t10 & 2 & 3 & 201 & 3000 & 3402 & 5 \\\\\n",
       "\t11 & 3 & 3 & 72 & 4000 & 4144 & 5 \\\\\n",
       "\t12 & 4 & 3 & 153 & 7000 & 7306 & 5 \\\\\n",
       "\\end{tabular}\n"
      ],
      "text/plain": [
       "\u001b[1m12×6 DataFrame\u001b[0m\n",
       "\u001b[1m Row \u001b[0m│\u001b[1m i     \u001b[0m\u001b[1m j     \u001b[0m\u001b[1m a     \u001b[0m\u001b[1m b     \u001b[0m\u001b[1m c     \u001b[0m\u001b[1m procid \u001b[0m\n",
       "     │\u001b[90m Int64 \u001b[0m\u001b[90m Int64 \u001b[0m\u001b[90m Int64 \u001b[0m\u001b[90m Int64 \u001b[0m\u001b[90m Int64 \u001b[0m\u001b[90m Int64  \u001b[0m\n",
       "─────┼───────────────────────────────────────────\n",
       "   1 │     1      1    217   1000   1434       2\n",
       "   2 │     2      1    125   6000   6250       2\n",
       "   3 │     3      1     39   5000   5078       2\n",
       "   4 │     4      1    363   3000   3726       3\n",
       "   5 │     1      2    370   6000   6740       3\n",
       "   6 │     2      2     32   2000   2064       3\n",
       "   7 │     3      2     76   4000   4152       4\n",
       "   8 │     4      2     82   8000   8164       4\n",
       "   9 │     1      3    441   4000   4882       4\n",
       "  10 │     2      3    201   3000   3402       5\n",
       "  11 │     3      3     72   4000   4144       5\n",
       "  12 │     4      3    153   7000   7306       5"
      ]
     },
     "execution_count": 69,
     "metadata": {},
     "output_type": "execute_result"
    }
   ],
   "source": [
    "data = @distributed (append!) for (i, j) = vec(collect(Iterators.product(1:4, 1:3)))\n",
    "    a = rand(1:499)\n",
    "    b = rand(1:9)*1000\n",
    "    c = calc(a, b)\n",
    "    DataFrame(;i,j,a,b,c,procid = myid())\n",
    "end"
   ]
  }
 ],
 "metadata": {
  "kernelspec": {
   "display_name": "Julia 1.10.0",
   "language": "julia",
   "name": "julia-1.10"
  },
  "language_info": {
   "file_extension": ".jl",
   "mimetype": "application/julia",
   "name": "julia",
   "version": "1.10.0"
  }
 },
 "nbformat": 4,
 "nbformat_minor": 5
}
